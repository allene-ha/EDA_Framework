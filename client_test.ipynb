{
 "cells": [
  {
   "cell_type": "code",
   "execution_count": 53,
   "metadata": {},
   "outputs": [
    {
     "name": "stdout",
     "output_type": "stream",
     "text": [
      "Configuration data sent successfully.\n"
     ]
    }
   ],
   "source": [
    "import requests\n",
    "\n",
    "def connect_db(db_type='postgres', host='eda-client', database='test_cli', user='postgres', password='postgres', port='5432', interval ='10'):\n",
    "\n",
    "    url = \"http://eda:80/config\"\n",
    "    config = {'db_type': db_type,\n",
    "              'db_host': host,\n",
    "              'db_name':database,\n",
    "              'db_user':user,\n",
    "              'db_password':password,\n",
    "              'db_port':port,\n",
    "              'interval':interval}\n",
    "\n",
    "    response = requests.post(url, json=config)\n",
    "    # Check the response status code\n",
    "    if response.status_code == 200:\n",
    "        print(\"Configuration data sent successfully.\")\n",
    "    else:\n",
    "        print(f\"Error sending configuration data. Status code: {response.status_code}\")\n",
    "\n",
    "\n",
    "\n",
    "connect_db(db_type='postgres', host='eda-client', database='test_cli', user='postgres', password='postgres', port='5432', interval=10)"
   ]
  },
  {
   "cell_type": "code",
   "execution_count": null,
   "metadata": {},
   "outputs": [],
   "source": []
  }
 ],
 "metadata": {
  "interpreter": {
   "hash": "31f2aee4e71d21fbe5cf8b01ff0e069b9275f58929596ceb00d14d90e3e16cd6"
  },
  "kernelspec": {
   "display_name": "Python 3.8.10 64-bit",
   "language": "python",
   "name": "python3"
  },
  "language_info": {
   "codemirror_mode": {
    "name": "ipython",
    "version": 3
   },
   "file_extension": ".py",
   "mimetype": "text/x-python",
   "name": "python",
   "nbconvert_exporter": "python",
   "pygments_lexer": "ipython3",
   "version": "3.8.10"
  },
  "orig_nbformat": 4
 },
 "nbformat": 4,
 "nbformat_minor": 2
}

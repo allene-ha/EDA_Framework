{
 "cells": [
  {
   "cell_type": "code",
   "execution_count": 11,
   "metadata": {
    "tags": []
   },
   "outputs": [
    {
     "name": "stdout",
     "output_type": "stream",
     "text": [
      "Configuration data sent successfully.\n"
     ]
    }
   ],
   "source": [
    "from client_side import *\n",
    "\n",
    "config = connect_db(db_type='postgres', host='dbeda-client', database='test_cli', user='postgres', password='postgres', port='5432', interval=10)"
   ]
  },
  {
   "cell_type": "code",
   "execution_count": 70,
   "metadata": {
    "tags": []
   },
   "outputs": [
    {
     "name": "stdout",
     "output_type": "stream",
     "text": [
      "query_performance_data {'db_type': 'postgres', 'db_host': 'eda-client', 'db_name': 'test_cli', 'db_user': 'postgres', 'db_password': 'postgres', 'db_port': '5432', 'interval': 10}\n",
      "{'table': 'os_metric', 'metric': 'cpu_percent', 'recent_time_window': '1 day', 'task': 'load prediction', 'config': {'db_type': 'postgres', 'db_host': 'eda-client', 'db_name': 'test_cli', 'db_user': 'postgres', 'db_password': 'postgres', 'db_port': '5432', 'interval': 10}}\n"
     ]
    },
    {
     "data": {
      "text/html": [
       "<div>\n",
       "<style scoped>\n",
       "    .dataframe tbody tr th:only-of-type {\n",
       "        vertical-align: middle;\n",
       "    }\n",
       "\n",
       "    .dataframe tbody tr th {\n",
       "        vertical-align: top;\n",
       "    }\n",
       "\n",
       "    .dataframe thead th {\n",
       "        text-align: right;\n",
       "    }\n",
       "</style>\n",
       "<table border=\"1\" class=\"dataframe\">\n",
       "  <thead>\n",
       "    <tr style=\"text-align: right;\">\n",
       "      <th></th>\n",
       "      <th>timestamp</th>\n",
       "      <th>predicted</th>\n",
       "    </tr>\n",
       "  </thead>\n",
       "  <tbody>\n",
       "    <tr>\n",
       "      <th>0</th>\n",
       "      <td>2023-05-19 05:08:30</td>\n",
       "      <td>4.286743</td>\n",
       "    </tr>\n",
       "    <tr>\n",
       "      <th>1</th>\n",
       "      <td>2023-05-19 05:08:40</td>\n",
       "      <td>4.284088</td>\n",
       "    </tr>\n",
       "    <tr>\n",
       "      <th>2</th>\n",
       "      <td>2023-05-19 05:08:50</td>\n",
       "      <td>4.284088</td>\n",
       "    </tr>\n",
       "    <tr>\n",
       "      <th>3</th>\n",
       "      <td>2023-05-19 05:09:00</td>\n",
       "      <td>4.284088</td>\n",
       "    </tr>\n",
       "    <tr>\n",
       "      <th>4</th>\n",
       "      <td>2023-05-19 05:09:10</td>\n",
       "      <td>4.284088</td>\n",
       "    </tr>\n",
       "    <tr>\n",
       "      <th>...</th>\n",
       "      <td>...</td>\n",
       "      <td>...</td>\n",
       "    </tr>\n",
       "    <tr>\n",
       "      <th>175</th>\n",
       "      <td>2023-05-19 05:37:40</td>\n",
       "      <td>4.284088</td>\n",
       "    </tr>\n",
       "    <tr>\n",
       "      <th>176</th>\n",
       "      <td>2023-05-19 05:37:50</td>\n",
       "      <td>4.284088</td>\n",
       "    </tr>\n",
       "    <tr>\n",
       "      <th>177</th>\n",
       "      <td>2023-05-19 05:38:00</td>\n",
       "      <td>4.284088</td>\n",
       "    </tr>\n",
       "    <tr>\n",
       "      <th>178</th>\n",
       "      <td>2023-05-19 05:38:10</td>\n",
       "      <td>4.284088</td>\n",
       "    </tr>\n",
       "    <tr>\n",
       "      <th>179</th>\n",
       "      <td>2023-05-19 05:38:20</td>\n",
       "      <td>4.284088</td>\n",
       "    </tr>\n",
       "  </tbody>\n",
       "</table>\n",
       "<p>180 rows × 2 columns</p>\n",
       "</div>"
      ],
      "text/plain": [
       "               timestamp  predicted\n",
       "0    2023-05-19 05:08:30   4.286743\n",
       "1    2023-05-19 05:08:40   4.284088\n",
       "2    2023-05-19 05:08:50   4.284088\n",
       "3    2023-05-19 05:09:00   4.284088\n",
       "4    2023-05-19 05:09:10   4.284088\n",
       "..                   ...        ...\n",
       "175  2023-05-19 05:37:40   4.284088\n",
       "176  2023-05-19 05:37:50   4.284088\n",
       "177  2023-05-19 05:38:00   4.284088\n",
       "178  2023-05-19 05:38:10   4.284088\n",
       "179  2023-05-19 05:38:20   4.284088\n",
       "\n",
       "[180 rows x 2 columns]"
      ]
     },
     "execution_count": 70,
     "metadata": {},
     "output_type": "execute_result"
    }
   ],
   "source": [
    "#load prediction 데이터 잘 저장되고 잘 불러왓는지 테스트\n",
    "\n",
    "\n",
    "data = query_performance_data(config, table='os_metric', metrics='cpu_percent', task='load prediction', recent_time_window='1 day')\n",
    "df = pd.DataFrame(data['task'])\n",
    "\n",
    "df"
   ]
  },
  {
   "cell_type": "code",
   "execution_count": 133,
   "metadata": {
    "tags": []
   },
   "outputs": [
    {
     "data": {},
     "metadata": {},
     "output_type": "display_data"
    },
    {
     "data": {
      "application/vnd.holoviews_exec.v0+json": "",
      "text/html": [
       "<div id='54750'>\n",
       "  <div class=\"bk-root\" id=\"aa9ec387-d6c3-4788-8cdb-21ce2e4e17d3\" data-root-id=\"54750\"></div>\n",
       "</div>\n",
       "<script type=\"application/javascript\">(function(root) {\n",
       "  function embed_document(root) {\n",
       "    var docs_json = {\"82c333ec-3556-44f1-86ef-4bc031724bf4\":{\"defs\":[{\"extends\":null,\"module\":null,\"name\":\"ReactiveHTML1\",\"overrides\":[],\"properties\":[]},{\"extends\":null,\"module\":null,\"name\":\"FlexBox1\",\"overrides\":[],\"properties\":[{\"default\":\"flex-start\",\"kind\":null,\"name\":\"align_content\"},{\"default\":\"flex-start\",\"kind\":null,\"name\":\"align_items\"},{\"default\":\"row\",\"kind\":null,\"name\":\"flex_direction\"},{\"default\":\"wrap\",\"kind\":null,\"name\":\"flex_wrap\"},{\"default\":\"flex-start\",\"kind\":null,\"name\":\"justify_content\"}]},{\"extends\":null,\"module\":null,\"name\":\"GridStack1\",\"overrides\":[],\"properties\":[{\"default\":\"warn\",\"kind\":null,\"name\":\"mode\"},{\"default\":null,\"kind\":null,\"name\":\"ncols\"},{\"default\":null,\"kind\":null,\"name\":\"nrows\"},{\"default\":true,\"kind\":null,\"name\":\"allow_resize\"},{\"default\":true,\"kind\":null,\"name\":\"allow_drag\"},{\"default\":[],\"kind\":null,\"name\":\"state\"}]},{\"extends\":null,\"module\":null,\"name\":\"click1\",\"overrides\":[],\"properties\":[{\"default\":\"\",\"kind\":null,\"name\":\"terminal_output\"},{\"default\":\"\",\"kind\":null,\"name\":\"debug_name\"},{\"default\":0,\"kind\":null,\"name\":\"clears\"}]},{\"extends\":null,\"module\":null,\"name\":\"NotificationAreaBase1\",\"overrides\":[],\"properties\":[{\"default\":\"bottom-right\",\"kind\":null,\"name\":\"position\"},{\"default\":0,\"kind\":null,\"name\":\"_clear\"}]},{\"extends\":null,\"module\":null,\"name\":\"NotificationArea1\",\"overrides\":[],\"properties\":[{\"default\":[],\"kind\":null,\"name\":\"notifications\"},{\"default\":\"bottom-right\",\"kind\":null,\"name\":\"position\"},{\"default\":0,\"kind\":null,\"name\":\"_clear\"},{\"default\":[{\"background\":\"#ffc107\",\"icon\":{\"className\":\"fas fa-exclamation-triangle\",\"color\":\"white\",\"tagName\":\"i\"},\"type\":\"warning\"},{\"background\":\"#007bff\",\"icon\":{\"className\":\"fas fa-info-circle\",\"color\":\"white\",\"tagName\":\"i\"},\"type\":\"info\"}],\"kind\":null,\"name\":\"types\"}]},{\"extends\":null,\"module\":null,\"name\":\"Notification\",\"overrides\":[],\"properties\":[{\"default\":null,\"kind\":null,\"name\":\"background\"},{\"default\":3000,\"kind\":null,\"name\":\"duration\"},{\"default\":null,\"kind\":null,\"name\":\"icon\"},{\"default\":\"\",\"kind\":null,\"name\":\"message\"},{\"default\":null,\"kind\":null,\"name\":\"notification_type\"},{\"default\":false,\"kind\":null,\"name\":\"_destroyed\"}]},{\"extends\":null,\"module\":null,\"name\":\"TemplateActions1\",\"overrides\":[],\"properties\":[{\"default\":0,\"kind\":null,\"name\":\"open_modal\"},{\"default\":0,\"kind\":null,\"name\":\"close_modal\"}]},{\"extends\":null,\"module\":null,\"name\":\"MaterialTemplateActions1\",\"overrides\":[],\"properties\":[{\"default\":0,\"kind\":null,\"name\":\"open_modal\"},{\"default\":0,\"kind\":null,\"name\":\"close_modal\"}]}],\"roots\":{\"references\":[{\"attributes\":{\"data\":{\"column\":[\"longest_query_time_sec\",\"num_wait_sessions\",\"oldest_backend_time_sec\",\"timestamp\",\"longest_transaction_time_sec\",\"num_sessions\",\"dbid\"],\"index\":[\"103\",\"104\",\"105\",\"106\",\"107\",\"108\",\"109\"],\"key\":[false,false,false,false,false,false,false],\"type\":[\"numeric\",\"numeric\",\"numeric\",\"timestamp without time zone\",\"numeric\",\"numeric\",\"character varying\"]},\"selected\":{\"id\":\"54942\"},\"selection_policy\":{\"id\":\"55097\"}},\"id\":\"54941\",\"type\":\"ColumnDataSource\"},{\"attributes\":{},\"id\":\"54852\",\"type\":\"StringEditor\"},{\"attributes\":{},\"id\":\"54851\",\"type\":\"StringFormatter\"},{\"attributes\":{\"editor\":{\"id\":\"54793\"},\"field\":\"key\",\"formatter\":{\"id\":\"54794\"},\"title\":\"key\",\"width\":0},\"id\":\"54795\",\"type\":\"TableColumn\"},{\"attributes\":{\"indices\":[]},\"id\":\"54850\",\"type\":\"Selection\"},{\"attributes\":{},\"id\":\"54880\",\"type\":\"StringEditor\"},{\"attributes\":{\"children\":[{\"id\":\"55076\"},{\"id\":\"55077\"}],\"margin\":[0,0,0,0],\"name\":\"Row05169\",\"sizing_mode\":\"stretch_width\"},\"id\":\"55075\",\"type\":\"Row\"},{\"attributes\":{\"icon\":\"check-circle-o\"},\"id\":\"54886\",\"type\":\"BooleanFormatter\"},{\"attributes\":{\"indices\":[]},\"id\":\"54942\",\"type\":\"Selection\"},{\"attributes\":{\"children\":[{\"id\":\"55074\"}],\"css_classes\":[\"card-header-row\"],\"margin\":[0,0,0,0],\"name\":\"Row05170\",\"sizing_mode\":\"stretch_width\"},\"id\":\"55073\",\"type\":\"Row\"},{\"attributes\":{\"columns\":[{\"id\":\"54945\"},{\"id\":\"54950\"},{\"id\":\"54956\"}],\"configuration\":{\"columns\":[{\"field\":\"column\"},{\"field\":\"type\"},{\"field\":\"key\",\"sorter\":\"boolean\"}],\"dataTree\":false,\"selectable\":true},\"layout\":\"fit_data_table\",\"margin\":[5,10,5,10],\"name\":\"<i class='fa fa-table'></i> Sessions\",\"page\":1,\"page_size\":20,\"select_mode\":true,\"selectable_rows\":null,\"sizing_mode\":\"stretch_width\",\"source\":{\"id\":\"54941\"},\"styles\":{\"data\":{},\"id\":\"de5b39bd138047dda9f828ab04d9a05c\"},\"subscribed_events\":[\"cell-click\",\"table-edit\"],\"theme_url\":\"https://cdn.jsdelivr.net/npm/@holoviz/panel@0.14.4/dist/bundled/datatabulator/tabulator-tables@5.3.2/dist/css/\"},\"id\":\"54959\",\"type\":\"panel.models.tabulator.DataTabulator\"},{\"attributes\":{\"editor\":{\"id\":\"54875\"},\"field\":\"column\",\"formatter\":{\"id\":\"54874\"},\"title\":\"column\",\"width\":0},\"id\":\"54876\",\"type\":\"TableColumn\"},{\"attributes\":{\"css_classes\":[\"card-title\"],\"margin\":[5,0,5,0],\"name\":\"HTML05172\",\"sizing_mode\":\"stretch_width\",\"text\":\"Split\"},\"id\":\"55074\",\"type\":\"panel.models.markup.HTML\"},{\"attributes\":{},\"id\":\"54828\",\"type\":\"StringFormatter\"},{\"attributes\":{},\"id\":\"55103\",\"type\":\"UnionRenderers\"},{\"attributes\":{\"margin\":[5,10,5,10],\"min_width\":300,\"options\":[\"None\",\"column\",\"row\",\"tab\"],\"title\":\"Split\",\"value\":\"None\",\"width\":300},\"id\":\"55076\",\"type\":\"panel.models.widgets.CustomSelect\"},{\"attributes\":{\"editor\":{\"id\":\"54880\"},\"field\":\"type\",\"formatter\":{\"id\":\"54879\"},\"title\":\"type\",\"width\":0},\"id\":\"54881\",\"type\":\"TableColumn\"},{\"attributes\":{},\"id\":\"54966\",\"type\":\"StringFormatter\"},{\"attributes\":{},\"id\":\"54967\",\"type\":\"StringEditor\"},{\"attributes\":{},\"id\":\"55093\",\"type\":\"UnionRenderers\"},{\"attributes\":{\"editor\":{\"id\":\"54967\"},\"field\":\"column\",\"formatter\":{\"id\":\"54966\"},\"title\":\"column\",\"width\":0},\"id\":\"54968\",\"type\":\"TableColumn\"},{\"attributes\":{\"children\":[{\"id\":\"54940\"}],\"css_classes\":[\"card-header-row\"],\"margin\":[0,0,0,0],\"name\":\"Row05214\",\"sizing_mode\":\"stretch_width\"},\"id\":\"54939\",\"type\":\"Row\"},{\"attributes\":{},\"id\":\"54943\",\"type\":\"StringFormatter\"},{\"attributes\":{},\"id\":\"54971\",\"type\":\"StringFormatter\"},{\"attributes\":{},\"id\":\"54944\",\"type\":\"StringEditor\"},{\"attributes\":{},\"id\":\"54972\",\"type\":\"StringEditor\"},{\"attributes\":{\"editor\":{\"id\":\"54944\"},\"field\":\"column\",\"formatter\":{\"id\":\"54943\"},\"title\":\"column\",\"width\":0},\"id\":\"54945\",\"type\":\"TableColumn\"},{\"attributes\":{\"editor\":{\"id\":\"54972\"},\"field\":\"type\",\"formatter\":{\"id\":\"54971\"},\"title\":\"type\",\"width\":0},\"id\":\"54973\",\"type\":\"TableColumn\"},{\"attributes\":{\"margin\":[5,10,5,10],\"min_width\":300,\"title\":\"Split basis\",\"width\":300},\"id\":\"55077\",\"type\":\"panel.models.widgets.CustomSelect\"},{\"attributes\":{},\"id\":\"55105\",\"type\":\"UnionRenderers\"},{\"attributes\":{\"children\":[{\"id\":\"55079\"},{\"id\":\"55080\"}],\"margin\":[0,0,0,0],\"name\":\"Row05176\",\"sizing_mode\":\"stretch_width\"},\"id\":\"55078\",\"type\":\"Row\"},{\"attributes\":{},\"id\":\"54948\",\"type\":\"StringFormatter\"},{\"attributes\":{\"icon\":null,\"label\":\"Draw\",\"margin\":[5,10,5,10],\"min_width\":100,\"subscribed_events\":[\"button_click\"],\"width\":100},\"id\":\"55079\",\"type\":\"Button\"},{\"attributes\":{},\"id\":\"55095\",\"type\":\"UnionRenderers\"},{\"attributes\":{},\"id\":\"54949\",\"type\":\"StringEditor\"},{\"attributes\":{\"icon\":\"check-circle-o\"},\"id\":\"54794\",\"type\":\"BooleanFormatter\"},{\"attributes\":{\"icon\":\"check-circle-o\"},\"id\":\"54978\",\"type\":\"BooleanFormatter\"},{\"attributes\":{\"icon\":null,\"label\":\"Clean\",\"margin\":[5,10,5,10],\"min_width\":100,\"subscribed_events\":[\"button_click\"],\"width\":100},\"id\":\"55080\",\"type\":\"Button\"},{\"attributes\":{\"editor\":{\"id\":\"54949\"},\"field\":\"type\",\"formatter\":{\"id\":\"54948\"},\"title\":\"type\",\"width\":0},\"id\":\"54950\",\"type\":\"TableColumn\"},{\"attributes\":{},\"id\":\"54977\",\"type\":\"CheckboxEditor\"},{\"attributes\":{\"editor\":{\"id\":\"54977\"},\"field\":\"key\",\"formatter\":{\"id\":\"54978\"},\"title\":\"key\",\"width\":0},\"id\":\"54979\",\"type\":\"TableColumn\"},{\"attributes\":{},\"id\":\"54879\",\"type\":\"StringFormatter\"},{\"attributes\":{\"css_classes\":[\"card-title\"],\"margin\":[5,0,5,0],\"name\":\"HTML05192\",\"sizing_mode\":\"stretch_width\",\"text\":\"&lt;i class=&#x27;fa fa-table&#x27;&gt;&lt;/i&gt; Bgwriter\"},\"id\":\"54802\",\"type\":\"panel.models.markup.HTML\"},{\"attributes\":{},\"id\":\"54788\",\"type\":\"StringEditor\"},{\"attributes\":{\"indices\":[]},\"id\":\"55011\",\"type\":\"Selection\"},{\"attributes\":{\"icon\":\"check-circle-o\"},\"id\":\"54955\",\"type\":\"BooleanFormatter\"},{\"attributes\":{},\"id\":\"54954\",\"type\":\"CheckboxEditor\"},{\"attributes\":{\"editor\":{\"id\":\"54954\"},\"field\":\"key\",\"formatter\":{\"id\":\"54955\"},\"title\":\"key\",\"width\":0},\"id\":\"54956\",\"type\":\"TableColumn\"},{\"attributes\":{},\"id\":\"54829\",\"type\":\"StringEditor\"},{\"attributes\":{\"css_classes\":[\"markdown\"],\"margin\":[5,5,5,5],\"name\":\"Markdown05177\",\"sizing_mode\":\"stretch_width\",\"text\":\"&lt;h3&gt;Visualization Widgets&lt;/h3&gt;\"},\"id\":\"55054\",\"type\":\"panel.models.markup.HTML\"},{\"attributes\":{},\"id\":\"54793\",\"type\":\"CheckboxEditor\"},{\"attributes\":{},\"id\":\"55097\",\"type\":\"UnionRenderers\"},{\"attributes\":{},\"id\":\"54885\",\"type\":\"CheckboxEditor\"},{\"attributes\":{\"editor\":{\"id\":\"54885\"},\"field\":\"key\",\"formatter\":{\"id\":\"54886\"},\"title\":\"key\",\"width\":0},\"id\":\"54887\",\"type\":\"TableColumn\"},{\"attributes\":{\"columns\":[{\"id\":\"54876\"},{\"id\":\"54881\"},{\"id\":\"54887\"}],\"configuration\":{\"columns\":[{\"field\":\"column\"},{\"field\":\"type\"},{\"field\":\"key\",\"sorter\":\"boolean\"}],\"dataTree\":false,\"selectable\":true},\"layout\":\"fit_data_table\",\"margin\":[5,10,5,10],\"name\":\"<i class='fa fa-table'></i> Query statistics\",\"page\":1,\"page_size\":20,\"select_mode\":true,\"selectable_rows\":null,\"sizing_mode\":\"stretch_width\",\"source\":{\"id\":\"54872\"},\"styles\":{\"data\":{},\"id\":\"0cd6c6ae8e5a4de38b6fa0ec63ae1a51\"},\"subscribed_events\":[\"cell-click\",\"table-edit\"],\"theme_url\":\"https://cdn.jsdelivr.net/npm/@holoviz/panel@0.14.4/dist/bundled/datatabulator/tabulator-tables@5.3.2/dist/css/\"},\"id\":\"54890\",\"type\":\"panel.models.tabulator.DataTabulator\"},{\"attributes\":{\"indices\":[]},\"id\":\"55034\",\"type\":\"Selection\"},{\"attributes\":{\"active_header_background\":\"#ccc\",\"button_css_classes\":[\"card-button\"],\"children\":[{\"id\":\"55031\"},{\"id\":\"55051\"}],\"css_classes\":[\"accordion\"],\"header_background\":\"\",\"header_color\":\"\",\"header_css_classes\":[\"accordion-header\"],\"margin\":[0,5,5,5],\"name\":\"Card05231\",\"sizing_mode\":\"stretch_width\"},\"id\":\"55030\",\"type\":\"panel.models.layout.Card\"},{\"attributes\":{\"columns\":[{\"id\":\"54968\"},{\"id\":\"54973\"},{\"id\":\"54979\"}],\"configuration\":{\"columns\":[{\"field\":\"column\"},{\"field\":\"type\"},{\"field\":\"key\",\"sorter\":\"boolean\"}],\"dataTree\":false,\"selectable\":true},\"layout\":\"fit_data_table\",\"margin\":[5,10,5,10],\"name\":\"<i class='fa fa-table'></i> Active sessions\",\"page\":1,\"page_size\":20,\"select_mode\":true,\"selectable_rows\":null,\"sizing_mode\":\"stretch_width\",\"source\":{\"id\":\"54964\"},\"styles\":{\"data\":{},\"id\":\"303d372dab704ab8b25b27f612c7fb8e\"},\"subscribed_events\":[\"cell-click\",\"table-edit\"],\"theme_url\":\"https://cdn.jsdelivr.net/npm/@holoviz/panel@0.14.4/dist/bundled/datatabulator/tabulator-tables@5.3.2/dist/css/\"},\"id\":\"54982\",\"type\":\"panel.models.tabulator.DataTabulator\"},{\"attributes\":{\"children\":[{\"id\":\"54802\"}],\"css_classes\":[\"card-header-row\"],\"margin\":[0,0,0,0],\"name\":\"Row05190\",\"sizing_mode\":\"stretch_width\"},\"id\":\"54801\",\"type\":\"Row\"},{\"attributes\":{\"data\":{\"column\":[\"confl_deadlock\",\"confl_bufferpin\",\"timestamp\",\"datid\",\"confl_tablespace\",\"confl_lock\",\"confl_snapshot\",\"dbid\",\"datname\"],\"index\":[\"50\",\"51\",\"52\",\"53\",\"54\",\"55\",\"56\",\"57\",\"58\"],\"key\":[false,false,false,false,false,false,false,false,false],\"type\":[\"numeric\",\"numeric\",\"timestamp without time zone\",\"integer\",\"numeric\",\"numeric\",\"numeric\",\"character varying\",\"character varying\"]},\"selected\":{\"id\":\"54850\"},\"selection_policy\":{\"id\":\"55089\"}},\"id\":\"54849\",\"type\":\"ColumnDataSource\"},{\"attributes\":{\"editor\":{\"id\":\"54829\"},\"field\":\"column\",\"formatter\":{\"id\":\"54828\"},\"title\":\"column\",\"width\":0},\"id\":\"54830\",\"type\":\"TableColumn\"},{\"attributes\":{\"children\":[{\"id\":\"55032\"}],\"css_classes\":[\"card-header-row\"],\"margin\":[0,0,0,0],\"name\":\"Row05230\",\"sizing_mode\":\"stretch_width\"},\"id\":\"55031\",\"type\":\"Row\"},{\"attributes\":{\"css_classes\":[\"card-title\"],\"margin\":[5,0,5,0],\"name\":\"HTML05204\",\"sizing_mode\":\"stretch_width\",\"text\":\"&lt;i class=&#x27;fa fa-table&#x27;&gt;&lt;/i&gt; Query statistics\"},\"id\":\"54871\",\"type\":\"panel.models.markup.HTML\"},{\"attributes\":{\"active_header_background\":\"#ccc\",\"button_css_classes\":[\"card-button\"],\"children\":[{\"id\":\"54893\"},{\"id\":\"54913\"}],\"css_classes\":[\"accordion\"],\"header_background\":\"\",\"header_color\":\"\",\"header_css_classes\":[\"accordion-header\"],\"margin\":[0,5,0,5],\"name\":\"Card05207\",\"sizing_mode\":\"stretch_width\"},\"id\":\"54892\",\"type\":\"panel.models.layout.Card\"},{\"attributes\":{\"active_header_background\":\"#ccc\",\"button_css_classes\":[\"card-button\"],\"children\":[{\"id\":\"54870\"},{\"id\":\"54890\"}],\"css_classes\":[\"accordion\"],\"header_background\":\"\",\"header_color\":\"\",\"header_css_classes\":[\"accordion-header\"],\"margin\":[0,5,0,5],\"name\":\"Card05203\",\"sizing_mode\":\"stretch_width\"},\"id\":\"54869\",\"type\":\"panel.models.layout.Card\"},{\"attributes\":{\"css_classes\":[\"card-title\"],\"margin\":[5,0,5,0],\"name\":\"HTML05232\",\"sizing_mode\":\"stretch_width\",\"text\":\"&lt;i class=&#x27;fa fa-table&#x27;&gt;&lt;/i&gt; Anomaly scorer\"},\"id\":\"55032\",\"type\":\"panel.models.markup.HTML\"},{\"attributes\":{\"indices\":[]},\"id\":\"54873\",\"type\":\"Selection\"},{\"attributes\":{},\"id\":\"55099\",\"type\":\"UnionRenderers\"},{\"attributes\":{\"columns\":[{\"id\":\"55037\"},{\"id\":\"55042\"},{\"id\":\"55048\"}],\"configuration\":{\"columns\":[{\"field\":\"column\"},{\"field\":\"type\"},{\"field\":\"key\",\"sorter\":\"boolean\"}],\"dataTree\":false,\"selectable\":true},\"layout\":\"fit_data_table\",\"margin\":[5,10,5,10],\"name\":\"<i class='fa fa-table'></i> Anomaly scorer\",\"page\":1,\"page_size\":20,\"select_mode\":true,\"selectable_rows\":null,\"sizing_mode\":\"stretch_width\",\"source\":{\"id\":\"55033\"},\"styles\":{\"data\":{},\"id\":\"477214ee4c334d4fa38b6ab1631afa49\"},\"subscribed_events\":[\"cell-click\",\"table-edit\"],\"theme_url\":\"https://cdn.jsdelivr.net/npm/@holoviz/panel@0.14.4/dist/bundled/datatabulator/tabulator-tables@5.3.2/dist/css/\"},\"id\":\"55051\",\"type\":\"panel.models.tabulator.DataTabulator\"},{\"attributes\":{\"active_header_background\":\"#ccc\",\"button_css_classes\":[\"card-button\"],\"children\":[{\"id\":\"54801\"},{\"id\":\"54821\"}],\"css_classes\":[\"accordion\"],\"header_background\":\"\",\"header_color\":\"\",\"header_css_classes\":[\"accordion-header\"],\"margin\":[0,5,0,5],\"name\":\"Card05191\",\"sizing_mode\":\"stretch_width\"},\"id\":\"54800\",\"type\":\"panel.models.layout.Card\"},{\"attributes\":{\"data\":{\"column\":[\"blk_write_time\",\"temp_blks_written\",\"blk_read_time\",\"timestamp\",\"calls\",\"wait_time\",\"latency\",\"io\",\"shared_blks_hit\",\"shared_blks_read\",\"shared_blks_dirtied\",\"shared_blks_written\",\"local_blks_hit\",\"local_blks_read\",\"local_blks_dirtied\",\"local_blks_written\",\"temp_blks_read\",\"dbid\",\"queryid\",\"query\"],\"index\":[\"59\",\"60\",\"61\",\"62\",\"63\",\"64\",\"65\",\"66\",\"67\",\"68\",\"69\",\"70\",\"71\",\"72\",\"73\",\"74\",\"75\",\"76\",\"77\",\"78\"],\"key\":[false,false,false,false,false,false,false,false,false,false,false,false,false,false,false,false,false,false,false,false],\"type\":[\"double precision\",\"numeric\",\"double precision\",\"timestamp without time zone\",\"numeric\",\"double precision\",\"double precision\",\"double precision\",\"numeric\",\"numeric\",\"numeric\",\"numeric\",\"numeric\",\"numeric\",\"numeric\",\"numeric\",\"numeric\",\"character varying\",\"character varying\",\"character varying\"]},\"selected\":{\"id\":\"54873\"},\"selection_policy\":{\"id\":\"55091\"}},\"id\":\"54872\",\"type\":\"ColumnDataSource\"},{\"attributes\":{\"data\":{\"column\":[\"analysis_time\",\"timestamp\",\"anomaly_score\",\"dbid\",\"metric\"],\"index\":[\"143\",\"144\",\"145\",\"146\",\"147\"],\"key\":[false,false,false,false,false],\"type\":[\"timestamp without time zone\",\"timestamp without time zone\",\"double precision\",\"character varying\",\"character varying\"]},\"selected\":{\"id\":\"55034\"},\"selection_policy\":{\"id\":\"55105\"}},\"id\":\"55033\",\"type\":\"ColumnDataSource\"},{\"attributes\":{\"indices\":[]},\"id\":\"54965\",\"type\":\"Selection\"},{\"attributes\":{\"children\":[{\"id\":\"55054\"},{\"id\":\"55055\"},{\"id\":\"55062\"},{\"id\":\"55072\"},{\"id\":\"55078\"}],\"margin\":[0,0,0,0],\"name\":\"Column05179\",\"sizing_mode\":\"stretch_width\"},\"id\":\"55053\",\"type\":\"Column\"},{\"attributes\":{\"active_header_background\":\"#ccc\",\"button_css_classes\":[\"card-button\"],\"children\":[{\"id\":\"54962\"},{\"id\":\"54982\"}],\"css_classes\":[\"accordion\"],\"header_background\":\"\",\"header_color\":\"\",\"header_css_classes\":[\"accordion-header\"],\"margin\":[0,5,0,5],\"name\":\"Card05219\",\"sizing_mode\":\"stretch_width\"},\"id\":\"54961\",\"type\":\"panel.models.layout.Card\"},{\"attributes\":{},\"id\":\"54874\",\"type\":\"StringFormatter\"},{\"attributes\":{\"children\":[{\"id\":\"54963\"}],\"css_classes\":[\"card-header-row\"],\"margin\":[0,0,0,0],\"name\":\"Row05218\",\"sizing_mode\":\"stretch_width\"},\"id\":\"54962\",\"type\":\"Row\"},{\"attributes\":{},\"id\":\"54875\",\"type\":\"StringEditor\"},{\"attributes\":{\"children\":[{\"id\":\"54894\"}],\"css_classes\":[\"card-header-row\"],\"margin\":[0,0,0,0],\"name\":\"Row05206\",\"sizing_mode\":\"stretch_width\"},\"id\":\"54893\",\"type\":\"Row\"},{\"attributes\":{\"columns\":[{\"id\":\"54853\"},{\"id\":\"54858\"},{\"id\":\"54864\"}],\"configuration\":{\"columns\":[{\"field\":\"column\"},{\"field\":\"type\"},{\"field\":\"key\",\"sorter\":\"boolean\"}],\"dataTree\":false,\"selectable\":true},\"layout\":\"fit_data_table\",\"margin\":[5,10,5,10],\"name\":\"<i class='fa fa-table'></i> Conflicts\",\"page\":1,\"page_size\":20,\"select_mode\":true,\"selectable_rows\":null,\"sizing_mode\":\"stretch_width\",\"source\":{\"id\":\"54849\"},\"styles\":{\"data\":{},\"id\":\"cdf48dcad82a4ab2aed04b8469788d52\"},\"subscribed_events\":[\"cell-click\",\"table-edit\"],\"theme_url\":\"https://cdn.jsdelivr.net/npm/@holoviz/panel@0.14.4/dist/bundled/datatabulator/tabulator-tables@5.3.2/dist/css/\"},\"id\":\"54867\",\"type\":\"panel.models.tabulator.DataTabulator\"},{\"attributes\":{\"css_classes\":[\"card-title\"],\"margin\":[5,0,5,0],\"name\":\"HTML05220\",\"sizing_mode\":\"stretch_width\",\"text\":\"&lt;i class=&#x27;fa fa-table&#x27;&gt;&lt;/i&gt; Active sessions\"},\"id\":\"54963\",\"type\":\"panel.models.markup.HTML\"},{\"attributes\":{},\"id\":\"55101\",\"type\":\"UnionRenderers\"},{\"attributes\":{},\"id\":\"55035\",\"type\":\"StringFormatter\"},{\"attributes\":{},\"id\":\"55036\",\"type\":\"StringEditor\"},{\"attributes\":{\"editor\":{\"id\":\"55036\"},\"field\":\"column\",\"formatter\":{\"id\":\"55035\"},\"title\":\"column\",\"width\":0},\"id\":\"55037\",\"type\":\"TableColumn\"},{\"attributes\":{\"data\":{\"column\":[\"timestamp\",\"active\",\"idle_in_transaction\",\"idle\",\"dbid\"],\"index\":[\"110\",\"111\",\"112\",\"113\",\"114\"],\"key\":[false,false,false,false,false],\"type\":[\"timestamp without time zone\",\"numeric\",\"numeric\",\"numeric\",\"character varying\"]},\"selected\":{\"id\":\"54965\"},\"selection_policy\":{\"id\":\"55099\"}},\"id\":\"54964\",\"type\":\"ColumnDataSource\"},{\"attributes\":{},\"id\":\"55081\",\"type\":\"UnionRenderers\"},{\"attributes\":{\"indices\":[]},\"id\":\"54919\",\"type\":\"Selection\"},{\"attributes\":{\"icon\":\"check-circle-o\"},\"id\":\"54909\",\"type\":\"BooleanFormatter\"},{\"attributes\":{},\"id\":\"55040\",\"type\":\"StringFormatter\"},{\"attributes\":{},\"id\":\"55041\",\"type\":\"StringEditor\"},{\"attributes\":{\"children\":[{\"id\":\"54917\"}],\"css_classes\":[\"card-header-row\"],\"margin\":[0,0,0,0],\"name\":\"Row05210\",\"sizing_mode\":\"stretch_width\"},\"id\":\"54916\",\"type\":\"Row\"},{\"attributes\":{},\"id\":\"54770\",\"type\":\"CheckboxEditor\"},{\"attributes\":{\"editor\":{\"id\":\"55041\"},\"field\":\"type\",\"formatter\":{\"id\":\"55040\"},\"title\":\"type\",\"width\":0},\"id\":\"55042\",\"type\":\"TableColumn\"},{\"attributes\":{\"columns\":[{\"id\":\"54807\"},{\"id\":\"54812\"},{\"id\":\"54818\"}],\"configuration\":{\"columns\":[{\"field\":\"column\"},{\"field\":\"type\"},{\"field\":\"key\",\"sorter\":\"boolean\"}],\"dataTree\":false,\"selectable\":true},\"layout\":\"fit_data_table\",\"margin\":[5,10,5,10],\"name\":\"<i class='fa fa-table'></i> Bgwriter\",\"page\":1,\"page_size\":20,\"select_mode\":true,\"selectable_rows\":null,\"sizing_mode\":\"stretch_width\",\"source\":{\"id\":\"54803\"},\"styles\":{\"data\":{},\"id\":\"2b991987d5374790b010c77eec467d85\"},\"subscribed_events\":[\"cell-click\",\"table-edit\"],\"theme_url\":\"https://cdn.jsdelivr.net/npm/@holoviz/panel@0.14.4/dist/bundled/datatabulator/tabulator-tables@5.3.2/dist/css/\"},\"id\":\"54821\",\"type\":\"panel.models.tabulator.DataTabulator\"},{\"attributes\":{\"css_classes\":[\"card-title\"],\"margin\":[5,0,5,0],\"name\":\"HTML05212\",\"sizing_mode\":\"stretch_width\",\"text\":\"&lt;i class=&#x27;fa fa-table&#x27;&gt;&lt;/i&gt; Io\"},\"id\":\"54917\",\"type\":\"panel.models.markup.HTML\"},{\"attributes\":{\"columns\":[{\"id\":\"54922\"},{\"id\":\"54927\"},{\"id\":\"54933\"}],\"configuration\":{\"columns\":[{\"field\":\"column\"},{\"field\":\"type\"},{\"field\":\"key\",\"sorter\":\"boolean\"}],\"dataTree\":false,\"selectable\":true},\"layout\":\"fit_data_table\",\"margin\":[5,10,5,10],\"name\":\"<i class='fa fa-table'></i> Io\",\"page\":1,\"page_size\":20,\"select_mode\":true,\"selectable_rows\":null,\"sizing_mode\":\"stretch_width\",\"source\":{\"id\":\"54918\"},\"styles\":{\"data\":{},\"id\":\"e6a4dc8f1b4a46eea92b2f7618995ec5\"},\"subscribed_events\":[\"cell-click\",\"table-edit\"],\"theme_url\":\"https://cdn.jsdelivr.net/npm/@holoviz/panel@0.14.4/dist/bundled/datatabulator/tabulator-tables@5.3.2/dist/css/\"},\"id\":\"54936\",\"type\":\"panel.models.tabulator.DataTabulator\"},{\"attributes\":{\"editor\":{\"id\":\"54908\"},\"field\":\"key\",\"formatter\":{\"id\":\"54909\"},\"title\":\"key\",\"width\":0},\"id\":\"54910\",\"type\":\"TableColumn\"},{\"attributes\":{},\"id\":\"54764\",\"type\":\"StringFormatter\"},{\"attributes\":{\"active_header_background\":\"#ccc\",\"button_css_classes\":[\"card-button\"],\"children\":[{\"id\":\"54916\"},{\"id\":\"54936\"}],\"css_classes\":[\"accordion\"],\"header_background\":\"\",\"header_color\":\"\",\"header_css_classes\":[\"accordion-header\"],\"margin\":[0,5,0,5],\"name\":\"Card05211\",\"sizing_mode\":\"stretch_width\"},\"id\":\"54915\",\"type\":\"panel.models.layout.Card\"},{\"attributes\":{\"indices\":[]},\"id\":\"54804\",\"type\":\"Selection\"},{\"attributes\":{},\"id\":\"54903\",\"type\":\"StringEditor\"},{\"attributes\":{},\"id\":\"54995\",\"type\":\"StringEditor\"},{\"attributes\":{\"editor\":{\"id\":\"54765\"},\"field\":\"type\",\"formatter\":{\"id\":\"54764\"},\"title\":\"type\",\"width\":0},\"id\":\"54766\",\"type\":\"TableColumn\"},{\"attributes\":{\"editor\":{\"id\":\"54898\"},\"field\":\"column\",\"formatter\":{\"id\":\"54897\"},\"title\":\"column\",\"width\":0},\"id\":\"54899\",\"type\":\"TableColumn\"},{\"attributes\":{\"icon\":\"check-circle-o\"},\"id\":\"55047\",\"type\":\"BooleanFormatter\"},{\"attributes\":{\"data\":{\"column\":[\"buffers_alloc\",\"timestamp\",\"checkpoints_timed\",\"checkpoints_req\",\"checkpoint_write_time\",\"checkpoint_sync_time\",\"buffers_checkpoint\",\"buffers_clean\",\"maxwritten_clean\",\"buffers_backend\",\"buffers_backend_fsync\",\"dbid\"],\"index\":[\"11\",\"12\",\"13\",\"14\",\"15\",\"16\",\"17\",\"18\",\"19\",\"20\",\"21\",\"22\"],\"key\":[false,false,false,false,false,false,false,false,false,false,false,false],\"type\":[\"numeric\",\"timestamp without time zone\",\"numeric\",\"numeric\",\"double precision\",\"double precision\",\"numeric\",\"numeric\",\"numeric\",\"numeric\",\"numeric\",\"character varying\"]},\"selected\":{\"id\":\"54804\"},\"selection_policy\":{\"id\":\"55085\"}},\"id\":\"54803\",\"type\":\"ColumnDataSource\"},{\"attributes\":{},\"id\":\"55046\",\"type\":\"CheckboxEditor\"},{\"attributes\":{\"active_header_background\":\"#ccc\",\"button_css_classes\":[\"card-button\"],\"children\":[{\"id\":\"54847\"},{\"id\":\"54867\"}],\"css_classes\":[\"accordion\"],\"header_background\":\"\",\"header_color\":\"\",\"header_css_classes\":[\"accordion-header\"],\"margin\":[0,5,0,5],\"name\":\"Card05199\",\"sizing_mode\":\"stretch_width\"},\"id\":\"54846\",\"type\":\"panel.models.layout.Card\"},{\"attributes\":{\"editor\":{\"id\":\"54834\"},\"field\":\"type\",\"formatter\":{\"id\":\"54833\"},\"title\":\"type\",\"width\":0},\"id\":\"54835\",\"type\":\"TableColumn\"},{\"attributes\":{\"editor\":{\"id\":\"55046\"},\"field\":\"key\",\"formatter\":{\"id\":\"55047\"},\"title\":\"key\",\"width\":0},\"id\":\"55048\",\"type\":\"TableColumn\"},{\"attributes\":{\"editor\":{\"id\":\"54903\"},\"field\":\"type\",\"formatter\":{\"id\":\"54902\"},\"title\":\"type\",\"width\":0},\"id\":\"54904\",\"type\":\"TableColumn\"},{\"attributes\":{\"data\":{\"column\":[\"timestamp\",\"heap_blks_read\",\"heap_blks_hit\",\"idx_blks_read\",\"idx_blks_hit\",\"dbid\"],\"index\":[\"97\",\"98\",\"99\",\"100\",\"101\",\"102\"],\"key\":[false,false,false,false,false,false],\"type\":[\"timestamp without time zone\",\"double precision\",\"double precision\",\"double precision\",\"double precision\",\"character varying\"]},\"selected\":{\"id\":\"54919\"},\"selection_policy\":{\"id\":\"55095\"}},\"id\":\"54918\",\"type\":\"ColumnDataSource\"},{\"attributes\":{},\"id\":\"54759\",\"type\":\"StringFormatter\"},{\"attributes\":{},\"id\":\"54760\",\"type\":\"StringEditor\"},{\"attributes\":{},\"id\":\"55083\",\"type\":\"UnionRenderers\"},{\"attributes\":{},\"id\":\"54898\",\"type\":\"StringEditor\"},{\"attributes\":{\"editor\":{\"id\":\"55000\"},\"field\":\"key\",\"formatter\":{\"id\":\"55001\"},\"title\":\"key\",\"width\":0},\"id\":\"55002\",\"type\":\"TableColumn\"},{\"attributes\":{\"editor\":{\"id\":\"54806\"},\"field\":\"column\",\"formatter\":{\"id\":\"54805\"},\"title\":\"column\",\"width\":0},\"id\":\"54807\",\"type\":\"TableColumn\"},{\"attributes\":{\"css_classes\":[\"card-title\"],\"margin\":[5,0,5,0],\"name\":\"HTML05224\",\"sizing_mode\":\"stretch_width\",\"text\":\"&lt;i class=&#x27;fa fa-table&#x27;&gt;&lt;/i&gt; Waiting sessions\"},\"id\":\"54986\",\"type\":\"panel.models.markup.HTML\"},{\"attributes\":{},\"id\":\"54806\",\"type\":\"StringEditor\"},{\"attributes\":{\"columns\":[{\"id\":\"55014\"},{\"id\":\"55019\"},{\"id\":\"55025\"}],\"configuration\":{\"columns\":[{\"field\":\"column\"},{\"field\":\"type\"},{\"field\":\"key\",\"sorter\":\"boolean\"}],\"dataTree\":false,\"selectable\":true},\"layout\":\"fit_data_table\",\"margin\":[5,10,5,10],\"name\":\"<i class='fa fa-table'></i> Os metric\",\"page\":1,\"page_size\":20,\"select_mode\":true,\"selectable_rows\":null,\"sizing_mode\":\"stretch_width\",\"source\":{\"id\":\"55010\"},\"styles\":{\"data\":{},\"id\":\"d96880e9d2b44693b13aac71a5440f37\"},\"subscribed_events\":[\"cell-click\",\"table-edit\"],\"theme_url\":\"https://cdn.jsdelivr.net/npm/@holoviz/panel@0.14.4/dist/bundled/datatabulator/tabulator-tables@5.3.2/dist/css/\"},\"id\":\"55028\",\"type\":\"panel.models.tabulator.DataTabulator\"},{\"attributes\":{},\"id\":\"54856\",\"type\":\"StringFormatter\"},{\"attributes\":{\"active_header_background\":\"#ccc\",\"button_css_classes\":[\"card-button\"],\"children\":[{\"id\":\"54985\"},{\"id\":\"55005\"}],\"css_classes\":[\"accordion\"],\"header_background\":\"\",\"header_color\":\"\",\"header_css_classes\":[\"accordion-header\"],\"margin\":[0,5,0,5],\"name\":\"Card05223\",\"sizing_mode\":\"stretch_width\"},\"id\":\"54984\",\"type\":\"panel.models.layout.Card\"},{\"attributes\":{\"editor\":{\"id\":\"55018\"},\"field\":\"type\",\"formatter\":{\"id\":\"55017\"},\"title\":\"type\",\"width\":0},\"id\":\"55019\",\"type\":\"TableColumn\"},{\"attributes\":{},\"id\":\"54805\",\"type\":\"StringFormatter\"},{\"attributes\":{\"icon\":\"check-circle-o\"},\"id\":\"54863\",\"type\":\"BooleanFormatter\"},{\"attributes\":{},\"id\":\"54920\",\"type\":\"StringFormatter\"},{\"attributes\":{},\"id\":\"54921\",\"type\":\"StringEditor\"},{\"attributes\":{\"editor\":{\"id\":\"54770\"},\"field\":\"key\",\"formatter\":{\"id\":\"54771\"},\"title\":\"key\",\"width\":0},\"id\":\"54772\",\"type\":\"TableColumn\"},{\"attributes\":{},\"id\":\"54994\",\"type\":\"StringFormatter\"},{\"attributes\":{\"editor\":{\"id\":\"54921\"},\"field\":\"column\",\"formatter\":{\"id\":\"54920\"},\"title\":\"column\",\"width\":0},\"id\":\"54922\",\"type\":\"TableColumn\"},{\"attributes\":{},\"id\":\"54857\",\"type\":\"StringEditor\"},{\"attributes\":{\"columns\":[{\"id\":\"54991\"},{\"id\":\"54996\"},{\"id\":\"55002\"}],\"configuration\":{\"columns\":[{\"field\":\"column\"},{\"field\":\"type\"},{\"field\":\"key\",\"sorter\":\"boolean\"}],\"dataTree\":false,\"selectable\":true},\"layout\":\"fit_data_table\",\"margin\":[5,10,5,10],\"name\":\"<i class='fa fa-table'></i> Waiting sessions\",\"page\":1,\"page_size\":20,\"select_mode\":true,\"selectable_rows\":null,\"sizing_mode\":\"stretch_width\",\"source\":{\"id\":\"54987\"},\"styles\":{\"data\":{},\"id\":\"82551a1c0efa4ecfb89ee3a539e065eb\"},\"subscribed_events\":[\"cell-click\",\"table-edit\"],\"theme_url\":\"https://cdn.jsdelivr.net/npm/@holoviz/panel@0.14.4/dist/bundled/datatabulator/tabulator-tables@5.3.2/dist/css/\"},\"id\":\"55005\",\"type\":\"panel.models.tabulator.DataTabulator\"},{\"attributes\":{\"data\":{\"column\":[\"timestamp\",\"sessions_fatal\",\"sessions_killed\",\"datid\",\"numbackends\",\"xact_commit\",\"xact_rollback\",\"blks_read\",\"blks_hit\",\"tup_returned\",\"tup_fetched\",\"tup_inserted\",\"tup_updated\",\"tup_deleted\",\"conflicts\",\"temp_files\",\"temp_bytes\",\"deadlocks\",\"blk_read_time\",\"blk_write_time\",\"session_time\",\"active_time\",\"idle_in_transaction_time\",\"sessions\",\"sessions_abandoned\",\"dbid\",\"datname\"],\"index\":[\"23\",\"24\",\"25\",\"26\",\"27\",\"28\",\"29\",\"30\",\"31\",\"32\",\"33\",\"34\",\"35\",\"36\",\"37\",\"38\",\"39\",\"40\",\"41\",\"42\",\"43\",\"44\",\"45\",\"46\",\"47\",\"48\",\"49\"],\"key\":[false,false,false,false,false,false,false,false,false,false,false,false,false,false,false,false,false,false,false,false,false,false,false,false,false,false,false],\"type\":[\"timestamp without time zone\",\"numeric\",\"numeric\",\"integer\",\"numeric\",\"numeric\",\"numeric\",\"numeric\",\"numeric\",\"numeric\",\"numeric\",\"numeric\",\"numeric\",\"numeric\",\"numeric\",\"numeric\",\"numeric\",\"numeric\",\"double precision\",\"double precision\",\"double precision\",\"double precision\",\"double precision\",\"numeric\",\"numeric\",\"character varying\",\"character varying\"]},\"selected\":{\"id\":\"54827\"},\"selection_policy\":{\"id\":\"55087\"}},\"id\":\"54826\",\"type\":\"ColumnDataSource\"},{\"attributes\":{},\"id\":\"55085\",\"type\":\"UnionRenderers\"},{\"attributes\":{\"editor\":{\"id\":\"54852\"},\"field\":\"column\",\"formatter\":{\"id\":\"54851\"},\"title\":\"column\",\"width\":0},\"id\":\"54853\",\"type\":\"TableColumn\"},{\"attributes\":{\"data\":{\"column\":[\"idx_tup_read\",\"timestamp\",\"seq_scan\",\"seq_tup_read\",\"idx_scan\",\"idx_tup_fetch\",\"n_tup_ins\",\"n_tup_upd\",\"n_tup_del\",\"n_tup_hot_upd\",\"n_live_tup\",\"n_dead_tup\",\"n_mod_since_analyze\",\"vacuum_count\",\"autovacuum_count\",\"analyze_count\",\"autoanalyze_count\",\"dbid\"],\"index\":[\"79\",\"80\",\"81\",\"82\",\"83\",\"84\",\"85\",\"86\",\"87\",\"88\",\"89\",\"90\",\"91\",\"92\",\"93\",\"94\",\"95\",\"96\"],\"key\":[false,false,false,false,false,false,false,false,false,false,false,false,false,false,false,false,false,false],\"type\":[\"double precision\",\"timestamp without time zone\",\"double precision\",\"double precision\",\"double precision\",\"double precision\",\"double precision\",\"double precision\",\"double precision\",\"double precision\",\"double precision\",\"double precision\",\"double precision\",\"double precision\",\"double precision\",\"double precision\",\"double precision\",\"character varying\"]},\"selected\":{\"id\":\"54896\"},\"selection_policy\":{\"id\":\"55093\"}},\"id\":\"54895\",\"type\":\"ColumnDataSource\"},{\"attributes\":{\"data\":{\"column\":[\"lock\",\"timestamp\",\"activity\",\"lwlock\",\"timeout\",\"io\",\"client\",\"ipc\",\"dbid\"],\"index\":[\"115\",\"116\",\"117\",\"118\",\"119\",\"120\",\"121\",\"122\",\"123\"],\"key\":[false,false,false,false,false,false,false,false,false],\"type\":[\"numeric\",\"timestamp without time zone\",\"numeric\",\"numeric\",\"numeric\",\"numeric\",\"numeric\",\"numeric\",\"character varying\"]},\"selected\":{\"id\":\"54988\"},\"selection_policy\":{\"id\":\"55101\"}},\"id\":\"54987\",\"type\":\"ColumnDataSource\"},{\"attributes\":{\"children\":[{\"id\":\"55056\"},{\"id\":\"55057\"},{\"id\":\"55058\"},{\"id\":\"55061\"}],\"margin\":[0,0,0,0],\"name\":\"Row05142\",\"sizing_mode\":\"stretch_width\"},\"id\":\"55055\",\"type\":\"Row\"},{\"attributes\":{\"children\":[{\"id\":\"54848\"}],\"css_classes\":[\"card-header-row\"],\"margin\":[0,0,0,0],\"name\":\"Row05198\",\"sizing_mode\":\"stretch_width\"},\"id\":\"54847\",\"type\":\"Row\"},{\"attributes\":{\"editor\":{\"id\":\"54811\"},\"field\":\"type\",\"formatter\":{\"id\":\"54810\"},\"title\":\"type\",\"width\":0},\"id\":\"54812\",\"type\":\"TableColumn\"},{\"attributes\":{\"margin\":[5,10,5,10],\"min_width\":300,\"options\":[\"30 minutes\",\"1 hour\",\"4 hours\",\"12 hours\",\"1 day\",\"Custom\"],\"title\":\"Time range\",\"value\":\"30 minutes\",\"width\":300},\"id\":\"55059\",\"type\":\"panel.models.widgets.CustomSelect\"},{\"attributes\":{},\"id\":\"54833\",\"type\":\"StringFormatter\"},{\"attributes\":{\"indices\":[]},\"id\":\"54896\",\"type\":\"Selection\"},{\"attributes\":{},\"id\":\"54925\",\"type\":\"StringFormatter\"},{\"attributes\":{},\"id\":\"54926\",\"type\":\"StringEditor\"},{\"attributes\":{\"icon\":\"check-circle-o\"},\"id\":\"54771\",\"type\":\"BooleanFormatter\"},{\"attributes\":{\"indices\":[]},\"id\":\"54827\",\"type\":\"Selection\"},{\"attributes\":{\"editor\":{\"id\":\"54926\"},\"field\":\"type\",\"formatter\":{\"id\":\"54925\"},\"title\":\"type\",\"width\":0},\"id\":\"54927\",\"type\":\"TableColumn\"},{\"attributes\":{},\"id\":\"54908\",\"type\":\"CheckboxEditor\"},{\"attributes\":{\"margin\":[5,10,5,10],\"max_length\":5000,\"min_width\":300,\"placeholder\":\"Enter a string for title of visualization\",\"title\":\"Title\",\"width\":300},\"id\":\"55056\",\"type\":\"TextInput\"},{\"attributes\":{\"editor\":{\"id\":\"54862\"},\"field\":\"key\",\"formatter\":{\"id\":\"54863\"},\"title\":\"key\",\"width\":0},\"id\":\"54864\",\"type\":\"TableColumn\"},{\"attributes\":{\"children\":[{\"id\":\"54986\"}],\"css_classes\":[\"card-header-row\"],\"margin\":[0,0,0,0],\"name\":\"Row05222\",\"sizing_mode\":\"stretch_width\"},\"id\":\"54985\",\"type\":\"Row\"},{\"attributes\":{\"css_classes\":[\"card-title\"],\"margin\":[5,0,5,0],\"name\":\"HTML05165\",\"sizing_mode\":\"stretch_width\",\"text\":\"Task\"},\"id\":\"55064\",\"type\":\"panel.models.markup.HTML\"},{\"attributes\":{\"margin\":[5,10,5,10],\"min_width\":300,\"options\":[\"performance\",\"load_prediction\",\"bgwriter\",\"database_statistics\",\"conflicts\",\"query_statistics\",\"access\",\"io\",\"sessions\",\"active_sessions\",\"waiting_sessions\",\"os_metric\",\"anomaly_scorer\"],\"title\":\"Tables\",\"value\":\"performance\",\"width\":300},\"id\":\"55057\",\"type\":\"panel.models.widgets.CustomSelect\"},{\"attributes\":{},\"id\":\"54989\",\"type\":\"StringFormatter\"},{\"attributes\":{\"data\":{\"column\":[\"upper_bound\",\"lower_bound\",\"timestamp\",\"analysis_time\",\"predicted\",\"metric\",\"dbid\"],\"index\":[\"4\",\"5\",\"6\",\"7\",\"8\",\"9\",\"10\"],\"key\":[false,false,false,false,false,false,false],\"type\":[\"double precision\",\"double precision\",\"timestamp without time zone\",\"timestamp without time zone\",\"double precision\",\"character varying\",\"character varying\"]},\"selected\":{\"id\":\"54781\"},\"selection_policy\":{\"id\":\"55083\"}},\"id\":\"54780\",\"type\":\"ColumnDataSource\"},{\"attributes\":{},\"id\":\"54990\",\"type\":\"StringEditor\"},{\"attributes\":{\"indices\":[]},\"id\":\"54758\",\"type\":\"Selection\"},{\"attributes\":{},\"id\":\"55018\",\"type\":\"StringEditor\"},{\"attributes\":{\"editor\":{\"id\":\"54760\"},\"field\":\"column\",\"formatter\":{\"id\":\"54759\"},\"title\":\"column\",\"width\":0},\"id\":\"54761\",\"type\":\"TableColumn\"},{\"attributes\":{},\"id\":\"54765\",\"type\":\"StringEditor\"},{\"attributes\":{\"icon\":\"check-circle-o\"},\"id\":\"54932\",\"type\":\"BooleanFormatter\"},{\"attributes\":{\"icon\":\"check-circle-o\"},\"id\":\"55001\",\"type\":\"BooleanFormatter\"},{\"attributes\":{\"icon\":\"check-circle-o\"},\"id\":\"54817\",\"type\":\"BooleanFormatter\"},{\"attributes\":{},\"id\":\"54931\",\"type\":\"CheckboxEditor\"},{\"attributes\":{\"editor\":{\"id\":\"54931\"},\"field\":\"key\",\"formatter\":{\"id\":\"54932\"},\"title\":\"key\",\"width\":0},\"id\":\"54933\",\"type\":\"TableColumn\"},{\"attributes\":{\"editor\":{\"id\":\"54990\"},\"field\":\"column\",\"formatter\":{\"id\":\"54989\"},\"title\":\"column\",\"width\":0},\"id\":\"54991\",\"type\":\"TableColumn\"},{\"attributes\":{\"indices\":[]},\"id\":\"54781\",\"type\":\"Selection\"},{\"attributes\":{\"active_header_background\":\"#ccc\",\"button_css_classes\":[\"card-button\"],\"children\":[{\"id\":\"54778\"},{\"id\":\"54798\"}],\"css_classes\":[\"accordion\"],\"header_background\":\"\",\"header_color\":\"\",\"header_css_classes\":[\"accordion-header\"],\"margin\":[0,5,0,5],\"name\":\"Card05187\",\"sizing_mode\":\"stretch_width\"},\"id\":\"54777\",\"type\":\"panel.models.layout.Card\"},{\"attributes\":{},\"id\":\"54816\",\"type\":\"CheckboxEditor\"},{\"attributes\":{},\"id\":\"55087\",\"type\":\"UnionRenderers\"},{\"attributes\":{\"children\":[{\"id\":\"55009\"}],\"css_classes\":[\"card-header-row\"],\"margin\":[0,0,0,0],\"name\":\"Row05226\",\"sizing_mode\":\"stretch_width\"},\"id\":\"55008\",\"type\":\"Row\"},{\"attributes\":{\"css_classes\":[\"card-title\"],\"margin\":[5,0,5,0],\"name\":\"HTML05208\",\"sizing_mode\":\"stretch_width\",\"text\":\"&lt;i class=&#x27;fa fa-table&#x27;&gt;&lt;/i&gt; Access\"},\"id\":\"54894\",\"type\":\"panel.models.markup.HTML\"},{\"attributes\":{},\"id\":\"55023\",\"type\":\"CheckboxEditor\"},{\"attributes\":{\"children\":[{\"id\":\"55059\"},{\"id\":\"55060\"}],\"margin\":[0,0,0,0],\"name\":\"Column05141\",\"sizing_mode\":\"stretch_width\"},\"id\":\"55058\",\"type\":\"Column\"},{\"attributes\":{\"editor\":{\"id\":\"54816\"},\"field\":\"key\",\"formatter\":{\"id\":\"54817\"},\"title\":\"key\",\"width\":0},\"id\":\"54818\",\"type\":\"TableColumn\"},{\"attributes\":{},\"id\":\"54897\",\"type\":\"StringFormatter\"},{\"attributes\":{},\"id\":\"54902\",\"type\":\"StringFormatter\"},{\"attributes\":{\"editor\":{\"id\":\"54857\"},\"field\":\"type\",\"formatter\":{\"id\":\"54856\"},\"title\":\"type\",\"width\":0},\"id\":\"54858\",\"type\":\"TableColumn\"},{\"attributes\":{},\"id\":\"54810\",\"type\":\"StringFormatter\"},{\"attributes\":{},\"id\":\"54862\",\"type\":\"CheckboxEditor\"},{\"attributes\":{\"active_header_background\":\"#ccc\",\"button_css_classes\":[\"card-button\"],\"children\":[{\"id\":\"54824\"},{\"id\":\"54844\"}],\"css_classes\":[\"accordion\"],\"header_background\":\"\",\"header_color\":\"\",\"header_css_classes\":[\"accordion-header\"],\"margin\":[0,5,0,5],\"name\":\"Card05195\",\"sizing_mode\":\"stretch_width\"},\"id\":\"54823\",\"type\":\"panel.models.layout.Card\"},{\"attributes\":{\"margin\":[5,10,5,10],\"min_width\":300,\"options\":[[\"None\",\"Off\"],[\"300000\",\"Every 5 minutes\"],[\"600000\",\"Every 10 minutes\"],[\"900000\",\"Every 15 minutes\"],[\"1800000\",\"Every 30 minutes\"]],\"title\":\"Auto refresh\",\"value\":\"None\",\"width\":300},\"id\":\"55061\",\"type\":\"panel.models.widgets.CustomSelect\"},{\"attributes\":{\"active_header_background\":\"#ccc\",\"button_css_classes\":[\"card-button\"],\"children\":[{\"id\":\"54755\"},{\"id\":\"54775\"}],\"css_classes\":[\"accordion\"],\"header_background\":\"\",\"header_color\":\"\",\"header_css_classes\":[\"accordion-header\"],\"margin\":[5,5,0,5],\"name\":\"Card05183\",\"sizing_mode\":\"stretch_width\"},\"id\":\"54754\",\"type\":\"panel.models.layout.Card\"},{\"attributes\":{\"css_classes\":[\"card-title\"],\"margin\":[5,0,5,0],\"name\":\"HTML05228\",\"sizing_mode\":\"stretch_width\",\"text\":\"&lt;i class=&#x27;fa fa-table&#x27;&gt;&lt;/i&gt; Os metric\"},\"id\":\"55009\",\"type\":\"panel.models.markup.HTML\"},{\"attributes\":{},\"id\":\"54811\",\"type\":\"StringEditor\"},{\"attributes\":{\"disabled\":true,\"margin\":[5,10,5,10],\"min_width\":300,\"mode\":\"range\",\"value\":\"2023-05-23 16:43:03 to 2023-05-23 17:13:03\",\"width\":300},\"id\":\"55060\",\"type\":\"panel.models.datetime_picker.DatetimePicker\"},{\"attributes\":{\"editor\":{\"id\":\"55023\"},\"field\":\"key\",\"formatter\":{\"id\":\"55024\"},\"title\":\"key\",\"width\":0},\"id\":\"55025\",\"type\":\"TableColumn\"},{\"attributes\":{\"children\":[{\"id\":\"54779\"}],\"css_classes\":[\"card-header-row\"],\"margin\":[0,0,0,0],\"name\":\"Row05186\",\"sizing_mode\":\"stretch_width\"},\"id\":\"54778\",\"type\":\"Row\"},{\"attributes\":{\"columns\":[{\"id\":\"54899\"},{\"id\":\"54904\"},{\"id\":\"54910\"}],\"configuration\":{\"columns\":[{\"field\":\"column\"},{\"field\":\"type\"},{\"field\":\"key\",\"sorter\":\"boolean\"}],\"dataTree\":false,\"selectable\":true},\"layout\":\"fit_data_table\",\"margin\":[5,10,5,10],\"name\":\"<i class='fa fa-table'></i> Access\",\"page\":1,\"page_size\":20,\"select_mode\":true,\"selectable_rows\":null,\"sizing_mode\":\"stretch_width\",\"source\":{\"id\":\"54895\"},\"styles\":{\"data\":{},\"id\":\"3ad927c2fa6047f39967c84d500d9e93\"},\"subscribed_events\":[\"cell-click\",\"table-edit\"],\"theme_url\":\"https://cdn.jsdelivr.net/npm/@holoviz/panel@0.14.4/dist/bundled/datatabulator/tabulator-tables@5.3.2/dist/css/\"},\"id\":\"54913\",\"type\":\"panel.models.tabulator.DataTabulator\"},{\"attributes\":{\"icon\":\"check-circle-o\"},\"id\":\"55024\",\"type\":\"BooleanFormatter\"},{\"attributes\":{},\"id\":\"54783\",\"type\":\"StringEditor\"},{\"attributes\":{\"children\":[{\"id\":\"54754\"},{\"id\":\"54777\"},{\"id\":\"54800\"},{\"id\":\"54823\"},{\"id\":\"54846\"},{\"id\":\"54869\"},{\"id\":\"54892\"},{\"id\":\"54915\"},{\"id\":\"54938\"},{\"id\":\"54961\"},{\"id\":\"54984\"},{\"id\":\"55007\"},{\"id\":\"55030\"}],\"margin\":[0,0,0,0],\"name\":\"Accordion05132\",\"sizing_mode\":\"stretch_width\"},\"id\":\"54753\",\"type\":\"Column\"},{\"attributes\":{\"children\":[{\"id\":\"55068\"}],\"margin\":[0,0,0,0],\"name\":\"Row05158\",\"sizing_mode\":\"stretch_width\"},\"id\":\"55067\",\"type\":\"Row\"},{\"attributes\":{\"children\":[{\"id\":\"55067\"},{\"id\":\"55069\"},{\"id\":\"55070\"}],\"css_classes\":[\"task_box\"],\"margin\":[0,0,0,0],\"name\":\"Column05161\",\"sizing_mode\":\"stretch_width\"},\"id\":\"55066\",\"type\":\"Column\"},{\"attributes\":{\"active_header_background\":\"\",\"button_css_classes\":[\"card-button\"],\"children\":[{\"id\":\"55063\"},{\"id\":\"55065\"}],\"collapsed\":false,\"css_classes\":[\"card\"],\"header_background\":\"\",\"header_color\":\"\",\"header_css_classes\":[\"card-header\"],\"margin\":[5,5,5,5],\"min_width\":1200,\"name\":\"Card05164\",\"width\":1200},\"id\":\"55062\",\"type\":\"panel.models.layout.Card\"},{\"attributes\":{\"css_classes\":[\"markdown\"],\"margin\":[5,5,5,5],\"name\":\"Markdown05133\",\"sizing_mode\":\"stretch_width\",\"text\":\"&lt;h3&gt;Performance Tables&lt;/h3&gt;\"},\"id\":\"54752\",\"type\":\"panel.models.markup.HTML\"},{\"attributes\":{\"children\":[{\"id\":\"55064\"}],\"css_classes\":[\"card-header-row\"],\"margin\":[0,0,0,0],\"name\":\"Row05163\",\"sizing_mode\":\"stretch_width\"},\"id\":\"55063\",\"type\":\"Row\"},{\"attributes\":{\"columns\":[{\"id\":\"54784\"},{\"id\":\"54789\"},{\"id\":\"54795\"}],\"configuration\":{\"columns\":[{\"field\":\"column\"},{\"field\":\"type\"},{\"field\":\"key\",\"sorter\":\"boolean\"}],\"dataTree\":false,\"selectable\":true},\"layout\":\"fit_data_table\",\"margin\":[5,10,5,10],\"name\":\"<i class='fa fa-table'></i> Load prediction\",\"page\":1,\"page_size\":20,\"select_mode\":true,\"selectable_rows\":null,\"sizing_mode\":\"stretch_width\",\"source\":{\"id\":\"54780\"},\"styles\":{\"data\":{},\"id\":\"f5b7ed082c894fb28468bc01f119be79\"},\"subscribed_events\":[\"cell-click\",\"table-edit\"],\"theme_url\":\"https://cdn.jsdelivr.net/npm/@holoviz/panel@0.14.4/dist/bundled/datatabulator/tabulator-tables@5.3.2/dist/css/\"},\"id\":\"54798\",\"type\":\"panel.models.tabulator.DataTabulator\"},{\"attributes\":{\"editor\":{\"id\":\"54995\"},\"field\":\"type\",\"formatter\":{\"id\":\"54994\"},\"title\":\"type\",\"width\":0},\"id\":\"54996\",\"type\":\"TableColumn\"},{\"attributes\":{\"children\":[{\"id\":\"55066\"},{\"id\":\"55071\"}],\"margin\":[0,0,0,0],\"name\":\"Row05162\",\"sizing_mode\":\"stretch_width\"},\"id\":\"55065\",\"type\":\"Row\"},{\"attributes\":{},\"id\":\"55017\",\"type\":\"StringFormatter\"},{\"attributes\":{\"children\":[{\"id\":\"54752\"},{\"id\":\"54753\"}],\"margin\":[0,0,0,0],\"min_width\":350,\"name\":\"Column05135\",\"width\":350},\"id\":\"54751\",\"type\":\"Column\"},{\"attributes\":{},\"id\":\"54787\",\"type\":\"StringFormatter\"},{\"attributes\":{},\"id\":\"55089\",\"type\":\"UnionRenderers\"},{\"attributes\":{\"css_classes\":[\"card-title\"],\"margin\":[5,0,5,0],\"name\":\"HTML05188\",\"sizing_mode\":\"stretch_width\",\"text\":\"&lt;i class=&#x27;fa fa-table&#x27;&gt;&lt;/i&gt; Load prediction\"},\"id\":\"54779\",\"type\":\"panel.models.markup.HTML\"},{\"attributes\":{\"css_classes\":[\"card-title\"],\"margin\":[5,0,5,0],\"name\":\"HTML05196\",\"sizing_mode\":\"stretch_width\",\"text\":\"&lt;i class=&#x27;fa fa-table&#x27;&gt;&lt;/i&gt; Database statistics\"},\"id\":\"54825\",\"type\":\"panel.models.markup.HTML\"},{\"attributes\":{},\"id\":\"55013\",\"type\":\"StringEditor\"},{\"attributes\":{\"icon\":null,\"label\":\"Add task\",\"margin\":[5,10,5,10],\"min_width\":100,\"subscribed_events\":[\"button_click\"],\"width\":100},\"id\":\"55071\",\"type\":\"Button\"},{\"attributes\":{},\"id\":\"54839\",\"type\":\"CheckboxEditor\"},{\"attributes\":{\"indices\":[]},\"id\":\"54988\",\"type\":\"Selection\"},{\"attributes\":{\"children\":[{\"id\":\"54871\"}],\"css_classes\":[\"card-header-row\"],\"margin\":[0,0,0,0],\"name\":\"Row05202\",\"sizing_mode\":\"stretch_width\"},\"id\":\"54870\",\"type\":\"Row\"},{\"attributes\":{\"editor\":{\"id\":\"54839\"},\"field\":\"key\",\"formatter\":{\"id\":\"54840\"},\"title\":\"key\",\"width\":0},\"id\":\"54841\",\"type\":\"TableColumn\"},{\"attributes\":{\"active_header_background\":\"\",\"button_css_classes\":[\"card-button\"],\"children\":[{\"id\":\"55073\"},{\"id\":\"55075\"}],\"collapsed\":false,\"css_classes\":[\"card\"],\"header_background\":\"\",\"header_color\":\"\",\"header_css_classes\":[\"card-header\"],\"margin\":[5,5,5,5],\"min_width\":1200,\"name\":\"Card05171\",\"width\":1200},\"id\":\"55072\",\"type\":\"panel.models.layout.Card\"},{\"attributes\":{\"columns\":[{\"id\":\"54830\"},{\"id\":\"54835\"},{\"id\":\"54841\"}],\"configuration\":{\"columns\":[{\"field\":\"column\"},{\"field\":\"type\"},{\"field\":\"key\",\"sorter\":\"boolean\"}],\"dataTree\":false,\"selectable\":true},\"layout\":\"fit_data_table\",\"margin\":[5,10,5,10],\"name\":\"<i class='fa fa-table'></i> Database statistics\",\"page\":1,\"page_size\":20,\"select_mode\":true,\"selectable_rows\":null,\"sizing_mode\":\"stretch_width\",\"source\":{\"id\":\"54826\"},\"styles\":{\"data\":{},\"id\":\"cee347d30aa349b89ae1dd1170954f98\"},\"subscribed_events\":[\"cell-click\",\"table-edit\"],\"theme_url\":\"https://cdn.jsdelivr.net/npm/@holoviz/panel@0.14.4/dist/bundled/datatabulator/tabulator-tables@5.3.2/dist/css/\"},\"id\":\"54844\",\"type\":\"panel.models.tabulator.DataTabulator\"},{\"attributes\":{\"data\":{\"column\":[\"disk_write_bytes\",\"timestamp\",\"cpu_percent\",\"mem_total\",\"mem_available\",\"mem_percent\",\"mem_used\",\"mem_free\",\"mem_active\",\"mem_inactive\",\"mem_buffers\",\"mem_cached\",\"mem_shared\",\"mem_slab\",\"disk_percent\",\"disk_read_count\",\"disk_write_count\",\"disk_read_bytes\",\"dbid\"],\"index\":[\"124\",\"125\",\"126\",\"127\",\"128\",\"129\",\"130\",\"131\",\"132\",\"133\",\"134\",\"135\",\"136\",\"137\",\"138\",\"139\",\"140\",\"141\",\"142\"],\"key\":[false,false,false,false,false,false,false,false,false,false,false,false,false,false,false,false,false,false,false],\"type\":[\"numeric\",\"timestamp without time zone\",\"double precision\",\"numeric\",\"numeric\",\"double precision\",\"numeric\",\"numeric\",\"numeric\",\"numeric\",\"numeric\",\"numeric\",\"numeric\",\"numeric\",\"double precision\",\"numeric\",\"numeric\",\"numeric\",\"character varying\"]},\"selected\":{\"id\":\"55011\"},\"selection_policy\":{\"id\":\"55103\"}},\"id\":\"55010\",\"type\":\"ColumnDataSource\"},{\"attributes\":{\"editor\":{\"id\":\"54788\"},\"field\":\"type\",\"formatter\":{\"id\":\"54787\"},\"title\":\"type\",\"width\":0},\"id\":\"54789\",\"type\":\"TableColumn\"},{\"attributes\":{\"margin\":[5,10,5,10],\"min_width\":300,\"options\":[\"Choose a task\",\"metrics\",\"historical comparison\",\"query analysis\",\"distribution\",\"correlation\",\"query ranking\",\"performance anomaly diagnosis\",\"anomaly detection\",\"load prediction\",\"delta between predicted and actual value\"],\"title\":\"Task\",\"value\":\"Choose a task\",\"width\":300},\"id\":\"55068\",\"type\":\"panel.models.widgets.CustomSelect\"},{\"attributes\":{\"active_header_background\":\"#ccc\",\"button_css_classes\":[\"card-button\"],\"children\":[{\"id\":\"54939\"},{\"id\":\"54959\"}],\"css_classes\":[\"accordion\"],\"header_background\":\"\",\"header_color\":\"\",\"header_css_classes\":[\"accordion-header\"],\"margin\":[0,5,0,5],\"name\":\"Card05215\",\"sizing_mode\":\"stretch_width\"},\"id\":\"54938\",\"type\":\"panel.models.layout.Card\"},{\"attributes\":{\"margin\":[0,0,0,0],\"name\":\"Row05160\",\"sizing_mode\":\"stretch_width\"},\"id\":\"55070\",\"type\":\"Row\"},{\"attributes\":{\"client_comm_id\":\"3133136888024f22a275decd1d1386ff\",\"comm_id\":\"324df1e14611484c85762fe838786dda\",\"plot_id\":\"54750\"},\"id\":\"55159\",\"type\":\"panel.models.comm_manager.CommManager\"},{\"attributes\":{\"active_header_background\":\"#ccc\",\"button_css_classes\":[\"card-button\"],\"children\":[{\"id\":\"55008\"},{\"id\":\"55028\"}],\"css_classes\":[\"accordion\"],\"header_background\":\"\",\"header_color\":\"\",\"header_css_classes\":[\"accordion-header\"],\"margin\":[0,5,0,5],\"name\":\"Card05227\",\"sizing_mode\":\"stretch_width\"},\"id\":\"55007\",\"type\":\"panel.models.layout.Card\"},{\"attributes\":{},\"id\":\"54782\",\"type\":\"StringFormatter\"},{\"attributes\":{\"children\":[{\"id\":\"54756\"}],\"css_classes\":[\"card-header-row\"],\"margin\":[0,0,0,0],\"name\":\"Row05182\",\"sizing_mode\":\"stretch_width\"},\"id\":\"54755\",\"type\":\"Row\"},{\"attributes\":{},\"id\":\"54834\",\"type\":\"StringEditor\"},{\"attributes\":{\"data\":{\"column\":[\"timestamp\",\"tps\",\"latency_95th_percentile\",\"dbid\"],\"index\":[\"0\",\"1\",\"2\",\"3\"],\"key\":[false,false,false,false],\"type\":[\"timestamp without time zone\",\"double precision\",\"double precision\",\"character varying\"]},\"selected\":{\"id\":\"54758\"},\"selection_policy\":{\"id\":\"55081\"}},\"id\":\"54757\",\"type\":\"ColumnDataSource\"},{\"attributes\":{\"css_classes\":[\"card-title\"],\"margin\":[5,0,5,0],\"name\":\"HTML05184\",\"sizing_mode\":\"stretch_width\",\"text\":\"&lt;i class=&#x27;fa fa-table&#x27;&gt;&lt;/i&gt; Performance\"},\"id\":\"54756\",\"type\":\"panel.models.markup.HTML\"},{\"attributes\":{\"icon\":\"check-circle-o\"},\"id\":\"54840\",\"type\":\"BooleanFormatter\"},{\"attributes\":{},\"id\":\"55012\",\"type\":\"StringFormatter\"},{\"attributes\":{\"editor\":{\"id\":\"54783\"},\"field\":\"column\",\"formatter\":{\"id\":\"54782\"},\"title\":\"column\",\"width\":0},\"id\":\"54784\",\"type\":\"TableColumn\"},{\"attributes\":{},\"id\":\"55000\",\"type\":\"CheckboxEditor\"},{\"attributes\":{\"css_classes\":[\"card-title\"],\"margin\":[5,0,5,0],\"name\":\"HTML05200\",\"sizing_mode\":\"stretch_width\",\"text\":\"&lt;i class=&#x27;fa fa-table&#x27;&gt;&lt;/i&gt; Conflicts\"},\"id\":\"54848\",\"type\":\"panel.models.markup.HTML\"},{\"attributes\":{\"margin\":[0,0,0,0],\"name\":\"Row05159\",\"sizing_mode\":\"stretch_width\"},\"id\":\"55069\",\"type\":\"Row\"},{\"attributes\":{\"columns\":[{\"id\":\"54761\"},{\"id\":\"54766\"},{\"id\":\"54772\"}],\"configuration\":{\"columns\":[{\"field\":\"column\"},{\"field\":\"type\"},{\"field\":\"key\",\"sorter\":\"boolean\"}],\"dataTree\":false,\"selectable\":true},\"layout\":\"fit_data_table\",\"margin\":[5,10,5,10],\"name\":\"<i class='fa fa-table'></i> Performance\",\"page\":1,\"page_size\":20,\"select_mode\":true,\"selectable_rows\":null,\"sizing_mode\":\"stretch_width\",\"source\":{\"id\":\"54757\"},\"styles\":{\"data\":{},\"id\":\"1bb515acdfac4f73af70b618171ae635\"},\"subscribed_events\":[\"cell-click\",\"table-edit\"],\"theme_url\":\"https://cdn.jsdelivr.net/npm/@holoviz/panel@0.14.4/dist/bundled/datatabulator/tabulator-tables@5.3.2/dist/css/\"},\"id\":\"54775\",\"type\":\"panel.models.tabulator.DataTabulator\"},{\"attributes\":{\"css_classes\":[\"card-title\"],\"margin\":[5,0,5,0],\"name\":\"HTML05216\",\"sizing_mode\":\"stretch_width\",\"text\":\"&lt;i class=&#x27;fa fa-table&#x27;&gt;&lt;/i&gt; Sessions\"},\"id\":\"54940\",\"type\":\"panel.models.markup.HTML\"},{\"attributes\":{},\"id\":\"55091\",\"type\":\"UnionRenderers\"},{\"attributes\":{\"children\":[{\"id\":\"54751\"},{\"id\":\"55053\"}],\"margin\":[0,0,0,0],\"name\":\"Row05180\",\"sizing_mode\":\"stretch_width\"},\"id\":\"54750\",\"type\":\"Row\"},{\"attributes\":{\"children\":[{\"id\":\"54825\"}],\"css_classes\":[\"card-header-row\"],\"margin\":[0,0,0,0],\"name\":\"Row05194\",\"sizing_mode\":\"stretch_width\"},\"id\":\"54824\",\"type\":\"Row\"},{\"attributes\":{\"editor\":{\"id\":\"55013\"},\"field\":\"column\",\"formatter\":{\"id\":\"55012\"},\"title\":\"column\",\"width\":0},\"id\":\"55014\",\"type\":\"TableColumn\"}],\"root_ids\":[\"54750\",\"55159\"]},\"title\":\"Bokeh Application\",\"version\":\"2.4.3\"}};\n",
       "    var render_items = [{\"docid\":\"82c333ec-3556-44f1-86ef-4bc031724bf4\",\"root_ids\":[\"54750\"],\"roots\":{\"54750\":\"aa9ec387-d6c3-4788-8cdb-21ce2e4e17d3\"}}];\n",
       "    root.Bokeh.embed.embed_items_notebook(docs_json, render_items);\n",
       "    for (const render_item of render_items) {\n",
       "      for (const root_id of render_item.root_ids) {\n",
       "\tconst id_el = document.getElementById(root_id)\n",
       "\tif (id_el.children.length && (id_el.children[0].className === 'bk-root')) {\n",
       "\t  const root_el = id_el.children[0]\n",
       "\t  root_el.id = root_el.id + '-rendered'\n",
       "\t}\n",
       "      }\n",
       "    }\n",
       "  }\n",
       "  if (root.Bokeh !== undefined && root.Bokeh.Panel !== undefined && ( root['Plotly'] !== undefined) && ( root['Tabulator'] !== undefined) && ( root['Plotly'] !== undefined) && ( root['Tabulator'] !== undefined) && ( root['Plotly'] !== undefined) && ( root['Tabulator'] !== undefined) && ( root['Plotly'] !== undefined) && ( root['Tabulator'] !== undefined) && ( root['Plotly'] !== undefined) && ( root['Tabulator'] !== undefined) && ( root['Plotly'] !== undefined) && ( root['Tabulator'] !== undefined) && ( root['Plotly'] !== undefined) && ( root['Tabulator'] !== undefined) && ( root['Plotly'] !== undefined) && ( root['Tabulator'] !== undefined) && ( root['Plotly'] !== undefined) && ( root['Tabulator'] !== undefined) && ( root['Plotly'] !== undefined) && ( root['Tabulator'] !== undefined) && ( root['Plotly'] !== undefined) && ( root['Tabulator'] !== undefined) && ( root['Plotly'] !== undefined) && ( root['Tabulator'] !== undefined) && ( root['Plotly'] !== undefined) && ( root['Tabulator'] !== undefined) && ( root['Plotly'] !== undefined) && ( root['Tabulator'] !== undefined) && ( root['Plotly'] !== undefined) && ( root['Tabulator'] !== undefined) && ( root['Plotly'] !== undefined) && ( root['Tabulator'] !== undefined) && ( root['Plotly'] !== undefined) && ( root['Tabulator'] !== undefined) && ( root['Plotly'] !== undefined) && ( root['Tabulator'] !== undefined) && ( root['Plotly'] !== undefined) && ( root['Tabulator'] !== undefined) && ( root['Plotly'] !== undefined) && ( root['Tabulator'] !== undefined) && ( root['Plotly'] !== undefined) && ( root['Tabulator'] !== undefined) && ( root['Plotly'] !== undefined) && ( root['Tabulator'] !== undefined) && ( root['Plotly'] !== undefined) && ( root['Tabulator'] !== undefined) && ( root['Plotly'] !== undefined) && ( root['Tabulator'] !== undefined) && ( root['Plotly'] !== undefined) && ( root['Tabulator'] !== undefined) && ( root['Plotly'] !== undefined) && ( root['Tabulator'] !== undefined) && ( root['Plotly'] !== undefined) && ( root['Tabulator'] !== undefined) && ( root['Plotly'] !== undefined) && ( root['Tabulator'] !== undefined) && ( root['Plotly'] !== undefined) && ( root['Tabulator'] !== undefined) && ( root['Plotly'] !== undefined) && ( root['Tabulator'] !== undefined) && ( root['Plotly'] !== undefined) && ( root['Tabulator'] !== undefined) && ( root['Plotly'] !== undefined) && ( root['Tabulator'] !== undefined) && ( root['Plotly'] !== undefined) && ( root['Tabulator'] !== undefined)) {\n",
       "    embed_document(root);\n",
       "  } else {\n",
       "    var attempts = 0;\n",
       "    var timer = setInterval(function(root) {\n",
       "      if (root.Bokeh !== undefined && root.Bokeh.Panel !== undefined && (root['Plotly'] !== undefined) && (root['Tabulator'] !== undefined) && (root['Plotly'] !== undefined) && (root['Tabulator'] !== undefined) && (root['Plotly'] !== undefined) && (root['Tabulator'] !== undefined) && (root['Plotly'] !== undefined) && (root['Tabulator'] !== undefined) && (root['Plotly'] !== undefined) && (root['Tabulator'] !== undefined) && (root['Plotly'] !== undefined) && (root['Tabulator'] !== undefined) && (root['Plotly'] !== undefined) && (root['Tabulator'] !== undefined) && (root['Plotly'] !== undefined) && (root['Tabulator'] !== undefined) && (root['Plotly'] !== undefined) && (root['Tabulator'] !== undefined) && (root['Plotly'] !== undefined) && (root['Tabulator'] !== undefined) && (root['Plotly'] !== undefined) && (root['Tabulator'] !== undefined) && (root['Plotly'] !== undefined) && (root['Tabulator'] !== undefined) && (root['Plotly'] !== undefined) && (root['Tabulator'] !== undefined) && (root['Plotly'] !== undefined) && (root['Tabulator'] !== undefined) && (root['Plotly'] !== undefined) && (root['Tabulator'] !== undefined) && (root['Plotly'] !== undefined) && (root['Tabulator'] !== undefined) && (root['Plotly'] !== undefined) && (root['Tabulator'] !== undefined) && (root['Plotly'] !== undefined) && (root['Tabulator'] !== undefined) && (root['Plotly'] !== undefined) && (root['Tabulator'] !== undefined) && (root['Plotly'] !== undefined) && (root['Tabulator'] !== undefined) && (root['Plotly'] !== undefined) && (root['Tabulator'] !== undefined) && (root['Plotly'] !== undefined) && (root['Tabulator'] !== undefined) && (root['Plotly'] !== undefined) && (root['Tabulator'] !== undefined) && (root['Plotly'] !== undefined) && (root['Tabulator'] !== undefined) && (root['Plotly'] !== undefined) && (root['Tabulator'] !== undefined) && (root['Plotly'] !== undefined) && (root['Tabulator'] !== undefined) && (root['Plotly'] !== undefined) && (root['Tabulator'] !== undefined) && (root['Plotly'] !== undefined) && (root['Tabulator'] !== undefined) && (root['Plotly'] !== undefined) && (root['Tabulator'] !== undefined) && (root['Plotly'] !== undefined) && (root['Tabulator'] !== undefined) && (root['Plotly'] !== undefined) && (root['Tabulator'] !== undefined) && (root['Plotly'] !== undefined) && (root['Tabulator'] !== undefined) && (root['Plotly'] !== undefined) && (root['Tabulator'] !== undefined)) {\n",
       "        clearInterval(timer);\n",
       "        embed_document(root);\n",
       "      } else if (document.readyState == \"complete\") {\n",
       "        attempts++;\n",
       "        if (attempts > 200) {\n",
       "          clearInterval(timer);\n",
       "          console.log(\"Bokeh: ERROR: Unable to run BokehJS code because BokehJS library is missing\");\n",
       "        }\n",
       "      }\n",
       "    }, 25, root)\n",
       "  }\n",
       "})(window);</script>"
      ],
      "text/plain": [
       "Row(sizing_mode='stretch_width')\n",
       "    [0] Column(width=350)\n",
       "        [0] Markdown(str, sizing_mode='stretch_width')\n",
       "        [1] Accordion(sizing_mode='stretch_width')\n",
       "            [0] Tabulator(formatters={'key': BooleanFormatter(i...}, name=\"<i class='fa f..., show_index=False, sizing_mode='stretch_width', value=              ...)\n",
       "            [1] Tabulator(formatters={'key': BooleanFormatter(i...}, name=\"<i class='fa f..., show_index=False, sizing_mode='stretch_width', value=           column  ...)\n",
       "            [2] Tabulator(formatters={'key': BooleanFormatter(i...}, name=\"<i class='fa f..., show_index=False, sizing_mode='stretch_width', value=              ...)\n",
       "            [3] Tabulator(formatters={'key': BooleanFormatter(i...}, name=\"<i class='fa f..., show_index=False, sizing_mode='stretch_width', value=              ...)\n",
       "            [4] Tabulator(formatters={'key': BooleanFormatter(i...}, name=\"<i class='fa f..., show_index=False, sizing_mode='stretch_width', value=              ...)\n",
       "            [5] Tabulator(formatters={'key': BooleanFormatter(i...}, name=\"<i class='fa f..., show_index=False, sizing_mode='stretch_width', value=              ...)\n",
       "            [6] Tabulator(formatters={'key': BooleanFormatter(i...}, name=\"<i class='fa f..., show_index=False, sizing_mode='stretch_width', value=              ...)\n",
       "            [7] Tabulator(formatters={'key': BooleanFormatter(i...}, name=\"<i class='fa f..., show_index=False, sizing_mode='stretch_width', value=             c...)\n",
       "            [8] Tabulator(formatters={'key': BooleanFormatter(i...}, name=\"<i class='fa f..., show_index=False, sizing_mode='stretch_width', value=              ...)\n",
       "            [9] Tabulator(formatters={'key': BooleanFormatter(i...}, name=\"<i class='fa f..., show_index=False, sizing_mode='stretch_width', value=              ...)\n",
       "            [10] Tabulator(formatters={'key': BooleanFormatter(i...}, name=\"<i class='fa f..., show_index=False, sizing_mode='stretch_width', value=        column  ...)\n",
       "            [11] Tabulator(formatters={'key': BooleanFormatter(i...}, name=\"<i class='fa f..., show_index=False, sizing_mode='stretch_width', value=              ...)\n",
       "            [12] Tabulator(formatters={'key': BooleanFormatter(i...}, name=\"<i class='fa f..., show_index=False, sizing_mode='stretch_width', value=            column  ...)\n",
       "    [1] Column(sizing_mode='stretch_width')\n",
       "        [0] Markdown(str, sizing_mode='stretch_width')\n",
       "        [1] Row(sizing_mode='stretch_width')\n",
       "            [0] TextInput(name='Title', placeholder='Enter a string f..., width=300)\n",
       "            [1] Select(name='Tables', options=['performance', ...], value='performance', width=300)\n",
       "            [2] Column(sizing_mode='stretch_width')\n",
       "                [0] Select(name='Time range', options=['30 minutes', ...], value='30 minutes', width=300)\n",
       "                [1] DatetimeRangePicker(disabled=True, value=(datetime.datetime(2023, ..., width=300)\n",
       "            [3] Select(name='Auto refresh', options={'Off': 'None', ...}, value='None', width=300)\n",
       "        [2] Card(title='Task', width=1200)\n",
       "            [0] Row(sizing_mode='stretch_width')\n",
       "                [0] Column(css_classes=['task_box'], sizing_mode='stretch_width')\n",
       "                    [0] Row(sizing_mode='stretch_width')\n",
       "                        [0] Select(name='Task', options=['Choose a task', ...], value='Choose a task', width=300)\n",
       "                    [1] Row(sizing_mode='stretch_width')\n",
       "                    [2] Row(sizing_mode='stretch_width')\n",
       "                [1] Button(name='Add task', width=100)\n",
       "        [3] Card(title='Split', width=1200)\n",
       "            [0] Row(sizing_mode='stretch_width')\n",
       "                [0] Select(name='Split', options=['None', 'column', ...], value='None', width=300)\n",
       "                [1] Select(name='Split basis', width=300)\n",
       "        [4] Row(sizing_mode='stretch_width')\n",
       "            [0] Button(name='Draw', width=100)\n",
       "            [1] Button(name='Clean', width=100)"
      ]
     },
     "metadata": {
      "application/vnd.holoviews_exec.v0+json": {
       "id": "54750"
      }
     },
     "output_type": "display_data"
    }
   ],
   "source": [
    "visualize(config)"
   ]
  },
  {
   "cell_type": "code",
   "execution_count": 12,
   "metadata": {
    "tags": []
   },
   "outputs": [
    {
     "name": "stdout",
     "output_type": "stream",
     "text": [
      "Performance data is being collected.\n"
     ]
    },
    {
     "data": {
      "text/plain": [
       "{'db_type': 'postgres',\n",
       " 'db_host': 'dbeda-client',\n",
       " 'db_name': 'test_cli',\n",
       " 'db_user': 'postgres',\n",
       " 'db_password': 'postgres',\n",
       " 'db_port': '5432',\n",
       " 'interval': 10}"
      ]
     },
     "execution_count": 12,
     "metadata": {},
     "output_type": "execute_result"
    }
   ],
   "source": [
    "collect_performance_data(config)"
   ]
  },
  {
   "cell_type": "code",
   "execution_count": 129,
   "metadata": {
    "tags": []
   },
   "outputs": [
    {
     "name": "stdout",
     "output_type": "stream",
     "text": [
      "2023-05-23 00:00:00\n",
      "query_performance_data {'db_type': 'postgres', 'db_host': 'eda-client', 'db_name': 'test_cli', 'db_user': 'postgres', 'db_password': 'postgres', 'db_port': '5432', 'interval': 10}\n",
      "{'table': 'performance', 'metric': 'tps', 'recent_time_window': 'Custom', 'task': 'load prediction', 'config': {'db_type': 'postgres', 'db_host': 'eda-client', 'db_name': 'test_cli', 'db_user': 'postgres', 'db_password': 'postgres', 'db_port': '5432', 'interval': 10}, 'start_time': '2023-05-23 00:00:00', 'end_time': '2023-05-23 12:00:00'}\n"
     ]
    },
    {
     "data": {
      "text/html": [
       "<div>\n",
       "<style scoped>\n",
       "    .dataframe tbody tr th:only-of-type {\n",
       "        vertical-align: middle;\n",
       "    }\n",
       "\n",
       "    .dataframe tbody tr th {\n",
       "        vertical-align: top;\n",
       "    }\n",
       "\n",
       "    .dataframe thead th {\n",
       "        text-align: right;\n",
       "    }\n",
       "</style>\n",
       "<table border=\"1\" class=\"dataframe\">\n",
       "  <thead>\n",
       "    <tr style=\"text-align: right;\">\n",
       "      <th></th>\n",
       "      <th>timestamp</th>\n",
       "      <th>predicted</th>\n",
       "      <th>lower_bound</th>\n",
       "      <th>upper_bound</th>\n",
       "      <th>analysis_time</th>\n",
       "    </tr>\n",
       "  </thead>\n",
       "  <tbody>\n",
       "  </tbody>\n",
       "</table>\n",
       "</div>"
      ],
      "text/plain": [
       "Empty DataFrame\n",
       "Columns: [timestamp, predicted, lower_bound, upper_bound, analysis_time]\n",
       "Index: []"
      ]
     },
     "execution_count": 129,
     "metadata": {},
     "output_type": "execute_result"
    }
   ],
   "source": [
    "# data loading\n",
    "# data = query_performance_data(config, table='performance', metrics='tps', task='metrics', recent_time_window='4 hours')\n",
    "\n",
    "data = query_performance_data(config, table='performance', metrics='tps', task='load prediction', start_time = \"2023-05-23 00:00:00\", end_time = \"2023-05-23 12:00:00\")\n",
    "\n",
    "# \"%Y-%m-%d %H:%M:%S\"\n",
    "df_metric = pd.DataFrame(data['metric'])\n",
    "df_task = pd.DataFrame(data['task'])\n",
    "\n",
    "df_task"
   ]
  },
  {
   "cell_type": "code",
   "execution_count": 98,
   "metadata": {
    "tags": []
   },
   "outputs": [
    {
     "data": {
      "text/html": [
       "<div>\n",
       "<style scoped>\n",
       "    .dataframe tbody tr th:only-of-type {\n",
       "        vertical-align: middle;\n",
       "    }\n",
       "\n",
       "    .dataframe tbody tr th {\n",
       "        vertical-align: top;\n",
       "    }\n",
       "\n",
       "    .dataframe thead th {\n",
       "        text-align: right;\n",
       "    }\n",
       "</style>\n",
       "<table border=\"1\" class=\"dataframe\">\n",
       "  <thead>\n",
       "    <tr style=\"text-align: right;\">\n",
       "      <th></th>\n",
       "      <th>timestamp</th>\n",
       "      <th>tps</th>\n",
       "    </tr>\n",
       "  </thead>\n",
       "  <tbody>\n",
       "    <tr>\n",
       "      <th>0</th>\n",
       "      <td>2023-05-23 11:05:40</td>\n",
       "      <td>11.832079</td>\n",
       "    </tr>\n",
       "    <tr>\n",
       "      <th>1</th>\n",
       "      <td>2023-05-23 11:05:50</td>\n",
       "      <td>11.560025</td>\n",
       "    </tr>\n",
       "    <tr>\n",
       "      <th>2</th>\n",
       "      <td>2023-05-23 11:06:00</td>\n",
       "      <td>12.971010</td>\n",
       "    </tr>\n",
       "    <tr>\n",
       "      <th>3</th>\n",
       "      <td>2023-05-23 11:06:10</td>\n",
       "      <td>12.738367</td>\n",
       "    </tr>\n",
       "    <tr>\n",
       "      <th>4</th>\n",
       "      <td>2023-05-23 11:06:20</td>\n",
       "      <td>11.638327</td>\n",
       "    </tr>\n",
       "    <tr>\n",
       "      <th>...</th>\n",
       "      <td>...</td>\n",
       "      <td>...</td>\n",
       "    </tr>\n",
       "    <tr>\n",
       "      <th>945</th>\n",
       "      <td>2023-05-23 13:43:10</td>\n",
       "      <td>10.702627</td>\n",
       "    </tr>\n",
       "    <tr>\n",
       "      <th>946</th>\n",
       "      <td>2023-05-23 13:43:20</td>\n",
       "      <td>11.445576</td>\n",
       "    </tr>\n",
       "    <tr>\n",
       "      <th>947</th>\n",
       "      <td>2023-05-23 13:43:30</td>\n",
       "      <td>12.604301</td>\n",
       "    </tr>\n",
       "    <tr>\n",
       "      <th>948</th>\n",
       "      <td>2023-05-23 13:43:40</td>\n",
       "      <td>13.103584</td>\n",
       "    </tr>\n",
       "    <tr>\n",
       "      <th>949</th>\n",
       "      <td>2023-05-23 13:43:50</td>\n",
       "      <td>12.772371</td>\n",
       "    </tr>\n",
       "  </tbody>\n",
       "</table>\n",
       "<p>950 rows × 2 columns</p>\n",
       "</div>"
      ],
      "text/plain": [
       "               timestamp        tps\n",
       "0    2023-05-23 11:05:40  11.832079\n",
       "1    2023-05-23 11:05:50  11.560025\n",
       "2    2023-05-23 11:06:00  12.971010\n",
       "3    2023-05-23 11:06:10  12.738367\n",
       "4    2023-05-23 11:06:20  11.638327\n",
       "..                   ...        ...\n",
       "945  2023-05-23 13:43:10  10.702627\n",
       "946  2023-05-23 13:43:20  11.445576\n",
       "947  2023-05-23 13:43:30  12.604301\n",
       "948  2023-05-23 13:43:40  13.103584\n",
       "949  2023-05-23 13:43:50  12.772371\n",
       "\n",
       "[950 rows x 2 columns]"
      ]
     },
     "execution_count": 98,
     "metadata": {},
     "output_type": "execute_result"
    }
   ],
   "source": [
    "split_date = df['timestamp'][int(len(df) * 0.7)]\n",
    "train_df = df[df['timestamp'] <= split_date]\n",
    "test_df = df[df['timestamp'] > split_date]\n",
    "\n",
    "train_df"
   ]
  },
  {
   "cell_type": "markdown",
   "metadata": {},
   "source": [
    "## Load Prediction"
   ]
  },
  {
   "cell_type": "code",
   "execution_count": 99,
   "metadata": {
    "tags": []
   },
   "outputs": [
    {
     "name": "stdout",
     "output_type": "stream",
     "text": [
      "<Response [200]>\n"
     ]
    }
   ],
   "source": [
    "# load prediction train\n",
    "#response = train(config,train_df,'load prediction', pipeline = 'RNN')\n",
    "response = train(config,train_df,'load prediction', pipeline = 'TCN')"
   ]
  },
  {
   "cell_type": "code",
   "execution_count": 100,
   "metadata": {
    "tags": []
   },
   "outputs": [
    {
     "name": "stdout",
     "output_type": "stream",
     "text": [
      "darts_RNN_20230519_154420.pickle\n",
      "darts_TCN_20230523_150814.pickle\n",
      "darts_ARIMA_20230523_145145.pickle\n"
     ]
    }
   ],
   "source": [
    "get_trained_model(config, 'load prediction')"
   ]
  },
  {
   "cell_type": "code",
   "execution_count": 103,
   "metadata": {
    "tags": []
   },
   "outputs": [],
   "source": [
    "predicted = predict(config, 'load prediction', metric = 'tps', path=\"darts_TCN_20230523_150814.pickle\")"
   ]
  },
  {
   "cell_type": "code",
   "execution_count": 104,
   "metadata": {
    "tags": []
   },
   "outputs": [
    {
     "data": {
      "text/html": [
       "<div>\n",
       "<style scoped>\n",
       "    .dataframe tbody tr th:only-of-type {\n",
       "        vertical-align: middle;\n",
       "    }\n",
       "\n",
       "    .dataframe tbody tr th {\n",
       "        vertical-align: top;\n",
       "    }\n",
       "\n",
       "    .dataframe thead th {\n",
       "        text-align: right;\n",
       "    }\n",
       "</style>\n",
       "<table border=\"1\" class=\"dataframe\">\n",
       "  <thead>\n",
       "    <tr style=\"text-align: right;\">\n",
       "      <th></th>\n",
       "      <th>timestamp</th>\n",
       "      <th>predicted</th>\n",
       "    </tr>\n",
       "  </thead>\n",
       "  <tbody>\n",
       "    <tr>\n",
       "      <th>0</th>\n",
       "      <td>2023-05-23 13:44:00</td>\n",
       "      <td>11.356294</td>\n",
       "    </tr>\n",
       "    <tr>\n",
       "      <th>1</th>\n",
       "      <td>2023-05-23 13:44:10</td>\n",
       "      <td>12.255639</td>\n",
       "    </tr>\n",
       "    <tr>\n",
       "      <th>2</th>\n",
       "      <td>2023-05-23 13:44:20</td>\n",
       "      <td>11.409054</td>\n",
       "    </tr>\n",
       "    <tr>\n",
       "      <th>3</th>\n",
       "      <td>2023-05-23 13:44:30</td>\n",
       "      <td>11.839214</td>\n",
       "    </tr>\n",
       "    <tr>\n",
       "      <th>4</th>\n",
       "      <td>2023-05-23 13:44:40</td>\n",
       "      <td>11.385554</td>\n",
       "    </tr>\n",
       "    <tr>\n",
       "      <th>...</th>\n",
       "      <td>...</td>\n",
       "      <td>...</td>\n",
       "    </tr>\n",
       "    <tr>\n",
       "      <th>175</th>\n",
       "      <td>2023-05-23 14:13:10</td>\n",
       "      <td>11.143083</td>\n",
       "    </tr>\n",
       "    <tr>\n",
       "      <th>176</th>\n",
       "      <td>2023-05-23 14:13:20</td>\n",
       "      <td>11.145175</td>\n",
       "    </tr>\n",
       "    <tr>\n",
       "      <th>177</th>\n",
       "      <td>2023-05-23 14:13:30</td>\n",
       "      <td>11.169814</td>\n",
       "    </tr>\n",
       "    <tr>\n",
       "      <th>178</th>\n",
       "      <td>2023-05-23 14:13:40</td>\n",
       "      <td>11.172859</td>\n",
       "    </tr>\n",
       "    <tr>\n",
       "      <th>179</th>\n",
       "      <td>2023-05-23 14:13:50</td>\n",
       "      <td>11.183454</td>\n",
       "    </tr>\n",
       "  </tbody>\n",
       "</table>\n",
       "<p>180 rows × 2 columns</p>\n",
       "</div>"
      ],
      "text/plain": [
       "              timestamp  predicted\n",
       "0   2023-05-23 13:44:00  11.356294\n",
       "1   2023-05-23 13:44:10  12.255639\n",
       "2   2023-05-23 13:44:20  11.409054\n",
       "3   2023-05-23 13:44:30  11.839214\n",
       "4   2023-05-23 13:44:40  11.385554\n",
       "..                  ...        ...\n",
       "175 2023-05-23 14:13:10  11.143083\n",
       "176 2023-05-23 14:13:20  11.145175\n",
       "177 2023-05-23 14:13:30  11.169814\n",
       "178 2023-05-23 14:13:40  11.172859\n",
       "179 2023-05-23 14:13:50  11.183454\n",
       "\n",
       "[180 rows x 2 columns]"
      ]
     },
     "execution_count": 104,
     "metadata": {},
     "output_type": "execute_result"
    }
   ],
   "source": [
    "predicted"
   ]
  },
  {
   "cell_type": "markdown",
   "metadata": {},
   "source": [
    "## Anomaly Detection"
   ]
  },
  {
   "cell_type": "code",
   "execution_count": 105,
   "metadata": {
    "tags": []
   },
   "outputs": [
    {
     "name": "stdout",
     "output_type": "stream",
     "text": [
      "<Response [200]>\n"
     ]
    }
   ],
   "source": [
    "response = train(config,train_df,'anomaly detection', pipeline = 'pyod')"
   ]
  },
  {
   "cell_type": "code",
   "execution_count": 106,
   "metadata": {},
   "outputs": [
    {
     "name": "stdout",
     "output_type": "stream",
     "text": [
      "darts_kmeans_scorer_20230515_233712.pickle\n",
      "darts_kmeans_scorer_20230515_202955.pickle\n",
      "darts_pyod_20230523_155341.pickle\n",
      "darts_kmeans_scorer_20230516_040138.pickle\n",
      "darts_kmeans_scorer_20230515_172657.pickle\n"
     ]
    }
   ],
   "source": [
    "get_trained_model(config, 'anomaly detection')"
   ]
  },
  {
   "cell_type": "code",
   "execution_count": 114,
   "metadata": {
    "tags": []
   },
   "outputs": [],
   "source": [
    "anom_score = predict(config, data = test_df, task = 'anomaly detection', path =\"darts_pyod_20230523_155341.pickle\")"
   ]
  },
  {
   "cell_type": "code",
   "execution_count": 115,
   "metadata": {
    "tags": []
   },
   "outputs": [
    {
     "data": {
      "text/html": [
       "<div>\n",
       "<style scoped>\n",
       "    .dataframe tbody tr th:only-of-type {\n",
       "        vertical-align: middle;\n",
       "    }\n",
       "\n",
       "    .dataframe tbody tr th {\n",
       "        vertical-align: top;\n",
       "    }\n",
       "\n",
       "    .dataframe thead th {\n",
       "        text-align: right;\n",
       "    }\n",
       "</style>\n",
       "<table border=\"1\" class=\"dataframe\">\n",
       "  <thead>\n",
       "    <tr style=\"text-align: right;\">\n",
       "      <th></th>\n",
       "      <th>timestamp</th>\n",
       "      <th>anomaly_score</th>\n",
       "    </tr>\n",
       "  </thead>\n",
       "  <tbody>\n",
       "    <tr>\n",
       "      <th>0</th>\n",
       "      <td>2023-05-23 13:44:00</td>\n",
       "      <td>0.127975</td>\n",
       "    </tr>\n",
       "    <tr>\n",
       "      <th>1</th>\n",
       "      <td>2023-05-23 13:44:10</td>\n",
       "      <td>0.009582</td>\n",
       "    </tr>\n",
       "    <tr>\n",
       "      <th>2</th>\n",
       "      <td>2023-05-23 13:44:20</td>\n",
       "      <td>0.002268</td>\n",
       "    </tr>\n",
       "    <tr>\n",
       "      <th>3</th>\n",
       "      <td>2023-05-23 13:44:30</td>\n",
       "      <td>0.024345</td>\n",
       "    </tr>\n",
       "    <tr>\n",
       "      <th>4</th>\n",
       "      <td>2023-05-23 13:44:40</td>\n",
       "      <td>0.016807</td>\n",
       "    </tr>\n",
       "    <tr>\n",
       "      <th>...</th>\n",
       "      <td>...</td>\n",
       "      <td>...</td>\n",
       "    </tr>\n",
       "    <tr>\n",
       "      <th>401</th>\n",
       "      <td>2023-05-23 14:50:50</td>\n",
       "      <td>0.059468</td>\n",
       "    </tr>\n",
       "    <tr>\n",
       "      <th>402</th>\n",
       "      <td>2023-05-23 14:51:00</td>\n",
       "      <td>0.009982</td>\n",
       "    </tr>\n",
       "    <tr>\n",
       "      <th>403</th>\n",
       "      <td>2023-05-23 14:51:10</td>\n",
       "      <td>0.014458</td>\n",
       "    </tr>\n",
       "    <tr>\n",
       "      <th>404</th>\n",
       "      <td>2023-05-23 14:51:20</td>\n",
       "      <td>0.020490</td>\n",
       "    </tr>\n",
       "    <tr>\n",
       "      <th>405</th>\n",
       "      <td>2023-05-23 14:51:30</td>\n",
       "      <td>0.009485</td>\n",
       "    </tr>\n",
       "  </tbody>\n",
       "</table>\n",
       "<p>406 rows × 2 columns</p>\n",
       "</div>"
      ],
      "text/plain": [
       "              timestamp  anomaly_score\n",
       "0   2023-05-23 13:44:00       0.127975\n",
       "1   2023-05-23 13:44:10       0.009582\n",
       "2   2023-05-23 13:44:20       0.002268\n",
       "3   2023-05-23 13:44:30       0.024345\n",
       "4   2023-05-23 13:44:40       0.016807\n",
       "..                  ...            ...\n",
       "401 2023-05-23 14:50:50       0.059468\n",
       "402 2023-05-23 14:51:00       0.009982\n",
       "403 2023-05-23 14:51:10       0.014458\n",
       "404 2023-05-23 14:51:20       0.020490\n",
       "405 2023-05-23 14:51:30       0.009485\n",
       "\n",
       "[406 rows x 2 columns]"
      ]
     },
     "execution_count": 115,
     "metadata": {},
     "output_type": "execute_result"
    }
   ],
   "source": [
    "anom_score"
   ]
  },
  {
   "cell_type": "code",
   "execution_count": null,
   "metadata": {},
   "outputs": [],
   "source": []
  }
 ],
 "metadata": {
  "interpreter": {
   "hash": "31f2aee4e71d21fbe5cf8b01ff0e069b9275f58929596ceb00d14d90e3e16cd6"
  },
  "kernelspec": {
   "display_name": "Python 3 (ipykernel)",
   "language": "python",
   "name": "python3"
  },
  "language_info": {
   "codemirror_mode": {
    "name": "ipython",
    "version": 3
   },
   "file_extension": ".py",
   "mimetype": "text/x-python",
   "name": "python",
   "nbconvert_exporter": "python",
   "pygments_lexer": "ipython3",
   "version": "3.8.10"
  }
 },
 "nbformat": 4,
 "nbformat_minor": 4
}

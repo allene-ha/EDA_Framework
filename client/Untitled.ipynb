{
 "cells": [
  {
   "cell_type": "code",
   "execution_count": 88,
   "id": "4213d1af-f9dd-49cb-81c6-202fcccc8c14",
   "metadata": {},
   "outputs": [
    {
     "data": {
      "application/vnd.plotly.v1+json": {
       "config": {
        "plotlyServerURL": "https://plot.ly"
       },
       "data": [
        {
         "mode": "lines",
         "name": "Time Series",
         "type": "scatter",
         "x": [
          "2023-10-27T00:00:00",
          "2023-10-27T01:00:00",
          "2023-10-27T02:00:00",
          "2023-10-27T03:00:00",
          "2023-10-27T04:00:00",
          "2023-10-27T05:00:00",
          "2023-10-27T06:00:00",
          "2023-10-27T07:00:00",
          "2023-10-27T08:00:00",
          "2023-10-27T09:00:00",
          "2023-10-27T10:00:00",
          "2023-10-27T11:00:00",
          "2023-10-27T12:00:00",
          "2023-10-27T13:00:00",
          "2023-10-27T14:00:00",
          "2023-10-27T15:00:00",
          "2023-10-27T16:00:00",
          "2023-10-27T17:00:00",
          "2023-10-27T18:00:00",
          "2023-10-27T19:00:00",
          "2023-10-27T20:00:00",
          "2023-10-27T21:00:00",
          "2023-10-27T22:00:00",
          "2023-10-27T23:00:00",
          "2023-10-28T00:00:00",
          "2023-10-28T01:00:00",
          "2023-10-28T02:00:00",
          "2023-10-28T03:00:00",
          "2023-10-28T04:00:00",
          "2023-10-28T05:00:00",
          "2023-10-28T06:00:00",
          "2023-10-28T07:00:00",
          "2023-10-28T08:00:00",
          "2023-10-28T09:00:00",
          "2023-10-28T10:00:00",
          "2023-10-28T11:00:00",
          "2023-10-28T12:00:00",
          "2023-10-28T13:00:00",
          "2023-10-28T14:00:00",
          "2023-10-28T15:00:00",
          "2023-10-28T16:00:00",
          "2023-10-28T17:00:00",
          "2023-10-28T18:00:00",
          "2023-10-28T19:00:00",
          "2023-10-28T20:00:00",
          "2023-10-28T21:00:00",
          "2023-10-28T22:00:00",
          "2023-10-28T23:00:00",
          "2023-10-29T00:00:00",
          "2023-10-29T01:00:00"
         ],
         "y": [
          33.19301042557833,
          171.6135739723444,
          121.86439548874091,
          50.91375787375514,
          99.44120189597396,
          159.79139528781042,
          0.6509340612681935,
          134.54143678931783,
          131.65459454605323,
          99.38116100991702,
          89.51014052670561,
          50.267167890698715,
          15.976130303635587,
          62.28920028007176,
          21.41606268585518,
          53.777901769575834,
          130.22388982926628,
          112.678771481284,
          172.0730461520667,
          43.823721833674014,
          111.22153681130818,
          150.14532657246508,
          22.256154020838522,
          15.688519625600385,
          60.87221781874319,
          162.91141275861037,
          111.44610214683993,
          27.608682880410967,
          153.88237346105953,
          174.94492632727082,
          94.05531732715158,
          169.3950012525741,
          64.12274457203632,
          67.96097882501438,
          134.62176939992867,
          24.615613765558724,
          130.99069433627113,
          143.28492690787277,
          80.63411567664663,
          97.7064425758486,
          177.11359075809304,
          52.304722298816166,
          103.18661097599599,
          150.13635244670436,
          99.00686222051034,
          18.65274747176975,
          136.0786079028497,
          108.08522841992185,
          23.0194815416962,
          7.376263014565527
         ]
        },
        {
         "marker": {
          "color": [
           0.9772741530771603,
           0.7792433841812343,
           0.7949159789072615,
           0.6485061623676361,
           0.4844474261650735,
           0.3591425638947845,
           0.6657211905469136,
           0.8820087295784311,
           0.170661731951266,
           0.6840994476706256,
           0.9572689183393597,
           0.7494741965806582,
           0.32950537307648353,
           0.4508022139243065,
           0.861684215911887,
           0.5159307862238818,
           0.4784009833204642,
           0.7808342448751637,
           0.4159356934308903,
           0.43349734329511647,
           0.03491435354084438,
           0.7233000713240972,
           0.7910895710066188,
           0.8495034499359086,
           0.7566817860336035,
           0.7278382008257366,
           0.7475538174767035,
           0.043023593187275555,
           0.684374822544047,
           0.46102931262538305,
           0.7405727244871552,
           0.664380154452878,
           0.43237084271470627,
           0.1069824449988166,
           0.5751068712729446,
           0.5733390108247363,
           0.6115433561928153,
           0.8796831050396732,
           0.8843407156276257,
           0.24967238147657278,
           0.45152349595835983,
           0.06336829306721747,
           0.11764574502767533,
           0.7124222398459781,
           0.314866618935692,
           0.15658464162184338,
           0.755262686000601,
           0.4245111937054107,
           0.8509465617641107,
           0.6795339696080427
          ],
          "colorbar": {
           "title": {
            "text": "Anomaly Score"
           }
          },
          "colorscale": [
           [
            0,
            "rgb(255,245,240)"
           ],
           [
            0.125,
            "rgb(254,224,210)"
           ],
           [
            0.25,
            "rgb(252,187,161)"
           ],
           [
            0.375,
            "rgb(252,146,114)"
           ],
           [
            0.5,
            "rgb(251,106,74)"
           ],
           [
            0.625,
            "rgb(239,59,44)"
           ],
           [
            0.75,
            "rgb(203,24,29)"
           ],
           [
            0.875,
            "rgb(165,15,21)"
           ],
           [
            1,
            "rgb(103,0,13)"
           ]
          ],
          "size": 10
         },
         "mode": "markers",
         "name": "Anomalies",
         "type": "scatter",
         "x": [
          "2023-10-27T02:00:00",
          "2023-10-27T05:00:00",
          "2023-10-28T16:00:00"
         ],
         "y": [
          121.86439548874091,
          159.79139528781042,
          177.11359075809304
         ]
        }
       ],
       "layout": {
        "annotations": [
         {
          "arrowcolor": "Red",
          "arrowhead": 4,
          "arrowwidth": 1,
          "bgcolor": "lightgray",
          "bordercolor": "darkgray",
          "borderwidth": 1,
          "showarrow": true,
          "text": "memory",
          "x": "2023-10-27T02:00:00",
          "y": 121.86439548874091
         },
         {
          "arrowcolor": "Red",
          "arrowhead": 4,
          "arrowwidth": 1,
          "bgcolor": "lightgray",
          "bordercolor": "darkgray",
          "borderwidth": 1,
          "showarrow": true,
          "text": "memory",
          "x": "2023-10-27T05:00:00",
          "y": 159.79139528781042
         },
         {
          "arrowcolor": "Red",
          "arrowhead": 4,
          "arrowwidth": 1,
          "bgcolor": "lightgray",
          "bordercolor": "darkgray",
          "borderwidth": 1,
          "showarrow": true,
          "text": "workload spike",
          "x": "2023-10-28T16:00:00",
          "y": 177.11359075809304
         }
        ],
        "autosize": true,
        "legend": {
         "orientation": "h",
         "x": 0,
         "y": 1.2
        },
        "template": {
         "data": {
          "bar": [
           {
            "error_x": {
             "color": "#2a3f5f"
            },
            "error_y": {
             "color": "#2a3f5f"
            },
            "marker": {
             "line": {
              "color": "white",
              "width": 0.5
             },
             "pattern": {
              "fillmode": "overlay",
              "size": 10,
              "solidity": 0.2
             }
            },
            "type": "bar"
           }
          ],
          "barpolar": [
           {
            "marker": {
             "line": {
              "color": "white",
              "width": 0.5
             },
             "pattern": {
              "fillmode": "overlay",
              "size": 10,
              "solidity": 0.2
             }
            },
            "type": "barpolar"
           }
          ],
          "carpet": [
           {
            "aaxis": {
             "endlinecolor": "#2a3f5f",
             "gridcolor": "#C8D4E3",
             "linecolor": "#C8D4E3",
             "minorgridcolor": "#C8D4E3",
             "startlinecolor": "#2a3f5f"
            },
            "baxis": {
             "endlinecolor": "#2a3f5f",
             "gridcolor": "#C8D4E3",
             "linecolor": "#C8D4E3",
             "minorgridcolor": "#C8D4E3",
             "startlinecolor": "#2a3f5f"
            },
            "type": "carpet"
           }
          ],
          "choropleth": [
           {
            "colorbar": {
             "outlinewidth": 0,
             "ticks": ""
            },
            "type": "choropleth"
           }
          ],
          "contour": [
           {
            "colorbar": {
             "outlinewidth": 0,
             "ticks": ""
            },
            "colorscale": [
             [
              0,
              "#0d0887"
             ],
             [
              0.1111111111111111,
              "#46039f"
             ],
             [
              0.2222222222222222,
              "#7201a8"
             ],
             [
              0.3333333333333333,
              "#9c179e"
             ],
             [
              0.4444444444444444,
              "#bd3786"
             ],
             [
              0.5555555555555556,
              "#d8576b"
             ],
             [
              0.6666666666666666,
              "#ed7953"
             ],
             [
              0.7777777777777778,
              "#fb9f3a"
             ],
             [
              0.8888888888888888,
              "#fdca26"
             ],
             [
              1,
              "#f0f921"
             ]
            ],
            "type": "contour"
           }
          ],
          "contourcarpet": [
           {
            "colorbar": {
             "outlinewidth": 0,
             "ticks": ""
            },
            "type": "contourcarpet"
           }
          ],
          "heatmap": [
           {
            "colorbar": {
             "outlinewidth": 0,
             "ticks": ""
            },
            "colorscale": [
             [
              0,
              "#0d0887"
             ],
             [
              0.1111111111111111,
              "#46039f"
             ],
             [
              0.2222222222222222,
              "#7201a8"
             ],
             [
              0.3333333333333333,
              "#9c179e"
             ],
             [
              0.4444444444444444,
              "#bd3786"
             ],
             [
              0.5555555555555556,
              "#d8576b"
             ],
             [
              0.6666666666666666,
              "#ed7953"
             ],
             [
              0.7777777777777778,
              "#fb9f3a"
             ],
             [
              0.8888888888888888,
              "#fdca26"
             ],
             [
              1,
              "#f0f921"
             ]
            ],
            "type": "heatmap"
           }
          ],
          "heatmapgl": [
           {
            "colorbar": {
             "outlinewidth": 0,
             "ticks": ""
            },
            "colorscale": [
             [
              0,
              "#0d0887"
             ],
             [
              0.1111111111111111,
              "#46039f"
             ],
             [
              0.2222222222222222,
              "#7201a8"
             ],
             [
              0.3333333333333333,
              "#9c179e"
             ],
             [
              0.4444444444444444,
              "#bd3786"
             ],
             [
              0.5555555555555556,
              "#d8576b"
             ],
             [
              0.6666666666666666,
              "#ed7953"
             ],
             [
              0.7777777777777778,
              "#fb9f3a"
             ],
             [
              0.8888888888888888,
              "#fdca26"
             ],
             [
              1,
              "#f0f921"
             ]
            ],
            "type": "heatmapgl"
           }
          ],
          "histogram": [
           {
            "marker": {
             "pattern": {
              "fillmode": "overlay",
              "size": 10,
              "solidity": 0.2
             }
            },
            "type": "histogram"
           }
          ],
          "histogram2d": [
           {
            "colorbar": {
             "outlinewidth": 0,
             "ticks": ""
            },
            "colorscale": [
             [
              0,
              "#0d0887"
             ],
             [
              0.1111111111111111,
              "#46039f"
             ],
             [
              0.2222222222222222,
              "#7201a8"
             ],
             [
              0.3333333333333333,
              "#9c179e"
             ],
             [
              0.4444444444444444,
              "#bd3786"
             ],
             [
              0.5555555555555556,
              "#d8576b"
             ],
             [
              0.6666666666666666,
              "#ed7953"
             ],
             [
              0.7777777777777778,
              "#fb9f3a"
             ],
             [
              0.8888888888888888,
              "#fdca26"
             ],
             [
              1,
              "#f0f921"
             ]
            ],
            "type": "histogram2d"
           }
          ],
          "histogram2dcontour": [
           {
            "colorbar": {
             "outlinewidth": 0,
             "ticks": ""
            },
            "colorscale": [
             [
              0,
              "#0d0887"
             ],
             [
              0.1111111111111111,
              "#46039f"
             ],
             [
              0.2222222222222222,
              "#7201a8"
             ],
             [
              0.3333333333333333,
              "#9c179e"
             ],
             [
              0.4444444444444444,
              "#bd3786"
             ],
             [
              0.5555555555555556,
              "#d8576b"
             ],
             [
              0.6666666666666666,
              "#ed7953"
             ],
             [
              0.7777777777777778,
              "#fb9f3a"
             ],
             [
              0.8888888888888888,
              "#fdca26"
             ],
             [
              1,
              "#f0f921"
             ]
            ],
            "type": "histogram2dcontour"
           }
          ],
          "mesh3d": [
           {
            "colorbar": {
             "outlinewidth": 0,
             "ticks": ""
            },
            "type": "mesh3d"
           }
          ],
          "parcoords": [
           {
            "line": {
             "colorbar": {
              "outlinewidth": 0,
              "ticks": ""
             }
            },
            "type": "parcoords"
           }
          ],
          "pie": [
           {
            "automargin": true,
            "type": "pie"
           }
          ],
          "scatter": [
           {
            "fillpattern": {
             "fillmode": "overlay",
             "size": 10,
             "solidity": 0.2
            },
            "type": "scatter"
           }
          ],
          "scatter3d": [
           {
            "line": {
             "colorbar": {
              "outlinewidth": 0,
              "ticks": ""
             }
            },
            "marker": {
             "colorbar": {
              "outlinewidth": 0,
              "ticks": ""
             }
            },
            "type": "scatter3d"
           }
          ],
          "scattercarpet": [
           {
            "marker": {
             "colorbar": {
              "outlinewidth": 0,
              "ticks": ""
             }
            },
            "type": "scattercarpet"
           }
          ],
          "scattergeo": [
           {
            "marker": {
             "colorbar": {
              "outlinewidth": 0,
              "ticks": ""
             }
            },
            "type": "scattergeo"
           }
          ],
          "scattergl": [
           {
            "marker": {
             "colorbar": {
              "outlinewidth": 0,
              "ticks": ""
             }
            },
            "type": "scattergl"
           }
          ],
          "scattermapbox": [
           {
            "marker": {
             "colorbar": {
              "outlinewidth": 0,
              "ticks": ""
             }
            },
            "type": "scattermapbox"
           }
          ],
          "scatterpolar": [
           {
            "marker": {
             "colorbar": {
              "outlinewidth": 0,
              "ticks": ""
             }
            },
            "type": "scatterpolar"
           }
          ],
          "scatterpolargl": [
           {
            "marker": {
             "colorbar": {
              "outlinewidth": 0,
              "ticks": ""
             }
            },
            "type": "scatterpolargl"
           }
          ],
          "scatterternary": [
           {
            "marker": {
             "colorbar": {
              "outlinewidth": 0,
              "ticks": ""
             }
            },
            "type": "scatterternary"
           }
          ],
          "surface": [
           {
            "colorbar": {
             "outlinewidth": 0,
             "ticks": ""
            },
            "colorscale": [
             [
              0,
              "#0d0887"
             ],
             [
              0.1111111111111111,
              "#46039f"
             ],
             [
              0.2222222222222222,
              "#7201a8"
             ],
             [
              0.3333333333333333,
              "#9c179e"
             ],
             [
              0.4444444444444444,
              "#bd3786"
             ],
             [
              0.5555555555555556,
              "#d8576b"
             ],
             [
              0.6666666666666666,
              "#ed7953"
             ],
             [
              0.7777777777777778,
              "#fb9f3a"
             ],
             [
              0.8888888888888888,
              "#fdca26"
             ],
             [
              1,
              "#f0f921"
             ]
            ],
            "type": "surface"
           }
          ],
          "table": [
           {
            "cells": {
             "fill": {
              "color": "#EBF0F8"
             },
             "line": {
              "color": "white"
             }
            },
            "header": {
             "fill": {
              "color": "#C8D4E3"
             },
             "line": {
              "color": "white"
             }
            },
            "type": "table"
           }
          ]
         },
         "layout": {
          "annotationdefaults": {
           "arrowcolor": "#2a3f5f",
           "arrowhead": 0,
           "arrowwidth": 1
          },
          "autotypenumbers": "strict",
          "coloraxis": {
           "colorbar": {
            "outlinewidth": 0,
            "ticks": ""
           }
          },
          "colorscale": {
           "diverging": [
            [
             0,
             "#8e0152"
            ],
            [
             0.1,
             "#c51b7d"
            ],
            [
             0.2,
             "#de77ae"
            ],
            [
             0.3,
             "#f1b6da"
            ],
            [
             0.4,
             "#fde0ef"
            ],
            [
             0.5,
             "#f7f7f7"
            ],
            [
             0.6,
             "#e6f5d0"
            ],
            [
             0.7,
             "#b8e186"
            ],
            [
             0.8,
             "#7fbc41"
            ],
            [
             0.9,
             "#4d9221"
            ],
            [
             1,
             "#276419"
            ]
           ],
           "sequential": [
            [
             0,
             "#0d0887"
            ],
            [
             0.1111111111111111,
             "#46039f"
            ],
            [
             0.2222222222222222,
             "#7201a8"
            ],
            [
             0.3333333333333333,
             "#9c179e"
            ],
            [
             0.4444444444444444,
             "#bd3786"
            ],
            [
             0.5555555555555556,
             "#d8576b"
            ],
            [
             0.6666666666666666,
             "#ed7953"
            ],
            [
             0.7777777777777778,
             "#fb9f3a"
            ],
            [
             0.8888888888888888,
             "#fdca26"
            ],
            [
             1,
             "#f0f921"
            ]
           ],
           "sequentialminus": [
            [
             0,
             "#0d0887"
            ],
            [
             0.1111111111111111,
             "#46039f"
            ],
            [
             0.2222222222222222,
             "#7201a8"
            ],
            [
             0.3333333333333333,
             "#9c179e"
            ],
            [
             0.4444444444444444,
             "#bd3786"
            ],
            [
             0.5555555555555556,
             "#d8576b"
            ],
            [
             0.6666666666666666,
             "#ed7953"
            ],
            [
             0.7777777777777778,
             "#fb9f3a"
            ],
            [
             0.8888888888888888,
             "#fdca26"
            ],
            [
             1,
             "#f0f921"
            ]
           ]
          },
          "colorway": [
           "#636efa",
           "#EF553B",
           "#00cc96",
           "#ab63fa",
           "#FFA15A",
           "#19d3f3",
           "#FF6692",
           "#B6E880",
           "#FF97FF",
           "#FECB52"
          ],
          "font": {
           "color": "#2a3f5f"
          },
          "geo": {
           "bgcolor": "white",
           "lakecolor": "white",
           "landcolor": "white",
           "showlakes": true,
           "showland": true,
           "subunitcolor": "#C8D4E3"
          },
          "hoverlabel": {
           "align": "left"
          },
          "hovermode": "closest",
          "mapbox": {
           "style": "light"
          },
          "paper_bgcolor": "white",
          "plot_bgcolor": "white",
          "polar": {
           "angularaxis": {
            "gridcolor": "#EBF0F8",
            "linecolor": "#EBF0F8",
            "ticks": ""
           },
           "bgcolor": "white",
           "radialaxis": {
            "gridcolor": "#EBF0F8",
            "linecolor": "#EBF0F8",
            "ticks": ""
           }
          },
          "scene": {
           "xaxis": {
            "backgroundcolor": "white",
            "gridcolor": "#DFE8F3",
            "gridwidth": 2,
            "linecolor": "#EBF0F8",
            "showbackground": true,
            "ticks": "",
            "zerolinecolor": "#EBF0F8"
           },
           "yaxis": {
            "backgroundcolor": "white",
            "gridcolor": "#DFE8F3",
            "gridwidth": 2,
            "linecolor": "#EBF0F8",
            "showbackground": true,
            "ticks": "",
            "zerolinecolor": "#EBF0F8"
           },
           "zaxis": {
            "backgroundcolor": "white",
            "gridcolor": "#DFE8F3",
            "gridwidth": 2,
            "linecolor": "#EBF0F8",
            "showbackground": true,
            "ticks": "",
            "zerolinecolor": "#EBF0F8"
           }
          },
          "shapedefaults": {
           "line": {
            "color": "#2a3f5f"
           }
          },
          "ternary": {
           "aaxis": {
            "gridcolor": "#DFE8F3",
            "linecolor": "#A2B1C6",
            "ticks": ""
           },
           "baxis": {
            "gridcolor": "#DFE8F3",
            "linecolor": "#A2B1C6",
            "ticks": ""
           },
           "bgcolor": "white",
           "caxis": {
            "gridcolor": "#DFE8F3",
            "linecolor": "#A2B1C6",
            "ticks": ""
           }
          },
          "title": {
           "x": 0.05
          },
          "xaxis": {
           "automargin": true,
           "gridcolor": "#EBF0F8",
           "linecolor": "#EBF0F8",
           "ticks": "",
           "title": {
            "standoff": 15
           },
           "zerolinecolor": "#EBF0F8",
           "zerolinewidth": 2
          },
          "yaxis": {
           "automargin": true,
           "gridcolor": "#EBF0F8",
           "linecolor": "#EBF0F8",
           "ticks": "",
           "title": {
            "standoff": 15
           },
           "zerolinecolor": "#EBF0F8",
           "zerolinewidth": 2
          }
         }
        },
        "title": {
         "font": {
          "size": 20
         },
         "text": "<b>Fancy Professional Anomaly Explanation Chart</b>",
         "x": 0.5
        },
        "xaxis": {
         "autorange": true,
         "range": [
          "2023-10-26 23:10:16.1268",
          "2023-10-29 01:00"
         ],
         "type": "date"
        },
        "yaxis": {
         "autorange": true,
         "range": [
          -11.380610713515317,
          229.25028478215492
         ],
         "type": "linear"
        }
       }
      },
      "image/png": "[encoded data removed]",
      "text/html": [
       "<div>                            <div id=\"207c0fa3-a94f-4ed0-bfe3-81bebac1138d\" class=\"plotly-graph-div\" style=\"height:525px; width:100%;\"></div>            <script type=\"text/javascript\">                require([\"plotly\"], function(Plotly) {                    window.PLOTLYENV=window.PLOTLYENV || {};                                    if (document.getElementById(\"207c0fa3-a94f-4ed0-bfe3-81bebac1138d\")) {                    Plotly.newPlot(                        \"207c0fa3-a94f-4ed0-bfe3-81bebac1138d\",                        [{\"mode\":\"lines\",\"name\":\"Time Series\",\"x\":[\"2023-10-27T00:00:00\",\"2023-10-27T01:00:00\",\"2023-10-27T02:00:00\",\"2023-10-27T03:00:00\",\"2023-10-27T04:00:00\",\"2023-10-27T05:00:00\",\"2023-10-27T06:00:00\",\"2023-10-27T07:00:00\",\"2023-10-27T08:00:00\",\"2023-10-27T09:00:00\",\"2023-10-27T10:00:00\",\"2023-10-27T11:00:00\",\"2023-10-27T12:00:00\",\"2023-10-27T13:00:00\",\"2023-10-27T14:00:00\",\"2023-10-27T15:00:00\",\"2023-10-27T16:00:00\",\"2023-10-27T17:00:00\",\"2023-10-27T18:00:00\",\"2023-10-27T19:00:00\",\"2023-10-27T20:00:00\",\"2023-10-27T21:00:00\",\"2023-10-27T22:00:00\",\"2023-10-27T23:00:00\",\"2023-10-28T00:00:00\",\"2023-10-28T01:00:00\",\"2023-10-28T02:00:00\",\"2023-10-28T03:00:00\",\"2023-10-28T04:00:00\",\"2023-10-28T05:00:00\",\"2023-10-28T06:00:00\",\"2023-10-28T07:00:00\",\"2023-10-28T08:00:00\",\"2023-10-28T09:00:00\",\"2023-10-28T10:00:00\",\"2023-10-28T11:00:00\",\"2023-10-28T12:00:00\",\"2023-10-28T13:00:00\",\"2023-10-28T14:00:00\",\"2023-10-28T15:00:00\",\"2023-10-28T16:00:00\",\"2023-10-28T17:00:00\",\"2023-10-28T18:00:00\",\"2023-10-28T19:00:00\",\"2023-10-28T20:00:00\",\"2023-10-28T21:00:00\",\"2023-10-28T22:00:00\",\"2023-10-28T23:00:00\",\"2023-10-29T00:00:00\",\"2023-10-29T01:00:00\"],\"y\":[33.19301042557833,171.6135739723444,121.86439548874091,50.91375787375514,99.44120189597396,159.79139528781042,0.6509340612681935,134.54143678931783,131.65459454605323,99.38116100991702,89.51014052670561,50.267167890698715,15.976130303635587,62.28920028007176,21.41606268585518,53.777901769575834,130.22388982926628,112.678771481284,172.0730461520667,43.823721833674014,111.22153681130818,150.14532657246508,22.256154020838522,15.688519625600385,60.87221781874319,162.91141275861037,111.44610214683993,27.608682880410967,153.88237346105953,174.94492632727082,94.05531732715158,169.3950012525741,64.12274457203632,67.96097882501438,134.62176939992867,24.615613765558724,130.99069433627113,143.28492690787277,80.63411567664663,97.7064425758486,177.11359075809304,52.304722298816166,103.18661097599599,150.13635244670436,99.00686222051034,18.65274747176975,136.0786079028497,108.08522841992185,23.0194815416962,7.376263014565527],\"type\":\"scatter\"},{\"marker\":{\"color\":[0.9772741530771603,0.7792433841812343,0.7949159789072615,0.6485061623676361,0.4844474261650735,0.3591425638947845,0.6657211905469136,0.8820087295784311,0.170661731951266,0.6840994476706256,0.9572689183393597,0.7494741965806582,0.32950537307648353,0.4508022139243065,0.861684215911887,0.5159307862238818,0.4784009833204642,0.7808342448751637,0.4159356934308903,0.43349734329511647,0.03491435354084438,0.7233000713240972,0.7910895710066188,0.8495034499359086,0.7566817860336035,0.7278382008257366,0.7475538174767035,0.043023593187275555,0.684374822544047,0.46102931262538305,0.7405727244871552,0.664380154452878,0.43237084271470627,0.1069824449988166,0.5751068712729446,0.5733390108247363,0.6115433561928153,0.8796831050396732,0.8843407156276257,0.24967238147657278,0.45152349595835983,0.06336829306721747,0.11764574502767533,0.7124222398459781,0.314866618935692,0.15658464162184338,0.755262686000601,0.4245111937054107,0.8509465617641107,0.6795339696080427],\"colorbar\":{\"title\":{\"text\":\"Anomaly Score\"}},\"colorscale\":[[0.0,\"rgb(255,245,240)\"],[0.125,\"rgb(254,224,210)\"],[0.25,\"rgb(252,187,161)\"],[0.375,\"rgb(252,146,114)\"],[0.5,\"rgb(251,106,74)\"],[0.625,\"rgb(239,59,44)\"],[0.75,\"rgb(203,24,29)\"],[0.875,\"rgb(165,15,21)\"],[1.0,\"rgb(103,0,13)\"]],\"size\":10},\"mode\":\"markers\",\"name\":\"Anomalies\",\"x\":[\"2023-10-27T02:00:00\",\"2023-10-27T05:00:00\",\"2023-10-28T16:00:00\"],\"y\":[121.86439548874091,159.79139528781042,177.11359075809304],\"type\":\"scatter\"}],                        {\"template\":{\"data\":{\"barpolar\":[{\"marker\":{\"line\":{\"color\":\"white\",\"width\":0.5},\"pattern\":{\"fillmode\":\"overlay\",\"size\":10,\"solidity\":0.2}},\"type\":\"barpolar\"}],\"bar\":[{\"error_x\":{\"color\":\"#2a3f5f\"},\"error_y\":{\"color\":\"#2a3f5f\"},\"marker\":{\"line\":{\"color\":\"white\",\"width\":0.5},\"pattern\":{\"fillmode\":\"overlay\",\"size\":10,\"solidity\":0.2}},\"type\":\"bar\"}],\"carpet\":[{\"aaxis\":{\"endlinecolor\":\"#2a3f5f\",\"gridcolor\":\"#C8D4E3\",\"linecolor\":\"#C8D4E3\",\"minorgridcolor\":\"#C8D4E3\",\"startlinecolor\":\"#2a3f5f\"},\"baxis\":{\"endlinecolor\":\"#2a3f5f\",\"gridcolor\":\"#C8D4E3\",\"linecolor\":\"#C8D4E3\",\"minorgridcolor\":\"#C8D4E3\",\"startlinecolor\":\"#2a3f5f\"},\"type\":\"carpet\"}],\"choropleth\":[{\"colorbar\":{\"outlinewidth\":0,\"ticks\":\"\"},\"type\":\"choropleth\"}],\"contourcarpet\":[{\"colorbar\":{\"outlinewidth\":0,\"ticks\":\"\"},\"type\":\"contourcarpet\"}],\"contour\":[{\"colorbar\":{\"outlinewidth\":0,\"ticks\":\"\"},\"colorscale\":[[0.0,\"#0d0887\"],[0.1111111111111111,\"#46039f\"],[0.2222222222222222,\"#7201a8\"],[0.3333333333333333,\"#9c179e\"],[0.4444444444444444,\"#bd3786\"],[0.5555555555555556,\"#d8576b\"],[0.6666666666666666,\"#ed7953\"],[0.7777777777777778,\"#fb9f3a\"],[0.8888888888888888,\"#fdca26\"],[1.0,\"#f0f921\"]],\"type\":\"contour\"}],\"heatmapgl\":[{\"colorbar\":{\"outlinewidth\":0,\"ticks\":\"\"},\"colorscale\":[[0.0,\"#0d0887\"],[0.1111111111111111,\"#46039f\"],[0.2222222222222222,\"#7201a8\"],[0.3333333333333333,\"#9c179e\"],[0.4444444444444444,\"#bd3786\"],[0.5555555555555556,\"#d8576b\"],[0.6666666666666666,\"#ed7953\"],[0.7777777777777778,\"#fb9f3a\"],[0.8888888888888888,\"#fdca26\"],[1.0,\"#f0f921\"]],\"type\":\"heatmapgl\"}],\"heatmap\":[{\"colorbar\":{\"outlinewidth\":0,\"ticks\":\"\"},\"colorscale\":[[0.0,\"#0d0887\"],[0.1111111111111111,\"#46039f\"],[0.2222222222222222,\"#7201a8\"],[0.3333333333333333,\"#9c179e\"],[0.4444444444444444,\"#bd3786\"],[0.5555555555555556,\"#d8576b\"],[0.6666666666666666,\"#ed7953\"],[0.7777777777777778,\"#fb9f3a\"],[0.8888888888888888,\"#fdca26\"],[1.0,\"#f0f921\"]],\"type\":\"heatmap\"}],\"histogram2dcontour\":[{\"colorbar\":{\"outlinewidth\":0,\"ticks\":\"\"},\"colorscale\":[[0.0,\"#0d0887\"],[0.1111111111111111,\"#46039f\"],[0.2222222222222222,\"#7201a8\"],[0.3333333333333333,\"#9c179e\"],[0.4444444444444444,\"#bd3786\"],[0.5555555555555556,\"#d8576b\"],[0.6666666666666666,\"#ed7953\"],[0.7777777777777778,\"#fb9f3a\"],[0.8888888888888888,\"#fdca26\"],[1.0,\"#f0f921\"]],\"type\":\"histogram2dcontour\"}],\"histogram2d\":[{\"colorbar\":{\"outlinewidth\":0,\"ticks\":\"\"},\"colorscale\":[[0.0,\"#0d0887\"],[0.1111111111111111,\"#46039f\"],[0.2222222222222222,\"#7201a8\"],[0.3333333333333333,\"#9c179e\"],[0.4444444444444444,\"#bd3786\"],[0.5555555555555556,\"#d8576b\"],[0.6666666666666666,\"#ed7953\"],[0.7777777777777778,\"#fb9f3a\"],[0.8888888888888888,\"#fdca26\"],[1.0,\"#f0f921\"]],\"type\":\"histogram2d\"}],\"histogram\":[{\"marker\":{\"pattern\":{\"fillmode\":\"overlay\",\"size\":10,\"solidity\":0.2}},\"type\":\"histogram\"}],\"mesh3d\":[{\"colorbar\":{\"outlinewidth\":0,\"ticks\":\"\"},\"type\":\"mesh3d\"}],\"parcoords\":[{\"line\":{\"colorbar\":{\"outlinewidth\":0,\"ticks\":\"\"}},\"type\":\"parcoords\"}],\"pie\":[{\"automargin\":true,\"type\":\"pie\"}],\"scatter3d\":[{\"line\":{\"colorbar\":{\"outlinewidth\":0,\"ticks\":\"\"}},\"marker\":{\"colorbar\":{\"outlinewidth\":0,\"ticks\":\"\"}},\"type\":\"scatter3d\"}],\"scattercarpet\":[{\"marker\":{\"colorbar\":{\"outlinewidth\":0,\"ticks\":\"\"}},\"type\":\"scattercarpet\"}],\"scattergeo\":[{\"marker\":{\"colorbar\":{\"outlinewidth\":0,\"ticks\":\"\"}},\"type\":\"scattergeo\"}],\"scattergl\":[{\"marker\":{\"colorbar\":{\"outlinewidth\":0,\"ticks\":\"\"}},\"type\":\"scattergl\"}],\"scattermapbox\":[{\"marker\":{\"colorbar\":{\"outlinewidth\":0,\"ticks\":\"\"}},\"type\":\"scattermapbox\"}],\"scatterpolargl\":[{\"marker\":{\"colorbar\":{\"outlinewidth\":0,\"ticks\":\"\"}},\"type\":\"scatterpolargl\"}],\"scatterpolar\":[{\"marker\":{\"colorbar\":{\"outlinewidth\":0,\"ticks\":\"\"}},\"type\":\"scatterpolar\"}],\"scatter\":[{\"fillpattern\":{\"fillmode\":\"overlay\",\"size\":10,\"solidity\":0.2},\"type\":\"scatter\"}],\"scatterternary\":[{\"marker\":{\"colorbar\":{\"outlinewidth\":0,\"ticks\":\"\"}},\"type\":\"scatterternary\"}],\"surface\":[{\"colorbar\":{\"outlinewidth\":0,\"ticks\":\"\"},\"colorscale\":[[0.0,\"#0d0887\"],[0.1111111111111111,\"#46039f\"],[0.2222222222222222,\"#7201a8\"],[0.3333333333333333,\"#9c179e\"],[0.4444444444444444,\"#bd3786\"],[0.5555555555555556,\"#d8576b\"],[0.6666666666666666,\"#ed7953\"],[0.7777777777777778,\"#fb9f3a\"],[0.8888888888888888,\"#fdca26\"],[1.0,\"#f0f921\"]],\"type\":\"surface\"}],\"table\":[{\"cells\":{\"fill\":{\"color\":\"#EBF0F8\"},\"line\":{\"color\":\"white\"}},\"header\":{\"fill\":{\"color\":\"#C8D4E3\"},\"line\":{\"color\":\"white\"}},\"type\":\"table\"}]},\"layout\":{\"annotationdefaults\":{\"arrowcolor\":\"#2a3f5f\",\"arrowhead\":0,\"arrowwidth\":1},\"autotypenumbers\":\"strict\",\"coloraxis\":{\"colorbar\":{\"outlinewidth\":0,\"ticks\":\"\"}},\"colorscale\":{\"diverging\":[[0,\"#8e0152\"],[0.1,\"#c51b7d\"],[0.2,\"#de77ae\"],[0.3,\"#f1b6da\"],[0.4,\"#fde0ef\"],[0.5,\"#f7f7f7\"],[0.6,\"#e6f5d0\"],[0.7,\"#b8e186\"],[0.8,\"#7fbc41\"],[0.9,\"#4d9221\"],[1,\"#276419\"]],\"sequential\":[[0.0,\"#0d0887\"],[0.1111111111111111,\"#46039f\"],[0.2222222222222222,\"#7201a8\"],[0.3333333333333333,\"#9c179e\"],[0.4444444444444444,\"#bd3786\"],[0.5555555555555556,\"#d8576b\"],[0.6666666666666666,\"#ed7953\"],[0.7777777777777778,\"#fb9f3a\"],[0.8888888888888888,\"#fdca26\"],[1.0,\"#f0f921\"]],\"sequentialminus\":[[0.0,\"#0d0887\"],[0.1111111111111111,\"#46039f\"],[0.2222222222222222,\"#7201a8\"],[0.3333333333333333,\"#9c179e\"],[0.4444444444444444,\"#bd3786\"],[0.5555555555555556,\"#d8576b\"],[0.6666666666666666,\"#ed7953\"],[0.7777777777777778,\"#fb9f3a\"],[0.8888888888888888,\"#fdca26\"],[1.0,\"#f0f921\"]]},\"colorway\":[\"#636efa\",\"#EF553B\",\"#00cc96\",\"#ab63fa\",\"#FFA15A\",\"#19d3f3\",\"#FF6692\",\"#B6E880\",\"#FF97FF\",\"#FECB52\"],\"font\":{\"color\":\"#2a3f5f\"},\"geo\":{\"bgcolor\":\"white\",\"lakecolor\":\"white\",\"landcolor\":\"white\",\"showlakes\":true,\"showland\":true,\"subunitcolor\":\"#C8D4E3\"},\"hoverlabel\":{\"align\":\"left\"},\"hovermode\":\"closest\",\"mapbox\":{\"style\":\"light\"},\"paper_bgcolor\":\"white\",\"plot_bgcolor\":\"white\",\"polar\":{\"angularaxis\":{\"gridcolor\":\"#EBF0F8\",\"linecolor\":\"#EBF0F8\",\"ticks\":\"\"},\"bgcolor\":\"white\",\"radialaxis\":{\"gridcolor\":\"#EBF0F8\",\"linecolor\":\"#EBF0F8\",\"ticks\":\"\"}},\"scene\":{\"xaxis\":{\"backgroundcolor\":\"white\",\"gridcolor\":\"#DFE8F3\",\"gridwidth\":2,\"linecolor\":\"#EBF0F8\",\"showbackground\":true,\"ticks\":\"\",\"zerolinecolor\":\"#EBF0F8\"},\"yaxis\":{\"backgroundcolor\":\"white\",\"gridcolor\":\"#DFE8F3\",\"gridwidth\":2,\"linecolor\":\"#EBF0F8\",\"showbackground\":true,\"ticks\":\"\",\"zerolinecolor\":\"#EBF0F8\"},\"zaxis\":{\"backgroundcolor\":\"white\",\"gridcolor\":\"#DFE8F3\",\"gridwidth\":2,\"linecolor\":\"#EBF0F8\",\"showbackground\":true,\"ticks\":\"\",\"zerolinecolor\":\"#EBF0F8\"}},\"shapedefaults\":{\"line\":{\"color\":\"#2a3f5f\"}},\"ternary\":{\"aaxis\":{\"gridcolor\":\"#DFE8F3\",\"linecolor\":\"#A2B1C6\",\"ticks\":\"\"},\"baxis\":{\"gridcolor\":\"#DFE8F3\",\"linecolor\":\"#A2B1C6\",\"ticks\":\"\"},\"bgcolor\":\"white\",\"caxis\":{\"gridcolor\":\"#DFE8F3\",\"linecolor\":\"#A2B1C6\",\"ticks\":\"\"}},\"title\":{\"x\":0.05},\"xaxis\":{\"automargin\":true,\"gridcolor\":\"#EBF0F8\",\"linecolor\":\"#EBF0F8\",\"ticks\":\"\",\"title\":{\"standoff\":15},\"zerolinecolor\":\"#EBF0F8\",\"zerolinewidth\":2},\"yaxis\":{\"automargin\":true,\"gridcolor\":\"#EBF0F8\",\"linecolor\":\"#EBF0F8\",\"ticks\":\"\",\"title\":{\"standoff\":15},\"zerolinecolor\":\"#EBF0F8\",\"zerolinewidth\":2}}},\"legend\":{\"orientation\":\"h\",\"y\":1.2,\"x\":0},\"title\":{\"text\":\"\\u003cb\\u003eFancy Professional Anomaly Explanation Chart\\u003c\\u002fb\\u003e\",\"font\":{\"size\":20},\"x\":0.5},\"annotations\":[{\"arrowcolor\":\"Red\",\"arrowhead\":4,\"arrowwidth\":1,\"bgcolor\":\"lightgray\",\"bordercolor\":\"darkgray\",\"borderwidth\":1,\"showarrow\":true,\"text\":\"memory\",\"x\":\"2023-10-27T02:00:00\",\"y\":121.86439548874091},{\"arrowcolor\":\"Red\",\"arrowhead\":4,\"arrowwidth\":1,\"bgcolor\":\"lightgray\",\"bordercolor\":\"darkgray\",\"borderwidth\":1,\"showarrow\":true,\"text\":\"memory\",\"x\":\"2023-10-27T05:00:00\",\"y\":159.79139528781042},{\"arrowcolor\":\"Red\",\"arrowhead\":4,\"arrowwidth\":1,\"bgcolor\":\"lightgray\",\"bordercolor\":\"darkgray\",\"borderwidth\":1,\"showarrow\":true,\"text\":\"workload spike\",\"x\":\"2023-10-28T16:00:00\",\"y\":177.11359075809304}]},                        {\"responsive\": true}                    ).then(function(){\n",
       "                            \n",
       "var gd = document.getElementById('207c0fa3-a94f-4ed0-bfe3-81bebac1138d');\n",
       "var x = new MutationObserver(function (mutations, observer) {{\n",
       "        var display = window.getComputedStyle(gd).display;\n",
       "        if (!display || display === 'none') {{\n",
       "            console.log([gd, 'removed!']);\n",
       "            Plotly.purge(gd);\n",
       "            observer.disconnect();\n",
       "        }}\n",
       "}});\n",
       "\n",
       "// Listen for the removal of the full notebook cells\n",
       "var notebookContainer = gd.closest('#notebook-container');\n",
       "if (notebookContainer) {{\n",
       "    x.observe(notebookContainer, {childList: true});\n",
       "}}\n",
       "\n",
       "// Listen for the clearing of the current output cell\n",
       "var outputEl = gd.closest('.output');\n",
       "if (outputEl) {{\n",
       "    x.observe(outputEl, {childList: true});\n",
       "}}\n",
       "\n",
       "                        })                };                });            </script>        </div>"
      ]
     },
     "metadata": {},
     "output_type": "display_data"
    }
   ],
   "source": [
    "import pandas as pd\n",
    "import random\n",
    "import plotly.express as px\n",
    "import plotly.graph_objects as go\n",
    "\n",
    "# 더미 데이터 생성\n",
    "n = 50  # 데이터 포인트 수\n",
    "\n",
    "# 날짜 범위 생성\n",
    "date_rng = pd.date_range(start=\"2023-10-27 00:00:00\", periods=n, freq=\"H\")\n",
    "\n",
    "# 더미 데이터 생성\n",
    "data = {\n",
    "    \"Timestamp\": date_rng,\n",
    "    \"Value\": [random.uniform(0, 180) for _ in range(n)],\n",
    "    \"Anomaly_Score\": [random.uniform(0, 1) for _ in range(n)],\n",
    "    \"Is_Anomaly\": [random.choice([False, False,False, False,False, False, True, False,False,False, False, False]) for _ in range(n)],\n",
    "    \"Anomaly_Cause\": [random.choice([\"workload spike\", \"cpu\", \"memory\"]) for _ in range(n)]\n",
    "}\n",
    "\n",
    "# 데이터프레임 생성\n",
    "df = pd.DataFrame(data)\n",
    "\n",
    "# 그래프 생성\n",
    "fig = go.Figure()\n",
    "\n",
    "# 시계열 데이터를 라인 그래프로 추가\n",
    "fig.add_trace(go.Line(x=df[\"Timestamp\"], y=df[\"Value\"], mode=\"lines\", name=\"Time Series\"))\n",
    "\n",
    "\n",
    "df_anomaly = df[df['Is_Anomaly']==True]\n",
    "# Anomaly Score에 따라 색상 동적 설정\n",
    "color_scale = \"Reds\"  # 원하는 색상 스케일 선택\n",
    "colors = df[\"Anomaly_Score\"]  # Anomaly Score에 따라 색상 설정\n",
    "colorbar_title = \"Anomaly Score\"\n",
    "\n",
    "# 스캐터 플롯로 추가\n",
    "fig.add_trace(go.Scatter(x=df_anomaly[\"Timestamp\"], y=df_anomaly[\"Value\"], mode=\"markers\", name=\"Anomalies\", \n",
    "                         marker=dict(size=10, color=colors, colorscale=color_scale, colorbar_title=colorbar_title)))\n",
    "\n",
    "\n",
    "# 범례를 차트 위에 추가\n",
    "fig.update_layout(legend=dict(orientation=\"h\", y=1.2, x=0)) \n",
    "fig.update_layout(\n",
    "    title='<b>Fancy Professional Anomaly Explanation Chart</b>',\n",
    "    title_font=dict(size=20),\n",
    "    title_x=0.5,  # 제목의 가로 위치 (0-1),\n",
    "    template = 'plotly_white'\n",
    "\n",
    ")\n",
    "\n",
    "\n",
    "# 각 데이터 포인트에 화살표, 박스 및 텍스트 추가\n",
    "for index, row in df.iterrows():\n",
    "    if row['Is_Anomaly']:\n",
    "        annotation = go.layout.Annotation(\n",
    "            x=row[\"Timestamp\"],\n",
    "            y=row[\"Value\"],\n",
    "            text=row[\"Anomaly_Cause\"],\n",
    "            showarrow=True,\n",
    "            arrowhead=4,  # 화살표 모양 설정 (1: 화살표 끝, 4: 화살표 양 끝)\n",
    "            arrowcolor=\"Red\",  # 화살표 색상 설정\n",
    "            arrowwidth=1,  # 화살표 두께 설정\n",
    "            bgcolor='lightgray',\n",
    "            bordercolor=\"darkgray\",  # 박스 테두리 색상 설정\n",
    "            borderwidth=1,  # 박스 테두리 두께 설정\n",
    "        )\n",
    "        fig.add_annotation(annotation)\n",
    "\n",
    "# 그래프 출력\n",
    "fig.show()\n",
    "\n",
    "\n"
   ]
  },
  {
   "cell_type": "code",
   "execution_count": null,
   "id": "adc0bcbc-7347-4cf4-9cdf-7247e1ddb90a",
   "metadata": {},
   "outputs": [],
   "source": []
  },
  {
   "cell_type": "code",
   "execution_count": null,
   "id": "bafa9673-2b4a-4ce0-b2f6-9c2fb9d4d7be",
   "metadata": {},
   "outputs": [],
   "source": []
  }
 ],
 "metadata": {
  "kernelspec": {
   "display_name": "Python 3 (ipykernel)",
   "language": "python",
   "name": "python3"
  },
  "language_info": {
   "codemirror_mode": {
    "name": "ipython",
    "version": 3
   },
   "file_extension": ".py",
   "mimetype": "text/x-python",
   "name": "python",
   "nbconvert_exporter": "python",
   "pygments_lexer": "ipython3",
   "version": "3.8.10"
  }
 },
 "nbformat": 4,
 "nbformat_minor": 5
}

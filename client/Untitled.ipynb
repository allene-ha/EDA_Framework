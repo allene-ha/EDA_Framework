{
 "cells": [
  {
   "cell_type": "code",
   "execution_count": 35,
   "id": "4213d1af-f9dd-49cb-81c6-202fcccc8c14",
   "metadata": {},
   "outputs": [
    {
     "data": {
      "application/vnd.plotly.v1+json": {
       "config": {
        "plotlyServerURL": "https://plot.ly"
       },
       "data": [
        {
         "mode": "lines",
         "name": "Time Series",
         "type": "scatter",
         "x": [
          "2023-10-27T00:00:00",
          "2023-10-27T00:00:10",
          "2023-10-27T00:00:20",
          "2023-10-27T00:00:30",
          "2023-10-27T00:00:40",
          "2023-10-27T00:00:50",
          "2023-10-27T00:01:00",
          "2023-10-27T00:01:10",
          "2023-10-27T00:01:20",
          "2023-10-27T00:01:30",
          "2023-10-27T00:01:40",
          "2023-10-27T00:01:50",
          "2023-10-27T00:02:00",
          "2023-10-27T00:02:10",
          "2023-10-27T00:02:20",
          "2023-10-27T00:02:30",
          "2023-10-27T00:02:40",
          "2023-10-27T00:02:50",
          "2023-10-27T00:03:00",
          "2023-10-27T00:03:10",
          "2023-10-27T00:03:20",
          "2023-10-27T00:03:30",
          "2023-10-27T00:03:40",
          "2023-10-27T00:03:50",
          "2023-10-27T00:04:00",
          "2023-10-27T00:04:10",
          "2023-10-27T00:04:20",
          "2023-10-27T00:04:30",
          "2023-10-27T00:04:40",
          "2023-10-27T00:04:50",
          "2023-10-27T00:05:00",
          "2023-10-27T00:05:10",
          "2023-10-27T00:05:20",
          "2023-10-27T00:05:30",
          "2023-10-27T00:05:40",
          "2023-10-27T00:05:50",
          "2023-10-27T00:06:00",
          "2023-10-27T00:06:10",
          "2023-10-27T00:06:20",
          "2023-10-27T00:06:30",
          "2023-10-27T00:06:40",
          "2023-10-27T00:06:50",
          "2023-10-27T00:07:00",
          "2023-10-27T00:07:10",
          "2023-10-27T00:07:20",
          "2023-10-27T00:07:30",
          "2023-10-27T00:07:40",
          "2023-10-27T00:07:50",
          "2023-10-27T00:08:00",
          "2023-10-27T00:08:10"
         ],
         "y": [
          37.73441692327279,
          159.7756929602617,
          45.46242879470661,
          176.26874594000458,
          80.47022558430855,
          11.111005059678305,
          90.31097724248283,
          161.21040473713205,
          44.29041893689576,
          27.715002061957435,
          162.33049343884423,
          117.66750489248884,
          67.69120879372632,
          81.75591320945759,
          147.02524226894445,
          145.37485876077918,
          53.23194342074681,
          76.29741297138942,
          142.68631541313246,
          64.55939786801927,
          86.75843629285323,
          11.747136192760667,
          137.2200550907168,
          44.49372813599112,
          150.07968756464197,
          166.2306117885365,
          26.349207166992997,
          68.19295884272378,
          97.19031316371571,
          116.52281663674152,
          91.07709789910837,
          117.76606478478828,
          96.99227059913248,
          153.82707841929,
          137.18580599924314,
          122.68487942047787,
          41.826333462700404,
          97.48765467813719,
          92.66374419776845,
          105.47913879700366,
          161.6931366809507,
          31.525338822241814,
          47.17726036150991,
          170.27738464540943,
          90.49708267544015,
          116.57164071494843,
          10.039360595182274,
          35.526145409787794,
          20.51434622428802,
          165.21537311557938
         ]
        },
        {
         "marker": {
          "color": [
           0.31735102506654833,
           0.33920167646091937,
           0.11054146841881496,
           0.44798163802339674,
           0.23947720340329637,
           0.8671391846877974,
           0.7588345281590575,
           0.8312609837331265,
           0.41597697049163984,
           0.6785976371775374,
           0.8356614977469032,
           0.8350387649564429,
           0.9661282732286228,
           0.3900994005081665,
           0.8837502365732903,
           0.9804592762601103,
           0.953695330732431,
           0.06883797923967139,
           0.07957694423325834,
           0.7051565777322741,
           0.9422560407063221,
           0.47866734728663873,
           0.13414988966571617,
           0.736227308571124,
           0.5938182947387223,
           0.7542177306399865,
           0.6205429155354536,
           0.7999613074924544,
           0.8831548149530014,
           0.3778900669621422,
           0.6891971184357202,
           0.04103115016845338,
           0.7989632567700786,
           0.5786479826570767,
           0.1690595972028308,
           0.5982609559556803,
           0.16484267762348015,
           0.522408642317716,
           0.9274722807654509,
           0.1649769781801007,
           0.7072923163834439,
           0.7765154657419526,
           0.8735062015243213,
           0.7071196518237991,
           0.2517270106983518,
           0.04633318130854225,
           0.10849771105030148,
           0.45420471181328304,
           0.16137471349601695,
           0.2527159712066699
          ],
          "colorbar": {
           "title": {
            "text": "Anomaly Score"
           }
          },
          "colorscale": [
           [
            0,
            "rgb(255,245,240)"
           ],
           [
            0.125,
            "rgb(254,224,210)"
           ],
           [
            0.25,
            "rgb(252,187,161)"
           ],
           [
            0.375,
            "rgb(252,146,114)"
           ],
           [
            0.5,
            "rgb(251,106,74)"
           ],
           [
            0.625,
            "rgb(239,59,44)"
           ],
           [
            0.75,
            "rgb(203,24,29)"
           ],
           [
            0.875,
            "rgb(165,15,21)"
           ],
           [
            1,
            "rgb(103,0,13)"
           ]
          ],
          "line": {
           "color": "black",
           "width": 1
          },
          "size": 10
         },
         "mode": "markers",
         "name": "Anomalies",
         "type": "scatter",
         "x": [
          "2023-10-27T00:00:50",
          "2023-10-27T00:04:00",
          "2023-10-27T00:04:30"
         ],
         "y": [
          11.111005059678305,
          150.07968756464197,
          68.19295884272378
         ]
        }
       ],
       "layout": {
        "annotations": [
         {
          "arrowcolor": "Red",
          "arrowhead": 4,
          "arrowwidth": 1,
          "bgcolor": "lightgray",
          "bordercolor": "darkgray",
          "borderwidth": 1,
          "showarrow": true,
          "text": "cpu",
          "x": "2023-10-27T00:00:50",
          "y": 11.111005059678305
         },
         {
          "arrowcolor": "Red",
          "arrowhead": 4,
          "arrowwidth": 1,
          "bgcolor": "lightgray",
          "bordercolor": "darkgray",
          "borderwidth": 1,
          "showarrow": true,
          "text": "workload spike",
          "x": "2023-10-27T00:04:00",
          "y": 150.07968756464197
         },
         {
          "arrowcolor": "Red",
          "arrowhead": 4,
          "arrowwidth": 1,
          "bgcolor": "lightgray",
          "bordercolor": "darkgray",
          "borderwidth": 1,
          "showarrow": true,
          "text": "memory",
          "x": "2023-10-27T00:04:30",
          "y": 68.19295884272378
         }
        ],
        "autosize": true,
        "legend": {
         "orientation": "h",
         "x": 0,
         "y": 1.2
        },
        "shapes": [
         {
          "fillcolor": "red",
          "line": {
           "width": 0
          },
          "opacity": 0.2,
          "type": "rect",
          "x0": "2023-10-27T00:00:45",
          "x1": "2023-10-27T00:00:55",
          "xref": "x",
          "y0": 0,
          "y1": 1,
          "yref": "y domain"
         },
         {
          "fillcolor": "red",
          "line": {
           "width": 0
          },
          "opacity": 0.2,
          "type": "rect",
          "x0": "2023-10-27T00:03:55",
          "x1": "2023-10-27T00:04:05",
          "xref": "x",
          "y0": 0,
          "y1": 1,
          "yref": "y domain"
         },
         {
          "fillcolor": "red",
          "line": {
           "width": 0
          },
          "opacity": 0.2,
          "type": "rect",
          "x0": "2023-10-27T00:04:25",
          "x1": "2023-10-27T00:04:35",
          "xref": "x",
          "y0": 0,
          "y1": 1,
          "yref": "y domain"
         }
        ],
        "template": {
         "data": {
          "bar": [
           {
            "error_x": {
             "color": "#2a3f5f"
            },
            "error_y": {
             "color": "#2a3f5f"
            },
            "marker": {
             "line": {
              "color": "white",
              "width": 0.5
             },
             "pattern": {
              "fillmode": "overlay",
              "size": 10,
              "solidity": 0.2
             }
            },
            "type": "bar"
           }
          ],
          "barpolar": [
           {
            "marker": {
             "line": {
              "color": "white",
              "width": 0.5
             },
             "pattern": {
              "fillmode": "overlay",
              "size": 10,
              "solidity": 0.2
             }
            },
            "type": "barpolar"
           }
          ],
          "carpet": [
           {
            "aaxis": {
             "endlinecolor": "#2a3f5f",
             "gridcolor": "#C8D4E3",
             "linecolor": "#C8D4E3",
             "minorgridcolor": "#C8D4E3",
             "startlinecolor": "#2a3f5f"
            },
            "baxis": {
             "endlinecolor": "#2a3f5f",
             "gridcolor": "#C8D4E3",
             "linecolor": "#C8D4E3",
             "minorgridcolor": "#C8D4E3",
             "startlinecolor": "#2a3f5f"
            },
            "type": "carpet"
           }
          ],
          "choropleth": [
           {
            "colorbar": {
             "outlinewidth": 0,
             "ticks": ""
            },
            "type": "choropleth"
           }
          ],
          "contour": [
           {
            "colorbar": {
             "outlinewidth": 0,
             "ticks": ""
            },
            "colorscale": [
             [
              0,
              "#0d0887"
             ],
             [
              0.1111111111111111,
              "#46039f"
             ],
             [
              0.2222222222222222,
              "#7201a8"
             ],
             [
              0.3333333333333333,
              "#9c179e"
             ],
             [
              0.4444444444444444,
              "#bd3786"
             ],
             [
              0.5555555555555556,
              "#d8576b"
             ],
             [
              0.6666666666666666,
              "#ed7953"
             ],
             [
              0.7777777777777778,
              "#fb9f3a"
             ],
             [
              0.8888888888888888,
              "#fdca26"
             ],
             [
              1,
              "#f0f921"
             ]
            ],
            "type": "contour"
           }
          ],
          "contourcarpet": [
           {
            "colorbar": {
             "outlinewidth": 0,
             "ticks": ""
            },
            "type": "contourcarpet"
           }
          ],
          "heatmap": [
           {
            "colorbar": {
             "outlinewidth": 0,
             "ticks": ""
            },
            "colorscale": [
             [
              0,
              "#0d0887"
             ],
             [
              0.1111111111111111,
              "#46039f"
             ],
             [
              0.2222222222222222,
              "#7201a8"
             ],
             [
              0.3333333333333333,
              "#9c179e"
             ],
             [
              0.4444444444444444,
              "#bd3786"
             ],
             [
              0.5555555555555556,
              "#d8576b"
             ],
             [
              0.6666666666666666,
              "#ed7953"
             ],
             [
              0.7777777777777778,
              "#fb9f3a"
             ],
             [
              0.8888888888888888,
              "#fdca26"
             ],
             [
              1,
              "#f0f921"
             ]
            ],
            "type": "heatmap"
           }
          ],
          "heatmapgl": [
           {
            "colorbar": {
             "outlinewidth": 0,
             "ticks": ""
            },
            "colorscale": [
             [
              0,
              "#0d0887"
             ],
             [
              0.1111111111111111,
              "#46039f"
             ],
             [
              0.2222222222222222,
              "#7201a8"
             ],
             [
              0.3333333333333333,
              "#9c179e"
             ],
             [
              0.4444444444444444,
              "#bd3786"
             ],
             [
              0.5555555555555556,
              "#d8576b"
             ],
             [
              0.6666666666666666,
              "#ed7953"
             ],
             [
              0.7777777777777778,
              "#fb9f3a"
             ],
             [
              0.8888888888888888,
              "#fdca26"
             ],
             [
              1,
              "#f0f921"
             ]
            ],
            "type": "heatmapgl"
           }
          ],
          "histogram": [
           {
            "marker": {
             "pattern": {
              "fillmode": "overlay",
              "size": 10,
              "solidity": 0.2
             }
            },
            "type": "histogram"
           }
          ],
          "histogram2d": [
           {
            "colorbar": {
             "outlinewidth": 0,
             "ticks": ""
            },
            "colorscale": [
             [
              0,
              "#0d0887"
             ],
             [
              0.1111111111111111,
              "#46039f"
             ],
             [
              0.2222222222222222,
              "#7201a8"
             ],
             [
              0.3333333333333333,
              "#9c179e"
             ],
             [
              0.4444444444444444,
              "#bd3786"
             ],
             [
              0.5555555555555556,
              "#d8576b"
             ],
             [
              0.6666666666666666,
              "#ed7953"
             ],
             [
              0.7777777777777778,
              "#fb9f3a"
             ],
             [
              0.8888888888888888,
              "#fdca26"
             ],
             [
              1,
              "#f0f921"
             ]
            ],
            "type": "histogram2d"
           }
          ],
          "histogram2dcontour": [
           {
            "colorbar": {
             "outlinewidth": 0,
             "ticks": ""
            },
            "colorscale": [
             [
              0,
              "#0d0887"
             ],
             [
              0.1111111111111111,
              "#46039f"
             ],
             [
              0.2222222222222222,
              "#7201a8"
             ],
             [
              0.3333333333333333,
              "#9c179e"
             ],
             [
              0.4444444444444444,
              "#bd3786"
             ],
             [
              0.5555555555555556,
              "#d8576b"
             ],
             [
              0.6666666666666666,
              "#ed7953"
             ],
             [
              0.7777777777777778,
              "#fb9f3a"
             ],
             [
              0.8888888888888888,
              "#fdca26"
             ],
             [
              1,
              "#f0f921"
             ]
            ],
            "type": "histogram2dcontour"
           }
          ],
          "mesh3d": [
           {
            "colorbar": {
             "outlinewidth": 0,
             "ticks": ""
            },
            "type": "mesh3d"
           }
          ],
          "parcoords": [
           {
            "line": {
             "colorbar": {
              "outlinewidth": 0,
              "ticks": ""
             }
            },
            "type": "parcoords"
           }
          ],
          "pie": [
           {
            "automargin": true,
            "type": "pie"
           }
          ],
          "scatter": [
           {
            "fillpattern": {
             "fillmode": "overlay",
             "size": 10,
             "solidity": 0.2
            },
            "type": "scatter"
           }
          ],
          "scatter3d": [
           {
            "line": {
             "colorbar": {
              "outlinewidth": 0,
              "ticks": ""
             }
            },
            "marker": {
             "colorbar": {
              "outlinewidth": 0,
              "ticks": ""
             }
            },
            "type": "scatter3d"
           }
          ],
          "scattercarpet": [
           {
            "marker": {
             "colorbar": {
              "outlinewidth": 0,
              "ticks": ""
             }
            },
            "type": "scattercarpet"
           }
          ],
          "scattergeo": [
           {
            "marker": {
             "colorbar": {
              "outlinewidth": 0,
              "ticks": ""
             }
            },
            "type": "scattergeo"
           }
          ],
          "scattergl": [
           {
            "marker": {
             "colorbar": {
              "outlinewidth": 0,
              "ticks": ""
             }
            },
            "type": "scattergl"
           }
          ],
          "scattermapbox": [
           {
            "marker": {
             "colorbar": {
              "outlinewidth": 0,
              "ticks": ""
             }
            },
            "type": "scattermapbox"
           }
          ],
          "scatterpolar": [
           {
            "marker": {
             "colorbar": {
              "outlinewidth": 0,
              "ticks": ""
             }
            },
            "type": "scatterpolar"
           }
          ],
          "scatterpolargl": [
           {
            "marker": {
             "colorbar": {
              "outlinewidth": 0,
              "ticks": ""
             }
            },
            "type": "scatterpolargl"
           }
          ],
          "scatterternary": [
           {
            "marker": {
             "colorbar": {
              "outlinewidth": 0,
              "ticks": ""
             }
            },
            "type": "scatterternary"
           }
          ],
          "surface": [
           {
            "colorbar": {
             "outlinewidth": 0,
             "ticks": ""
            },
            "colorscale": [
             [
              0,
              "#0d0887"
             ],
             [
              0.1111111111111111,
              "#46039f"
             ],
             [
              0.2222222222222222,
              "#7201a8"
             ],
             [
              0.3333333333333333,
              "#9c179e"
             ],
             [
              0.4444444444444444,
              "#bd3786"
             ],
             [
              0.5555555555555556,
              "#d8576b"
             ],
             [
              0.6666666666666666,
              "#ed7953"
             ],
             [
              0.7777777777777778,
              "#fb9f3a"
             ],
             [
              0.8888888888888888,
              "#fdca26"
             ],
             [
              1,
              "#f0f921"
             ]
            ],
            "type": "surface"
           }
          ],
          "table": [
           {
            "cells": {
             "fill": {
              "color": "#EBF0F8"
             },
             "line": {
              "color": "white"
             }
            },
            "header": {
             "fill": {
              "color": "#C8D4E3"
             },
             "line": {
              "color": "white"
             }
            },
            "type": "table"
           }
          ]
         },
         "layout": {
          "annotationdefaults": {
           "arrowcolor": "#2a3f5f",
           "arrowhead": 0,
           "arrowwidth": 1
          },
          "autotypenumbers": "strict",
          "coloraxis": {
           "colorbar": {
            "outlinewidth": 0,
            "ticks": ""
           }
          },
          "colorscale": {
           "diverging": [
            [
             0,
             "#8e0152"
            ],
            [
             0.1,
             "#c51b7d"
            ],
            [
             0.2,
             "#de77ae"
            ],
            [
             0.3,
             "#f1b6da"
            ],
            [
             0.4,
             "#fde0ef"
            ],
            [
             0.5,
             "#f7f7f7"
            ],
            [
             0.6,
             "#e6f5d0"
            ],
            [
             0.7,
             "#b8e186"
            ],
            [
             0.8,
             "#7fbc41"
            ],
            [
             0.9,
             "#4d9221"
            ],
            [
             1,
             "#276419"
            ]
           ],
           "sequential": [
            [
             0,
             "#0d0887"
            ],
            [
             0.1111111111111111,
             "#46039f"
            ],
            [
             0.2222222222222222,
             "#7201a8"
            ],
            [
             0.3333333333333333,
             "#9c179e"
            ],
            [
             0.4444444444444444,
             "#bd3786"
            ],
            [
             0.5555555555555556,
             "#d8576b"
            ],
            [
             0.6666666666666666,
             "#ed7953"
            ],
            [
             0.7777777777777778,
             "#fb9f3a"
            ],
            [
             0.8888888888888888,
             "#fdca26"
            ],
            [
             1,
             "#f0f921"
            ]
           ],
           "sequentialminus": [
            [
             0,
             "#0d0887"
            ],
            [
             0.1111111111111111,
             "#46039f"
            ],
            [
             0.2222222222222222,
             "#7201a8"
            ],
            [
             0.3333333333333333,
             "#9c179e"
            ],
            [
             0.4444444444444444,
             "#bd3786"
            ],
            [
             0.5555555555555556,
             "#d8576b"
            ],
            [
             0.6666666666666666,
             "#ed7953"
            ],
            [
             0.7777777777777778,
             "#fb9f3a"
            ],
            [
             0.8888888888888888,
             "#fdca26"
            ],
            [
             1,
             "#f0f921"
            ]
           ]
          },
          "colorway": [
           "#636efa",
           "#EF553B",
           "#00cc96",
           "#ab63fa",
           "#FFA15A",
           "#19d3f3",
           "#FF6692",
           "#B6E880",
           "#FF97FF",
           "#FECB52"
          ],
          "font": {
           "color": "#2a3f5f"
          },
          "geo": {
           "bgcolor": "white",
           "lakecolor": "white",
           "landcolor": "white",
           "showlakes": true,
           "showland": true,
           "subunitcolor": "#C8D4E3"
          },
          "hoverlabel": {
           "align": "left"
          },
          "hovermode": "closest",
          "mapbox": {
           "style": "light"
          },
          "paper_bgcolor": "white",
          "plot_bgcolor": "white",
          "polar": {
           "angularaxis": {
            "gridcolor": "#EBF0F8",
            "linecolor": "#EBF0F8",
            "ticks": ""
           },
           "bgcolor": "white",
           "radialaxis": {
            "gridcolor": "#EBF0F8",
            "linecolor": "#EBF0F8",
            "ticks": ""
           }
          },
          "scene": {
           "xaxis": {
            "backgroundcolor": "white",
            "gridcolor": "#DFE8F3",
            "gridwidth": 2,
            "linecolor": "#EBF0F8",
            "showbackground": true,
            "ticks": "",
            "zerolinecolor": "#EBF0F8"
           },
           "yaxis": {
            "backgroundcolor": "white",
            "gridcolor": "#DFE8F3",
            "gridwidth": 2,
            "linecolor": "#EBF0F8",
            "showbackground": true,
            "ticks": "",
            "zerolinecolor": "#EBF0F8"
           },
           "zaxis": {
            "backgroundcolor": "white",
            "gridcolor": "#DFE8F3",
            "gridwidth": 2,
            "linecolor": "#EBF0F8",
            "showbackground": true,
            "ticks": "",
            "zerolinecolor": "#EBF0F8"
           }
          },
          "shapedefaults": {
           "line": {
            "color": "#2a3f5f"
           }
          },
          "ternary": {
           "aaxis": {
            "gridcolor": "#DFE8F3",
            "linecolor": "#A2B1C6",
            "ticks": ""
           },
           "baxis": {
            "gridcolor": "#DFE8F3",
            "linecolor": "#A2B1C6",
            "ticks": ""
           },
           "bgcolor": "white",
           "caxis": {
            "gridcolor": "#DFE8F3",
            "linecolor": "#A2B1C6",
            "ticks": ""
           }
          },
          "title": {
           "x": 0.05
          },
          "xaxis": {
           "automargin": true,
           "gridcolor": "#EBF0F8",
           "linecolor": "#EBF0F8",
           "ticks": "",
           "title": {
            "standoff": 15
           },
           "zerolinecolor": "#EBF0F8",
           "zerolinewidth": 2
          },
          "yaxis": {
           "automargin": true,
           "gridcolor": "#EBF0F8",
           "linecolor": "#EBF0F8",
           "ticks": "",
           "title": {
            "standoff": 15
           },
           "zerolinecolor": "#EBF0F8",
           "zerolinewidth": 2
          }
         }
        },
        "title": {
         "font": {
          "size": 20
         },
         "text": "<b>Fancy Professional Anomaly Explanation Chart</b>",
         "x": 0.5
        },
        "xaxis": {
         "autorange": true,
         "range": [
          "2023-10-27",
          "2023-10-27 00:08:10"
         ],
         "type": "date"
        },
        "yaxis": {
         "autorange": true,
         "range": [
          -5.742055840526039,
          193.1793187192629
         ],
         "type": "linear"
        }
       }
      },
      "image/png": "[encoded data removed]",
      "text/html": [
       "<div>                            <div id=\"72b61d09-3529-42b7-ab4f-12fb4124515c\" class=\"plotly-graph-div\" style=\"height:525px; width:100%;\"></div>            <script type=\"text/javascript\">                require([\"plotly\"], function(Plotly) {                    window.PLOTLYENV=window.PLOTLYENV || {};                                    if (document.getElementById(\"72b61d09-3529-42b7-ab4f-12fb4124515c\")) {                    Plotly.newPlot(                        \"72b61d09-3529-42b7-ab4f-12fb4124515c\",                        [{\"mode\":\"lines\",\"name\":\"Time Series\",\"x\":[\"2023-10-27T00:00:00\",\"2023-10-27T00:00:10\",\"2023-10-27T00:00:20\",\"2023-10-27T00:00:30\",\"2023-10-27T00:00:40\",\"2023-10-27T00:00:50\",\"2023-10-27T00:01:00\",\"2023-10-27T00:01:10\",\"2023-10-27T00:01:20\",\"2023-10-27T00:01:30\",\"2023-10-27T00:01:40\",\"2023-10-27T00:01:50\",\"2023-10-27T00:02:00\",\"2023-10-27T00:02:10\",\"2023-10-27T00:02:20\",\"2023-10-27T00:02:30\",\"2023-10-27T00:02:40\",\"2023-10-27T00:02:50\",\"2023-10-27T00:03:00\",\"2023-10-27T00:03:10\",\"2023-10-27T00:03:20\",\"2023-10-27T00:03:30\",\"2023-10-27T00:03:40\",\"2023-10-27T00:03:50\",\"2023-10-27T00:04:00\",\"2023-10-27T00:04:10\",\"2023-10-27T00:04:20\",\"2023-10-27T00:04:30\",\"2023-10-27T00:04:40\",\"2023-10-27T00:04:50\",\"2023-10-27T00:05:00\",\"2023-10-27T00:05:10\",\"2023-10-27T00:05:20\",\"2023-10-27T00:05:30\",\"2023-10-27T00:05:40\",\"2023-10-27T00:05:50\",\"2023-10-27T00:06:00\",\"2023-10-27T00:06:10\",\"2023-10-27T00:06:20\",\"2023-10-27T00:06:30\",\"2023-10-27T00:06:40\",\"2023-10-27T00:06:50\",\"2023-10-27T00:07:00\",\"2023-10-27T00:07:10\",\"2023-10-27T00:07:20\",\"2023-10-27T00:07:30\",\"2023-10-27T00:07:40\",\"2023-10-27T00:07:50\",\"2023-10-27T00:08:00\",\"2023-10-27T00:08:10\"],\"y\":[37.73441692327279,159.7756929602617,45.46242879470661,176.26874594000458,80.47022558430855,11.111005059678305,90.31097724248283,161.21040473713205,44.29041893689576,27.715002061957435,162.33049343884423,117.66750489248884,67.69120879372632,81.75591320945759,147.02524226894445,145.37485876077918,53.23194342074681,76.29741297138942,142.68631541313246,64.55939786801927,86.75843629285323,11.747136192760667,137.2200550907168,44.49372813599112,150.07968756464197,166.2306117885365,26.349207166992997,68.19295884272378,97.19031316371571,116.52281663674152,91.07709789910837,117.76606478478828,96.99227059913248,153.82707841929,137.18580599924314,122.68487942047787,41.826333462700404,97.48765467813719,92.66374419776845,105.47913879700366,161.6931366809507,31.525338822241814,47.17726036150991,170.27738464540943,90.49708267544015,116.57164071494843,10.039360595182274,35.526145409787794,20.51434622428802,165.21537311557938],\"type\":\"scatter\"},{\"marker\":{\"color\":[0.31735102506654833,0.33920167646091937,0.11054146841881496,0.44798163802339674,0.23947720340329637,0.8671391846877974,0.7588345281590575,0.8312609837331265,0.41597697049163984,0.6785976371775374,0.8356614977469032,0.8350387649564429,0.9661282732286228,0.3900994005081665,0.8837502365732903,0.9804592762601103,0.953695330732431,0.06883797923967139,0.07957694423325834,0.7051565777322741,0.9422560407063221,0.47866734728663873,0.13414988966571617,0.736227308571124,0.5938182947387223,0.7542177306399865,0.6205429155354536,0.7999613074924544,0.8831548149530014,0.3778900669621422,0.6891971184357202,0.04103115016845338,0.7989632567700786,0.5786479826570767,0.1690595972028308,0.5982609559556803,0.16484267762348015,0.522408642317716,0.9274722807654509,0.1649769781801007,0.7072923163834439,0.7765154657419526,0.8735062015243213,0.7071196518237991,0.2517270106983518,0.04633318130854225,0.10849771105030148,0.45420471181328304,0.16137471349601695,0.2527159712066699],\"colorbar\":{\"title\":{\"text\":\"Anomaly Score\"}},\"colorscale\":[[0.0,\"rgb(255,245,240)\"],[0.125,\"rgb(254,224,210)\"],[0.25,\"rgb(252,187,161)\"],[0.375,\"rgb(252,146,114)\"],[0.5,\"rgb(251,106,74)\"],[0.625,\"rgb(239,59,44)\"],[0.75,\"rgb(203,24,29)\"],[0.875,\"rgb(165,15,21)\"],[1.0,\"rgb(103,0,13)\"]],\"line\":{\"color\":\"black\",\"width\":1},\"size\":10},\"mode\":\"markers\",\"name\":\"Anomalies\",\"x\":[\"2023-10-27T00:00:50\",\"2023-10-27T00:04:00\",\"2023-10-27T00:04:30\"],\"y\":[11.111005059678305,150.07968756464197,68.19295884272378],\"type\":\"scatter\"}],                        {\"template\":{\"data\":{\"barpolar\":[{\"marker\":{\"line\":{\"color\":\"white\",\"width\":0.5},\"pattern\":{\"fillmode\":\"overlay\",\"size\":10,\"solidity\":0.2}},\"type\":\"barpolar\"}],\"bar\":[{\"error_x\":{\"color\":\"#2a3f5f\"},\"error_y\":{\"color\":\"#2a3f5f\"},\"marker\":{\"line\":{\"color\":\"white\",\"width\":0.5},\"pattern\":{\"fillmode\":\"overlay\",\"size\":10,\"solidity\":0.2}},\"type\":\"bar\"}],\"carpet\":[{\"aaxis\":{\"endlinecolor\":\"#2a3f5f\",\"gridcolor\":\"#C8D4E3\",\"linecolor\":\"#C8D4E3\",\"minorgridcolor\":\"#C8D4E3\",\"startlinecolor\":\"#2a3f5f\"},\"baxis\":{\"endlinecolor\":\"#2a3f5f\",\"gridcolor\":\"#C8D4E3\",\"linecolor\":\"#C8D4E3\",\"minorgridcolor\":\"#C8D4E3\",\"startlinecolor\":\"#2a3f5f\"},\"type\":\"carpet\"}],\"choropleth\":[{\"colorbar\":{\"outlinewidth\":0,\"ticks\":\"\"},\"type\":\"choropleth\"}],\"contourcarpet\":[{\"colorbar\":{\"outlinewidth\":0,\"ticks\":\"\"},\"type\":\"contourcarpet\"}],\"contour\":[{\"colorbar\":{\"outlinewidth\":0,\"ticks\":\"\"},\"colorscale\":[[0.0,\"#0d0887\"],[0.1111111111111111,\"#46039f\"],[0.2222222222222222,\"#7201a8\"],[0.3333333333333333,\"#9c179e\"],[0.4444444444444444,\"#bd3786\"],[0.5555555555555556,\"#d8576b\"],[0.6666666666666666,\"#ed7953\"],[0.7777777777777778,\"#fb9f3a\"],[0.8888888888888888,\"#fdca26\"],[1.0,\"#f0f921\"]],\"type\":\"contour\"}],\"heatmapgl\":[{\"colorbar\":{\"outlinewidth\":0,\"ticks\":\"\"},\"colorscale\":[[0.0,\"#0d0887\"],[0.1111111111111111,\"#46039f\"],[0.2222222222222222,\"#7201a8\"],[0.3333333333333333,\"#9c179e\"],[0.4444444444444444,\"#bd3786\"],[0.5555555555555556,\"#d8576b\"],[0.6666666666666666,\"#ed7953\"],[0.7777777777777778,\"#fb9f3a\"],[0.8888888888888888,\"#fdca26\"],[1.0,\"#f0f921\"]],\"type\":\"heatmapgl\"}],\"heatmap\":[{\"colorbar\":{\"outlinewidth\":0,\"ticks\":\"\"},\"colorscale\":[[0.0,\"#0d0887\"],[0.1111111111111111,\"#46039f\"],[0.2222222222222222,\"#7201a8\"],[0.3333333333333333,\"#9c179e\"],[0.4444444444444444,\"#bd3786\"],[0.5555555555555556,\"#d8576b\"],[0.6666666666666666,\"#ed7953\"],[0.7777777777777778,\"#fb9f3a\"],[0.8888888888888888,\"#fdca26\"],[1.0,\"#f0f921\"]],\"type\":\"heatmap\"}],\"histogram2dcontour\":[{\"colorbar\":{\"outlinewidth\":0,\"ticks\":\"\"},\"colorscale\":[[0.0,\"#0d0887\"],[0.1111111111111111,\"#46039f\"],[0.2222222222222222,\"#7201a8\"],[0.3333333333333333,\"#9c179e\"],[0.4444444444444444,\"#bd3786\"],[0.5555555555555556,\"#d8576b\"],[0.6666666666666666,\"#ed7953\"],[0.7777777777777778,\"#fb9f3a\"],[0.8888888888888888,\"#fdca26\"],[1.0,\"#f0f921\"]],\"type\":\"histogram2dcontour\"}],\"histogram2d\":[{\"colorbar\":{\"outlinewidth\":0,\"ticks\":\"\"},\"colorscale\":[[0.0,\"#0d0887\"],[0.1111111111111111,\"#46039f\"],[0.2222222222222222,\"#7201a8\"],[0.3333333333333333,\"#9c179e\"],[0.4444444444444444,\"#bd3786\"],[0.5555555555555556,\"#d8576b\"],[0.6666666666666666,\"#ed7953\"],[0.7777777777777778,\"#fb9f3a\"],[0.8888888888888888,\"#fdca26\"],[1.0,\"#f0f921\"]],\"type\":\"histogram2d\"}],\"histogram\":[{\"marker\":{\"pattern\":{\"fillmode\":\"overlay\",\"size\":10,\"solidity\":0.2}},\"type\":\"histogram\"}],\"mesh3d\":[{\"colorbar\":{\"outlinewidth\":0,\"ticks\":\"\"},\"type\":\"mesh3d\"}],\"parcoords\":[{\"line\":{\"colorbar\":{\"outlinewidth\":0,\"ticks\":\"\"}},\"type\":\"parcoords\"}],\"pie\":[{\"automargin\":true,\"type\":\"pie\"}],\"scatter3d\":[{\"line\":{\"colorbar\":{\"outlinewidth\":0,\"ticks\":\"\"}},\"marker\":{\"colorbar\":{\"outlinewidth\":0,\"ticks\":\"\"}},\"type\":\"scatter3d\"}],\"scattercarpet\":[{\"marker\":{\"colorbar\":{\"outlinewidth\":0,\"ticks\":\"\"}},\"type\":\"scattercarpet\"}],\"scattergeo\":[{\"marker\":{\"colorbar\":{\"outlinewidth\":0,\"ticks\":\"\"}},\"type\":\"scattergeo\"}],\"scattergl\":[{\"marker\":{\"colorbar\":{\"outlinewidth\":0,\"ticks\":\"\"}},\"type\":\"scattergl\"}],\"scattermapbox\":[{\"marker\":{\"colorbar\":{\"outlinewidth\":0,\"ticks\":\"\"}},\"type\":\"scattermapbox\"}],\"scatterpolargl\":[{\"marker\":{\"colorbar\":{\"outlinewidth\":0,\"ticks\":\"\"}},\"type\":\"scatterpolargl\"}],\"scatterpolar\":[{\"marker\":{\"colorbar\":{\"outlinewidth\":0,\"ticks\":\"\"}},\"type\":\"scatterpolar\"}],\"scatter\":[{\"fillpattern\":{\"fillmode\":\"overlay\",\"size\":10,\"solidity\":0.2},\"type\":\"scatter\"}],\"scatterternary\":[{\"marker\":{\"colorbar\":{\"outlinewidth\":0,\"ticks\":\"\"}},\"type\":\"scatterternary\"}],\"surface\":[{\"colorbar\":{\"outlinewidth\":0,\"ticks\":\"\"},\"colorscale\":[[0.0,\"#0d0887\"],[0.1111111111111111,\"#46039f\"],[0.2222222222222222,\"#7201a8\"],[0.3333333333333333,\"#9c179e\"],[0.4444444444444444,\"#bd3786\"],[0.5555555555555556,\"#d8576b\"],[0.6666666666666666,\"#ed7953\"],[0.7777777777777778,\"#fb9f3a\"],[0.8888888888888888,\"#fdca26\"],[1.0,\"#f0f921\"]],\"type\":\"surface\"}],\"table\":[{\"cells\":{\"fill\":{\"color\":\"#EBF0F8\"},\"line\":{\"color\":\"white\"}},\"header\":{\"fill\":{\"color\":\"#C8D4E3\"},\"line\":{\"color\":\"white\"}},\"type\":\"table\"}]},\"layout\":{\"annotationdefaults\":{\"arrowcolor\":\"#2a3f5f\",\"arrowhead\":0,\"arrowwidth\":1},\"autotypenumbers\":\"strict\",\"coloraxis\":{\"colorbar\":{\"outlinewidth\":0,\"ticks\":\"\"}},\"colorscale\":{\"diverging\":[[0,\"#8e0152\"],[0.1,\"#c51b7d\"],[0.2,\"#de77ae\"],[0.3,\"#f1b6da\"],[0.4,\"#fde0ef\"],[0.5,\"#f7f7f7\"],[0.6,\"#e6f5d0\"],[0.7,\"#b8e186\"],[0.8,\"#7fbc41\"],[0.9,\"#4d9221\"],[1,\"#276419\"]],\"sequential\":[[0.0,\"#0d0887\"],[0.1111111111111111,\"#46039f\"],[0.2222222222222222,\"#7201a8\"],[0.3333333333333333,\"#9c179e\"],[0.4444444444444444,\"#bd3786\"],[0.5555555555555556,\"#d8576b\"],[0.6666666666666666,\"#ed7953\"],[0.7777777777777778,\"#fb9f3a\"],[0.8888888888888888,\"#fdca26\"],[1.0,\"#f0f921\"]],\"sequentialminus\":[[0.0,\"#0d0887\"],[0.1111111111111111,\"#46039f\"],[0.2222222222222222,\"#7201a8\"],[0.3333333333333333,\"#9c179e\"],[0.4444444444444444,\"#bd3786\"],[0.5555555555555556,\"#d8576b\"],[0.6666666666666666,\"#ed7953\"],[0.7777777777777778,\"#fb9f3a\"],[0.8888888888888888,\"#fdca26\"],[1.0,\"#f0f921\"]]},\"colorway\":[\"#636efa\",\"#EF553B\",\"#00cc96\",\"#ab63fa\",\"#FFA15A\",\"#19d3f3\",\"#FF6692\",\"#B6E880\",\"#FF97FF\",\"#FECB52\"],\"font\":{\"color\":\"#2a3f5f\"},\"geo\":{\"bgcolor\":\"white\",\"lakecolor\":\"white\",\"landcolor\":\"white\",\"showlakes\":true,\"showland\":true,\"subunitcolor\":\"#C8D4E3\"},\"hoverlabel\":{\"align\":\"left\"},\"hovermode\":\"closest\",\"mapbox\":{\"style\":\"light\"},\"paper_bgcolor\":\"white\",\"plot_bgcolor\":\"white\",\"polar\":{\"angularaxis\":{\"gridcolor\":\"#EBF0F8\",\"linecolor\":\"#EBF0F8\",\"ticks\":\"\"},\"bgcolor\":\"white\",\"radialaxis\":{\"gridcolor\":\"#EBF0F8\",\"linecolor\":\"#EBF0F8\",\"ticks\":\"\"}},\"scene\":{\"xaxis\":{\"backgroundcolor\":\"white\",\"gridcolor\":\"#DFE8F3\",\"gridwidth\":2,\"linecolor\":\"#EBF0F8\",\"showbackground\":true,\"ticks\":\"\",\"zerolinecolor\":\"#EBF0F8\"},\"yaxis\":{\"backgroundcolor\":\"white\",\"gridcolor\":\"#DFE8F3\",\"gridwidth\":2,\"linecolor\":\"#EBF0F8\",\"showbackground\":true,\"ticks\":\"\",\"zerolinecolor\":\"#EBF0F8\"},\"zaxis\":{\"backgroundcolor\":\"white\",\"gridcolor\":\"#DFE8F3\",\"gridwidth\":2,\"linecolor\":\"#EBF0F8\",\"showbackground\":true,\"ticks\":\"\",\"zerolinecolor\":\"#EBF0F8\"}},\"shapedefaults\":{\"line\":{\"color\":\"#2a3f5f\"}},\"ternary\":{\"aaxis\":{\"gridcolor\":\"#DFE8F3\",\"linecolor\":\"#A2B1C6\",\"ticks\":\"\"},\"baxis\":{\"gridcolor\":\"#DFE8F3\",\"linecolor\":\"#A2B1C6\",\"ticks\":\"\"},\"bgcolor\":\"white\",\"caxis\":{\"gridcolor\":\"#DFE8F3\",\"linecolor\":\"#A2B1C6\",\"ticks\":\"\"}},\"title\":{\"x\":0.05},\"xaxis\":{\"automargin\":true,\"gridcolor\":\"#EBF0F8\",\"linecolor\":\"#EBF0F8\",\"ticks\":\"\",\"title\":{\"standoff\":15},\"zerolinecolor\":\"#EBF0F8\",\"zerolinewidth\":2},\"yaxis\":{\"automargin\":true,\"gridcolor\":\"#EBF0F8\",\"linecolor\":\"#EBF0F8\",\"ticks\":\"\",\"title\":{\"standoff\":15},\"zerolinecolor\":\"#EBF0F8\",\"zerolinewidth\":2}}},\"legend\":{\"orientation\":\"h\",\"y\":1.2,\"x\":0},\"title\":{\"text\":\"\\u003cb\\u003eFancy Professional Anomaly Explanation Chart\\u003c\\u002fb\\u003e\",\"font\":{\"size\":20},\"x\":0.5},\"shapes\":[{\"fillcolor\":\"red\",\"line\":{\"width\":0},\"opacity\":0.2,\"type\":\"rect\",\"x0\":\"2023-10-27T00:00:45\",\"x1\":\"2023-10-27T00:00:55\",\"xref\":\"x\",\"y0\":0,\"y1\":1,\"yref\":\"y domain\"},{\"fillcolor\":\"red\",\"line\":{\"width\":0},\"opacity\":0.2,\"type\":\"rect\",\"x0\":\"2023-10-27T00:03:55\",\"x1\":\"2023-10-27T00:04:05\",\"xref\":\"x\",\"y0\":0,\"y1\":1,\"yref\":\"y domain\"},{\"fillcolor\":\"red\",\"line\":{\"width\":0},\"opacity\":0.2,\"type\":\"rect\",\"x0\":\"2023-10-27T00:04:25\",\"x1\":\"2023-10-27T00:04:35\",\"xref\":\"x\",\"y0\":0,\"y1\":1,\"yref\":\"y domain\"}],\"annotations\":[{\"arrowcolor\":\"Red\",\"arrowhead\":4,\"arrowwidth\":1,\"bgcolor\":\"lightgray\",\"bordercolor\":\"darkgray\",\"borderwidth\":1,\"showarrow\":true,\"text\":\"cpu\",\"x\":\"2023-10-27T00:00:50\",\"y\":11.111005059678305},{\"arrowcolor\":\"Red\",\"arrowhead\":4,\"arrowwidth\":1,\"bgcolor\":\"lightgray\",\"bordercolor\":\"darkgray\",\"borderwidth\":1,\"showarrow\":true,\"text\":\"workload spike\",\"x\":\"2023-10-27T00:04:00\",\"y\":150.07968756464197},{\"arrowcolor\":\"Red\",\"arrowhead\":4,\"arrowwidth\":1,\"bgcolor\":\"lightgray\",\"bordercolor\":\"darkgray\",\"borderwidth\":1,\"showarrow\":true,\"text\":\"memory\",\"x\":\"2023-10-27T00:04:30\",\"y\":68.19295884272378}]},                        {\"responsive\": true}                    ).then(function(){\n",
       "                            \n",
       "var gd = document.getElementById('72b61d09-3529-42b7-ab4f-12fb4124515c');\n",
       "var x = new MutationObserver(function (mutations, observer) {{\n",
       "        var display = window.getComputedStyle(gd).display;\n",
       "        if (!display || display === 'none') {{\n",
       "            console.log([gd, 'removed!']);\n",
       "            Plotly.purge(gd);\n",
       "            observer.disconnect();\n",
       "        }}\n",
       "}});\n",
       "\n",
       "// Listen for the removal of the full notebook cells\n",
       "var notebookContainer = gd.closest('#notebook-container');\n",
       "if (notebookContainer) {{\n",
       "    x.observe(notebookContainer, {childList: true});\n",
       "}}\n",
       "\n",
       "// Listen for the clearing of the current output cell\n",
       "var outputEl = gd.closest('.output');\n",
       "if (outputEl) {{\n",
       "    x.observe(outputEl, {childList: true});\n",
       "}}\n",
       "\n",
       "                        })                };                });            </script>        </div>"
      ]
     },
     "metadata": {},
     "output_type": "display_data"
    }
   ],
   "source": [
    "import pandas as pd\n",
    "import random\n",
    "import plotly.express as px\n",
    "import plotly.graph_objects as go\n",
    "\n",
    "# 더미 데이터 생성\n",
    "n = 50  # 데이터 포인트 수\n",
    "\n",
    "# 날짜 범위 생성\n",
    "date_rng = pd.date_range(start=\"2023-10-27 00:00:00\", periods=n, freq=\"10s\")\n",
    "\n",
    "# 더미 데이터 생성\n",
    "data = {\n",
    "    \"Timestamp\": date_rng,\n",
    "    \"Value\": [random.uniform(0, 180) for _ in range(n)],\n",
    "    \"Anomaly_Score\": [random.uniform(0, 1) for _ in range(n)],\n",
    "    \"is_anomaly\": [random.choice([False, False,False, False,False, False, True, False,False,False, False, False]) for _ in range(n)],\n",
    "    \"Anomaly_Cause\": [random.choice([\"workload spike\", \"cpu\", \"memory\"]) for _ in range(n)]\n",
    "}\n",
    "\n",
    "# 데이터프레임 생성\n",
    "df = pd.DataFrame(data)\n",
    "\n",
    "# 그래프 생성\n",
    "fig = go.Figure()\n",
    "\n",
    "# 시계열 데이터를 라인 그래프로 추가\n",
    "fig.add_trace(go.Line(x=df[\"Timestamp\"], y=df[\"Value\"], mode=\"lines\", name=\"Time Series\"))\n",
    "\n",
    "\n",
    "df_anomaly = df[df['is_anomaly']==True]\n",
    "# Anomaly Score에 따라 색상 동적 설정\n",
    "color_scale = \"Reds\"  # 원하는 색상 스케일 선택\n",
    "colors = df[\"Anomaly_Score\"]  # Anomaly Score에 따라 색상 설정\n",
    "colorbar_title = \"Anomaly Score\"\n",
    "\n",
    "# 스캐터 플롯로 추가\n",
    "fig.add_trace(go.Scatter(x=df_anomaly[\"Timestamp\"], y=df_anomaly[\"Value\"], mode=\"markers\", name=\"Anomalies\", \n",
    "                         marker=dict(size=10, color=colors, colorscale=color_scale, colorbar_title=colorbar_title,line=dict(width=1, color=\"black\"))))\n",
    "\n",
    "\n",
    "# 범례를 차트 위에 추가\n",
    "fig.update_layout(legend=dict(orientation=\"h\", y=1.2, x=0)) \n",
    "fig.update_layout(\n",
    "    title='<b>Fancy Professional Anomaly Explanation Chart</b>',\n",
    "    title_font=dict(size=20),\n",
    "    title_x=0.5,  # 제목의 가로 위치 (0-1),\n",
    "    template = 'plotly_white'\n",
    "\n",
    ")\n",
    "\n",
    "# is_anomaly가 True인 포인트에 빨간색 배경 표시\n",
    "anomaly_indices = df[df[\"is_anomaly\"] == True].index\n",
    "for index in anomaly_indices:\n",
    "    fig.add_vrect(\n",
    "            x0=df[\"Timestamp\"][index]-pd.Timedelta(\"5s\"),\n",
    "            x1=df[\"Timestamp\"][index]+pd.Timedelta(\"5s\"),\n",
    "          #  y0=0,\n",
    "           # y1=1000,  # 배경 높이 설정\n",
    "            fillcolor=\"red\",\n",
    "            opacity=0.2,  # 투명도 설정\n",
    "            line_width=0,\n",
    "\n",
    "        #    layer=\"below\",\n",
    "        \n",
    "    )\n",
    "\n",
    "# 각 데이터 포인트에 화살표, 박스 및 텍스트 추가\n",
    "for index, row in df.iterrows():\n",
    "    if row['is_anomaly']:\n",
    "        annotation = go.layout.Annotation(\n",
    "            x=row[\"Timestamp\"],\n",
    "            y=row[\"Value\"],\n",
    "            text=row[\"Anomaly_Cause\"],\n",
    "            showarrow=True,\n",
    "            arrowhead=4,  # 화살표 모양 설정 (1: 화살표 끝, 4: 화살표 양 끝)\n",
    "            arrowcolor=\"Red\",  # 화살표 색상 설정\n",
    "            arrowwidth=1,  # 화살표 두께 설정\n",
    "            bgcolor='lightgray',\n",
    "            bordercolor=\"darkgray\",  # 박스 테두리 색상 설정\n",
    "            borderwidth=1,  # 박스 테두리 두께 설정\n",
    "        )\n",
    "        fig.add_annotation(annotation)\n",
    "\n",
    "# 그래프 출력\n",
    "fig.show()\n",
    "\n",
    "\n"
   ]
  },
  {
   "cell_type": "code",
   "execution_count": null,
   "id": "bafa9673-2b4a-4ce0-b2f6-9c2fb9d4d7be",
   "metadata": {},
   "outputs": [],
   "source": []
  }
 ],
 "metadata": {
  "kernelspec": {
   "display_name": "Python 3 (ipykernel)",
   "language": "python",
   "name": "python3"
  },
  "language_info": {
   "codemirror_mode": {
    "name": "ipython",
    "version": 3
   },
   "file_extension": ".py",
   "mimetype": "text/x-python",
   "name": "python",
   "nbconvert_exporter": "python",
   "pygments_lexer": "ipython3",
   "version": "3.8.10"
  }
 },
 "nbformat": 4,
 "nbformat_minor": 5
}

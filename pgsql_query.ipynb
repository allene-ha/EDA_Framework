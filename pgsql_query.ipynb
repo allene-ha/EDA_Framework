{
 "cells": [
  {
   "cell_type": "code",
   "execution_count": 8,
   "metadata": {},
   "outputs": [
    {
     "data": {
      "text/html": [
       "<div>\n",
       "<style scoped>\n",
       "    .dataframe tbody tr th:only-of-type {\n",
       "        vertical-align: middle;\n",
       "    }\n",
       "\n",
       "    .dataframe tbody tr th {\n",
       "        vertical-align: top;\n",
       "    }\n",
       "\n",
       "    .dataframe thead th {\n",
       "        text-align: right;\n",
       "    }\n",
       "</style>\n",
       "<table border=\"1\" class=\"dataframe\">\n",
       "  <thead>\n",
       "    <tr style=\"text-align: right;\">\n",
       "      <th></th>\n",
       "      <th>seq_scan</th>\n",
       "      <th>seq_tup_read</th>\n",
       "      <th>idx_scan</th>\n",
       "      <th>idx_tup_fetch</th>\n",
       "      <th>n_tup_ins</th>\n",
       "      <th>n_tup_upd</th>\n",
       "      <th>n_tup_del</th>\n",
       "      <th>n_tup_hot_upd</th>\n",
       "      <th>n_live_tup</th>\n",
       "      <th>n_dead_tup</th>\n",
       "      <th>n_mod_since_analyze</th>\n",
       "      <th>vacuum_count</th>\n",
       "      <th>autovacuum_count</th>\n",
       "      <th>analyze_count</th>\n",
       "      <th>autoanalyze_count</th>\n",
       "    </tr>\n",
       "  </thead>\n",
       "  <tbody>\n",
       "    <tr>\n",
       "      <th>0</th>\n",
       "      <td>2300249.0</td>\n",
       "      <td>142683486.0</td>\n",
       "      <td>90641455.0</td>\n",
       "      <td>202187022.0</td>\n",
       "      <td>50904680.0</td>\n",
       "      <td>13122.0</td>\n",
       "      <td>490.0</td>\n",
       "      <td>2119.0</td>\n",
       "      <td>50608262.0</td>\n",
       "      <td>12385.0</td>\n",
       "      <td>1108508.0</td>\n",
       "      <td>0.0</td>\n",
       "      <td>165.0</td>\n",
       "      <td>0.0</td>\n",
       "      <td>213.0</td>\n",
       "    </tr>\n",
       "  </tbody>\n",
       "</table>\n",
       "</div>"
      ],
      "text/plain": [
       "    seq_scan  seq_tup_read    idx_scan  idx_tup_fetch   n_tup_ins  n_tup_upd  \\\n",
       "0  2300249.0   142683486.0  90641455.0    202187022.0  50904680.0    13122.0   \n",
       "\n",
       "   n_tup_del  n_tup_hot_upd  n_live_tup  n_dead_tup  n_mod_since_analyze  \\\n",
       "0      490.0         2119.0  50608262.0     12385.0            1108508.0   \n",
       "\n",
       "   vacuum_count  autovacuum_count  analyze_count  autoanalyze_count  \n",
       "0           0.0             165.0            0.0              213.0  "
      ]
     },
     "execution_count": 8,
     "metadata": {},
     "output_type": "execute_result"
    }
   ],
   "source": [
    "import json\n",
    "from driver.collector.collector_factory import get_collector\n",
    "from driver.collector.postgres_collector import PostgresCollector\n",
    "import time\n",
    "import pandas as pd\n",
    "from query import q\n",
    "\n",
    "query = \"\"\"SELECT\n",
    "  sum(seq_scan) as seq_scan,\n",
    "  sum(seq_tup_read) as seq_tup_read,\n",
    "  sum(idx_scan) as idx_scan,\n",
    "  sum(idx_tup_fetch) as idx_tup_fetch,\n",
    "  sum(n_tup_ins) as n_tup_ins,\n",
    "  sum(n_tup_upd) as n_tup_upd,\n",
    "  sum(n_tup_del) as n_tup_del,\n",
    "  sum(n_tup_hot_upd) as n_tup_hot_upd,\n",
    "  sum(n_live_tup) as n_live_tup,\n",
    "  sum(n_dead_tup) as n_dead_tup,\n",
    "  sum(n_mod_since_analyze) as n_mod_since_analyze,\n",
    "  sum(vacuum_count) as vacuum_count,\n",
    "  sum(autovacuum_count) as autovacuum_count,\n",
    "  sum(analyze_count) as analyze_count,\n",
    "  sum(autoanalyze_count) as autoanalyze_count\n",
    "FROM\n",
    "  pg_stat_user_tables;\n",
    "\"\"\"\n",
    "\n",
    "q(query)"
   ]
  },
  {
   "cell_type": "code",
   "execution_count": 1,
   "metadata": {},
   "outputs": [
    {
     "ename": "NameError",
     "evalue": "name 'driver_config' is not defined",
     "output_type": "error",
     "traceback": [
      "\u001b[0;31m---------------------------------------------------------------------------\u001b[0m",
      "\u001b[0;31mNameError\u001b[0m                                 Traceback (most recent call last)",
      "\u001b[0;32m/tmp/ipykernel_44494/429692293.py\u001b[0m in \u001b[0;36m<module>\u001b[0;34m\u001b[0m\n\u001b[0;32m----> 1\u001b[0;31m \u001b[0mdriver_config\u001b[0m\u001b[0;34m\u001b[0m\u001b[0;34m\u001b[0m\u001b[0m\n\u001b[0m",
      "\u001b[0;31mNameError\u001b[0m: name 'driver_config' is not defined"
     ]
    }
   ],
   "source": [
    "driver_config"
   ]
  },
  {
   "cell_type": "markdown",
   "metadata": {},
   "source": [
    "dic[digest] = digest_query(query_num, digest, digest_text, time, cpu_usage, io, count, timestamp)\n",
    "\n",
    "SELECT queryid, query,  calls, total_exec_time as time_ms, blk_read_time+blk_write_time as io_time FROM pg_stat_statements;\n",
    "SELECT queryid, substr(query,0,50),  calls, total_exec_time as time_ms, blk_read_time+blk_write_time as io_time FROM pg_stat_statements order by calls desc limit 10;\n",
    "SELECT queryid, query,  calls, total_exec_time as time_ms, blk_read_time+blk_write_time as io FROM pg_stat_statements order by calls desc limit 10;"
   ]
  },
  {
   "cell_type": "code",
   "execution_count": 1,
   "metadata": {},
   "outputs": [
    {
     "name": "stdout",
     "output_type": "stream",
     "text": [
      "Loaded Data from Pickle\n",
      "2023-01-09 19:45:42.503770\n",
      "Data Update Complete!\n"
     ]
    }
   ],
   "source": [
    "from performance_analysis import import_and_update_data\n",
    "\n",
    "\n",
    "import_and_update_data()"
   ]
  },
  {
   "cell_type": "code",
   "execution_count": 1,
   "metadata": {},
   "outputs": [
    {
     "data": {
      "application/vnd.jupyter.widget-view+json": {
       "model_id": "94eb5fa24e964d8eac39739913bec343",
       "version_major": 2,
       "version_minor": 0
      },
      "text/plain": [
       "VBox(children=(HTML(value='<b><font size = 5> Visualization Mode</b>'), HTML(value='<font size = 3> General Vi…"
      ]
     },
     "metadata": {},
     "output_type": "display_data"
    }
   ],
   "source": [
    "from performance_analysis import *\n",
    "from visualize_widgets import *\n",
    "visualize()"
   ]
  },
  {
   "cell_type": "code",
   "execution_count": 1,
   "metadata": {
    "scrolled": false
   },
   "outputs": [
    {
     "name": "stdout",
     "output_type": "stream",
     "text": [
      "Loaded Data from Pickle\n",
      "2023-01-11 22:48:20.679852\n",
      "Data Update Complete!\n"
     ]
    },
    {
     "data": {
      "application/vnd.jupyter.widget-view+json": {
       "model_id": "a26f16799aa84735a0d06a36f02a6b15",
       "version_major": 2,
       "version_minor": 0
      },
      "text/plain": [
       "VBox(children=(Button(description='Query Monitoring', layout=Layout(height='50px', width='300px'), style=Butto…"
      ]
     },
     "metadata": {},
     "output_type": "display_data"
    },
    {
     "data": {
      "application/vnd.jupyter.widget-view+json": {
       "model_id": "62258122a9d442b39341b4704f61a129",
       "version_major": 2,
       "version_minor": 0
      },
      "text/plain": [
       "HTML(value='<hr>')"
      ]
     },
     "metadata": {},
     "output_type": "display_data"
    },
    {
     "data": {
      "application/vnd.jupyter.widget-view+json": {
       "model_id": "d4b057fb344c45bb8c7361a5938e9fa6",
       "version_major": 2,
       "version_minor": 0
      },
      "text/plain": [
       "HTML(value='<b><font size = 3> Database Monitoring')"
      ]
     },
     "metadata": {},
     "output_type": "display_data"
    },
    {
     "data": {
      "application/vnd.jupyter.widget-view+json": {
       "model_id": "17478422c5ae4a28b06459853c3c0525",
       "version_major": 2,
       "version_minor": 0
      },
      "text/plain": [
       "VBox(children=(Button(description='Read query throughput and performance', layout=Layout(height='50px', width=…"
      ]
     },
     "metadata": {},
     "output_type": "display_data"
    },
    {
     "data": {
      "application/vnd.jupyter.widget-view+json": {
       "model_id": "62258122a9d442b39341b4704f61a129",
       "version_major": 2,
       "version_minor": 0
      },
      "text/plain": [
       "HTML(value='<hr>')"
      ]
     },
     "metadata": {},
     "output_type": "display_data"
    },
    {
     "data": {
      "application/vnd.jupyter.widget-view+json": {
       "model_id": "b7706f3be2954835b588b3223c00c37c",
       "version_major": 2,
       "version_minor": 0
      },
      "text/plain": [
       "HTML(value='<b><font size = 3>Resource Utilization')"
      ]
     },
     "metadata": {},
     "output_type": "display_data"
    },
    {
     "data": {
      "application/vnd.jupyter.widget-view+json": {
       "model_id": "d60f779e388040228ec0784466835405",
       "version_major": 2,
       "version_minor": 0
      },
      "text/plain": [
       "HTML(value='<style>\\n        .box{\\n            width : 80%;\\n            border : 1px solid black;\\n         …"
      ]
     },
     "metadata": {},
     "output_type": "display_data"
    },
    {
     "data": {
      "application/vnd.jupyter.widget-view+json": {
       "model_id": "0d81f5a6d827474c8e6c7256d2a272f1",
       "version_major": 2,
       "version_minor": 0
      },
      "text/plain": [
       "Accordion(children=(Tab(children=(Output(), Output()), _titles={'0': '# of active connections', '1': '% of max…"
      ]
     },
     "metadata": {},
     "output_type": "display_data"
    }
   ],
   "source": [
    "from scenario import *\n",
    "\n",
    "scenario()"
   ]
  },
  {
   "cell_type": "code",
   "execution_count": 1,
   "metadata": {},
   "outputs": [
    {
     "data": {
      "application/vnd.jupyter.widget-view+json": {
       "model_id": "a85443c0887c4ba4b9a45efe2868c667",
       "version_major": 2,
       "version_minor": 0
      },
      "text/plain": [
       "HBox(children=(HBox(children=(VBox(children=(HTML(value='Knob'), Dropdown(layout=Layout(align_items='center', …"
      ]
     },
     "metadata": {},
     "output_type": "display_data"
    },
    {
     "data": {
      "application/vnd.jupyter.widget-view+json": {
       "model_id": "670bacea6b8b40daa758a8fa1115ec3a",
       "version_major": 2,
       "version_minor": 0
      },
      "text/plain": [
       "HBox(children=(HBox(children=(VBox(children=(HTML(value='Knob'), Dropdown(disabled=True, layout=Layout(align_i…"
      ]
     },
     "metadata": {},
     "output_type": "display_data"
    },
    {
     "name": "stdout",
     "output_type": "stream",
     "text": [
      "[ 5000 10000 15000 20000 25000 30000 35000 40000 45000 50000]\n",
      "[10 12 14 16 18 21 23 25 27 30]\n",
      "====================== Start Running TPC-C =======================\n",
      "set [shared_buffers] to [5000]\n",
      "set [max_connections] to [10]\n",
      "Complete running TPC-C (shared_buffers: 5000/ max_connections: 10)| TPS: 7.186858316221766 QPS: 215.0924024640657 95th latency: 3706.08\n",
      "set [shared_buffers] to [5000]\n",
      "set [max_connections] to [12]\n",
      "Complete running TPC-C (shared_buffers: 5000/ max_connections: 12)| TPS: 8.135058748542818 QPS: 263.84427652490416 95th latency: 3386.99\n",
      "set [shared_buffers] to [5000]\n",
      "set [max_connections] to [14]\n",
      "Complete running TPC-C (shared_buffers: 5000/ max_connections: 14)| TPS: 8.250474189624816 QPS: 247.3441128188553 95th latency: 3574.99\n",
      "set [shared_buffers] to [5000]\n",
      "set [max_connections] to [16]\n",
      "Complete running TPC-C (shared_buffers: 5000/ max_connections: 16)| TPS: 7.565682066147954 QPS: 200.92858792517143 95th latency: 4055.23\n",
      "set [shared_buffers] to [5000]\n",
      "set [max_connections] to [18]\n",
      "Complete running TPC-C (shared_buffers: 5000/ max_connections: 18)| TPS: 7.076799356654604 QPS: 212.78648974668275 95th latency: 4128.91\n",
      "set [shared_buffers] to [5000]\n",
      "set [max_connections] to [21]\n",
      "Complete running TPC-C (shared_buffers: 5000/ max_connections: 21)| TPS: 7.715367243443946 QPS: 220.12907166451012 95th latency: 3773.42\n",
      "set [shared_buffers] to [5000]\n",
      "set [max_connections] to [23]\n",
      "Complete running TPC-C (shared_buffers: 5000/ max_connections: 23)| TPS: 7.290495210765115 QPS: 204.05630744173422 95th latency: 4203.93\n",
      "set [shared_buffers] to [5000]\n",
      "set [max_connections] to [25]\n",
      "Complete running TPC-C (shared_buffers: 5000/ max_connections: 25)| TPS: 5.380752280414062 QPS: 164.36917085169623 95th latency: 4768.67\n",
      "set [shared_buffers] to [5000]\n",
      "set [max_connections] to [27]\n",
      "Complete running TPC-C (shared_buffers: 5000/ max_connections: 27)| TPS: 8.3925620918461 QPS: 222.05320534676142 95th latency: 3773.42\n",
      "set [shared_buffers] to [5000]\n",
      "set [max_connections] to [30]\n",
      "Complete running TPC-C (shared_buffers: 5000/ max_connections: 30)| TPS: 7.500036057865663 QPS: 209.135620844331 95th latency: 4599.99\n",
      "set [shared_buffers] to [10000]\n",
      "set [max_connections] to [10]\n",
      "Complete running TPC-C (shared_buffers: 10000/ max_connections: 10)| TPS: 7.456185681170547 QPS: 194.30376943406813 95th latency: 4437.27\n",
      "set [shared_buffers] to [10000]\n",
      "set [max_connections] to [12]\n",
      "Complete running TPC-C (shared_buffers: 10000/ max_connections: 12)| TPS: 7.8728260264495145 QPS: 230.8567066139691 95th latency: 3773.42\n",
      "set [shared_buffers] to [10000]\n",
      "set [max_connections] to [14]\n",
      "Complete running TPC-C (shared_buffers: 10000/ max_connections: 14)| TPS: 7.021993155261041 QPS: 169.27775732537052 95th latency: 3706.08\n",
      "set [shared_buffers] to [10000]\n",
      "set [max_connections] to [16]\n",
      "Complete running TPC-C (shared_buffers: 10000/ max_connections: 16)| TPS: 5.675215523065697 QPS: 176.67486420019998 95th latency: 5312.73\n",
      "set [shared_buffers] to [10000]\n",
      "set [max_connections] to [18]\n",
      "Complete running TPC-C (shared_buffers: 10000/ max_connections: 18)| TPS: 6.534248128071264 QPS: 174.75779942525287 95th latency: 4768.67\n",
      "set [shared_buffers] to [10000]\n",
      "set [max_connections] to [21]\n",
      "Complete running TPC-C (shared_buffers: 10000/ max_connections: 21)| TPS: 7.087823381941801 QPS: 176.34242062294092 95th latency: 3773.42\n",
      "set [shared_buffers] to [10000]\n",
      "set [max_connections] to [23]\n",
      "Complete running TPC-C (shared_buffers: 10000/ max_connections: 23)| TPS: 6.970875681403098 QPS: 196.50898545875333 95th latency: 3574.99\n",
      "set [shared_buffers] to [10000]\n",
      "set [max_connections] to [25]\n",
      "Complete running TPC-C (shared_buffers: 10000/ max_connections: 25)| TPS: 9.293040545191712 QPS: 287.4819301989399 95th latency: 3267.19\n",
      "set [shared_buffers] to [10000]\n",
      "set [max_connections] to [27]\n",
      "Complete running TPC-C (shared_buffers: 10000/ max_connections: 27)| TPS: 7.686395080707149 QPS: 246.14134132011628 95th latency: 3706.08\n",
      "set [shared_buffers] to [10000]\n",
      "set [max_connections] to [30]\n",
      "Complete running TPC-C (shared_buffers: 10000/ max_connections: 30)| TPS: 9.748379931122102 QPS: 248.74349775068117 95th latency: 2932.6\n",
      "set [shared_buffers] to [15000]\n",
      "set [max_connections] to [10]\n",
      "Complete running TPC-C (shared_buffers: 15000/ max_connections: 10)| TPS: 8.66142341213682 QPS: 231.38373972422647 95th latency: 2680.11\n",
      "set [shared_buffers] to [15000]\n",
      "set [max_connections] to [12]\n",
      "Complete running TPC-C (shared_buffers: 15000/ max_connections: 12)| TPS: 8.759214616261133 QPS: 232.77806630647947 95th latency: 3267.19\n",
      "set [shared_buffers] to [15000]\n",
      "set [max_connections] to [14]\n",
      "Complete running TPC-C (shared_buffers: 15000/ max_connections: 14)| TPS: 9.608477011494253 QPS: 266.882183908046 95th latency: 2880.27\n",
      "set [shared_buffers] to [15000]\n",
      "set [max_connections] to [16]\n",
      "Complete running TPC-C (shared_buffers: 15000/ max_connections: 16)| TPS: 8.847767834572021 QPS: 258.9446719584745 95th latency: 3448.53\n",
      "set [shared_buffers] to [15000]\n",
      "set [max_connections] to [18]\n",
      "Complete running TPC-C (shared_buffers: 15000/ max_connections: 18)| TPS: 9.269101577448021 QPS: 281.4745524894766 95th latency: 3326.55\n",
      "set [shared_buffers] to [15000]\n",
      "set [max_connections] to [21]\n",
      "Complete running TPC-C (shared_buffers: 15000/ max_connections: 21)| TPS: 8.230715752631033 QPS: 229.9006720419367 95th latency: 3151.62\n",
      "set [shared_buffers] to [15000]\n",
      "set [max_connections] to [23]\n",
      "Complete running TPC-C (shared_buffers: 15000/ max_connections: 23)| TPS: 7.3403852543250325 QPS: 208.93054450205145 95th latency: 3151.62\n",
      "set [shared_buffers] to [15000]\n",
      "set [max_connections] to [25]\n",
      "Complete running TPC-C (shared_buffers: 15000/ max_connections: 25)| TPS: 6.977301964546584 QPS: 184.17169977251086 95th latency: 2985.89\n",
      "set [shared_buffers] to [15000]\n",
      "set [max_connections] to [27]\n",
      "Complete running TPC-C (shared_buffers: 15000/ max_connections: 27)| TPS: 8.132807914815126 QPS: 270.8979626058523 95th latency: 3386.99\n",
      "set [shared_buffers] to [15000]\n",
      "set [max_connections] to [30]\n",
      "Complete running TPC-C (shared_buffers: 15000/ max_connections: 30)| TPS: 7.837454158286998 QPS: 222.40624630308764 95th latency: 3151.62\n",
      "set [shared_buffers] to [20000]\n",
      "set [max_connections] to [10]\n",
      "Complete running TPC-C (shared_buffers: 20000/ max_connections: 10)| TPS: 8.058794762472191 QPS: 197.6815467375657 95th latency: 3208.88\n",
      "set [shared_buffers] to [20000]\n",
      "set [max_connections] to [12]\n",
      "Complete running TPC-C (shared_buffers: 20000/ max_connections: 12)| TPS: 5.233349227208764 QPS: 138.74190284577904 95th latency: 7346.49\n",
      "set [shared_buffers] to [20000]\n",
      "set [max_connections] to [14]\n",
      "Complete running TPC-C (shared_buffers: 20000/ max_connections: 14)| TPS: 8.118239774599461 QPS: 236.8615840118431 95th latency: 2985.89\n",
      "set [shared_buffers] to [20000]\n",
      "set [max_connections] to [16]\n",
      "Complete running TPC-C (shared_buffers: 20000/ max_connections: 16)| TPS: 7.496846278608758 QPS: 205.22616687691476 95th latency: 3773.42\n",
      "set [shared_buffers] to [20000]\n",
      "set [max_connections] to [18]\n",
      "Complete running TPC-C (shared_buffers: 20000/ max_connections: 18)| TPS: 6.56957474921202 QPS: 198.4159205155271 95th latency: 4768.67\n",
      "set [shared_buffers] to [20000]\n",
      "set [max_connections] to [21]\n",
      "Complete running TPC-C (shared_buffers: 20000/ max_connections: 21)| TPS: 7.856323554829282 QPS: 226.81206102792137 95th latency: 3511.19\n",
      "set [shared_buffers] to [20000]\n",
      "set [max_connections] to [23]\n",
      "Complete running TPC-C (shared_buffers: 20000/ max_connections: 23)| TPS: 6.562235393734124 QPS: 186.91786621507197 95th latency: 4768.67\n",
      "set [shared_buffers] to [20000]\n",
      "set [max_connections] to [25]\n",
      "Complete running TPC-C (shared_buffers: 20000/ max_connections: 25)| TPS: 9.293363344928723 QPS: 289.20264647704795 95th latency: 3208.88\n",
      "set [shared_buffers] to [20000]\n",
      "set [max_connections] to [27]\n",
      "Complete running TPC-C (shared_buffers: 20000/ max_connections: 27)| TPS: 8.625363497461677 QPS: 266.7290978691245 95th latency: 3773.42\n",
      "set [shared_buffers] to [20000]\n",
      "set [max_connections] to [30]\n",
      "Complete running TPC-C (shared_buffers: 20000/ max_connections: 30)| TPS: 9.360443952484603 QPS: 231.70813244285299 95th latency: 2985.89\n",
      "set [shared_buffers] to [25000]\n",
      "set [max_connections] to [10]\n",
      "Complete running TPC-C (shared_buffers: 25000/ max_connections: 10)| TPS: 8.174696287325437 QPS: 218.52174242137534 95th latency: 3982.86\n",
      "set [shared_buffers] to [25000]\n",
      "set [max_connections] to [12]\n"
     ]
    },
    {
     "name": "stdout",
     "output_type": "stream",
     "text": [
      "Complete running TPC-C (shared_buffers: 25000/ max_connections: 12)| TPS: 7.7697028677266955 QPS: 221.6327363480827 95th latency: 3911.79\n",
      "set [shared_buffers] to [25000]\n",
      "set [max_connections] to [14]\n",
      "Complete running TPC-C (shared_buffers: 25000/ max_connections: 14)| TPS: 6.416659982645852 QPS: 175.145650889947 95th latency: 4683.57\n",
      "set [shared_buffers] to [25000]\n",
      "set [max_connections] to [16]\n",
      "Complete running TPC-C (shared_buffers: 25000/ max_connections: 16)| TPS: 9.473519453666253 QPS: 260.72773105090164 95th latency: 3386.99\n",
      "set [shared_buffers] to [25000]\n",
      "set [max_connections] to [18]\n",
      "Complete running TPC-C (shared_buffers: 25000/ max_connections: 18)| TPS: 10.31917661943774 QPS: 286.33471819674634 95th latency: 2985.89\n",
      "set [shared_buffers] to [25000]\n",
      "set [max_connections] to [21]\n",
      "Complete running TPC-C (shared_buffers: 25000/ max_connections: 21)| TPS: 11.305724175116971 QPS: 315.42970448576347 95th latency: 2728.81\n",
      "set [shared_buffers] to [25000]\n",
      "set [max_connections] to [23]\n",
      "Complete running TPC-C (shared_buffers: 25000/ max_connections: 23)| TPS: 8.096527807632231 QPS: 204.49106515913618 95th latency: 3574.99\n",
      "set [shared_buffers] to [25000]\n",
      "set [max_connections] to [25]\n",
      "Complete running TPC-C (shared_buffers: 25000/ max_connections: 25)| TPS: 7.547733811605575 QPS: 209.91667600792138 95th latency: 3841.98\n",
      "set [shared_buffers] to [25000]\n",
      "set [max_connections] to [27]\n",
      "Complete running TPC-C (shared_buffers: 25000/ max_connections: 27)| TPS: 8.66602162298599 QPS: 244.58373648563375 95th latency: 3706.08\n",
      "set [shared_buffers] to [25000]\n",
      "set [max_connections] to [30]\n",
      "Complete running TPC-C (shared_buffers: 25000/ max_connections: 30)| TPS: 7.239676293285737 QPS: 208.08693345949007 95th latency: 3773.42\n",
      "set [shared_buffers] to [30000]\n",
      "set [max_connections] to [10]\n",
      "Complete running TPC-C (shared_buffers: 30000/ max_connections: 10)| TPS: 7.062039638545068 QPS: 200.3189308223859 95th latency: 3511.19\n",
      "set [shared_buffers] to [30000]\n",
      "set [max_connections] to [12]\n",
      "Complete running TPC-C (shared_buffers: 30000/ max_connections: 12)| TPS: 10.320272455192818 QPS: 321.82049606109604 95th latency: 2880.27\n",
      "set [shared_buffers] to [30000]\n",
      "set [max_connections] to [14]\n",
      "Complete running TPC-C (shared_buffers: 30000/ max_connections: 14)| TPS: 10.747721660656232 QPS: 297.38324066014104 95th latency: 3151.62\n",
      "set [shared_buffers] to [30000]\n",
      "set [max_connections] to [16]\n",
      "Complete running TPC-C (shared_buffers: 30000/ max_connections: 16)| TPS: 6.62022700022803 QPS: 200.88711041803057 95th latency: 4943.53\n",
      "set [shared_buffers] to [30000]\n",
      "set [max_connections] to [18]\n",
      "Complete running TPC-C (shared_buffers: 30000/ max_connections: 18)| TPS: 10.44702259855941 QPS: 324.8657465955536 95th latency: 3151.62\n",
      "set [shared_buffers] to [30000]\n",
      "set [max_connections] to [21]\n",
      "Complete running TPC-C (shared_buffers: 30000/ max_connections: 21)| TPS: 8.173330984675005 QPS: 208.27902060947682 95th latency: 3095.38\n",
      "set [shared_buffers] to [30000]\n",
      "set [max_connections] to [23]\n",
      "Complete running TPC-C (shared_buffers: 30000/ max_connections: 23)| TPS: 7.840810358346224 QPS: 204.14362104162691 95th latency: 3267.19\n",
      "set [shared_buffers] to [30000]\n",
      "set [max_connections] to [25]\n",
      "Complete running TPC-C (shared_buffers: 30000/ max_connections: 25)| TPS: 6.8322614128328265 QPS: 191.69748848698256 95th latency: 5312.73\n",
      "set [shared_buffers] to [30000]\n",
      "set [max_connections] to [27]\n",
      "Complete running TPC-C (shared_buffers: 30000/ max_connections: 27)| TPS: 8.966717653884698 QPS: 254.08211704957313 95th latency: 3448.53\n",
      "set [shared_buffers] to [30000]\n",
      "set [max_connections] to [30]\n",
      "Complete running TPC-C (shared_buffers: 30000/ max_connections: 30)| TPS: 10.352058467010556 QPS: 302.0677573194362 95th latency: 3095.38\n",
      "set [shared_buffers] to [35000]\n",
      "set [max_connections] to [10]\n",
      "Complete running TPC-C (shared_buffers: 35000/ max_connections: 10)| TPS: 9.43744937201639 QPS: 255.83352339307766 95th latency: 3040.14\n",
      "set [shared_buffers] to [35000]\n",
      "set [max_connections] to [12]\n",
      "Complete running TPC-C (shared_buffers: 35000/ max_connections: 12)| TPS: 8.69084942900307 QPS: 238.87652495979466 95th latency: 3151.62\n",
      "set [shared_buffers] to [35000]\n",
      "set [max_connections] to [14]\n",
      "Complete running TPC-C (shared_buffers: 35000/ max_connections: 14)| TPS: 10.353601825041677 QPS: 285.3382469070808 95th latency: 2828.87\n",
      "set [shared_buffers] to [35000]\n",
      "set [max_connections] to [16]\n",
      "Complete running TPC-C (shared_buffers: 35000/ max_connections: 16)| TPS: 8.474645327944328 QPS: 254.15787286402266 95th latency: 3386.99\n",
      "set [shared_buffers] to [35000]\n",
      "set [max_connections] to [18]\n",
      "Complete running TPC-C (shared_buffers: 35000/ max_connections: 18)| TPS: 10.41887255940028 QPS: 293.33785100165176 95th latency: 3040.14\n",
      "set [shared_buffers] to [35000]\n",
      "set [max_connections] to [21]\n",
      "Complete running TPC-C (shared_buffers: 35000/ max_connections: 21)| TPS: 7.994105216327439 QPS: 209.1675008341675 95th latency: 3326.55\n",
      "set [shared_buffers] to [35000]\n",
      "set [max_connections] to [23]\n",
      "Complete running TPC-C (shared_buffers: 35000/ max_connections: 23)| TPS: 6.807726425668568 QPS: 210.1455753216479 95th latency: 5312.73\n",
      "set [shared_buffers] to [35000]\n",
      "set [max_connections] to [25]\n",
      "Complete running TPC-C (shared_buffers: 35000/ max_connections: 25)| TPS: 8.579427436105844 QPS: 247.37349107438516 95th latency: 2880.27\n",
      "set [shared_buffers] to [35000]\n",
      "set [max_connections] to [27]\n",
      "Complete running TPC-C (shared_buffers: 35000/ max_connections: 27)| TPS: 8.508075142114972 QPS: 257.8774987764936 95th latency: 2932.6\n",
      "set [shared_buffers] to [35000]\n",
      "set [max_connections] to [30]\n",
      "Complete running TPC-C (shared_buffers: 35000/ max_connections: 30)| TPS: 11.124649043809928 QPS: 346.3650650703678 95th latency: 2449.36\n",
      "set [shared_buffers] to [40000]\n",
      "set [max_connections] to [10]\n",
      "Complete running TPC-C (shared_buffers: 40000/ max_connections: 10)| TPS: 7.2449496370491255 QPS: 208.34505655281077 95th latency: 3639.94\n",
      "set [shared_buffers] to [40000]\n",
      "set [max_connections] to [12]\n",
      "Complete running TPC-C (shared_buffers: 40000/ max_connections: 12)| TPS: 7.9391891891891895 QPS: 247.97297297297297 95th latency: 3267.19\n",
      "set [shared_buffers] to [40000]\n",
      "set [max_connections] to [14]\n",
      "Complete running TPC-C (shared_buffers: 40000/ max_connections: 14)| TPS: 10.762826442752438 QPS: 308.11926279086316 95th latency: 2493.86\n",
      "set [shared_buffers] to [40000]\n",
      "set [max_connections] to [16]\n",
      "Complete running TPC-C (shared_buffers: 40000/ max_connections: 16)| TPS: 11.740235729142592 QPS: 324.4742315692165 95th latency: 2632.28\n",
      "set [shared_buffers] to [40000]\n",
      "set [max_connections] to [18]\n",
      "Complete running TPC-C (shared_buffers: 40000/ max_connections: 18)| TPS: 10.18920687808651 QPS: 280.3147498066282 95th latency: 2632.28\n",
      "set [shared_buffers] to [40000]\n",
      "set [max_connections] to [21]\n",
      "Complete running TPC-C (shared_buffers: 40000/ max_connections: 21)| TPS: 10.939812644217067 QPS: 336.468187208693 95th latency: 2493.86\n",
      "set [shared_buffers] to [40000]\n",
      "set [max_connections] to [23]\n",
      "Complete running TPC-C (shared_buffers: 40000/ max_connections: 23)| TPS: 12.503373212197534 QPS: 306.5575245120086 95th latency: 2680.11\n",
      "set [shared_buffers] to [40000]\n",
      "set [max_connections] to [25]\n",
      "Complete running TPC-C (shared_buffers: 40000/ max_connections: 25)| TPS: 12.330896938720803 QPS: 301.74955769608806 95th latency: 2493.86\n",
      "set [shared_buffers] to [40000]\n",
      "set [max_connections] to [27]\n",
      "Complete running TPC-C (shared_buffers: 40000/ max_connections: 27)| TPS: 9.857319477394993 QPS: 291.542754034818 95th latency: 2728.81\n",
      "set [shared_buffers] to [40000]\n",
      "set [max_connections] to [30]\n",
      "Complete running TPC-C (shared_buffers: 40000/ max_connections: 30)| TPS: 12.655745886882587 QPS: 351.7762606727153 95th latency: 2493.86\n",
      "set [shared_buffers] to [45000]\n",
      "set [max_connections] to [10]\n",
      "Complete running TPC-C (shared_buffers: 45000/ max_connections: 10)| TPS: 10.934798087681823 QPS: 266.2496185535551 95th latency: 3208.88\n",
      "set [shared_buffers] to [45000]\n",
      "set [max_connections] to [12]\n",
      "Complete running TPC-C (shared_buffers: 45000/ max_connections: 12)| TPS: 8.59504689356467 QPS: 259.1153842912878 95th latency: 3574.99\n",
      "set [shared_buffers] to [45000]\n",
      "set [max_connections] to [14]\n",
      "Complete running TPC-C (shared_buffers: 45000/ max_connections: 14)| TPS: 10.673708678911124 QPS: 303.84490705967 95th latency: 2985.89\n",
      "set [shared_buffers] to [45000]\n",
      "set [max_connections] to [16]\n"
     ]
    },
    {
     "name": "stdout",
     "output_type": "stream",
     "text": [
      "Complete running TPC-C (shared_buffers: 45000/ max_connections: 16)| TPS: 11.224481184224961 QPS: 313.35713260922773 95th latency: 2778.39\n",
      "set [shared_buffers] to [45000]\n",
      "set [max_connections] to [18]\n",
      "Complete running TPC-C (shared_buffers: 45000/ max_connections: 18)| TPS: 12.02706548783063 QPS: 339.42031380541863 95th latency: 2828.87\n",
      "set [shared_buffers] to [45000]\n",
      "set [max_connections] to [21]\n",
      "Complete running TPC-C (shared_buffers: 45000/ max_connections: 21)| TPS: 11.123080830640147 QPS: 339.0350070504567 95th latency: 2449.36\n",
      "set [shared_buffers] to [45000]\n",
      "set [max_connections] to [23]\n",
      "Complete running TPC-C (shared_buffers: 45000/ max_connections: 23)| TPS: 13.863047681587684 QPS: 399.0186421509613 95th latency: 2045.74\n",
      "set [shared_buffers] to [45000]\n",
      "set [max_connections] to [25]\n",
      "Complete running TPC-C (shared_buffers: 45000/ max_connections: 25)| TPS: 9.767175936219548 QPS: 302.94126989168757 95th latency: 3095.38\n",
      "set [shared_buffers] to [45000]\n",
      "set [max_connections] to [27]\n",
      "Complete running TPC-C (shared_buffers: 45000/ max_connections: 27)| TPS: 9.67810146554108 QPS: 302.2170171928626 95th latency: 2828.87\n",
      "set [shared_buffers] to [45000]\n",
      "set [max_connections] to [30]\n",
      "Complete running TPC-C (shared_buffers: 45000/ max_connections: 30)| TPS: 10.885700148441364 QPS: 322.2527101794791 95th latency: 2778.39\n",
      "set [shared_buffers] to [50000]\n",
      "set [max_connections] to [10]\n",
      "Complete running TPC-C (shared_buffers: 50000/ max_connections: 10)| TPS: 11.75418846434011 QPS: 309.5821468776902 95th latency: 2279.14\n",
      "set [shared_buffers] to [50000]\n",
      "set [max_connections] to [12]\n",
      "Complete running TPC-C (shared_buffers: 50000/ max_connections: 12)| TPS: 9.539847528349938 QPS: 280.96924850888036 95th latency: 2985.89\n",
      "set [shared_buffers] to [50000]\n",
      "set [max_connections] to [14]\n",
      "Complete running TPC-C (shared_buffers: 50000/ max_connections: 14)| TPS: 12.606422173098606 QPS: 363.721912980176 95th latency: 2539.17\n",
      "set [shared_buffers] to [50000]\n",
      "set [max_connections] to [16]\n",
      "Complete running TPC-C (shared_buffers: 50000/ max_connections: 16)| TPS: 10.509089158791534 QPS: 288.07739823832367 95th latency: 3095.38\n",
      "set [shared_buffers] to [50000]\n",
      "set [max_connections] to [18]\n",
      "Complete running TPC-C (shared_buffers: 50000/ max_connections: 18)| TPS: 9.673313534153586 QPS: 293.8481120067883 95th latency: 2932.6\n",
      "set [shared_buffers] to [50000]\n",
      "set [max_connections] to [21]\n",
      "Complete running TPC-C (shared_buffers: 50000/ max_connections: 21)| TPS: 9.691461980871278 QPS: 290.6644212131804 95th latency: 2985.89\n",
      "set [shared_buffers] to [50000]\n",
      "set [max_connections] to [23]\n",
      "Complete running TPC-C (shared_buffers: 50000/ max_connections: 23)| TPS: 12.91786680631928 QPS: 383.34642576590727 95th latency: 2362.72\n",
      "set [shared_buffers] to [50000]\n",
      "set [max_connections] to [25]\n",
      "Complete running TPC-C (shared_buffers: 50000/ max_connections: 25)| TPS: 10.325600605768567 QPS: 295.48427066841055 95th latency: 2728.81\n",
      "set [shared_buffers] to [50000]\n",
      "set [max_connections] to [27]\n",
      "Complete running TPC-C (shared_buffers: 50000/ max_connections: 27)| TPS: 11.490228817134803 QPS: 318.2254777870537 95th latency: 3326.55\n",
      "set [shared_buffers] to [50000]\n",
      "set [max_connections] to [30]\n",
      "Complete running TPC-C (shared_buffers: 50000/ max_connections: 30)| TPS: 10.69591348194428 QPS: 327.8382370418159 95th latency: 2880.27\n",
      "====================== END Running TPC-C =======================\n"
     ]
    },
    {
     "data": {
      "image/png": "[encoded data removed]",
      "text/plain": [
       "<Figure size 936x360 with 6 Axes>"
      ]
     },
     "metadata": {
      "needs_background": "light"
     },
     "output_type": "display_data"
    }
   ],
   "source": [
    "from run_experiment import run\n",
    "\n",
    "run()"
   ]
  },
  {
   "cell_type": "code",
   "execution_count": 22,
   "metadata": {},
   "outputs": [],
   "source": []
  },
  {
   "cell_type": "code",
   "execution_count": 6,
   "metadata": {},
   "outputs": [],
   "source": [
    "import seaborn as sns\n",
    "import matplotlib.pyplot as plt\n",
    "import pandas as pd\n",
    "import numpy as np"
   ]
  },
  {
   "cell_type": "code",
   "execution_count": 8,
   "metadata": {},
   "outputs": [
    {
     "data": {
      "image/png": "[encoded data removed]",
      "text/plain": [
       "<Figure size 576x396 with 4 Axes>"
      ]
     },
     "metadata": {
      "needs_background": "light"
     },
     "output_type": "display_data"
    }
   ],
   "source": [
    "result = {}\n",
    "result['TPS'] = np.random.random((5,5))\n",
    "knob1_val = [100,200,300,400,500]\n",
    "\n",
    "df = pd.DataFrame(result['TPS'], columns =knob1_val, index = knob1_val)\n",
    "\n",
    "fig, axes = plt.subplots(ncols=2)\n",
    "sns.heatmap(df, ax = axes[0])\n",
    "sns.heatmap(df, ax = axes[1])\n",
    "\n",
    "\n",
    "\n",
    "plt.show()"
   ]
  },
  {
   "cell_type": "code",
   "execution_count": null,
   "metadata": {},
   "outputs": [],
   "source": []
  }
 ],
 "metadata": {
  "interpreter": {
   "hash": "31f2aee4e71d21fbe5cf8b01ff0e069b9275f58929596ceb00d14d90e3e16cd6"
  },
  "kernelspec": {
   "display_name": "Python 3 (ipykernel)",
   "language": "python",
   "name": "python3"
  },
  "language_info": {
   "codemirror_mode": {
    "name": "ipython",
    "version": 3
   },
   "file_extension": ".py",
   "mimetype": "text/x-python",
   "name": "python",
   "nbconvert_exporter": "python",
   "pygments_lexer": "ipython3",
   "version": "3.10.4"
  }
 },
 "nbformat": 4,
 "nbformat_minor": 2
}

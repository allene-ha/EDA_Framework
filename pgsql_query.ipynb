{
 "cells": [
  {
   "cell_type": "code",
   "execution_count": 8,
   "metadata": {},
   "outputs": [
    {
     "data": {
      "text/html": [
       "<div>\n",
       "<style scoped>\n",
       "    .dataframe tbody tr th:only-of-type {\n",
       "        vertical-align: middle;\n",
       "    }\n",
       "\n",
       "    .dataframe tbody tr th {\n",
       "        vertical-align: top;\n",
       "    }\n",
       "\n",
       "    .dataframe thead th {\n",
       "        text-align: right;\n",
       "    }\n",
       "</style>\n",
       "<table border=\"1\" class=\"dataframe\">\n",
       "  <thead>\n",
       "    <tr style=\"text-align: right;\">\n",
       "      <th></th>\n",
       "      <th>seq_scan</th>\n",
       "      <th>seq_tup_read</th>\n",
       "      <th>idx_scan</th>\n",
       "      <th>idx_tup_fetch</th>\n",
       "      <th>n_tup_ins</th>\n",
       "      <th>n_tup_upd</th>\n",
       "      <th>n_tup_del</th>\n",
       "      <th>n_tup_hot_upd</th>\n",
       "      <th>n_live_tup</th>\n",
       "      <th>n_dead_tup</th>\n",
       "      <th>n_mod_since_analyze</th>\n",
       "      <th>vacuum_count</th>\n",
       "      <th>autovacuum_count</th>\n",
       "      <th>analyze_count</th>\n",
       "      <th>autoanalyze_count</th>\n",
       "    </tr>\n",
       "  </thead>\n",
       "  <tbody>\n",
       "    <tr>\n",
       "      <th>0</th>\n",
       "      <td>2300249.0</td>\n",
       "      <td>142683486.0</td>\n",
       "      <td>90641455.0</td>\n",
       "      <td>202187022.0</td>\n",
       "      <td>50904680.0</td>\n",
       "      <td>13122.0</td>\n",
       "      <td>490.0</td>\n",
       "      <td>2119.0</td>\n",
       "      <td>50608262.0</td>\n",
       "      <td>12385.0</td>\n",
       "      <td>1108508.0</td>\n",
       "      <td>0.0</td>\n",
       "      <td>165.0</td>\n",
       "      <td>0.0</td>\n",
       "      <td>213.0</td>\n",
       "    </tr>\n",
       "  </tbody>\n",
       "</table>\n",
       "</div>"
      ],
      "text/plain": [
       "    seq_scan  seq_tup_read    idx_scan  idx_tup_fetch   n_tup_ins  n_tup_upd  \\\n",
       "0  2300249.0   142683486.0  90641455.0    202187022.0  50904680.0    13122.0   \n",
       "\n",
       "   n_tup_del  n_tup_hot_upd  n_live_tup  n_dead_tup  n_mod_since_analyze  \\\n",
       "0      490.0         2119.0  50608262.0     12385.0            1108508.0   \n",
       "\n",
       "   vacuum_count  autovacuum_count  analyze_count  autoanalyze_count  \n",
       "0           0.0             165.0            0.0              213.0  "
      ]
     },
     "execution_count": 8,
     "metadata": {},
     "output_type": "execute_result"
    }
   ],
   "source": [
    "import json\n",
    "from driver.collector.collector_factory import get_collector\n",
    "from driver.collector.postgres_collector import PostgresCollector\n",
    "import time\n",
    "import pandas as pd\n",
    "from query import q\n",
    "\n",
    "query = \"\"\"SELECT\n",
    "  sum(seq_scan) as seq_scan,\n",
    "  sum(seq_tup_read) as seq_tup_read,\n",
    "  sum(idx_scan) as idx_scan,\n",
    "  sum(idx_tup_fetch) as idx_tup_fetch,\n",
    "  sum(n_tup_ins) as n_tup_ins,\n",
    "  sum(n_tup_upd) as n_tup_upd,\n",
    "  sum(n_tup_del) as n_tup_del,\n",
    "  sum(n_tup_hot_upd) as n_tup_hot_upd,\n",
    "  sum(n_live_tup) as n_live_tup,\n",
    "  sum(n_dead_tup) as n_dead_tup,\n",
    "  sum(n_mod_since_analyze) as n_mod_since_analyze,\n",
    "  sum(vacuum_count) as vacuum_count,\n",
    "  sum(autovacuum_count) as autovacuum_count,\n",
    "  sum(analyze_count) as analyze_count,\n",
    "  sum(autoanalyze_count) as autoanalyze_count\n",
    "FROM\n",
    "  pg_stat_user_tables;\n",
    "\"\"\"\n",
    "\n",
    "q(query)"
   ]
  },
  {
   "cell_type": "code",
   "execution_count": 1,
   "metadata": {},
   "outputs": [
    {
     "ename": "NameError",
     "evalue": "name 'driver_config' is not defined",
     "output_type": "error",
     "traceback": [
      "\u001b[0;31m---------------------------------------------------------------------------\u001b[0m",
      "\u001b[0;31mNameError\u001b[0m                                 Traceback (most recent call last)",
      "\u001b[0;32m/tmp/ipykernel_44494/429692293.py\u001b[0m in \u001b[0;36m<module>\u001b[0;34m\u001b[0m\n\u001b[0;32m----> 1\u001b[0;31m \u001b[0mdriver_config\u001b[0m\u001b[0;34m\u001b[0m\u001b[0;34m\u001b[0m\u001b[0m\n\u001b[0m",
      "\u001b[0;31mNameError\u001b[0m: name 'driver_config' is not defined"
     ]
    }
   ],
   "source": [
    "driver_config"
   ]
  },
  {
   "cell_type": "markdown",
   "metadata": {},
   "source": [
    "dic[digest] = digest_query(query_num, digest, digest_text, time, cpu_usage, io, count, timestamp)\n",
    "\n",
    "SELECT queryid, query,  calls, total_exec_time as time_ms, blk_read_time+blk_write_time as io_time FROM pg_stat_statements;\n",
    "SELECT queryid, substr(query,0,50),  calls, total_exec_time as time_ms, blk_read_time+blk_write_time as io_time FROM pg_stat_statements order by calls desc limit 10;\n",
    "SELECT queryid, query,  calls, total_exec_time as time_ms, blk_read_time+blk_write_time as io FROM pg_stat_statements order by calls desc limit 10;"
   ]
  },
  {
   "cell_type": "code",
   "execution_count": 1,
   "metadata": {},
   "outputs": [
    {
     "name": "stdout",
     "output_type": "stream",
     "text": [
      "Loaded Data from Pickle\n",
      "2023-01-09 19:45:42.503770\n",
      "Data Update Complete!\n"
     ]
    }
   ],
   "source": [
    "from performance_analysis import import_and_update_data\n",
    "\n",
    "\n",
    "import_and_update_data()"
   ]
  },
  {
   "cell_type": "code",
   "execution_count": 1,
   "metadata": {},
   "outputs": [
    {
     "data": {
      "application/vnd.jupyter.widget-view+json": {
       "model_id": "94eb5fa24e964d8eac39739913bec343",
       "version_major": 2,
       "version_minor": 0
      },
      "text/plain": [
       "VBox(children=(HTML(value='<b><font size = 5> Visualization Mode</b>'), HTML(value='<font size = 3> General Vi…"
      ]
     },
     "metadata": {},
     "output_type": "display_data"
    }
   ],
   "source": [
    "from performance_analysis import *\n",
    "from visualize_widgets import *\n",
    "visualize()"
   ]
  },
  {
   "cell_type": "code",
   "execution_count": 1,
   "metadata": {
    "scrolled": false
   },
   "outputs": [
    {
     "name": "stdout",
     "output_type": "stream",
     "text": [
      "Loaded Data from Pickle\n",
      "2023-01-10 20:22:50.013930\n",
      "Data Update Complete!\n"
     ]
    },
    {
     "data": {
      "application/vnd.jupyter.widget-view+json": {
       "model_id": "300cc99bb2cf4d50abd38f0697c29f12",
       "version_major": 2,
       "version_minor": 0
      },
      "text/plain": [
       "VBox(children=(Button(description='Query Monitoring', layout=Layout(height='50px', width='300px'), style=Butto…"
      ]
     },
     "metadata": {},
     "output_type": "display_data"
    },
    {
     "data": {
      "application/vnd.jupyter.widget-view+json": {
       "model_id": "786030da62b74a7fae5535b0b726a840",
       "version_major": 2,
       "version_minor": 0
      },
      "text/plain": [
       "HTML(value='<hr>')"
      ]
     },
     "metadata": {},
     "output_type": "display_data"
    },
    {
     "data": {
      "application/vnd.jupyter.widget-view+json": {
       "model_id": "3595bdc332b2477abc566a3038dde07d",
       "version_major": 2,
       "version_minor": 0
      },
      "text/plain": [
       "HTML(value='<b><font size = 3> Database Monitoring')"
      ]
     },
     "metadata": {},
     "output_type": "display_data"
    },
    {
     "data": {
      "application/vnd.jupyter.widget-view+json": {
       "model_id": "fedaf4d2dff1462a9714162537d8a7d7",
       "version_major": 2,
       "version_minor": 0
      },
      "text/plain": [
       "VBox(children=(Button(description='Read query throughput and performance', layout=Layout(height='50px', width=…"
      ]
     },
     "metadata": {},
     "output_type": "display_data"
    },
    {
     "data": {
      "application/vnd.jupyter.widget-view+json": {
       "model_id": "786030da62b74a7fae5535b0b726a840",
       "version_major": 2,
       "version_minor": 0
      },
      "text/plain": [
       "HTML(value='<hr>')"
      ]
     },
     "metadata": {},
     "output_type": "display_data"
    },
    {
     "data": {
      "application/vnd.jupyter.widget-view+json": {
       "model_id": "2408b1fbad954040a26c368fdd1e3ecd",
       "version_major": 2,
       "version_minor": 0
      },
      "text/plain": [
       "HTML(value='<b><font size = 3>Read query throughput and performance')"
      ]
     },
     "metadata": {},
     "output_type": "display_data"
    },
    {
     "data": {
      "image/png": "[encoded data removed]",
      "text/plain": [
       "<Figure size 576x396 with 1 Axes>"
      ]
     },
     "metadata": {
      "needs_background": "light"
     },
     "output_type": "display_data"
    }
   ],
   "source": [
    "from scenario import *\n",
    "\n",
    "scenario()"
   ]
  },
  {
   "cell_type": "code",
   "execution_count": 1,
   "metadata": {
    "scrolled": false
   },
   "outputs": [
    {
     "data": {
      "application/vnd.jupyter.widget-view+json": {
       "model_id": "a85443c0887c4ba4b9a45efe2868c667",
       "version_major": 2,
       "version_minor": 0
      },
      "text/plain": [
       "HBox(children=(HBox(children=(VBox(children=(HTML(value='Knob'), Dropdown(layout=Layout(align_items='center', …"
      ]
     },
     "metadata": {},
     "output_type": "display_data"
    },
    {
     "data": {
      "application/vnd.jupyter.widget-view+json": {
       "model_id": "670bacea6b8b40daa758a8fa1115ec3a",
       "version_major": 2,
       "version_minor": 0
      },
      "text/plain": [
       "HBox(children=(HBox(children=(VBox(children=(HTML(value='Knob'), Dropdown(disabled=True, layout=Layout(align_i…"
      ]
     },
     "metadata": {},
     "output_type": "display_data"
    }
   ],
   "source": [
    "from run_experiment import run\n",
    "\n",
    "run()"
   ]
  },
  {
   "cell_type": "code",
   "execution_count": 2,
   "metadata": {},
   "outputs": [
    {
     "name": "stdout",
     "output_type": "stream",
     "text": [
      "Hello\n"
     ]
    }
   ],
   "source": [
    "print(\"Hello\")"
   ]
  },
  {
   "cell_type": "code",
   "execution_count": 9,
   "metadata": {},
   "outputs": [
    {
     "ename": "TypeError",
     "evalue": "'AxesSubplot' object is not subscriptable",
     "output_type": "error",
     "traceback": [
      "\u001b[0;31m---------------------------------------------------------------------------\u001b[0m",
      "\u001b[0;31mTypeError\u001b[0m                                 Traceback (most recent call last)",
      "\u001b[0;32m/tmp/ipykernel_80795/2757953677.py\u001b[0m in \u001b[0;36m<module>\u001b[0;34m\u001b[0m\n\u001b[1;32m      9\u001b[0m \u001b[0;31m#Plot data\u001b[0m\u001b[0;34m\u001b[0m\u001b[0;34m\u001b[0m\u001b[0m\n\u001b[1;32m     10\u001b[0m \u001b[0mfig\u001b[0m\u001b[0;34m,\u001b[0m \u001b[0maxs\u001b[0m \u001b[0;34m=\u001b[0m \u001b[0mplt\u001b[0m\u001b[0;34m.\u001b[0m\u001b[0msubplots\u001b[0m\u001b[0;34m(\u001b[0m\u001b[0;36m1\u001b[0m\u001b[0;34m,\u001b[0m\u001b[0;36m1\u001b[0m\u001b[0;34m,\u001b[0m\u001b[0mfigsize\u001b[0m\u001b[0;34m=\u001b[0m\u001b[0;34m(\u001b[0m\u001b[0;36m16\u001b[0m\u001b[0;34m,\u001b[0m\u001b[0;36m9\u001b[0m\u001b[0;34m)\u001b[0m\u001b[0;34m)\u001b[0m\u001b[0;34m\u001b[0m\u001b[0;34m\u001b[0m\u001b[0m\n\u001b[0;32m---> 11\u001b[0;31m \u001b[0maxs\u001b[0m\u001b[0;34m[\u001b[0m\u001b[0;36m0\u001b[0m\u001b[0;34m]\u001b[0m\u001b[0;34m.\u001b[0m\u001b[0mplot\u001b[0m\u001b[0;34m(\u001b[0m\u001b[0mY\u001b[0m\u001b[0;34m)\u001b[0m\u001b[0;34m\u001b[0m\u001b[0;34m\u001b[0m\u001b[0m\n\u001b[0m",
      "\u001b[0;31mTypeError\u001b[0m: 'AxesSubplot' object is not subscriptable"
     ]
    },
    {
     "data": {
      "image/png": "[encoded data removed]",
      "text/plain": [
       "<Figure size 1152x648 with 1 Axes>"
      ]
     },
     "metadata": {
      "needs_background": "light"
     },
     "output_type": "display_data"
    }
   ],
   "source": [
    "from matplotlib import pyplot as plt\n",
    "import numpy as np\n",
    "import pandas as pd\n",
    "x,y=range(100), range(10)\n",
    "z=np.random.random((len(x),len(y)))\n",
    "Y=[z[i].sum() for i in range(len(x))]\n",
    "z=pd.DataFrame(z).unstack().reset_index()\n",
    "\n",
    "#Plot data\n",
    "fig, axs = plt.subplots(1,1,figsize=(16,9))\n",
    "axs[0].plot(Y)\n"
   ]
  },
  {
   "cell_type": "code",
   "execution_count": 19,
   "metadata": {
    "collapsed": true
   },
   "outputs": [
    {
     "name": "stdout",
     "output_type": "stream",
     "text": [
      "sysbench 1.0.20 (using system LuaJIT 2.1.0-beta3)\n",
      "\n",
      "Running the test with following options:\n",
      "Number of threads: 16\n",
      "Report intermediate results every 10 second(s)\n",
      "Initializing random number generator from current time\n",
      "\n",
      "\n",
      "Initializing worker threads...\n",
      "\n",
      "DB SCHEMA public\n",
      "DB SCHEMA public\n",
      "DB SCHEMA public\n",
      "DB SCHEMA public\n",
      "DB SCHEMA public\n",
      "DB SCHEMA public\n",
      "DB SCHEMA public\n",
      "DB SCHEMA public\n",
      "DB SCHEMA public\n",
      "DB SCHEMA public\n",
      "DB SCHEMA public\n",
      "DB SCHEMA public\n",
      "DB SCHEMA public\n",
      "DB SCHEMA public\n",
      "DB SCHEMA public\n",
      "DB SCHEMA public\n",
      "Threads started!\n",
      "\n",
      "[ 10s ] thds: 16 tps: 3.80 qps: 118.67 (r/w/o: 51.99/53.49/13.20) lat (ms,95%): 6713.97 err/s 0.40 reconn/s: 0.00\n",
      "SQL statistics:\n",
      "    queries performed:\n",
      "        read:                            685\n",
      "        write:                           715\n",
      "        other:                           148\n",
      "        total:                           1548\n",
      "    transactions:                        54     (3.70 per sec.)\n",
      "    queries:                             1548   (106.06 per sec.)\n",
      "    ignored errors:                      4      (0.27 per sec.)\n",
      "    reconnects:                          0      (0.00 per sec.)\n",
      "\n",
      "General statistics:\n",
      "    total time:                          14.5941s\n",
      "    total number of events:              54\n",
      "\n",
      "Latency (ms):\n",
      "         min:                                  671.30\n",
      "         avg:                                 3651.24\n",
      "         max:                                10682.15\n",
      "         95th percentile:                     8955.74\n",
      "         sum:                               197166.96\n",
      "\n",
      "Threads fairness:\n",
      "    events (avg/stddev):           3.3750/0.78\n",
      "    execution time (avg/stddev):   12.3229/1.44\n",
      "\n",
      "\n"
     ]
    }
   ],
   "source": [
    "git fetch\n",
    "\n",
    "git checkout origin/main -- README.md"
   ]
  },
  {
   "cell_type": "code",
   "execution_count": 22,
   "metadata": {},
   "outputs": [],
   "source": []
  },
  {
   "cell_type": "code",
   "execution_count": 38,
   "metadata": {},
   "outputs": [
    {
     "name": "stdout",
     "output_type": "stream",
     "text": [
      "54 1548 8955.74 14.5941\n"
     ]
    }
   ],
   "source": [
    "import subprocess\n",
    "result = subprocess.check_output(tpcc_command,shell=True, cwd=\"sysbench-tpcc\", universal_newlines=True)\n",
    "\n",
    "\n",
    "temp = result.split('\\n')\n",
    "temp = temp[-25:]\n",
    "\n",
    "s = [i.replace(\"  \",\"\").split(':') for i in temp]\n",
    "d = {i[0].lstrip():i[1].lstrip() for i in s if len(i)>1}\n",
    "txn = d['transactions'].split(\" \")[0]\n",
    "query = d['queries'].split(\" \")[0]\n",
    "latency = d['95th percentile']\n",
    "time = d['total time'].replace(\"s\",'')\n",
    "\n",
    "print(txn, query, latency, time)"
   ]
  },
  {
   "cell_type": "code",
   "execution_count": 39,
   "metadata": {},
   "outputs": [
    {
     "data": {
      "text/plain": [
       "['        read:                            685',\n",
       " '        write:                           715',\n",
       " '        other:                           148',\n",
       " '        total:                           1548',\n",
       " '    transactions:                        54     (3.70 per sec.)',\n",
       " '    queries:                             1548   (106.06 per sec.)',\n",
       " '    ignored errors:                      4      (0.27 per sec.)',\n",
       " '    reconnects:                          0      (0.00 per sec.)',\n",
       " '',\n",
       " 'General statistics:',\n",
       " '    total time:                          14.5941s',\n",
       " '    total number of events:              54',\n",
       " '',\n",
       " 'Latency (ms):',\n",
       " '         min:                                  671.30',\n",
       " '         avg:                                 3651.24',\n",
       " '         max:                                10682.15',\n",
       " '         95th percentile:                     8955.74',\n",
       " '         sum:                               197166.96',\n",
       " '',\n",
       " 'Threads fairness:',\n",
       " '    events (avg/stddev):           3.3750/0.78',\n",
       " '    execution time (avg/stddev):   12.3229/1.44',\n",
       " '',\n",
       " '']"
      ]
     },
     "execution_count": 39,
     "metadata": {},
     "output_type": "execute_result"
    }
   ],
   "source": [
    "temp"
   ]
  },
  {
   "cell_type": "code",
   "execution_count": 42,
   "metadata": {},
   "outputs": [
    {
     "data": {
      "text/html": [
       "<div>\n",
       "<style scoped>\n",
       "    .dataframe tbody tr th:only-of-type {\n",
       "        vertical-align: middle;\n",
       "    }\n",
       "\n",
       "    .dataframe tbody tr th {\n",
       "        vertical-align: top;\n",
       "    }\n",
       "\n",
       "    .dataframe thead th {\n",
       "        text-align: right;\n",
       "    }\n",
       "</style>\n",
       "<table border=\"1\" class=\"dataframe\">\n",
       "  <thead>\n",
       "    <tr style=\"text-align: right;\">\n",
       "      <th></th>\n",
       "      <th>TPS</th>\n",
       "      <th>QPS</th>\n",
       "    </tr>\n",
       "  </thead>\n",
       "  <tbody>\n",
       "    <tr>\n",
       "      <th>1.1</th>\n",
       "      <td>1</td>\n",
       "      <td>2.2</td>\n",
       "    </tr>\n",
       "    <tr>\n",
       "      <th>2.2</th>\n",
       "      <td>2</td>\n",
       "      <td>2.3</td>\n",
       "    </tr>\n",
       "    <tr>\n",
       "      <th>3.3</th>\n",
       "      <td>3</td>\n",
       "      <td>3.3</td>\n",
       "    </tr>\n",
       "    <tr>\n",
       "      <th>4.4</th>\n",
       "      <td>4</td>\n",
       "      <td>4.3</td>\n",
       "    </tr>\n",
       "    <tr>\n",
       "      <th>5.5</th>\n",
       "      <td>5</td>\n",
       "      <td>5.3</td>\n",
       "    </tr>\n",
       "  </tbody>\n",
       "</table>\n",
       "</div>"
      ],
      "text/plain": [
       "     TPS  QPS\n",
       "1.1    1  2.2\n",
       "2.2    2  2.3\n",
       "3.3    3  3.3\n",
       "4.4    4  4.3\n",
       "5.5    5  5.3"
      ]
     },
     "execution_count": 42,
     "metadata": {},
     "output_type": "execute_result"
    }
   ],
   "source": [
    "import pandas as pd\n",
    "import numpy as np\n",
    "dic = {}\n",
    "index = [1.1,2.2,3.3,4.4,5.5]\n",
    "dic['TPS'] = np.array([1,2,3,4,5])\n",
    "dic['QPS'] = np.array([2.2,2.3,3.3,4.3,5.3])\n",
    "\n",
    "df = pd.DataFrame(dic, columns = [\"TPS\", \"QPS\"], index = index)\n",
    "\n",
    "df"
   ]
  },
  {
   "cell_type": "code",
   "execution_count": 6,
   "metadata": {},
   "outputs": [],
   "source": [
    "import seaborn as sns\n",
    "import matplotlib.pyplot as plt\n",
    "import pandas as pd\n",
    "import numpy as np"
   ]
  },
  {
   "cell_type": "code",
   "execution_count": 8,
   "metadata": {},
   "outputs": [
    {
     "data": {
      "image/png": "[encoded data removed]",
      "text/plain": [
       "<Figure size 576x396 with 4 Axes>"
      ]
     },
     "metadata": {
      "needs_background": "light"
     },
     "output_type": "display_data"
    }
   ],
   "source": [
    "result = {}\n",
    "result['TPS'] = np.random.random((5,5))\n",
    "knob1_val = [100,200,300,400,500]\n",
    "\n",
    "df = pd.DataFrame(result['TPS'], columns =knob1_val, index = knob1_val)\n",
    "\n",
    "fig, axes = plt.subplots(ncols=2)\n",
    "sns.heatmap(df, ax = axes[0])\n",
    "sns.heatmap(df, ax = axes[1])\n",
    "\n",
    "\n",
    "\n",
    "plt.show()"
   ]
  },
  {
   "cell_type": "code",
   "execution_count": null,
   "metadata": {},
   "outputs": [],
   "source": []
  }
 ],
 "metadata": {
  "interpreter": {
   "hash": "31f2aee4e71d21fbe5cf8b01ff0e069b9275f58929596ceb00d14d90e3e16cd6"
  },
  "kernelspec": {
   "display_name": "Python 3 (ipykernel)",
   "language": "python",
   "name": "python3"
  },
  "language_info": {
   "codemirror_mode": {
    "name": "ipython",
    "version": 3
   },
   "file_extension": ".py",
   "mimetype": "text/x-python",
   "name": "python",
   "nbconvert_exporter": "python",
   "pygments_lexer": "ipython3",
   "version": "3.10.4"
  }
 },
 "nbformat": 4,
 "nbformat_minor": 2
}

{
 "cells": [
  {
   "cell_type": "code",
   "execution_count": 8,
   "metadata": {},
   "outputs": [
    {
     "data": {
      "text/html": [
       "<div>\n",
       "<style scoped>\n",
       "    .dataframe tbody tr th:only-of-type {\n",
       "        vertical-align: middle;\n",
       "    }\n",
       "\n",
       "    .dataframe tbody tr th {\n",
       "        vertical-align: top;\n",
       "    }\n",
       "\n",
       "    .dataframe thead th {\n",
       "        text-align: right;\n",
       "    }\n",
       "</style>\n",
       "<table border=\"1\" class=\"dataframe\">\n",
       "  <thead>\n",
       "    <tr style=\"text-align: right;\">\n",
       "      <th></th>\n",
       "      <th>seq_scan</th>\n",
       "      <th>seq_tup_read</th>\n",
       "      <th>idx_scan</th>\n",
       "      <th>idx_tup_fetch</th>\n",
       "      <th>n_tup_ins</th>\n",
       "      <th>n_tup_upd</th>\n",
       "      <th>n_tup_del</th>\n",
       "      <th>n_tup_hot_upd</th>\n",
       "      <th>n_live_tup</th>\n",
       "      <th>n_dead_tup</th>\n",
       "      <th>n_mod_since_analyze</th>\n",
       "      <th>vacuum_count</th>\n",
       "      <th>autovacuum_count</th>\n",
       "      <th>analyze_count</th>\n",
       "      <th>autoanalyze_count</th>\n",
       "    </tr>\n",
       "  </thead>\n",
       "  <tbody>\n",
       "    <tr>\n",
       "      <th>0</th>\n",
       "      <td>2300249.0</td>\n",
       "      <td>142683486.0</td>\n",
       "      <td>90641455.0</td>\n",
       "      <td>202187022.0</td>\n",
       "      <td>50904680.0</td>\n",
       "      <td>13122.0</td>\n",
       "      <td>490.0</td>\n",
       "      <td>2119.0</td>\n",
       "      <td>50608262.0</td>\n",
       "      <td>12385.0</td>\n",
       "      <td>1108508.0</td>\n",
       "      <td>0.0</td>\n",
       "      <td>165.0</td>\n",
       "      <td>0.0</td>\n",
       "      <td>213.0</td>\n",
       "    </tr>\n",
       "  </tbody>\n",
       "</table>\n",
       "</div>"
      ],
      "text/plain": [
       "    seq_scan  seq_tup_read    idx_scan  idx_tup_fetch   n_tup_ins  n_tup_upd  \\\n",
       "0  2300249.0   142683486.0  90641455.0    202187022.0  50904680.0    13122.0   \n",
       "\n",
       "   n_tup_del  n_tup_hot_upd  n_live_tup  n_dead_tup  n_mod_since_analyze  \\\n",
       "0      490.0         2119.0  50608262.0     12385.0            1108508.0   \n",
       "\n",
       "   vacuum_count  autovacuum_count  analyze_count  autoanalyze_count  \n",
       "0           0.0             165.0            0.0              213.0  "
      ]
     },
     "execution_count": 8,
     "metadata": {},
     "output_type": "execute_result"
    }
   ],
   "source": [
    "import json\n",
    "from driver.collector.collector_factory import get_collector\n",
    "from driver.collector.postgres_collector import PostgresCollector\n",
    "import time\n",
    "import pandas as pd\n",
    "from query import q\n",
    "\n",
    "query = \"\"\"SELECT\n",
    "  sum(seq_scan) as seq_scan,\n",
    "  sum(seq_tup_read) as seq_tup_read,\n",
    "  sum(idx_scan) as idx_scan,\n",
    "  sum(idx_tup_fetch) as idx_tup_fetch,\n",
    "  sum(n_tup_ins) as n_tup_ins,\n",
    "  sum(n_tup_upd) as n_tup_upd,\n",
    "  sum(n_tup_del) as n_tup_del,\n",
    "  sum(n_tup_hot_upd) as n_tup_hot_upd,\n",
    "  sum(n_live_tup) as n_live_tup,\n",
    "  sum(n_dead_tup) as n_dead_tup,\n",
    "  sum(n_mod_since_analyze) as n_mod_since_analyze,\n",
    "  sum(vacuum_count) as vacuum_count,\n",
    "  sum(autovacuum_count) as autovacuum_count,\n",
    "  sum(analyze_count) as analyze_count,\n",
    "  sum(autoanalyze_count) as autoanalyze_count\n",
    "FROM\n",
    "  pg_stat_user_tables;\n",
    "\"\"\"\n",
    "\n",
    "q(query)"
   ]
  },
  {
   "cell_type": "code",
   "execution_count": 1,
   "metadata": {},
   "outputs": [
    {
     "ename": "NameError",
     "evalue": "name 'driver_config' is not defined",
     "output_type": "error",
     "traceback": [
      "\u001b[0;31m---------------------------------------------------------------------------\u001b[0m",
      "\u001b[0;31mNameError\u001b[0m                                 Traceback (most recent call last)",
      "\u001b[0;32m/tmp/ipykernel_44494/429692293.py\u001b[0m in \u001b[0;36m<module>\u001b[0;34m\u001b[0m\n\u001b[0;32m----> 1\u001b[0;31m \u001b[0mdriver_config\u001b[0m\u001b[0;34m\u001b[0m\u001b[0;34m\u001b[0m\u001b[0m\n\u001b[0m",
      "\u001b[0;31mNameError\u001b[0m: name 'driver_config' is not defined"
     ]
    }
   ],
   "source": [
    "driver_config"
   ]
  },
  {
   "cell_type": "markdown",
   "metadata": {},
   "source": [
    "dic[digest] = digest_query(query_num, digest, digest_text, time, cpu_usage, io, count, timestamp)\n",
    "\n",
    "SELECT queryid, query,  calls, total_exec_time as time_ms, blk_read_time+blk_write_time as io_time FROM pg_stat_statements;\n",
    "SELECT queryid, substr(query,0,50),  calls, total_exec_time as time_ms, blk_read_time+blk_write_time as io_time FROM pg_stat_statements order by calls desc limit 10;\n",
    "SELECT queryid, query,  calls, total_exec_time as time_ms, blk_read_time+blk_write_time as io FROM pg_stat_statements order by calls desc limit 10;"
   ]
  },
  {
   "cell_type": "code",
   "execution_count": 1,
   "metadata": {},
   "outputs": [
    {
     "name": "stdout",
     "output_type": "stream",
     "text": [
      "Loaded Data from Pickle\n",
      "2023-01-09 19:45:42.503770\n",
      "Data Update Complete!\n"
     ]
    }
   ],
   "source": [
    "from performance_analysis import import_and_update_data\n",
    "\n",
    "\n",
    "import_and_update_data()"
   ]
  },
  {
   "cell_type": "code",
   "execution_count": 1,
   "metadata": {},
   "outputs": [
    {
     "data": {
      "application/vnd.jupyter.widget-view+json": {
       "model_id": "94eb5fa24e964d8eac39739913bec343",
       "version_major": 2,
       "version_minor": 0
      },
      "text/plain": [
       "VBox(children=(HTML(value='<b><font size = 5> Visualization Mode</b>'), HTML(value='<font size = 3> General Vi…"
      ]
     },
     "metadata": {},
     "output_type": "display_data"
    }
   ],
   "source": [
    "from performance_analysis import *\n",
    "from visualize_widgets import *\n",
    "visualize()"
   ]
  },
  {
   "cell_type": "code",
   "execution_count": 1,
   "metadata": {
    "scrolled": false
   },
   "outputs": [
    {
     "name": "stdout",
     "output_type": "stream",
     "text": [
      "Loaded Data from Pickle\n",
      "2023-01-10 20:22:22.038166\n",
      "Data Update Complete!\n"
     ]
    },
    {
     "data": {
      "application/vnd.jupyter.widget-view+json": {
       "model_id": "07fb65d27d114aa6811aa3e6c149293a",
       "version_major": 2,
       "version_minor": 0
      },
      "text/plain": [
       "VBox(children=(Button(description='Query Monitoring', layout=Layout(height='50px', width='300px'), style=Butto…"
      ]
     },
     "metadata": {},
     "output_type": "display_data"
    },
    {
     "data": {
      "application/vnd.jupyter.widget-view+json": {
       "model_id": "9ed8e1ccd4e9485680406fe73b62c0f4",
       "version_major": 2,
       "version_minor": 0
      },
      "text/plain": [
       "HTML(value='<hr>')"
      ]
     },
     "metadata": {},
     "output_type": "display_data"
    },
    {
     "data": {
      "application/vnd.jupyter.widget-view+json": {
       "model_id": "e5571982b24b4631b9ae115df2367fad",
       "version_major": 2,
       "version_minor": 0
      },
      "text/plain": [
       "HTML(value='<b><font size = 3> Database Monitoring')"
      ]
     },
     "metadata": {},
     "output_type": "display_data"
    },
    {
     "data": {
      "application/vnd.jupyter.widget-view+json": {
       "model_id": "31e9d5992b9b44428f24f5df7ee99ffe",
       "version_major": 2,
       "version_minor": 0
      },
      "text/plain": [
       "VBox(children=(Button(description='Read query throughput and performance', layout=Layout(height='50px', width=…"
      ]
     },
     "metadata": {},
     "output_type": "display_data"
    },
    {
     "data": {
      "application/vnd.jupyter.widget-view+json": {
       "model_id": "9ed8e1ccd4e9485680406fe73b62c0f4",
       "version_major": 2,
       "version_minor": 0
      },
      "text/plain": [
       "HTML(value='<hr>')"
      ]
     },
     "metadata": {},
     "output_type": "display_data"
    },
    {
     "data": {
      "application/vnd.jupyter.widget-view+json": {
       "model_id": "281dfc2b44404b65bbcf9ea9ff459cf8",
       "version_major": 2,
       "version_minor": 0
      },
      "text/plain": [
       "HTML(value='<b><font size = 3>Read query throughput and performance')"
      ]
     },
     "metadata": {},
     "output_type": "display_data"
    },
    {
     "name": "stdout",
     "output_type": "stream",
     "text": [
      "      seq_scan    idx_scan\n",
      "0    2304372.0  90690061.0\n",
      "1    2303156.0  90674640.0\n",
      "2    2304372.0  90690061.0\n",
      "3    2302442.0  90666585.0\n",
      "4    2304372.0  90690061.0\n",
      "..         ...         ...\n",
      "140  2304372.0  90690061.0\n",
      "141  2304179.0  90687339.0\n",
      "142  2304372.0  90690061.0\n",
      "143  2303452.0  90678165.0\n",
      "144  2304372.0  90690061.0\n",
      "\n",
      "[145 rows x 2 columns]\n"
     ]
    }
   ],
   "source": [
    "from scenario import *\n",
    "\n",
    "scenario()"
   ]
  },
  {
   "cell_type": "code",
   "execution_count": null,
   "metadata": {},
   "outputs": [],
   "source": []
  }
 ],
 "metadata": {
  "interpreter": {
   "hash": "31f2aee4e71d21fbe5cf8b01ff0e069b9275f58929596ceb00d14d90e3e16cd6"
  },
  "kernelspec": {
   "display_name": "Python 3 (ipykernel)",
   "language": "python",
   "name": "python3"
  },
  "language_info": {
   "codemirror_mode": {
    "name": "ipython",
    "version": 3
   },
   "file_extension": ".py",
   "mimetype": "text/x-python",
   "name": "python",
   "nbconvert_exporter": "python",
   "pygments_lexer": "ipython3",
   "version": "3.10.4"
  }
 },
 "nbformat": 4,
 "nbformat_minor": 2
}

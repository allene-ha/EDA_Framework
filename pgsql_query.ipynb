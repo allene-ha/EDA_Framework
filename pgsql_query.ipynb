{
 "cells": [
  {
   "cell_type": "code",
   "execution_count": 1,
   "metadata": {},
   "outputs": [],
   "source": [
    "import json\n",
    "from driver.collector.collector_factory import get_collector\n",
    "from driver.collector.postgres_collector import PostgresCollector\n",
    "import time\n",
    "import pandas as pd\n",
    "\n",
    "with open('connect_config.json') as json_file:\n",
    "    driver_config = json.load(json_file)\n"
   ]
  },
  {
   "cell_type": "code",
   "execution_count": 2,
   "metadata": {},
   "outputs": [
    {
     "data": {
      "text/plain": [
       "{'db_type': 'postgres',\n",
       " 'db_host': 'localhost',\n",
       " 'db_port': '5432',\n",
       " 'db_user': 'postgres',\n",
       " 'db_password': 'postgres',\n",
       " 'mysql_database': '',\n",
       " 'monitor_interval': '10',\n",
       " 'table_level_monitor_interval': '5000',\n",
       " 'db_provider': 'on_premise',\n",
       " 'db_key': 'test_key',\n",
       " 'organization_id': 'test_organization'}"
      ]
     },
     "execution_count": 2,
     "metadata": {},
     "output_type": "execute_result"
    }
   ],
   "source": [
    "driver_config"
   ]
  },
  {
   "cell_type": "markdown",
   "metadata": {},
   "source": [
    "dic[digest] = digest_query(query_num, digest, digest_text, time, cpu_usage, io, count, timestamp)\n",
    "\n",
    "SELECT queryid, query,  calls, total_exec_time as time_ms, blk_read_time+blk_write_time as io_time FROM pg_stat_statements;\n",
    "SELECT queryid, substr(query,0,50),  calls, total_exec_time as time_ms, blk_read_time+blk_write_time as io_time FROM pg_stat_statements order by calls desc limit 10;\n",
    "SELECT queryid, query,  calls, total_exec_time as time_ms, blk_read_time+blk_write_time as io FROM pg_stat_statements order by calls desc limit 10;"
   ]
  },
  {
   "cell_type": "code",
   "execution_count": 1,
   "metadata": {},
   "outputs": [
    {
     "name": "stdout",
     "output_type": "stream",
     "text": [
      "Loaded Data from Pickle\n",
      "2023-01-09 19:45:42.503770\n",
      "Data Update Complete!\n"
     ]
    }
   ],
   "source": [
    "from performance_analysis import import_and_update_data\n",
    "\n",
    "\n",
    "import_and_update_data()"
   ]
  },
  {
   "cell_type": "code",
   "execution_count": 1,
   "metadata": {},
   "outputs": [
    {
     "data": {
      "application/vnd.jupyter.widget-view+json": {
       "model_id": "94eb5fa24e964d8eac39739913bec343",
       "version_major": 2,
       "version_minor": 0
      },
      "text/plain": [
       "VBox(children=(HTML(value='<b><font size = 5> Visualization Mode</b>'), HTML(value='<font size = 3> General Vi…"
      ]
     },
     "metadata": {},
     "output_type": "display_data"
    }
   ],
   "source": [
    "from performance_analysis import *\n",
    "from visualize_widgets import *\n",
    "visualize()"
   ]
  },
  {
   "cell_type": "code",
   "execution_count": 1,
   "metadata": {},
   "outputs": [
    {
     "name": "stdout",
     "output_type": "stream",
     "text": [
      "Loaded Data from Pickle\n",
      "2023-01-09 19:51:57.939273\n",
      "Data Update Complete!\n"
     ]
    },
    {
     "data": {
      "application/vnd.jupyter.widget-view+json": {
       "model_id": "ec70ff6545924b51a5b8687c4e9cf9f8",
       "version_major": 2,
       "version_minor": 0
      },
      "text/plain": [
       "HBox(children=(Button(description='Query Monitoring', layout=Layout(width='80%'), style=ButtonStyle()), Button…"
      ]
     },
     "metadata": {},
     "output_type": "display_data"
    },
    {
     "data": {
      "application/vnd.jupyter.widget-view+json": {
       "model_id": "975ebe6a18ec4c84a42ee7f0a18cb5eb",
       "version_major": 2,
       "version_minor": 0
      },
      "text/plain": [
       "HTML(value='<b><font size = 3> Query Monitoring')"
      ]
     },
     "metadata": {},
     "output_type": "display_data"
    },
    {
     "data": {
      "application/vnd.jupyter.widget-view+json": {
       "model_id": "19fc8412c0a44decb95f794440fe5a8f",
       "version_major": 2,
       "version_minor": 0
      },
      "text/plain": [
       "Button(description='Long Running Queries', layout=Layout(width='80%'), style=ButtonStyle())"
      ]
     },
     "metadata": {},
     "output_type": "display_data"
    },
    {
     "data": {
      "text/html": [
       "<div>\n",
       "<style scoped>\n",
       "    .dataframe tbody tr th:only-of-type {\n",
       "        vertical-align: middle;\n",
       "    }\n",
       "\n",
       "    .dataframe tbody tr th {\n",
       "        vertical-align: top;\n",
       "    }\n",
       "\n",
       "    .dataframe thead th {\n",
       "        text-align: right;\n",
       "    }\n",
       "</style>\n",
       "<table border=\"1\" class=\"dataframe\">\n",
       "  <thead>\n",
       "    <tr style=\"text-align: right;\">\n",
       "      <th></th>\n",
       "      <th>Digest Text</th>\n",
       "      <th>Duration</th>\n",
       "    </tr>\n",
       "    <tr>\n",
       "      <th>QID</th>\n",
       "      <th></th>\n",
       "      <th></th>\n",
       "    </tr>\n",
       "  </thead>\n",
       "  <tbody>\n",
       "    <tr>\n",
       "      <th>3</th>\n",
       "      <td>SELECT * FROM pg_stat_archiver</td>\n",
       "      <td>11.190169</td>\n",
       "    </tr>\n",
       "    <tr>\n",
       "      <th>0</th>\n",
       "      <td>SELECT name, setting From pg_settings</td>\n",
       "      <td>1.026344</td>\n",
       "    </tr>\n",
       "    <tr>\n",
       "      <th>6</th>\n",
       "      <td>SELECT sum(heap_blks_read) as heap_blks_read, ...</td>\n",
       "      <td>0.182160</td>\n",
       "    </tr>\n",
       "    <tr>\n",
       "      <th>5</th>\n",
       "      <td>SELECT sum(seq_scan) as seq_scan, sum(seq_tup_...</td>\n",
       "      <td>0.172931</td>\n",
       "    </tr>\n",
       "    <tr>\n",
       "      <th>9</th>\n",
       "      <td>SELECT sum(idx_blks_read) as idx_blks_read, su...</td>\n",
       "      <td>0.157572</td>\n",
       "    </tr>\n",
       "  </tbody>\n",
       "</table>\n",
       "</div>"
      ],
      "text/plain": [
       "                                           Digest Text   Duration\n",
       "QID                                                              \n",
       "3                       SELECT * FROM pg_stat_archiver  11.190169\n",
       "0                SELECT name, setting From pg_settings   1.026344\n",
       "6    SELECT sum(heap_blks_read) as heap_blks_read, ...   0.182160\n",
       "5    SELECT sum(seq_scan) as seq_scan, sum(seq_tup_...   0.172931\n",
       "9    SELECT sum(idx_blks_read) as idx_blks_read, su...   0.157572"
      ]
     },
     "metadata": {},
     "output_type": "display_data"
    },
    {
     "data": {
      "application/vnd.jupyter.widget-view+json": {
       "model_id": "2ef06d657e314abb888fd0bf3ae9dbfe",
       "version_major": 2,
       "version_minor": 0
      },
      "text/plain": [
       "Button(description='Visualize', layout=Layout(width='80%'), style=ButtonStyle())"
      ]
     },
     "metadata": {},
     "output_type": "display_data"
    },
    {
     "data": {
      "application/vnd.jupyter.widget-view+json": {
       "model_id": "06e4d050e9664337bc1d478d3b8f1c7d",
       "version_major": 2,
       "version_minor": 0
      },
      "text/plain": [
       "HTML(value='<b><font size = 3> Longest Running Queries')"
      ]
     },
     "metadata": {},
     "output_type": "display_data"
    },
    {
     "data": {
      "application/vnd.jupyter.widget-view+json": {
       "model_id": "dfde3e4da5774a0e88b8821051fed4a2",
       "version_major": 2,
       "version_minor": 0
      },
      "text/plain": [
       "Select(description='Select QID', layout=Layout(height='100px', width='40%'), options=(3, 0, 6, 5, 9), value=3)"
      ]
     },
     "metadata": {},
     "output_type": "display_data"
    },
    {
     "data": {
      "application/vnd.jupyter.widget-view+json": {
       "model_id": "26abee03a5e34980bfb38d53f0aaa38c",
       "version_major": 2,
       "version_minor": 0
      },
      "text/plain": [
       "Output()"
      ]
     },
     "metadata": {},
     "output_type": "display_data"
    }
   ],
   "source": [
    "from scenario import *\n",
    "\n",
    "scenario()"
   ]
  },
  {
   "cell_type": "code",
   "execution_count": null,
   "metadata": {},
   "outputs": [],
   "source": []
  }
 ],
 "metadata": {
  "interpreter": {
   "hash": "31f2aee4e71d21fbe5cf8b01ff0e069b9275f58929596ceb00d14d90e3e16cd6"
  },
  "kernelspec": {
   "display_name": "Python 3 (ipykernel)",
   "language": "python",
   "name": "python3"
  },
  "language_info": {
   "codemirror_mode": {
    "name": "ipython",
    "version": 3
   },
   "file_extension": ".py",
   "mimetype": "text/x-python",
   "name": "python",
   "nbconvert_exporter": "python",
   "pygments_lexer": "ipython3",
   "version": "3.10.4"
  }
 },
 "nbformat": 4,
 "nbformat_minor": 2
}

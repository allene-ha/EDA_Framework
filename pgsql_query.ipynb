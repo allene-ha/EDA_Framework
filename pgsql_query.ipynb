{
 "cells": [
  {
   "cell_type": "code",
   "execution_count": 8,
   "metadata": {},
   "outputs": [
    {
     "data": {
      "text/html": [
       "<div>\n",
       "<style scoped>\n",
       "    .dataframe tbody tr th:only-of-type {\n",
       "        vertical-align: middle;\n",
       "    }\n",
       "\n",
       "    .dataframe tbody tr th {\n",
       "        vertical-align: top;\n",
       "    }\n",
       "\n",
       "    .dataframe thead th {\n",
       "        text-align: right;\n",
       "    }\n",
       "</style>\n",
       "<table border=\"1\" class=\"dataframe\">\n",
       "  <thead>\n",
       "    <tr style=\"text-align: right;\">\n",
       "      <th></th>\n",
       "      <th>seq_scan</th>\n",
       "      <th>seq_tup_read</th>\n",
       "      <th>idx_scan</th>\n",
       "      <th>idx_tup_fetch</th>\n",
       "      <th>n_tup_ins</th>\n",
       "      <th>n_tup_upd</th>\n",
       "      <th>n_tup_del</th>\n",
       "      <th>n_tup_hot_upd</th>\n",
       "      <th>n_live_tup</th>\n",
       "      <th>n_dead_tup</th>\n",
       "      <th>n_mod_since_analyze</th>\n",
       "      <th>vacuum_count</th>\n",
       "      <th>autovacuum_count</th>\n",
       "      <th>analyze_count</th>\n",
       "      <th>autoanalyze_count</th>\n",
       "    </tr>\n",
       "  </thead>\n",
       "  <tbody>\n",
       "    <tr>\n",
       "      <th>0</th>\n",
       "      <td>2300249.0</td>\n",
       "      <td>142683486.0</td>\n",
       "      <td>90641455.0</td>\n",
       "      <td>202187022.0</td>\n",
       "      <td>50904680.0</td>\n",
       "      <td>13122.0</td>\n",
       "      <td>490.0</td>\n",
       "      <td>2119.0</td>\n",
       "      <td>50608262.0</td>\n",
       "      <td>12385.0</td>\n",
       "      <td>1108508.0</td>\n",
       "      <td>0.0</td>\n",
       "      <td>165.0</td>\n",
       "      <td>0.0</td>\n",
       "      <td>213.0</td>\n",
       "    </tr>\n",
       "  </tbody>\n",
       "</table>\n",
       "</div>"
      ],
      "text/plain": [
       "    seq_scan  seq_tup_read    idx_scan  idx_tup_fetch   n_tup_ins  n_tup_upd  \\\n",
       "0  2300249.0   142683486.0  90641455.0    202187022.0  50904680.0    13122.0   \n",
       "\n",
       "   n_tup_del  n_tup_hot_upd  n_live_tup  n_dead_tup  n_mod_since_analyze  \\\n",
       "0      490.0         2119.0  50608262.0     12385.0            1108508.0   \n",
       "\n",
       "   vacuum_count  autovacuum_count  analyze_count  autoanalyze_count  \n",
       "0           0.0             165.0            0.0              213.0  "
      ]
     },
     "execution_count": 8,
     "metadata": {},
     "output_type": "execute_result"
    }
   ],
   "source": [
    "import json\n",
    "from driver.collector.collector_factory import get_collector\n",
    "from driver.collector.postgres_collector import PostgresCollector\n",
    "import time\n",
    "import pandas as pd\n",
    "from query import q\n",
    "\n",
    "query = \"\"\"SELECT\n",
    "  sum(seq_scan) as seq_scan,\n",
    "  sum(seq_tup_read) as seq_tup_read,\n",
    "  sum(idx_scan) as idx_scan,\n",
    "  sum(idx_tup_fetch) as idx_tup_fetch,\n",
    "  sum(n_tup_ins) as n_tup_ins,\n",
    "  sum(n_tup_upd) as n_tup_upd,\n",
    "  sum(n_tup_del) as n_tup_del,\n",
    "  sum(n_tup_hot_upd) as n_tup_hot_upd,\n",
    "  sum(n_live_tup) as n_live_tup,\n",
    "  sum(n_dead_tup) as n_dead_tup,\n",
    "  sum(n_mod_since_analyze) as n_mod_since_analyze,\n",
    "  sum(vacuum_count) as vacuum_count,\n",
    "  sum(autovacuum_count) as autovacuum_count,\n",
    "  sum(analyze_count) as analyze_count,\n",
    "  sum(autoanalyze_count) as autoanalyze_count\n",
    "FROM\n",
    "  pg_stat_user_tables;\n",
    "\"\"\"\n",
    "\n",
    "q(query)"
   ]
  },
  {
   "cell_type": "code",
   "execution_count": 1,
   "metadata": {},
   "outputs": [
    {
     "ename": "NameError",
     "evalue": "name 'driver_config' is not defined",
     "output_type": "error",
     "traceback": [
      "\u001b[0;31m---------------------------------------------------------------------------\u001b[0m",
      "\u001b[0;31mNameError\u001b[0m                                 Traceback (most recent call last)",
      "\u001b[0;32m/tmp/ipykernel_44494/429692293.py\u001b[0m in \u001b[0;36m<module>\u001b[0;34m\u001b[0m\n\u001b[0;32m----> 1\u001b[0;31m \u001b[0mdriver_config\u001b[0m\u001b[0;34m\u001b[0m\u001b[0;34m\u001b[0m\u001b[0m\n\u001b[0m",
      "\u001b[0;31mNameError\u001b[0m: name 'driver_config' is not defined"
     ]
    }
   ],
   "source": [
    "driver_config"
   ]
  },
  {
   "cell_type": "markdown",
   "metadata": {},
   "source": [
    "dic[digest] = digest_query(query_num, digest, digest_text, time, cpu_usage, io, count, timestamp)\n",
    "\n",
    "SELECT queryid, query,  calls, total_exec_time as time_ms, blk_read_time+blk_write_time as io_time FROM pg_stat_statements;\n",
    "SELECT queryid, substr(query,0,50),  calls, total_exec_time as time_ms, blk_read_time+blk_write_time as io_time FROM pg_stat_statements order by calls desc limit 10;\n",
    "SELECT queryid, query,  calls, total_exec_time as time_ms, blk_read_time+blk_write_time as io FROM pg_stat_statements order by calls desc limit 10;"
   ]
  },
  {
   "cell_type": "code",
   "execution_count": 1,
   "metadata": {},
   "outputs": [
    {
     "name": "stdout",
     "output_type": "stream",
     "text": [
      "Loaded Data from Pickle\n",
      "2023-01-09 19:45:42.503770\n",
      "Data Update Complete!\n"
     ]
    }
   ],
   "source": [
    "from performance_analysis import import_and_update_data\n",
    "\n",
    "\n",
    "import_and_update_data()"
   ]
  },
  {
   "cell_type": "code",
   "execution_count": 1,
   "metadata": {},
   "outputs": [
    {
     "data": {
      "application/vnd.jupyter.widget-view+json": {
       "model_id": "94eb5fa24e964d8eac39739913bec343",
       "version_major": 2,
       "version_minor": 0
      },
      "text/plain": [
       "VBox(children=(HTML(value='<b><font size = 5> Visualization Mode</b>'), HTML(value='<font size = 3> General Vi…"
      ]
     },
     "metadata": {},
     "output_type": "display_data"
    }
   ],
   "source": [
    "from performance_analysis import *\n",
    "from visualize_widgets import *\n",
    "visualize()"
   ]
  },
  {
   "cell_type": "code",
   "execution_count": 1,
   "metadata": {
    "scrolled": false
   },
   "outputs": [
    {
     "name": "stdout",
     "output_type": "stream",
     "text": [
      "Loaded Data from Pickle\n",
      "2023-01-10 20:22:50.013930\n",
      "Data Update Complete!\n"
     ]
    },
    {
     "data": {
      "application/vnd.jupyter.widget-view+json": {
       "model_id": "300cc99bb2cf4d50abd38f0697c29f12",
       "version_major": 2,
       "version_minor": 0
      },
      "text/plain": [
       "VBox(children=(Button(description='Query Monitoring', layout=Layout(height='50px', width='300px'), style=Butto…"
      ]
     },
     "metadata": {},
     "output_type": "display_data"
    },
    {
     "data": {
      "application/vnd.jupyter.widget-view+json": {
       "model_id": "786030da62b74a7fae5535b0b726a840",
       "version_major": 2,
       "version_minor": 0
      },
      "text/plain": [
       "HTML(value='<hr>')"
      ]
     },
     "metadata": {},
     "output_type": "display_data"
    },
    {
     "data": {
      "application/vnd.jupyter.widget-view+json": {
       "model_id": "3595bdc332b2477abc566a3038dde07d",
       "version_major": 2,
       "version_minor": 0
      },
      "text/plain": [
       "HTML(value='<b><font size = 3> Database Monitoring')"
      ]
     },
     "metadata": {},
     "output_type": "display_data"
    },
    {
     "data": {
      "application/vnd.jupyter.widget-view+json": {
       "model_id": "fedaf4d2dff1462a9714162537d8a7d7",
       "version_major": 2,
       "version_minor": 0
      },
      "text/plain": [
       "VBox(children=(Button(description='Read query throughput and performance', layout=Layout(height='50px', width=…"
      ]
     },
     "metadata": {},
     "output_type": "display_data"
    },
    {
     "data": {
      "application/vnd.jupyter.widget-view+json": {
       "model_id": "786030da62b74a7fae5535b0b726a840",
       "version_major": 2,
       "version_minor": 0
      },
      "text/plain": [
       "HTML(value='<hr>')"
      ]
     },
     "metadata": {},
     "output_type": "display_data"
    },
    {
     "data": {
      "application/vnd.jupyter.widget-view+json": {
       "model_id": "2408b1fbad954040a26c368fdd1e3ecd",
       "version_major": 2,
       "version_minor": 0
      },
      "text/plain": [
       "HTML(value='<b><font size = 3>Read query throughput and performance')"
      ]
     },
     "metadata": {},
     "output_type": "display_data"
    },
    {
     "data": {
      "image/png": "[encoded data removed]",
      "text/plain": [
       "<Figure size 576x396 with 1 Axes>"
      ]
     },
     "metadata": {
      "needs_background": "light"
     },
     "output_type": "display_data"
    }
   ],
   "source": [
    "from scenario import *\n",
    "\n",
    "scenario()"
   ]
  },
  {
   "cell_type": "code",
   "execution_count": 4,
   "metadata": {},
   "outputs": [
    {
     "data": {
      "text/plain": [
       "dict_keys(['archive_timeout', 'authentication_timeout', 'autovacuum_analyze_threshold', 'autovacuum_freeze_max_age', 'autovacuum_max_workers', 'autovacuum_multixact_freeze_max_age', 'autovacuum_naptime', 'autovacuum_vacuum_cost_delay', 'autovacuum_vacuum_insert_threshold', 'autovacuum_vacuum_threshold', 'backend_flush_after', 'bgwriter_delay', 'bgwriter_flush_after', 'bgwriter_lru_maxpages', 'bgwriter_lru_multiplier', 'block_size', 'checkpoint_flush_after', 'checkpoint_timeout', 'checkpoint_warning', 'client_connection_check_interval', 'commit_delay', 'commit_siblings', 'data_directory_mode', 'deadlock_timeout', 'debug_discard_caches', 'default_statistics_target', 'effective_cache_size', 'effective_io_concurrency', 'extra_float_digits', 'from_collapse_limit', 'geqo_effort', 'geqo_generations', 'geqo_pool_size', 'geqo_seed', 'geqo_selection_bias', 'geqo_threshold', 'gin_fuzzy_search_limit', 'gin_pending_list_limit', 'hash_mem_multiplier', 'huge_page_size', 'idle_in_transaction_session_timeout', 'idle_session_timeout', 'jit_above_cost', 'jit_inline_above_cost', 'jit_optimize_above_cost', 'join_collapse_limit', 'lock_timeout', 'log_file_mode', 'log_parameter_max_length_on_error', 'log_rotation_age', 'log_rotation_size', 'log_statement_sample_rate', 'log_transaction_sample_rate', 'logical_decoding_work_mem', 'maintenance_io_concurrency', 'maintenance_work_mem', 'max_connections', 'max_files_per_process', 'max_function_args', 'max_identifier_length', 'max_index_keys', 'max_locks_per_transaction', 'max_logical_replication_workers', 'max_parallel_maintenance_workers', 'max_parallel_workers', 'max_parallel_workers_per_gather', 'max_pred_locks_per_page', 'max_pred_locks_per_transaction', 'max_prepared_transactions', 'max_replication_slots', 'max_stack_depth', 'max_standby_archive_delay', 'max_standby_streaming_delay', 'max_sync_workers_per_subscription', 'max_wal_senders', 'max_wal_size', 'max_worker_processes', 'min_dynamic_shared_memory', 'min_parallel_index_scan_size', 'min_parallel_table_scan_size', 'min_wal_size', 'parallel_setup_cost', 'pg_stat_monitor.pgsm_bucket_time', 'pg_stat_monitor.pgsm_histogram_buckets', 'pg_stat_monitor.pgsm_histogram_max', 'pg_stat_monitor.pgsm_histogram_min', 'pg_stat_monitor.pgsm_max', 'pg_stat_monitor.pgsm_max_buckets', 'pg_stat_monitor.pgsm_overflow_target', 'pg_stat_monitor.pgsm_query_max_len', 'pg_stat_monitor.pgsm_query_shared_buffer', 'pg_stat_statements.max', 'port', 'post_auth_delay', 'pre_auth_delay', 'random_page_cost', 'recovery_min_apply_delay', 'segment_size', 'seq_page_cost', 'server_version_num', 'shared_buffers', 'statement_timeout', 'superuser_reserved_connections', 'tcp_keepalives_count', 'tcp_keepalives_idle', 'tcp_keepalives_interval', 'tcp_user_timeout', 'temp_buffers', 'track_activity_query_size', 'unix_socket_permissions', 'vacuum_cost_delay', 'vacuum_cost_limit', 'vacuum_cost_page_dirty', 'vacuum_cost_page_hit', 'vacuum_cost_page_miss', 'vacuum_defer_cleanup_age', 'vacuum_failsafe_age', 'vacuum_freeze_min_age', 'vacuum_freeze_table_age', 'vacuum_multixact_failsafe_age', 'vacuum_multixact_freeze_min_age', 'vacuum_multixact_freeze_table_age', 'wal_block_size', 'wal_buffers', 'wal_keep_size', 'wal_receiver_status_interval', 'wal_receiver_timeout', 'wal_retrieve_retry_interval', 'wal_segment_size', 'wal_sender_timeout', 'wal_skip_threshold', 'wal_writer_delay', 'wal_writer_flush_after', 'work_mem'])"
      ]
     },
     "execution_count": 4,
     "metadata": {},
     "output_type": "execute_result"
    }
   ],
   "source": [
    "from query import q_\n",
    "\n",
    "res = q_(\"SELECT name, setting From pg_settings;\")\n",
    "\n",
    "res = [i for i in res if i[1].isdigit()]\n",
    "knob = {x:y for x,y in res}\n",
    "knob.keys()"
   ]
  },
  {
   "cell_type": "code",
   "execution_count": 6,
   "metadata": {},
   "outputs": [
    {
     "data": {
      "application/vnd.jupyter.widget-view+json": {
       "model_id": "5b1aa14409084656a1ef22bb2cc78f77",
       "version_major": 2,
       "version_minor": 0
      },
      "text/plain": [
       "BoundedFloatText(value=0.0, disabled=True)"
      ]
     },
     "metadata": {},
     "output_type": "display_data"
    }
   ],
   "source": [
    "import ipywidgets as widgets\n",
    "widgets.BoundedFloatText(value = None, disabled = True)"
   ]
  },
  {
   "cell_type": "code",
   "execution_count": 12,
   "metadata": {},
   "outputs": [
    {
     "data": {
      "text/plain": [
       "[('archive_timeout', '0', '0', '1073741823', False),\n",
       " ('authentication_timeout', '60', '1', '600', False),\n",
       " ('autovacuum_analyze_scale_factor', '0.1', '0', '100', False),\n",
       " ('autovacuum_analyze_threshold', '50', '0', '2147483647', False),\n",
       " ('autovacuum_freeze_max_age', '200000000', '100000', '2000000000', False),\n",
       " ('autovacuum_max_workers', '3', '1', '262143', False),\n",
       " ('autovacuum_multixact_freeze_max_age',\n",
       "  '400000000',\n",
       "  '10000',\n",
       "  '2000000000',\n",
       "  False),\n",
       " ('autovacuum_naptime', '60', '1', '2147483', False),\n",
       " ('autovacuum_vacuum_cost_delay', '2', '-1', '100', False),\n",
       " ('autovacuum_vacuum_cost_limit', '-1', '-1', '10000', False),\n",
       " ('autovacuum_vacuum_insert_scale_factor', '0.2', '0', '100', False),\n",
       " ('autovacuum_vacuum_insert_threshold', '1000', '-1', '2147483647', False),\n",
       " ('autovacuum_vacuum_scale_factor', '0.2', '0', '100', False),\n",
       " ('autovacuum_vacuum_threshold', '50', '0', '2147483647', False),\n",
       " ('autovacuum_work_mem', '-1', '-1', '2147483647', False),\n",
       " ('backend_flush_after', '0', '0', '256', False),\n",
       " ('bgwriter_delay', '200', '10', '10000', False),\n",
       " ('bgwriter_flush_after', '64', '0', '256', False),\n",
       " ('bgwriter_lru_maxpages', '100', '0', '1073741823', False),\n",
       " ('bgwriter_lru_multiplier', '2', '0', '10', False),\n",
       " ('block_size', '8192', '8192', '8192', False),\n",
       " ('checkpoint_completion_target', '0.9', '0', '1', False),\n",
       " ('checkpoint_flush_after', '32', '0', '256', False),\n",
       " ('checkpoint_timeout', '300', '30', '86400', False),\n",
       " ('checkpoint_warning', '30', '0', '2147483647', False),\n",
       " ('client_connection_check_interval', '0', '0', '2147483647', False),\n",
       " ('commit_delay', '0', '0', '100000', False),\n",
       " ('commit_siblings', '5', '0', '1000', False),\n",
       " ('cpu_index_tuple_cost', '0.005', '0', '1.79769e+308', False),\n",
       " ('cpu_operator_cost', '0.0025', '0', '1.79769e+308', False),\n",
       " ('cpu_tuple_cost', '0.01', '0', '1.79769e+308', False),\n",
       " ('cursor_tuple_fraction', '0.1', '0', '1', False),\n",
       " ('data_directory_mode', '0700', '0', '511', False),\n",
       " ('deadlock_timeout', '1000', '1', '2147483647', False),\n",
       " ('debug_discard_caches', '0', '0', '0', False),\n",
       " ('default_statistics_target', '100', '1', '10000', False),\n",
       " ('effective_cache_size', '524288', '1', '2147483647', False),\n",
       " ('effective_io_concurrency', '1', '0', '1000', False),\n",
       " ('extra_float_digits', '1', '-15', '3', False),\n",
       " ('from_collapse_limit', '8', '1', '2147483647', False),\n",
       " ('geqo_effort', '5', '1', '10', False),\n",
       " ('geqo_generations', '0', '0', '2147483647', False),\n",
       " ('geqo_pool_size', '0', '0', '2147483647', False),\n",
       " ('geqo_seed', '0', '0', '1', False),\n",
       " ('geqo_selection_bias', '2', '1.5', '2', False),\n",
       " ('geqo_threshold', '12', '2', '2147483647', False),\n",
       " ('gin_fuzzy_search_limit', '0', '0', '2147483647', False),\n",
       " ('gin_pending_list_limit', '4096', '64', '2147483647', False),\n",
       " ('hash_mem_multiplier', '1', '1', '1000', False),\n",
       " ('huge_page_size', '0', '0', '2147483647', False),\n",
       " ('idle_in_transaction_session_timeout', '0', '0', '2147483647', False),\n",
       " ('idle_session_timeout', '0', '0', '2147483647', False),\n",
       " ('jit_above_cost', '100000', '-1', '1.79769e+308', False),\n",
       " ('jit_inline_above_cost', '500000', '-1', '1.79769e+308', False),\n",
       " ('jit_optimize_above_cost', '500000', '-1', '1.79769e+308', False),\n",
       " ('join_collapse_limit', '8', '1', '2147483647', False),\n",
       " ('lock_timeout', '0', '0', '2147483647', False),\n",
       " ('log_autovacuum_min_duration', '-1', '-1', '2147483647', False),\n",
       " ('log_file_mode', '0600', '0', '511', False),\n",
       " ('log_min_duration_sample', '-1', '-1', '2147483647', False),\n",
       " ('log_min_duration_statement', '-1', '-1', '2147483647', False),\n",
       " ('log_parameter_max_length', '-1', '-1', '1073741823', False),\n",
       " ('log_parameter_max_length_on_error', '0', '-1', '1073741823', False),\n",
       " ('log_rotation_age', '1440', '0', '35791394', False),\n",
       " ('log_rotation_size', '10240', '0', '2097151', False),\n",
       " ('log_statement_sample_rate', '1', '0', '1', False),\n",
       " ('log_temp_files', '-1', '-1', '2147483647', False),\n",
       " ('log_transaction_sample_rate', '0', '0', '1', False),\n",
       " ('logical_decoding_work_mem', '65536', '64', '2147483647', False),\n",
       " ('maintenance_io_concurrency', '10', '0', '1000', False),\n",
       " ('maintenance_work_mem', '65536', '1024', '2147483647', False),\n",
       " ('max_connections', '100', '1', '262143', False),\n",
       " ('max_files_per_process', '1000', '64', '2147483647', False),\n",
       " ('max_function_args', '100', '100', '100', False),\n",
       " ('max_identifier_length', '63', '63', '63', False),\n",
       " ('max_index_keys', '32', '32', '32', False),\n",
       " ('max_locks_per_transaction', '64', '10', '2147483647', False),\n",
       " ('max_logical_replication_workers', '4', '0', '262143', False),\n",
       " ('max_parallel_maintenance_workers', '2', '0', '1024', False),\n",
       " ('max_parallel_workers', '8', '0', '1024', False),\n",
       " ('max_parallel_workers_per_gather', '2', '0', '1024', False),\n",
       " ('max_pred_locks_per_page', '2', '0', '2147483647', False),\n",
       " ('max_pred_locks_per_relation', '-2', '-2147483648', '2147483647', False),\n",
       " ('max_pred_locks_per_transaction', '64', '10', '2147483647', False),\n",
       " ('max_prepared_transactions', '0', '0', '262143', False),\n",
       " ('max_replication_slots', '10', '0', '262143', False),\n",
       " ('max_slot_wal_keep_size', '-1', '-1', '2147483647', False),\n",
       " ('max_stack_depth', '2048', '100', '2147483647', False),\n",
       " ('max_standby_archive_delay', '30000', '-1', '2147483647', False),\n",
       " ('max_standby_streaming_delay', '30000', '-1', '2147483647', False),\n",
       " ('max_sync_workers_per_subscription', '2', '0', '262143', False),\n",
       " ('max_wal_senders', '10', '0', '262143', False),\n",
       " ('max_wal_size', '1024', '2', '2147483647', False),\n",
       " ('max_worker_processes', '8', '0', '262143', False),\n",
       " ('min_dynamic_shared_memory', '0', '0', '2147483647', False),\n",
       " ('min_parallel_index_scan_size', '64', '0', '715827882', False),\n",
       " ('min_parallel_table_scan_size', '1024', '0', '715827882', False),\n",
       " ('min_wal_size', '80', '2', '2147483647', False),\n",
       " ('old_snapshot_threshold', '-1', '-1', '86400', False),\n",
       " ('parallel_setup_cost', '1000', '0', '1.79769e+308', False),\n",
       " ('parallel_tuple_cost', '0.1', '0', '1.79769e+308', False),\n",
       " ('pg_stat_monitor.pgsm_bucket_time', '60', '1', '2147483647', False),\n",
       " ('pg_stat_monitor.pgsm_histogram_buckets', '10', '2', '50', False),\n",
       " ('pg_stat_monitor.pgsm_histogram_max', '100000', '10', '2147483647', False),\n",
       " ('pg_stat_monitor.pgsm_histogram_min', '0', '0', '2147483647', False),\n",
       " ('pg_stat_monitor.pgsm_max', '100', '1', '1000', False),\n",
       " ('pg_stat_monitor.pgsm_max_buckets', '10', '1', '10', False),\n",
       " ('pg_stat_monitor.pgsm_overflow_target', '1', '0', '1', False),\n",
       " ('pg_stat_monitor.pgsm_query_max_len', '2048', '1024', '2147483647', False),\n",
       " ('pg_stat_monitor.pgsm_query_shared_buffer', '20', '1', '10000', False),\n",
       " ('pg_stat_statements.max', '5000', '100', '2147483647', False),\n",
       " ('port', '5432', '1', '65535', False),\n",
       " ('post_auth_delay', '0', '0', '2147', False),\n",
       " ('pre_auth_delay', '0', '0', '60', False),\n",
       " ('random_page_cost', '4', '0', '1.79769e+308', False),\n",
       " ('recovery_min_apply_delay', '0', '0', '2147483647', False),\n",
       " ('segment_size', '131072', '131072', '131072', False),\n",
       " ('seq_page_cost', '1', '0', '1.79769e+308', False),\n",
       " ('server_version_num', '140004', '140004', '140004', False),\n",
       " ('shared_buffers', '16384', '16', '1073741823', False),\n",
       " ('statement_timeout', '0', '0', '2147483647', False),\n",
       " ('superuser_reserved_connections', '3', '0', '262143', False),\n",
       " ('tcp_keepalives_count', '9', '0', '2147483647', False),\n",
       " ('tcp_keepalives_idle', '7200', '0', '2147483647', False),\n",
       " ('tcp_keepalives_interval', '75', '0', '2147483647', False),\n",
       " ('tcp_user_timeout', '0', '0', '2147483647', False),\n",
       " ('temp_buffers', '1024', '100', '1073741823', False),\n",
       " ('temp_file_limit', '-1', '-1', '2147483647', False),\n",
       " ('track_activity_query_size', '1024', '100', '1048576', False),\n",
       " ('unix_socket_permissions', '0777', '0', '511', False),\n",
       " ('vacuum_cost_delay', '0', '0', '100', False),\n",
       " ('vacuum_cost_limit', '200', '1', '10000', False),\n",
       " ('vacuum_cost_page_dirty', '20', '0', '10000', False),\n",
       " ('vacuum_cost_page_hit', '1', '0', '10000', False),\n",
       " ('vacuum_cost_page_miss', '2', '0', '10000', False),\n",
       " ('vacuum_defer_cleanup_age', '0', '0', '1000000', False),\n",
       " ('vacuum_failsafe_age', '1600000000', '0', '2100000000', False),\n",
       " ('vacuum_freeze_min_age', '50000000', '0', '1000000000', False),\n",
       " ('vacuum_freeze_table_age', '150000000', '0', '2000000000', False),\n",
       " ('vacuum_multixact_failsafe_age', '1600000000', '0', '2100000000', False),\n",
       " ('vacuum_multixact_freeze_min_age', '5000000', '0', '1000000000', False),\n",
       " ('vacuum_multixact_freeze_table_age', '150000000', '0', '2000000000', False),\n",
       " ('wal_block_size', '8192', '8192', '8192', False),\n",
       " ('wal_buffers', '512', '-1', '262143', False),\n",
       " ('wal_keep_size', '0', '0', '2147483647', False),\n",
       " ('wal_receiver_status_interval', '10', '0', '2147483', False),\n",
       " ('wal_receiver_timeout', '60000', '0', '2147483647', False),\n",
       " ('wal_retrieve_retry_interval', '5000', '1', '2147483647', False),\n",
       " ('wal_segment_size', '16777216', '1048576', '1073741824', False),\n",
       " ('wal_sender_timeout', '60000', '0', '2147483647', False),\n",
       " ('wal_skip_threshold', '2048', '0', '2147483647', False),\n",
       " ('wal_writer_delay', '200', '1', '10000', False),\n",
       " ('wal_writer_flush_after', '128', '0', '2147483647', False),\n",
       " ('work_mem', '4096', '64', '2147483647', False)]"
      ]
     },
     "execution_count": 12,
     "metadata": {},
     "output_type": "execute_result"
    }
   ],
   "source": [
    "q_(\"SELECT name, setting, min_val, max_val From pg_settings where pending_restart = False and (vartype = 'integer' or vartype = 'real');\")"
   ]
  },
  {
   "cell_type": "code",
   "execution_count": null,
   "metadata": {},
   "outputs": [],
   "source": []
  }
 ],
 "metadata": {
  "interpreter": {
   "hash": "31f2aee4e71d21fbe5cf8b01ff0e069b9275f58929596ceb00d14d90e3e16cd6"
  },
  "kernelspec": {
   "display_name": "Python 3 (ipykernel)",
   "language": "python",
   "name": "python3"
  },
  "language_info": {
   "codemirror_mode": {
    "name": "ipython",
    "version": 3
   },
   "file_extension": ".py",
   "mimetype": "text/x-python",
   "name": "python",
   "nbconvert_exporter": "python",
   "pygments_lexer": "ipython3",
   "version": "3.10.4"
  }
 },
 "nbformat": 4,
 "nbformat_minor": 2
}

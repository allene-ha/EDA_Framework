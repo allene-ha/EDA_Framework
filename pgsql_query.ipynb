{
 "cells": [
  {
   "cell_type": "code",
   "execution_count": 2,
   "metadata": {},
   "outputs": [],
   "source": [
    "import json\n",
    "from driver.collector.collector_factory import get_collector\n",
    "import time\n",
    "import pandas as pd\n",
    "\n",
    "with open('connect_config.json') as json_file:\n",
    "    driver_config = json.load(json_file)\n"
   ]
  },
  {
   "cell_type": "code",
   "execution_count": 3,
   "metadata": {},
   "outputs": [
    {
     "data": {
      "text/plain": [
       "{'db_type': 'postgres',\n",
       " 'db_host': 'localhost',\n",
       " 'db_port': '5432',\n",
       " 'db_user': 'postgres',\n",
       " 'db_password': 'postgres',\n",
       " 'mysql_database': '',\n",
       " 'monitor_interval': '10',\n",
       " 'table_level_monitor_interval': '5000',\n",
       " 'db_provider': 'on_premise',\n",
       " 'db_key': 'test_key',\n",
       " 'organization_id': 'test_organization'}"
      ]
     },
     "execution_count": 3,
     "metadata": {},
     "output_type": "execute_result"
    }
   ],
   "source": [
    "driver_config"
   ]
  },
  {
   "cell_type": "code",
   "execution_count": null,
   "metadata": {},
   "outputs": [],
   "source": [
    "SQL = \"\"\"\n",
    "select bucket, bucket_start_time, query, total_exec_time, cpu_user_time+cpu_sys_time as cpu_time,blk_read_time+blk_write_time as io_time from pg_stat_monitor;\n",
    "\"\"\"\n",
    "with get_collector(driver_config) as collector:\n",
    "    df = pd.read_sql(SQL, con=collector.get_conn())\n",
    "    res, meta = collector._cmd(SQL)\n",
    "    observation_time = int(time.time())\n",
    "    \n",
    "\n",
    "def q(query):\n",
    "    config = connect_config()\n",
    "\n",
    "    with get_collector(config) as collector:\n",
    "       # print(collector._cmd(query))  # 0 data 1 meta\n",
    "       \n",
    "        df = pd.read_sql(query, con=collector.get_conn())\n",
    "        \n",
    "    return df"
   ]
  }
 ],
 "metadata": {
  "interpreter": {
   "hash": "31f2aee4e71d21fbe5cf8b01ff0e069b9275f58929596ceb00d14d90e3e16cd6"
  },
  "kernelspec": {
   "display_name": "Python 3.10.4 64-bit",
   "language": "python",
   "name": "python3"
  },
  "language_info": {
   "codemirror_mode": {
    "name": "ipython",
    "version": 3
   },
   "file_extension": ".py",
   "mimetype": "text/x-python",
   "name": "python",
   "nbconvert_exporter": "python",
   "pygments_lexer": "ipython3",
   "version": "3.10.4"
  },
  "orig_nbformat": 4
 },
 "nbformat": 4,
 "nbformat_minor": 2
}

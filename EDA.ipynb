{
 "cells": [
  {
   "cell_type": "code",
   "execution_count": 13,
   "metadata": {},
   "outputs": [],
   "source": [
    "%matplotlib inline\n",
    "%matplotlib widget\n",
    "\n",
    "import seaborn as sns\n",
    "from query import * \n",
    "from dataframe_visualization import *\n",
    "from performance_analysis import *\n",
    "\n",
    "from visualize_widgets import visualize\n",
    "import pandas as pd"
   ]
  },
  {
   "cell_type": "code",
   "execution_count": 14,
   "metadata": {},
   "outputs": [
    {
     "data": {
      "text/html": [
       "<div>\n",
       "<style scoped>\n",
       "    .dataframe tbody tr th:only-of-type {\n",
       "        vertical-align: middle;\n",
       "    }\n",
       "\n",
       "    .dataframe tbody tr th {\n",
       "        vertical-align: top;\n",
       "    }\n",
       "\n",
       "    .dataframe thead th {\n",
       "        text-align: right;\n",
       "    }\n",
       "</style>\n",
       "<table border=\"1\" class=\"dataframe\">\n",
       "  <thead>\n",
       "    <tr style=\"text-align: right;\">\n",
       "      <th></th>\n",
       "      <th>Number of Knobs</th>\n",
       "      <th>Level</th>\n",
       "      <th>Throughput(txn/s)</th>\n",
       "      <th>Algorithm</th>\n",
       "      <th>Latency (us)</th>\n",
       "    </tr>\n",
       "  </thead>\n",
       "  <tbody>\n",
       "    <tr>\n",
       "      <th>0</th>\n",
       "      <td>0</td>\n",
       "      <td>Query-level</td>\n",
       "      <td>1600</td>\n",
       "      <td>Important First (IF)</td>\n",
       "      <td>200</td>\n",
       "    </tr>\n",
       "    <tr>\n",
       "      <th>1</th>\n",
       "      <td>10</td>\n",
       "      <td>Query-level</td>\n",
       "      <td>3000</td>\n",
       "      <td>Important First (IF)</td>\n",
       "      <td>113</td>\n",
       "    </tr>\n",
       "    <tr>\n",
       "      <th>2</th>\n",
       "      <td>20</td>\n",
       "      <td>Query-level</td>\n",
       "      <td>4000</td>\n",
       "      <td>Important First (IF)</td>\n",
       "      <td>100</td>\n",
       "    </tr>\n",
       "    <tr>\n",
       "      <th>3</th>\n",
       "      <td>30</td>\n",
       "      <td>Query-level</td>\n",
       "      <td>4050</td>\n",
       "      <td>Important First (IF)</td>\n",
       "      <td>93</td>\n",
       "    </tr>\n",
       "    <tr>\n",
       "      <th>4</th>\n",
       "      <td>40</td>\n",
       "      <td>Query-level</td>\n",
       "      <td>4100</td>\n",
       "      <td>Important First (IF)</td>\n",
       "      <td>90</td>\n",
       "    </tr>\n",
       "  </tbody>\n",
       "</table>\n",
       "</div>"
      ],
      "text/plain": [
       "   Number of Knobs        Level  Throughput(txn/s)             Algorithm  \\\n",
       "0                0  Query-level               1600  Important First (IF)   \n",
       "1               10  Query-level               3000  Important First (IF)   \n",
       "2               20  Query-level               4000  Important First (IF)   \n",
       "3               30  Query-level               4050  Important First (IF)   \n",
       "4               40  Query-level               4100  Important First (IF)   \n",
       "\n",
       "   Latency (us)  \n",
       "0           200  \n",
       "1           113  \n",
       "2           100  \n",
       "3            93  \n",
       "4            90  "
      ]
     },
     "execution_count": 14,
     "metadata": {},
     "output_type": "execute_result"
    }
   ],
   "source": [
    "df = pd.read_csv('sample_csv/line.csv') # sample dataframe\n",
    "df = df.loc[:, ~df.columns.str.contains('^Unnamed')]\n",
    "\n",
    "# df = q(\"\"\"SELECT\n",
    "#     EVENT_NAME,\n",
    "#     MAX_TIMER_READ,\n",
    "#     AVG_TIMER_READ,\n",
    "#     MAX_TIMER_WRITE,\n",
    "#     AVG_TIMER_WRITE,\n",
    "#     MAX_TIMER_MISC,\n",
    "#     AVG_TIMER_MISC\n",
    "#     FROM performance_schema.file_summary_by_event_name;\n",
    "# \"\"\") # it converts the result of input query to dataframe \n",
    "df.head()"
   ]
  },
  {
   "cell_type": "code",
   "execution_count": 15,
   "metadata": {},
   "outputs": [],
   "source": [
    "#import_and_update_data() # to import data from collected files"
   ]
  },
  {
   "cell_type": "code",
   "execution_count": 16,
   "metadata": {
    "scrolled": false
   },
   "outputs": [
    {
     "data": {
      "application/vnd.jupyter.widget-view+json": {
       "model_id": "358dfb3e60d64d65b2834bedc1f84ccc",
       "version_major": 2,
       "version_minor": 0
      },
      "text/plain": [
       "HBox(children=(HTML(value='<font size = 2> Recommendation', layout=Layout(margin='0 30px')), Checkbox(value=Fa…"
      ]
     },
     "metadata": {},
     "output_type": "display_data"
    },
    {
     "data": {
      "application/vnd.jupyter.widget-view+json": {
       "model_id": "125f642fa47943909c62d658d8451dc4",
       "version_major": 2,
       "version_minor": 0
      },
      "text/plain": [
       "VBox(children=(HTML(value='<b><font size = 3> Chart Drawing', layout=Layout(align_self='center', flex='0 0 aut…"
      ]
     },
     "metadata": {},
     "output_type": "display_data"
    }
   ],
   "source": [
    "#visualize() # it shows widgets for various visualization modes\n",
    "visualize(df) # for running 'dataframe visualization', dataframe argument is required"
   ]
  },
  {
   "cell_type": "code",
   "execution_count": null,
   "metadata": {},
   "outputs": [],
   "source": []
  },
  {
   "cell_type": "code",
   "execution_count": null,
   "metadata": {},
   "outputs": [],
   "source": []
  },
  {
   "cell_type": "code",
   "execution_count": null,
   "metadata": {},
   "outputs": [],
   "source": []
  },
  {
   "cell_type": "code",
   "execution_count": null,
   "metadata": {},
   "outputs": [],
   "source": []
  }
 ],
 "metadata": {
  "kernelspec": {
   "display_name": "Python 3 (ipykernel)",
   "language": "python",
   "name": "python3"
  },
  "language_info": {
   "codemirror_mode": {
    "name": "ipython",
    "version": 3
   },
   "file_extension": ".py",
   "mimetype": "text/x-python",
   "name": "python",
   "nbconvert_exporter": "python",
   "pygments_lexer": "ipython3",
   "version": "3.10.4"
  },
  "vscode": {
   "interpreter": {
    "hash": "aee8b7b246df8f9039afb4144a1f6fd8d2ca17a180786b69acc140d282b71a49"
   }
  }
 },
 "nbformat": 4,
 "nbformat_minor": 2
}

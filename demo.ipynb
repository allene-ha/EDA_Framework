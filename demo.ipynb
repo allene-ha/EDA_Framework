{
 "cells": [
  {
   "cell_type": "code",
   "execution_count": 1,
   "metadata": {
    "tags": []
   },
   "outputs": [],
   "source": [
    "css = '''\n",
    "    .bk.row {\n",
    "      display: flex !;\n",
    "      \n",
    "    }\n",
    "\n",
    "    .bk.row > * {\n",
    "      flex: 1;\n",
    "    }\n",
    "\n",
    "    .bk.row > :first-child {\n",
    "      flex-basis: 20%;\n",
    "    }\n",
    "\n",
    "    .bk.row > :nth-child(n+2) {\n",
    "      flex-basis: 80%;\n",
    "    }\n",
    "\n",
    "    .bk .side {\n",
    "        flex: 1 1 0;\n",
    "    }\n",
    "\n",
    "\n",
    "    .bk .main {\n",
    "        flex: 5 1 0;\n",
    "    }\n",
    "    .bk .card-button{\n",
    "        color: transparent;\n",
    "    }\n",
    "    .bk.bk-clearfix{\n",
    "        font-weight: normal;\n",
    "        text-align: left;\n",
    "        font-size: 16px !important;\n",
    "        background: transparent;\n",
    "    }\n",
    "    .bk.accordion button.bk.accordion-header{\n",
    "        background: white;\n",
    "        \n",
    "    }\n",
    "    .bk.accordion{\n",
    "        border: 0px;\n",
    "    }\n",
    "    '''"
   ]
  },
  {
   "cell_type": "code",
   "execution_count": null,
   "metadata": {
    "tags": []
   },
   "outputs": [
    {
     "name": "stdout",
     "output_type": "stream",
     "text": [
      "<class 'dict'>\n"
     ]
    },
    {
     "data": {
      "text/html": [
       "Figure({</br>\n",
       "    'data': [{'hovertemplate': 'variable=cpu_percent<br>time=%{x}<br>value=%{y}<extra></extra>',</br>\n",
       "              'legendgroup': 'cpu_percent',</br>\n",
       "              'line': {'color': '#636efa', 'dash': 'solid'},</br>\n",
       "              'marker': {'symbol': 'circle'},</br>\n",
       "              'mode': 'lines',</br>\n",
       "              'name': 'cpu_percent',</br>\n",
       "              'orientation': 'v',</br>\n",
       "              'showlegend': True,</br>\n",
       "              'type': 'scatter',</br>\n",
       "              'x': array(['2023-03-29T03:45:12.626906Z', '2023-03-29T03:45:02.621101Z',</br>\n",
       "                          '2023-03-29T03:44:52.570673Z', '2023-03-29T03:44:42.289264Z',</br>\n",
       "                          '2023-03-29T03:44:32.476714Z', '2023-03-29T03:44:22.678567Z',</br>\n",
       "                          '2023-03-29T03:44:12.082510Z', '2023-03-29T03:44:02.244121Z',</br>\n",
       "                          '2023-03-29T03:43:52.452946Z', '2023-03-29T03:43:42.445310Z',</br>\n",
       "                          '2023-03-29T03:43:32.067205Z', '2023-03-29T03:43:22.100265Z',</br>\n",
       "                          '2023-03-29T03:43:12.070288Z', '2023-03-29T03:43:02.082095Z',</br>\n",
       "                          '2023-03-29T03:42:52.082462Z', '2023-03-29T03:42:42.076159Z',</br>\n",
       "                          '2023-03-29T03:42:32.075691Z', '2023-03-29T03:42:22.074746Z',</br>\n",
       "                          '2023-03-29T03:42:12.063698Z', '2023-03-29T03:42:02.069006Z',</br>\n",
       "                          '2023-03-29T03:41:52.073714Z', '2023-03-29T03:41:42.060109Z',</br>\n",
       "                          '2023-03-29T03:41:32.063336Z', '2023-03-29T03:41:22.077067Z',</br>\n",
       "                          '2023-03-29T03:41:12.064338Z', '2023-03-29T03:41:02.076199Z',</br>\n",
       "                          '2023-03-29T03:40:52.063291Z', '2023-03-29T03:40:42.073605Z',</br>\n",
       "                          '2023-03-29T03:40:32.073661Z', '2023-03-29T03:40:22.066871Z',</br>\n",
       "                          '2023-03-29T03:40:12.064316Z', '2023-03-29T03:40:02.070569Z',</br>\n",
       "                          '2023-03-29T03:39:52.062170Z', '2023-03-29T03:39:42.071652Z',</br>\n",
       "                          '2023-03-29T03:39:32.064518Z', '2023-03-29T03:39:22.068087Z',</br>\n",
       "                          '2023-03-29T03:39:12.060009Z', '2023-03-29T03:39:02.067788Z',</br>\n",
       "                          '2023-03-29T03:38:52.063001Z', '2023-03-29T03:38:42.066012Z',</br>\n",
       "                          '2023-03-29T03:38:32.059915Z', '2023-03-29T03:38:22.073628Z',</br>\n",
       "                          '2023-03-29T03:38:12.069785Z', '2023-03-29T03:38:02.064547Z',</br>\n",
       "                          '2023-03-29T03:37:52.059357Z', '2023-03-29T03:37:42.073101Z',</br>\n",
       "                          '2023-03-29T03:37:32.064316Z', '2023-03-29T03:37:22.066302Z',</br>\n",
       "                          '2023-03-29T03:37:12.063943Z', '2023-03-29T03:37:02.065043Z',</br>\n",
       "                          '2023-03-29T03:36:52.060929Z', '2023-03-29T03:36:42.066859Z',</br>\n",
       "                          '2023-03-29T03:36:32.066931Z', '2023-03-29T03:36:22.067812Z',</br>\n",
       "                          '2023-03-29T03:36:12.059655Z', '2023-03-29T03:36:02.065809Z',</br>\n",
       "                          '2023-03-29T03:35:52.070462Z', '2023-03-29T03:35:42.064178Z',</br>\n",
       "                          '2023-03-29T03:35:32.069263Z', '2023-03-29T03:35:22.067350Z',</br>\n",
       "                          '2023-03-29T03:35:12.067104Z', '2023-03-29T03:35:02.074574Z',</br>\n",
       "                          '2023-03-29T03:34:52.071211Z', '2023-03-29T03:34:42.066198Z',</br>\n",
       "                          '2023-03-29T03:34:32.065966Z', '2023-03-29T03:34:22.067066Z',</br>\n",
       "                          '2023-03-29T03:34:12.066246Z', '2023-03-29T03:34:02.068052Z',</br>\n",
       "                          '2023-03-29T03:33:52.072897Z', '2023-03-29T03:33:42.069299Z',</br>\n",
       "                          '2023-03-29T03:33:32.063187Z', '2023-03-29T03:33:22.072705Z',</br>\n",
       "                          '2023-03-29T03:33:12.064437Z', '2023-03-29T03:33:02.070613Z',</br>\n",
       "                          '2023-03-29T03:32:52.064647Z', '2023-03-29T03:32:42.070962Z',</br>\n",
       "                          '2023-03-29T03:32:32.059707Z', '2023-03-29T03:32:22.066193Z',</br>\n",
       "                          '2023-03-29T03:32:12.061128Z', '2023-03-29T03:32:02.060883Z',</br>\n",
       "                          '2023-03-29T03:31:52.071463Z', '2023-03-29T03:31:42.068473Z',</br>\n",
       "                          '2023-03-29T03:31:32.062852Z', '2023-03-29T03:31:22.063048Z',</br>\n",
       "                          '2023-03-29T03:31:12.059852Z', '2023-03-29T03:31:02.075207Z',</br>\n",
       "                          '2023-03-29T03:30:52.062847Z', '2023-03-29T03:30:42.068787Z',</br>\n",
       "                          '2023-03-29T03:30:32.063472Z', '2023-03-29T03:30:22.064512Z',</br>\n",
       "                          '2023-03-29T03:30:12.065919Z', '2023-03-29T03:30:02.066939Z',</br>\n",
       "                          '2023-03-29T03:29:52.072131Z', '2023-03-29T03:29:42.061429Z',</br>\n",
       "                          '2023-03-29T03:29:32.060147Z', '2023-03-29T03:29:22.061959Z',</br>\n",
       "                          '2023-03-29T03:29:12.065928Z', '2023-03-29T03:29:02.079564Z',</br>\n",
       "                          '2023-03-29T03:28:52.073305Z', '2023-03-29T03:28:42.067305Z'],</br>\n",
       "                         dtype=object),</br>\n",
       "              'xaxis': 'x',</br>\n",
       "              'y': array([97.5, 97. , 87.5, 97.8, 95.7, 95.3, 93.4, 99.2, 98.7, 35.5,  7.5, 37. ,</br>\n",
       "                           6.9,  6.6,  7.3,  6.5,  6.7, 27. ,  6.8,  8.8,  6.1,  6.8,  6. , 38.1,</br>\n",
       "                           6.2,  7. ,  5.9,  7.7,  6.3, 27.5, 12.3,  7.9, 13.9, 21.1,  6.8, 32.5,</br>\n",
       "                           5.4,  5.9,  6.1,  6.3,  6.3, 25.9,  6.7,  5.4,  6.1,  5.1,  6. , 24.5,</br>\n",
       "                           6. ,  5.7,  7.4,  5.4,  6. , 24.6,  6.1,  6.1,  6.2,  6.1,  6.7, 24.1,</br>\n",
       "                           5.6,  6. ,  6. ,  5.7,  5.9, 26. ,  5.9,  5.6,  7.3,  4.5,  6.1, 24.4,</br>\n",
       "                           7. ,  5.4,  6.5,  6. ,  6.7, 24.8,  5.8,  6.8,  6.5,  6.3,  5.7, 25.9,</br>\n",
       "                           5.9,  6.3,  5.9,  5.9,  5. , 25.9,  5. ,  6.1,  6.3,  5.9,  5.7, 25. ,</br>\n",
       "                           6. ,  5.9,  6.3,  7.1]),</br>\n",
       "              'yaxis': 'y'}],</br>\n",
       "    'layout': {'legend': {'title': {'text': 'variable'}, 'tracegroupgap': 0},</br>\n",
       "               'margin': {'t': 60},</br>\n",
       "               'template': '...',</br>\n",
       "               'title': {'text': ''},</br>\n",
       "               'xaxis': {'anchor': 'y', 'domain': [0.0, 1.0], 'title': {'text': 'time'}},</br>\n",
       "               'yaxis': {'anchor': 'x', 'domain': [0.0, 1.0], 'title': {'text': 'value'}}}</br>\n",
       "})</br>"
      ]
     },
     "metadata": {},
     "output_type": "display_data"
    },
    {
     "data": {
      "application/vnd.holoviews_exec.v0+json": "",
      "text/html": [
       "<div id='2025'>\n",
       "  <div class=\"bk-root\" id=\"19dfc5b7-afa9-49d9-b81e-44faaa38e958\" data-root-id=\"2025\"></div>\n",
       "</div>\n",
       "<script type=\"application/javascript\">(function(root) {\n",
       "  function embed_document(root) {\n",
       "    var docs_json = {\"6d4c6333-4f36-431a-8a3c-af028c57aceb\":{\"defs\":[{\"extends\":null,\"module\":null,\"name\":\"ReactiveHTML1\",\"overrides\":[],\"properties\":[]},{\"extends\":null,\"module\":null,\"name\":\"FlexBox1\",\"overrides\":[],\"properties\":[{\"default\":\"flex-start\",\"kind\":null,\"name\":\"align_content\"},{\"default\":\"flex-start\",\"kind\":null,\"name\":\"align_items\"},{\"default\":\"row\",\"kind\":null,\"name\":\"flex_direction\"},{\"default\":\"wrap\",\"kind\":null,\"name\":\"flex_wrap\"},{\"default\":\"flex-start\",\"kind\":null,\"name\":\"justify_content\"}]},{\"extends\":null,\"module\":null,\"name\":\"GridStack1\",\"overrides\":[],\"properties\":[{\"default\":\"warn\",\"kind\":null,\"name\":\"mode\"},{\"default\":null,\"kind\":null,\"name\":\"ncols\"},{\"default\":null,\"kind\":null,\"name\":\"nrows\"},{\"default\":true,\"kind\":null,\"name\":\"allow_resize\"},{\"default\":true,\"kind\":null,\"name\":\"allow_drag\"},{\"default\":[],\"kind\":null,\"name\":\"state\"}]},{\"extends\":null,\"module\":null,\"name\":\"click1\",\"overrides\":[],\"properties\":[{\"default\":\"\",\"kind\":null,\"name\":\"terminal_output\"},{\"default\":\"\",\"kind\":null,\"name\":\"debug_name\"},{\"default\":0,\"kind\":null,\"name\":\"clears\"}]},{\"extends\":null,\"module\":null,\"name\":\"NotificationAreaBase1\",\"overrides\":[],\"properties\":[{\"default\":\"bottom-right\",\"kind\":null,\"name\":\"position\"},{\"default\":0,\"kind\":null,\"name\":\"_clear\"}]},{\"extends\":null,\"module\":null,\"name\":\"NotificationArea1\",\"overrides\":[],\"properties\":[{\"default\":[],\"kind\":null,\"name\":\"notifications\"},{\"default\":\"bottom-right\",\"kind\":null,\"name\":\"position\"},{\"default\":0,\"kind\":null,\"name\":\"_clear\"},{\"default\":[{\"background\":\"#ffc107\",\"icon\":{\"className\":\"fas fa-exclamation-triangle\",\"color\":\"white\",\"tagName\":\"i\"},\"type\":\"warning\"},{\"background\":\"#007bff\",\"icon\":{\"className\":\"fas fa-info-circle\",\"color\":\"white\",\"tagName\":\"i\"},\"type\":\"info\"}],\"kind\":null,\"name\":\"types\"}]},{\"extends\":null,\"module\":null,\"name\":\"Notification\",\"overrides\":[],\"properties\":[{\"default\":null,\"kind\":null,\"name\":\"background\"},{\"default\":3000,\"kind\":null,\"name\":\"duration\"},{\"default\":null,\"kind\":null,\"name\":\"icon\"},{\"default\":\"\",\"kind\":null,\"name\":\"message\"},{\"default\":null,\"kind\":null,\"name\":\"notification_type\"},{\"default\":false,\"kind\":null,\"name\":\"_destroyed\"}]},{\"extends\":null,\"module\":null,\"name\":\"TemplateActions1\",\"overrides\":[],\"properties\":[{\"default\":0,\"kind\":null,\"name\":\"open_modal\"},{\"default\":0,\"kind\":null,\"name\":\"close_modal\"}]},{\"extends\":null,\"module\":null,\"name\":\"MaterialTemplateActions1\",\"overrides\":[],\"properties\":[{\"default\":0,\"kind\":null,\"name\":\"open_modal\"},{\"default\":0,\"kind\":null,\"name\":\"close_modal\"}]}],\"roots\":{\"references\":[{\"attributes\":{},\"id\":\"2081\",\"type\":\"StringEditor\"},{\"attributes\":{\"icon\":\"check-circle-o\"},\"id\":\"2138\",\"type\":\"BooleanFormatter\"},{\"attributes\":{},\"id\":\"2195\",\"type\":\"StringFormatter\"},{\"attributes\":{\"editor\":{\"id\":\"2081\"},\"field\":\"column\",\"formatter\":{\"id\":\"2080\"},\"title\":\"column\",\"width\":0},\"id\":\"2082\",\"type\":\"TableColumn\"},{\"attributes\":{},\"id\":\"2137\",\"type\":\"CheckboxEditor\"},{\"attributes\":{},\"id\":\"2295\",\"type\":\"UnionRenderers\"},{\"attributes\":{\"editor\":{\"id\":\"2196\"},\"field\":\"column\",\"formatter\":{\"id\":\"2195\"},\"title\":\"column\",\"width\":0},\"id\":\"2197\",\"type\":\"TableColumn\"},{\"attributes\":{\"children\":[{\"id\":\"2271\"},{\"id\":\"2273\"},{\"id\":\"2274\"}],\"css_classes\":[\"task_box\"],\"margin\":[0,0,0,0],\"name\":\"Column00306\",\"sizing_mode\":\"stretch_width\"},\"id\":\"2270\",\"type\":\"Column\"},{\"attributes\":{},\"id\":\"2196\",\"type\":\"StringEditor\"},{\"attributes\":{},\"id\":\"2080\",\"type\":\"StringFormatter\"},{\"attributes\":{\"active_header_background\":\"\",\"button_css_classes\":[\"card-button\"],\"children\":[{\"id\":\"2267\"},{\"id\":\"2269\"}],\"collapsed\":false,\"css_classes\":[\"card\"],\"header_background\":\"\",\"header_color\":\"\",\"header_css_classes\":[\"card-header\"],\"margin\":[5,5,5,5],\"min_width\":1200,\"name\":\"Card00309\",\"width\":1200},\"id\":\"2266\",\"type\":\"panel.models.layout.Card\"},{\"attributes\":{\"editor\":{\"id\":\"2137\"},\"field\":\"key\",\"formatter\":{\"id\":\"2138\"},\"title\":\"key\",\"width\":0},\"id\":\"2139\",\"type\":\"TableColumn\"},{\"attributes\":{\"children\":[{\"id\":\"2272\"}],\"margin\":[0,0,0,0],\"name\":\"Row00303\",\"sizing_mode\":\"stretch_width\"},\"id\":\"2271\",\"type\":\"Row\"},{\"attributes\":{\"data\":{\"column\":[\"buffers_alloc\",\"buffers_backend\",\"buffers_backend_fsync\",\"buffers_checkpoint\",\"buffers_clean\",\"checkpoint_sync_time\",\"checkpoint_write_time\",\"checkpoints_req\",\"checkpoints_timed\",\"maxwritten_clean\"],\"index\":[0,1,2,3,4,5,6,7,8,9],\"key\":[false,false,false,false,false,false,false,false,false,false],\"type\":[\"integer\",\"integer\",\"integer\",\"integer\",\"integer\",\"float\",\"float\",\"integer\",\"integer\",\"integer\"]},\"selected\":{\"id\":\"2079\"},\"selection_policy\":{\"id\":\"2287\"}},\"id\":\"2078\",\"type\":\"ColumnDataSource\"},{\"attributes\":{},\"id\":\"2200\",\"type\":\"StringFormatter\"},{\"attributes\":{},\"id\":\"2201\",\"type\":\"StringEditor\"},{\"attributes\":{\"margin\":[5,10,5,10],\"min_width\":300,\"options\":[\"None\",\"column\",\"row\",\"tab\"],\"title\":\"Split\",\"value\":\"None\",\"width\":300},\"id\":\"2280\",\"type\":\"panel.models.widgets.CustomSelect\"},{\"attributes\":{\"columns\":[{\"id\":\"2082\"},{\"id\":\"2087\"},{\"id\":\"2093\"}],\"configuration\":{\"columns\":[{\"field\":\"column\"},{\"field\":\"type\"},{\"field\":\"key\",\"sorter\":\"boolean\"}],\"dataTree\":false,\"selectable\":true},\"layout\":\"fit_data_table\",\"margin\":[5,10,5,10],\"name\":\"<i class='fa fa-table'></i> Bgwriter\",\"page\":1,\"page_size\":20,\"select_mode\":true,\"selectable_rows\":null,\"sizing_mode\":\"stretch_width\",\"source\":{\"id\":\"2078\"},\"styles\":{\"data\":{},\"id\":\"57d66617f8dd4cd3b1515b4334b61e2f\"},\"subscribed_events\":[\"cell-click\",\"table-edit\"],\"theme_url\":\"https://cdn.jsdelivr.net/npm/@holoviz/panel@0.14.2/dist/bundled/datatabulator/tabulator-tables@5.3.2/dist/css/\"},\"id\":\"2096\",\"type\":\"panel.models.tabulator.DataTabulator\"},{\"attributes\":{\"css_classes\":[\"card-title\"],\"margin\":[5,0,5,0],\"name\":\"HTML00317\",\"sizing_mode\":\"stretch_width\",\"text\":\"Split\"},\"id\":\"2278\",\"type\":\"panel.models.markup.HTML\"},{\"attributes\":{\"editor\":{\"id\":\"2201\"},\"field\":\"type\",\"formatter\":{\"id\":\"2200\"},\"title\":\"type\",\"width\":0},\"id\":\"2202\",\"type\":\"TableColumn\"},{\"attributes\":{\"css_classes\":[\"card-title\"],\"margin\":[5,0,5,0],\"name\":\"HTML00349\",\"sizing_mode\":\"stretch_width\",\"text\":\"&lt;i class=&#x27;fa fa-table&#x27;&gt;&lt;/i&gt; Bgwriter\"},\"id\":\"2077\",\"type\":\"panel.models.markup.HTML\"},{\"attributes\":{\"active_header_background\":\"\",\"button_css_classes\":[\"card-button\"],\"children\":[{\"id\":\"2277\"},{\"id\":\"2279\"}],\"collapsed\":false,\"css_classes\":[\"card\"],\"header_background\":\"\",\"header_color\":\"\",\"header_css_classes\":[\"card-header\"],\"margin\":[5,5,5,5],\"min_width\":1200,\"name\":\"Card00316\",\"width\":1200},\"id\":\"2276\",\"type\":\"panel.models.layout.Card\"},{\"attributes\":{\"icon\":null,\"label\":\"Add task\",\"margin\":[5,10,5,10],\"min_width\":100,\"subscribed_events\":[\"button_click\"],\"width\":100},\"id\":\"2275\",\"type\":\"Button\"},{\"attributes\":{\"indices\":[]},\"id\":\"2079\",\"type\":\"Selection\"},{\"attributes\":{\"children\":[{\"id\":\"2278\"}],\"css_classes\":[\"card-header-row\"],\"margin\":[0,0,0,0],\"name\":\"Row00315\",\"sizing_mode\":\"stretch_width\"},\"id\":\"2277\",\"type\":\"Row\"},{\"attributes\":{\"children\":[{\"id\":\"2077\"}],\"css_classes\":[\"card-header-row\"],\"margin\":[0,0,0,0],\"name\":\"Row00347\",\"sizing_mode\":\"stretch_width\"},\"id\":\"2076\",\"type\":\"Row\"},{\"attributes\":{},\"id\":\"2297\",\"type\":\"UnionRenderers\"},{\"attributes\":{\"icon\":\"check-circle-o\"},\"id\":\"2207\",\"type\":\"BooleanFormatter\"},{\"attributes\":{},\"id\":\"2206\",\"type\":\"CheckboxEditor\"},{\"attributes\":{\"children\":[{\"id\":\"2029\"},{\"id\":\"2052\"},{\"id\":\"2075\"},{\"id\":\"2098\"},{\"id\":\"2121\"},{\"id\":\"2144\"},{\"id\":\"2167\"},{\"id\":\"2190\"},{\"id\":\"2213\"},{\"id\":\"2236\"}],\"margin\":[0,0,0,0],\"name\":\"Accordion00330\",\"sizing_mode\":\"stretch_width\"},\"id\":\"2028\",\"type\":\"Column\"},{\"attributes\":{\"editor\":{\"id\":\"2206\"},\"field\":\"key\",\"formatter\":{\"id\":\"2207\"},\"title\":\"key\",\"width\":0},\"id\":\"2208\",\"type\":\"TableColumn\"},{\"attributes\":{\"active_header_background\":\"#ccc\",\"button_css_classes\":[\"card-button\"],\"children\":[{\"id\":\"2145\"},{\"id\":\"2165\"}],\"css_classes\":[\"accordion\"],\"header_background\":\"\",\"header_color\":\"\",\"header_css_classes\":[\"accordion-header\"],\"margin\":[0,5,0,5],\"name\":\"Card00360\",\"sizing_mode\":\"stretch_width\"},\"id\":\"2144\",\"type\":\"panel.models.layout.Card\"},{\"attributes\":{\"children\":[{\"id\":\"2260\"},{\"id\":\"2261\"},{\"id\":\"2266\"},{\"id\":\"2276\"},{\"id\":\"2282\"}],\"margin\":[0,0,0,0],\"name\":\"Column00336\",\"sizing_mode\":\"stretch_width\"},\"id\":\"2259\",\"type\":\"Column\"},{\"attributes\":{\"children\":[{\"id\":\"2146\"}],\"css_classes\":[\"card-header-row\"],\"margin\":[0,0,0,0],\"name\":\"Row00359\",\"sizing_mode\":\"stretch_width\"},\"id\":\"2145\",\"type\":\"Row\"},{\"attributes\":{\"active_header_background\":\"#ccc\",\"button_css_classes\":[\"card-button\"],\"children\":[{\"id\":\"2076\"},{\"id\":\"2096\"}],\"css_classes\":[\"accordion\"],\"header_background\":\"\",\"header_color\":\"\",\"header_css_classes\":[\"accordion-header\"],\"margin\":[0,5,0,5],\"name\":\"Card00348\",\"sizing_mode\":\"stretch_width\"},\"id\":\"2075\",\"type\":\"panel.models.layout.Card\"},{\"attributes\":{\"indices\":[]},\"id\":\"2148\",\"type\":\"Selection\"},{\"attributes\":{},\"id\":\"2299\",\"type\":\"UnionRenderers\"},{\"attributes\":{\"css_classes\":[\"card-title\"],\"margin\":[5,0,5,0],\"name\":\"HTML00361\",\"sizing_mode\":\"stretch_width\",\"text\":\"&lt;i class=&#x27;fa fa-table&#x27;&gt;&lt;/i&gt; Io\"},\"id\":\"2146\",\"type\":\"panel.models.markup.HTML\"},{\"attributes\":{},\"id\":\"2085\",\"type\":\"StringFormatter\"},{\"attributes\":{\"columns\":[{\"id\":\"2151\"},{\"id\":\"2156\"},{\"id\":\"2162\"}],\"configuration\":{\"columns\":[{\"field\":\"column\"},{\"field\":\"type\"},{\"field\":\"key\",\"sorter\":\"boolean\"}],\"dataTree\":false,\"selectable\":true},\"layout\":\"fit_data_table\",\"margin\":[5,10,5,10],\"name\":\"<i class='fa fa-table'></i> Io\",\"page\":1,\"page_size\":20,\"select_mode\":true,\"selectable_rows\":null,\"sizing_mode\":\"stretch_width\",\"source\":{\"id\":\"2147\"},\"styles\":{\"data\":{},\"id\":\"cd95af13ce964faa97a27c795c968d0f\"},\"subscribed_events\":[\"cell-click\",\"table-edit\"],\"theme_url\":\"https://cdn.jsdelivr.net/npm/@holoviz/panel@0.14.2/dist/bundled/datatabulator/tabulator-tables@5.3.2/dist/css/\"},\"id\":\"2165\",\"type\":\"panel.models.tabulator.DataTabulator\"},{\"attributes\":{},\"id\":\"2086\",\"type\":\"StringEditor\"},{\"attributes\":{\"data\":{\"column\":[\"heap_blks_hit\",\"heap_blks_read\",\"idx_blks_hit\",\"idx_blks_read\",\"tidx_blks_hit\",\"tidx_blks_read\",\"toast_blks_hit\",\"toast_blks_read\"],\"index\":[0,1,2,3,4,5,6,7],\"key\":[false,false,false,false,false,false,false,false],\"type\":[\"float\",\"float\",\"float\",\"float\",\"float\",\"float\",\"float\",\"float\"]},\"selected\":{\"id\":\"2148\"},\"selection_policy\":{\"id\":\"2293\"}},\"id\":\"2147\",\"type\":\"ColumnDataSource\"},{\"attributes\":{\"editor\":{\"id\":\"2086\"},\"field\":\"type\",\"formatter\":{\"id\":\"2085\"},\"title\":\"type\",\"width\":0},\"id\":\"2087\",\"type\":\"TableColumn\"},{\"attributes\":{\"children\":[{\"id\":\"2026\"},{\"id\":\"2259\"}],\"margin\":[0,0,0,0],\"name\":\"Row00337\",\"sizing_mode\":\"stretch_width\"},\"id\":\"2025\",\"type\":\"Row\"},{\"attributes\":{\"active_header_background\":\"#ccc\",\"button_css_classes\":[\"card-button\"],\"children\":[{\"id\":\"2214\"},{\"id\":\"2234\"}],\"css_classes\":[\"accordion\"],\"header_background\":\"\",\"header_color\":\"\",\"header_css_classes\":[\"accordion-header\"],\"margin\":[0,5,0,5],\"name\":\"Card00372\",\"sizing_mode\":\"stretch_width\"},\"id\":\"2213\",\"type\":\"panel.models.layout.Card\"},{\"attributes\":{},\"id\":\"2149\",\"type\":\"StringFormatter\"},{\"attributes\":{\"icon\":\"check-circle-o\"},\"id\":\"2092\",\"type\":\"BooleanFormatter\"},{\"attributes\":{},\"id\":\"2150\",\"type\":\"StringEditor\"},{\"attributes\":{},\"id\":\"2091\",\"type\":\"CheckboxEditor\"},{\"attributes\":{\"editor\":{\"id\":\"2150\"},\"field\":\"column\",\"formatter\":{\"id\":\"2149\"},\"title\":\"column\",\"width\":0},\"id\":\"2151\",\"type\":\"TableColumn\"},{\"attributes\":{},\"id\":\"2034\",\"type\":\"StringFormatter\"},{\"attributes\":{\"children\":[{\"id\":\"2215\"}],\"css_classes\":[\"card-header-row\"],\"margin\":[0,0,0,0],\"name\":\"Row00371\",\"sizing_mode\":\"stretch_width\"},\"id\":\"2214\",\"type\":\"Row\"},{\"attributes\":{},\"id\":\"2301\",\"type\":\"UnionRenderers\"},{\"attributes\":{\"editor\":{\"id\":\"2091\"},\"field\":\"key\",\"formatter\":{\"id\":\"2092\"},\"title\":\"key\",\"width\":0},\"id\":\"2093\",\"type\":\"TableColumn\"},{\"attributes\":{\"indices\":[]},\"id\":\"2217\",\"type\":\"Selection\"},{\"attributes\":{\"css_classes\":[\"card-title\"],\"margin\":[5,0,5,0],\"name\":\"HTML00373\",\"sizing_mode\":\"stretch_width\",\"text\":\"&lt;i class=&#x27;fa fa-table&#x27;&gt;&lt;/i&gt; Sessions\"},\"id\":\"2215\",\"type\":\"panel.models.markup.HTML\"},{\"attributes\":{\"client_comm_id\":\"add559116a45428094efbeec318908f9\",\"comm_id\":\"35e7d0fd87dc4bf989fbc9d3041ae482\",\"plot_id\":\"2025\"},\"id\":\"2343\",\"type\":\"panel.models.comm_manager.CommManager\"},{\"attributes\":{},\"id\":\"2154\",\"type\":\"StringFormatter\"},{\"attributes\":{\"columns\":[{\"id\":\"2220\"},{\"id\":\"2225\"},{\"id\":\"2231\"}],\"configuration\":{\"columns\":[{\"field\":\"column\"},{\"field\":\"type\"},{\"field\":\"key\",\"sorter\":\"boolean\"}],\"dataTree\":false,\"selectable\":true},\"layout\":\"fit_data_table\",\"margin\":[5,10,5,10],\"name\":\"<i class='fa fa-table'></i> Sessions\",\"page\":1,\"page_size\":20,\"select_mode\":true,\"selectable_rows\":null,\"sizing_mode\":\"stretch_width\",\"source\":{\"id\":\"2216\"},\"styles\":{\"data\":{},\"id\":\"99b9b2b3e6684cafad34fbf24d3d48ed\"},\"subscribed_events\":[\"cell-click\",\"table-edit\"],\"theme_url\":\"https://cdn.jsdelivr.net/npm/@holoviz/panel@0.14.2/dist/bundled/datatabulator/tabulator-tables@5.3.2/dist/css/\"},\"id\":\"2234\",\"type\":\"panel.models.tabulator.DataTabulator\"},{\"attributes\":{},\"id\":\"2155\",\"type\":\"StringEditor\"},{\"attributes\":{\"data\":{\"column\":[\"longest_query_time_sec\",\"longest_transaction_time_sec\",\"num_sessions\",\"num_wait_sessions\",\"oldest_backend_time_sec\"],\"index\":[0,1,2,3,4],\"key\":[false,false,false,false,false],\"type\":[\"integer\",\"integer\",\"integer\",\"integer\",\"integer\"]},\"selected\":{\"id\":\"2217\"},\"selection_policy\":{\"id\":\"2299\"}},\"id\":\"2216\",\"type\":\"ColumnDataSource\"},{\"attributes\":{\"editor\":{\"id\":\"2155\"},\"field\":\"type\",\"formatter\":{\"id\":\"2154\"},\"title\":\"type\",\"width\":0},\"id\":\"2156\",\"type\":\"TableColumn\"},{\"attributes\":{},\"id\":\"2035\",\"type\":\"StringEditor\"},{\"attributes\":{\"editor\":{\"id\":\"2035\"},\"field\":\"column\",\"formatter\":{\"id\":\"2034\"},\"title\":\"column\",\"width\":0},\"id\":\"2036\",\"type\":\"TableColumn\"},{\"attributes\":{\"margin\":[5,10,5,10],\"min_width\":300,\"title\":\"Split basis\",\"width\":300},\"id\":\"2281\",\"type\":\"panel.models.widgets.CustomSelect\"},{\"attributes\":{\"editor\":{\"id\":\"2040\"},\"field\":\"type\",\"formatter\":{\"id\":\"2039\"},\"title\":\"type\",\"width\":0},\"id\":\"2041\",\"type\":\"TableColumn\"},{\"attributes\":{},\"id\":\"2218\",\"type\":\"StringFormatter\"},{\"attributes\":{\"icon\":\"check-circle-o\"},\"id\":\"2161\",\"type\":\"BooleanFormatter\"},{\"attributes\":{},\"id\":\"2219\",\"type\":\"StringEditor\"},{\"attributes\":{},\"id\":\"2160\",\"type\":\"CheckboxEditor\"},{\"attributes\":{\"editor\":{\"id\":\"2219\"},\"field\":\"column\",\"formatter\":{\"id\":\"2218\"},\"title\":\"column\",\"width\":0},\"id\":\"2220\",\"type\":\"TableColumn\"},{\"attributes\":{},\"id\":\"2039\",\"type\":\"StringFormatter\"},{\"attributes\":{},\"id\":\"2040\",\"type\":\"StringEditor\"},{\"attributes\":{\"editor\":{\"id\":\"2160\"},\"field\":\"key\",\"formatter\":{\"id\":\"2161\"},\"title\":\"key\",\"width\":0},\"id\":\"2162\",\"type\":\"TableColumn\"},{\"attributes\":{\"active_header_background\":\"#ccc\",\"button_css_classes\":[\"card-button\"],\"children\":[{\"id\":\"2030\"},{\"id\":\"2050\"}],\"css_classes\":[\"accordion\"],\"header_background\":\"\",\"header_color\":\"\",\"header_css_classes\":[\"accordion-header\"],\"margin\":[5,5,0,5],\"name\":\"Card00340\",\"sizing_mode\":\"stretch_width\"},\"id\":\"2029\",\"type\":\"panel.models.layout.Card\"},{\"attributes\":{\"active_header_background\":\"#ccc\",\"button_css_classes\":[\"card-button\"],\"children\":[{\"id\":\"2099\"},{\"id\":\"2119\"}],\"css_classes\":[\"accordion\"],\"header_background\":\"\",\"header_color\":\"\",\"header_css_classes\":[\"accordion-header\"],\"margin\":[0,5,0,5],\"name\":\"Card00352\",\"sizing_mode\":\"stretch_width\"},\"id\":\"2098\",\"type\":\"panel.models.layout.Card\"},{\"attributes\":{},\"id\":\"2223\",\"type\":\"StringFormatter\"},{\"attributes\":{},\"id\":\"2224\",\"type\":\"StringEditor\"},{\"attributes\":{\"editor\":{\"id\":\"2224\"},\"field\":\"type\",\"formatter\":{\"id\":\"2223\"},\"title\":\"type\",\"width\":0},\"id\":\"2225\",\"type\":\"TableColumn\"},{\"attributes\":{\"children\":[{\"id\":\"2100\"}],\"css_classes\":[\"card-header-row\"],\"margin\":[0,0,0,0],\"name\":\"Row00351\",\"sizing_mode\":\"stretch_width\"},\"id\":\"2099\",\"type\":\"Row\"},{\"attributes\":{},\"id\":\"2283\",\"type\":\"UnionRenderers\"},{\"attributes\":{\"children\":[{\"id\":\"2262\"},{\"id\":\"2263\"},{\"id\":\"2264\"},{\"id\":\"2265\"}],\"margin\":[0,0,0,0],\"name\":\"Row00295\",\"sizing_mode\":\"stretch_width\"},\"id\":\"2261\",\"type\":\"Row\"},{\"attributes\":{\"indices\":[]},\"id\":\"2102\",\"type\":\"Selection\"},{\"attributes\":{\"css_classes\":[\"card-title\"],\"margin\":[5,0,5,0],\"name\":\"HTML00353\",\"sizing_mode\":\"stretch_width\",\"text\":\"&lt;i class=&#x27;fa fa-table&#x27;&gt;&lt;/i&gt; Conflicts\"},\"id\":\"2100\",\"type\":\"panel.models.markup.HTML\"},{\"attributes\":{\"icon\":\"check-circle-o\"},\"id\":\"2230\",\"type\":\"BooleanFormatter\"},{\"attributes\":{\"editor\":{\"id\":\"2068\"},\"field\":\"key\",\"formatter\":{\"id\":\"2069\"},\"title\":\"key\",\"width\":0},\"id\":\"2070\",\"type\":\"TableColumn\"},{\"attributes\":{\"columns\":[{\"id\":\"2105\"},{\"id\":\"2110\"},{\"id\":\"2116\"}],\"configuration\":{\"columns\":[{\"field\":\"column\"},{\"field\":\"type\"},{\"field\":\"key\",\"sorter\":\"boolean\"}],\"dataTree\":false,\"selectable\":true},\"layout\":\"fit_data_table\",\"margin\":[5,10,5,10],\"name\":\"<i class='fa fa-table'></i> Conflicts\",\"page\":1,\"page_size\":20,\"select_mode\":true,\"selectable_rows\":null,\"sizing_mode\":\"stretch_width\",\"source\":{\"id\":\"2101\"},\"styles\":{\"data\":{},\"id\":\"49f1eaa4fcb04b38b4084257d052cb9f\"},\"subscribed_events\":[\"cell-click\",\"table-edit\"],\"theme_url\":\"https://cdn.jsdelivr.net/npm/@holoviz/panel@0.14.2/dist/bundled/datatabulator/tabulator-tables@5.3.2/dist/css/\"},\"id\":\"2119\",\"type\":\"panel.models.tabulator.DataTabulator\"},{\"attributes\":{},\"id\":\"2229\",\"type\":\"CheckboxEditor\"},{\"attributes\":{\"data\":{\"column\":[\"confl_bufferpin\",\"confl_deadlock\",\"confl_lock\",\"confl_snapshot\",\"confl_tablespace\",\"datname\",\"datid\"],\"index\":[0,1,2,3,4,5,0],\"key\":[false,false,false,false,false,false,true],\"type\":[\"integer\",\"integer\",\"integer\",\"integer\",\"integer\",\"string\",\"string\"]},\"selected\":{\"id\":\"2102\"},\"selection_policy\":{\"id\":\"2289\"}},\"id\":\"2101\",\"type\":\"ColumnDataSource\"},{\"attributes\":{\"margin\":[5,10,5,10],\"min_width\":300,\"options\":[\"Choose a task\",\"metrics\",\"historical comparisons\",\"query analysis\",\"distribution\",\"correlation\",\"query ranking\",\"cause analysis\",\"anomaly detection\",\"delta between predicted and actual value\"],\"title\":\"Task\",\"value\":\"Choose a task\",\"width\":300},\"id\":\"2272\",\"type\":\"panel.models.widgets.CustomSelect\"},{\"attributes\":{\"editor\":{\"id\":\"2229\"},\"field\":\"key\",\"formatter\":{\"id\":\"2230\"},\"title\":\"key\",\"width\":0},\"id\":\"2231\",\"type\":\"TableColumn\"},{\"attributes\":{\"margin\":[0,0,0,0],\"name\":\"Row00305\",\"sizing_mode\":\"stretch_width\"},\"id\":\"2274\",\"type\":\"Row\"},{\"attributes\":{\"icon\":\"check-circle-o\"},\"id\":\"2069\",\"type\":\"BooleanFormatter\"},{\"attributes\":{\"active_header_background\":\"#ccc\",\"button_css_classes\":[\"card-button\"],\"children\":[{\"id\":\"2168\"},{\"id\":\"2188\"}],\"css_classes\":[\"accordion\"],\"header_background\":\"\",\"header_color\":\"\",\"header_css_classes\":[\"accordion-header\"],\"margin\":[0,5,0,5],\"name\":\"Card00364\",\"sizing_mode\":\"stretch_width\"},\"id\":\"2167\",\"type\":\"panel.models.layout.Card\"},{\"attributes\":{\"margin\":[0,0,0,0],\"name\":\"Row00304\",\"sizing_mode\":\"stretch_width\"},\"id\":\"2273\",\"type\":\"Row\"},{\"attributes\":{},\"id\":\"2068\",\"type\":\"CheckboxEditor\"},{\"attributes\":{},\"id\":\"2103\",\"type\":\"StringFormatter\"},{\"attributes\":{},\"id\":\"2104\",\"type\":\"StringEditor\"},{\"attributes\":{\"editor\":{\"id\":\"2104\"},\"field\":\"column\",\"formatter\":{\"id\":\"2103\"},\"title\":\"column\",\"width\":0},\"id\":\"2105\",\"type\":\"TableColumn\"},{\"attributes\":{\"children\":[{\"id\":\"2169\"}],\"css_classes\":[\"card-header-row\"],\"margin\":[0,0,0,0],\"name\":\"Row00363\",\"sizing_mode\":\"stretch_width\"},\"id\":\"2168\",\"type\":\"Row\"},{\"attributes\":{},\"id\":\"2285\",\"type\":\"UnionRenderers\"},{\"attributes\":{},\"id\":\"2063\",\"type\":\"StringEditor\"},{\"attributes\":{\"editor\":{\"id\":\"2063\"},\"field\":\"type\",\"formatter\":{\"id\":\"2062\"},\"title\":\"type\",\"width\":0},\"id\":\"2064\",\"type\":\"TableColumn\"},{\"attributes\":{\"indices\":[]},\"id\":\"2171\",\"type\":\"Selection\"},{\"attributes\":{\"css_classes\":[\"card-title\"],\"margin\":[5,0,5,0],\"name\":\"HTML00365\",\"sizing_mode\":\"stretch_width\",\"text\":\"&lt;i class=&#x27;fa fa-table&#x27;&gt;&lt;/i&gt; Os metric\"},\"id\":\"2169\",\"type\":\"panel.models.markup.HTML\"},{\"attributes\":{},\"id\":\"2062\",\"type\":\"StringFormatter\"},{\"attributes\":{},\"id\":\"2108\",\"type\":\"StringFormatter\"},{\"attributes\":{\"children\":[{\"id\":\"2280\"},{\"id\":\"2281\"}],\"margin\":[0,0,0,0],\"name\":\"Row00314\",\"sizing_mode\":\"stretch_width\"},\"id\":\"2279\",\"type\":\"Row\"},{\"attributes\":{\"columns\":[{\"id\":\"2174\"},{\"id\":\"2179\"},{\"id\":\"2185\"}],\"configuration\":{\"columns\":[{\"field\":\"column\"},{\"field\":\"type\"},{\"field\":\"key\",\"sorter\":\"boolean\"}],\"dataTree\":false,\"selectable\":true},\"layout\":\"fit_data_table\",\"margin\":[5,10,5,10],\"name\":\"<i class='fa fa-table'></i> Os metric\",\"page\":1,\"page_size\":20,\"select_mode\":true,\"selectable_rows\":null,\"sizing_mode\":\"stretch_width\",\"source\":{\"id\":\"2170\"},\"styles\":{\"data\":{},\"id\":\"854e8327c129447c83ca060c7b71c878\"},\"subscribed_events\":[\"cell-click\",\"table-edit\"],\"theme_url\":\"https://cdn.jsdelivr.net/npm/@holoviz/panel@0.14.2/dist/bundled/datatabulator/tabulator-tables@5.3.2/dist/css/\"},\"id\":\"2188\",\"type\":\"panel.models.tabulator.DataTabulator\"},{\"attributes\":{},\"id\":\"2109\",\"type\":\"StringEditor\"},{\"attributes\":{\"data\":{\"column\":[\"cpu_percent\",\"disk_percent\",\"disk_read_bytes\",\"disk_read_count\",\"disk_write_bytes\",\"disk_write_count\",\"mem_active\",\"mem_available\",\"mem_buffers\",\"mem_cached\",\"mem_free\",\"mem_inactive\",\"mem_percent\",\"mem_shared\",\"mem_slab\",\"mem_total\",\"mem_used\"],\"index\":[0,1,2,3,4,5,6,7,8,9,10,11,12,13,14,15,16],\"key\":[false,false,false,false,false,false,false,false,false,false,false,false,false,false,false,false,false],\"type\":[\"float\",\"float\",\"integer\",\"integer\",\"integer\",\"integer\",\"integer\",\"integer\",\"integer\",\"integer\",\"integer\",\"integer\",\"float\",\"integer\",\"integer\",\"integer\",\"integer\"]},\"selected\":{\"id\":\"2171\"},\"selection_policy\":{\"id\":\"2295\"}},\"id\":\"2170\",\"type\":\"ColumnDataSource\"},{\"attributes\":{\"editor\":{\"id\":\"2109\"},\"field\":\"type\",\"formatter\":{\"id\":\"2108\"},\"title\":\"type\",\"width\":0},\"id\":\"2110\",\"type\":\"TableColumn\"},{\"attributes\":{\"editor\":{\"id\":\"2058\"},\"field\":\"column\",\"formatter\":{\"id\":\"2057\"},\"title\":\"column\",\"width\":0},\"id\":\"2059\",\"type\":\"TableColumn\"},{\"attributes\":{\"children\":[{\"id\":\"2270\"},{\"id\":\"2275\"}],\"margin\":[0,0,0,0],\"name\":\"Row00307\",\"sizing_mode\":\"stretch_width\"},\"id\":\"2269\",\"type\":\"Row\"},{\"attributes\":{},\"id\":\"2057\",\"type\":\"StringFormatter\"},{\"attributes\":{\"active_header_background\":\"#ccc\",\"button_css_classes\":[\"card-button\"],\"children\":[{\"id\":\"2237\"},{\"id\":\"2257\"}],\"css_classes\":[\"accordion\"],\"header_background\":\"\",\"header_color\":\"\",\"header_css_classes\":[\"accordion-header\"],\"margin\":[0,5,5,5],\"name\":\"Card00376\",\"sizing_mode\":\"stretch_width\"},\"id\":\"2236\",\"type\":\"panel.models.layout.Card\"},{\"attributes\":{\"children\":[{\"id\":\"2268\"}],\"css_classes\":[\"card-header-row\"],\"margin\":[0,0,0,0],\"name\":\"Row00308\",\"sizing_mode\":\"stretch_width\"},\"id\":\"2267\",\"type\":\"Row\"},{\"attributes\":{},\"id\":\"2058\",\"type\":\"StringEditor\"},{\"attributes\":{},\"id\":\"2172\",\"type\":\"StringFormatter\"},{\"attributes\":{},\"id\":\"2287\",\"type\":\"UnionRenderers\"},{\"attributes\":{\"icon\":\"check-circle-o\"},\"id\":\"2115\",\"type\":\"BooleanFormatter\"},{\"attributes\":{},\"id\":\"2173\",\"type\":\"StringEditor\"},{\"attributes\":{},\"id\":\"2114\",\"type\":\"CheckboxEditor\"},{\"attributes\":{\"data\":{\"column\":[\"active\",\"idle\",\"idle in transaction\",\"idle in transaction (aborted)\"],\"index\":[0,1,2,3],\"key\":[false,false,false,false],\"type\":[\"integer\",\"integer\",\"integer\",\"integer\"]},\"selected\":{\"id\":\"2056\"},\"selection_policy\":{\"id\":\"2285\"}},\"id\":\"2055\",\"type\":\"ColumnDataSource\"},{\"attributes\":{\"editor\":{\"id\":\"2173\"},\"field\":\"column\",\"formatter\":{\"id\":\"2172\"},\"title\":\"column\",\"width\":0},\"id\":\"2174\",\"type\":\"TableColumn\"},{\"attributes\":{\"children\":[{\"id\":\"2238\"}],\"css_classes\":[\"card-header-row\"],\"margin\":[0,0,0,0],\"name\":\"Row00375\",\"sizing_mode\":\"stretch_width\"},\"id\":\"2237\",\"type\":\"Row\"},{\"attributes\":{\"columns\":[{\"id\":\"2059\"},{\"id\":\"2064\"},{\"id\":\"2070\"}],\"configuration\":{\"columns\":[{\"field\":\"column\"},{\"field\":\"type\"},{\"field\":\"key\",\"sorter\":\"boolean\"}],\"dataTree\":false,\"selectable\":true},\"layout\":\"fit_data_table\",\"margin\":[5,10,5,10],\"name\":\"<i class='fa fa-table'></i> Active sessions\",\"page\":1,\"page_size\":20,\"select_mode\":true,\"selectable_rows\":null,\"sizing_mode\":\"stretch_width\",\"source\":{\"id\":\"2055\"},\"styles\":{\"data\":{},\"id\":\"6a1b66a5dd5c4a8b8a6b127120ca109d\"},\"subscribed_events\":[\"cell-click\",\"table-edit\"],\"theme_url\":\"https://cdn.jsdelivr.net/npm/@holoviz/panel@0.14.2/dist/bundled/datatabulator/tabulator-tables@5.3.2/dist/css/\"},\"id\":\"2073\",\"type\":\"panel.models.tabulator.DataTabulator\"},{\"attributes\":{\"editor\":{\"id\":\"2114\"},\"field\":\"key\",\"formatter\":{\"id\":\"2115\"},\"title\":\"key\",\"width\":0},\"id\":\"2116\",\"type\":\"TableColumn\"},{\"attributes\":{\"css_classes\":[\"card-title\"],\"margin\":[5,0,5,0],\"name\":\"HTML00345\",\"sizing_mode\":\"stretch_width\",\"text\":\"&lt;i class=&#x27;fa fa-table&#x27;&gt;&lt;/i&gt; Active sessions\"},\"id\":\"2054\",\"type\":\"panel.models.markup.HTML\"},{\"attributes\":{\"indices\":[]},\"id\":\"2240\",\"type\":\"Selection\"},{\"attributes\":{\"css_classes\":[\"card-title\"],\"margin\":[5,0,5,0],\"name\":\"HTML00377\",\"sizing_mode\":\"stretch_width\",\"text\":\"&lt;i class=&#x27;fa fa-table&#x27;&gt;&lt;/i&gt; Waiting sessions\"},\"id\":\"2238\",\"type\":\"panel.models.markup.HTML\"},{\"attributes\":{},\"id\":\"2177\",\"type\":\"StringFormatter\"},{\"attributes\":{\"columns\":[{\"id\":\"2243\"},{\"id\":\"2248\"},{\"id\":\"2254\"}],\"configuration\":{\"columns\":[{\"field\":\"column\"},{\"field\":\"type\"},{\"field\":\"key\",\"sorter\":\"boolean\"}],\"dataTree\":false,\"selectable\":true},\"layout\":\"fit_data_table\",\"margin\":[5,10,5,10],\"name\":\"<i class='fa fa-table'></i> Waiting sessions\",\"page\":1,\"page_size\":20,\"select_mode\":true,\"selectable_rows\":null,\"sizing_mode\":\"stretch_width\",\"source\":{\"id\":\"2239\"},\"styles\":{\"data\":{},\"id\":\"dd8d9720c62445ac9828b0696e44c8cc\"},\"subscribed_events\":[\"cell-click\",\"table-edit\"],\"theme_url\":\"https://cdn.jsdelivr.net/npm/@holoviz/panel@0.14.2/dist/bundled/datatabulator/tabulator-tables@5.3.2/dist/css/\"},\"id\":\"2257\",\"type\":\"panel.models.tabulator.DataTabulator\"},{\"attributes\":{},\"id\":\"2178\",\"type\":\"StringEditor\"},{\"attributes\":{\"data\":{\"column\":[\"Activity\",\"Client\",\"IO\",\"IPC\",\"LWLock\",\"Lock\",\"Timeout\"],\"index\":[0,1,2,3,4,5,6],\"key\":[false,false,false,false,false,false,false],\"type\":[\"integer\",\"integer\",\"integer\",\"integer\",\"integer\",\"integer\",\"integer\"]},\"selected\":{\"id\":\"2240\"},\"selection_policy\":{\"id\":\"2301\"}},\"id\":\"2239\",\"type\":\"ColumnDataSource\"},{\"attributes\":{\"editor\":{\"id\":\"2178\"},\"field\":\"type\",\"formatter\":{\"id\":\"2177\"},\"title\":\"type\",\"width\":0},\"id\":\"2179\",\"type\":\"TableColumn\"},{\"attributes\":{\"icon\":\"check-circle-o\"},\"id\":\"2046\",\"type\":\"BooleanFormatter\"},{\"attributes\":{},\"id\":\"2045\",\"type\":\"CheckboxEditor\"},{\"attributes\":{\"css_classes\":[\"markdown\"],\"margin\":[5,5,5,5],\"name\":\"Markdown00331\",\"sizing_mode\":\"stretch_width\",\"text\":\"&lt;h3&gt;Performance Tables&lt;/h3&gt;\"},\"id\":\"2027\",\"type\":\"panel.models.markup.HTML\"},{\"attributes\":{},\"id\":\"2289\",\"type\":\"UnionRenderers\"},{\"attributes\":{},\"id\":\"2241\",\"type\":\"StringFormatter\"},{\"attributes\":{\"icon\":\"check-circle-o\"},\"id\":\"2184\",\"type\":\"BooleanFormatter\"},{\"attributes\":{},\"id\":\"2242\",\"type\":\"StringEditor\"},{\"attributes\":{},\"id\":\"2183\",\"type\":\"CheckboxEditor\"},{\"attributes\":{\"editor\":{\"id\":\"2242\"},\"field\":\"column\",\"formatter\":{\"id\":\"2241\"},\"title\":\"column\",\"width\":0},\"id\":\"2243\",\"type\":\"TableColumn\"},{\"attributes\":{\"editor\":{\"id\":\"2183\"},\"field\":\"key\",\"formatter\":{\"id\":\"2184\"},\"title\":\"key\",\"width\":0},\"id\":\"2185\",\"type\":\"TableColumn\"},{\"attributes\":{\"active_header_background\":\"#ccc\",\"button_css_classes\":[\"card-button\"],\"children\":[{\"id\":\"2122\"},{\"id\":\"2142\"}],\"css_classes\":[\"accordion\"],\"header_background\":\"\",\"header_color\":\"\",\"header_css_classes\":[\"accordion-header\"],\"margin\":[0,5,0,5],\"name\":\"Card00356\",\"sizing_mode\":\"stretch_width\"},\"id\":\"2121\",\"type\":\"panel.models.layout.Card\"},{\"attributes\":{},\"id\":\"2246\",\"type\":\"StringFormatter\"},{\"attributes\":{},\"id\":\"2247\",\"type\":\"StringEditor\"},{\"attributes\":{\"indices\":[]},\"id\":\"2056\",\"type\":\"Selection\"},{\"attributes\":{\"editor\":{\"id\":\"2247\"},\"field\":\"type\",\"formatter\":{\"id\":\"2246\"},\"title\":\"type\",\"width\":0},\"id\":\"2248\",\"type\":\"TableColumn\"},{\"attributes\":{\"children\":[{\"id\":\"2054\"}],\"css_classes\":[\"card-header-row\"],\"margin\":[0,0,0,0],\"name\":\"Row00343\",\"sizing_mode\":\"stretch_width\"},\"id\":\"2053\",\"type\":\"Row\"},{\"attributes\":{\"children\":[{\"id\":\"2123\"}],\"css_classes\":[\"card-header-row\"],\"margin\":[0,0,0,0],\"name\":\"Row00355\",\"sizing_mode\":\"stretch_width\"},\"id\":\"2122\",\"type\":\"Row\"},{\"attributes\":{},\"id\":\"2291\",\"type\":\"UnionRenderers\"},{\"attributes\":{\"children\":[{\"id\":\"2027\"},{\"id\":\"2028\"}],\"margin\":[0,0,0,0],\"min_width\":350,\"name\":\"Column00333\",\"width\":350},\"id\":\"2026\",\"type\":\"Column\"},{\"attributes\":{\"indices\":[]},\"id\":\"2125\",\"type\":\"Selection\"},{\"attributes\":{\"css_classes\":[\"card-title\"],\"margin\":[5,0,5,0],\"name\":\"HTML00357\",\"sizing_mode\":\"stretch_width\",\"text\":\"&lt;i class=&#x27;fa fa-table&#x27;&gt;&lt;/i&gt; Database statistics\"},\"id\":\"2123\",\"type\":\"panel.models.markup.HTML\"},{\"attributes\":{\"icon\":\"check-circle-o\"},\"id\":\"2253\",\"type\":\"BooleanFormatter\"},{\"attributes\":{\"icon\":null,\"label\":\"Draw\",\"margin\":[5,10,5,10],\"min_width\":100,\"subscribed_events\":[\"button_click\"],\"width\":100},\"id\":\"2282\",\"type\":\"Button\"},{\"attributes\":{\"columns\":[{\"id\":\"2036\"},{\"id\":\"2041\"},{\"id\":\"2047\"}],\"configuration\":{\"columns\":[{\"field\":\"column\"},{\"field\":\"type\"},{\"field\":\"key\",\"sorter\":\"boolean\"}],\"dataTree\":false,\"selectable\":true},\"layout\":\"fit_data_table\",\"margin\":[5,10,5,10],\"name\":\"<i class='fa fa-table'></i> Access\",\"page\":1,\"page_size\":20,\"select_mode\":true,\"selectable_rows\":null,\"sizing_mode\":\"stretch_width\",\"source\":{\"id\":\"2032\"},\"styles\":{\"data\":{},\"id\":\"77dfb9667c9c47bea9372361456b6eb7\"},\"subscribed_events\":[\"cell-click\",\"table-edit\"],\"theme_url\":\"https://cdn.jsdelivr.net/npm/@holoviz/panel@0.14.2/dist/bundled/datatabulator/tabulator-tables@5.3.2/dist/css/\"},\"id\":\"2050\",\"type\":\"panel.models.tabulator.DataTabulator\"},{\"attributes\":{\"children\":[{\"id\":\"2031\"}],\"css_classes\":[\"card-header-row\"],\"margin\":[0,0,0,0],\"name\":\"Row00339\",\"sizing_mode\":\"stretch_width\"},\"id\":\"2030\",\"type\":\"Row\"},{\"attributes\":{\"css_classes\":[\"markdown\"],\"margin\":[5,5,5,5],\"name\":\"Markdown00334\",\"sizing_mode\":\"stretch_width\",\"text\":\"&lt;h3&gt;Visualization Language Generation&lt;/h3&gt;\"},\"id\":\"2260\",\"type\":\"panel.models.markup.HTML\"},{\"attributes\":{\"data\":{\"column\":[\"analyze_count\",\"autoanalyze_count\",\"autovacuum_count\",\"idx_scan\",\"idx_tup_fetch\",\"idx_tup_read\",\"n_dead_tup\",\"n_live_tup\",\"n_mod_since_analyze\",\"n_tup_del\",\"n_tup_hot_upd\",\"n_tup_ins\",\"n_tup_upd\",\"seq_scan\",\"seq_tup_read\",\"vacuum_count\"],\"index\":[0,1,2,3,4,5,6,7,8,9,10,11,12,13,14,15],\"key\":[false,false,false,false,false,false,false,false,false,false,false,false,false,false,false,false],\"type\":[\"float\",\"float\",\"float\",\"float\",\"float\",\"float\",\"float\",\"float\",\"float\",\"float\",\"float\",\"float\",\"float\",\"float\",\"float\",\"float\"]},\"selected\":{\"id\":\"2033\"},\"selection_policy\":{\"id\":\"2283\"}},\"id\":\"2032\",\"type\":\"ColumnDataSource\"},{\"attributes\":{\"columns\":[{\"id\":\"2128\"},{\"id\":\"2133\"},{\"id\":\"2139\"}],\"configuration\":{\"columns\":[{\"field\":\"column\"},{\"field\":\"type\"},{\"field\":\"key\",\"sorter\":\"boolean\"}],\"dataTree\":false,\"selectable\":true},\"layout\":\"fit_data_table\",\"margin\":[5,10,5,10],\"name\":\"<i class='fa fa-table'></i> Database statistics\",\"page\":1,\"page_size\":20,\"select_mode\":true,\"selectable_rows\":null,\"sizing_mode\":\"stretch_width\",\"source\":{\"id\":\"2124\"},\"styles\":{\"data\":{},\"id\":\"56a3bdfca3d54fc28c9123851de31a09\"},\"subscribed_events\":[\"cell-click\",\"table-edit\"],\"theme_url\":\"https://cdn.jsdelivr.net/npm/@holoviz/panel@0.14.2/dist/bundled/datatabulator/tabulator-tables@5.3.2/dist/css/\"},\"id\":\"2142\",\"type\":\"panel.models.tabulator.DataTabulator\"},{\"attributes\":{\"indices\":[]},\"id\":\"2033\",\"type\":\"Selection\"},{\"attributes\":{},\"id\":\"2252\",\"type\":\"CheckboxEditor\"},{\"attributes\":{\"data\":{\"column\":[\"active_time\",\"blk_read_time\",\"blk_write_time\",\"blks_hit\",\"blks_read\",\"conflicts\",\"datname\",\"deadlocks\",\"idle_in_transaction_time\",\"numbackends\",\"session_time\",\"sessions\",\"sessions_abandoned\",\"sessions_fatal\",\"sessions_killed\",\"temp_bytes\",\"temp_files\",\"tup_deleted\",\"tup_fetched\",\"tup_inserted\",\"tup_returned\",\"tup_updated\",\"xact_commit\",\"xact_rollback\",\"datid\"],\"index\":[0,1,2,3,4,5,6,7,8,9,10,11,12,13,14,15,16,17,18,19,20,21,22,23,0],\"key\":[false,false,false,false,false,false,false,false,false,false,false,false,false,false,false,false,false,false,false,false,false,false,false,false,true],\"type\":[\"float\",\"float\",\"float\",\"integer\",\"integer\",\"integer\",\"string\",\"integer\",\"float\",\"integer\",\"float\",\"integer\",\"integer\",\"integer\",\"integer\",\"integer\",\"integer\",\"integer\",\"integer\",\"integer\",\"integer\",\"integer\",\"integer\",\"integer\",\"string\"]},\"selected\":{\"id\":\"2125\"},\"selection_policy\":{\"id\":\"2291\"}},\"id\":\"2124\",\"type\":\"ColumnDataSource\"},{\"attributes\":{\"editor\":{\"id\":\"2252\"},\"field\":\"key\",\"formatter\":{\"id\":\"2253\"},\"title\":\"key\",\"width\":0},\"id\":\"2254\",\"type\":\"TableColumn\"},{\"attributes\":{\"active_header_background\":\"#ccc\",\"button_css_classes\":[\"card-button\"],\"children\":[{\"id\":\"2191\"},{\"id\":\"2211\"}],\"css_classes\":[\"accordion\"],\"header_background\":\"\",\"header_color\":\"\",\"header_css_classes\":[\"accordion-header\"],\"margin\":[0,5,0,5],\"name\":\"Card00368\",\"sizing_mode\":\"stretch_width\"},\"id\":\"2190\",\"type\":\"panel.models.layout.Card\"},{\"attributes\":{\"margin\":[5,10,5,10],\"max_length\":5000,\"min_width\":300,\"placeholder\":\"Enter a string for title of visualization\",\"title\":\"Title\",\"width\":300},\"id\":\"2262\",\"type\":\"TextInput\"},{\"attributes\":{\"css_classes\":[\"card-title\"],\"margin\":[5,0,5,0],\"name\":\"HTML00310\",\"sizing_mode\":\"stretch_width\",\"text\":\"Task\"},\"id\":\"2268\",\"type\":\"panel.models.markup.HTML\"},{\"attributes\":{\"css_classes\":[\"card-title\"],\"margin\":[5,0,5,0],\"name\":\"HTML00341\",\"sizing_mode\":\"stretch_width\",\"text\":\"&lt;i class=&#x27;fa fa-table&#x27;&gt;&lt;/i&gt; Access\"},\"id\":\"2031\",\"type\":\"panel.models.markup.HTML\"},{\"attributes\":{\"margin\":[5,10,5,10],\"min_width\":300,\"options\":[\"access\",\"active_sessions\",\"bgwriter\",\"conflicts\",\"database_statistics\",\"io\",\"os_metric\",\"query_statistics\",\"sessions\",\"waiting_sessions\"],\"title\":\"Measurements\",\"value\":\"access\",\"width\":300},\"id\":\"2263\",\"type\":\"panel.models.widgets.CustomSelect\"},{\"attributes\":{},\"id\":\"2126\",\"type\":\"StringFormatter\"},{\"attributes\":{},\"id\":\"2127\",\"type\":\"StringEditor\"},{\"attributes\":{\"children\":[{\"id\":\"2192\"}],\"css_classes\":[\"card-header-row\"],\"margin\":[0,0,0,0],\"name\":\"Row00367\",\"sizing_mode\":\"stretch_width\"},\"id\":\"2191\",\"type\":\"Row\"},{\"attributes\":{\"editor\":{\"id\":\"2045\"},\"field\":\"key\",\"formatter\":{\"id\":\"2046\"},\"title\":\"key\",\"width\":0},\"id\":\"2047\",\"type\":\"TableColumn\"},{\"attributes\":{\"editor\":{\"id\":\"2127\"},\"field\":\"column\",\"formatter\":{\"id\":\"2126\"},\"title\":\"column\",\"width\":0},\"id\":\"2128\",\"type\":\"TableColumn\"},{\"attributes\":{},\"id\":\"2293\",\"type\":\"UnionRenderers\"},{\"attributes\":{\"active_header_background\":\"#ccc\",\"button_css_classes\":[\"card-button\"],\"children\":[{\"id\":\"2053\"},{\"id\":\"2073\"}],\"css_classes\":[\"accordion\"],\"header_background\":\"\",\"header_color\":\"\",\"header_css_classes\":[\"accordion-header\"],\"margin\":[0,5,0,5],\"name\":\"Card00344\",\"sizing_mode\":\"stretch_width\"},\"id\":\"2052\",\"type\":\"panel.models.layout.Card\"},{\"attributes\":{\"margin\":[5,10,5,10],\"min_width\":300,\"options\":[[\"None\",\"Off\"],[\"300000\",\"Every 5 minutes\"],[\"600000\",\"Every 10 minutes\"],[\"900000\",\"Every 15 minutes\"],[\"1800000\",\"Every 30 minutes\"]],\"title\":\"Auto refresh\",\"value\":\"None\",\"width\":300},\"id\":\"2265\",\"type\":\"panel.models.widgets.CustomSelect\"},{\"attributes\":{\"indices\":[]},\"id\":\"2194\",\"type\":\"Selection\"},{\"attributes\":{\"margin\":[5,10,5,10],\"min_width\":300,\"options\":[[\"30\",\"Last 30 minutes\"],[\"60\",\"Last hour\"],[\"240\",\"Last 4 hours\"],[\"720\",\"Last 12 hours\"],[\"1440\",\"Last 24 hours\"],[\"-1\",\"Custom\"]],\"title\":\"Time range\",\"value\":\"30\",\"width\":300},\"id\":\"2264\",\"type\":\"panel.models.widgets.CustomSelect\"},{\"attributes\":{\"css_classes\":[\"card-title\"],\"margin\":[5,0,5,0],\"name\":\"HTML00369\",\"sizing_mode\":\"stretch_width\",\"text\":\"&lt;i class=&#x27;fa fa-table&#x27;&gt;&lt;/i&gt; Query statistics\"},\"id\":\"2192\",\"type\":\"panel.models.markup.HTML\"},{\"attributes\":{\"columns\":[{\"id\":\"2197\"},{\"id\":\"2202\"},{\"id\":\"2208\"}],\"configuration\":{\"columns\":[{\"field\":\"column\"},{\"field\":\"type\"},{\"field\":\"key\",\"sorter\":\"boolean\"}],\"dataTree\":false,\"selectable\":true},\"layout\":\"fit_data_table\",\"margin\":[5,10,5,10],\"name\":\"<i class='fa fa-table'></i> Query statistics\",\"page\":1,\"page_size\":20,\"select_mode\":true,\"selectable_rows\":null,\"sizing_mode\":\"stretch_width\",\"source\":{\"id\":\"2193\"},\"styles\":{\"data\":{},\"id\":\"409c7e384ecb4ebb98cce5bf101023d7\"},\"subscribed_events\":[\"cell-click\",\"table-edit\"],\"theme_url\":\"https://cdn.jsdelivr.net/npm/@holoviz/panel@0.14.2/dist/bundled/datatabulator/tabulator-tables@5.3.2/dist/css/\"},\"id\":\"2211\",\"type\":\"panel.models.tabulator.DataTabulator\"},{\"attributes\":{},\"id\":\"2131\",\"type\":\"StringFormatter\"},{\"attributes\":{\"data\":{\"column\":[\"blk_read_time\",\"blk_write_time\",\"calls\",\"io\",\"latency\",\"local_blks_dirtied\",\"local_blks_hit\",\"local_blks_read\",\"local_blks_written\",\"query\",\"shared_blks_dirtied\",\"shared_blks_hit\",\"shared_blks_read\",\"shared_blks_written\",\"temp_blks_read\",\"temp_blks_written\",\"wait_time\",\"queryid\"],\"index\":[0,1,2,3,4,5,6,7,8,9,10,11,12,13,14,15,16,0],\"key\":[false,false,false,false,false,false,false,false,false,false,false,false,false,false,false,false,false,true],\"type\":[\"float\",\"float\",\"integer\",\"float\",\"float\",\"integer\",\"integer\",\"integer\",\"integer\",\"string\",\"integer\",\"integer\",\"integer\",\"integer\",\"integer\",\"integer\",\"float\",\"string\"]},\"selected\":{\"id\":\"2194\"},\"selection_policy\":{\"id\":\"2297\"}},\"id\":\"2193\",\"type\":\"ColumnDataSource\"},{\"attributes\":{},\"id\":\"2132\",\"type\":\"StringEditor\"},{\"attributes\":{\"editor\":{\"id\":\"2132\"},\"field\":\"type\",\"formatter\":{\"id\":\"2131\"},\"title\":\"type\",\"width\":0},\"id\":\"2133\",\"type\":\"TableColumn\"}],\"root_ids\":[\"2025\",\"2343\"]},\"title\":\"Bokeh Application\",\"version\":\"2.4.3\"}};\n",
       "    var render_items = [{\"docid\":\"6d4c6333-4f36-431a-8a3c-af028c57aceb\",\"root_ids\":[\"2025\"],\"roots\":{\"2025\":\"19dfc5b7-afa9-49d9-b81e-44faaa38e958\"}}];\n",
       "    root.Bokeh.embed.embed_items_notebook(docs_json, render_items);\n",
       "    for (const render_item of render_items) {\n",
       "      for (const root_id of render_item.root_ids) {\n",
       "\tconst id_el = document.getElementById(root_id)\n",
       "\tif (id_el.children.length && (id_el.children[0].className === 'bk-root')) {\n",
       "\t  const root_el = id_el.children[0]\n",
       "\t  root_el.id = root_el.id + '-rendered'\n",
       "\t}\n",
       "      }\n",
       "    }\n",
       "  }\n",
       "  if (root.Bokeh !== undefined && root.Bokeh.Panel !== undefined && ( root['Plotly'] !== undefined) && ( root['Tabulator'] !== undefined)) {\n",
       "    embed_document(root);\n",
       "  } else {\n",
       "    var attempts = 0;\n",
       "    var timer = setInterval(function(root) {\n",
       "      if (root.Bokeh !== undefined && root.Bokeh.Panel !== undefined && (root['Plotly'] !== undefined) && (root['Tabulator'] !== undefined)) {\n",
       "        clearInterval(timer);\n",
       "        embed_document(root);\n",
       "      } else if (document.readyState == \"complete\") {\n",
       "        attempts++;\n",
       "        if (attempts > 200) {\n",
       "          clearInterval(timer);\n",
       "          console.log(\"Bokeh: ERROR: Unable to run BokehJS code because BokehJS library is missing\");\n",
       "        }\n",
       "      }\n",
       "    }, 25, root)\n",
       "  }\n",
       "})(window);</script>"
      ],
      "text/plain": [
       "Row(sizing_mode='stretch_width')\n",
       "    [0] Column(width=350)\n",
       "        [0] Markdown(str, sizing_mode='stretch_width')\n",
       "        [1] Accordion(sizing_mode='stretch_width')\n",
       "            [0] Tabulator(formatters={'key': BooleanFormatter(i...}, name=\"<i class='fa f..., show_index=False, sizing_mode='stretch_width', value=              ...)\n",
       "            [1] Tabulator(formatters={'key': BooleanFormatter(i...}, name=\"<i class='fa f..., show_index=False, sizing_mode='stretch_width', value=              ...)\n",
       "            [2] Tabulator(formatters={'key': BooleanFormatter(i...}, name=\"<i class='fa f..., show_index=False, sizing_mode='stretch_width', value=              ...)\n",
       "            [3] Tabulator(formatters={'key': BooleanFormatter(i...}, name=\"<i class='fa f..., show_index=False, sizing_mode='stretch_width', value=             c...)\n",
       "            [4] Tabulator(formatters={'key': BooleanFormatter(i...}, name=\"<i class='fa f..., show_index=False, sizing_mode='stretch_width', value=              ...)\n",
       "            [5] Tabulator(formatters={'key': BooleanFormatter(i...}, name=\"<i class='fa f..., show_index=False, sizing_mode='stretch_width', value=            column  ...)\n",
       "            [6] Tabulator(formatters={'key': BooleanFormatter(i...}, name=\"<i class='fa f..., show_index=False, sizing_mode='stretch_width', value=              ...)\n",
       "            [7] Tabulator(formatters={'key': BooleanFormatter(i...}, name=\"<i class='fa f..., show_index=False, sizing_mode='stretch_width', value=              ...)\n",
       "            [8] Tabulator(formatters={'key': BooleanFormatter(i...}, name=\"<i class='fa f..., show_index=False, sizing_mode='stretch_width', value=              ...)\n",
       "            [9] Tabulator(formatters={'key': BooleanFormatter(i...}, name=\"<i class='fa f..., show_index=False, sizing_mode='stretch_width', value=     column   ...)\n",
       "    [1] Column(sizing_mode='stretch_width')\n",
       "        [0] Markdown(str, sizing_mode='stretch_width')\n",
       "        [1] Row(sizing_mode='stretch_width')\n",
       "            [0] TextInput(name='Title', placeholder='Enter a string f..., width=300)\n",
       "            [1] Select(name='Measurements', options=['access', 'active_session...], value='access', width=300)\n",
       "            [2] Select(name='Time range', options={'Last 30 minutes': 30, ...}, value=30, width=300)\n",
       "            [3] Select(name='Auto refresh', options={'Off': 'None', ...}, value='None', width=300)\n",
       "        [2] Card(title='Task', width=1200)\n",
       "            [0] Row(sizing_mode='stretch_width')\n",
       "                [0] Column(css_classes=['task_box'], sizing_mode='stretch_width')\n",
       "                    [0] Row(sizing_mode='stretch_width')\n",
       "                        [0] Select(name='Task', options=['Choose a task', ...], value='Choose a task', width=300)\n",
       "                    [1] Row(sizing_mode='stretch_width')\n",
       "                    [2] Row(sizing_mode='stretch_width')\n",
       "                [1] Button(name='Add task', width=100)\n",
       "        [3] Card(title='Split', width=1200)\n",
       "            [0] Row(sizing_mode='stretch_width')\n",
       "                [0] Select(name='Split', options=['None', 'column', ...], value='None', width=300)\n",
       "                [1] Select(name='Split basis', width=300)\n",
       "        [4] Button(name='Draw', width=100)"
      ]
     },
     "metadata": {
      "application/vnd.holoviews_exec.v0+json": {
       "id": "2025"
      }
     },
     "output_type": "display_data"
    }
   ],
   "source": [
    "from visualize_from_language import *\n",
    "\n",
    "\n",
    "# import eda\n",
    "# import pandas as pd\n",
    "conn = connect()#db_type = 'postgres', db_host='localhost', db_post='5432',...)\n",
    "visualize(conn = conn)\n",
    "\n",
    "#query(conn = conn, \"ALTER SYSTEM SET max_connections = 25;\")\n",
    "#visualize(conn = conn)\n",
    "\n",
    "eda.query(conn = conn, \"SHOW max_connections;\")\n",
    "\n",
    "\n"
   ]
  },
  {
   "cell_type": "code",
   "execution_count": 4,
   "metadata": {
    "tags": []
   },
   "outputs": [
    {
     "name": "stdout",
     "output_type": "stream",
     "text": [
      "<class 'dict'>\n"
     ]
    },
    {
     "data": {},
     "metadata": {},
     "output_type": "display_data"
    },
    {
     "data": {
      "application/vnd.holoviews_exec.v0+json": "",
      "text/html": [
       "<div id='1605'>\n",
       "  <div class=\"bk-root\" id=\"e1dd8c49-287e-44cd-b2c7-287e2fdd46c4\" data-root-id=\"1605\"></div>\n",
       "</div>\n",
       "<script type=\"application/javascript\">(function(root) {\n",
       "  function embed_document(root) {\n",
       "    var docs_json = {\"3ebc5104-7457-458a-b4a3-01c6613a3e2a\":{\"defs\":[{\"extends\":null,\"module\":null,\"name\":\"ReactiveHTML1\",\"overrides\":[],\"properties\":[]},{\"extends\":null,\"module\":null,\"name\":\"FlexBox1\",\"overrides\":[],\"properties\":[{\"default\":\"flex-start\",\"kind\":null,\"name\":\"align_content\"},{\"default\":\"flex-start\",\"kind\":null,\"name\":\"align_items\"},{\"default\":\"row\",\"kind\":null,\"name\":\"flex_direction\"},{\"default\":\"wrap\",\"kind\":null,\"name\":\"flex_wrap\"},{\"default\":\"flex-start\",\"kind\":null,\"name\":\"justify_content\"}]},{\"extends\":null,\"module\":null,\"name\":\"GridStack1\",\"overrides\":[],\"properties\":[{\"default\":\"warn\",\"kind\":null,\"name\":\"mode\"},{\"default\":null,\"kind\":null,\"name\":\"ncols\"},{\"default\":null,\"kind\":null,\"name\":\"nrows\"},{\"default\":true,\"kind\":null,\"name\":\"allow_resize\"},{\"default\":true,\"kind\":null,\"name\":\"allow_drag\"},{\"default\":[],\"kind\":null,\"name\":\"state\"}]},{\"extends\":null,\"module\":null,\"name\":\"click1\",\"overrides\":[],\"properties\":[{\"default\":\"\",\"kind\":null,\"name\":\"terminal_output\"},{\"default\":\"\",\"kind\":null,\"name\":\"debug_name\"},{\"default\":0,\"kind\":null,\"name\":\"clears\"}]},{\"extends\":null,\"module\":null,\"name\":\"NotificationAreaBase1\",\"overrides\":[],\"properties\":[{\"default\":\"bottom-right\",\"kind\":null,\"name\":\"position\"},{\"default\":0,\"kind\":null,\"name\":\"_clear\"}]},{\"extends\":null,\"module\":null,\"name\":\"NotificationArea1\",\"overrides\":[],\"properties\":[{\"default\":[],\"kind\":null,\"name\":\"notifications\"},{\"default\":\"bottom-right\",\"kind\":null,\"name\":\"position\"},{\"default\":0,\"kind\":null,\"name\":\"_clear\"},{\"default\":[{\"background\":\"#ffc107\",\"icon\":{\"className\":\"fas fa-exclamation-triangle\",\"color\":\"white\",\"tagName\":\"i\"},\"type\":\"warning\"},{\"background\":\"#007bff\",\"icon\":{\"className\":\"fas fa-info-circle\",\"color\":\"white\",\"tagName\":\"i\"},\"type\":\"info\"}],\"kind\":null,\"name\":\"types\"}]},{\"extends\":null,\"module\":null,\"name\":\"Notification\",\"overrides\":[],\"properties\":[{\"default\":null,\"kind\":null,\"name\":\"background\"},{\"default\":3000,\"kind\":null,\"name\":\"duration\"},{\"default\":null,\"kind\":null,\"name\":\"icon\"},{\"default\":\"\",\"kind\":null,\"name\":\"message\"},{\"default\":null,\"kind\":null,\"name\":\"notification_type\"},{\"default\":false,\"kind\":null,\"name\":\"_destroyed\"}]},{\"extends\":null,\"module\":null,\"name\":\"TemplateActions1\",\"overrides\":[],\"properties\":[{\"default\":0,\"kind\":null,\"name\":\"open_modal\"},{\"default\":0,\"kind\":null,\"name\":\"close_modal\"}]},{\"extends\":null,\"module\":null,\"name\":\"MaterialTemplateActions1\",\"overrides\":[],\"properties\":[{\"default\":0,\"kind\":null,\"name\":\"open_modal\"},{\"default\":0,\"kind\":null,\"name\":\"close_modal\"}]}],\"roots\":{\"references\":[{\"attributes\":{},\"id\":\"1694\",\"type\":\"CheckboxEditor\"},{\"attributes\":{\"children\":[{\"id\":\"1818\"}],\"css_classes\":[\"card-header-row\"],\"margin\":[0,0,0,0],\"name\":\"Row00285\",\"sizing_mode\":\"stretch_width\"},\"id\":\"1817\",\"type\":\"Row\"},{\"attributes\":{\"editor\":{\"id\":\"1694\"},\"field\":\"key\",\"formatter\":{\"id\":\"1695\"},\"title\":\"key\",\"width\":0},\"id\":\"1696\",\"type\":\"TableColumn\"},{\"attributes\":{\"indices\":[]},\"id\":\"1820\",\"type\":\"Selection\"},{\"attributes\":{\"css_classes\":[\"card-title\"],\"margin\":[5,0,5,0],\"name\":\"HTML00287\",\"sizing_mode\":\"stretch_width\",\"text\":\"&lt;i class=&#x27;fa fa-table&#x27;&gt;&lt;/i&gt; Waiting sessions\"},\"id\":\"1818\",\"type\":\"panel.models.markup.HTML\"},{\"attributes\":{},\"id\":\"1752\",\"type\":\"StringFormatter\"},{\"attributes\":{},\"id\":\"1753\",\"type\":\"StringEditor\"},{\"attributes\":{\"editor\":{\"id\":\"1753\"},\"field\":\"column\",\"formatter\":{\"id\":\"1752\"},\"title\":\"column\",\"width\":0},\"id\":\"1754\",\"type\":\"TableColumn\"},{\"attributes\":{\"columns\":[{\"id\":\"1823\"},{\"id\":\"1828\"},{\"id\":\"1834\"}],\"configuration\":{\"columns\":[{\"field\":\"column\"},{\"field\":\"type\"},{\"field\":\"key\",\"sorter\":\"boolean\"}],\"dataTree\":false,\"selectable\":true},\"layout\":\"fit_data_table\",\"margin\":[5,10,5,10],\"name\":\"<i class='fa fa-table'></i> Waiting sessions\",\"page\":1,\"page_size\":20,\"select_mode\":true,\"selectable_rows\":null,\"sizing_mode\":\"stretch_width\",\"source\":{\"id\":\"1819\"},\"styles\":{\"data\":{},\"id\":\"2333c48596564e10a6994470605c00d9\"},\"subscribed_events\":[\"cell-click\",\"table-edit\"],\"theme_url\":\"https://cdn.jsdelivr.net/npm/@holoviz/panel@0.14.2/dist/bundled/datatabulator/tabulator-tables@5.3.2/dist/css/\"},\"id\":\"1837\",\"type\":\"panel.models.tabulator.DataTabulator\"},{\"attributes\":{\"data\":{\"column\":[\"Activity\",\"Client\",\"IO\",\"IPC\",\"LWLock\",\"Lock\",\"Timeout\"],\"index\":[0,1,2,3,4,5,6],\"key\":[false,false,false,false,false,false,false],\"type\":[\"integer\",\"integer\",\"integer\",\"integer\",\"integer\",\"integer\",\"integer\"]},\"selected\":{\"id\":\"1820\"},\"selection_policy\":{\"id\":\"1881\"}},\"id\":\"1819\",\"type\":\"ColumnDataSource\"},{\"attributes\":{\"editor\":{\"id\":\"1648\"},\"field\":\"key\",\"formatter\":{\"id\":\"1649\"},\"title\":\"key\",\"width\":0},\"id\":\"1650\",\"type\":\"TableColumn\"},{\"attributes\":{},\"id\":\"1869\",\"type\":\"UnionRenderers\"},{\"attributes\":{},\"id\":\"1757\",\"type\":\"StringFormatter\"},{\"attributes\":{},\"id\":\"1758\",\"type\":\"StringEditor\"},{\"attributes\":{},\"id\":\"1821\",\"type\":\"StringFormatter\"},{\"attributes\":{\"editor\":{\"id\":\"1758\"},\"field\":\"type\",\"formatter\":{\"id\":\"1757\"},\"title\":\"type\",\"width\":0},\"id\":\"1759\",\"type\":\"TableColumn\"},{\"attributes\":{},\"id\":\"1822\",\"type\":\"StringEditor\"},{\"attributes\":{\"editor\":{\"id\":\"1822\"},\"field\":\"column\",\"formatter\":{\"id\":\"1821\"},\"title\":\"column\",\"width\":0},\"id\":\"1823\",\"type\":\"TableColumn\"},{\"attributes\":{},\"id\":\"1877\",\"type\":\"UnionRenderers\"},{\"attributes\":{\"children\":[{\"id\":\"1609\"},{\"id\":\"1632\"},{\"id\":\"1655\"},{\"id\":\"1678\"},{\"id\":\"1701\"},{\"id\":\"1724\"},{\"id\":\"1747\"},{\"id\":\"1770\"},{\"id\":\"1793\"},{\"id\":\"1816\"}],\"margin\":[0,0,0,0],\"name\":\"Accordion00240\",\"sizing_mode\":\"stretch_width\"},\"id\":\"1608\",\"type\":\"Column\"},{\"attributes\":{\"active_header_background\":\"#ccc\",\"button_css_classes\":[\"card-button\"],\"children\":[{\"id\":\"1702\"},{\"id\":\"1722\"}],\"css_classes\":[\"accordion\"],\"header_background\":\"\",\"header_color\":\"\",\"header_css_classes\":[\"accordion-header\"],\"margin\":[0,5,0,5],\"name\":\"Card00266\",\"sizing_mode\":\"stretch_width\"},\"id\":\"1701\",\"type\":\"panel.models.layout.Card\"},{\"attributes\":{\"editor\":{\"id\":\"1666\"},\"field\":\"type\",\"formatter\":{\"id\":\"1665\"},\"title\":\"type\",\"width\":0},\"id\":\"1667\",\"type\":\"TableColumn\"},{\"attributes\":{\"icon\":\"check-circle-o\"},\"id\":\"1764\",\"type\":\"BooleanFormatter\"},{\"attributes\":{},\"id\":\"1763\",\"type\":\"CheckboxEditor\"},{\"attributes\":{},\"id\":\"1826\",\"type\":\"StringFormatter\"},{\"attributes\":{},\"id\":\"1827\",\"type\":\"StringEditor\"},{\"attributes\":{\"editor\":{\"id\":\"1827\"},\"field\":\"type\",\"formatter\":{\"id\":\"1826\"},\"title\":\"type\",\"width\":0},\"id\":\"1828\",\"type\":\"TableColumn\"},{\"attributes\":{\"editor\":{\"id\":\"1763\"},\"field\":\"key\",\"formatter\":{\"id\":\"1764\"},\"title\":\"key\",\"width\":0},\"id\":\"1765\",\"type\":\"TableColumn\"},{\"attributes\":{\"children\":[{\"id\":\"1703\"}],\"css_classes\":[\"card-header-row\"],\"margin\":[0,0,0,0],\"name\":\"Row00265\",\"sizing_mode\":\"stretch_width\"},\"id\":\"1702\",\"type\":\"Row\"},{\"attributes\":{},\"id\":\"1871\",\"type\":\"UnionRenderers\"},{\"attributes\":{\"indices\":[]},\"id\":\"1705\",\"type\":\"Selection\"},{\"attributes\":{\"css_classes\":[\"card-title\"],\"margin\":[5,0,5,0],\"name\":\"HTML00267\",\"sizing_mode\":\"stretch_width\",\"text\":\"&lt;i class=&#x27;fa fa-table&#x27;&gt;&lt;/i&gt; Database statistics\"},\"id\":\"1703\",\"type\":\"panel.models.markup.HTML\"},{\"attributes\":{\"icon\":\"check-circle-o\"},\"id\":\"1833\",\"type\":\"BooleanFormatter\"},{\"attributes\":{},\"id\":\"1832\",\"type\":\"CheckboxEditor\"},{\"attributes\":{\"icon\":\"check-circle-o\"},\"id\":\"1649\",\"type\":\"BooleanFormatter\"},{\"attributes\":{\"columns\":[{\"id\":\"1708\"},{\"id\":\"1713\"},{\"id\":\"1719\"}],\"configuration\":{\"columns\":[{\"field\":\"column\"},{\"field\":\"type\"},{\"field\":\"key\",\"sorter\":\"boolean\"}],\"dataTree\":false,\"selectable\":true},\"layout\":\"fit_data_table\",\"margin\":[5,10,5,10],\"name\":\"<i class='fa fa-table'></i> Database statistics\",\"page\":1,\"page_size\":20,\"select_mode\":true,\"selectable_rows\":null,\"sizing_mode\":\"stretch_width\",\"source\":{\"id\":\"1704\"},\"styles\":{\"data\":{},\"id\":\"342f71236a7a4ccaa5f38ff66e30b28b\"},\"subscribed_events\":[\"cell-click\",\"table-edit\"],\"theme_url\":\"https://cdn.jsdelivr.net/npm/@holoviz/panel@0.14.2/dist/bundled/datatabulator/tabulator-tables@5.3.2/dist/css/\"},\"id\":\"1722\",\"type\":\"panel.models.tabulator.DataTabulator\"},{\"attributes\":{},\"id\":\"1648\",\"type\":\"CheckboxEditor\"},{\"attributes\":{\"data\":{\"column\":[\"active_time\",\"blk_read_time\",\"blk_write_time\",\"blks_hit\",\"blks_read\",\"conflicts\",\"datname\",\"deadlocks\",\"idle_in_transaction_time\",\"numbackends\",\"session_time\",\"sessions\",\"sessions_abandoned\",\"sessions_fatal\",\"sessions_killed\",\"temp_bytes\",\"temp_files\",\"tup_deleted\",\"tup_fetched\",\"tup_inserted\",\"tup_returned\",\"tup_updated\",\"xact_commit\",\"xact_rollback\",\"datid\"],\"index\":[0,1,2,3,4,5,6,7,8,9,10,11,12,13,14,15,16,17,18,19,20,21,22,23,0],\"key\":[false,false,false,false,false,false,false,false,false,false,false,false,false,false,false,false,false,false,false,false,false,false,false,false,true],\"type\":[\"float\",\"float\",\"float\",\"integer\",\"integer\",\"integer\",\"string\",\"integer\",\"float\",\"integer\",\"float\",\"integer\",\"integer\",\"integer\",\"integer\",\"integer\",\"integer\",\"integer\",\"integer\",\"integer\",\"integer\",\"integer\",\"integer\",\"integer\",\"string\"]},\"selected\":{\"id\":\"1705\"},\"selection_policy\":{\"id\":\"1871\"}},\"id\":\"1704\",\"type\":\"ColumnDataSource\"},{\"attributes\":{\"editor\":{\"id\":\"1832\"},\"field\":\"key\",\"formatter\":{\"id\":\"1833\"},\"title\":\"key\",\"width\":0},\"id\":\"1834\",\"type\":\"TableColumn\"},{\"attributes\":{},\"id\":\"1665\",\"type\":\"StringFormatter\"},{\"attributes\":{\"editor\":{\"id\":\"1615\"},\"field\":\"column\",\"formatter\":{\"id\":\"1614\"},\"title\":\"column\",\"width\":0},\"id\":\"1616\",\"type\":\"TableColumn\"},{\"attributes\":{},\"id\":\"1706\",\"type\":\"StringFormatter\"},{\"attributes\":{},\"id\":\"1707\",\"type\":\"StringEditor\"},{\"attributes\":{},\"id\":\"1614\",\"type\":\"StringFormatter\"},{\"attributes\":{\"editor\":{\"id\":\"1707\"},\"field\":\"column\",\"formatter\":{\"id\":\"1706\"},\"title\":\"column\",\"width\":0},\"id\":\"1708\",\"type\":\"TableColumn\"},{\"attributes\":{\"active_header_background\":\"#ccc\",\"button_css_classes\":[\"card-button\"],\"children\":[{\"id\":\"1771\"},{\"id\":\"1791\"}],\"css_classes\":[\"accordion\"],\"header_background\":\"\",\"header_color\":\"\",\"header_css_classes\":[\"accordion-header\"],\"margin\":[0,5,0,5],\"name\":\"Card00278\",\"sizing_mode\":\"stretch_width\"},\"id\":\"1770\",\"type\":\"panel.models.layout.Card\"},{\"attributes\":{},\"id\":\"1615\",\"type\":\"StringEditor\"},{\"attributes\":{},\"id\":\"1873\",\"type\":\"UnionRenderers\"},{\"attributes\":{\"css_classes\":[\"markdown\"],\"margin\":[5,5,5,5],\"name\":\"Markdown00244\",\"sizing_mode\":\"stretch_width\",\"text\":\"&lt;h3&gt;Visualization Language Generation&lt;/h3&gt;\"},\"id\":\"1840\",\"type\":\"panel.models.markup.HTML\"},{\"attributes\":{\"editor\":{\"id\":\"1661\"},\"field\":\"column\",\"formatter\":{\"id\":\"1660\"},\"title\":\"column\",\"width\":0},\"id\":\"1662\",\"type\":\"TableColumn\"},{\"attributes\":{},\"id\":\"1867\",\"type\":\"UnionRenderers\"},{\"attributes\":{\"active_header_background\":\"#ccc\",\"button_css_classes\":[\"card-button\"],\"children\":[{\"id\":\"1633\"},{\"id\":\"1653\"}],\"css_classes\":[\"accordion\"],\"header_background\":\"\",\"header_color\":\"\",\"header_css_classes\":[\"accordion-header\"],\"margin\":[0,5,0,5],\"name\":\"Card00254\",\"sizing_mode\":\"stretch_width\"},\"id\":\"1632\",\"type\":\"panel.models.layout.Card\"},{\"attributes\":{\"margin\":[5,10,5,10],\"max_length\":5000,\"min_width\":300,\"placeholder\":\"Enter a string for title of visualization\",\"title\":\"Title\",\"width\":300},\"id\":\"1842\",\"type\":\"TextInput\"},{\"attributes\":{\"children\":[{\"id\":\"1772\"}],\"css_classes\":[\"card-header-row\"],\"margin\":[0,0,0,0],\"name\":\"Row00277\",\"sizing_mode\":\"stretch_width\"},\"id\":\"1771\",\"type\":\"Row\"},{\"attributes\":{},\"id\":\"1711\",\"type\":\"StringFormatter\"},{\"attributes\":{},\"id\":\"1712\",\"type\":\"StringEditor\"},{\"attributes\":{\"margin\":[5,10,5,10],\"min_width\":300,\"options\":[\"access\",\"active_sessions\",\"bgwriter\",\"conflicts\",\"database_statistics\",\"io\",\"os_metric\",\"query_statistics\",\"sessions\",\"waiting_sessions\"],\"title\":\"Measurements\",\"value\":\"access\",\"width\":300},\"id\":\"1843\",\"type\":\"panel.models.widgets.CustomSelect\"},{\"attributes\":{\"editor\":{\"id\":\"1712\"},\"field\":\"type\",\"formatter\":{\"id\":\"1711\"},\"title\":\"type\",\"width\":0},\"id\":\"1713\",\"type\":\"TableColumn\"},{\"attributes\":{\"indices\":[]},\"id\":\"1774\",\"type\":\"Selection\"},{\"attributes\":{\"css_classes\":[\"card-title\"],\"margin\":[5,0,5,0],\"name\":\"HTML00279\",\"sizing_mode\":\"stretch_width\",\"text\":\"&lt;i class=&#x27;fa fa-table&#x27;&gt;&lt;/i&gt; Query statistics\"},\"id\":\"1772\",\"type\":\"panel.models.markup.HTML\"},{\"attributes\":{},\"id\":\"1643\",\"type\":\"StringEditor\"},{\"attributes\":{\"columns\":[{\"id\":\"1777\"},{\"id\":\"1782\"},{\"id\":\"1788\"}],\"configuration\":{\"columns\":[{\"field\":\"column\"},{\"field\":\"type\"},{\"field\":\"key\",\"sorter\":\"boolean\"}],\"dataTree\":false,\"selectable\":true},\"layout\":\"fit_data_table\",\"margin\":[5,10,5,10],\"name\":\"<i class='fa fa-table'></i> Query statistics\",\"page\":1,\"page_size\":20,\"select_mode\":true,\"selectable_rows\":null,\"sizing_mode\":\"stretch_width\",\"source\":{\"id\":\"1773\"},\"styles\":{\"data\":{},\"id\":\"da268274888447ea8811b0634ac03052\"},\"subscribed_events\":[\"cell-click\",\"table-edit\"],\"theme_url\":\"https://cdn.jsdelivr.net/npm/@holoviz/panel@0.14.2/dist/bundled/datatabulator/tabulator-tables@5.3.2/dist/css/\"},\"id\":\"1791\",\"type\":\"panel.models.tabulator.DataTabulator\"},{\"attributes\":{\"editor\":{\"id\":\"1643\"},\"field\":\"type\",\"formatter\":{\"id\":\"1642\"},\"title\":\"type\",\"width\":0},\"id\":\"1644\",\"type\":\"TableColumn\"},{\"attributes\":{\"margin\":[5,10,5,10],\"min_width\":300,\"options\":[[\"None\",\"Off\"],[\"300000\",\"Every 5 minutes\"],[\"600000\",\"Every 10 minutes\"],[\"900000\",\"Every 15 minutes\"],[\"1800000\",\"Every 30 minutes\"]],\"title\":\"Auto refresh\",\"value\":\"None\",\"width\":300},\"id\":\"1845\",\"type\":\"panel.models.widgets.CustomSelect\"},{\"attributes\":{\"data\":{\"column\":[\"blk_read_time\",\"blk_write_time\",\"calls\",\"io\",\"latency\",\"local_blks_dirtied\",\"local_blks_hit\",\"local_blks_read\",\"local_blks_written\",\"query\",\"shared_blks_dirtied\",\"shared_blks_hit\",\"shared_blks_read\",\"shared_blks_written\",\"temp_blks_read\",\"temp_blks_written\",\"wait_time\",\"queryid\"],\"index\":[0,1,2,3,4,5,6,7,8,9,10,11,12,13,14,15,16,0],\"key\":[false,false,false,false,false,false,false,false,false,false,false,false,false,false,false,false,false,true],\"type\":[\"float\",\"float\",\"integer\",\"float\",\"float\",\"integer\",\"integer\",\"integer\",\"integer\",\"string\",\"integer\",\"integer\",\"integer\",\"integer\",\"integer\",\"integer\",\"float\",\"string\"]},\"selected\":{\"id\":\"1774\"},\"selection_policy\":{\"id\":\"1877\"}},\"id\":\"1773\",\"type\":\"ColumnDataSource\"},{\"attributes\":{\"margin\":[5,10,5,10],\"min_width\":300,\"options\":[[\"30\",\"Last 30 minutes\"],[\"60\",\"Last hour\"],[\"240\",\"Last 4 hours\"],[\"720\",\"Last 12 hours\"],[\"1440\",\"Last 24 hours\"],[\"-1\",\"Custom\"]],\"title\":\"Time range\",\"value\":\"30\",\"width\":300},\"id\":\"1844\",\"type\":\"panel.models.widgets.CustomSelect\"},{\"attributes\":{},\"id\":\"1642\",\"type\":\"StringFormatter\"},{\"attributes\":{\"icon\":\"check-circle-o\"},\"id\":\"1718\",\"type\":\"BooleanFormatter\"},{\"attributes\":{},\"id\":\"1875\",\"type\":\"UnionRenderers\"},{\"attributes\":{\"children\":[{\"id\":\"1851\"},{\"id\":\"1853\"},{\"id\":\"1854\"}],\"css_classes\":[\"task_box\"],\"margin\":[0,0,0,0],\"name\":\"Column00216\",\"sizing_mode\":\"stretch_width\"},\"id\":\"1850\",\"type\":\"Column\"},{\"attributes\":{},\"id\":\"1717\",\"type\":\"CheckboxEditor\"},{\"attributes\":{\"editor\":{\"id\":\"1717\"},\"field\":\"key\",\"formatter\":{\"id\":\"1718\"},\"title\":\"key\",\"width\":0},\"id\":\"1719\",\"type\":\"TableColumn\"},{\"attributes\":{\"children\":[{\"id\":\"1852\"}],\"margin\":[0,0,0,0],\"name\":\"Row00213\",\"sizing_mode\":\"stretch_width\"},\"id\":\"1851\",\"type\":\"Row\"},{\"attributes\":{\"editor\":{\"id\":\"1638\"},\"field\":\"column\",\"formatter\":{\"id\":\"1637\"},\"title\":\"column\",\"width\":0},\"id\":\"1639\",\"type\":\"TableColumn\"},{\"attributes\":{\"css_classes\":[\"card-title\"],\"margin\":[5,0,5,0],\"name\":\"HTML00220\",\"sizing_mode\":\"stretch_width\",\"text\":\"Task\"},\"id\":\"1848\",\"type\":\"panel.models.markup.HTML\"},{\"attributes\":{},\"id\":\"1775\",\"type\":\"StringFormatter\"},{\"attributes\":{\"children\":[{\"id\":\"1848\"}],\"css_classes\":[\"card-header-row\"],\"margin\":[0,0,0,0],\"name\":\"Row00218\",\"sizing_mode\":\"stretch_width\"},\"id\":\"1847\",\"type\":\"Row\"},{\"attributes\":{},\"id\":\"1637\",\"type\":\"StringFormatter\"},{\"attributes\":{},\"id\":\"1776\",\"type\":\"StringEditor\"},{\"attributes\":{\"editor\":{\"id\":\"1776\"},\"field\":\"column\",\"formatter\":{\"id\":\"1775\"},\"title\":\"column\",\"width\":0},\"id\":\"1777\",\"type\":\"TableColumn\"},{\"attributes\":{},\"id\":\"1638\",\"type\":\"StringEditor\"},{\"attributes\":{\"columns\":[{\"id\":\"1639\"},{\"id\":\"1644\"},{\"id\":\"1650\"}],\"configuration\":{\"columns\":[{\"field\":\"column\"},{\"field\":\"type\"},{\"field\":\"key\",\"sorter\":\"boolean\"}],\"dataTree\":false,\"selectable\":true},\"layout\":\"fit_data_table\",\"margin\":[5,10,5,10],\"name\":\"<i class='fa fa-table'></i> Active sessions\",\"page\":1,\"page_size\":20,\"select_mode\":true,\"selectable_rows\":null,\"sizing_mode\":\"stretch_width\",\"source\":{\"id\":\"1635\"},\"styles\":{\"data\":{},\"id\":\"8fdae39ce60d40afa3dac2bcb7ece026\"},\"subscribed_events\":[\"cell-click\",\"table-edit\"],\"theme_url\":\"https://cdn.jsdelivr.net/npm/@holoviz/panel@0.14.2/dist/bundled/datatabulator/tabulator-tables@5.3.2/dist/css/\"},\"id\":\"1653\",\"type\":\"panel.models.tabulator.DataTabulator\"},{\"attributes\":{},\"id\":\"1780\",\"type\":\"StringFormatter\"},{\"attributes\":{\"data\":{\"column\":[\"active\",\"idle\",\"idle in transaction\",\"idle in transaction (aborted)\"],\"index\":[0,1,2,3],\"key\":[false,false,false,false],\"type\":[\"integer\",\"integer\",\"integer\",\"integer\"]},\"selected\":{\"id\":\"1636\"},\"selection_policy\":{\"id\":\"1865\"}},\"id\":\"1635\",\"type\":\"ColumnDataSource\"},{\"attributes\":{},\"id\":\"1781\",\"type\":\"StringEditor\"},{\"attributes\":{\"editor\":{\"id\":\"1781\"},\"field\":\"type\",\"formatter\":{\"id\":\"1780\"},\"title\":\"type\",\"width\":0},\"id\":\"1782\",\"type\":\"TableColumn\"},{\"attributes\":{\"margin\":[0,0,0,0],\"name\":\"Row00214\",\"sizing_mode\":\"stretch_width\"},\"id\":\"1853\",\"type\":\"Row\"},{\"attributes\":{\"indices\":[]},\"id\":\"1636\",\"type\":\"Selection\"},{\"attributes\":{\"margin\":[5,10,5,10],\"min_width\":300,\"options\":[\"Choose a task\",\"metrics\",\"historical comparisons\",\"query analysis\",\"distribution\",\"correlation\",\"query ranking\",\"cause analysis\",\"anomaly detection\",\"delta between predicted and actual value\"],\"title\":\"Task\",\"value\":\"Choose a task\",\"width\":300},\"id\":\"1852\",\"type\":\"panel.models.widgets.CustomSelect\"},{\"attributes\":{\"css_classes\":[\"card-title\"],\"margin\":[5,0,5,0],\"name\":\"HTML00255\",\"sizing_mode\":\"stretch_width\",\"text\":\"&lt;i class=&#x27;fa fa-table&#x27;&gt;&lt;/i&gt; Active sessions\"},\"id\":\"1634\",\"type\":\"panel.models.markup.HTML\"},{\"attributes\":{\"margin\":[0,0,0,0],\"name\":\"Row00215\",\"sizing_mode\":\"stretch_width\"},\"id\":\"1854\",\"type\":\"Row\"},{\"attributes\":{},\"id\":\"1619\",\"type\":\"StringFormatter\"},{\"attributes\":{\"children\":[{\"id\":\"1860\"},{\"id\":\"1861\"}],\"margin\":[0,0,0,0],\"name\":\"Row00224\",\"sizing_mode\":\"stretch_width\"},\"id\":\"1859\",\"type\":\"Row\"},{\"attributes\":{\"children\":[{\"id\":\"1634\"}],\"css_classes\":[\"card-header-row\"],\"margin\":[0,0,0,0],\"name\":\"Row00253\",\"sizing_mode\":\"stretch_width\"},\"id\":\"1633\",\"type\":\"Row\"},{\"attributes\":{\"data\":{\"column\":[\"analyze_count\",\"autoanalyze_count\",\"autovacuum_count\",\"idx_scan\",\"idx_tup_fetch\",\"idx_tup_read\",\"n_dead_tup\",\"n_live_tup\",\"n_mod_since_analyze\",\"n_tup_del\",\"n_tup_hot_upd\",\"n_tup_ins\",\"n_tup_upd\",\"seq_scan\",\"seq_tup_read\",\"vacuum_count\"],\"index\":[0,1,2,3,4,5,6,7,8,9,10,11,12,13,14,15],\"key\":[false,false,false,false,false,false,false,false,false,false,false,false,false,false,false,false],\"type\":[\"float\",\"float\",\"float\",\"float\",\"float\",\"float\",\"float\",\"float\",\"float\",\"float\",\"float\",\"float\",\"float\",\"float\",\"float\",\"float\"]},\"selected\":{\"id\":\"1613\"},\"selection_policy\":{\"id\":\"1863\"}},\"id\":\"1612\",\"type\":\"ColumnDataSource\"},{\"attributes\":{\"icon\":\"check-circle-o\"},\"id\":\"1787\",\"type\":\"BooleanFormatter\"},{\"attributes\":{},\"id\":\"1666\",\"type\":\"StringEditor\"},{\"attributes\":{},\"id\":\"1786\",\"type\":\"CheckboxEditor\"},{\"attributes\":{\"css_classes\":[\"markdown\"],\"margin\":[5,5,5,5],\"name\":\"Markdown00241\",\"sizing_mode\":\"stretch_width\",\"text\":\"&lt;h3&gt;Performance Tables&lt;/h3&gt;\"},\"id\":\"1607\",\"type\":\"panel.models.markup.HTML\"},{\"attributes\":{\"active_header_background\":\"\",\"button_css_classes\":[\"card-button\"],\"children\":[{\"id\":\"1847\"},{\"id\":\"1849\"}],\"collapsed\":false,\"css_classes\":[\"card\"],\"header_background\":\"\",\"header_color\":\"\",\"header_css_classes\":[\"card-header\"],\"margin\":[5,5,5,5],\"min_width\":1200,\"name\":\"Card00219\",\"width\":1200},\"id\":\"1846\",\"type\":\"panel.models.layout.Card\"},{\"attributes\":{\"editor\":{\"id\":\"1786\"},\"field\":\"key\",\"formatter\":{\"id\":\"1787\"},\"title\":\"key\",\"width\":0},\"id\":\"1788\",\"type\":\"TableColumn\"},{\"attributes\":{\"active_header_background\":\"#ccc\",\"button_css_classes\":[\"card-button\"],\"children\":[{\"id\":\"1725\"},{\"id\":\"1745\"}],\"css_classes\":[\"accordion\"],\"header_background\":\"\",\"header_color\":\"\",\"header_css_classes\":[\"accordion-header\"],\"margin\":[0,5,0,5],\"name\":\"Card00270\",\"sizing_mode\":\"stretch_width\"},\"id\":\"1724\",\"type\":\"panel.models.layout.Card\"},{\"attributes\":{\"children\":[{\"id\":\"1850\"},{\"id\":\"1855\"}],\"margin\":[0,0,0,0],\"name\":\"Row00217\",\"sizing_mode\":\"stretch_width\"},\"id\":\"1849\",\"type\":\"Row\"},{\"attributes\":{\"margin\":[5,10,5,10],\"min_width\":300,\"options\":[\"None\",\"column\",\"row\",\"tab\"],\"title\":\"Split\",\"value\":\"None\",\"width\":300},\"id\":\"1860\",\"type\":\"panel.models.widgets.CustomSelect\"},{\"attributes\":{\"children\":[{\"id\":\"1840\"},{\"id\":\"1841\"},{\"id\":\"1846\"},{\"id\":\"1856\"},{\"id\":\"1862\"}],\"margin\":[0,0,0,0],\"name\":\"Column00246\",\"sizing_mode\":\"stretch_width\"},\"id\":\"1839\",\"type\":\"Column\"},{\"attributes\":{\"children\":[{\"id\":\"1726\"}],\"css_classes\":[\"card-header-row\"],\"margin\":[0,0,0,0],\"name\":\"Row00269\",\"sizing_mode\":\"stretch_width\"},\"id\":\"1725\",\"type\":\"Row\"},{\"attributes\":{\"active_header_background\":\"#ccc\",\"button_css_classes\":[\"card-button\"],\"children\":[{\"id\":\"1610\"},{\"id\":\"1630\"}],\"css_classes\":[\"accordion\"],\"header_background\":\"\",\"header_color\":\"\",\"header_css_classes\":[\"accordion-header\"],\"margin\":[5,5,0,5],\"name\":\"Card00250\",\"sizing_mode\":\"stretch_width\"},\"id\":\"1609\",\"type\":\"panel.models.layout.Card\"},{\"attributes\":{},\"id\":\"1660\",\"type\":\"StringFormatter\"},{\"attributes\":{},\"id\":\"1879\",\"type\":\"UnionRenderers\"},{\"attributes\":{\"indices\":[]},\"id\":\"1728\",\"type\":\"Selection\"},{\"attributes\":{\"css_classes\":[\"card-title\"],\"margin\":[5,0,5,0],\"name\":\"HTML00271\",\"sizing_mode\":\"stretch_width\",\"text\":\"&lt;i class=&#x27;fa fa-table&#x27;&gt;&lt;/i&gt; Io\"},\"id\":\"1726\",\"type\":\"panel.models.markup.HTML\"},{\"attributes\":{\"children\":[{\"id\":\"1611\"}],\"css_classes\":[\"card-header-row\"],\"margin\":[0,0,0,0],\"name\":\"Row00249\",\"sizing_mode\":\"stretch_width\"},\"id\":\"1610\",\"type\":\"Row\"},{\"attributes\":{\"columns\":[{\"id\":\"1731\"},{\"id\":\"1736\"},{\"id\":\"1742\"}],\"configuration\":{\"columns\":[{\"field\":\"column\"},{\"field\":\"type\"},{\"field\":\"key\",\"sorter\":\"boolean\"}],\"dataTree\":false,\"selectable\":true},\"layout\":\"fit_data_table\",\"margin\":[5,10,5,10],\"name\":\"<i class='fa fa-table'></i> Io\",\"page\":1,\"page_size\":20,\"select_mode\":true,\"selectable_rows\":null,\"sizing_mode\":\"stretch_width\",\"source\":{\"id\":\"1727\"},\"styles\":{\"data\":{},\"id\":\"1f17ce94ac174d6385b29b9de689b96f\"},\"subscribed_events\":[\"cell-click\",\"table-edit\"],\"theme_url\":\"https://cdn.jsdelivr.net/npm/@holoviz/panel@0.14.2/dist/bundled/datatabulator/tabulator-tables@5.3.2/dist/css/\"},\"id\":\"1745\",\"type\":\"panel.models.tabulator.DataTabulator\"},{\"attributes\":{\"data\":{\"column\":[\"heap_blks_hit\",\"heap_blks_read\",\"idx_blks_hit\",\"idx_blks_read\",\"tidx_blks_hit\",\"tidx_blks_read\",\"toast_blks_hit\",\"toast_blks_read\"],\"index\":[0,1,2,3,4,5,6,7],\"key\":[false,false,false,false,false,false,false,false],\"type\":[\"float\",\"float\",\"float\",\"float\",\"float\",\"float\",\"float\",\"float\"]},\"selected\":{\"id\":\"1728\"},\"selection_policy\":{\"id\":\"1873\"}},\"id\":\"1727\",\"type\":\"ColumnDataSource\"},{\"attributes\":{\"indices\":[]},\"id\":\"1613\",\"type\":\"Selection\"},{\"attributes\":{},\"id\":\"1625\",\"type\":\"CheckboxEditor\"},{\"attributes\":{\"css_classes\":[\"card-title\"],\"margin\":[5,0,5,0],\"name\":\"HTML00251\",\"sizing_mode\":\"stretch_width\",\"text\":\"&lt;i class=&#x27;fa fa-table&#x27;&gt;&lt;/i&gt; Access\"},\"id\":\"1611\",\"type\":\"panel.models.markup.HTML\"},{\"attributes\":{\"children\":[{\"id\":\"1606\"},{\"id\":\"1839\"}],\"margin\":[0,0,0,0],\"name\":\"Row00247\",\"sizing_mode\":\"stretch_width\"},\"id\":\"1605\",\"type\":\"Row\"},{\"attributes\":{\"icon\":null,\"label\":\"Draw\",\"margin\":[5,10,5,10],\"min_width\":100,\"subscribed_events\":[\"button_click\"],\"width\":100},\"id\":\"1862\",\"type\":\"Button\"},{\"attributes\":{\"active_header_background\":\"#ccc\",\"button_css_classes\":[\"card-button\"],\"children\":[{\"id\":\"1794\"},{\"id\":\"1814\"}],\"css_classes\":[\"accordion\"],\"header_background\":\"\",\"header_color\":\"\",\"header_css_classes\":[\"accordion-header\"],\"margin\":[0,5,0,5],\"name\":\"Card00282\",\"sizing_mode\":\"stretch_width\"},\"id\":\"1793\",\"type\":\"panel.models.layout.Card\"},{\"attributes\":{\"margin\":[5,10,5,10],\"min_width\":300,\"title\":\"Split basis\",\"width\":300},\"id\":\"1861\",\"type\":\"panel.models.widgets.CustomSelect\"},{\"attributes\":{},\"id\":\"1729\",\"type\":\"StringFormatter\"},{\"attributes\":{\"icon\":\"check-circle-o\"},\"id\":\"1672\",\"type\":\"BooleanFormatter\"},{\"attributes\":{},\"id\":\"1620\",\"type\":\"StringEditor\"},{\"attributes\":{},\"id\":\"1671\",\"type\":\"CheckboxEditor\"},{\"attributes\":{},\"id\":\"1730\",\"type\":\"StringEditor\"},{\"attributes\":{\"editor\":{\"id\":\"1730\"},\"field\":\"column\",\"formatter\":{\"id\":\"1729\"},\"title\":\"column\",\"width\":0},\"id\":\"1731\",\"type\":\"TableColumn\"},{\"attributes\":{\"children\":[{\"id\":\"1795\"}],\"css_classes\":[\"card-header-row\"],\"margin\":[0,0,0,0],\"name\":\"Row00281\",\"sizing_mode\":\"stretch_width\"},\"id\":\"1794\",\"type\":\"Row\"},{\"attributes\":{\"editor\":{\"id\":\"1671\"},\"field\":\"key\",\"formatter\":{\"id\":\"1672\"},\"title\":\"key\",\"width\":0},\"id\":\"1673\",\"type\":\"TableColumn\"},{\"attributes\":{\"indices\":[]},\"id\":\"1797\",\"type\":\"Selection\"},{\"attributes\":{\"css_classes\":[\"card-title\"],\"margin\":[5,0,5,0],\"name\":\"HTML00283\",\"sizing_mode\":\"stretch_width\",\"text\":\"&lt;i class=&#x27;fa fa-table&#x27;&gt;&lt;/i&gt; Sessions\"},\"id\":\"1795\",\"type\":\"panel.models.markup.HTML\"},{\"attributes\":{\"client_comm_id\":\"11e7ed8629da4faaa196bc8b52a1f8e6\",\"comm_id\":\"7124b0cc87b74adf9ae5e0502156f559\",\"plot_id\":\"1605\"},\"id\":\"1923\",\"type\":\"panel.models.comm_manager.CommManager\"},{\"attributes\":{\"icon\":\"check-circle-o\"},\"id\":\"1626\",\"type\":\"BooleanFormatter\"},{\"attributes\":{},\"id\":\"1734\",\"type\":\"StringFormatter\"},{\"attributes\":{},\"id\":\"1735\",\"type\":\"StringEditor\"},{\"attributes\":{\"columns\":[{\"id\":\"1800\"},{\"id\":\"1805\"},{\"id\":\"1811\"}],\"configuration\":{\"columns\":[{\"field\":\"column\"},{\"field\":\"type\"},{\"field\":\"key\",\"sorter\":\"boolean\"}],\"dataTree\":false,\"selectable\":true},\"layout\":\"fit_data_table\",\"margin\":[5,10,5,10],\"name\":\"<i class='fa fa-table'></i> Sessions\",\"page\":1,\"page_size\":20,\"select_mode\":true,\"selectable_rows\":null,\"sizing_mode\":\"stretch_width\",\"source\":{\"id\":\"1796\"},\"styles\":{\"data\":{},\"id\":\"c4c0f5b709fd4240b97bd8e6e8bfd2da\"},\"subscribed_events\":[\"cell-click\",\"table-edit\"],\"theme_url\":\"https://cdn.jsdelivr.net/npm/@holoviz/panel@0.14.2/dist/bundled/datatabulator/tabulator-tables@5.3.2/dist/css/\"},\"id\":\"1814\",\"type\":\"panel.models.tabulator.DataTabulator\"},{\"attributes\":{\"columns\":[{\"id\":\"1616\"},{\"id\":\"1621\"},{\"id\":\"1627\"}],\"configuration\":{\"columns\":[{\"field\":\"column\"},{\"field\":\"type\"},{\"field\":\"key\",\"sorter\":\"boolean\"}],\"dataTree\":false,\"selectable\":true},\"layout\":\"fit_data_table\",\"margin\":[5,10,5,10],\"name\":\"<i class='fa fa-table'></i> Access\",\"page\":1,\"page_size\":20,\"select_mode\":true,\"selectable_rows\":null,\"sizing_mode\":\"stretch_width\",\"source\":{\"id\":\"1612\"},\"styles\":{\"data\":{},\"id\":\"9a9b191f04b74383b1b8009251e5ab74\"},\"subscribed_events\":[\"cell-click\",\"table-edit\"],\"theme_url\":\"https://cdn.jsdelivr.net/npm/@holoviz/panel@0.14.2/dist/bundled/datatabulator/tabulator-tables@5.3.2/dist/css/\"},\"id\":\"1630\",\"type\":\"panel.models.tabulator.DataTabulator\"},{\"attributes\":{\"data\":{\"column\":[\"longest_query_time_sec\",\"longest_transaction_time_sec\",\"num_sessions\",\"num_wait_sessions\",\"oldest_backend_time_sec\"],\"index\":[0,1,2,3,4],\"key\":[false,false,false,false,false],\"type\":[\"integer\",\"integer\",\"integer\",\"integer\",\"integer\"]},\"selected\":{\"id\":\"1797\"},\"selection_policy\":{\"id\":\"1879\"}},\"id\":\"1796\",\"type\":\"ColumnDataSource\"},{\"attributes\":{\"editor\":{\"id\":\"1735\"},\"field\":\"type\",\"formatter\":{\"id\":\"1734\"},\"title\":\"type\",\"width\":0},\"id\":\"1736\",\"type\":\"TableColumn\"},{\"attributes\":{},\"id\":\"1881\",\"type\":\"UnionRenderers\"},{\"attributes\":{\"children\":[{\"id\":\"1607\"},{\"id\":\"1608\"}],\"margin\":[0,0,0,0],\"min_width\":350,\"name\":\"Column00243\",\"width\":350},\"id\":\"1606\",\"type\":\"Column\"},{\"attributes\":{\"editor\":{\"id\":\"1620\"},\"field\":\"type\",\"formatter\":{\"id\":\"1619\"},\"title\":\"type\",\"width\":0},\"id\":\"1621\",\"type\":\"TableColumn\"},{\"attributes\":{\"active_header_background\":\"\",\"button_css_classes\":[\"card-button\"],\"children\":[{\"id\":\"1857\"},{\"id\":\"1859\"}],\"collapsed\":false,\"css_classes\":[\"card\"],\"header_background\":\"\",\"header_color\":\"\",\"header_css_classes\":[\"card-header\"],\"margin\":[5,5,5,5],\"min_width\":1200,\"name\":\"Card00226\",\"width\":1200},\"id\":\"1856\",\"type\":\"panel.models.layout.Card\"},{\"attributes\":{\"children\":[{\"id\":\"1858\"}],\"css_classes\":[\"card-header-row\"],\"margin\":[0,0,0,0],\"name\":\"Row00225\",\"sizing_mode\":\"stretch_width\"},\"id\":\"1857\",\"type\":\"Row\"},{\"attributes\":{\"css_classes\":[\"card-title\"],\"margin\":[5,0,5,0],\"name\":\"HTML00227\",\"sizing_mode\":\"stretch_width\",\"text\":\"Split\"},\"id\":\"1858\",\"type\":\"panel.models.markup.HTML\"},{\"attributes\":{\"icon\":null,\"label\":\"Add task\",\"margin\":[5,10,5,10],\"min_width\":100,\"subscribed_events\":[\"button_click\"],\"width\":100},\"id\":\"1855\",\"type\":\"Button\"},{\"attributes\":{},\"id\":\"1798\",\"type\":\"StringFormatter\"},{\"attributes\":{\"icon\":\"check-circle-o\"},\"id\":\"1741\",\"type\":\"BooleanFormatter\"},{\"attributes\":{},\"id\":\"1799\",\"type\":\"StringEditor\"},{\"attributes\":{},\"id\":\"1740\",\"type\":\"CheckboxEditor\"},{\"attributes\":{\"editor\":{\"id\":\"1799\"},\"field\":\"column\",\"formatter\":{\"id\":\"1798\"},\"title\":\"column\",\"width\":0},\"id\":\"1800\",\"type\":\"TableColumn\"},{\"attributes\":{\"editor\":{\"id\":\"1625\"},\"field\":\"key\",\"formatter\":{\"id\":\"1626\"},\"title\":\"key\",\"width\":0},\"id\":\"1627\",\"type\":\"TableColumn\"},{\"attributes\":{\"editor\":{\"id\":\"1740\"},\"field\":\"key\",\"formatter\":{\"id\":\"1741\"},\"title\":\"key\",\"width\":0},\"id\":\"1742\",\"type\":\"TableColumn\"},{\"attributes\":{\"active_header_background\":\"#ccc\",\"button_css_classes\":[\"card-button\"],\"children\":[{\"id\":\"1679\"},{\"id\":\"1699\"}],\"css_classes\":[\"accordion\"],\"header_background\":\"\",\"header_color\":\"\",\"header_css_classes\":[\"accordion-header\"],\"margin\":[0,5,0,5],\"name\":\"Card00262\",\"sizing_mode\":\"stretch_width\"},\"id\":\"1678\",\"type\":\"panel.models.layout.Card\"},{\"attributes\":{},\"id\":\"1803\",\"type\":\"StringFormatter\"},{\"attributes\":{},\"id\":\"1661\",\"type\":\"StringEditor\"},{\"attributes\":{},\"id\":\"1804\",\"type\":\"StringEditor\"},{\"attributes\":{\"editor\":{\"id\":\"1804\"},\"field\":\"type\",\"formatter\":{\"id\":\"1803\"},\"title\":\"type\",\"width\":0},\"id\":\"1805\",\"type\":\"TableColumn\"},{\"attributes\":{\"children\":[{\"id\":\"1680\"}],\"css_classes\":[\"card-header-row\"],\"margin\":[0,0,0,0],\"name\":\"Row00261\",\"sizing_mode\":\"stretch_width\"},\"id\":\"1679\",\"type\":\"Row\"},{\"attributes\":{\"indices\":[]},\"id\":\"1682\",\"type\":\"Selection\"},{\"attributes\":{\"css_classes\":[\"card-title\"],\"margin\":[5,0,5,0],\"name\":\"HTML00263\",\"sizing_mode\":\"stretch_width\",\"text\":\"&lt;i class=&#x27;fa fa-table&#x27;&gt;&lt;/i&gt; Conflicts\"},\"id\":\"1680\",\"type\":\"panel.models.markup.HTML\"},{\"attributes\":{},\"id\":\"1863\",\"type\":\"UnionRenderers\"},{\"attributes\":{\"icon\":\"check-circle-o\"},\"id\":\"1810\",\"type\":\"BooleanFormatter\"},{\"attributes\":{\"columns\":[{\"id\":\"1685\"},{\"id\":\"1690\"},{\"id\":\"1696\"}],\"configuration\":{\"columns\":[{\"field\":\"column\"},{\"field\":\"type\"},{\"field\":\"key\",\"sorter\":\"boolean\"}],\"dataTree\":false,\"selectable\":true},\"layout\":\"fit_data_table\",\"margin\":[5,10,5,10],\"name\":\"<i class='fa fa-table'></i> Conflicts\",\"page\":1,\"page_size\":20,\"select_mode\":true,\"selectable_rows\":null,\"sizing_mode\":\"stretch_width\",\"source\":{\"id\":\"1681\"},\"styles\":{\"data\":{},\"id\":\"0754d7c9d13347a1a1556f9a8b6cbc79\"},\"subscribed_events\":[\"cell-click\",\"table-edit\"],\"theme_url\":\"https://cdn.jsdelivr.net/npm/@holoviz/panel@0.14.2/dist/bundled/datatabulator/tabulator-tables@5.3.2/dist/css/\"},\"id\":\"1699\",\"type\":\"panel.models.tabulator.DataTabulator\"},{\"attributes\":{},\"id\":\"1809\",\"type\":\"CheckboxEditor\"},{\"attributes\":{\"data\":{\"column\":[\"confl_bufferpin\",\"confl_deadlock\",\"confl_lock\",\"confl_snapshot\",\"confl_tablespace\",\"datname\",\"datid\"],\"index\":[0,1,2,3,4,5,0],\"key\":[false,false,false,false,false,false,true],\"type\":[\"integer\",\"integer\",\"integer\",\"integer\",\"integer\",\"string\",\"string\"]},\"selected\":{\"id\":\"1682\"},\"selection_policy\":{\"id\":\"1869\"}},\"id\":\"1681\",\"type\":\"ColumnDataSource\"},{\"attributes\":{\"children\":[{\"id\":\"1842\"},{\"id\":\"1843\"},{\"id\":\"1844\"},{\"id\":\"1845\"}],\"margin\":[0,0,0,0],\"name\":\"Row00205\",\"sizing_mode\":\"stretch_width\"},\"id\":\"1841\",\"type\":\"Row\"},{\"attributes\":{\"data\":{\"column\":[\"buffers_alloc\",\"buffers_backend\",\"buffers_backend_fsync\",\"buffers_checkpoint\",\"buffers_clean\",\"checkpoint_sync_time\",\"checkpoint_write_time\",\"checkpoints_req\",\"checkpoints_timed\",\"maxwritten_clean\"],\"index\":[0,1,2,3,4,5,6,7,8,9],\"key\":[false,false,false,false,false,false,false,false,false,false],\"type\":[\"integer\",\"integer\",\"integer\",\"integer\",\"integer\",\"float\",\"float\",\"integer\",\"integer\",\"integer\"]},\"selected\":{\"id\":\"1659\"},\"selection_policy\":{\"id\":\"1867\"}},\"id\":\"1658\",\"type\":\"ColumnDataSource\"},{\"attributes\":{\"editor\":{\"id\":\"1809\"},\"field\":\"key\",\"formatter\":{\"id\":\"1810\"},\"title\":\"key\",\"width\":0},\"id\":\"1811\",\"type\":\"TableColumn\"},{\"attributes\":{\"columns\":[{\"id\":\"1662\"},{\"id\":\"1667\"},{\"id\":\"1673\"}],\"configuration\":{\"columns\":[{\"field\":\"column\"},{\"field\":\"type\"},{\"field\":\"key\",\"sorter\":\"boolean\"}],\"dataTree\":false,\"selectable\":true},\"layout\":\"fit_data_table\",\"margin\":[5,10,5,10],\"name\":\"<i class='fa fa-table'></i> Bgwriter\",\"page\":1,\"page_size\":20,\"select_mode\":true,\"selectable_rows\":null,\"sizing_mode\":\"stretch_width\",\"source\":{\"id\":\"1658\"},\"styles\":{\"data\":{},\"id\":\"2893b1f1668c4126912e13a5d4197f6d\"},\"subscribed_events\":[\"cell-click\",\"table-edit\"],\"theme_url\":\"https://cdn.jsdelivr.net/npm/@holoviz/panel@0.14.2/dist/bundled/datatabulator/tabulator-tables@5.3.2/dist/css/\"},\"id\":\"1676\",\"type\":\"panel.models.tabulator.DataTabulator\"},{\"attributes\":{\"active_header_background\":\"#ccc\",\"button_css_classes\":[\"card-button\"],\"children\":[{\"id\":\"1748\"},{\"id\":\"1768\"}],\"css_classes\":[\"accordion\"],\"header_background\":\"\",\"header_color\":\"\",\"header_css_classes\":[\"accordion-header\"],\"margin\":[0,5,0,5],\"name\":\"Card00274\",\"sizing_mode\":\"stretch_width\"},\"id\":\"1747\",\"type\":\"panel.models.layout.Card\"},{\"attributes\":{\"css_classes\":[\"card-title\"],\"margin\":[5,0,5,0],\"name\":\"HTML00259\",\"sizing_mode\":\"stretch_width\",\"text\":\"&lt;i class=&#x27;fa fa-table&#x27;&gt;&lt;/i&gt; Bgwriter\"},\"id\":\"1657\",\"type\":\"panel.models.markup.HTML\"},{\"attributes\":{\"active_header_background\":\"#ccc\",\"button_css_classes\":[\"card-button\"],\"children\":[{\"id\":\"1817\"},{\"id\":\"1837\"}],\"css_classes\":[\"accordion\"],\"header_background\":\"\",\"header_color\":\"\",\"header_css_classes\":[\"accordion-header\"],\"margin\":[0,5,5,5],\"name\":\"Card00286\",\"sizing_mode\":\"stretch_width\"},\"id\":\"1816\",\"type\":\"panel.models.layout.Card\"},{\"attributes\":{},\"id\":\"1683\",\"type\":\"StringFormatter\"},{\"attributes\":{\"indices\":[]},\"id\":\"1659\",\"type\":\"Selection\"},{\"attributes\":{},\"id\":\"1684\",\"type\":\"StringEditor\"},{\"attributes\":{\"children\":[{\"id\":\"1657\"}],\"css_classes\":[\"card-header-row\"],\"margin\":[0,0,0,0],\"name\":\"Row00257\",\"sizing_mode\":\"stretch_width\"},\"id\":\"1656\",\"type\":\"Row\"},{\"attributes\":{\"editor\":{\"id\":\"1684\"},\"field\":\"column\",\"formatter\":{\"id\":\"1683\"},\"title\":\"column\",\"width\":0},\"id\":\"1685\",\"type\":\"TableColumn\"},{\"attributes\":{\"children\":[{\"id\":\"1749\"}],\"css_classes\":[\"card-header-row\"],\"margin\":[0,0,0,0],\"name\":\"Row00273\",\"sizing_mode\":\"stretch_width\"},\"id\":\"1748\",\"type\":\"Row\"},{\"attributes\":{\"indices\":[]},\"id\":\"1751\",\"type\":\"Selection\"},{\"attributes\":{},\"id\":\"1865\",\"type\":\"UnionRenderers\"},{\"attributes\":{\"active_header_background\":\"#ccc\",\"button_css_classes\":[\"card-button\"],\"children\":[{\"id\":\"1656\"},{\"id\":\"1676\"}],\"css_classes\":[\"accordion\"],\"header_background\":\"\",\"header_color\":\"\",\"header_css_classes\":[\"accordion-header\"],\"margin\":[0,5,0,5],\"name\":\"Card00258\",\"sizing_mode\":\"stretch_width\"},\"id\":\"1655\",\"type\":\"panel.models.layout.Card\"},{\"attributes\":{\"css_classes\":[\"card-title\"],\"margin\":[5,0,5,0],\"name\":\"HTML00275\",\"sizing_mode\":\"stretch_width\",\"text\":\"&lt;i class=&#x27;fa fa-table&#x27;&gt;&lt;/i&gt; Os metric\"},\"id\":\"1749\",\"type\":\"panel.models.markup.HTML\"},{\"attributes\":{\"icon\":\"check-circle-o\"},\"id\":\"1695\",\"type\":\"BooleanFormatter\"},{\"attributes\":{},\"id\":\"1688\",\"type\":\"StringFormatter\"},{\"attributes\":{},\"id\":\"1689\",\"type\":\"StringEditor\"},{\"attributes\":{\"columns\":[{\"id\":\"1754\"},{\"id\":\"1759\"},{\"id\":\"1765\"}],\"configuration\":{\"columns\":[{\"field\":\"column\"},{\"field\":\"type\"},{\"field\":\"key\",\"sorter\":\"boolean\"}],\"dataTree\":false,\"selectable\":true},\"layout\":\"fit_data_table\",\"margin\":[5,10,5,10],\"name\":\"<i class='fa fa-table'></i> Os metric\",\"page\":1,\"page_size\":20,\"select_mode\":true,\"selectable_rows\":null,\"sizing_mode\":\"stretch_width\",\"source\":{\"id\":\"1750\"},\"styles\":{\"data\":{},\"id\":\"d4c82b7715f24618824b1381d6525b2e\"},\"subscribed_events\":[\"cell-click\",\"table-edit\"],\"theme_url\":\"https://cdn.jsdelivr.net/npm/@holoviz/panel@0.14.2/dist/bundled/datatabulator/tabulator-tables@5.3.2/dist/css/\"},\"id\":\"1768\",\"type\":\"panel.models.tabulator.DataTabulator\"},{\"attributes\":{\"editor\":{\"id\":\"1689\"},\"field\":\"type\",\"formatter\":{\"id\":\"1688\"},\"title\":\"type\",\"width\":0},\"id\":\"1690\",\"type\":\"TableColumn\"},{\"attributes\":{\"data\":{\"column\":[\"cpu_percent\",\"disk_percent\",\"disk_read_bytes\",\"disk_read_count\",\"disk_write_bytes\",\"disk_write_count\",\"mem_active\",\"mem_available\",\"mem_buffers\",\"mem_cached\",\"mem_free\",\"mem_inactive\",\"mem_percent\",\"mem_shared\",\"mem_slab\",\"mem_total\",\"mem_used\"],\"index\":[0,1,2,3,4,5,6,7,8,9,10,11,12,13,14,15,16],\"key\":[false,false,false,false,false,false,false,false,false,false,false,false,false,false,false,false,false],\"type\":[\"float\",\"float\",\"integer\",\"integer\",\"integer\",\"integer\",\"integer\",\"integer\",\"integer\",\"integer\",\"integer\",\"integer\",\"float\",\"integer\",\"integer\",\"integer\",\"integer\"]},\"selected\":{\"id\":\"1751\"},\"selection_policy\":{\"id\":\"1875\"}},\"id\":\"1750\",\"type\":\"ColumnDataSource\"}],\"root_ids\":[\"1605\",\"1923\"]},\"title\":\"Bokeh Application\",\"version\":\"2.4.3\"}};\n",
       "    var render_items = [{\"docid\":\"3ebc5104-7457-458a-b4a3-01c6613a3e2a\",\"root_ids\":[\"1605\"],\"roots\":{\"1605\":\"e1dd8c49-287e-44cd-b2c7-287e2fdd46c4\"}}];\n",
       "    root.Bokeh.embed.embed_items_notebook(docs_json, render_items);\n",
       "    for (const render_item of render_items) {\n",
       "      for (const root_id of render_item.root_ids) {\n",
       "\tconst id_el = document.getElementById(root_id)\n",
       "\tif (id_el.children.length && (id_el.children[0].className === 'bk-root')) {\n",
       "\t  const root_el = id_el.children[0]\n",
       "\t  root_el.id = root_el.id + '-rendered'\n",
       "\t}\n",
       "      }\n",
       "    }\n",
       "  }\n",
       "  if (root.Bokeh !== undefined && root.Bokeh.Panel !== undefined && ( root['Plotly'] !== undefined) && ( root['Tabulator'] !== undefined)) {\n",
       "    embed_document(root);\n",
       "  } else {\n",
       "    var attempts = 0;\n",
       "    var timer = setInterval(function(root) {\n",
       "      if (root.Bokeh !== undefined && root.Bokeh.Panel !== undefined && (root['Plotly'] !== undefined) && (root['Tabulator'] !== undefined)) {\n",
       "        clearInterval(timer);\n",
       "        embed_document(root);\n",
       "      } else if (document.readyState == \"complete\") {\n",
       "        attempts++;\n",
       "        if (attempts > 200) {\n",
       "          clearInterval(timer);\n",
       "          console.log(\"Bokeh: ERROR: Unable to run BokehJS code because BokehJS library is missing\");\n",
       "        }\n",
       "      }\n",
       "    }, 25, root)\n",
       "  }\n",
       "})(window);</script>"
      ],
      "text/plain": [
       "Row(sizing_mode='stretch_width')\n",
       "    [0] Column(width=350)\n",
       "        [0] Markdown(str, sizing_mode='stretch_width')\n",
       "        [1] Accordion(sizing_mode='stretch_width')\n",
       "            [0] Tabulator(formatters={'key': BooleanFormatter(i...}, name=\"<i class='fa f..., show_index=False, sizing_mode='stretch_width', value=              ...)\n",
       "            [1] Tabulator(formatters={'key': BooleanFormatter(i...}, name=\"<i class='fa f..., show_index=False, sizing_mode='stretch_width', value=              ...)\n",
       "            [2] Tabulator(formatters={'key': BooleanFormatter(i...}, name=\"<i class='fa f..., show_index=False, sizing_mode='stretch_width', value=              ...)\n",
       "            [3] Tabulator(formatters={'key': BooleanFormatter(i...}, name=\"<i class='fa f..., show_index=False, sizing_mode='stretch_width', value=             c...)\n",
       "            [4] Tabulator(formatters={'key': BooleanFormatter(i...}, name=\"<i class='fa f..., show_index=False, sizing_mode='stretch_width', value=              ...)\n",
       "            [5] Tabulator(formatters={'key': BooleanFormatter(i...}, name=\"<i class='fa f..., show_index=False, sizing_mode='stretch_width', value=            column  ...)\n",
       "            [6] Tabulator(formatters={'key': BooleanFormatter(i...}, name=\"<i class='fa f..., show_index=False, sizing_mode='stretch_width', value=              ...)\n",
       "            [7] Tabulator(formatters={'key': BooleanFormatter(i...}, name=\"<i class='fa f..., show_index=False, sizing_mode='stretch_width', value=              ...)\n",
       "            [8] Tabulator(formatters={'key': BooleanFormatter(i...}, name=\"<i class='fa f..., show_index=False, sizing_mode='stretch_width', value=              ...)\n",
       "            [9] Tabulator(formatters={'key': BooleanFormatter(i...}, name=\"<i class='fa f..., show_index=False, sizing_mode='stretch_width', value=     column   ...)\n",
       "    [1] Column(sizing_mode='stretch_width')\n",
       "        [0] Markdown(str, sizing_mode='stretch_width')\n",
       "        [1] Row(sizing_mode='stretch_width')\n",
       "            [0] TextInput(name='Title', placeholder='Enter a string f..., width=300)\n",
       "            [1] Select(name='Measurements', options=['access', 'active_session...], value='access', width=300)\n",
       "            [2] Select(name='Time range', options={'Last 30 minutes': 30, ...}, value=30, width=300)\n",
       "            [3] Select(name='Auto refresh', options={'Off': 'None', ...}, value='None', width=300)\n",
       "        [2] Card(title='Task', width=1200)\n",
       "            [0] Row(sizing_mode='stretch_width')\n",
       "                [0] Column(css_classes=['task_box'], sizing_mode='stretch_width')\n",
       "                    [0] Row(sizing_mode='stretch_width')\n",
       "                        [0] Select(name='Task', options=['Choose a task', ...], value='Choose a task', width=300)\n",
       "                    [1] Row(sizing_mode='stretch_width')\n",
       "                    [2] Row(sizing_mode='stretch_width')\n",
       "                [1] Button(name='Add task', width=100)\n",
       "        [3] Card(title='Split', width=1200)\n",
       "            [0] Row(sizing_mode='stretch_width')\n",
       "                [0] Select(name='Split', options=['None', 'column', ...], value='None', width=300)\n",
       "                [1] Select(name='Split basis', width=300)\n",
       "        [4] Button(name='Draw', width=100)"
      ]
     },
     "metadata": {
      "application/vnd.holoviews_exec.v0+json": {
       "id": "1605"
      }
     },
     "output_type": "display_data"
    },
    {
     "ename": "AttributeError",
     "evalue": "'DataFrame' object has no attribute 'get_list_measurements'",
     "output_type": "error",
     "traceback": [
      "\u001b[0;31m---------------------------------------------------------------------------\u001b[0m",
      "\u001b[0;31mAttributeError\u001b[0m                            Traceback (most recent call last)",
      "Cell \u001b[0;32mIn[4], line 3\u001b[0m\n\u001b[1;32m      1\u001b[0m visualize(conn \u001b[38;5;241m=\u001b[39m conn)\n\u001b[0;32m----> 3\u001b[0m \u001b[43mvisualize\u001b[49m\u001b[43m(\u001b[49m\u001b[43mdf\u001b[49m\u001b[43m)\u001b[49m\n",
      "File \u001b[0;32m/home/eda_framework_visualization/visualize_from_language.py:208\u001b[0m, in \u001b[0;36mvisualize\u001b[0;34m(conn, data)\u001b[0m\n\u001b[1;32m    205\u001b[0m \u001b[38;5;28;01mdef\u001b[39;00m \u001b[38;5;21mvisualize\u001b[39m(conn \u001b[38;5;241m=\u001b[39m \u001b[38;5;28;01mNone\u001b[39;00m, data \u001b[38;5;241m=\u001b[39m \u001b[38;5;28;01mNone\u001b[39;00m):\n\u001b[1;32m    206\u001b[0m     \u001b[38;5;28;01mif\u001b[39;00m conn \u001b[38;5;129;01mis\u001b[39;00m \u001b[38;5;129;01mnot\u001b[39;00m \u001b[38;5;28;01mNone\u001b[39;00m:\n\u001b[1;32m    207\u001b[0m     \u001b[38;5;66;03m#     # 어떤 데이터를 시각화할지도 결정해야함\u001b[39;00m\n\u001b[0;32m--> 208\u001b[0m         schema \u001b[38;5;241m=\u001b[39m \u001b[43mget_schema\u001b[49m\u001b[43m(\u001b[49m\u001b[43mconn\u001b[49m\u001b[43m)\u001b[49m\n\u001b[1;32m    209\u001b[0m         w_measurement \u001b[38;5;241m=\u001b[39m w\u001b[38;5;241m.\u001b[39mSelect(name \u001b[38;5;241m=\u001b[39m \u001b[38;5;124m'\u001b[39m\u001b[38;5;124mMeasurements\u001b[39m\u001b[38;5;124m'\u001b[39m, options \u001b[38;5;241m=\u001b[39m \u001b[38;5;28mlist\u001b[39m(schema\u001b[38;5;241m.\u001b[39mkeys()), value \u001b[38;5;241m=\u001b[39m \u001b[38;5;28mlist\u001b[39m(schema\u001b[38;5;241m.\u001b[39mkeys())[\u001b[38;5;241m0\u001b[39m], width \u001b[38;5;241m=\u001b[39m \u001b[38;5;241m300\u001b[39m)\n\u001b[1;32m    210\u001b[0m     \u001b[38;5;28mprint\u001b[39m(\u001b[38;5;28mtype\u001b[39m(schema))\n",
      "File \u001b[0;32m/home/eda_framework_visualization/visualize_from_language.py:163\u001b[0m, in \u001b[0;36mget_schema\u001b[0;34m(conn)\u001b[0m\n\u001b[1;32m    162\u001b[0m \u001b[38;5;28;01mdef\u001b[39;00m \u001b[38;5;21mget_schema\u001b[39m(conn):\n\u001b[0;32m--> 163\u001b[0m     result \u001b[38;5;241m=\u001b[39m \u001b[43mconn\u001b[49m\u001b[38;5;241;43m.\u001b[39;49m\u001b[43mget_list_measurements\u001b[49m()\n\u001b[1;32m    164\u001b[0m     measurements \u001b[38;5;241m=\u001b[39m [m[\u001b[38;5;124m'\u001b[39m\u001b[38;5;124mname\u001b[39m\u001b[38;5;124m'\u001b[39m] \u001b[38;5;28;01mfor\u001b[39;00m m \u001b[38;5;129;01min\u001b[39;00m result]\n\u001b[1;32m    165\u001b[0m     \u001b[38;5;66;03m#print(measurements)\u001b[39;00m\n",
      "File \u001b[0;32m/usr/local/lib/python3.10/dist-packages/pandas/core/generic.py:5902\u001b[0m, in \u001b[0;36mNDFrame.__getattr__\u001b[0;34m(self, name)\u001b[0m\n\u001b[1;32m   5895\u001b[0m \u001b[38;5;28;01mif\u001b[39;00m (\n\u001b[1;32m   5896\u001b[0m     name \u001b[38;5;129;01mnot\u001b[39;00m \u001b[38;5;129;01min\u001b[39;00m \u001b[38;5;28mself\u001b[39m\u001b[38;5;241m.\u001b[39m_internal_names_set\n\u001b[1;32m   5897\u001b[0m     \u001b[38;5;129;01mand\u001b[39;00m name \u001b[38;5;129;01mnot\u001b[39;00m \u001b[38;5;129;01min\u001b[39;00m \u001b[38;5;28mself\u001b[39m\u001b[38;5;241m.\u001b[39m_metadata\n\u001b[1;32m   5898\u001b[0m     \u001b[38;5;129;01mand\u001b[39;00m name \u001b[38;5;129;01mnot\u001b[39;00m \u001b[38;5;129;01min\u001b[39;00m \u001b[38;5;28mself\u001b[39m\u001b[38;5;241m.\u001b[39m_accessors\n\u001b[1;32m   5899\u001b[0m     \u001b[38;5;129;01mand\u001b[39;00m \u001b[38;5;28mself\u001b[39m\u001b[38;5;241m.\u001b[39m_info_axis\u001b[38;5;241m.\u001b[39m_can_hold_identifiers_and_holds_name(name)\n\u001b[1;32m   5900\u001b[0m ):\n\u001b[1;32m   5901\u001b[0m     \u001b[38;5;28;01mreturn\u001b[39;00m \u001b[38;5;28mself\u001b[39m[name]\n\u001b[0;32m-> 5902\u001b[0m \u001b[38;5;28;01mreturn\u001b[39;00m \u001b[38;5;28;43mobject\u001b[39;49m\u001b[38;5;241;43m.\u001b[39;49m\u001b[38;5;21;43m__getattribute__\u001b[39;49m\u001b[43m(\u001b[49m\u001b[38;5;28;43mself\u001b[39;49m\u001b[43m,\u001b[49m\u001b[43m \u001b[49m\u001b[43mname\u001b[49m\u001b[43m)\u001b[49m\n",
      "\u001b[0;31mAttributeError\u001b[0m: 'DataFrame' object has no attribute 'get_list_measurements'"
     ]
    }
   ],
   "source": [
    "visualize(conn = conn)\n",
    "\n",
    "visualize(df)"
   ]
  },
  {
   "cell_type": "code",
   "execution_count": null,
   "metadata": {
    "tags": []
   },
   "outputs": [],
   "source": [
    "pn.pane.Alert('### time-series visualization\\n the x of the chart is fixed to time')\n"
   ]
  },
  {
   "cell_type": "code",
   "execution_count": 3,
   "metadata": {
    "tags": []
   },
   "outputs": [
    {
     "data": {
      "application/vnd.plotly.v1+json": {
       "config": {
        "plotlyServerURL": "https://plot.ly"
       },
       "data": [
        {
         "hovertemplate": "time=%{x}<br>cpu_percent=%{y}<extra></extra>",
         "legendgroup": "",
         "line": {
          "color": "#636efa",
          "dash": "solid"
         },
         "marker": {
          "symbol": "circle"
         },
         "mode": "lines",
         "name": "",
         "orientation": "v",
         "showlegend": false,
         "type": "scatter",
         "x": [
          "2023-03-29T03:41:52.073714Z",
          "2023-03-29T03:41:42.060109Z",
          "2023-03-29T03:41:32.063336Z",
          "2023-03-29T03:41:22.077067Z",
          "2023-03-29T03:41:12.064338Z",
          "2023-03-29T03:41:02.076199Z",
          "2023-03-29T03:40:52.063291Z",
          "2023-03-29T03:40:42.073605Z",
          "2023-03-29T03:40:32.073661Z",
          "2023-03-29T03:40:22.066871Z",
          "2023-03-29T03:40:12.064316Z",
          "2023-03-29T03:40:02.070569Z",
          "2023-03-29T03:39:52.062170Z",
          "2023-03-29T03:39:42.071652Z",
          "2023-03-29T03:39:32.064518Z",
          "2023-03-29T03:39:22.068087Z",
          "2023-03-29T03:39:12.060009Z",
          "2023-03-29T03:39:02.067788Z",
          "2023-03-29T03:38:52.063001Z",
          "2023-03-29T03:38:42.066012Z",
          "2023-03-29T03:38:32.059915Z",
          "2023-03-29T03:38:22.073628Z",
          "2023-03-29T03:38:12.069785Z",
          "2023-03-29T03:38:02.064547Z",
          "2023-03-29T03:37:52.059357Z",
          "2023-03-29T03:37:42.073101Z",
          "2023-03-29T03:37:32.064316Z",
          "2023-03-29T03:37:22.066302Z",
          "2023-03-29T03:37:12.063943Z",
          "2023-03-29T03:37:02.065043Z",
          "2023-03-29T03:36:52.060929Z",
          "2023-03-29T03:36:42.066859Z",
          "2023-03-29T03:36:32.066931Z",
          "2023-03-29T03:36:22.067812Z",
          "2023-03-29T03:36:12.059655Z",
          "2023-03-29T03:36:02.065809Z",
          "2023-03-29T03:35:52.070462Z",
          "2023-03-29T03:35:42.064178Z",
          "2023-03-29T03:35:32.069263Z",
          "2023-03-29T03:35:22.067350Z",
          "2023-03-29T03:35:12.067104Z",
          "2023-03-29T03:35:02.074574Z",
          "2023-03-29T03:34:52.071211Z",
          "2023-03-29T03:34:42.066198Z",
          "2023-03-29T03:34:32.065966Z",
          "2023-03-29T03:34:22.067066Z",
          "2023-03-29T03:34:12.066246Z",
          "2023-03-29T03:34:02.068052Z",
          "2023-03-29T03:33:52.072897Z",
          "2023-03-29T03:33:42.069299Z",
          "2023-03-29T03:33:32.063187Z",
          "2023-03-29T03:33:22.072705Z",
          "2023-03-29T03:33:12.064437Z",
          "2023-03-29T03:33:02.070613Z",
          "2023-03-29T03:32:52.064647Z",
          "2023-03-29T03:32:42.070962Z",
          "2023-03-29T03:32:32.059707Z",
          "2023-03-29T03:32:22.066193Z",
          "2023-03-29T03:32:12.061128Z",
          "2023-03-29T03:32:02.060883Z",
          "2023-03-29T03:31:52.071463Z",
          "2023-03-29T03:31:42.068473Z",
          "2023-03-29T03:31:32.062852Z",
          "2023-03-29T03:31:22.063048Z",
          "2023-03-29T03:31:12.059852Z",
          "2023-03-29T03:31:02.075207Z",
          "2023-03-29T03:30:52.062847Z",
          "2023-03-29T03:30:42.068787Z",
          "2023-03-29T03:30:32.063472Z",
          "2023-03-29T03:30:22.064512Z",
          "2023-03-29T03:30:12.065919Z",
          "2023-03-29T03:30:02.066939Z",
          "2023-03-29T03:29:52.072131Z",
          "2023-03-29T03:29:42.061429Z",
          "2023-03-29T03:29:32.060147Z",
          "2023-03-29T03:29:22.061959Z",
          "2023-03-29T03:29:12.065928Z",
          "2023-03-29T03:29:02.079564Z",
          "2023-03-29T03:28:52.073305Z",
          "2023-03-29T03:28:42.067305Z",
          "2023-03-29T03:28:32.077218Z",
          "2023-03-29T03:28:22.073749Z",
          "2023-03-29T03:28:12.073051Z",
          "2023-03-29T03:28:02.071913Z",
          "2023-03-29T03:27:52.064110Z",
          "2023-03-29T03:27:42.068037Z",
          "2023-03-29T03:27:32.063648Z",
          "2023-03-29T03:27:22.067544Z",
          "2023-03-29T03:27:12.072271Z",
          "2023-03-29T03:27:02.069423Z",
          "2023-03-29T03:26:52.069855Z",
          "2023-03-29T03:26:42.063760Z",
          "2023-03-29T03:26:32.065214Z",
          "2023-03-29T03:26:22.062663Z",
          "2023-03-29T03:26:12.068003Z",
          "2023-03-29T03:26:02.068542Z",
          "2023-03-29T03:25:52.066151Z",
          "2023-03-29T03:25:42.066528Z",
          "2023-03-29T03:25:32.060667Z",
          "2023-03-29T03:25:22.063694Z"
         ],
         "xaxis": "x",
         "y": [
          6.1,
          6.8,
          6,
          38.1,
          6.2,
          7,
          5.9,
          7.7,
          6.3,
          27.5,
          12.3,
          7.9,
          13.9,
          21.1,
          6.8,
          32.5,
          5.4,
          5.9,
          6.1,
          6.3,
          6.3,
          25.9,
          6.7,
          5.4,
          6.1,
          5.1,
          6,
          24.5,
          6,
          5.7,
          7.4,
          5.4,
          6,
          24.6,
          6.1,
          6.1,
          6.2,
          6.1,
          6.7,
          24.1,
          5.6,
          6,
          6,
          5.7,
          5.9,
          26,
          5.9,
          5.6,
          7.3,
          4.5,
          6.1,
          24.4,
          7,
          5.4,
          6.5,
          6,
          6.7,
          24.8,
          5.8,
          6.8,
          6.5,
          6.3,
          5.7,
          25.9,
          5.9,
          6.3,
          5.9,
          5.9,
          5,
          25.9,
          5,
          6.1,
          6.3,
          5.9,
          5.7,
          25,
          6,
          5.9,
          6.3,
          7.1,
          11.9,
          27.6,
          6.5,
          6.7,
          6.6,
          5.3,
          6.9,
          25,
          6.6,
          6.2,
          6.5,
          7.2,
          5.8,
          26.4,
          6.2,
          5.7,
          7.5,
          5.5,
          6.6,
          25
         ],
         "yaxis": "y"
        }
       ],
       "layout": {
        "autosize": true,
        "legend": {
         "tracegroupgap": 0
        },
        "margin": {
         "t": 60
        },
        "template": {
         "data": {
          "bar": [
           {
            "error_x": {
             "color": "#2a3f5f"
            },
            "error_y": {
             "color": "#2a3f5f"
            },
            "marker": {
             "line": {
              "color": "#E5ECF6",
              "width": 0.5
             },
             "pattern": {
              "fillmode": "overlay",
              "size": 10,
              "solidity": 0.2
             }
            },
            "type": "bar"
           }
          ],
          "barpolar": [
           {
            "marker": {
             "line": {
              "color": "#E5ECF6",
              "width": 0.5
             },
             "pattern": {
              "fillmode": "overlay",
              "size": 10,
              "solidity": 0.2
             }
            },
            "type": "barpolar"
           }
          ],
          "carpet": [
           {
            "aaxis": {
             "endlinecolor": "#2a3f5f",
             "gridcolor": "white",
             "linecolor": "white",
             "minorgridcolor": "white",
             "startlinecolor": "#2a3f5f"
            },
            "baxis": {
             "endlinecolor": "#2a3f5f",
             "gridcolor": "white",
             "linecolor": "white",
             "minorgridcolor": "white",
             "startlinecolor": "#2a3f5f"
            },
            "type": "carpet"
           }
          ],
          "choropleth": [
           {
            "colorbar": {
             "outlinewidth": 0,
             "ticks": ""
            },
            "type": "choropleth"
           }
          ],
          "contour": [
           {
            "colorbar": {
             "outlinewidth": 0,
             "ticks": ""
            },
            "colorscale": [
             [
              0,
              "#0d0887"
             ],
             [
              0.1111111111111111,
              "#46039f"
             ],
             [
              0.2222222222222222,
              "#7201a8"
             ],
             [
              0.3333333333333333,
              "#9c179e"
             ],
             [
              0.4444444444444444,
              "#bd3786"
             ],
             [
              0.5555555555555556,
              "#d8576b"
             ],
             [
              0.6666666666666666,
              "#ed7953"
             ],
             [
              0.7777777777777778,
              "#fb9f3a"
             ],
             [
              0.8888888888888888,
              "#fdca26"
             ],
             [
              1,
              "#f0f921"
             ]
            ],
            "type": "contour"
           }
          ],
          "contourcarpet": [
           {
            "colorbar": {
             "outlinewidth": 0,
             "ticks": ""
            },
            "type": "contourcarpet"
           }
          ],
          "heatmap": [
           {
            "colorbar": {
             "outlinewidth": 0,
             "ticks": ""
            },
            "colorscale": [
             [
              0,
              "#0d0887"
             ],
             [
              0.1111111111111111,
              "#46039f"
             ],
             [
              0.2222222222222222,
              "#7201a8"
             ],
             [
              0.3333333333333333,
              "#9c179e"
             ],
             [
              0.4444444444444444,
              "#bd3786"
             ],
             [
              0.5555555555555556,
              "#d8576b"
             ],
             [
              0.6666666666666666,
              "#ed7953"
             ],
             [
              0.7777777777777778,
              "#fb9f3a"
             ],
             [
              0.8888888888888888,
              "#fdca26"
             ],
             [
              1,
              "#f0f921"
             ]
            ],
            "type": "heatmap"
           }
          ],
          "heatmapgl": [
           {
            "colorbar": {
             "outlinewidth": 0,
             "ticks": ""
            },
            "colorscale": [
             [
              0,
              "#0d0887"
             ],
             [
              0.1111111111111111,
              "#46039f"
             ],
             [
              0.2222222222222222,
              "#7201a8"
             ],
             [
              0.3333333333333333,
              "#9c179e"
             ],
             [
              0.4444444444444444,
              "#bd3786"
             ],
             [
              0.5555555555555556,
              "#d8576b"
             ],
             [
              0.6666666666666666,
              "#ed7953"
             ],
             [
              0.7777777777777778,
              "#fb9f3a"
             ],
             [
              0.8888888888888888,
              "#fdca26"
             ],
             [
              1,
              "#f0f921"
             ]
            ],
            "type": "heatmapgl"
           }
          ],
          "histogram": [
           {
            "marker": {
             "pattern": {
              "fillmode": "overlay",
              "size": 10,
              "solidity": 0.2
             }
            },
            "type": "histogram"
           }
          ],
          "histogram2d": [
           {
            "colorbar": {
             "outlinewidth": 0,
             "ticks": ""
            },
            "colorscale": [
             [
              0,
              "#0d0887"
             ],
             [
              0.1111111111111111,
              "#46039f"
             ],
             [
              0.2222222222222222,
              "#7201a8"
             ],
             [
              0.3333333333333333,
              "#9c179e"
             ],
             [
              0.4444444444444444,
              "#bd3786"
             ],
             [
              0.5555555555555556,
              "#d8576b"
             ],
             [
              0.6666666666666666,
              "#ed7953"
             ],
             [
              0.7777777777777778,
              "#fb9f3a"
             ],
             [
              0.8888888888888888,
              "#fdca26"
             ],
             [
              1,
              "#f0f921"
             ]
            ],
            "type": "histogram2d"
           }
          ],
          "histogram2dcontour": [
           {
            "colorbar": {
             "outlinewidth": 0,
             "ticks": ""
            },
            "colorscale": [
             [
              0,
              "#0d0887"
             ],
             [
              0.1111111111111111,
              "#46039f"
             ],
             [
              0.2222222222222222,
              "#7201a8"
             ],
             [
              0.3333333333333333,
              "#9c179e"
             ],
             [
              0.4444444444444444,
              "#bd3786"
             ],
             [
              0.5555555555555556,
              "#d8576b"
             ],
             [
              0.6666666666666666,
              "#ed7953"
             ],
             [
              0.7777777777777778,
              "#fb9f3a"
             ],
             [
              0.8888888888888888,
              "#fdca26"
             ],
             [
              1,
              "#f0f921"
             ]
            ],
            "type": "histogram2dcontour"
           }
          ],
          "mesh3d": [
           {
            "colorbar": {
             "outlinewidth": 0,
             "ticks": ""
            },
            "type": "mesh3d"
           }
          ],
          "parcoords": [
           {
            "line": {
             "colorbar": {
              "outlinewidth": 0,
              "ticks": ""
             }
            },
            "type": "parcoords"
           }
          ],
          "pie": [
           {
            "automargin": true,
            "type": "pie"
           }
          ],
          "scatter": [
           {
            "fillpattern": {
             "fillmode": "overlay",
             "size": 10,
             "solidity": 0.2
            },
            "type": "scatter"
           }
          ],
          "scatter3d": [
           {
            "line": {
             "colorbar": {
              "outlinewidth": 0,
              "ticks": ""
             }
            },
            "marker": {
             "colorbar": {
              "outlinewidth": 0,
              "ticks": ""
             }
            },
            "type": "scatter3d"
           }
          ],
          "scattercarpet": [
           {
            "marker": {
             "colorbar": {
              "outlinewidth": 0,
              "ticks": ""
             }
            },
            "type": "scattercarpet"
           }
          ],
          "scattergeo": [
           {
            "marker": {
             "colorbar": {
              "outlinewidth": 0,
              "ticks": ""
             }
            },
            "type": "scattergeo"
           }
          ],
          "scattergl": [
           {
            "marker": {
             "colorbar": {
              "outlinewidth": 0,
              "ticks": ""
             }
            },
            "type": "scattergl"
           }
          ],
          "scattermapbox": [
           {
            "marker": {
             "colorbar": {
              "outlinewidth": 0,
              "ticks": ""
             }
            },
            "type": "scattermapbox"
           }
          ],
          "scatterpolar": [
           {
            "marker": {
             "colorbar": {
              "outlinewidth": 0,
              "ticks": ""
             }
            },
            "type": "scatterpolar"
           }
          ],
          "scatterpolargl": [
           {
            "marker": {
             "colorbar": {
              "outlinewidth": 0,
              "ticks": ""
             }
            },
            "type": "scatterpolargl"
           }
          ],
          "scatterternary": [
           {
            "marker": {
             "colorbar": {
              "outlinewidth": 0,
              "ticks": ""
             }
            },
            "type": "scatterternary"
           }
          ],
          "surface": [
           {
            "colorbar": {
             "outlinewidth": 0,
             "ticks": ""
            },
            "colorscale": [
             [
              0,
              "#0d0887"
             ],
             [
              0.1111111111111111,
              "#46039f"
             ],
             [
              0.2222222222222222,
              "#7201a8"
             ],
             [
              0.3333333333333333,
              "#9c179e"
             ],
             [
              0.4444444444444444,
              "#bd3786"
             ],
             [
              0.5555555555555556,
              "#d8576b"
             ],
             [
              0.6666666666666666,
              "#ed7953"
             ],
             [
              0.7777777777777778,
              "#fb9f3a"
             ],
             [
              0.8888888888888888,
              "#fdca26"
             ],
             [
              1,
              "#f0f921"
             ]
            ],
            "type": "surface"
           }
          ],
          "table": [
           {
            "cells": {
             "fill": {
              "color": "#EBF0F8"
             },
             "line": {
              "color": "white"
             }
            },
            "header": {
             "fill": {
              "color": "#C8D4E3"
             },
             "line": {
              "color": "white"
             }
            },
            "type": "table"
           }
          ]
         },
         "layout": {
          "annotationdefaults": {
           "arrowcolor": "#2a3f5f",
           "arrowhead": 0,
           "arrowwidth": 1
          },
          "autotypenumbers": "strict",
          "coloraxis": {
           "colorbar": {
            "outlinewidth": 0,
            "ticks": ""
           }
          },
          "colorscale": {
           "diverging": [
            [
             0,
             "#8e0152"
            ],
            [
             0.1,
             "#c51b7d"
            ],
            [
             0.2,
             "#de77ae"
            ],
            [
             0.3,
             "#f1b6da"
            ],
            [
             0.4,
             "#fde0ef"
            ],
            [
             0.5,
             "#f7f7f7"
            ],
            [
             0.6,
             "#e6f5d0"
            ],
            [
             0.7,
             "#b8e186"
            ],
            [
             0.8,
             "#7fbc41"
            ],
            [
             0.9,
             "#4d9221"
            ],
            [
             1,
             "#276419"
            ]
           ],
           "sequential": [
            [
             0,
             "#0d0887"
            ],
            [
             0.1111111111111111,
             "#46039f"
            ],
            [
             0.2222222222222222,
             "#7201a8"
            ],
            [
             0.3333333333333333,
             "#9c179e"
            ],
            [
             0.4444444444444444,
             "#bd3786"
            ],
            [
             0.5555555555555556,
             "#d8576b"
            ],
            [
             0.6666666666666666,
             "#ed7953"
            ],
            [
             0.7777777777777778,
             "#fb9f3a"
            ],
            [
             0.8888888888888888,
             "#fdca26"
            ],
            [
             1,
             "#f0f921"
            ]
           ],
           "sequentialminus": [
            [
             0,
             "#0d0887"
            ],
            [
             0.1111111111111111,
             "#46039f"
            ],
            [
             0.2222222222222222,
             "#7201a8"
            ],
            [
             0.3333333333333333,
             "#9c179e"
            ],
            [
             0.4444444444444444,
             "#bd3786"
            ],
            [
             0.5555555555555556,
             "#d8576b"
            ],
            [
             0.6666666666666666,
             "#ed7953"
            ],
            [
             0.7777777777777778,
             "#fb9f3a"
            ],
            [
             0.8888888888888888,
             "#fdca26"
            ],
            [
             1,
             "#f0f921"
            ]
           ]
          },
          "colorway": [
           "#636efa",
           "#EF553B",
           "#00cc96",
           "#ab63fa",
           "#FFA15A",
           "#19d3f3",
           "#FF6692",
           "#B6E880",
           "#FF97FF",
           "#FECB52"
          ],
          "font": {
           "color": "#2a3f5f"
          },
          "geo": {
           "bgcolor": "white",
           "lakecolor": "white",
           "landcolor": "#E5ECF6",
           "showlakes": true,
           "showland": true,
           "subunitcolor": "white"
          },
          "hoverlabel": {
           "align": "left"
          },
          "hovermode": "closest",
          "mapbox": {
           "style": "light"
          },
          "paper_bgcolor": "white",
          "plot_bgcolor": "#E5ECF6",
          "polar": {
           "angularaxis": {
            "gridcolor": "white",
            "linecolor": "white",
            "ticks": ""
           },
           "bgcolor": "#E5ECF6",
           "radialaxis": {
            "gridcolor": "white",
            "linecolor": "white",
            "ticks": ""
           }
          },
          "scene": {
           "xaxis": {
            "backgroundcolor": "#E5ECF6",
            "gridcolor": "white",
            "gridwidth": 2,
            "linecolor": "white",
            "showbackground": true,
            "ticks": "",
            "zerolinecolor": "white"
           },
           "yaxis": {
            "backgroundcolor": "#E5ECF6",
            "gridcolor": "white",
            "gridwidth": 2,
            "linecolor": "white",
            "showbackground": true,
            "ticks": "",
            "zerolinecolor": "white"
           },
           "zaxis": {
            "backgroundcolor": "#E5ECF6",
            "gridcolor": "white",
            "gridwidth": 2,
            "linecolor": "white",
            "showbackground": true,
            "ticks": "",
            "zerolinecolor": "white"
           }
          },
          "shapedefaults": {
           "line": {
            "color": "#2a3f5f"
           }
          },
          "ternary": {
           "aaxis": {
            "gridcolor": "white",
            "linecolor": "white",
            "ticks": ""
           },
           "baxis": {
            "gridcolor": "white",
            "linecolor": "white",
            "ticks": ""
           },
           "bgcolor": "#E5ECF6",
           "caxis": {
            "gridcolor": "white",
            "linecolor": "white",
            "ticks": ""
           }
          },
          "title": {
           "x": 0.05
          },
          "xaxis": {
           "automargin": true,
           "gridcolor": "white",
           "linecolor": "white",
           "ticks": "",
           "title": {
            "standoff": 15
           },
           "zerolinecolor": "white",
           "zerolinewidth": 2
          },
          "yaxis": {
           "automargin": true,
           "gridcolor": "white",
           "linecolor": "white",
           "ticks": "",
           "title": {
            "standoff": 15
           },
           "zerolinecolor": "white",
           "zerolinewidth": 2
          }
         }
        },
        "title": {
         "text": ""
        },
        "xaxis": {
         "anchor": "y",
         "autorange": true,
         "domain": [
          0,
          1
         ],
         "range": [
          "2023-03-29 03:25:22.0637",
          "2023-03-29 03:41:52.0737"
         ],
         "title": {
          "text": "time"
         },
         "type": "date"
        },
        "yaxis": {
         "anchor": "x",
         "autorange": true,
         "domain": [
          0,
          1
         ],
         "range": [
          2.6333333333333333,
          39.96666666666667
         ],
         "title": {
          "text": "cpu_percent"
         },
         "type": "linear"
        }
       }
      },
      "image/png": "[encoded data removed]",
      "text/html": [
       "<div>                            <div id=\"eeae6e04-d491-40c7-b976-f2865c2d23b2\" class=\"plotly-graph-div\" style=\"height:525px; width:100%;\"></div>            <script type=\"text/javascript\">                require([\"plotly\"], function(Plotly) {                    window.PLOTLYENV=window.PLOTLYENV || {};                                    if (document.getElementById(\"eeae6e04-d491-40c7-b976-f2865c2d23b2\")) {                    Plotly.newPlot(                        \"eeae6e04-d491-40c7-b976-f2865c2d23b2\",                        [{\"hovertemplate\":\"time=%{x}<br>cpu_percent=%{y}<extra></extra>\",\"legendgroup\":\"\",\"line\":{\"color\":\"#636efa\",\"dash\":\"solid\"},\"marker\":{\"symbol\":\"circle\"},\"mode\":\"lines\",\"name\":\"\",\"orientation\":\"v\",\"showlegend\":false,\"x\":[\"2023-03-29T03:41:52.073714Z\",\"2023-03-29T03:41:42.060109Z\",\"2023-03-29T03:41:32.063336Z\",\"2023-03-29T03:41:22.077067Z\",\"2023-03-29T03:41:12.064338Z\",\"2023-03-29T03:41:02.076199Z\",\"2023-03-29T03:40:52.063291Z\",\"2023-03-29T03:40:42.073605Z\",\"2023-03-29T03:40:32.073661Z\",\"2023-03-29T03:40:22.066871Z\",\"2023-03-29T03:40:12.064316Z\",\"2023-03-29T03:40:02.070569Z\",\"2023-03-29T03:39:52.062170Z\",\"2023-03-29T03:39:42.071652Z\",\"2023-03-29T03:39:32.064518Z\",\"2023-03-29T03:39:22.068087Z\",\"2023-03-29T03:39:12.060009Z\",\"2023-03-29T03:39:02.067788Z\",\"2023-03-29T03:38:52.063001Z\",\"2023-03-29T03:38:42.066012Z\",\"2023-03-29T03:38:32.059915Z\",\"2023-03-29T03:38:22.073628Z\",\"2023-03-29T03:38:12.069785Z\",\"2023-03-29T03:38:02.064547Z\",\"2023-03-29T03:37:52.059357Z\",\"2023-03-29T03:37:42.073101Z\",\"2023-03-29T03:37:32.064316Z\",\"2023-03-29T03:37:22.066302Z\",\"2023-03-29T03:37:12.063943Z\",\"2023-03-29T03:37:02.065043Z\",\"2023-03-29T03:36:52.060929Z\",\"2023-03-29T03:36:42.066859Z\",\"2023-03-29T03:36:32.066931Z\",\"2023-03-29T03:36:22.067812Z\",\"2023-03-29T03:36:12.059655Z\",\"2023-03-29T03:36:02.065809Z\",\"2023-03-29T03:35:52.070462Z\",\"2023-03-29T03:35:42.064178Z\",\"2023-03-29T03:35:32.069263Z\",\"2023-03-29T03:35:22.067350Z\",\"2023-03-29T03:35:12.067104Z\",\"2023-03-29T03:35:02.074574Z\",\"2023-03-29T03:34:52.071211Z\",\"2023-03-29T03:34:42.066198Z\",\"2023-03-29T03:34:32.065966Z\",\"2023-03-29T03:34:22.067066Z\",\"2023-03-29T03:34:12.066246Z\",\"2023-03-29T03:34:02.068052Z\",\"2023-03-29T03:33:52.072897Z\",\"2023-03-29T03:33:42.069299Z\",\"2023-03-29T03:33:32.063187Z\",\"2023-03-29T03:33:22.072705Z\",\"2023-03-29T03:33:12.064437Z\",\"2023-03-29T03:33:02.070613Z\",\"2023-03-29T03:32:52.064647Z\",\"2023-03-29T03:32:42.070962Z\",\"2023-03-29T03:32:32.059707Z\",\"2023-03-29T03:32:22.066193Z\",\"2023-03-29T03:32:12.061128Z\",\"2023-03-29T03:32:02.060883Z\",\"2023-03-29T03:31:52.071463Z\",\"2023-03-29T03:31:42.068473Z\",\"2023-03-29T03:31:32.062852Z\",\"2023-03-29T03:31:22.063048Z\",\"2023-03-29T03:31:12.059852Z\",\"2023-03-29T03:31:02.075207Z\",\"2023-03-29T03:30:52.062847Z\",\"2023-03-29T03:30:42.068787Z\",\"2023-03-29T03:30:32.063472Z\",\"2023-03-29T03:30:22.064512Z\",\"2023-03-29T03:30:12.065919Z\",\"2023-03-29T03:30:02.066939Z\",\"2023-03-29T03:29:52.072131Z\",\"2023-03-29T03:29:42.061429Z\",\"2023-03-29T03:29:32.060147Z\",\"2023-03-29T03:29:22.061959Z\",\"2023-03-29T03:29:12.065928Z\",\"2023-03-29T03:29:02.079564Z\",\"2023-03-29T03:28:52.073305Z\",\"2023-03-29T03:28:42.067305Z\",\"2023-03-29T03:28:32.077218Z\",\"2023-03-29T03:28:22.073749Z\",\"2023-03-29T03:28:12.073051Z\",\"2023-03-29T03:28:02.071913Z\",\"2023-03-29T03:27:52.064110Z\",\"2023-03-29T03:27:42.068037Z\",\"2023-03-29T03:27:32.063648Z\",\"2023-03-29T03:27:22.067544Z\",\"2023-03-29T03:27:12.072271Z\",\"2023-03-29T03:27:02.069423Z\",\"2023-03-29T03:26:52.069855Z\",\"2023-03-29T03:26:42.063760Z\",\"2023-03-29T03:26:32.065214Z\",\"2023-03-29T03:26:22.062663Z\",\"2023-03-29T03:26:12.068003Z\",\"2023-03-29T03:26:02.068542Z\",\"2023-03-29T03:25:52.066151Z\",\"2023-03-29T03:25:42.066528Z\",\"2023-03-29T03:25:32.060667Z\",\"2023-03-29T03:25:22.063694Z\"],\"xaxis\":\"x\",\"y\":[6.1,6.8,6.0,38.1,6.2,7.0,5.9,7.7,6.3,27.5,12.3,7.9,13.9,21.1,6.8,32.5,5.4,5.9,6.1,6.3,6.3,25.9,6.7,5.4,6.1,5.1,6.0,24.5,6.0,5.7,7.4,5.4,6.0,24.6,6.1,6.1,6.2,6.1,6.7,24.1,5.6,6.0,6.0,5.7,5.9,26.0,5.9,5.6,7.3,4.5,6.1,24.4,7.0,5.4,6.5,6.0,6.7,24.8,5.8,6.8,6.5,6.3,5.7,25.9,5.9,6.3,5.9,5.9,5.0,25.9,5.0,6.1,6.3,5.9,5.7,25.0,6.0,5.9,6.3,7.1,11.9,27.6,6.5,6.7,6.6,5.3,6.9,25.0,6.6,6.2,6.5,7.2,5.8,26.4,6.2,5.7,7.5,5.5,6.6,25.0],\"yaxis\":\"y\",\"type\":\"scatter\"}],                        {\"template\":{\"data\":{\"histogram2dcontour\":[{\"type\":\"histogram2dcontour\",\"colorbar\":{\"outlinewidth\":0,\"ticks\":\"\"},\"colorscale\":[[0.0,\"#0d0887\"],[0.1111111111111111,\"#46039f\"],[0.2222222222222222,\"#7201a8\"],[0.3333333333333333,\"#9c179e\"],[0.4444444444444444,\"#bd3786\"],[0.5555555555555556,\"#d8576b\"],[0.6666666666666666,\"#ed7953\"],[0.7777777777777778,\"#fb9f3a\"],[0.8888888888888888,\"#fdca26\"],[1.0,\"#f0f921\"]]}],\"choropleth\":[{\"type\":\"choropleth\",\"colorbar\":{\"outlinewidth\":0,\"ticks\":\"\"}}],\"histogram2d\":[{\"type\":\"histogram2d\",\"colorbar\":{\"outlinewidth\":0,\"ticks\":\"\"},\"colorscale\":[[0.0,\"#0d0887\"],[0.1111111111111111,\"#46039f\"],[0.2222222222222222,\"#7201a8\"],[0.3333333333333333,\"#9c179e\"],[0.4444444444444444,\"#bd3786\"],[0.5555555555555556,\"#d8576b\"],[0.6666666666666666,\"#ed7953\"],[0.7777777777777778,\"#fb9f3a\"],[0.8888888888888888,\"#fdca26\"],[1.0,\"#f0f921\"]]}],\"heatmap\":[{\"type\":\"heatmap\",\"colorbar\":{\"outlinewidth\":0,\"ticks\":\"\"},\"colorscale\":[[0.0,\"#0d0887\"],[0.1111111111111111,\"#46039f\"],[0.2222222222222222,\"#7201a8\"],[0.3333333333333333,\"#9c179e\"],[0.4444444444444444,\"#bd3786\"],[0.5555555555555556,\"#d8576b\"],[0.6666666666666666,\"#ed7953\"],[0.7777777777777778,\"#fb9f3a\"],[0.8888888888888888,\"#fdca26\"],[1.0,\"#f0f921\"]]}],\"heatmapgl\":[{\"type\":\"heatmapgl\",\"colorbar\":{\"outlinewidth\":0,\"ticks\":\"\"},\"colorscale\":[[0.0,\"#0d0887\"],[0.1111111111111111,\"#46039f\"],[0.2222222222222222,\"#7201a8\"],[0.3333333333333333,\"#9c179e\"],[0.4444444444444444,\"#bd3786\"],[0.5555555555555556,\"#d8576b\"],[0.6666666666666666,\"#ed7953\"],[0.7777777777777778,\"#fb9f3a\"],[0.8888888888888888,\"#fdca26\"],[1.0,\"#f0f921\"]]}],\"contourcarpet\":[{\"type\":\"contourcarpet\",\"colorbar\":{\"outlinewidth\":0,\"ticks\":\"\"}}],\"contour\":[{\"type\":\"contour\",\"colorbar\":{\"outlinewidth\":0,\"ticks\":\"\"},\"colorscale\":[[0.0,\"#0d0887\"],[0.1111111111111111,\"#46039f\"],[0.2222222222222222,\"#7201a8\"],[0.3333333333333333,\"#9c179e\"],[0.4444444444444444,\"#bd3786\"],[0.5555555555555556,\"#d8576b\"],[0.6666666666666666,\"#ed7953\"],[0.7777777777777778,\"#fb9f3a\"],[0.8888888888888888,\"#fdca26\"],[1.0,\"#f0f921\"]]}],\"surface\":[{\"type\":\"surface\",\"colorbar\":{\"outlinewidth\":0,\"ticks\":\"\"},\"colorscale\":[[0.0,\"#0d0887\"],[0.1111111111111111,\"#46039f\"],[0.2222222222222222,\"#7201a8\"],[0.3333333333333333,\"#9c179e\"],[0.4444444444444444,\"#bd3786\"],[0.5555555555555556,\"#d8576b\"],[0.6666666666666666,\"#ed7953\"],[0.7777777777777778,\"#fb9f3a\"],[0.8888888888888888,\"#fdca26\"],[1.0,\"#f0f921\"]]}],\"mesh3d\":[{\"type\":\"mesh3d\",\"colorbar\":{\"outlinewidth\":0,\"ticks\":\"\"}}],\"scatter\":[{\"fillpattern\":{\"fillmode\":\"overlay\",\"size\":10,\"solidity\":0.2},\"type\":\"scatter\"}],\"parcoords\":[{\"type\":\"parcoords\",\"line\":{\"colorbar\":{\"outlinewidth\":0,\"ticks\":\"\"}}}],\"scatterpolargl\":[{\"type\":\"scatterpolargl\",\"marker\":{\"colorbar\":{\"outlinewidth\":0,\"ticks\":\"\"}}}],\"bar\":[{\"error_x\":{\"color\":\"#2a3f5f\"},\"error_y\":{\"color\":\"#2a3f5f\"},\"marker\":{\"line\":{\"color\":\"#E5ECF6\",\"width\":0.5},\"pattern\":{\"fillmode\":\"overlay\",\"size\":10,\"solidity\":0.2}},\"type\":\"bar\"}],\"scattergeo\":[{\"type\":\"scattergeo\",\"marker\":{\"colorbar\":{\"outlinewidth\":0,\"ticks\":\"\"}}}],\"scatterpolar\":[{\"type\":\"scatterpolar\",\"marker\":{\"colorbar\":{\"outlinewidth\":0,\"ticks\":\"\"}}}],\"histogram\":[{\"marker\":{\"pattern\":{\"fillmode\":\"overlay\",\"size\":10,\"solidity\":0.2}},\"type\":\"histogram\"}],\"scattergl\":[{\"type\":\"scattergl\",\"marker\":{\"colorbar\":{\"outlinewidth\":0,\"ticks\":\"\"}}}],\"scatter3d\":[{\"type\":\"scatter3d\",\"line\":{\"colorbar\":{\"outlinewidth\":0,\"ticks\":\"\"}},\"marker\":{\"colorbar\":{\"outlinewidth\":0,\"ticks\":\"\"}}}],\"scattermapbox\":[{\"type\":\"scattermapbox\",\"marker\":{\"colorbar\":{\"outlinewidth\":0,\"ticks\":\"\"}}}],\"scatterternary\":[{\"type\":\"scatterternary\",\"marker\":{\"colorbar\":{\"outlinewidth\":0,\"ticks\":\"\"}}}],\"scattercarpet\":[{\"type\":\"scattercarpet\",\"marker\":{\"colorbar\":{\"outlinewidth\":0,\"ticks\":\"\"}}}],\"carpet\":[{\"aaxis\":{\"endlinecolor\":\"#2a3f5f\",\"gridcolor\":\"white\",\"linecolor\":\"white\",\"minorgridcolor\":\"white\",\"startlinecolor\":\"#2a3f5f\"},\"baxis\":{\"endlinecolor\":\"#2a3f5f\",\"gridcolor\":\"white\",\"linecolor\":\"white\",\"minorgridcolor\":\"white\",\"startlinecolor\":\"#2a3f5f\"},\"type\":\"carpet\"}],\"table\":[{\"cells\":{\"fill\":{\"color\":\"#EBF0F8\"},\"line\":{\"color\":\"white\"}},\"header\":{\"fill\":{\"color\":\"#C8D4E3\"},\"line\":{\"color\":\"white\"}},\"type\":\"table\"}],\"barpolar\":[{\"marker\":{\"line\":{\"color\":\"#E5ECF6\",\"width\":0.5},\"pattern\":{\"fillmode\":\"overlay\",\"size\":10,\"solidity\":0.2}},\"type\":\"barpolar\"}],\"pie\":[{\"automargin\":true,\"type\":\"pie\"}]},\"layout\":{\"autotypenumbers\":\"strict\",\"colorway\":[\"#636efa\",\"#EF553B\",\"#00cc96\",\"#ab63fa\",\"#FFA15A\",\"#19d3f3\",\"#FF6692\",\"#B6E880\",\"#FF97FF\",\"#FECB52\"],\"font\":{\"color\":\"#2a3f5f\"},\"hovermode\":\"closest\",\"hoverlabel\":{\"align\":\"left\"},\"paper_bgcolor\":\"white\",\"plot_bgcolor\":\"#E5ECF6\",\"polar\":{\"bgcolor\":\"#E5ECF6\",\"angularaxis\":{\"gridcolor\":\"white\",\"linecolor\":\"white\",\"ticks\":\"\"},\"radialaxis\":{\"gridcolor\":\"white\",\"linecolor\":\"white\",\"ticks\":\"\"}},\"ternary\":{\"bgcolor\":\"#E5ECF6\",\"aaxis\":{\"gridcolor\":\"white\",\"linecolor\":\"white\",\"ticks\":\"\"},\"baxis\":{\"gridcolor\":\"white\",\"linecolor\":\"white\",\"ticks\":\"\"},\"caxis\":{\"gridcolor\":\"white\",\"linecolor\":\"white\",\"ticks\":\"\"}},\"coloraxis\":{\"colorbar\":{\"outlinewidth\":0,\"ticks\":\"\"}},\"colorscale\":{\"sequential\":[[0.0,\"#0d0887\"],[0.1111111111111111,\"#46039f\"],[0.2222222222222222,\"#7201a8\"],[0.3333333333333333,\"#9c179e\"],[0.4444444444444444,\"#bd3786\"],[0.5555555555555556,\"#d8576b\"],[0.6666666666666666,\"#ed7953\"],[0.7777777777777778,\"#fb9f3a\"],[0.8888888888888888,\"#fdca26\"],[1.0,\"#f0f921\"]],\"sequentialminus\":[[0.0,\"#0d0887\"],[0.1111111111111111,\"#46039f\"],[0.2222222222222222,\"#7201a8\"],[0.3333333333333333,\"#9c179e\"],[0.4444444444444444,\"#bd3786\"],[0.5555555555555556,\"#d8576b\"],[0.6666666666666666,\"#ed7953\"],[0.7777777777777778,\"#fb9f3a\"],[0.8888888888888888,\"#fdca26\"],[1.0,\"#f0f921\"]],\"diverging\":[[0,\"#8e0152\"],[0.1,\"#c51b7d\"],[0.2,\"#de77ae\"],[0.3,\"#f1b6da\"],[0.4,\"#fde0ef\"],[0.5,\"#f7f7f7\"],[0.6,\"#e6f5d0\"],[0.7,\"#b8e186\"],[0.8,\"#7fbc41\"],[0.9,\"#4d9221\"],[1,\"#276419\"]]},\"xaxis\":{\"gridcolor\":\"white\",\"linecolor\":\"white\",\"ticks\":\"\",\"title\":{\"standoff\":15},\"zerolinecolor\":\"white\",\"automargin\":true,\"zerolinewidth\":2},\"yaxis\":{\"gridcolor\":\"white\",\"linecolor\":\"white\",\"ticks\":\"\",\"title\":{\"standoff\":15},\"zerolinecolor\":\"white\",\"automargin\":true,\"zerolinewidth\":2},\"scene\":{\"xaxis\":{\"backgroundcolor\":\"#E5ECF6\",\"gridcolor\":\"white\",\"linecolor\":\"white\",\"showbackground\":true,\"ticks\":\"\",\"zerolinecolor\":\"white\",\"gridwidth\":2},\"yaxis\":{\"backgroundcolor\":\"#E5ECF6\",\"gridcolor\":\"white\",\"linecolor\":\"white\",\"showbackground\":true,\"ticks\":\"\",\"zerolinecolor\":\"white\",\"gridwidth\":2},\"zaxis\":{\"backgroundcolor\":\"#E5ECF6\",\"gridcolor\":\"white\",\"linecolor\":\"white\",\"showbackground\":true,\"ticks\":\"\",\"zerolinecolor\":\"white\",\"gridwidth\":2}},\"shapedefaults\":{\"line\":{\"color\":\"#2a3f5f\"}},\"annotationdefaults\":{\"arrowcolor\":\"#2a3f5f\",\"arrowhead\":0,\"arrowwidth\":1},\"geo\":{\"bgcolor\":\"white\",\"landcolor\":\"#E5ECF6\",\"subunitcolor\":\"white\",\"showland\":true,\"showlakes\":true,\"lakecolor\":\"white\"},\"title\":{\"x\":0.05},\"mapbox\":{\"style\":\"light\"}}},\"xaxis\":{\"anchor\":\"y\",\"domain\":[0.0,1.0],\"title\":{\"text\":\"time\"}},\"yaxis\":{\"anchor\":\"x\",\"domain\":[0.0,1.0],\"title\":{\"text\":\"cpu_percent\"}},\"legend\":{\"tracegroupgap\":0},\"margin\":{\"t\":60},\"title\":{\"text\":\"\"}},                        {\"responsive\": true}                    ).then(function(){\n",
       "                            \n",
       "var gd = document.getElementById('eeae6e04-d491-40c7-b976-f2865c2d23b2');\n",
       "var x = new MutationObserver(function (mutations, observer) {{\n",
       "        var display = window.getComputedStyle(gd).display;\n",
       "        if (!display || display === 'none') {{\n",
       "            console.log([gd, 'removed!']);\n",
       "            Plotly.purge(gd);\n",
       "            observer.disconnect();\n",
       "        }}\n",
       "}});\n",
       "\n",
       "// Listen for the removal of the full notebook cells\n",
       "var notebookContainer = gd.closest('#notebook-container');\n",
       "if (notebookContainer) {{\n",
       "    x.observe(notebookContainer, {childList: true});\n",
       "}}\n",
       "\n",
       "// Listen for the clearing of the current output cell\n",
       "var outputEl = gd.closest('.output');\n",
       "if (outputEl) {{\n",
       "    x.observe(outputEl, {childList: true});\n",
       "}}\n",
       "\n",
       "                        })                };                });            </script>        </div>"
      ]
     },
     "metadata": {},
     "output_type": "display_data"
    },
    {
     "data": {
      "application/vnd.plotly.v1+json": {
       "config": {
        "plotlyServerURL": "https://plot.ly"
       },
       "data": [
        {
         "hovertemplate": "time=%{x}<br>cpu_percent=%{y}<extra></extra>",
         "legendgroup": "",
         "line": {
          "color": "#636efa",
          "dash": "solid"
         },
         "marker": {
          "symbol": "circle"
         },
         "mode": "lines",
         "name": "",
         "orientation": "v",
         "showlegend": false,
         "type": "scatter",
         "x": [
          "2023-03-29T03:41:52.073714Z",
          "2023-03-29T03:41:42.060109Z",
          "2023-03-29T03:41:32.063336Z",
          "2023-03-29T03:41:22.077067Z",
          "2023-03-29T03:41:12.064338Z",
          "2023-03-29T03:41:02.076199Z",
          "2023-03-29T03:40:52.063291Z",
          "2023-03-29T03:40:42.073605Z",
          "2023-03-29T03:40:32.073661Z",
          "2023-03-29T03:40:22.066871Z",
          "2023-03-29T03:40:12.064316Z",
          "2023-03-29T03:40:02.070569Z",
          "2023-03-29T03:39:52.062170Z",
          "2023-03-29T03:39:42.071652Z",
          "2023-03-29T03:39:32.064518Z",
          "2023-03-29T03:39:22.068087Z",
          "2023-03-29T03:39:12.060009Z",
          "2023-03-29T03:39:02.067788Z",
          "2023-03-29T03:38:52.063001Z",
          "2023-03-29T03:38:42.066012Z",
          "2023-03-29T03:38:32.059915Z",
          "2023-03-29T03:38:22.073628Z",
          "2023-03-29T03:38:12.069785Z",
          "2023-03-29T03:38:02.064547Z",
          "2023-03-29T03:37:52.059357Z",
          "2023-03-29T03:37:42.073101Z",
          "2023-03-29T03:37:32.064316Z",
          "2023-03-29T03:37:22.066302Z",
          "2023-03-29T03:37:12.063943Z",
          "2023-03-29T03:37:02.065043Z",
          "2023-03-29T03:36:52.060929Z",
          "2023-03-29T03:36:42.066859Z",
          "2023-03-29T03:36:32.066931Z",
          "2023-03-29T03:36:22.067812Z",
          "2023-03-29T03:36:12.059655Z",
          "2023-03-29T03:36:02.065809Z",
          "2023-03-29T03:35:52.070462Z",
          "2023-03-29T03:35:42.064178Z",
          "2023-03-29T03:35:32.069263Z",
          "2023-03-29T03:35:22.067350Z",
          "2023-03-29T03:35:12.067104Z",
          "2023-03-29T03:35:02.074574Z",
          "2023-03-29T03:34:52.071211Z",
          "2023-03-29T03:34:42.066198Z",
          "2023-03-29T03:34:32.065966Z",
          "2023-03-29T03:34:22.067066Z",
          "2023-03-29T03:34:12.066246Z",
          "2023-03-29T03:34:02.068052Z",
          "2023-03-29T03:33:52.072897Z",
          "2023-03-29T03:33:42.069299Z",
          "2023-03-29T03:33:32.063187Z",
          "2023-03-29T03:33:22.072705Z",
          "2023-03-29T03:33:12.064437Z",
          "2023-03-29T03:33:02.070613Z",
          "2023-03-29T03:32:52.064647Z",
          "2023-03-29T03:32:42.070962Z",
          "2023-03-29T03:32:32.059707Z",
          "2023-03-29T03:32:22.066193Z",
          "2023-03-29T03:32:12.061128Z",
          "2023-03-29T03:32:02.060883Z",
          "2023-03-29T03:31:52.071463Z",
          "2023-03-29T03:31:42.068473Z",
          "2023-03-29T03:31:32.062852Z",
          "2023-03-29T03:31:22.063048Z",
          "2023-03-29T03:31:12.059852Z",
          "2023-03-29T03:31:02.075207Z",
          "2023-03-29T03:30:52.062847Z",
          "2023-03-29T03:30:42.068787Z",
          "2023-03-29T03:30:32.063472Z",
          "2023-03-29T03:30:22.064512Z",
          "2023-03-29T03:30:12.065919Z",
          "2023-03-29T03:30:02.066939Z",
          "2023-03-29T03:29:52.072131Z",
          "2023-03-29T03:29:42.061429Z",
          "2023-03-29T03:29:32.060147Z",
          "2023-03-29T03:29:22.061959Z",
          "2023-03-29T03:29:12.065928Z",
          "2023-03-29T03:29:02.079564Z",
          "2023-03-29T03:28:52.073305Z",
          "2023-03-29T03:28:42.067305Z",
          "2023-03-29T03:28:32.077218Z",
          "2023-03-29T03:28:22.073749Z",
          "2023-03-29T03:28:12.073051Z",
          "2023-03-29T03:28:02.071913Z",
          "2023-03-29T03:27:52.064110Z",
          "2023-03-29T03:27:42.068037Z",
          "2023-03-29T03:27:32.063648Z",
          "2023-03-29T03:27:22.067544Z",
          "2023-03-29T03:27:12.072271Z",
          "2023-03-29T03:27:02.069423Z",
          "2023-03-29T03:26:52.069855Z",
          "2023-03-29T03:26:42.063760Z",
          "2023-03-29T03:26:32.065214Z",
          "2023-03-29T03:26:22.062663Z",
          "2023-03-29T03:26:12.068003Z",
          "2023-03-29T03:26:02.068542Z",
          "2023-03-29T03:25:52.066151Z",
          "2023-03-29T03:25:42.066528Z",
          "2023-03-29T03:25:32.060667Z",
          "2023-03-29T03:25:22.063694Z"
         ],
         "xaxis": "x",
         "y": [
          null,
          null,
          6.3,
          16.966666666666665,
          16.76666666666667,
          17.1,
          6.366666666666667,
          6.866666666666667,
          6.633333333333334,
          13.833333333333334,
          15.366666666666665,
          15.9,
          11.366666666666667,
          14.300000000000002,
          13.933333333333335,
          20.133333333333336,
          14.9,
          14.600000000000003,
          5.800000000000002,
          6.100000000000002,
          6.233333333333335,
          12.833333333333336,
          12.96666666666667,
          12.66666666666667,
          6.066666666666669,
          5.533333333333336,
          5.733333333333335,
          11.866666666666669,
          12.16666666666667,
          12.06666666666667,
          6.36666666666667,
          6.166666666666669,
          6.266666666666669,
          12.000000000000002,
          12.233333333333336,
          12.266666666666671,
          6.1333333333333355,
          6.1333333333333355,
          6.333333333333336,
          12.300000000000002,
          12.133333333333335,
          11.900000000000004,
          5.86666666666667,
          5.900000000000002,
          5.86666666666667,
          12.533333333333337,
          12.600000000000003,
          12.500000000000002,
          6.266666666666669,
          5.800000000000002,
          5.966666666666669,
          11.666666666666666,
          12.5,
          12.266666666666667,
          6.300000000000002,
          5.966666666666669,
          6.400000000000002,
          12.500000000000002,
          12.433333333333335,
          12.466666666666669,
          6.36666666666667,
          6.533333333333335,
          6.166666666666669,
          12.633333333333335,
          12.500000000000002,
          12.700000000000003,
          6.033333333333336,
          6.033333333333336,
          5.600000000000002,
          12.266666666666671,
          11.966666666666669,
          12.333333333333336,
          5.800000000000002,
          6.100000000000002,
          5.966666666666669,
          12.200000000000003,
          12.233333333333334,
          12.300000000000002,
          6.066666666666667,
          6.4333333333333345,
          8.433333333333335,
          15.533333333333337,
          15.333333333333334,
          13.600000000000001,
          6.600000000000001,
          6.2,
          6.266666666666668,
          12.4,
          12.833333333333336,
          12.600000000000001,
          6.4333333333333345,
          6.6333333333333355,
          6.500000000000001,
          13.133333333333335,
          12.799999999999999,
          12.766666666666667,
          6.466666666666669,
          6.233333333333334,
          6.533333333333334,
          12.366666666666667
         ],
         "yaxis": "y"
        }
       ],
       "layout": {
        "autosize": true,
        "legend": {
         "tracegroupgap": 0
        },
        "margin": {
         "t": 60
        },
        "template": {
         "data": {
          "bar": [
           {
            "error_x": {
             "color": "#2a3f5f"
            },
            "error_y": {
             "color": "#2a3f5f"
            },
            "marker": {
             "line": {
              "color": "#E5ECF6",
              "width": 0.5
             },
             "pattern": {
              "fillmode": "overlay",
              "size": 10,
              "solidity": 0.2
             }
            },
            "type": "bar"
           }
          ],
          "barpolar": [
           {
            "marker": {
             "line": {
              "color": "#E5ECF6",
              "width": 0.5
             },
             "pattern": {
              "fillmode": "overlay",
              "size": 10,
              "solidity": 0.2
             }
            },
            "type": "barpolar"
           }
          ],
          "carpet": [
           {
            "aaxis": {
             "endlinecolor": "#2a3f5f",
             "gridcolor": "white",
             "linecolor": "white",
             "minorgridcolor": "white",
             "startlinecolor": "#2a3f5f"
            },
            "baxis": {
             "endlinecolor": "#2a3f5f",
             "gridcolor": "white",
             "linecolor": "white",
             "minorgridcolor": "white",
             "startlinecolor": "#2a3f5f"
            },
            "type": "carpet"
           }
          ],
          "choropleth": [
           {
            "colorbar": {
             "outlinewidth": 0,
             "ticks": ""
            },
            "type": "choropleth"
           }
          ],
          "contour": [
           {
            "colorbar": {
             "outlinewidth": 0,
             "ticks": ""
            },
            "colorscale": [
             [
              0,
              "#0d0887"
             ],
             [
              0.1111111111111111,
              "#46039f"
             ],
             [
              0.2222222222222222,
              "#7201a8"
             ],
             [
              0.3333333333333333,
              "#9c179e"
             ],
             [
              0.4444444444444444,
              "#bd3786"
             ],
             [
              0.5555555555555556,
              "#d8576b"
             ],
             [
              0.6666666666666666,
              "#ed7953"
             ],
             [
              0.7777777777777778,
              "#fb9f3a"
             ],
             [
              0.8888888888888888,
              "#fdca26"
             ],
             [
              1,
              "#f0f921"
             ]
            ],
            "type": "contour"
           }
          ],
          "contourcarpet": [
           {
            "colorbar": {
             "outlinewidth": 0,
             "ticks": ""
            },
            "type": "contourcarpet"
           }
          ],
          "heatmap": [
           {
            "colorbar": {
             "outlinewidth": 0,
             "ticks": ""
            },
            "colorscale": [
             [
              0,
              "#0d0887"
             ],
             [
              0.1111111111111111,
              "#46039f"
             ],
             [
              0.2222222222222222,
              "#7201a8"
             ],
             [
              0.3333333333333333,
              "#9c179e"
             ],
             [
              0.4444444444444444,
              "#bd3786"
             ],
             [
              0.5555555555555556,
              "#d8576b"
             ],
             [
              0.6666666666666666,
              "#ed7953"
             ],
             [
              0.7777777777777778,
              "#fb9f3a"
             ],
             [
              0.8888888888888888,
              "#fdca26"
             ],
             [
              1,
              "#f0f921"
             ]
            ],
            "type": "heatmap"
           }
          ],
          "heatmapgl": [
           {
            "colorbar": {
             "outlinewidth": 0,
             "ticks": ""
            },
            "colorscale": [
             [
              0,
              "#0d0887"
             ],
             [
              0.1111111111111111,
              "#46039f"
             ],
             [
              0.2222222222222222,
              "#7201a8"
             ],
             [
              0.3333333333333333,
              "#9c179e"
             ],
             [
              0.4444444444444444,
              "#bd3786"
             ],
             [
              0.5555555555555556,
              "#d8576b"
             ],
             [
              0.6666666666666666,
              "#ed7953"
             ],
             [
              0.7777777777777778,
              "#fb9f3a"
             ],
             [
              0.8888888888888888,
              "#fdca26"
             ],
             [
              1,
              "#f0f921"
             ]
            ],
            "type": "heatmapgl"
           }
          ],
          "histogram": [
           {
            "marker": {
             "pattern": {
              "fillmode": "overlay",
              "size": 10,
              "solidity": 0.2
             }
            },
            "type": "histogram"
           }
          ],
          "histogram2d": [
           {
            "colorbar": {
             "outlinewidth": 0,
             "ticks": ""
            },
            "colorscale": [
             [
              0,
              "#0d0887"
             ],
             [
              0.1111111111111111,
              "#46039f"
             ],
             [
              0.2222222222222222,
              "#7201a8"
             ],
             [
              0.3333333333333333,
              "#9c179e"
             ],
             [
              0.4444444444444444,
              "#bd3786"
             ],
             [
              0.5555555555555556,
              "#d8576b"
             ],
             [
              0.6666666666666666,
              "#ed7953"
             ],
             [
              0.7777777777777778,
              "#fb9f3a"
             ],
             [
              0.8888888888888888,
              "#fdca26"
             ],
             [
              1,
              "#f0f921"
             ]
            ],
            "type": "histogram2d"
           }
          ],
          "histogram2dcontour": [
           {
            "colorbar": {
             "outlinewidth": 0,
             "ticks": ""
            },
            "colorscale": [
             [
              0,
              "#0d0887"
             ],
             [
              0.1111111111111111,
              "#46039f"
             ],
             [
              0.2222222222222222,
              "#7201a8"
             ],
             [
              0.3333333333333333,
              "#9c179e"
             ],
             [
              0.4444444444444444,
              "#bd3786"
             ],
             [
              0.5555555555555556,
              "#d8576b"
             ],
             [
              0.6666666666666666,
              "#ed7953"
             ],
             [
              0.7777777777777778,
              "#fb9f3a"
             ],
             [
              0.8888888888888888,
              "#fdca26"
             ],
             [
              1,
              "#f0f921"
             ]
            ],
            "type": "histogram2dcontour"
           }
          ],
          "mesh3d": [
           {
            "colorbar": {
             "outlinewidth": 0,
             "ticks": ""
            },
            "type": "mesh3d"
           }
          ],
          "parcoords": [
           {
            "line": {
             "colorbar": {
              "outlinewidth": 0,
              "ticks": ""
             }
            },
            "type": "parcoords"
           }
          ],
          "pie": [
           {
            "automargin": true,
            "type": "pie"
           }
          ],
          "scatter": [
           {
            "fillpattern": {
             "fillmode": "overlay",
             "size": 10,
             "solidity": 0.2
            },
            "type": "scatter"
           }
          ],
          "scatter3d": [
           {
            "line": {
             "colorbar": {
              "outlinewidth": 0,
              "ticks": ""
             }
            },
            "marker": {
             "colorbar": {
              "outlinewidth": 0,
              "ticks": ""
             }
            },
            "type": "scatter3d"
           }
          ],
          "scattercarpet": [
           {
            "marker": {
             "colorbar": {
              "outlinewidth": 0,
              "ticks": ""
             }
            },
            "type": "scattercarpet"
           }
          ],
          "scattergeo": [
           {
            "marker": {
             "colorbar": {
              "outlinewidth": 0,
              "ticks": ""
             }
            },
            "type": "scattergeo"
           }
          ],
          "scattergl": [
           {
            "marker": {
             "colorbar": {
              "outlinewidth": 0,
              "ticks": ""
             }
            },
            "type": "scattergl"
           }
          ],
          "scattermapbox": [
           {
            "marker": {
             "colorbar": {
              "outlinewidth": 0,
              "ticks": ""
             }
            },
            "type": "scattermapbox"
           }
          ],
          "scatterpolar": [
           {
            "marker": {
             "colorbar": {
              "outlinewidth": 0,
              "ticks": ""
             }
            },
            "type": "scatterpolar"
           }
          ],
          "scatterpolargl": [
           {
            "marker": {
             "colorbar": {
              "outlinewidth": 0,
              "ticks": ""
             }
            },
            "type": "scatterpolargl"
           }
          ],
          "scatterternary": [
           {
            "marker": {
             "colorbar": {
              "outlinewidth": 0,
              "ticks": ""
             }
            },
            "type": "scatterternary"
           }
          ],
          "surface": [
           {
            "colorbar": {
             "outlinewidth": 0,
             "ticks": ""
            },
            "colorscale": [
             [
              0,
              "#0d0887"
             ],
             [
              0.1111111111111111,
              "#46039f"
             ],
             [
              0.2222222222222222,
              "#7201a8"
             ],
             [
              0.3333333333333333,
              "#9c179e"
             ],
             [
              0.4444444444444444,
              "#bd3786"
             ],
             [
              0.5555555555555556,
              "#d8576b"
             ],
             [
              0.6666666666666666,
              "#ed7953"
             ],
             [
              0.7777777777777778,
              "#fb9f3a"
             ],
             [
              0.8888888888888888,
              "#fdca26"
             ],
             [
              1,
              "#f0f921"
             ]
            ],
            "type": "surface"
           }
          ],
          "table": [
           {
            "cells": {
             "fill": {
              "color": "#EBF0F8"
             },
             "line": {
              "color": "white"
             }
            },
            "header": {
             "fill": {
              "color": "#C8D4E3"
             },
             "line": {
              "color": "white"
             }
            },
            "type": "table"
           }
          ]
         },
         "layout": {
          "annotationdefaults": {
           "arrowcolor": "#2a3f5f",
           "arrowhead": 0,
           "arrowwidth": 1
          },
          "autotypenumbers": "strict",
          "coloraxis": {
           "colorbar": {
            "outlinewidth": 0,
            "ticks": ""
           }
          },
          "colorscale": {
           "diverging": [
            [
             0,
             "#8e0152"
            ],
            [
             0.1,
             "#c51b7d"
            ],
            [
             0.2,
             "#de77ae"
            ],
            [
             0.3,
             "#f1b6da"
            ],
            [
             0.4,
             "#fde0ef"
            ],
            [
             0.5,
             "#f7f7f7"
            ],
            [
             0.6,
             "#e6f5d0"
            ],
            [
             0.7,
             "#b8e186"
            ],
            [
             0.8,
             "#7fbc41"
            ],
            [
             0.9,
             "#4d9221"
            ],
            [
             1,
             "#276419"
            ]
           ],
           "sequential": [
            [
             0,
             "#0d0887"
            ],
            [
             0.1111111111111111,
             "#46039f"
            ],
            [
             0.2222222222222222,
             "#7201a8"
            ],
            [
             0.3333333333333333,
             "#9c179e"
            ],
            [
             0.4444444444444444,
             "#bd3786"
            ],
            [
             0.5555555555555556,
             "#d8576b"
            ],
            [
             0.6666666666666666,
             "#ed7953"
            ],
            [
             0.7777777777777778,
             "#fb9f3a"
            ],
            [
             0.8888888888888888,
             "#fdca26"
            ],
            [
             1,
             "#f0f921"
            ]
           ],
           "sequentialminus": [
            [
             0,
             "#0d0887"
            ],
            [
             0.1111111111111111,
             "#46039f"
            ],
            [
             0.2222222222222222,
             "#7201a8"
            ],
            [
             0.3333333333333333,
             "#9c179e"
            ],
            [
             0.4444444444444444,
             "#bd3786"
            ],
            [
             0.5555555555555556,
             "#d8576b"
            ],
            [
             0.6666666666666666,
             "#ed7953"
            ],
            [
             0.7777777777777778,
             "#fb9f3a"
            ],
            [
             0.8888888888888888,
             "#fdca26"
            ],
            [
             1,
             "#f0f921"
            ]
           ]
          },
          "colorway": [
           "#636efa",
           "#EF553B",
           "#00cc96",
           "#ab63fa",
           "#FFA15A",
           "#19d3f3",
           "#FF6692",
           "#B6E880",
           "#FF97FF",
           "#FECB52"
          ],
          "font": {
           "color": "#2a3f5f"
          },
          "geo": {
           "bgcolor": "white",
           "lakecolor": "white",
           "landcolor": "#E5ECF6",
           "showlakes": true,
           "showland": true,
           "subunitcolor": "white"
          },
          "hoverlabel": {
           "align": "left"
          },
          "hovermode": "closest",
          "mapbox": {
           "style": "light"
          },
          "paper_bgcolor": "white",
          "plot_bgcolor": "#E5ECF6",
          "polar": {
           "angularaxis": {
            "gridcolor": "white",
            "linecolor": "white",
            "ticks": ""
           },
           "bgcolor": "#E5ECF6",
           "radialaxis": {
            "gridcolor": "white",
            "linecolor": "white",
            "ticks": ""
           }
          },
          "scene": {
           "xaxis": {
            "backgroundcolor": "#E5ECF6",
            "gridcolor": "white",
            "gridwidth": 2,
            "linecolor": "white",
            "showbackground": true,
            "ticks": "",
            "zerolinecolor": "white"
           },
           "yaxis": {
            "backgroundcolor": "#E5ECF6",
            "gridcolor": "white",
            "gridwidth": 2,
            "linecolor": "white",
            "showbackground": true,
            "ticks": "",
            "zerolinecolor": "white"
           },
           "zaxis": {
            "backgroundcolor": "#E5ECF6",
            "gridcolor": "white",
            "gridwidth": 2,
            "linecolor": "white",
            "showbackground": true,
            "ticks": "",
            "zerolinecolor": "white"
           }
          },
          "shapedefaults": {
           "line": {
            "color": "#2a3f5f"
           }
          },
          "ternary": {
           "aaxis": {
            "gridcolor": "white",
            "linecolor": "white",
            "ticks": ""
           },
           "baxis": {
            "gridcolor": "white",
            "linecolor": "white",
            "ticks": ""
           },
           "bgcolor": "#E5ECF6",
           "caxis": {
            "gridcolor": "white",
            "linecolor": "white",
            "ticks": ""
           }
          },
          "title": {
           "x": 0.05
          },
          "xaxis": {
           "automargin": true,
           "gridcolor": "white",
           "linecolor": "white",
           "ticks": "",
           "title": {
            "standoff": 15
           },
           "zerolinecolor": "white",
           "zerolinewidth": 2
          },
          "yaxis": {
           "automargin": true,
           "gridcolor": "white",
           "linecolor": "white",
           "ticks": "",
           "title": {
            "standoff": 15
           },
           "zerolinecolor": "white",
           "zerolinewidth": 2
          }
         }
        },
        "title": {
         "text": ""
        },
        "xaxis": {
         "anchor": "y",
         "autorange": true,
         "domain": [
          0,
          1
         ],
         "range": [
          "2023-03-29 03:25:22.0637",
          "2023-03-29 03:41:52.0737"
         ],
         "title": {
          "text": "time"
         },
         "type": "date"
        },
        "yaxis": {
         "anchor": "x",
         "autorange": true,
         "domain": [
          0,
          1
         ],
         "range": [
          4.722222222222225,
          20.944444444444446
         ],
         "title": {
          "text": "cpu_percent"
         },
         "type": "linear"
        }
       }
      },
      "image/png": "[encoded data removed]",
      "text/html": [
       "<div>                            <div id=\"31785fe9-cb7b-4870-a7c5-e20c6c1f1e7c\" class=\"plotly-graph-div\" style=\"height:525px; width:100%;\"></div>            <script type=\"text/javascript\">                require([\"plotly\"], function(Plotly) {                    window.PLOTLYENV=window.PLOTLYENV || {};                                    if (document.getElementById(\"31785fe9-cb7b-4870-a7c5-e20c6c1f1e7c\")) {                    Plotly.newPlot(                        \"31785fe9-cb7b-4870-a7c5-e20c6c1f1e7c\",                        [{\"hovertemplate\":\"time=%{x}<br>cpu_percent=%{y}<extra></extra>\",\"legendgroup\":\"\",\"line\":{\"color\":\"#636efa\",\"dash\":\"solid\"},\"marker\":{\"symbol\":\"circle\"},\"mode\":\"lines\",\"name\":\"\",\"orientation\":\"v\",\"showlegend\":false,\"x\":[\"2023-03-29T03:41:52.073714Z\",\"2023-03-29T03:41:42.060109Z\",\"2023-03-29T03:41:32.063336Z\",\"2023-03-29T03:41:22.077067Z\",\"2023-03-29T03:41:12.064338Z\",\"2023-03-29T03:41:02.076199Z\",\"2023-03-29T03:40:52.063291Z\",\"2023-03-29T03:40:42.073605Z\",\"2023-03-29T03:40:32.073661Z\",\"2023-03-29T03:40:22.066871Z\",\"2023-03-29T03:40:12.064316Z\",\"2023-03-29T03:40:02.070569Z\",\"2023-03-29T03:39:52.062170Z\",\"2023-03-29T03:39:42.071652Z\",\"2023-03-29T03:39:32.064518Z\",\"2023-03-29T03:39:22.068087Z\",\"2023-03-29T03:39:12.060009Z\",\"2023-03-29T03:39:02.067788Z\",\"2023-03-29T03:38:52.063001Z\",\"2023-03-29T03:38:42.066012Z\",\"2023-03-29T03:38:32.059915Z\",\"2023-03-29T03:38:22.073628Z\",\"2023-03-29T03:38:12.069785Z\",\"2023-03-29T03:38:02.064547Z\",\"2023-03-29T03:37:52.059357Z\",\"2023-03-29T03:37:42.073101Z\",\"2023-03-29T03:37:32.064316Z\",\"2023-03-29T03:37:22.066302Z\",\"2023-03-29T03:37:12.063943Z\",\"2023-03-29T03:37:02.065043Z\",\"2023-03-29T03:36:52.060929Z\",\"2023-03-29T03:36:42.066859Z\",\"2023-03-29T03:36:32.066931Z\",\"2023-03-29T03:36:22.067812Z\",\"2023-03-29T03:36:12.059655Z\",\"2023-03-29T03:36:02.065809Z\",\"2023-03-29T03:35:52.070462Z\",\"2023-03-29T03:35:42.064178Z\",\"2023-03-29T03:35:32.069263Z\",\"2023-03-29T03:35:22.067350Z\",\"2023-03-29T03:35:12.067104Z\",\"2023-03-29T03:35:02.074574Z\",\"2023-03-29T03:34:52.071211Z\",\"2023-03-29T03:34:42.066198Z\",\"2023-03-29T03:34:32.065966Z\",\"2023-03-29T03:34:22.067066Z\",\"2023-03-29T03:34:12.066246Z\",\"2023-03-29T03:34:02.068052Z\",\"2023-03-29T03:33:52.072897Z\",\"2023-03-29T03:33:42.069299Z\",\"2023-03-29T03:33:32.063187Z\",\"2023-03-29T03:33:22.072705Z\",\"2023-03-29T03:33:12.064437Z\",\"2023-03-29T03:33:02.070613Z\",\"2023-03-29T03:32:52.064647Z\",\"2023-03-29T03:32:42.070962Z\",\"2023-03-29T03:32:32.059707Z\",\"2023-03-29T03:32:22.066193Z\",\"2023-03-29T03:32:12.061128Z\",\"2023-03-29T03:32:02.060883Z\",\"2023-03-29T03:31:52.071463Z\",\"2023-03-29T03:31:42.068473Z\",\"2023-03-29T03:31:32.062852Z\",\"2023-03-29T03:31:22.063048Z\",\"2023-03-29T03:31:12.059852Z\",\"2023-03-29T03:31:02.075207Z\",\"2023-03-29T03:30:52.062847Z\",\"2023-03-29T03:30:42.068787Z\",\"2023-03-29T03:30:32.063472Z\",\"2023-03-29T03:30:22.064512Z\",\"2023-03-29T03:30:12.065919Z\",\"2023-03-29T03:30:02.066939Z\",\"2023-03-29T03:29:52.072131Z\",\"2023-03-29T03:29:42.061429Z\",\"2023-03-29T03:29:32.060147Z\",\"2023-03-29T03:29:22.061959Z\",\"2023-03-29T03:29:12.065928Z\",\"2023-03-29T03:29:02.079564Z\",\"2023-03-29T03:28:52.073305Z\",\"2023-03-29T03:28:42.067305Z\",\"2023-03-29T03:28:32.077218Z\",\"2023-03-29T03:28:22.073749Z\",\"2023-03-29T03:28:12.073051Z\",\"2023-03-29T03:28:02.071913Z\",\"2023-03-29T03:27:52.064110Z\",\"2023-03-29T03:27:42.068037Z\",\"2023-03-29T03:27:32.063648Z\",\"2023-03-29T03:27:22.067544Z\",\"2023-03-29T03:27:12.072271Z\",\"2023-03-29T03:27:02.069423Z\",\"2023-03-29T03:26:52.069855Z\",\"2023-03-29T03:26:42.063760Z\",\"2023-03-29T03:26:32.065214Z\",\"2023-03-29T03:26:22.062663Z\",\"2023-03-29T03:26:12.068003Z\",\"2023-03-29T03:26:02.068542Z\",\"2023-03-29T03:25:52.066151Z\",\"2023-03-29T03:25:42.066528Z\",\"2023-03-29T03:25:32.060667Z\",\"2023-03-29T03:25:22.063694Z\"],\"xaxis\":\"x\",\"y\":[null,null,6.3,16.966666666666665,16.76666666666667,17.1,6.366666666666667,6.866666666666667,6.633333333333334,13.833333333333334,15.366666666666665,15.9,11.366666666666667,14.300000000000002,13.933333333333335,20.133333333333336,14.9,14.600000000000003,5.800000000000002,6.100000000000002,6.233333333333335,12.833333333333336,12.96666666666667,12.66666666666667,6.066666666666669,5.533333333333336,5.733333333333335,11.866666666666669,12.16666666666667,12.06666666666667,6.36666666666667,6.166666666666669,6.266666666666669,12.000000000000002,12.233333333333336,12.266666666666671,6.1333333333333355,6.1333333333333355,6.333333333333336,12.300000000000002,12.133333333333335,11.900000000000004,5.86666666666667,5.900000000000002,5.86666666666667,12.533333333333337,12.600000000000003,12.500000000000002,6.266666666666669,5.800000000000002,5.966666666666669,11.666666666666666,12.5,12.266666666666667,6.300000000000002,5.966666666666669,6.400000000000002,12.500000000000002,12.433333333333335,12.466666666666669,6.36666666666667,6.533333333333335,6.166666666666669,12.633333333333335,12.500000000000002,12.700000000000003,6.033333333333336,6.033333333333336,5.600000000000002,12.266666666666671,11.966666666666669,12.333333333333336,5.800000000000002,6.100000000000002,5.966666666666669,12.200000000000003,12.233333333333334,12.300000000000002,6.066666666666667,6.4333333333333345,8.433333333333335,15.533333333333337,15.333333333333334,13.600000000000001,6.600000000000001,6.2,6.266666666666668,12.4,12.833333333333336,12.600000000000001,6.4333333333333345,6.6333333333333355,6.500000000000001,13.133333333333335,12.799999999999999,12.766666666666667,6.466666666666669,6.233333333333334,6.533333333333334,12.366666666666667],\"yaxis\":\"y\",\"type\":\"scatter\"}],                        {\"template\":{\"data\":{\"histogram2dcontour\":[{\"type\":\"histogram2dcontour\",\"colorbar\":{\"outlinewidth\":0,\"ticks\":\"\"},\"colorscale\":[[0.0,\"#0d0887\"],[0.1111111111111111,\"#46039f\"],[0.2222222222222222,\"#7201a8\"],[0.3333333333333333,\"#9c179e\"],[0.4444444444444444,\"#bd3786\"],[0.5555555555555556,\"#d8576b\"],[0.6666666666666666,\"#ed7953\"],[0.7777777777777778,\"#fb9f3a\"],[0.8888888888888888,\"#fdca26\"],[1.0,\"#f0f921\"]]}],\"choropleth\":[{\"type\":\"choropleth\",\"colorbar\":{\"outlinewidth\":0,\"ticks\":\"\"}}],\"histogram2d\":[{\"type\":\"histogram2d\",\"colorbar\":{\"outlinewidth\":0,\"ticks\":\"\"},\"colorscale\":[[0.0,\"#0d0887\"],[0.1111111111111111,\"#46039f\"],[0.2222222222222222,\"#7201a8\"],[0.3333333333333333,\"#9c179e\"],[0.4444444444444444,\"#bd3786\"],[0.5555555555555556,\"#d8576b\"],[0.6666666666666666,\"#ed7953\"],[0.7777777777777778,\"#fb9f3a\"],[0.8888888888888888,\"#fdca26\"],[1.0,\"#f0f921\"]]}],\"heatmap\":[{\"type\":\"heatmap\",\"colorbar\":{\"outlinewidth\":0,\"ticks\":\"\"},\"colorscale\":[[0.0,\"#0d0887\"],[0.1111111111111111,\"#46039f\"],[0.2222222222222222,\"#7201a8\"],[0.3333333333333333,\"#9c179e\"],[0.4444444444444444,\"#bd3786\"],[0.5555555555555556,\"#d8576b\"],[0.6666666666666666,\"#ed7953\"],[0.7777777777777778,\"#fb9f3a\"],[0.8888888888888888,\"#fdca26\"],[1.0,\"#f0f921\"]]}],\"heatmapgl\":[{\"type\":\"heatmapgl\",\"colorbar\":{\"outlinewidth\":0,\"ticks\":\"\"},\"colorscale\":[[0.0,\"#0d0887\"],[0.1111111111111111,\"#46039f\"],[0.2222222222222222,\"#7201a8\"],[0.3333333333333333,\"#9c179e\"],[0.4444444444444444,\"#bd3786\"],[0.5555555555555556,\"#d8576b\"],[0.6666666666666666,\"#ed7953\"],[0.7777777777777778,\"#fb9f3a\"],[0.8888888888888888,\"#fdca26\"],[1.0,\"#f0f921\"]]}],\"contourcarpet\":[{\"type\":\"contourcarpet\",\"colorbar\":{\"outlinewidth\":0,\"ticks\":\"\"}}],\"contour\":[{\"type\":\"contour\",\"colorbar\":{\"outlinewidth\":0,\"ticks\":\"\"},\"colorscale\":[[0.0,\"#0d0887\"],[0.1111111111111111,\"#46039f\"],[0.2222222222222222,\"#7201a8\"],[0.3333333333333333,\"#9c179e\"],[0.4444444444444444,\"#bd3786\"],[0.5555555555555556,\"#d8576b\"],[0.6666666666666666,\"#ed7953\"],[0.7777777777777778,\"#fb9f3a\"],[0.8888888888888888,\"#fdca26\"],[1.0,\"#f0f921\"]]}],\"surface\":[{\"type\":\"surface\",\"colorbar\":{\"outlinewidth\":0,\"ticks\":\"\"},\"colorscale\":[[0.0,\"#0d0887\"],[0.1111111111111111,\"#46039f\"],[0.2222222222222222,\"#7201a8\"],[0.3333333333333333,\"#9c179e\"],[0.4444444444444444,\"#bd3786\"],[0.5555555555555556,\"#d8576b\"],[0.6666666666666666,\"#ed7953\"],[0.7777777777777778,\"#fb9f3a\"],[0.8888888888888888,\"#fdca26\"],[1.0,\"#f0f921\"]]}],\"mesh3d\":[{\"type\":\"mesh3d\",\"colorbar\":{\"outlinewidth\":0,\"ticks\":\"\"}}],\"scatter\":[{\"fillpattern\":{\"fillmode\":\"overlay\",\"size\":10,\"solidity\":0.2},\"type\":\"scatter\"}],\"parcoords\":[{\"type\":\"parcoords\",\"line\":{\"colorbar\":{\"outlinewidth\":0,\"ticks\":\"\"}}}],\"scatterpolargl\":[{\"type\":\"scatterpolargl\",\"marker\":{\"colorbar\":{\"outlinewidth\":0,\"ticks\":\"\"}}}],\"bar\":[{\"error_x\":{\"color\":\"#2a3f5f\"},\"error_y\":{\"color\":\"#2a3f5f\"},\"marker\":{\"line\":{\"color\":\"#E5ECF6\",\"width\":0.5},\"pattern\":{\"fillmode\":\"overlay\",\"size\":10,\"solidity\":0.2}},\"type\":\"bar\"}],\"scattergeo\":[{\"type\":\"scattergeo\",\"marker\":{\"colorbar\":{\"outlinewidth\":0,\"ticks\":\"\"}}}],\"scatterpolar\":[{\"type\":\"scatterpolar\",\"marker\":{\"colorbar\":{\"outlinewidth\":0,\"ticks\":\"\"}}}],\"histogram\":[{\"marker\":{\"pattern\":{\"fillmode\":\"overlay\",\"size\":10,\"solidity\":0.2}},\"type\":\"histogram\"}],\"scattergl\":[{\"type\":\"scattergl\",\"marker\":{\"colorbar\":{\"outlinewidth\":0,\"ticks\":\"\"}}}],\"scatter3d\":[{\"type\":\"scatter3d\",\"line\":{\"colorbar\":{\"outlinewidth\":0,\"ticks\":\"\"}},\"marker\":{\"colorbar\":{\"outlinewidth\":0,\"ticks\":\"\"}}}],\"scattermapbox\":[{\"type\":\"scattermapbox\",\"marker\":{\"colorbar\":{\"outlinewidth\":0,\"ticks\":\"\"}}}],\"scatterternary\":[{\"type\":\"scatterternary\",\"marker\":{\"colorbar\":{\"outlinewidth\":0,\"ticks\":\"\"}}}],\"scattercarpet\":[{\"type\":\"scattercarpet\",\"marker\":{\"colorbar\":{\"outlinewidth\":0,\"ticks\":\"\"}}}],\"carpet\":[{\"aaxis\":{\"endlinecolor\":\"#2a3f5f\",\"gridcolor\":\"white\",\"linecolor\":\"white\",\"minorgridcolor\":\"white\",\"startlinecolor\":\"#2a3f5f\"},\"baxis\":{\"endlinecolor\":\"#2a3f5f\",\"gridcolor\":\"white\",\"linecolor\":\"white\",\"minorgridcolor\":\"white\",\"startlinecolor\":\"#2a3f5f\"},\"type\":\"carpet\"}],\"table\":[{\"cells\":{\"fill\":{\"color\":\"#EBF0F8\"},\"line\":{\"color\":\"white\"}},\"header\":{\"fill\":{\"color\":\"#C8D4E3\"},\"line\":{\"color\":\"white\"}},\"type\":\"table\"}],\"barpolar\":[{\"marker\":{\"line\":{\"color\":\"#E5ECF6\",\"width\":0.5},\"pattern\":{\"fillmode\":\"overlay\",\"size\":10,\"solidity\":0.2}},\"type\":\"barpolar\"}],\"pie\":[{\"automargin\":true,\"type\":\"pie\"}]},\"layout\":{\"autotypenumbers\":\"strict\",\"colorway\":[\"#636efa\",\"#EF553B\",\"#00cc96\",\"#ab63fa\",\"#FFA15A\",\"#19d3f3\",\"#FF6692\",\"#B6E880\",\"#FF97FF\",\"#FECB52\"],\"font\":{\"color\":\"#2a3f5f\"},\"hovermode\":\"closest\",\"hoverlabel\":{\"align\":\"left\"},\"paper_bgcolor\":\"white\",\"plot_bgcolor\":\"#E5ECF6\",\"polar\":{\"bgcolor\":\"#E5ECF6\",\"angularaxis\":{\"gridcolor\":\"white\",\"linecolor\":\"white\",\"ticks\":\"\"},\"radialaxis\":{\"gridcolor\":\"white\",\"linecolor\":\"white\",\"ticks\":\"\"}},\"ternary\":{\"bgcolor\":\"#E5ECF6\",\"aaxis\":{\"gridcolor\":\"white\",\"linecolor\":\"white\",\"ticks\":\"\"},\"baxis\":{\"gridcolor\":\"white\",\"linecolor\":\"white\",\"ticks\":\"\"},\"caxis\":{\"gridcolor\":\"white\",\"linecolor\":\"white\",\"ticks\":\"\"}},\"coloraxis\":{\"colorbar\":{\"outlinewidth\":0,\"ticks\":\"\"}},\"colorscale\":{\"sequential\":[[0.0,\"#0d0887\"],[0.1111111111111111,\"#46039f\"],[0.2222222222222222,\"#7201a8\"],[0.3333333333333333,\"#9c179e\"],[0.4444444444444444,\"#bd3786\"],[0.5555555555555556,\"#d8576b\"],[0.6666666666666666,\"#ed7953\"],[0.7777777777777778,\"#fb9f3a\"],[0.8888888888888888,\"#fdca26\"],[1.0,\"#f0f921\"]],\"sequentialminus\":[[0.0,\"#0d0887\"],[0.1111111111111111,\"#46039f\"],[0.2222222222222222,\"#7201a8\"],[0.3333333333333333,\"#9c179e\"],[0.4444444444444444,\"#bd3786\"],[0.5555555555555556,\"#d8576b\"],[0.6666666666666666,\"#ed7953\"],[0.7777777777777778,\"#fb9f3a\"],[0.8888888888888888,\"#fdca26\"],[1.0,\"#f0f921\"]],\"diverging\":[[0,\"#8e0152\"],[0.1,\"#c51b7d\"],[0.2,\"#de77ae\"],[0.3,\"#f1b6da\"],[0.4,\"#fde0ef\"],[0.5,\"#f7f7f7\"],[0.6,\"#e6f5d0\"],[0.7,\"#b8e186\"],[0.8,\"#7fbc41\"],[0.9,\"#4d9221\"],[1,\"#276419\"]]},\"xaxis\":{\"gridcolor\":\"white\",\"linecolor\":\"white\",\"ticks\":\"\",\"title\":{\"standoff\":15},\"zerolinecolor\":\"white\",\"automargin\":true,\"zerolinewidth\":2},\"yaxis\":{\"gridcolor\":\"white\",\"linecolor\":\"white\",\"ticks\":\"\",\"title\":{\"standoff\":15},\"zerolinecolor\":\"white\",\"automargin\":true,\"zerolinewidth\":2},\"scene\":{\"xaxis\":{\"backgroundcolor\":\"#E5ECF6\",\"gridcolor\":\"white\",\"linecolor\":\"white\",\"showbackground\":true,\"ticks\":\"\",\"zerolinecolor\":\"white\",\"gridwidth\":2},\"yaxis\":{\"backgroundcolor\":\"#E5ECF6\",\"gridcolor\":\"white\",\"linecolor\":\"white\",\"showbackground\":true,\"ticks\":\"\",\"zerolinecolor\":\"white\",\"gridwidth\":2},\"zaxis\":{\"backgroundcolor\":\"#E5ECF6\",\"gridcolor\":\"white\",\"linecolor\":\"white\",\"showbackground\":true,\"ticks\":\"\",\"zerolinecolor\":\"white\",\"gridwidth\":2}},\"shapedefaults\":{\"line\":{\"color\":\"#2a3f5f\"}},\"annotationdefaults\":{\"arrowcolor\":\"#2a3f5f\",\"arrowhead\":0,\"arrowwidth\":1},\"geo\":{\"bgcolor\":\"white\",\"landcolor\":\"#E5ECF6\",\"subunitcolor\":\"white\",\"showland\":true,\"showlakes\":true,\"lakecolor\":\"white\"},\"title\":{\"x\":0.05},\"mapbox\":{\"style\":\"light\"}}},\"xaxis\":{\"anchor\":\"y\",\"domain\":[0.0,1.0],\"title\":{\"text\":\"time\"}},\"yaxis\":{\"anchor\":\"x\",\"domain\":[0.0,1.0],\"title\":{\"text\":\"cpu_percent\"}},\"legend\":{\"tracegroupgap\":0},\"margin\":{\"t\":60},\"title\":{\"text\":\"\"}},                        {\"responsive\": true}                    ).then(function(){\n",
       "                            \n",
       "var gd = document.getElementById('31785fe9-cb7b-4870-a7c5-e20c6c1f1e7c');\n",
       "var x = new MutationObserver(function (mutations, observer) {{\n",
       "        var display = window.getComputedStyle(gd).display;\n",
       "        if (!display || display === 'none') {{\n",
       "            console.log([gd, 'removed!']);\n",
       "            Plotly.purge(gd);\n",
       "            observer.disconnect();\n",
       "        }}\n",
       "}});\n",
       "\n",
       "// Listen for the removal of the full notebook cells\n",
       "var notebookContainer = gd.closest('#notebook-container');\n",
       "if (notebookContainer) {{\n",
       "    x.observe(notebookContainer, {childList: true});\n",
       "}}\n",
       "\n",
       "// Listen for the clearing of the current output cell\n",
       "var outputEl = gd.closest('.output');\n",
       "if (outputEl) {{\n",
       "    x.observe(outputEl, {childList: true});\n",
       "}}\n",
       "\n",
       "                        })                };                });            </script>        </div>"
      ]
     },
     "metadata": {},
     "output_type": "display_data"
    }
   ],
   "source": [
    "df = load_table(conn, 'os_metric')\n",
    "rolling_mean = df.rolling(window=3, on = 'time').mean()\n",
    "\n",
    "\n",
    "\n",
    "fig = Element(y=\"cpu_percent\", x='time',chart_type = 'line').plot(df)\n",
    "fig2 = Element(y=\"cpu_percent\", x='time',chart_type = 'line').plot(rolling_mean)\n"
   ]
  },
  {
   "cell_type": "code",
   "execution_count": 30,
   "metadata": {
    "tags": []
   },
   "outputs": [
    {
     "name": "stdout",
     "output_type": "stream",
     "text": [
      "   sepal_length  sepal_width  petal_length  petal_width species\n",
      "0           5.1          3.5           1.4          0.2  setosa\n",
      "1           4.9          3.0           1.4          0.2  setosa\n",
      "2           4.7          3.2           1.3          0.2  setosa\n",
      "3           4.6          3.1           1.5          0.2  setosa\n",
      "4           5.0          3.6           1.4          0.2  setosa\n"
     ]
    },
    {
     "data": {
      "application/vnd.plotly.v1+json": {
       "config": {
        "plotlyServerURL": "https://plot.ly"
       },
       "data": [
        {
         "hovertemplate": "sepal_width=%{y}<br>sepal_length=%{x}<extra></extra>",
         "legendgroup": "",
         "line": {
          "color": "#636efa",
          "dash": "solid"
         },
         "marker": {
          "symbol": "circle"
         },
         "mode": "lines",
         "name": "",
         "orientation": "v",
         "showlegend": false,
         "type": "scatter",
         "x": [
          5.1,
          5.1,
          5.2,
          5.5,
          5,
          5
         ],
         "xaxis": "x",
         "y": [
          3.5,
          3.5,
          3.5,
          3.5,
          3.5,
          3.5
         ],
         "yaxis": "y"
        },
        {
         "hovertemplate": "sepal_width=%{y}<br>sepal_length=%{x}<extra></extra>",
         "legendgroup": "",
         "line": {
          "color": "#636efa",
          "dash": "solid"
         },
         "marker": {
          "symbol": "circle"
         },
         "mode": "lines",
         "name": "",
         "orientation": "v",
         "showlegend": false,
         "type": "scatter",
         "x": [
          4.9,
          4.8,
          4.3,
          5,
          4.4,
          4.8,
          5.9,
          5.6,
          6.6,
          6.7,
          5.4,
          5.6,
          6.1,
          5.7,
          7.1,
          6.5,
          7.6,
          6.8,
          6.5,
          6.1,
          7.2,
          7.7,
          6,
          6.7,
          6.5,
          5.9
         ],
         "xaxis": "x",
         "y": [
          3,
          3,
          3,
          3,
          3,
          3,
          3,
          3,
          3,
          3,
          3,
          3,
          3,
          3,
          3,
          3,
          3,
          3,
          3,
          3,
          3,
          3,
          3,
          3,
          3,
          3
         ],
         "yaxis": "y"
        },
        {
         "hovertemplate": "sepal_width=%{y}<br>sepal_length=%{x}<extra></extra>",
         "legendgroup": "",
         "line": {
          "color": "#636efa",
          "dash": "solid"
         },
         "marker": {
          "symbol": "circle"
         },
         "mode": "lines",
         "name": "",
         "orientation": "v",
         "showlegend": false,
         "type": "scatter",
         "x": [
          4.7,
          4.7,
          5,
          4.4,
          4.6,
          7,
          6.4,
          5.9,
          6.5,
          6.4,
          6.9,
          7.2,
          6.8
         ],
         "xaxis": "x",
         "y": [
          3.2,
          3.2,
          3.2,
          3.2,
          3.2,
          3.2,
          3.2,
          3.2,
          3.2,
          3.2,
          3.2,
          3.2,
          3.2
         ],
         "yaxis": "y"
        },
        {
         "hovertemplate": "sepal_width=%{y}<br>sepal_length=%{x}<extra></extra>",
         "legendgroup": "",
         "line": {
          "color": "#636efa",
          "dash": "solid"
         },
         "marker": {
          "symbol": "circle"
         },
         "mode": "lines",
         "name": "",
         "orientation": "v",
         "showlegend": false,
         "type": "scatter",
         "x": [
          4.6,
          4.9,
          4.8,
          4.9,
          6.9,
          6.7,
          6.7,
          6.4,
          6.9,
          6.7,
          6.9
         ],
         "xaxis": "x",
         "y": [
          3.1,
          3.1,
          3.1,
          3.1,
          3.1,
          3.1,
          3.1,
          3.1,
          3.1,
          3.1,
          3.1
         ],
         "yaxis": "y"
        },
        {
         "hovertemplate": "sepal_width=%{y}<br>sepal_length=%{x}<extra></extra>",
         "legendgroup": "",
         "line": {
          "color": "#636efa",
          "dash": "solid"
         },
         "marker": {
          "symbol": "circle"
         },
         "mode": "lines",
         "name": "",
         "orientation": "v",
         "showlegend": false,
         "type": "scatter",
         "x": [
          5,
          4.6,
          4.9,
          7.2
         ],
         "xaxis": "x",
         "y": [
          3.6,
          3.6,
          3.6,
          3.6
         ],
         "yaxis": "y"
        },
        {
         "hovertemplate": "sepal_width=%{y}<br>sepal_length=%{x}<extra></extra>",
         "legendgroup": "",
         "line": {
          "color": "#636efa",
          "dash": "solid"
         },
         "marker": {
          "symbol": "circle"
         },
         "mode": "lines",
         "name": "",
         "orientation": "v",
         "showlegend": false,
         "type": "scatter",
         "x": [
          5.4,
          5.4
         ],
         "xaxis": "x",
         "y": [
          3.9,
          3.9
         ],
         "yaxis": "y"
        },
        {
         "hovertemplate": "sepal_width=%{y}<br>sepal_length=%{x}<extra></extra>",
         "legendgroup": "",
         "line": {
          "color": "#636efa",
          "dash": "solid"
         },
         "marker": {
          "symbol": "circle"
         },
         "mode": "lines",
         "name": "",
         "orientation": "v",
         "showlegend": false,
         "type": "scatter",
         "x": [
          4.6,
          5,
          4.8,
          5.4,
          4.8,
          5,
          5.2,
          5.4,
          5.1,
          6,
          6.3,
          6.2
         ],
         "xaxis": "x",
         "y": [
          3.4,
          3.4,
          3.4,
          3.4,
          3.4,
          3.4,
          3.4,
          3.4,
          3.4,
          3.4,
          3.4,
          3.4
         ],
         "yaxis": "y"
        },
        {
         "hovertemplate": "sepal_width=%{y}<br>sepal_length=%{x}<extra></extra>",
         "legendgroup": "",
         "line": {
          "color": "#636efa",
          "dash": "solid"
         },
         "marker": {
          "symbol": "circle"
         },
         "mode": "lines",
         "name": "",
         "orientation": "v",
         "showlegend": false,
         "type": "scatter",
         "x": [
          4.4,
          6.6,
          6.1,
          5.6,
          6.4,
          6,
          5.7,
          6.2,
          6.3,
          7.3
         ],
         "xaxis": "x",
         "y": [
          2.9,
          2.9,
          2.9,
          2.9,
          2.9,
          2.9,
          2.9,
          2.9,
          2.9,
          2.9
         ],
         "yaxis": "y"
        },
        {
         "hovertemplate": "sepal_width=%{y}<br>sepal_length=%{x}<extra></extra>",
         "legendgroup": "",
         "line": {
          "color": "#636efa",
          "dash": "solid"
         },
         "marker": {
          "symbol": "circle"
         },
         "mode": "lines",
         "name": "",
         "orientation": "v",
         "showlegend": false,
         "type": "scatter",
         "x": [
          5.4,
          5.1,
          5.3
         ],
         "xaxis": "x",
         "y": [
          3.7,
          3.7,
          3.7
         ],
         "yaxis": "y"
        },
        {
         "hovertemplate": "sepal_width=%{y}<br>sepal_length=%{x}<extra></extra>",
         "legendgroup": "",
         "line": {
          "color": "#636efa",
          "dash": "solid"
         },
         "marker": {
          "symbol": "circle"
         },
         "mode": "lines",
         "name": "",
         "orientation": "v",
         "showlegend": false,
         "type": "scatter",
         "x": [
          5.8
         ],
         "xaxis": "x",
         "y": [
          4
         ],
         "yaxis": "y"
        },
        {
         "hovertemplate": "sepal_width=%{y}<br>sepal_length=%{x}<extra></extra>",
         "legendgroup": "",
         "line": {
          "color": "#636efa",
          "dash": "solid"
         },
         "marker": {
          "symbol": "circle"
         },
         "mode": "lines",
         "name": "",
         "orientation": "v",
         "showlegend": false,
         "type": "scatter",
         "x": [
          5.7
         ],
         "xaxis": "x",
         "y": [
          4.4
         ],
         "yaxis": "y"
        },
        {
         "hovertemplate": "sepal_width=%{y}<br>sepal_length=%{x}<extra></extra>",
         "legendgroup": "",
         "line": {
          "color": "#636efa",
          "dash": "solid"
         },
         "marker": {
          "symbol": "circle"
         },
         "mode": "lines",
         "name": "",
         "orientation": "v",
         "showlegend": false,
         "type": "scatter",
         "x": [
          5.7,
          5.1,
          5.1,
          5.1,
          7.7,
          7.9
         ],
         "xaxis": "x",
         "y": [
          3.8,
          3.8,
          3.8,
          3.8,
          3.8,
          3.8
         ],
         "yaxis": "y"
        },
        {
         "hovertemplate": "sepal_width=%{y}<br>sepal_length=%{x}<extra></extra>",
         "legendgroup": "",
         "line": {
          "color": "#636efa",
          "dash": "solid"
         },
         "marker": {
          "symbol": "circle"
         },
         "mode": "lines",
         "name": "",
         "orientation": "v",
         "showlegend": false,
         "type": "scatter",
         "x": [
          5.1,
          5,
          6.3,
          6.3,
          6.7,
          6.7
         ],
         "xaxis": "x",
         "y": [
          3.3,
          3.3,
          3.3,
          3.3,
          3.3,
          3.3
         ],
         "yaxis": "y"
        },
        {
         "hovertemplate": "sepal_width=%{y}<br>sepal_length=%{x}<extra></extra>",
         "legendgroup": "",
         "line": {
          "color": "#636efa",
          "dash": "solid"
         },
         "marker": {
          "symbol": "circle"
         },
         "mode": "lines",
         "name": "",
         "orientation": "v",
         "showlegend": false,
         "type": "scatter",
         "x": [
          5.2
         ],
         "xaxis": "x",
         "y": [
          4.1
         ],
         "yaxis": "y"
        },
        {
         "hovertemplate": "sepal_width=%{y}<br>sepal_length=%{x}<extra></extra>",
         "legendgroup": "",
         "line": {
          "color": "#636efa",
          "dash": "solid"
         },
         "marker": {
          "symbol": "circle"
         },
         "mode": "lines",
         "name": "",
         "orientation": "v",
         "showlegend": false,
         "type": "scatter",
         "x": [
          5.5
         ],
         "xaxis": "x",
         "y": [
          4.2
         ],
         "yaxis": "y"
        },
        {
         "hovertemplate": "sepal_width=%{y}<br>sepal_length=%{x}<extra></extra>",
         "legendgroup": "",
         "line": {
          "color": "#636efa",
          "dash": "solid"
         },
         "marker": {
          "symbol": "circle"
         },
         "mode": "lines",
         "name": "",
         "orientation": "v",
         "showlegend": false,
         "type": "scatter",
         "x": [
          4.5,
          5.5,
          6.3,
          5
         ],
         "xaxis": "x",
         "y": [
          2.3,
          2.3,
          2.3,
          2.3
         ],
         "yaxis": "y"
        },
        {
         "hovertemplate": "sepal_width=%{y}<br>sepal_length=%{x}<extra></extra>",
         "legendgroup": "",
         "line": {
          "color": "#636efa",
          "dash": "solid"
         },
         "marker": {
          "symbol": "circle"
         },
         "mode": "lines",
         "name": "",
         "orientation": "v",
         "showlegend": false,
         "type": "scatter",
         "x": [
          6.5,
          5.7,
          6.1,
          6.1,
          6.8,
          5.7,
          5.8,
          5.6,
          7.7,
          6.2,
          6.4,
          7.4,
          6.4,
          6.3
         ],
         "xaxis": "x",
         "y": [
          2.8,
          2.8,
          2.8,
          2.8,
          2.8,
          2.8,
          2.8,
          2.8,
          2.8,
          2.8,
          2.8,
          2.8,
          2.8,
          2.8
         ],
         "yaxis": "y"
        },
        {
         "hovertemplate": "sepal_width=%{y}<br>sepal_length=%{x}<extra></extra>",
         "legendgroup": "",
         "line": {
          "color": "#636efa",
          "dash": "solid"
         },
         "marker": {
          "symbol": "circle"
         },
         "mode": "lines",
         "name": "",
         "orientation": "v",
         "showlegend": false,
         "type": "scatter",
         "x": [
          4.9,
          5.5,
          5.5
         ],
         "xaxis": "x",
         "y": [
          2.4,
          2.4,
          2.4
         ],
         "yaxis": "y"
        },
        {
         "hovertemplate": "sepal_width=%{y}<br>sepal_length=%{x}<extra></extra>",
         "legendgroup": "",
         "line": {
          "color": "#636efa",
          "dash": "solid"
         },
         "marker": {
          "symbol": "circle"
         },
         "mode": "lines",
         "name": "",
         "orientation": "v",
         "showlegend": false,
         "type": "scatter",
         "x": [
          5.2,
          5.8,
          5.8,
          6,
          5.6,
          5.8,
          6.4,
          6.3,
          5.8
         ],
         "xaxis": "x",
         "y": [
          2.7,
          2.7,
          2.7,
          2.7,
          2.7,
          2.7,
          2.7,
          2.7,
          2.7
         ],
         "yaxis": "y"
        },
        {
         "hovertemplate": "sepal_width=%{y}<br>sepal_length=%{x}<extra></extra>",
         "legendgroup": "",
         "line": {
          "color": "#636efa",
          "dash": "solid"
         },
         "marker": {
          "symbol": "circle"
         },
         "mode": "lines",
         "name": "",
         "orientation": "v",
         "showlegend": false,
         "type": "scatter",
         "x": [
          5
         ],
         "xaxis": "x",
         "y": [
          2
         ],
         "yaxis": "y"
        },
        {
         "hovertemplate": "sepal_width=%{y}<br>sepal_length=%{x}<extra></extra>",
         "legendgroup": "",
         "line": {
          "color": "#636efa",
          "dash": "solid"
         },
         "marker": {
          "symbol": "circle"
         },
         "mode": "lines",
         "name": "",
         "orientation": "v",
         "showlegend": false,
         "type": "scatter",
         "x": [
          6,
          6.2,
          6
         ],
         "xaxis": "x",
         "y": [
          2.2,
          2.2,
          2.2
         ],
         "yaxis": "y"
        },
        {
         "hovertemplate": "sepal_width=%{y}<br>sepal_length=%{x}<extra></extra>",
         "legendgroup": "",
         "line": {
          "color": "#636efa",
          "dash": "solid"
         },
         "marker": {
          "symbol": "circle"
         },
         "mode": "lines",
         "name": "",
         "orientation": "v",
         "showlegend": false,
         "type": "scatter",
         "x": [
          5.6,
          6.3,
          5.5,
          5.1,
          4.9,
          6.7,
          5.7,
          6.3
         ],
         "xaxis": "x",
         "y": [
          2.5,
          2.5,
          2.5,
          2.5,
          2.5,
          2.5,
          2.5,
          2.5
         ],
         "yaxis": "y"
        },
        {
         "hovertemplate": "sepal_width=%{y}<br>sepal_length=%{x}<extra></extra>",
         "legendgroup": "",
         "line": {
          "color": "#636efa",
          "dash": "solid"
         },
         "marker": {
          "symbol": "circle"
         },
         "mode": "lines",
         "name": "",
         "orientation": "v",
         "showlegend": false,
         "type": "scatter",
         "x": [
          5.7,
          5.5,
          5.8,
          7.7,
          6.1
         ],
         "xaxis": "x",
         "y": [
          2.6,
          2.6,
          2.6,
          2.6,
          2.6
         ],
         "yaxis": "y"
        }
       ],
       "layout": {
        "autosize": true,
        "legend": {
         "tracegroupgap": 0
        },
        "margin": {
         "t": 60
        },
        "template": {
         "data": {
          "bar": [
           {
            "error_x": {
             "color": "#2a3f5f"
            },
            "error_y": {
             "color": "#2a3f5f"
            },
            "marker": {
             "line": {
              "color": "#E5ECF6",
              "width": 0.5
             },
             "pattern": {
              "fillmode": "overlay",
              "size": 10,
              "solidity": 0.2
             }
            },
            "type": "bar"
           }
          ],
          "barpolar": [
           {
            "marker": {
             "line": {
              "color": "#E5ECF6",
              "width": 0.5
             },
             "pattern": {
              "fillmode": "overlay",
              "size": 10,
              "solidity": 0.2
             }
            },
            "type": "barpolar"
           }
          ],
          "carpet": [
           {
            "aaxis": {
             "endlinecolor": "#2a3f5f",
             "gridcolor": "white",
             "linecolor": "white",
             "minorgridcolor": "white",
             "startlinecolor": "#2a3f5f"
            },
            "baxis": {
             "endlinecolor": "#2a3f5f",
             "gridcolor": "white",
             "linecolor": "white",
             "minorgridcolor": "white",
             "startlinecolor": "#2a3f5f"
            },
            "type": "carpet"
           }
          ],
          "choropleth": [
           {
            "colorbar": {
             "outlinewidth": 0,
             "ticks": ""
            },
            "type": "choropleth"
           }
          ],
          "contour": [
           {
            "colorbar": {
             "outlinewidth": 0,
             "ticks": ""
            },
            "colorscale": [
             [
              0,
              "#0d0887"
             ],
             [
              0.1111111111111111,
              "#46039f"
             ],
             [
              0.2222222222222222,
              "#7201a8"
             ],
             [
              0.3333333333333333,
              "#9c179e"
             ],
             [
              0.4444444444444444,
              "#bd3786"
             ],
             [
              0.5555555555555556,
              "#d8576b"
             ],
             [
              0.6666666666666666,
              "#ed7953"
             ],
             [
              0.7777777777777778,
              "#fb9f3a"
             ],
             [
              0.8888888888888888,
              "#fdca26"
             ],
             [
              1,
              "#f0f921"
             ]
            ],
            "type": "contour"
           }
          ],
          "contourcarpet": [
           {
            "colorbar": {
             "outlinewidth": 0,
             "ticks": ""
            },
            "type": "contourcarpet"
           }
          ],
          "heatmap": [
           {
            "colorbar": {
             "outlinewidth": 0,
             "ticks": ""
            },
            "colorscale": [
             [
              0,
              "#0d0887"
             ],
             [
              0.1111111111111111,
              "#46039f"
             ],
             [
              0.2222222222222222,
              "#7201a8"
             ],
             [
              0.3333333333333333,
              "#9c179e"
             ],
             [
              0.4444444444444444,
              "#bd3786"
             ],
             [
              0.5555555555555556,
              "#d8576b"
             ],
             [
              0.6666666666666666,
              "#ed7953"
             ],
             [
              0.7777777777777778,
              "#fb9f3a"
             ],
             [
              0.8888888888888888,
              "#fdca26"
             ],
             [
              1,
              "#f0f921"
             ]
            ],
            "type": "heatmap"
           }
          ],
          "heatmapgl": [
           {
            "colorbar": {
             "outlinewidth": 0,
             "ticks": ""
            },
            "colorscale": [
             [
              0,
              "#0d0887"
             ],
             [
              0.1111111111111111,
              "#46039f"
             ],
             [
              0.2222222222222222,
              "#7201a8"
             ],
             [
              0.3333333333333333,
              "#9c179e"
             ],
             [
              0.4444444444444444,
              "#bd3786"
             ],
             [
              0.5555555555555556,
              "#d8576b"
             ],
             [
              0.6666666666666666,
              "#ed7953"
             ],
             [
              0.7777777777777778,
              "#fb9f3a"
             ],
             [
              0.8888888888888888,
              "#fdca26"
             ],
             [
              1,
              "#f0f921"
             ]
            ],
            "type": "heatmapgl"
           }
          ],
          "histogram": [
           {
            "marker": {
             "pattern": {
              "fillmode": "overlay",
              "size": 10,
              "solidity": 0.2
             }
            },
            "type": "histogram"
           }
          ],
          "histogram2d": [
           {
            "colorbar": {
             "outlinewidth": 0,
             "ticks": ""
            },
            "colorscale": [
             [
              0,
              "#0d0887"
             ],
             [
              0.1111111111111111,
              "#46039f"
             ],
             [
              0.2222222222222222,
              "#7201a8"
             ],
             [
              0.3333333333333333,
              "#9c179e"
             ],
             [
              0.4444444444444444,
              "#bd3786"
             ],
             [
              0.5555555555555556,
              "#d8576b"
             ],
             [
              0.6666666666666666,
              "#ed7953"
             ],
             [
              0.7777777777777778,
              "#fb9f3a"
             ],
             [
              0.8888888888888888,
              "#fdca26"
             ],
             [
              1,
              "#f0f921"
             ]
            ],
            "type": "histogram2d"
           }
          ],
          "histogram2dcontour": [
           {
            "colorbar": {
             "outlinewidth": 0,
             "ticks": ""
            },
            "colorscale": [
             [
              0,
              "#0d0887"
             ],
             [
              0.1111111111111111,
              "#46039f"
             ],
             [
              0.2222222222222222,
              "#7201a8"
             ],
             [
              0.3333333333333333,
              "#9c179e"
             ],
             [
              0.4444444444444444,
              "#bd3786"
             ],
             [
              0.5555555555555556,
              "#d8576b"
             ],
             [
              0.6666666666666666,
              "#ed7953"
             ],
             [
              0.7777777777777778,
              "#fb9f3a"
             ],
             [
              0.8888888888888888,
              "#fdca26"
             ],
             [
              1,
              "#f0f921"
             ]
            ],
            "type": "histogram2dcontour"
           }
          ],
          "mesh3d": [
           {
            "colorbar": {
             "outlinewidth": 0,
             "ticks": ""
            },
            "type": "mesh3d"
           }
          ],
          "parcoords": [
           {
            "line": {
             "colorbar": {
              "outlinewidth": 0,
              "ticks": ""
             }
            },
            "type": "parcoords"
           }
          ],
          "pie": [
           {
            "automargin": true,
            "type": "pie"
           }
          ],
          "scatter": [
           {
            "fillpattern": {
             "fillmode": "overlay",
             "size": 10,
             "solidity": 0.2
            },
            "type": "scatter"
           }
          ],
          "scatter3d": [
           {
            "line": {
             "colorbar": {
              "outlinewidth": 0,
              "ticks": ""
             }
            },
            "marker": {
             "colorbar": {
              "outlinewidth": 0,
              "ticks": ""
             }
            },
            "type": "scatter3d"
           }
          ],
          "scattercarpet": [
           {
            "marker": {
             "colorbar": {
              "outlinewidth": 0,
              "ticks": ""
             }
            },
            "type": "scattercarpet"
           }
          ],
          "scattergeo": [
           {
            "marker": {
             "colorbar": {
              "outlinewidth": 0,
              "ticks": ""
             }
            },
            "type": "scattergeo"
           }
          ],
          "scattergl": [
           {
            "marker": {
             "colorbar": {
              "outlinewidth": 0,
              "ticks": ""
             }
            },
            "type": "scattergl"
           }
          ],
          "scattermapbox": [
           {
            "marker": {
             "colorbar": {
              "outlinewidth": 0,
              "ticks": ""
             }
            },
            "type": "scattermapbox"
           }
          ],
          "scatterpolar": [
           {
            "marker": {
             "colorbar": {
              "outlinewidth": 0,
              "ticks": ""
             }
            },
            "type": "scatterpolar"
           }
          ],
          "scatterpolargl": [
           {
            "marker": {
             "colorbar": {
              "outlinewidth": 0,
              "ticks": ""
             }
            },
            "type": "scatterpolargl"
           }
          ],
          "scatterternary": [
           {
            "marker": {
             "colorbar": {
              "outlinewidth": 0,
              "ticks": ""
             }
            },
            "type": "scatterternary"
           }
          ],
          "surface": [
           {
            "colorbar": {
             "outlinewidth": 0,
             "ticks": ""
            },
            "colorscale": [
             [
              0,
              "#0d0887"
             ],
             [
              0.1111111111111111,
              "#46039f"
             ],
             [
              0.2222222222222222,
              "#7201a8"
             ],
             [
              0.3333333333333333,
              "#9c179e"
             ],
             [
              0.4444444444444444,
              "#bd3786"
             ],
             [
              0.5555555555555556,
              "#d8576b"
             ],
             [
              0.6666666666666666,
              "#ed7953"
             ],
             [
              0.7777777777777778,
              "#fb9f3a"
             ],
             [
              0.8888888888888888,
              "#fdca26"
             ],
             [
              1,
              "#f0f921"
             ]
            ],
            "type": "surface"
           }
          ],
          "table": [
           {
            "cells": {
             "fill": {
              "color": "#EBF0F8"
             },
             "line": {
              "color": "white"
             }
            },
            "header": {
             "fill": {
              "color": "#C8D4E3"
             },
             "line": {
              "color": "white"
             }
            },
            "type": "table"
           }
          ]
         },
         "layout": {
          "annotationdefaults": {
           "arrowcolor": "#2a3f5f",
           "arrowhead": 0,
           "arrowwidth": 1
          },
          "autotypenumbers": "strict",
          "coloraxis": {
           "colorbar": {
            "outlinewidth": 0,
            "ticks": ""
           }
          },
          "colorscale": {
           "diverging": [
            [
             0,
             "#8e0152"
            ],
            [
             0.1,
             "#c51b7d"
            ],
            [
             0.2,
             "#de77ae"
            ],
            [
             0.3,
             "#f1b6da"
            ],
            [
             0.4,
             "#fde0ef"
            ],
            [
             0.5,
             "#f7f7f7"
            ],
            [
             0.6,
             "#e6f5d0"
            ],
            [
             0.7,
             "#b8e186"
            ],
            [
             0.8,
             "#7fbc41"
            ],
            [
             0.9,
             "#4d9221"
            ],
            [
             1,
             "#276419"
            ]
           ],
           "sequential": [
            [
             0,
             "#0d0887"
            ],
            [
             0.1111111111111111,
             "#46039f"
            ],
            [
             0.2222222222222222,
             "#7201a8"
            ],
            [
             0.3333333333333333,
             "#9c179e"
            ],
            [
             0.4444444444444444,
             "#bd3786"
            ],
            [
             0.5555555555555556,
             "#d8576b"
            ],
            [
             0.6666666666666666,
             "#ed7953"
            ],
            [
             0.7777777777777778,
             "#fb9f3a"
            ],
            [
             0.8888888888888888,
             "#fdca26"
            ],
            [
             1,
             "#f0f921"
            ]
           ],
           "sequentialminus": [
            [
             0,
             "#0d0887"
            ],
            [
             0.1111111111111111,
             "#46039f"
            ],
            [
             0.2222222222222222,
             "#7201a8"
            ],
            [
             0.3333333333333333,
             "#9c179e"
            ],
            [
             0.4444444444444444,
             "#bd3786"
            ],
            [
             0.5555555555555556,
             "#d8576b"
            ],
            [
             0.6666666666666666,
             "#ed7953"
            ],
            [
             0.7777777777777778,
             "#fb9f3a"
            ],
            [
             0.8888888888888888,
             "#fdca26"
            ],
            [
             1,
             "#f0f921"
            ]
           ]
          },
          "colorway": [
           "#636efa",
           "#EF553B",
           "#00cc96",
           "#ab63fa",
           "#FFA15A",
           "#19d3f3",
           "#FF6692",
           "#B6E880",
           "#FF97FF",
           "#FECB52"
          ],
          "font": {
           "color": "#2a3f5f"
          },
          "geo": {
           "bgcolor": "white",
           "lakecolor": "white",
           "landcolor": "#E5ECF6",
           "showlakes": true,
           "showland": true,
           "subunitcolor": "white"
          },
          "hoverlabel": {
           "align": "left"
          },
          "hovermode": "closest",
          "mapbox": {
           "style": "light"
          },
          "paper_bgcolor": "white",
          "plot_bgcolor": "#E5ECF6",
          "polar": {
           "angularaxis": {
            "gridcolor": "white",
            "linecolor": "white",
            "ticks": ""
           },
           "bgcolor": "#E5ECF6",
           "radialaxis": {
            "gridcolor": "white",
            "linecolor": "white",
            "ticks": ""
           }
          },
          "scene": {
           "xaxis": {
            "backgroundcolor": "#E5ECF6",
            "gridcolor": "white",
            "gridwidth": 2,
            "linecolor": "white",
            "showbackground": true,
            "ticks": "",
            "zerolinecolor": "white"
           },
           "yaxis": {
            "backgroundcolor": "#E5ECF6",
            "gridcolor": "white",
            "gridwidth": 2,
            "linecolor": "white",
            "showbackground": true,
            "ticks": "",
            "zerolinecolor": "white"
           },
           "zaxis": {
            "backgroundcolor": "#E5ECF6",
            "gridcolor": "white",
            "gridwidth": 2,
            "linecolor": "white",
            "showbackground": true,
            "ticks": "",
            "zerolinecolor": "white"
           }
          },
          "shapedefaults": {
           "line": {
            "color": "#2a3f5f"
           }
          },
          "ternary": {
           "aaxis": {
            "gridcolor": "white",
            "linecolor": "white",
            "ticks": ""
           },
           "baxis": {
            "gridcolor": "white",
            "linecolor": "white",
            "ticks": ""
           },
           "bgcolor": "#E5ECF6",
           "caxis": {
            "gridcolor": "white",
            "linecolor": "white",
            "ticks": ""
           }
          },
          "title": {
           "x": 0.05
          },
          "xaxis": {
           "automargin": true,
           "gridcolor": "white",
           "linecolor": "white",
           "ticks": "",
           "title": {
            "standoff": 15
           },
           "zerolinecolor": "white",
           "zerolinewidth": 2
          },
          "yaxis": {
           "automargin": true,
           "gridcolor": "white",
           "linecolor": "white",
           "ticks": "",
           "title": {
            "standoff": 15
           },
           "zerolinecolor": "white",
           "zerolinewidth": 2
          }
         }
        },
        "title": {
         "text": "Iris Dataset"
        },
        "xaxis": {
         "anchor": "y",
         "autorange": true,
         "domain": [
          0,
          1
         ],
         "range": [
          4.3,
          7.9
         ],
         "title": {
          "text": "Sepal Length (cm)"
         },
         "type": "linear"
        },
        "yaxis": {
         "anchor": "x",
         "autorange": true,
         "categoryarray": [
          2.6,
          2.5,
          2.2,
          2,
          2.7,
          2.4,
          2.8,
          2.3,
          4.2,
          4.1,
          3.3,
          3.8,
          4.4,
          4,
          3.7,
          2.9,
          3.4,
          3.9,
          3.6,
          3.1,
          3.2,
          3,
          3.5
         ],
         "categoryorder": "array",
         "domain": [
          0,
          1
         ],
         "range": [
          1.8666666666666667,
          4.533333333333334
         ],
         "title": {
          "text": "Sepal Width (cm)"
         },
         "type": "linear"
        }
       }
      },
      "image/png": "[encoded data removed]",
      "text/html": [
       "<div>                            <div id=\"ac62be84-7af0-4f7c-b2d7-b66bf5426d70\" class=\"plotly-graph-div\" style=\"height:525px; width:100%;\"></div>            <script type=\"text/javascript\">                require([\"plotly\"], function(Plotly) {                    window.PLOTLYENV=window.PLOTLYENV || {};                                    if (document.getElementById(\"ac62be84-7af0-4f7c-b2d7-b66bf5426d70\")) {                    Plotly.newPlot(                        \"ac62be84-7af0-4f7c-b2d7-b66bf5426d70\",                        [{\"hovertemplate\":\"sepal_width=%{y}<br>sepal_length=%{x}<extra></extra>\",\"legendgroup\":\"\",\"line\":{\"color\":\"#636efa\",\"dash\":\"solid\"},\"marker\":{\"symbol\":\"circle\"},\"mode\":\"lines\",\"name\":\"\",\"orientation\":\"v\",\"showlegend\":false,\"x\":[5.1,5.1,5.2,5.5,5.0,5.0],\"xaxis\":\"x\",\"y\":[3.5,3.5,3.5,3.5,3.5,3.5],\"yaxis\":\"y\",\"type\":\"scatter\"},{\"hovertemplate\":\"sepal_width=%{y}<br>sepal_length=%{x}<extra></extra>\",\"legendgroup\":\"\",\"line\":{\"color\":\"#636efa\",\"dash\":\"solid\"},\"marker\":{\"symbol\":\"circle\"},\"mode\":\"lines\",\"name\":\"\",\"orientation\":\"v\",\"showlegend\":false,\"x\":[4.9,4.8,4.3,5.0,4.4,4.8,5.9,5.6,6.6,6.7,5.4,5.6,6.1,5.7,7.1,6.5,7.6,6.8,6.5,6.1,7.2,7.7,6.0,6.7,6.5,5.9],\"xaxis\":\"x\",\"y\":[3.0,3.0,3.0,3.0,3.0,3.0,3.0,3.0,3.0,3.0,3.0,3.0,3.0,3.0,3.0,3.0,3.0,3.0,3.0,3.0,3.0,3.0,3.0,3.0,3.0,3.0],\"yaxis\":\"y\",\"type\":\"scatter\"},{\"hovertemplate\":\"sepal_width=%{y}<br>sepal_length=%{x}<extra></extra>\",\"legendgroup\":\"\",\"line\":{\"color\":\"#636efa\",\"dash\":\"solid\"},\"marker\":{\"symbol\":\"circle\"},\"mode\":\"lines\",\"name\":\"\",\"orientation\":\"v\",\"showlegend\":false,\"x\":[4.7,4.7,5.0,4.4,4.6,7.0,6.4,5.9,6.5,6.4,6.9,7.2,6.8],\"xaxis\":\"x\",\"y\":[3.2,3.2,3.2,3.2,3.2,3.2,3.2,3.2,3.2,3.2,3.2,3.2,3.2],\"yaxis\":\"y\",\"type\":\"scatter\"},{\"hovertemplate\":\"sepal_width=%{y}<br>sepal_length=%{x}<extra></extra>\",\"legendgroup\":\"\",\"line\":{\"color\":\"#636efa\",\"dash\":\"solid\"},\"marker\":{\"symbol\":\"circle\"},\"mode\":\"lines\",\"name\":\"\",\"orientation\":\"v\",\"showlegend\":false,\"x\":[4.6,4.9,4.8,4.9,6.9,6.7,6.7,6.4,6.9,6.7,6.9],\"xaxis\":\"x\",\"y\":[3.1,3.1,3.1,3.1,3.1,3.1,3.1,3.1,3.1,3.1,3.1],\"yaxis\":\"y\",\"type\":\"scatter\"},{\"hovertemplate\":\"sepal_width=%{y}<br>sepal_length=%{x}<extra></extra>\",\"legendgroup\":\"\",\"line\":{\"color\":\"#636efa\",\"dash\":\"solid\"},\"marker\":{\"symbol\":\"circle\"},\"mode\":\"lines\",\"name\":\"\",\"orientation\":\"v\",\"showlegend\":false,\"x\":[5.0,4.6,4.9,7.2],\"xaxis\":\"x\",\"y\":[3.6,3.6,3.6,3.6],\"yaxis\":\"y\",\"type\":\"scatter\"},{\"hovertemplate\":\"sepal_width=%{y}<br>sepal_length=%{x}<extra></extra>\",\"legendgroup\":\"\",\"line\":{\"color\":\"#636efa\",\"dash\":\"solid\"},\"marker\":{\"symbol\":\"circle\"},\"mode\":\"lines\",\"name\":\"\",\"orientation\":\"v\",\"showlegend\":false,\"x\":[5.4,5.4],\"xaxis\":\"x\",\"y\":[3.9,3.9],\"yaxis\":\"y\",\"type\":\"scatter\"},{\"hovertemplate\":\"sepal_width=%{y}<br>sepal_length=%{x}<extra></extra>\",\"legendgroup\":\"\",\"line\":{\"color\":\"#636efa\",\"dash\":\"solid\"},\"marker\":{\"symbol\":\"circle\"},\"mode\":\"lines\",\"name\":\"\",\"orientation\":\"v\",\"showlegend\":false,\"x\":[4.6,5.0,4.8,5.4,4.8,5.0,5.2,5.4,5.1,6.0,6.3,6.2],\"xaxis\":\"x\",\"y\":[3.4,3.4,3.4,3.4,3.4,3.4,3.4,3.4,3.4,3.4,3.4,3.4],\"yaxis\":\"y\",\"type\":\"scatter\"},{\"hovertemplate\":\"sepal_width=%{y}<br>sepal_length=%{x}<extra></extra>\",\"legendgroup\":\"\",\"line\":{\"color\":\"#636efa\",\"dash\":\"solid\"},\"marker\":{\"symbol\":\"circle\"},\"mode\":\"lines\",\"name\":\"\",\"orientation\":\"v\",\"showlegend\":false,\"x\":[4.4,6.6,6.1,5.6,6.4,6.0,5.7,6.2,6.3,7.3],\"xaxis\":\"x\",\"y\":[2.9,2.9,2.9,2.9,2.9,2.9,2.9,2.9,2.9,2.9],\"yaxis\":\"y\",\"type\":\"scatter\"},{\"hovertemplate\":\"sepal_width=%{y}<br>sepal_length=%{x}<extra></extra>\",\"legendgroup\":\"\",\"line\":{\"color\":\"#636efa\",\"dash\":\"solid\"},\"marker\":{\"symbol\":\"circle\"},\"mode\":\"lines\",\"name\":\"\",\"orientation\":\"v\",\"showlegend\":false,\"x\":[5.4,5.1,5.3],\"xaxis\":\"x\",\"y\":[3.7,3.7,3.7],\"yaxis\":\"y\",\"type\":\"scatter\"},{\"hovertemplate\":\"sepal_width=%{y}<br>sepal_length=%{x}<extra></extra>\",\"legendgroup\":\"\",\"line\":{\"color\":\"#636efa\",\"dash\":\"solid\"},\"marker\":{\"symbol\":\"circle\"},\"mode\":\"lines\",\"name\":\"\",\"orientation\":\"v\",\"showlegend\":false,\"x\":[5.8],\"xaxis\":\"x\",\"y\":[4.0],\"yaxis\":\"y\",\"type\":\"scatter\"},{\"hovertemplate\":\"sepal_width=%{y}<br>sepal_length=%{x}<extra></extra>\",\"legendgroup\":\"\",\"line\":{\"color\":\"#636efa\",\"dash\":\"solid\"},\"marker\":{\"symbol\":\"circle\"},\"mode\":\"lines\",\"name\":\"\",\"orientation\":\"v\",\"showlegend\":false,\"x\":[5.7],\"xaxis\":\"x\",\"y\":[4.4],\"yaxis\":\"y\",\"type\":\"scatter\"},{\"hovertemplate\":\"sepal_width=%{y}<br>sepal_length=%{x}<extra></extra>\",\"legendgroup\":\"\",\"line\":{\"color\":\"#636efa\",\"dash\":\"solid\"},\"marker\":{\"symbol\":\"circle\"},\"mode\":\"lines\",\"name\":\"\",\"orientation\":\"v\",\"showlegend\":false,\"x\":[5.7,5.1,5.1,5.1,7.7,7.9],\"xaxis\":\"x\",\"y\":[3.8,3.8,3.8,3.8,3.8,3.8],\"yaxis\":\"y\",\"type\":\"scatter\"},{\"hovertemplate\":\"sepal_width=%{y}<br>sepal_length=%{x}<extra></extra>\",\"legendgroup\":\"\",\"line\":{\"color\":\"#636efa\",\"dash\":\"solid\"},\"marker\":{\"symbol\":\"circle\"},\"mode\":\"lines\",\"name\":\"\",\"orientation\":\"v\",\"showlegend\":false,\"x\":[5.1,5.0,6.3,6.3,6.7,6.7],\"xaxis\":\"x\",\"y\":[3.3,3.3,3.3,3.3,3.3,3.3],\"yaxis\":\"y\",\"type\":\"scatter\"},{\"hovertemplate\":\"sepal_width=%{y}<br>sepal_length=%{x}<extra></extra>\",\"legendgroup\":\"\",\"line\":{\"color\":\"#636efa\",\"dash\":\"solid\"},\"marker\":{\"symbol\":\"circle\"},\"mode\":\"lines\",\"name\":\"\",\"orientation\":\"v\",\"showlegend\":false,\"x\":[5.2],\"xaxis\":\"x\",\"y\":[4.1],\"yaxis\":\"y\",\"type\":\"scatter\"},{\"hovertemplate\":\"sepal_width=%{y}<br>sepal_length=%{x}<extra></extra>\",\"legendgroup\":\"\",\"line\":{\"color\":\"#636efa\",\"dash\":\"solid\"},\"marker\":{\"symbol\":\"circle\"},\"mode\":\"lines\",\"name\":\"\",\"orientation\":\"v\",\"showlegend\":false,\"x\":[5.5],\"xaxis\":\"x\",\"y\":[4.2],\"yaxis\":\"y\",\"type\":\"scatter\"},{\"hovertemplate\":\"sepal_width=%{y}<br>sepal_length=%{x}<extra></extra>\",\"legendgroup\":\"\",\"line\":{\"color\":\"#636efa\",\"dash\":\"solid\"},\"marker\":{\"symbol\":\"circle\"},\"mode\":\"lines\",\"name\":\"\",\"orientation\":\"v\",\"showlegend\":false,\"x\":[4.5,5.5,6.3,5.0],\"xaxis\":\"x\",\"y\":[2.3,2.3,2.3,2.3],\"yaxis\":\"y\",\"type\":\"scatter\"},{\"hovertemplate\":\"sepal_width=%{y}<br>sepal_length=%{x}<extra></extra>\",\"legendgroup\":\"\",\"line\":{\"color\":\"#636efa\",\"dash\":\"solid\"},\"marker\":{\"symbol\":\"circle\"},\"mode\":\"lines\",\"name\":\"\",\"orientation\":\"v\",\"showlegend\":false,\"x\":[6.5,5.7,6.1,6.1,6.8,5.7,5.8,5.6,7.7,6.2,6.4,7.4,6.4,6.3],\"xaxis\":\"x\",\"y\":[2.8,2.8,2.8,2.8,2.8,2.8,2.8,2.8,2.8,2.8,2.8,2.8,2.8,2.8],\"yaxis\":\"y\",\"type\":\"scatter\"},{\"hovertemplate\":\"sepal_width=%{y}<br>sepal_length=%{x}<extra></extra>\",\"legendgroup\":\"\",\"line\":{\"color\":\"#636efa\",\"dash\":\"solid\"},\"marker\":{\"symbol\":\"circle\"},\"mode\":\"lines\",\"name\":\"\",\"orientation\":\"v\",\"showlegend\":false,\"x\":[4.9,5.5,5.5],\"xaxis\":\"x\",\"y\":[2.4,2.4,2.4],\"yaxis\":\"y\",\"type\":\"scatter\"},{\"hovertemplate\":\"sepal_width=%{y}<br>sepal_length=%{x}<extra></extra>\",\"legendgroup\":\"\",\"line\":{\"color\":\"#636efa\",\"dash\":\"solid\"},\"marker\":{\"symbol\":\"circle\"},\"mode\":\"lines\",\"name\":\"\",\"orientation\":\"v\",\"showlegend\":false,\"x\":[5.2,5.8,5.8,6.0,5.6,5.8,6.4,6.3,5.8],\"xaxis\":\"x\",\"y\":[2.7,2.7,2.7,2.7,2.7,2.7,2.7,2.7,2.7],\"yaxis\":\"y\",\"type\":\"scatter\"},{\"hovertemplate\":\"sepal_width=%{y}<br>sepal_length=%{x}<extra></extra>\",\"legendgroup\":\"\",\"line\":{\"color\":\"#636efa\",\"dash\":\"solid\"},\"marker\":{\"symbol\":\"circle\"},\"mode\":\"lines\",\"name\":\"\",\"orientation\":\"v\",\"showlegend\":false,\"x\":[5.0],\"xaxis\":\"x\",\"y\":[2.0],\"yaxis\":\"y\",\"type\":\"scatter\"},{\"hovertemplate\":\"sepal_width=%{y}<br>sepal_length=%{x}<extra></extra>\",\"legendgroup\":\"\",\"line\":{\"color\":\"#636efa\",\"dash\":\"solid\"},\"marker\":{\"symbol\":\"circle\"},\"mode\":\"lines\",\"name\":\"\",\"orientation\":\"v\",\"showlegend\":false,\"x\":[6.0,6.2,6.0],\"xaxis\":\"x\",\"y\":[2.2,2.2,2.2],\"yaxis\":\"y\",\"type\":\"scatter\"},{\"hovertemplate\":\"sepal_width=%{y}<br>sepal_length=%{x}<extra></extra>\",\"legendgroup\":\"\",\"line\":{\"color\":\"#636efa\",\"dash\":\"solid\"},\"marker\":{\"symbol\":\"circle\"},\"mode\":\"lines\",\"name\":\"\",\"orientation\":\"v\",\"showlegend\":false,\"x\":[5.6,6.3,5.5,5.1,4.9,6.7,5.7,6.3],\"xaxis\":\"x\",\"y\":[2.5,2.5,2.5,2.5,2.5,2.5,2.5,2.5],\"yaxis\":\"y\",\"type\":\"scatter\"},{\"hovertemplate\":\"sepal_width=%{y}<br>sepal_length=%{x}<extra></extra>\",\"legendgroup\":\"\",\"line\":{\"color\":\"#636efa\",\"dash\":\"solid\"},\"marker\":{\"symbol\":\"circle\"},\"mode\":\"lines\",\"name\":\"\",\"orientation\":\"v\",\"showlegend\":false,\"x\":[5.7,5.5,5.8,7.7,6.1],\"xaxis\":\"x\",\"y\":[2.6,2.6,2.6,2.6,2.6],\"yaxis\":\"y\",\"type\":\"scatter\"}],                        {\"template\":{\"data\":{\"histogram2dcontour\":[{\"type\":\"histogram2dcontour\",\"colorbar\":{\"outlinewidth\":0,\"ticks\":\"\"},\"colorscale\":[[0.0,\"#0d0887\"],[0.1111111111111111,\"#46039f\"],[0.2222222222222222,\"#7201a8\"],[0.3333333333333333,\"#9c179e\"],[0.4444444444444444,\"#bd3786\"],[0.5555555555555556,\"#d8576b\"],[0.6666666666666666,\"#ed7953\"],[0.7777777777777778,\"#fb9f3a\"],[0.8888888888888888,\"#fdca26\"],[1.0,\"#f0f921\"]]}],\"choropleth\":[{\"type\":\"choropleth\",\"colorbar\":{\"outlinewidth\":0,\"ticks\":\"\"}}],\"histogram2d\":[{\"type\":\"histogram2d\",\"colorbar\":{\"outlinewidth\":0,\"ticks\":\"\"},\"colorscale\":[[0.0,\"#0d0887\"],[0.1111111111111111,\"#46039f\"],[0.2222222222222222,\"#7201a8\"],[0.3333333333333333,\"#9c179e\"],[0.4444444444444444,\"#bd3786\"],[0.5555555555555556,\"#d8576b\"],[0.6666666666666666,\"#ed7953\"],[0.7777777777777778,\"#fb9f3a\"],[0.8888888888888888,\"#fdca26\"],[1.0,\"#f0f921\"]]}],\"heatmap\":[{\"type\":\"heatmap\",\"colorbar\":{\"outlinewidth\":0,\"ticks\":\"\"},\"colorscale\":[[0.0,\"#0d0887\"],[0.1111111111111111,\"#46039f\"],[0.2222222222222222,\"#7201a8\"],[0.3333333333333333,\"#9c179e\"],[0.4444444444444444,\"#bd3786\"],[0.5555555555555556,\"#d8576b\"],[0.6666666666666666,\"#ed7953\"],[0.7777777777777778,\"#fb9f3a\"],[0.8888888888888888,\"#fdca26\"],[1.0,\"#f0f921\"]]}],\"heatmapgl\":[{\"type\":\"heatmapgl\",\"colorbar\":{\"outlinewidth\":0,\"ticks\":\"\"},\"colorscale\":[[0.0,\"#0d0887\"],[0.1111111111111111,\"#46039f\"],[0.2222222222222222,\"#7201a8\"],[0.3333333333333333,\"#9c179e\"],[0.4444444444444444,\"#bd3786\"],[0.5555555555555556,\"#d8576b\"],[0.6666666666666666,\"#ed7953\"],[0.7777777777777778,\"#fb9f3a\"],[0.8888888888888888,\"#fdca26\"],[1.0,\"#f0f921\"]]}],\"contourcarpet\":[{\"type\":\"contourcarpet\",\"colorbar\":{\"outlinewidth\":0,\"ticks\":\"\"}}],\"contour\":[{\"type\":\"contour\",\"colorbar\":{\"outlinewidth\":0,\"ticks\":\"\"},\"colorscale\":[[0.0,\"#0d0887\"],[0.1111111111111111,\"#46039f\"],[0.2222222222222222,\"#7201a8\"],[0.3333333333333333,\"#9c179e\"],[0.4444444444444444,\"#bd3786\"],[0.5555555555555556,\"#d8576b\"],[0.6666666666666666,\"#ed7953\"],[0.7777777777777778,\"#fb9f3a\"],[0.8888888888888888,\"#fdca26\"],[1.0,\"#f0f921\"]]}],\"surface\":[{\"type\":\"surface\",\"colorbar\":{\"outlinewidth\":0,\"ticks\":\"\"},\"colorscale\":[[0.0,\"#0d0887\"],[0.1111111111111111,\"#46039f\"],[0.2222222222222222,\"#7201a8\"],[0.3333333333333333,\"#9c179e\"],[0.4444444444444444,\"#bd3786\"],[0.5555555555555556,\"#d8576b\"],[0.6666666666666666,\"#ed7953\"],[0.7777777777777778,\"#fb9f3a\"],[0.8888888888888888,\"#fdca26\"],[1.0,\"#f0f921\"]]}],\"mesh3d\":[{\"type\":\"mesh3d\",\"colorbar\":{\"outlinewidth\":0,\"ticks\":\"\"}}],\"scatter\":[{\"fillpattern\":{\"fillmode\":\"overlay\",\"size\":10,\"solidity\":0.2},\"type\":\"scatter\"}],\"parcoords\":[{\"type\":\"parcoords\",\"line\":{\"colorbar\":{\"outlinewidth\":0,\"ticks\":\"\"}}}],\"scatterpolargl\":[{\"type\":\"scatterpolargl\",\"marker\":{\"colorbar\":{\"outlinewidth\":0,\"ticks\":\"\"}}}],\"bar\":[{\"error_x\":{\"color\":\"#2a3f5f\"},\"error_y\":{\"color\":\"#2a3f5f\"},\"marker\":{\"line\":{\"color\":\"#E5ECF6\",\"width\":0.5},\"pattern\":{\"fillmode\":\"overlay\",\"size\":10,\"solidity\":0.2}},\"type\":\"bar\"}],\"scattergeo\":[{\"type\":\"scattergeo\",\"marker\":{\"colorbar\":{\"outlinewidth\":0,\"ticks\":\"\"}}}],\"scatterpolar\":[{\"type\":\"scatterpolar\",\"marker\":{\"colorbar\":{\"outlinewidth\":0,\"ticks\":\"\"}}}],\"histogram\":[{\"marker\":{\"pattern\":{\"fillmode\":\"overlay\",\"size\":10,\"solidity\":0.2}},\"type\":\"histogram\"}],\"scattergl\":[{\"type\":\"scattergl\",\"marker\":{\"colorbar\":{\"outlinewidth\":0,\"ticks\":\"\"}}}],\"scatter3d\":[{\"type\":\"scatter3d\",\"line\":{\"colorbar\":{\"outlinewidth\":0,\"ticks\":\"\"}},\"marker\":{\"colorbar\":{\"outlinewidth\":0,\"ticks\":\"\"}}}],\"scattermapbox\":[{\"type\":\"scattermapbox\",\"marker\":{\"colorbar\":{\"outlinewidth\":0,\"ticks\":\"\"}}}],\"scatterternary\":[{\"type\":\"scatterternary\",\"marker\":{\"colorbar\":{\"outlinewidth\":0,\"ticks\":\"\"}}}],\"scattercarpet\":[{\"type\":\"scattercarpet\",\"marker\":{\"colorbar\":{\"outlinewidth\":0,\"ticks\":\"\"}}}],\"carpet\":[{\"aaxis\":{\"endlinecolor\":\"#2a3f5f\",\"gridcolor\":\"white\",\"linecolor\":\"white\",\"minorgridcolor\":\"white\",\"startlinecolor\":\"#2a3f5f\"},\"baxis\":{\"endlinecolor\":\"#2a3f5f\",\"gridcolor\":\"white\",\"linecolor\":\"white\",\"minorgridcolor\":\"white\",\"startlinecolor\":\"#2a3f5f\"},\"type\":\"carpet\"}],\"table\":[{\"cells\":{\"fill\":{\"color\":\"#EBF0F8\"},\"line\":{\"color\":\"white\"}},\"header\":{\"fill\":{\"color\":\"#C8D4E3\"},\"line\":{\"color\":\"white\"}},\"type\":\"table\"}],\"barpolar\":[{\"marker\":{\"line\":{\"color\":\"#E5ECF6\",\"width\":0.5},\"pattern\":{\"fillmode\":\"overlay\",\"size\":10,\"solidity\":0.2}},\"type\":\"barpolar\"}],\"pie\":[{\"automargin\":true,\"type\":\"pie\"}]},\"layout\":{\"autotypenumbers\":\"strict\",\"colorway\":[\"#636efa\",\"#EF553B\",\"#00cc96\",\"#ab63fa\",\"#FFA15A\",\"#19d3f3\",\"#FF6692\",\"#B6E880\",\"#FF97FF\",\"#FECB52\"],\"font\":{\"color\":\"#2a3f5f\"},\"hovermode\":\"closest\",\"hoverlabel\":{\"align\":\"left\"},\"paper_bgcolor\":\"white\",\"plot_bgcolor\":\"#E5ECF6\",\"polar\":{\"bgcolor\":\"#E5ECF6\",\"angularaxis\":{\"gridcolor\":\"white\",\"linecolor\":\"white\",\"ticks\":\"\"},\"radialaxis\":{\"gridcolor\":\"white\",\"linecolor\":\"white\",\"ticks\":\"\"}},\"ternary\":{\"bgcolor\":\"#E5ECF6\",\"aaxis\":{\"gridcolor\":\"white\",\"linecolor\":\"white\",\"ticks\":\"\"},\"baxis\":{\"gridcolor\":\"white\",\"linecolor\":\"white\",\"ticks\":\"\"},\"caxis\":{\"gridcolor\":\"white\",\"linecolor\":\"white\",\"ticks\":\"\"}},\"coloraxis\":{\"colorbar\":{\"outlinewidth\":0,\"ticks\":\"\"}},\"colorscale\":{\"sequential\":[[0.0,\"#0d0887\"],[0.1111111111111111,\"#46039f\"],[0.2222222222222222,\"#7201a8\"],[0.3333333333333333,\"#9c179e\"],[0.4444444444444444,\"#bd3786\"],[0.5555555555555556,\"#d8576b\"],[0.6666666666666666,\"#ed7953\"],[0.7777777777777778,\"#fb9f3a\"],[0.8888888888888888,\"#fdca26\"],[1.0,\"#f0f921\"]],\"sequentialminus\":[[0.0,\"#0d0887\"],[0.1111111111111111,\"#46039f\"],[0.2222222222222222,\"#7201a8\"],[0.3333333333333333,\"#9c179e\"],[0.4444444444444444,\"#bd3786\"],[0.5555555555555556,\"#d8576b\"],[0.6666666666666666,\"#ed7953\"],[0.7777777777777778,\"#fb9f3a\"],[0.8888888888888888,\"#fdca26\"],[1.0,\"#f0f921\"]],\"diverging\":[[0,\"#8e0152\"],[0.1,\"#c51b7d\"],[0.2,\"#de77ae\"],[0.3,\"#f1b6da\"],[0.4,\"#fde0ef\"],[0.5,\"#f7f7f7\"],[0.6,\"#e6f5d0\"],[0.7,\"#b8e186\"],[0.8,\"#7fbc41\"],[0.9,\"#4d9221\"],[1,\"#276419\"]]},\"xaxis\":{\"gridcolor\":\"white\",\"linecolor\":\"white\",\"ticks\":\"\",\"title\":{\"standoff\":15},\"zerolinecolor\":\"white\",\"automargin\":true,\"zerolinewidth\":2},\"yaxis\":{\"gridcolor\":\"white\",\"linecolor\":\"white\",\"ticks\":\"\",\"title\":{\"standoff\":15},\"zerolinecolor\":\"white\",\"automargin\":true,\"zerolinewidth\":2},\"scene\":{\"xaxis\":{\"backgroundcolor\":\"#E5ECF6\",\"gridcolor\":\"white\",\"linecolor\":\"white\",\"showbackground\":true,\"ticks\":\"\",\"zerolinecolor\":\"white\",\"gridwidth\":2},\"yaxis\":{\"backgroundcolor\":\"#E5ECF6\",\"gridcolor\":\"white\",\"linecolor\":\"white\",\"showbackground\":true,\"ticks\":\"\",\"zerolinecolor\":\"white\",\"gridwidth\":2},\"zaxis\":{\"backgroundcolor\":\"#E5ECF6\",\"gridcolor\":\"white\",\"linecolor\":\"white\",\"showbackground\":true,\"ticks\":\"\",\"zerolinecolor\":\"white\",\"gridwidth\":2}},\"shapedefaults\":{\"line\":{\"color\":\"#2a3f5f\"}},\"annotationdefaults\":{\"arrowcolor\":\"#2a3f5f\",\"arrowhead\":0,\"arrowwidth\":1},\"geo\":{\"bgcolor\":\"white\",\"landcolor\":\"#E5ECF6\",\"subunitcolor\":\"white\",\"showland\":true,\"showlakes\":true,\"lakecolor\":\"white\"},\"title\":{\"x\":0.05},\"mapbox\":{\"style\":\"light\"}}},\"xaxis\":{\"anchor\":\"y\",\"domain\":[0.0,1.0],\"title\":{\"text\":\"Sepal Length (cm)\"}},\"yaxis\":{\"anchor\":\"x\",\"domain\":[0.0,1.0],\"title\":{\"text\":\"Sepal Width (cm)\"},\"categoryorder\":\"array\",\"categoryarray\":[2.6,2.5,2.2,2.0,2.7,2.4,2.8,2.3,4.2,4.1,3.3,3.8,4.4,4.0,3.7,2.9,3.4,3.9,3.6,3.1,3.2,3.0,3.5]},\"legend\":{\"tracegroupgap\":0},\"margin\":{\"t\":60},\"title\":{\"text\":\"Iris Dataset\"}},                        {\"responsive\": true}                    ).then(function(){\n",
       "                            \n",
       "var gd = document.getElementById('ac62be84-7af0-4f7c-b2d7-b66bf5426d70');\n",
       "var x = new MutationObserver(function (mutations, observer) {{\n",
       "        var display = window.getComputedStyle(gd).display;\n",
       "        if (!display || display === 'none') {{\n",
       "            console.log([gd, 'removed!']);\n",
       "            Plotly.purge(gd);\n",
       "            observer.disconnect();\n",
       "        }}\n",
       "}});\n",
       "\n",
       "// Listen for the removal of the full notebook cells\n",
       "var notebookContainer = gd.closest('#notebook-container');\n",
       "if (notebookContainer) {{\n",
       "    x.observe(notebookContainer, {childList: true});\n",
       "}}\n",
       "\n",
       "// Listen for the clearing of the current output cell\n",
       "var outputEl = gd.closest('.output');\n",
       "if (outputEl) {{\n",
       "    x.observe(outputEl, {childList: true});\n",
       "}}\n",
       "\n",
       "                        })                };                });            </script>        </div>"
      ]
     },
     "metadata": {},
     "output_type": "display_data"
    }
   ],
   "source": [
    "import seaborn as sns\n",
    "import pandas as pd\n",
    "from visualize_from_language import *\n",
    "\n",
    "# load iris dataset from seaborn library\n",
    "iris = sns.load_dataset('iris')\n",
    "\n",
    "# display first 5 rows of the dataset\n",
    "#print(iris.head())\n",
    "\n",
    "# convert the iris dataset into a Pandas DataFrame\n",
    "df_iris = pd.DataFrame(iris)\n",
    "\n",
    "# display the first 5 rows of the DataFrame\n",
    "print(df_iris.head())\n",
    "\n",
    "\n",
    "import plotly.express as px\n",
    "import pandas as pd\n",
    "\n",
    "fig = px.line(df_iris, x='sepal_length', y='sepal_width', color=None, line_group=\"sepal_width\")\n",
    "fig.update_layout(\n",
    "    title='Iris Dataset',\n",
    "    xaxis_title='Sepal Length (cm)',\n",
    "    yaxis_title='Sepal Width (cm)'\n",
    ")\n",
    "\n",
    "fig.show()\n",
    "\n",
    "#Element(y=\"sepal_length\", x='sepal_width',chart_type = 'scatter', col='species').plot(df_iris)"
   ]
  },
  {
   "cell_type": "code",
   "execution_count": 8,
   "metadata": {
    "tags": []
   },
   "outputs": [],
   "source": [
    "client.drop_database('eda')\n",
    "\n",
    "client.create_database('eda')"
   ]
  },
  {
   "cell_type": "code",
   "execution_count": 80,
   "metadata": {
    "tags": []
   },
   "outputs": [
    {
     "data": {
      "application/javascript": [
       "(function(root) {\n",
       "  function now() {\n",
       "    return new Date();\n",
       "  }\n",
       "\n",
       "  var force = true;\n",
       "\n",
       "  if (typeof root._bokeh_onload_callbacks === \"undefined\" || force === true) {\n",
       "    root._bokeh_onload_callbacks = [];\n",
       "    root._bokeh_is_loading = undefined;\n",
       "  }\n",
       "\n",
       "  if (typeof (root._bokeh_timeout) === \"undefined\" || force === true) {\n",
       "    root._bokeh_timeout = Date.now() + 5000;\n",
       "    root._bokeh_failed_load = false;\n",
       "  }\n",
       "\n",
       "  function run_callbacks() {\n",
       "    try {\n",
       "      root._bokeh_onload_callbacks.forEach(function(callback) {\n",
       "        if (callback != null)\n",
       "          callback();\n",
       "      });\n",
       "    } finally {\n",
       "      delete root._bokeh_onload_callbacks\n",
       "    }\n",
       "    console.debug(\"Bokeh: all callbacks have finished\");\n",
       "  }\n",
       "\n",
       "  function load_libs(css_urls, js_urls, js_modules, callback) {\n",
       "    if (css_urls == null) css_urls = [];\n",
       "    if (js_urls == null) js_urls = [];\n",
       "    if (js_modules == null) js_modules = [];\n",
       "\n",
       "    root._bokeh_onload_callbacks.push(callback);\n",
       "    if (root._bokeh_is_loading > 0) {\n",
       "      console.debug(\"Bokeh: BokehJS is being loaded, scheduling callback at\", now());\n",
       "      return null;\n",
       "    }\n",
       "    if (js_urls.length === 0 && js_modules.length === 0) {\n",
       "      run_callbacks();\n",
       "      return null;\n",
       "    }\n",
       "    console.debug(\"Bokeh: BokehJS not loaded, scheduling load and callback at\", now());\n",
       "\n",
       "    function on_load() {\n",
       "      root._bokeh_is_loading--;\n",
       "      if (root._bokeh_is_loading === 0) {\n",
       "        console.debug(\"Bokeh: all BokehJS libraries/stylesheets loaded\");\n",
       "        run_callbacks()\n",
       "      }\n",
       "    }\n",
       "\n",
       "    function on_error() {\n",
       "      console.error(\"failed to load \" + url);\n",
       "    }\n",
       "\n",
       "    for (var i = 0; i < css_urls.length; i++) {\n",
       "      var url = css_urls[i];\n",
       "      const element = document.createElement(\"link\");\n",
       "      element.onload = on_load;\n",
       "      element.onerror = on_error;\n",
       "      element.rel = \"stylesheet\";\n",
       "      element.type = \"text/css\";\n",
       "      element.href = url;\n",
       "      console.debug(\"Bokeh: injecting link tag for BokehJS stylesheet: \", url);\n",
       "      document.body.appendChild(element);\n",
       "    }\n",
       "\n",
       "    var skip = [];\n",
       "    if (window.requirejs) {\n",
       "      window.requirejs.config({'packages': {}, 'paths': {'tabulator': 'https://cdn.jsdelivr.net/npm/tabulator-tables@5.3.2/dist/js/tabulator', 'moment': 'https://cdn.jsdelivr.net/npm/luxon/build/global/luxon.min', 'gridstack': 'https://cdn.jsdelivr.net/npm/gridstack@4.2.5/dist/gridstack-h5', 'notyf': 'https://cdn.jsdelivr.net/npm/notyf@3/notyf.min'}, 'shim': {'gridstack': {'exports': 'GridStack'}}});\n",
       "      require([\"tabulator\"], function(Tabulator) {\n",
       "\twindow.Tabulator = Tabulator\n",
       "\ton_load()\n",
       "      })\n",
       "      require([\"moment\"], function(moment) {\n",
       "\twindow.moment = moment\n",
       "\ton_load()\n",
       "      })\n",
       "      require([\"gridstack\"], function(GridStack) {\n",
       "\twindow.GridStack = GridStack\n",
       "\ton_load()\n",
       "      })\n",
       "      require([\"notyf\"], function() {\n",
       "\ton_load()\n",
       "      })\n",
       "      root._bokeh_is_loading = css_urls.length + 4;\n",
       "    } else {\n",
       "      root._bokeh_is_loading = css_urls.length + js_urls.length + js_modules.length;\n",
       "    }    if (((window['Tabulator'] !== undefined) && (!(window['Tabulator'] instanceof HTMLElement))) || window.requirejs) {\n",
       "      var urls = ['https://cdn.holoviz.org/panel/0.14.2/dist/bundled/datatabulator/tabulator-tables@5.3.2/dist/js/tabulator.js'];\n",
       "      for (var i = 0; i < urls.length; i++) {\n",
       "        skip.push(urls[i])\n",
       "      }\n",
       "    }    if (((window['moment'] !== undefined) && (!(window['moment'] instanceof HTMLElement))) || window.requirejs) {\n",
       "      var urls = ['https://cdn.holoviz.org/panel/0.14.2/dist/bundled/datatabulator/luxon/build/global/luxon.min.js'];\n",
       "      for (var i = 0; i < urls.length; i++) {\n",
       "        skip.push(urls[i])\n",
       "      }\n",
       "    }    if (((window['GridStack'] !== undefined) && (!(window['GridStack'] instanceof HTMLElement))) || window.requirejs) {\n",
       "      var urls = ['https://cdn.holoviz.org/panel/0.14.2/dist/bundled/gridstack/gridstack@4.2.5/dist/gridstack-h5.js'];\n",
       "      for (var i = 0; i < urls.length; i++) {\n",
       "        skip.push(urls[i])\n",
       "      }\n",
       "    }    if (((window['Notyf'] !== undefined) && (!(window['Notyf'] instanceof HTMLElement))) || window.requirejs) {\n",
       "      var urls = ['https://cdn.holoviz.org/panel/0.14.2/dist/bundled/notificationarea/notyf@3/notyf.min.js'];\n",
       "      for (var i = 0; i < urls.length; i++) {\n",
       "        skip.push(urls[i])\n",
       "      }\n",
       "    }    for (var i = 0; i < js_urls.length; i++) {\n",
       "      var url = js_urls[i];\n",
       "      if (skip.indexOf(url) >= 0) {\n",
       "\tif (!window.requirejs) {\n",
       "\t  on_load();\n",
       "\t}\n",
       "\tcontinue;\n",
       "      }\n",
       "      var element = document.createElement('script');\n",
       "      element.onload = on_load;\n",
       "      element.onerror = on_error;\n",
       "      element.async = false;\n",
       "      element.src = url;\n",
       "      console.debug(\"Bokeh: injecting script tag for BokehJS library: \", url);\n",
       "      document.head.appendChild(element);\n",
       "    }\n",
       "    for (var i = 0; i < js_modules.length; i++) {\n",
       "      var url = js_modules[i];\n",
       "      if (skip.indexOf(url) >= 0) {\n",
       "\tif (!window.requirejs) {\n",
       "\t  on_load();\n",
       "\t}\n",
       "\tcontinue;\n",
       "      }\n",
       "      var element = document.createElement('script');\n",
       "      element.onload = on_load;\n",
       "      element.onerror = on_error;\n",
       "      element.async = false;\n",
       "      element.src = url;\n",
       "      element.type = \"module\";\n",
       "      console.debug(\"Bokeh: injecting script tag for BokehJS library: \", url);\n",
       "      document.head.appendChild(element);\n",
       "    }\n",
       "    if (!js_urls.length && !js_modules.length) {\n",
       "      on_load()\n",
       "    }\n",
       "  };\n",
       "\n",
       "  function inject_raw_css(css) {\n",
       "    const element = document.createElement(\"style\");\n",
       "    element.appendChild(document.createTextNode(css));\n",
       "    document.body.appendChild(element);\n",
       "  }\n",
       "\n",
       "  var js_urls = [\"https://cdn.holoviz.org/panel/0.14.2/dist/bundled/datatabulator/tabulator-tables@5.3.2/dist/js/tabulator.js\", \"https://cdn.holoviz.org/panel/0.14.2/dist/bundled/datatabulator/luxon/build/global/luxon.min.js\", \"https://cdn.bokeh.org/bokeh/release/bokeh-2.4.3.min.js\", \"https://cdn.bokeh.org/bokeh/release/bokeh-gl-2.4.3.min.js\", \"https://cdn.bokeh.org/bokeh/release/bokeh-widgets-2.4.3.min.js\", \"https://cdn.bokeh.org/bokeh/release/bokeh-tables-2.4.3.min.js\", \"https://cdn.bokeh.org/bokeh/release/bokeh-mathjax-2.4.3.min.js\", \"https://unpkg.com/@holoviz/panel@0.14.2/dist/panel.min.js\"];\n",
       "  var js_modules = [];\n",
       "  var css_urls = [\"https://cdn.holoviz.org/panel/0.14.2/dist/bundled/datatabulator/tabulator-tables@5.3.2/dist/css/tabulator_simple.min.css\", \"https://cdn.holoviz.org/panel/0.14.2/dist/bundled/font-awesome/css/all.min.css\", \"https://cdn.holoviz.org/panel/0.14.2/dist/bundled/font-awesome/css/all.min.css\", \"https://cdn.holoviz.org/panel/0.14.2/dist/bundled/font-awesome/css/all.min.css\", \"https://cdn.holoviz.org/panel/0.14.2/dist/bundled/font-awesome/css/all.min.css\", \"https://cdn.holoviz.org/panel/0.14.2/dist/bundled/font-awesome/css/all.min.css\", \"https://cdn.holoviz.org/panel/0.14.2/dist/bundled/font-awesome/css/all.min.css\", \"https://cdn.holoviz.org/panel/0.14.2/dist/bundled/font-awesome/css/all.min.css\", \"https://cdn.holoviz.org/panel/0.14.2/dist/bundled/font-awesome/css/all.min.css\", \"https://cdn.holoviz.org/panel/0.14.2/dist/bundled/font-awesome/css/all.min.css\", \"https://cdn.holoviz.org/panel/0.14.2/dist/bundled/font-awesome/css/all.min.css\", \"https://cdn.holoviz.org/panel/0.14.2/dist/bundled/font-awesome/css/all.min.css\", \"https://cdn.holoviz.org/panel/0.14.2/dist/bundled/font-awesome/css/all.min.css\", \"https://cdn.holoviz.org/panel/0.14.2/dist/bundled/font-awesome/css/all.min.css\", \"https://cdn.holoviz.org/panel/0.14.2/dist/bundled/font-awesome/css/all.min.css\", \"https://cdn.holoviz.org/panel/0.14.2/dist/bundled/font-awesome/css/all.min.css\", \"https://cdn.holoviz.org/panel/0.14.2/dist/bundled/font-awesome/css/all.min.css\", \"https://cdn.holoviz.org/panel/0.14.2/dist/bundled/font-awesome/css/all.min.css\", \"https://cdn.holoviz.org/panel/0.14.2/dist/bundled/font-awesome/css/all.min.css\", \"https://cdn.holoviz.org/panel/0.14.2/dist/bundled/font-awesome/css/all.min.css\", \"https://cdn.holoviz.org/panel/0.14.2/dist/bundled/font-awesome/css/all.min.css\", \"https://cdn.holoviz.org/panel/0.14.2/dist/bundled/font-awesome/css/all.min.css\", \"https://cdn.holoviz.org/panel/0.14.2/dist/bundled/font-awesome/css/all.min.css\", \"https://cdn.holoviz.org/panel/0.14.2/dist/bundled/font-awesome/css/all.min.css\", \"https://cdn.holoviz.org/panel/0.14.2/dist/bundled/font-awesome/css/all.min.css\", \"https://cdn.holoviz.org/panel/0.14.2/dist/bundled/font-awesome/css/all.min.css\", \"https://cdn.holoviz.org/panel/0.14.2/dist/bundled/font-awesome/css/all.min.css\", \"https://cdn.holoviz.org/panel/0.14.2/dist/bundled/font-awesome/css/all.min.css\", \"https://cdn.holoviz.org/panel/0.14.2/dist/bundled/font-awesome/css/all.min.css\", \"https://cdn.holoviz.org/panel/0.14.2/dist/bundled/font-awesome/css/all.min.css\", \"https://cdn.holoviz.org/panel/0.14.2/dist/bundled/font-awesome/css/all.min.css\", \"https://cdn.holoviz.org/panel/0.14.2/dist/bundled/font-awesome/css/all.min.css\", \"https://cdn.holoviz.org/panel/0.14.2/dist/bundled/font-awesome/css/all.min.css\", \"https://cdn.holoviz.org/panel/0.14.2/dist/bundled/font-awesome/css/all.min.css\", \"https://cdn.holoviz.org/panel/0.14.2/dist/bundled/font-awesome/css/all.min.css\", \"https://cdn.holoviz.org/panel/0.14.2/dist/bundled/font-awesome/css/all.min.css\", \"https://cdn.holoviz.org/panel/0.14.2/dist/bundled/font-awesome/css/all.min.css\", \"https://cdn.holoviz.org/panel/0.14.2/dist/bundled/font-awesome/css/all.min.css\", \"https://cdn.holoviz.org/panel/0.14.2/dist/css/dataframe.css\", \"https://cdn.holoviz.org/panel/0.14.2/dist/css/json.css\", \"https://cdn.holoviz.org/panel/0.14.2/dist/css/loading.css\", \"https://cdn.holoviz.org/panel/0.14.2/dist/css/markdown.css\", \"https://cdn.holoviz.org/panel/0.14.2/dist/css/widgets.css\", \"https://cdn.holoviz.org/panel/0.14.2/dist/css/debugger.css\", \"https://cdn.holoviz.org/panel/0.14.2/dist/css/alerts.css\", \"https://cdn.holoviz.org/panel/0.14.2/dist/css/card.css\"];\n",
       "  var inline_js = [    function(Bokeh) {\n",
       "      inject_raw_css(\"\\n    .bk.pn-loading.arc:before {\\n      background-image: url(\\\"data:image/svg+xml;base64,PHN2ZyB4bWxucz0iaHR0cDovL3d3dy53My5vcmcvMjAwMC9zdmciIHN0eWxlPSJtYXJnaW46IGF1dG87IGJhY2tncm91bmQ6IG5vbmU7IGRpc3BsYXk6IGJsb2NrOyBzaGFwZS1yZW5kZXJpbmc6IGF1dG87IiB2aWV3Qm94PSIwIDAgMTAwIDEwMCIgcHJlc2VydmVBc3BlY3RSYXRpbz0ieE1pZFlNaWQiPiAgPGNpcmNsZSBjeD0iNTAiIGN5PSI1MCIgZmlsbD0ibm9uZSIgc3Ryb2tlPSIjYzNjM2MzIiBzdHJva2Utd2lkdGg9IjEwIiByPSIzNSIgc3Ryb2tlLWRhc2hhcnJheT0iMTY0LjkzMzYxNDMxMzQ2NDE1IDU2Ljk3Nzg3MTQzNzgyMTM4Ij4gICAgPGFuaW1hdGVUcmFuc2Zvcm0gYXR0cmlidXRlTmFtZT0idHJhbnNmb3JtIiB0eXBlPSJyb3RhdGUiIHJlcGVhdENvdW50PSJpbmRlZmluaXRlIiBkdXI9IjFzIiB2YWx1ZXM9IjAgNTAgNTA7MzYwIDUwIDUwIiBrZXlUaW1lcz0iMDsxIj48L2FuaW1hdGVUcmFuc2Zvcm0+ICA8L2NpcmNsZT48L3N2Zz4=\\\");\\n      background-size: auto calc(min(50%, 400px));\\n    }\\n    \");\n",
       "    },    function(Bokeh) {\n",
       "      inject_raw_css(\"\\n    .bk.row {\\n      display: flex !;\\n      \\n    }\\n\\n    .bk.row > * {\\n      flex: 1;\\n    }\\n\\n    .bk.row > :first-child {\\n      flex-basis: 20%;\\n    }\\n\\n    .bk.row > :nth-child(n+2) {\\n      flex-basis: 80%;\\n    }\\n\\n    .bk .side {\\n        flex: 1 1 0;\\n    }\\n\\n\\n    .bk .main {\\n        flex: 5 1 0;\\n    }\\n    .bk .card-button{\\n        background: transparent;\\n    }\\n    \");\n",
       "    },    function(Bokeh) {\n",
       "      inject_raw_css(\"\\n    .bk.row {\\n      display: flex !;\\n      \\n    }\\n\\n    .bk.row > * {\\n      flex: 1;\\n    }\\n\\n    .bk.row > :first-child {\\n      flex-basis: 20%;\\n    }\\n\\n    .bk.row > :nth-child(n+2) {\\n      flex-basis: 80%;\\n    }\\n\\n    .bk .side {\\n        flex: 1 1 0;\\n    }\\n\\n\\n    .bk .main {\\n        flex: 5 1 0;\\n    }\\n    .bk .card-button{\\n        color: transparent;\\n    }\\n    \");\n",
       "    },    function(Bokeh) {\n",
       "      inject_raw_css(\"\\n    .bk.row {\\n      display: flex !;\\n      \\n    }\\n\\n    .bk.row > * {\\n      flex: 1;\\n    }\\n\\n    .bk.row > :first-child {\\n      flex-basis: 20%;\\n    }\\n\\n    .bk.row > :nth-child(n+2) {\\n      flex-basis: 80%;\\n    }\\n\\n    .bk .side {\\n        flex: 1 1 0;\\n    }\\n\\n\\n    .bk .main {\\n        flex: 5 1 0;\\n    }\\n    .bk .card-button{\\n        color: transparent;\\n    }\\n    \");\n",
       "    },    function(Bokeh) {\n",
       "      inject_raw_css(\"\\n    .bk.row {\\n      display: flex !;\\n      \\n    }\\n\\n    .bk.row > * {\\n      flex: 1;\\n    }\\n\\n    .bk.row > :first-child {\\n      flex-basis: 20%;\\n    }\\n\\n    .bk.row > :nth-child(n+2) {\\n      flex-basis: 80%;\\n    }\\n\\n    .bk .side {\\n        flex: 1 1 0;\\n    }\\n\\n\\n    .bk .main {\\n        flex: 5 1 0;\\n    }\\n    .bk .card-button{\\n        color: transparent;\\n    }\\n    .bk.bk-clearfix{\\n        font-weight: normal;\\n        text-align: left;\\n        background: white;\\n    }\\n    \");\n",
       "    },    function(Bokeh) {\n",
       "      inject_raw_css(\"\\n    .bk.row {\\n      display: flex !;\\n      \\n    }\\n\\n    .bk.row > * {\\n      flex: 1;\\n    }\\n\\n    .bk.row > :first-child {\\n      flex-basis: 20%;\\n    }\\n\\n    .bk.row > :nth-child(n+2) {\\n      flex-basis: 80%;\\n    }\\n\\n    .bk .side {\\n        flex: 1 1 0;\\n    }\\n\\n\\n    .bk .main {\\n        flex: 5 1 0;\\n    }\\n    .bk .card-button{\\n        color: transparent;\\n    }\\n    .bk.bk-clearfix{\\n        font-weight: normal;\\n        text-align: left;\\n        font-size: 10;\\n    }\\n    \");\n",
       "    },    function(Bokeh) {\n",
       "      inject_raw_css(\"\\n    .bk.row {\\n      display: flex !;\\n      \\n    }\\n\\n    .bk.row > * {\\n      flex: 1;\\n    }\\n\\n    .bk.row > :first-child {\\n      flex-basis: 20%;\\n    }\\n\\n    .bk.row > :nth-child(n+2) {\\n      flex-basis: 80%;\\n    }\\n\\n    .bk .side {\\n        flex: 1 1 0;\\n    }\\n\\n\\n    .bk .main {\\n        flex: 5 1 0;\\n    }\\n    .bk .card-button{\\n        color: transparent;\\n    }\\n    .bk.bk-clearfix{\\n        font-weight: normal;\\n        text-align: left;\\n        font-size: 10;\\n    }\\n    .bk.accordion button.bk.accordion-header{\\n        background: white;\\n    }\\n    \");\n",
       "    },    function(Bokeh) {\n",
       "      inject_raw_css(\"\\n    .bk.row {\\n      display: flex !;\\n      \\n    }\\n\\n    .bk.row > * {\\n      flex: 1;\\n    }\\n\\n    .bk.row > :first-child {\\n      flex-basis: 20%;\\n    }\\n\\n    .bk.row > :nth-child(n+2) {\\n      flex-basis: 80%;\\n    }\\n\\n    .bk .side {\\n        flex: 1 1 0;\\n    }\\n\\n\\n    .bk .main {\\n        flex: 5 1 0;\\n    }\\n    .bk .card-button{\\n        color: transparent;\\n    }\\n    .bk.bk-clearfix{\\n        font-weight: normal;\\n        text-align: left;\\n        font-size: 10;\\n        background: transparent;\\n    }\\n    .bk.accordion button.bk.accordion-header{\\n        background: white;\\n    }\\n    \");\n",
       "    },    function(Bokeh) {\n",
       "      inject_raw_css(\"\\n    .bk.row {\\n      display: flex !;\\n      \\n    }\\n\\n    .bk.row > * {\\n      flex: 1;\\n    }\\n\\n    .bk.row > :first-child {\\n      flex-basis: 20%;\\n    }\\n\\n    .bk.row > :nth-child(n+2) {\\n      flex-basis: 80%;\\n    }\\n\\n    .bk .side {\\n        flex: 1 1 0;\\n    }\\n\\n\\n    .bk .main {\\n        flex: 5 1 0;\\n    }\\n    .bk .card-button{\\n        color: transparent;\\n    }\\n    .bk.bk-clearfix{\\n        font-weight: normal;\\n        text-align: left;\\n        font-size: 10;\\n        background: transparent;\\n        font-family: Arial;\\n    }\\n    .bk.accordion button.bk.accordion-header{\\n        background: white;\\n    }\\n    \");\n",
       "    },    function(Bokeh) {\n",
       "      inject_raw_css(\"\\n    .bk.row {\\n      display: flex !;\\n      \\n    }\\n\\n    .bk.row > * {\\n      flex: 1;\\n    }\\n\\n    .bk.row > :first-child {\\n      flex-basis: 20%;\\n    }\\n\\n    .bk.row > :nth-child(n+2) {\\n      flex-basis: 80%;\\n    }\\n\\n    .bk .side {\\n        flex: 1 1 0;\\n    }\\n\\n\\n    .bk .main {\\n        flex: 5 1 0;\\n    }\\n    .bk .card-button{\\n        color: transparent;\\n    }\\n    .bk.bk-clearfix{\\n        font-weight: normal;\\n        text-align: left;\\n        font-size: 10px !important;\\n        background: transparent;\\n    }\\n    .bk.accordion button.bk.accordion-header{\\n        background: white;\\n    }\\n    \");\n",
       "    },    function(Bokeh) {\n",
       "      inject_raw_css(\"\\n    .bk.row {\\n      display: flex !;\\n      \\n    }\\n\\n    .bk.row > * {\\n      flex: 1;\\n    }\\n\\n    .bk.row > :first-child {\\n      flex-basis: 20%;\\n    }\\n\\n    .bk.row > :nth-child(n+2) {\\n      flex-basis: 80%;\\n    }\\n\\n    .bk .side {\\n        flex: 1 1 0;\\n    }\\n\\n\\n    .bk .main {\\n        flex: 5 1 0;\\n    }\\n    .bk .card-button{\\n        color: transparent;\\n    }\\n    .bk.bk-clearfix{\\n        font-weight: normal;\\n        text-align: left;\\n        font-size: 13px !important;\\n        background: transparent;\\n    }\\n    .bk.accordion button.bk.accordion-header{\\n        background: white;\\n    }\\n    \");\n",
       "    },    function(Bokeh) {\n",
       "      inject_raw_css(\"\\n    .bk.row {\\n      display: flex !;\\n      \\n    }\\n\\n    .bk.row > * {\\n      flex: 1;\\n    }\\n\\n    .bk.row > :first-child {\\n      flex-basis: 20%;\\n    }\\n\\n    .bk.row > :nth-child(n+2) {\\n      flex-basis: 80%;\\n    }\\n\\n    .bk .side {\\n        flex: 1 1 0;\\n    }\\n\\n\\n    .bk .main {\\n        flex: 5 1 0;\\n    }\\n    .bk .card-button{\\n        color: transparent;\\n    }\\n    .bk.bk-clearfix{\\n        font-weight: normal;\\n        text-align: left;\\n        font-size: 16px !important;\\n        background: transparent;\\n    }\\n    .bk.accordion button.bk.accordion-header{\\n        background: white;\\n    }\\n    \");\n",
       "    },    function(Bokeh) {\n",
       "      inject_raw_css(\"\\n    .bk.row {\\n      display: flex !;\\n      \\n    }\\n\\n    .bk.row > * {\\n      flex: 1;\\n    }\\n\\n    .bk.row > :first-child {\\n      flex-basis: 20%;\\n    }\\n\\n    .bk.row > :nth-child(n+2) {\\n      flex-basis: 80%;\\n    }\\n\\n    .bk .side {\\n        flex: 1 1 0;\\n    }\\n\\n\\n    .bk .main {\\n        flex: 5 1 0;\\n    }\\n    .bk .card-button{\\n        color: transparent;\\n    }\\n    .bk.bk-clearfix{\\n        font-weight: normal;\\n        text-align: left;\\n        font-size: 16px !important;\\n        background: transparent;\\n    }\\n    .bk.accordion button.bk.accordion-header{\\n        background: white;\\n    }\\n    \");\n",
       "    },    function(Bokeh) {\n",
       "      inject_raw_css(\"\\n    .bk.row {\\n      display: flex !;\\n      \\n    }\\n\\n    .bk.row > * {\\n      flex: 1;\\n    }\\n\\n    .bk.row > :first-child {\\n      flex-basis: 20%;\\n    }\\n\\n    .bk.row > :nth-child(n+2) {\\n      flex-basis: 80%;\\n    }\\n\\n    .bk .side {\\n        flex: 1 1 0;\\n    }\\n\\n\\n    .bk .main {\\n        flex: 5 1 0;\\n    }\\n    .bk .card-button{\\n        color: transparent;\\n    }\\n    .bk.bk-clearfix{\\n        font-weight: normal;\\n        text-align: left;\\n        font-size: 16px !important;\\n        background: transparent;\\n    }\\n    .bk.accordion button.bk.accordion-header{\\n        background: white;\\n    }\\n    \");\n",
       "    },    function(Bokeh) {\n",
       "      inject_raw_css(\"\\n    .bk.row {\\n      display: flex !;\\n      \\n    }\\n\\n    .bk.row > * {\\n      flex: 1;\\n    }\\n\\n    .bk.row > :first-child {\\n      flex-basis: 20%;\\n    }\\n\\n    .bk.row > :nth-child(n+2) {\\n      flex-basis: 80%;\\n    }\\n\\n    .bk .side {\\n        flex: 1 1 0;\\n    }\\n\\n\\n    .bk .main {\\n        flex: 5 1 0;\\n    }\\n    .bk .card-button{\\n        color: transparent;\\n    }\\n    .bk.bk-clearfix{\\n        font-weight: normal;\\n        text-align: left;\\n        font-size: 16px !important;\\n        background: transparent;\\n    }\\n    .bk.accordion button.bk.accordion-header{\\n        background: white;\\n    }\\n    \");\n",
       "    },    function(Bokeh) {\n",
       "      inject_raw_css(\"\\n    .bk.row {\\n      display: flex !;\\n      \\n    }\\n\\n    .bk.row > * {\\n      flex: 1;\\n    }\\n\\n    .bk.row > :first-child {\\n      flex-basis: 20%;\\n    }\\n\\n    .bk.row > :nth-child(n+2) {\\n      flex-basis: 80%;\\n    }\\n\\n    .bk .side {\\n        flex: 1 1 0;\\n    }\\n\\n\\n    .bk .main {\\n        flex: 5 1 0;\\n    }\\n    .bk .card-button{\\n        color: transparent;\\n    }\\n    .bk.bk-clearfix{\\n        font-weight: normal;\\n        text-align: left;\\n        font-size: 16px !important;\\n        background: transparent;\\n    }\\n    .bk.accordion button.bk.accordion-header{\\n        background: white;\\n    }\\n    \");\n",
       "    },    function(Bokeh) {\n",
       "      inject_raw_css(\"\\n    .bk.row {\\n      display: flex !;\\n      \\n    }\\n\\n    .bk.row > * {\\n      flex: 1;\\n    }\\n\\n    .bk.row > :first-child {\\n      flex-basis: 20%;\\n    }\\n\\n    .bk.row > :nth-child(n+2) {\\n      flex-basis: 80%;\\n    }\\n\\n    .bk .side {\\n        flex: 1 1 0;\\n    }\\n\\n\\n    .bk .main {\\n        flex: 5 1 0;\\n    }\\n    .bk .card-button{\\n        color: transparent;\\n    }\\n    .bk.bk-clearfix{\\n        font-weight: normal;\\n        text-align: left;\\n        font-size: 16px !important;\\n        background: transparent;\\n    }\\n    .bk.accordion button.bk.accordion-header{\\n        background: white;\\n    }\\n    .bk.accordion button.bk.accordion-header:active{\\n        background: WhiteSmoke;\\n    }\\n    \");\n",
       "    },    function(Bokeh) {\n",
       "      inject_raw_css(\"\\n    .bk.row {\\n      display: flex !;\\n      \\n    }\\n\\n    .bk.row > * {\\n      flex: 1;\\n    }\\n\\n    .bk.row > :first-child {\\n      flex-basis: 20%;\\n    }\\n\\n    .bk.row > :nth-child(n+2) {\\n      flex-basis: 80%;\\n    }\\n\\n    .bk .side {\\n        flex: 1 1 0;\\n    }\\n\\n\\n    .bk .main {\\n        flex: 5 1 0;\\n    }\\n    .bk .card-button{\\n        color: transparent;\\n    }\\n    .bk.bk-clearfix{\\n        font-weight: normal;\\n        text-align: left;\\n        font-size: 16px !important;\\n        background: transparent;\\n    }\\n    .bk.accordion button.bk.accordion-header{\\n        background: white;\\n    }\\n    .bk.accordion button.bk.accordion-header:active{\\n        background: WhiteSmoke;\\n    }\\n    \");\n",
       "    },    function(Bokeh) {\n",
       "      inject_raw_css(\"\\n    .bk.row {\\n      display: flex !;\\n      \\n    }\\n\\n    .bk.row > * {\\n      flex: 1;\\n    }\\n\\n    .bk.row > :first-child {\\n      flex-basis: 20%;\\n    }\\n\\n    .bk.row > :nth-child(n+2) {\\n      flex-basis: 80%;\\n    }\\n\\n    .bk .side {\\n        flex: 1 1 0;\\n    }\\n\\n\\n    .bk .main {\\n        flex: 5 1 0;\\n    }\\n    .bk .card-button{\\n        color: transparent;\\n    }\\n    .bk.bk-clearfix{\\n        font-weight: normal;\\n        text-align: left;\\n        font-size: 16px !important;\\n        background: transparent;\\n    }\\n    .bk.accordion button.bk.accordion-header{\\n        background: white;\\n    }\\n    .bk.accordion button.bk.accordion-header:active{\\n        background: WhiteSmoke;\\n    }\\n    \");\n",
       "    },    function(Bokeh) {\n",
       "      inject_raw_css(\"\\n    .bk.row {\\n      display: flex !;\\n      \\n    }\\n\\n    .bk.row > * {\\n      flex: 1;\\n    }\\n\\n    .bk.row > :first-child {\\n      flex-basis: 20%;\\n    }\\n\\n    .bk.row > :nth-child(n+2) {\\n      flex-basis: 80%;\\n    }\\n\\n    .bk .side {\\n        flex: 1 1 0;\\n    }\\n\\n\\n    .bk .main {\\n        flex: 5 1 0;\\n    }\\n    .bk .card-button{\\n        color: transparent;\\n    }\\n    .bk.bk-clearfix{\\n        font-weight: normal;\\n        text-align: left;\\n        font-size: 16px !important;\\n        background: transparent;\\n    }\\n    .bk.accordion button.bk.accordion-header{\\n        background: white;\\n    }\\n    .bk.accordion button.bk.accordion-header:active{\\n        background: WhiteSmoke;\\n    }\\n    \");\n",
       "    },    function(Bokeh) {\n",
       "      inject_raw_css(\"\\n    .bk.row {\\n      display: flex !;\\n      \\n    }\\n\\n    .bk.row > * {\\n      flex: 1;\\n    }\\n\\n    .bk.row > :first-child {\\n      flex-basis: 20%;\\n    }\\n\\n    .bk.row > :nth-child(n+2) {\\n      flex-basis: 80%;\\n    }\\n\\n    .bk .side {\\n        flex: 1 1 0;\\n    }\\n\\n\\n    .bk .main {\\n        flex: 5 1 0;\\n    }\\n    .bk .card-button{\\n        color: transparent;\\n    }\\n    .bk.bk-clearfix{\\n        font-weight: normal;\\n        text-align: left;\\n        font-size: 16px !important;\\n        background: transparent;\\n    }\\n    .bk.accordion button.bk.accordion-header{\\n        background: white;\\n        border: 0 0;\\n    }\\n    .bk.accordion button.bk.accordion-header:active{\\n        background: WhiteSmoke;\\n    }\\n    \");\n",
       "    },    function(Bokeh) {\n",
       "      inject_raw_css(\"\\n    .bk.row {\\n      display: flex !;\\n      \\n    }\\n\\n    .bk.row > * {\\n      flex: 1;\\n    }\\n\\n    .bk.row > :first-child {\\n      flex-basis: 20%;\\n    }\\n\\n    .bk.row > :nth-child(n+2) {\\n      flex-basis: 80%;\\n    }\\n\\n    .bk .side {\\n        flex: 1 1 0;\\n    }\\n\\n\\n    .bk .main {\\n        flex: 5 1 0;\\n    }\\n    .bk .card-button{\\n        color: transparent;\\n    }\\n    .bk.bk-clearfix{\\n        font-weight: normal;\\n        text-align: left;\\n        font-size: 16px !important;\\n        background: transparent;\\n    }\\n    .bk.accordion button.bk.accordion-header{\\n        background: white;\\n        \\n    }\\n    .bk.accordion{\\n        border: 0px;\\n    }\\n    \");\n",
       "    },    function(Bokeh) {\n",
       "      inject_raw_css(\"\\n    .bk.row {\\n      display: flex !;\\n      \\n    }\\n\\n    .bk.row > * {\\n      flex: 1;\\n    }\\n\\n    .bk.row > :first-child {\\n      flex-basis: 20%;\\n    }\\n\\n    .bk.row > :nth-child(n+2) {\\n      flex-basis: 80%;\\n    }\\n\\n    .bk .side {\\n        flex: 1 1 0;\\n    }\\n\\n\\n    .bk .main {\\n        flex: 5 1 0;\\n    }\\n    .bk .card-button{\\n        color: transparent;\\n    }\\n    .bk.bk-clearfix{\\n        font-weight: normal;\\n        text-align: left;\\n        font-size: 16px !important;\\n        background: transparent;\\n    }\\n    .bk.accordion button.bk.accordion-header{\\n        background: white;\\n        \\n    }\\n    .bk.accordion{\\n        border: 0px;\\n    }\\n    \");\n",
       "    },    function(Bokeh) {\n",
       "      inject_raw_css(\"\\n    .bk.row {\\n      display: flex !;\\n      \\n    }\\n\\n    .bk.row > * {\\n      flex: 1;\\n    }\\n\\n    .bk.row > :first-child {\\n      flex-basis: 20%;\\n    }\\n\\n    .bk.row > :nth-child(n+2) {\\n      flex-basis: 80%;\\n    }\\n\\n    .bk .side {\\n        flex: 1 1 0;\\n    }\\n\\n\\n    .bk .main {\\n        flex: 5 1 0;\\n    }\\n    .bk .card-button{\\n        color: transparent;\\n    }\\n    .bk.bk-clearfix{\\n        font-weight: normal;\\n        text-align: left;\\n        font-size: 16px !important;\\n        background: transparent;\\n    }\\n    .bk.accordion button.bk.accordion-header{\\n        background: white;\\n        \\n    }\\n    .bk.accordion{\\n        border: 0px;\\n    }\\n    \");\n",
       "    },    function(Bokeh) {\n",
       "      inject_raw_css(\"\\n    .bk.row {\\n      display: flex !;\\n      \\n    }\\n\\n    .bk.row > * {\\n      flex: 1;\\n    }\\n\\n    .bk.row > :first-child {\\n      flex-basis: 20%;\\n    }\\n\\n    .bk.row > :nth-child(n+2) {\\n      flex-basis: 80%;\\n    }\\n\\n    .bk .side {\\n        flex: 1 1 0;\\n    }\\n\\n\\n    .bk .main {\\n        flex: 5 1 0;\\n    }\\n    .bk .card-button{\\n        color: transparent;\\n    }\\n    .bk.bk-clearfix{\\n        font-weight: normal;\\n        text-align: left;\\n        font-size: 16px !important;\\n        background: transparent;\\n    }\\n    .bk.accordion button.bk.accordion-header{\\n        background: white;\\n        \\n    }\\n    .bk.accordion{\\n        border: 0px;\\n    }\\n    \");\n",
       "    },    function(Bokeh) {\n",
       "      inject_raw_css(\"\\n    .bk.row {\\n      display: flex !;\\n      \\n    }\\n\\n    .bk.row > * {\\n      flex: 1;\\n    }\\n\\n    .bk.row > :first-child {\\n      flex-basis: 20%;\\n    }\\n\\n    .bk.row > :nth-child(n+2) {\\n      flex-basis: 80%;\\n    }\\n\\n    .bk .side {\\n        flex: 1 1 0;\\n    }\\n\\n\\n    .bk .main {\\n        flex: 5 1 0;\\n    }\\n    .bk .card-button{\\n        color: transparent;\\n    }\\n    .bk.bk-clearfix{\\n        font-weight: normal;\\n        text-align: left;\\n        font-size: 16px !important;\\n        background: transparent;\\n    }\\n    .bk.accordion button.bk.accordion-header{\\n        background: white;\\n        \\n    }\\n    .bk.accordion{\\n        border: 0px;\\n    }\\n    \");\n",
       "    },    function(Bokeh) {\n",
       "      inject_raw_css(\"\\n    .bk.row {\\n      display: flex !;\\n      \\n    }\\n\\n    .bk.row > * {\\n      flex: 1;\\n    }\\n\\n    .bk.row > :first-child {\\n      flex-basis: 20%;\\n    }\\n\\n    .bk.row > :nth-child(n+2) {\\n      flex-basis: 80%;\\n    }\\n\\n    .bk .side {\\n        flex: 1 1 0;\\n    }\\n\\n\\n    .bk .main {\\n        flex: 5 1 0;\\n    }\\n    .bk .card-button{\\n        color: transparent;\\n    }\\n    .bk.bk-clearfix{\\n        font-weight: normal;\\n        text-align: left;\\n        font-size: 16px !important;\\n        background: transparent;\\n    }\\n    .bk.accordion button.bk.accordion-header{\\n        background: white;\\n        \\n    }\\n    .bk.accordion{\\n        border: 0px;\\n    }\\n    \");\n",
       "    },    function(Bokeh) {\n",
       "      inject_raw_css(\"\\n    .bk.row {\\n      display: flex !;\\n      \\n    }\\n\\n    .bk.row > * {\\n      flex: 1;\\n    }\\n\\n    .bk.row > :first-child {\\n      flex-basis: 20%;\\n    }\\n\\n    .bk.row > :nth-child(n+2) {\\n      flex-basis: 80%;\\n    }\\n\\n    .bk .side {\\n        flex: 1 1 0;\\n    }\\n\\n\\n    .bk .main {\\n        flex: 5 1 0;\\n    }\\n    .bk .card-button{\\n        color: transparent;\\n    }\\n    .bk.bk-clearfix{\\n        font-weight: normal;\\n        text-align: left;\\n        font-size: 16px !important;\\n        background: transparent;\\n    }\\n    .bk.accordion button.bk.accordion-header{\\n        background: white;\\n        \\n    }\\n    .bk.accordion{\\n        border: 0px;\\n    }\\n    \");\n",
       "    },    function(Bokeh) {\n",
       "      inject_raw_css(\"\\n    .bk.row {\\n      display: flex !;\\n      \\n    }\\n\\n    .bk.row > * {\\n      flex: 1;\\n    }\\n\\n    .bk.row > :first-child {\\n      flex-basis: 20%;\\n    }\\n\\n    .bk.row > :nth-child(n+2) {\\n      flex-basis: 80%;\\n    }\\n\\n    .bk .side {\\n        flex: 1 1 0;\\n    }\\n\\n\\n    .bk .main {\\n        flex: 5 1 0;\\n    }\\n    .bk .card-button{\\n        color: transparent;\\n    }\\n    .bk.bk-clearfix{\\n        font-weight: normal;\\n        text-align: left;\\n        font-size: 16px !important;\\n        background: transparent;\\n    }\\n    .bk.accordion button.bk.accordion-header{\\n        background: white;\\n        \\n    }\\n    .bk.accordion{\\n        border: 0px;\\n    }\\n    \");\n",
       "    },    function(Bokeh) {\n",
       "      inject_raw_css(\"\\n    .bk.row {\\n      display: flex !;\\n      \\n    }\\n\\n    .bk.row > * {\\n      flex: 1;\\n    }\\n\\n    .bk.row > :first-child {\\n      flex-basis: 20%;\\n    }\\n\\n    .bk.row > :nth-child(n+2) {\\n      flex-basis: 80%;\\n    }\\n\\n    .bk .side {\\n        flex: 1 1 0;\\n    }\\n\\n\\n    .bk .main {\\n        flex: 5 1 0;\\n    }\\n    .bk .card-button{\\n        color: transparent;\\n    }\\n    .bk.bk-clearfix{\\n        font-weight: normal;\\n        text-align: left;\\n        font-size: 16px !important;\\n        background: transparent;\\n    }\\n    .bk.accordion button.bk.accordion-header{\\n        background: white;\\n        \\n    }\\n    .bk.accordion{\\n        border: 0px;\\n    }\\n    \");\n",
       "    },    function(Bokeh) {\n",
       "      inject_raw_css(\"\\n    .bk.row {\\n      display: flex !;\\n      \\n    }\\n\\n    .bk.row > * {\\n      flex: 1;\\n    }\\n\\n    .bk.row > :first-child {\\n      flex-basis: 20%;\\n    }\\n\\n    .bk.row > :nth-child(n+2) {\\n      flex-basis: 80%;\\n    }\\n\\n    .bk .side {\\n        flex: 1 1 0;\\n    }\\n\\n\\n    .bk .main {\\n        flex: 5 1 0;\\n    }\\n    .bk .card-button{\\n        color: transparent;\\n    }\\n    .bk.bk-clearfix{\\n        font-weight: normal;\\n        text-align: left;\\n        font-size: 16px !important;\\n        background: transparent;\\n    }\\n    .bk.accordion button.bk.accordion-header{\\n        background: white;\\n        \\n    }\\n    .bk.accordion{\\n        border: 0px;\\n    }\\n    \");\n",
       "    },    function(Bokeh) {\n",
       "      Bokeh.set_log_level(\"info\");\n",
       "    },\n",
       "function(Bokeh) {} // ensure no trailing comma for IE\n",
       "  ];\n",
       "\n",
       "  function run_inline_js() {\n",
       "    if ((root.Bokeh !== undefined) || (force === true)) {\n",
       "      for (var i = 0; i < inline_js.length; i++) {\n",
       "        inline_js[i].call(root, root.Bokeh);\n",
       "      }} else if (Date.now() < root._bokeh_timeout) {\n",
       "      setTimeout(run_inline_js, 100);\n",
       "    } else if (!root._bokeh_failed_load) {\n",
       "      console.log(\"Bokeh: BokehJS failed to load within specified timeout.\");\n",
       "      root._bokeh_failed_load = true;\n",
       "    }\n",
       "  }\n",
       "\n",
       "  if (root._bokeh_is_loading === 0) {\n",
       "    console.debug(\"Bokeh: BokehJS loaded, going straight to plotting\");\n",
       "    run_inline_js();\n",
       "  } else {\n",
       "    load_libs(css_urls, js_urls, js_modules, function() {\n",
       "      console.debug(\"Bokeh: BokehJS plotting callback run at\", now());\n",
       "      run_inline_js();\n",
       "    });\n",
       "  }\n",
       "}(window));"
      ],
      "application/vnd.holoviews_load.v0+json": "(function(root) {\n  function now() {\n    return new Date();\n  }\n\n  var force = true;\n\n  if (typeof root._bokeh_onload_callbacks === \"undefined\" || force === true) {\n    root._bokeh_onload_callbacks = [];\n    root._bokeh_is_loading = undefined;\n  }\n\n  if (typeof (root._bokeh_timeout) === \"undefined\" || force === true) {\n    root._bokeh_timeout = Date.now() + 5000;\n    root._bokeh_failed_load = false;\n  }\n\n  function run_callbacks() {\n    try {\n      root._bokeh_onload_callbacks.forEach(function(callback) {\n        if (callback != null)\n          callback();\n      });\n    } finally {\n      delete root._bokeh_onload_callbacks\n    }\n    console.debug(\"Bokeh: all callbacks have finished\");\n  }\n\n  function load_libs(css_urls, js_urls, js_modules, callback) {\n    if (css_urls == null) css_urls = [];\n    if (js_urls == null) js_urls = [];\n    if (js_modules == null) js_modules = [];\n\n    root._bokeh_onload_callbacks.push(callback);\n    if (root._bokeh_is_loading > 0) {\n      console.debug(\"Bokeh: BokehJS is being loaded, scheduling callback at\", now());\n      return null;\n    }\n    if (js_urls.length === 0 && js_modules.length === 0) {\n      run_callbacks();\n      return null;\n    }\n    console.debug(\"Bokeh: BokehJS not loaded, scheduling load and callback at\", now());\n\n    function on_load() {\n      root._bokeh_is_loading--;\n      if (root._bokeh_is_loading === 0) {\n        console.debug(\"Bokeh: all BokehJS libraries/stylesheets loaded\");\n        run_callbacks()\n      }\n    }\n\n    function on_error() {\n      console.error(\"failed to load \" + url);\n    }\n\n    for (var i = 0; i < css_urls.length; i++) {\n      var url = css_urls[i];\n      const element = document.createElement(\"link\");\n      element.onload = on_load;\n      element.onerror = on_error;\n      element.rel = \"stylesheet\";\n      element.type = \"text/css\";\n      element.href = url;\n      console.debug(\"Bokeh: injecting link tag for BokehJS stylesheet: \", url);\n      document.body.appendChild(element);\n    }\n\n    var skip = [];\n    if (window.requirejs) {\n      window.requirejs.config({'packages': {}, 'paths': {'tabulator': 'https://cdn.jsdelivr.net/npm/tabulator-tables@5.3.2/dist/js/tabulator', 'moment': 'https://cdn.jsdelivr.net/npm/luxon/build/global/luxon.min', 'gridstack': 'https://cdn.jsdelivr.net/npm/gridstack@4.2.5/dist/gridstack-h5', 'notyf': 'https://cdn.jsdelivr.net/npm/notyf@3/notyf.min'}, 'shim': {'gridstack': {'exports': 'GridStack'}}});\n      require([\"tabulator\"], function(Tabulator) {\n\twindow.Tabulator = Tabulator\n\ton_load()\n      })\n      require([\"moment\"], function(moment) {\n\twindow.moment = moment\n\ton_load()\n      })\n      require([\"gridstack\"], function(GridStack) {\n\twindow.GridStack = GridStack\n\ton_load()\n      })\n      require([\"notyf\"], function() {\n\ton_load()\n      })\n      root._bokeh_is_loading = css_urls.length + 4;\n    } else {\n      root._bokeh_is_loading = css_urls.length + js_urls.length + js_modules.length;\n    }    if (((window['Tabulator'] !== undefined) && (!(window['Tabulator'] instanceof HTMLElement))) || window.requirejs) {\n      var urls = ['https://cdn.holoviz.org/panel/0.14.2/dist/bundled/datatabulator/tabulator-tables@5.3.2/dist/js/tabulator.js'];\n      for (var i = 0; i < urls.length; i++) {\n        skip.push(urls[i])\n      }\n    }    if (((window['moment'] !== undefined) && (!(window['moment'] instanceof HTMLElement))) || window.requirejs) {\n      var urls = ['https://cdn.holoviz.org/panel/0.14.2/dist/bundled/datatabulator/luxon/build/global/luxon.min.js'];\n      for (var i = 0; i < urls.length; i++) {\n        skip.push(urls[i])\n      }\n    }    if (((window['GridStack'] !== undefined) && (!(window['GridStack'] instanceof HTMLElement))) || window.requirejs) {\n      var urls = ['https://cdn.holoviz.org/panel/0.14.2/dist/bundled/gridstack/gridstack@4.2.5/dist/gridstack-h5.js'];\n      for (var i = 0; i < urls.length; i++) {\n        skip.push(urls[i])\n      }\n    }    if (((window['Notyf'] !== undefined) && (!(window['Notyf'] instanceof HTMLElement))) || window.requirejs) {\n      var urls = ['https://cdn.holoviz.org/panel/0.14.2/dist/bundled/notificationarea/notyf@3/notyf.min.js'];\n      for (var i = 0; i < urls.length; i++) {\n        skip.push(urls[i])\n      }\n    }    for (var i = 0; i < js_urls.length; i++) {\n      var url = js_urls[i];\n      if (skip.indexOf(url) >= 0) {\n\tif (!window.requirejs) {\n\t  on_load();\n\t}\n\tcontinue;\n      }\n      var element = document.createElement('script');\n      element.onload = on_load;\n      element.onerror = on_error;\n      element.async = false;\n      element.src = url;\n      console.debug(\"Bokeh: injecting script tag for BokehJS library: \", url);\n      document.head.appendChild(element);\n    }\n    for (var i = 0; i < js_modules.length; i++) {\n      var url = js_modules[i];\n      if (skip.indexOf(url) >= 0) {\n\tif (!window.requirejs) {\n\t  on_load();\n\t}\n\tcontinue;\n      }\n      var element = document.createElement('script');\n      element.onload = on_load;\n      element.onerror = on_error;\n      element.async = false;\n      element.src = url;\n      element.type = \"module\";\n      console.debug(\"Bokeh: injecting script tag for BokehJS library: \", url);\n      document.head.appendChild(element);\n    }\n    if (!js_urls.length && !js_modules.length) {\n      on_load()\n    }\n  };\n\n  function inject_raw_css(css) {\n    const element = document.createElement(\"style\");\n    element.appendChild(document.createTextNode(css));\n    document.body.appendChild(element);\n  }\n\n  var js_urls = [\"https://cdn.holoviz.org/panel/0.14.2/dist/bundled/datatabulator/tabulator-tables@5.3.2/dist/js/tabulator.js\", \"https://cdn.holoviz.org/panel/0.14.2/dist/bundled/datatabulator/luxon/build/global/luxon.min.js\", \"https://cdn.bokeh.org/bokeh/release/bokeh-2.4.3.min.js\", \"https://cdn.bokeh.org/bokeh/release/bokeh-gl-2.4.3.min.js\", \"https://cdn.bokeh.org/bokeh/release/bokeh-widgets-2.4.3.min.js\", \"https://cdn.bokeh.org/bokeh/release/bokeh-tables-2.4.3.min.js\", \"https://cdn.bokeh.org/bokeh/release/bokeh-mathjax-2.4.3.min.js\", \"https://unpkg.com/@holoviz/panel@0.14.2/dist/panel.min.js\"];\n  var js_modules = [];\n  var css_urls = [\"https://cdn.holoviz.org/panel/0.14.2/dist/bundled/datatabulator/tabulator-tables@5.3.2/dist/css/tabulator_simple.min.css\", \"https://cdn.holoviz.org/panel/0.14.2/dist/bundled/font-awesome/css/all.min.css\", \"https://cdn.holoviz.org/panel/0.14.2/dist/bundled/font-awesome/css/all.min.css\", \"https://cdn.holoviz.org/panel/0.14.2/dist/bundled/font-awesome/css/all.min.css\", \"https://cdn.holoviz.org/panel/0.14.2/dist/bundled/font-awesome/css/all.min.css\", \"https://cdn.holoviz.org/panel/0.14.2/dist/bundled/font-awesome/css/all.min.css\", \"https://cdn.holoviz.org/panel/0.14.2/dist/bundled/font-awesome/css/all.min.css\", \"https://cdn.holoviz.org/panel/0.14.2/dist/bundled/font-awesome/css/all.min.css\", \"https://cdn.holoviz.org/panel/0.14.2/dist/bundled/font-awesome/css/all.min.css\", \"https://cdn.holoviz.org/panel/0.14.2/dist/bundled/font-awesome/css/all.min.css\", \"https://cdn.holoviz.org/panel/0.14.2/dist/bundled/font-awesome/css/all.min.css\", \"https://cdn.holoviz.org/panel/0.14.2/dist/bundled/font-awesome/css/all.min.css\", \"https://cdn.holoviz.org/panel/0.14.2/dist/bundled/font-awesome/css/all.min.css\", \"https://cdn.holoviz.org/panel/0.14.2/dist/bundled/font-awesome/css/all.min.css\", \"https://cdn.holoviz.org/panel/0.14.2/dist/bundled/font-awesome/css/all.min.css\", \"https://cdn.holoviz.org/panel/0.14.2/dist/bundled/font-awesome/css/all.min.css\", \"https://cdn.holoviz.org/panel/0.14.2/dist/bundled/font-awesome/css/all.min.css\", \"https://cdn.holoviz.org/panel/0.14.2/dist/bundled/font-awesome/css/all.min.css\", \"https://cdn.holoviz.org/panel/0.14.2/dist/bundled/font-awesome/css/all.min.css\", \"https://cdn.holoviz.org/panel/0.14.2/dist/bundled/font-awesome/css/all.min.css\", \"https://cdn.holoviz.org/panel/0.14.2/dist/bundled/font-awesome/css/all.min.css\", \"https://cdn.holoviz.org/panel/0.14.2/dist/bundled/font-awesome/css/all.min.css\", \"https://cdn.holoviz.org/panel/0.14.2/dist/bundled/font-awesome/css/all.min.css\", \"https://cdn.holoviz.org/panel/0.14.2/dist/bundled/font-awesome/css/all.min.css\", \"https://cdn.holoviz.org/panel/0.14.2/dist/bundled/font-awesome/css/all.min.css\", \"https://cdn.holoviz.org/panel/0.14.2/dist/bundled/font-awesome/css/all.min.css\", \"https://cdn.holoviz.org/panel/0.14.2/dist/bundled/font-awesome/css/all.min.css\", \"https://cdn.holoviz.org/panel/0.14.2/dist/bundled/font-awesome/css/all.min.css\", \"https://cdn.holoviz.org/panel/0.14.2/dist/bundled/font-awesome/css/all.min.css\", \"https://cdn.holoviz.org/panel/0.14.2/dist/bundled/font-awesome/css/all.min.css\", \"https://cdn.holoviz.org/panel/0.14.2/dist/bundled/font-awesome/css/all.min.css\", \"https://cdn.holoviz.org/panel/0.14.2/dist/bundled/font-awesome/css/all.min.css\", \"https://cdn.holoviz.org/panel/0.14.2/dist/bundled/font-awesome/css/all.min.css\", \"https://cdn.holoviz.org/panel/0.14.2/dist/bundled/font-awesome/css/all.min.css\", \"https://cdn.holoviz.org/panel/0.14.2/dist/bundled/font-awesome/css/all.min.css\", \"https://cdn.holoviz.org/panel/0.14.2/dist/bundled/font-awesome/css/all.min.css\", \"https://cdn.holoviz.org/panel/0.14.2/dist/bundled/font-awesome/css/all.min.css\", \"https://cdn.holoviz.org/panel/0.14.2/dist/bundled/font-awesome/css/all.min.css\", \"https://cdn.holoviz.org/panel/0.14.2/dist/css/dataframe.css\", \"https://cdn.holoviz.org/panel/0.14.2/dist/css/json.css\", \"https://cdn.holoviz.org/panel/0.14.2/dist/css/loading.css\", \"https://cdn.holoviz.org/panel/0.14.2/dist/css/markdown.css\", \"https://cdn.holoviz.org/panel/0.14.2/dist/css/widgets.css\", \"https://cdn.holoviz.org/panel/0.14.2/dist/css/debugger.css\", \"https://cdn.holoviz.org/panel/0.14.2/dist/css/alerts.css\", \"https://cdn.holoviz.org/panel/0.14.2/dist/css/card.css\"];\n  var inline_js = [    function(Bokeh) {\n      inject_raw_css(\"\\n    .bk.pn-loading.arc:before {\\n      background-image: url(\\\"data:image/svg+xml;base64,PHN2ZyB4bWxucz0iaHR0cDovL3d3dy53My5vcmcvMjAwMC9zdmciIHN0eWxlPSJtYXJnaW46IGF1dG87IGJhY2tncm91bmQ6IG5vbmU7IGRpc3BsYXk6IGJsb2NrOyBzaGFwZS1yZW5kZXJpbmc6IGF1dG87IiB2aWV3Qm94PSIwIDAgMTAwIDEwMCIgcHJlc2VydmVBc3BlY3RSYXRpbz0ieE1pZFlNaWQiPiAgPGNpcmNsZSBjeD0iNTAiIGN5PSI1MCIgZmlsbD0ibm9uZSIgc3Ryb2tlPSIjYzNjM2MzIiBzdHJva2Utd2lkdGg9IjEwIiByPSIzNSIgc3Ryb2tlLWRhc2hhcnJheT0iMTY0LjkzMzYxNDMxMzQ2NDE1IDU2Ljk3Nzg3MTQzNzgyMTM4Ij4gICAgPGFuaW1hdGVUcmFuc2Zvcm0gYXR0cmlidXRlTmFtZT0idHJhbnNmb3JtIiB0eXBlPSJyb3RhdGUiIHJlcGVhdENvdW50PSJpbmRlZmluaXRlIiBkdXI9IjFzIiB2YWx1ZXM9IjAgNTAgNTA7MzYwIDUwIDUwIiBrZXlUaW1lcz0iMDsxIj48L2FuaW1hdGVUcmFuc2Zvcm0+ICA8L2NpcmNsZT48L3N2Zz4=\\\");\\n      background-size: auto calc(min(50%, 400px));\\n    }\\n    \");\n    },    function(Bokeh) {\n      inject_raw_css(\"\\n    .bk.row {\\n      display: flex !;\\n      \\n    }\\n\\n    .bk.row > * {\\n      flex: 1;\\n    }\\n\\n    .bk.row > :first-child {\\n      flex-basis: 20%;\\n    }\\n\\n    .bk.row > :nth-child(n+2) {\\n      flex-basis: 80%;\\n    }\\n\\n    .bk .side {\\n        flex: 1 1 0;\\n    }\\n\\n\\n    .bk .main {\\n        flex: 5 1 0;\\n    }\\n    .bk .card-button{\\n        background: transparent;\\n    }\\n    \");\n    },    function(Bokeh) {\n      inject_raw_css(\"\\n    .bk.row {\\n      display: flex !;\\n      \\n    }\\n\\n    .bk.row > * {\\n      flex: 1;\\n    }\\n\\n    .bk.row > :first-child {\\n      flex-basis: 20%;\\n    }\\n\\n    .bk.row > :nth-child(n+2) {\\n      flex-basis: 80%;\\n    }\\n\\n    .bk .side {\\n        flex: 1 1 0;\\n    }\\n\\n\\n    .bk .main {\\n        flex: 5 1 0;\\n    }\\n    .bk .card-button{\\n        color: transparent;\\n    }\\n    \");\n    },    function(Bokeh) {\n      inject_raw_css(\"\\n    .bk.row {\\n      display: flex !;\\n      \\n    }\\n\\n    .bk.row > * {\\n      flex: 1;\\n    }\\n\\n    .bk.row > :first-child {\\n      flex-basis: 20%;\\n    }\\n\\n    .bk.row > :nth-child(n+2) {\\n      flex-basis: 80%;\\n    }\\n\\n    .bk .side {\\n        flex: 1 1 0;\\n    }\\n\\n\\n    .bk .main {\\n        flex: 5 1 0;\\n    }\\n    .bk .card-button{\\n        color: transparent;\\n    }\\n    \");\n    },    function(Bokeh) {\n      inject_raw_css(\"\\n    .bk.row {\\n      display: flex !;\\n      \\n    }\\n\\n    .bk.row > * {\\n      flex: 1;\\n    }\\n\\n    .bk.row > :first-child {\\n      flex-basis: 20%;\\n    }\\n\\n    .bk.row > :nth-child(n+2) {\\n      flex-basis: 80%;\\n    }\\n\\n    .bk .side {\\n        flex: 1 1 0;\\n    }\\n\\n\\n    .bk .main {\\n        flex: 5 1 0;\\n    }\\n    .bk .card-button{\\n        color: transparent;\\n    }\\n    .bk.bk-clearfix{\\n        font-weight: normal;\\n        text-align: left;\\n        background: white;\\n    }\\n    \");\n    },    function(Bokeh) {\n      inject_raw_css(\"\\n    .bk.row {\\n      display: flex !;\\n      \\n    }\\n\\n    .bk.row > * {\\n      flex: 1;\\n    }\\n\\n    .bk.row > :first-child {\\n      flex-basis: 20%;\\n    }\\n\\n    .bk.row > :nth-child(n+2) {\\n      flex-basis: 80%;\\n    }\\n\\n    .bk .side {\\n        flex: 1 1 0;\\n    }\\n\\n\\n    .bk .main {\\n        flex: 5 1 0;\\n    }\\n    .bk .card-button{\\n        color: transparent;\\n    }\\n    .bk.bk-clearfix{\\n        font-weight: normal;\\n        text-align: left;\\n        font-size: 10;\\n    }\\n    \");\n    },    function(Bokeh) {\n      inject_raw_css(\"\\n    .bk.row {\\n      display: flex !;\\n      \\n    }\\n\\n    .bk.row > * {\\n      flex: 1;\\n    }\\n\\n    .bk.row > :first-child {\\n      flex-basis: 20%;\\n    }\\n\\n    .bk.row > :nth-child(n+2) {\\n      flex-basis: 80%;\\n    }\\n\\n    .bk .side {\\n        flex: 1 1 0;\\n    }\\n\\n\\n    .bk .main {\\n        flex: 5 1 0;\\n    }\\n    .bk .card-button{\\n        color: transparent;\\n    }\\n    .bk.bk-clearfix{\\n        font-weight: normal;\\n        text-align: left;\\n        font-size: 10;\\n    }\\n    .bk.accordion button.bk.accordion-header{\\n        background: white;\\n    }\\n    \");\n    },    function(Bokeh) {\n      inject_raw_css(\"\\n    .bk.row {\\n      display: flex !;\\n      \\n    }\\n\\n    .bk.row > * {\\n      flex: 1;\\n    }\\n\\n    .bk.row > :first-child {\\n      flex-basis: 20%;\\n    }\\n\\n    .bk.row > :nth-child(n+2) {\\n      flex-basis: 80%;\\n    }\\n\\n    .bk .side {\\n        flex: 1 1 0;\\n    }\\n\\n\\n    .bk .main {\\n        flex: 5 1 0;\\n    }\\n    .bk .card-button{\\n        color: transparent;\\n    }\\n    .bk.bk-clearfix{\\n        font-weight: normal;\\n        text-align: left;\\n        font-size: 10;\\n        background: transparent;\\n    }\\n    .bk.accordion button.bk.accordion-header{\\n        background: white;\\n    }\\n    \");\n    },    function(Bokeh) {\n      inject_raw_css(\"\\n    .bk.row {\\n      display: flex !;\\n      \\n    }\\n\\n    .bk.row > * {\\n      flex: 1;\\n    }\\n\\n    .bk.row > :first-child {\\n      flex-basis: 20%;\\n    }\\n\\n    .bk.row > :nth-child(n+2) {\\n      flex-basis: 80%;\\n    }\\n\\n    .bk .side {\\n        flex: 1 1 0;\\n    }\\n\\n\\n    .bk .main {\\n        flex: 5 1 0;\\n    }\\n    .bk .card-button{\\n        color: transparent;\\n    }\\n    .bk.bk-clearfix{\\n        font-weight: normal;\\n        text-align: left;\\n        font-size: 10;\\n        background: transparent;\\n        font-family: Arial;\\n    }\\n    .bk.accordion button.bk.accordion-header{\\n        background: white;\\n    }\\n    \");\n    },    function(Bokeh) {\n      inject_raw_css(\"\\n    .bk.row {\\n      display: flex !;\\n      \\n    }\\n\\n    .bk.row > * {\\n      flex: 1;\\n    }\\n\\n    .bk.row > :first-child {\\n      flex-basis: 20%;\\n    }\\n\\n    .bk.row > :nth-child(n+2) {\\n      flex-basis: 80%;\\n    }\\n\\n    .bk .side {\\n        flex: 1 1 0;\\n    }\\n\\n\\n    .bk .main {\\n        flex: 5 1 0;\\n    }\\n    .bk .card-button{\\n        color: transparent;\\n    }\\n    .bk.bk-clearfix{\\n        font-weight: normal;\\n        text-align: left;\\n        font-size: 10px !important;\\n        background: transparent;\\n    }\\n    .bk.accordion button.bk.accordion-header{\\n        background: white;\\n    }\\n    \");\n    },    function(Bokeh) {\n      inject_raw_css(\"\\n    .bk.row {\\n      display: flex !;\\n      \\n    }\\n\\n    .bk.row > * {\\n      flex: 1;\\n    }\\n\\n    .bk.row > :first-child {\\n      flex-basis: 20%;\\n    }\\n\\n    .bk.row > :nth-child(n+2) {\\n      flex-basis: 80%;\\n    }\\n\\n    .bk .side {\\n        flex: 1 1 0;\\n    }\\n\\n\\n    .bk .main {\\n        flex: 5 1 0;\\n    }\\n    .bk .card-button{\\n        color: transparent;\\n    }\\n    .bk.bk-clearfix{\\n        font-weight: normal;\\n        text-align: left;\\n        font-size: 13px !important;\\n        background: transparent;\\n    }\\n    .bk.accordion button.bk.accordion-header{\\n        background: white;\\n    }\\n    \");\n    },    function(Bokeh) {\n      inject_raw_css(\"\\n    .bk.row {\\n      display: flex !;\\n      \\n    }\\n\\n    .bk.row > * {\\n      flex: 1;\\n    }\\n\\n    .bk.row > :first-child {\\n      flex-basis: 20%;\\n    }\\n\\n    .bk.row > :nth-child(n+2) {\\n      flex-basis: 80%;\\n    }\\n\\n    .bk .side {\\n        flex: 1 1 0;\\n    }\\n\\n\\n    .bk .main {\\n        flex: 5 1 0;\\n    }\\n    .bk .card-button{\\n        color: transparent;\\n    }\\n    .bk.bk-clearfix{\\n        font-weight: normal;\\n        text-align: left;\\n        font-size: 16px !important;\\n        background: transparent;\\n    }\\n    .bk.accordion button.bk.accordion-header{\\n        background: white;\\n    }\\n    \");\n    },    function(Bokeh) {\n      inject_raw_css(\"\\n    .bk.row {\\n      display: flex !;\\n      \\n    }\\n\\n    .bk.row > * {\\n      flex: 1;\\n    }\\n\\n    .bk.row > :first-child {\\n      flex-basis: 20%;\\n    }\\n\\n    .bk.row > :nth-child(n+2) {\\n      flex-basis: 80%;\\n    }\\n\\n    .bk .side {\\n        flex: 1 1 0;\\n    }\\n\\n\\n    .bk .main {\\n        flex: 5 1 0;\\n    }\\n    .bk .card-button{\\n        color: transparent;\\n    }\\n    .bk.bk-clearfix{\\n        font-weight: normal;\\n        text-align: left;\\n        font-size: 16px !important;\\n        background: transparent;\\n    }\\n    .bk.accordion button.bk.accordion-header{\\n        background: white;\\n    }\\n    \");\n    },    function(Bokeh) {\n      inject_raw_css(\"\\n    .bk.row {\\n      display: flex !;\\n      \\n    }\\n\\n    .bk.row > * {\\n      flex: 1;\\n    }\\n\\n    .bk.row > :first-child {\\n      flex-basis: 20%;\\n    }\\n\\n    .bk.row > :nth-child(n+2) {\\n      flex-basis: 80%;\\n    }\\n\\n    .bk .side {\\n        flex: 1 1 0;\\n    }\\n\\n\\n    .bk .main {\\n        flex: 5 1 0;\\n    }\\n    .bk .card-button{\\n        color: transparent;\\n    }\\n    .bk.bk-clearfix{\\n        font-weight: normal;\\n        text-align: left;\\n        font-size: 16px !important;\\n        background: transparent;\\n    }\\n    .bk.accordion button.bk.accordion-header{\\n        background: white;\\n    }\\n    \");\n    },    function(Bokeh) {\n      inject_raw_css(\"\\n    .bk.row {\\n      display: flex !;\\n      \\n    }\\n\\n    .bk.row > * {\\n      flex: 1;\\n    }\\n\\n    .bk.row > :first-child {\\n      flex-basis: 20%;\\n    }\\n\\n    .bk.row > :nth-child(n+2) {\\n      flex-basis: 80%;\\n    }\\n\\n    .bk .side {\\n        flex: 1 1 0;\\n    }\\n\\n\\n    .bk .main {\\n        flex: 5 1 0;\\n    }\\n    .bk .card-button{\\n        color: transparent;\\n    }\\n    .bk.bk-clearfix{\\n        font-weight: normal;\\n        text-align: left;\\n        font-size: 16px !important;\\n        background: transparent;\\n    }\\n    .bk.accordion button.bk.accordion-header{\\n        background: white;\\n    }\\n    \");\n    },    function(Bokeh) {\n      inject_raw_css(\"\\n    .bk.row {\\n      display: flex !;\\n      \\n    }\\n\\n    .bk.row > * {\\n      flex: 1;\\n    }\\n\\n    .bk.row > :first-child {\\n      flex-basis: 20%;\\n    }\\n\\n    .bk.row > :nth-child(n+2) {\\n      flex-basis: 80%;\\n    }\\n\\n    .bk .side {\\n        flex: 1 1 0;\\n    }\\n\\n\\n    .bk .main {\\n        flex: 5 1 0;\\n    }\\n    .bk .card-button{\\n        color: transparent;\\n    }\\n    .bk.bk-clearfix{\\n        font-weight: normal;\\n        text-align: left;\\n        font-size: 16px !important;\\n        background: transparent;\\n    }\\n    .bk.accordion button.bk.accordion-header{\\n        background: white;\\n    }\\n    \");\n    },    function(Bokeh) {\n      inject_raw_css(\"\\n    .bk.row {\\n      display: flex !;\\n      \\n    }\\n\\n    .bk.row > * {\\n      flex: 1;\\n    }\\n\\n    .bk.row > :first-child {\\n      flex-basis: 20%;\\n    }\\n\\n    .bk.row > :nth-child(n+2) {\\n      flex-basis: 80%;\\n    }\\n\\n    .bk .side {\\n        flex: 1 1 0;\\n    }\\n\\n\\n    .bk .main {\\n        flex: 5 1 0;\\n    }\\n    .bk .card-button{\\n        color: transparent;\\n    }\\n    .bk.bk-clearfix{\\n        font-weight: normal;\\n        text-align: left;\\n        font-size: 16px !important;\\n        background: transparent;\\n    }\\n    .bk.accordion button.bk.accordion-header{\\n        background: white;\\n    }\\n    .bk.accordion button.bk.accordion-header:active{\\n        background: WhiteSmoke;\\n    }\\n    \");\n    },    function(Bokeh) {\n      inject_raw_css(\"\\n    .bk.row {\\n      display: flex !;\\n      \\n    }\\n\\n    .bk.row > * {\\n      flex: 1;\\n    }\\n\\n    .bk.row > :first-child {\\n      flex-basis: 20%;\\n    }\\n\\n    .bk.row > :nth-child(n+2) {\\n      flex-basis: 80%;\\n    }\\n\\n    .bk .side {\\n        flex: 1 1 0;\\n    }\\n\\n\\n    .bk .main {\\n        flex: 5 1 0;\\n    }\\n    .bk .card-button{\\n        color: transparent;\\n    }\\n    .bk.bk-clearfix{\\n        font-weight: normal;\\n        text-align: left;\\n        font-size: 16px !important;\\n        background: transparent;\\n    }\\n    .bk.accordion button.bk.accordion-header{\\n        background: white;\\n    }\\n    .bk.accordion button.bk.accordion-header:active{\\n        background: WhiteSmoke;\\n    }\\n    \");\n    },    function(Bokeh) {\n      inject_raw_css(\"\\n    .bk.row {\\n      display: flex !;\\n      \\n    }\\n\\n    .bk.row > * {\\n      flex: 1;\\n    }\\n\\n    .bk.row > :first-child {\\n      flex-basis: 20%;\\n    }\\n\\n    .bk.row > :nth-child(n+2) {\\n      flex-basis: 80%;\\n    }\\n\\n    .bk .side {\\n        flex: 1 1 0;\\n    }\\n\\n\\n    .bk .main {\\n        flex: 5 1 0;\\n    }\\n    .bk .card-button{\\n        color: transparent;\\n    }\\n    .bk.bk-clearfix{\\n        font-weight: normal;\\n        text-align: left;\\n        font-size: 16px !important;\\n        background: transparent;\\n    }\\n    .bk.accordion button.bk.accordion-header{\\n        background: white;\\n    }\\n    .bk.accordion button.bk.accordion-header:active{\\n        background: WhiteSmoke;\\n    }\\n    \");\n    },    function(Bokeh) {\n      inject_raw_css(\"\\n    .bk.row {\\n      display: flex !;\\n      \\n    }\\n\\n    .bk.row > * {\\n      flex: 1;\\n    }\\n\\n    .bk.row > :first-child {\\n      flex-basis: 20%;\\n    }\\n\\n    .bk.row > :nth-child(n+2) {\\n      flex-basis: 80%;\\n    }\\n\\n    .bk .side {\\n        flex: 1 1 0;\\n    }\\n\\n\\n    .bk .main {\\n        flex: 5 1 0;\\n    }\\n    .bk .card-button{\\n        color: transparent;\\n    }\\n    .bk.bk-clearfix{\\n        font-weight: normal;\\n        text-align: left;\\n        font-size: 16px !important;\\n        background: transparent;\\n    }\\n    .bk.accordion button.bk.accordion-header{\\n        background: white;\\n    }\\n    .bk.accordion button.bk.accordion-header:active{\\n        background: WhiteSmoke;\\n    }\\n    \");\n    },    function(Bokeh) {\n      inject_raw_css(\"\\n    .bk.row {\\n      display: flex !;\\n      \\n    }\\n\\n    .bk.row > * {\\n      flex: 1;\\n    }\\n\\n    .bk.row > :first-child {\\n      flex-basis: 20%;\\n    }\\n\\n    .bk.row > :nth-child(n+2) {\\n      flex-basis: 80%;\\n    }\\n\\n    .bk .side {\\n        flex: 1 1 0;\\n    }\\n\\n\\n    .bk .main {\\n        flex: 5 1 0;\\n    }\\n    .bk .card-button{\\n        color: transparent;\\n    }\\n    .bk.bk-clearfix{\\n        font-weight: normal;\\n        text-align: left;\\n        font-size: 16px !important;\\n        background: transparent;\\n    }\\n    .bk.accordion button.bk.accordion-header{\\n        background: white;\\n        border: 0 0;\\n    }\\n    .bk.accordion button.bk.accordion-header:active{\\n        background: WhiteSmoke;\\n    }\\n    \");\n    },    function(Bokeh) {\n      inject_raw_css(\"\\n    .bk.row {\\n      display: flex !;\\n      \\n    }\\n\\n    .bk.row > * {\\n      flex: 1;\\n    }\\n\\n    .bk.row > :first-child {\\n      flex-basis: 20%;\\n    }\\n\\n    .bk.row > :nth-child(n+2) {\\n      flex-basis: 80%;\\n    }\\n\\n    .bk .side {\\n        flex: 1 1 0;\\n    }\\n\\n\\n    .bk .main {\\n        flex: 5 1 0;\\n    }\\n    .bk .card-button{\\n        color: transparent;\\n    }\\n    .bk.bk-clearfix{\\n        font-weight: normal;\\n        text-align: left;\\n        font-size: 16px !important;\\n        background: transparent;\\n    }\\n    .bk.accordion button.bk.accordion-header{\\n        background: white;\\n        \\n    }\\n    .bk.accordion{\\n        border: 0px;\\n    }\\n    \");\n    },    function(Bokeh) {\n      inject_raw_css(\"\\n    .bk.row {\\n      display: flex !;\\n      \\n    }\\n\\n    .bk.row > * {\\n      flex: 1;\\n    }\\n\\n    .bk.row > :first-child {\\n      flex-basis: 20%;\\n    }\\n\\n    .bk.row > :nth-child(n+2) {\\n      flex-basis: 80%;\\n    }\\n\\n    .bk .side {\\n        flex: 1 1 0;\\n    }\\n\\n\\n    .bk .main {\\n        flex: 5 1 0;\\n    }\\n    .bk .card-button{\\n        color: transparent;\\n    }\\n    .bk.bk-clearfix{\\n        font-weight: normal;\\n        text-align: left;\\n        font-size: 16px !important;\\n        background: transparent;\\n    }\\n    .bk.accordion button.bk.accordion-header{\\n        background: white;\\n        \\n    }\\n    .bk.accordion{\\n        border: 0px;\\n    }\\n    \");\n    },    function(Bokeh) {\n      inject_raw_css(\"\\n    .bk.row {\\n      display: flex !;\\n      \\n    }\\n\\n    .bk.row > * {\\n      flex: 1;\\n    }\\n\\n    .bk.row > :first-child {\\n      flex-basis: 20%;\\n    }\\n\\n    .bk.row > :nth-child(n+2) {\\n      flex-basis: 80%;\\n    }\\n\\n    .bk .side {\\n        flex: 1 1 0;\\n    }\\n\\n\\n    .bk .main {\\n        flex: 5 1 0;\\n    }\\n    .bk .card-button{\\n        color: transparent;\\n    }\\n    .bk.bk-clearfix{\\n        font-weight: normal;\\n        text-align: left;\\n        font-size: 16px !important;\\n        background: transparent;\\n    }\\n    .bk.accordion button.bk.accordion-header{\\n        background: white;\\n        \\n    }\\n    .bk.accordion{\\n        border: 0px;\\n    }\\n    \");\n    },    function(Bokeh) {\n      inject_raw_css(\"\\n    .bk.row {\\n      display: flex !;\\n      \\n    }\\n\\n    .bk.row > * {\\n      flex: 1;\\n    }\\n\\n    .bk.row > :first-child {\\n      flex-basis: 20%;\\n    }\\n\\n    .bk.row > :nth-child(n+2) {\\n      flex-basis: 80%;\\n    }\\n\\n    .bk .side {\\n        flex: 1 1 0;\\n    }\\n\\n\\n    .bk .main {\\n        flex: 5 1 0;\\n    }\\n    .bk .card-button{\\n        color: transparent;\\n    }\\n    .bk.bk-clearfix{\\n        font-weight: normal;\\n        text-align: left;\\n        font-size: 16px !important;\\n        background: transparent;\\n    }\\n    .bk.accordion button.bk.accordion-header{\\n        background: white;\\n        \\n    }\\n    .bk.accordion{\\n        border: 0px;\\n    }\\n    \");\n    },    function(Bokeh) {\n      inject_raw_css(\"\\n    .bk.row {\\n      display: flex !;\\n      \\n    }\\n\\n    .bk.row > * {\\n      flex: 1;\\n    }\\n\\n    .bk.row > :first-child {\\n      flex-basis: 20%;\\n    }\\n\\n    .bk.row > :nth-child(n+2) {\\n      flex-basis: 80%;\\n    }\\n\\n    .bk .side {\\n        flex: 1 1 0;\\n    }\\n\\n\\n    .bk .main {\\n        flex: 5 1 0;\\n    }\\n    .bk .card-button{\\n        color: transparent;\\n    }\\n    .bk.bk-clearfix{\\n        font-weight: normal;\\n        text-align: left;\\n        font-size: 16px !important;\\n        background: transparent;\\n    }\\n    .bk.accordion button.bk.accordion-header{\\n        background: white;\\n        \\n    }\\n    .bk.accordion{\\n        border: 0px;\\n    }\\n    \");\n    },    function(Bokeh) {\n      inject_raw_css(\"\\n    .bk.row {\\n      display: flex !;\\n      \\n    }\\n\\n    .bk.row > * {\\n      flex: 1;\\n    }\\n\\n    .bk.row > :first-child {\\n      flex-basis: 20%;\\n    }\\n\\n    .bk.row > :nth-child(n+2) {\\n      flex-basis: 80%;\\n    }\\n\\n    .bk .side {\\n        flex: 1 1 0;\\n    }\\n\\n\\n    .bk .main {\\n        flex: 5 1 0;\\n    }\\n    .bk .card-button{\\n        color: transparent;\\n    }\\n    .bk.bk-clearfix{\\n        font-weight: normal;\\n        text-align: left;\\n        font-size: 16px !important;\\n        background: transparent;\\n    }\\n    .bk.accordion button.bk.accordion-header{\\n        background: white;\\n        \\n    }\\n    .bk.accordion{\\n        border: 0px;\\n    }\\n    \");\n    },    function(Bokeh) {\n      inject_raw_css(\"\\n    .bk.row {\\n      display: flex !;\\n      \\n    }\\n\\n    .bk.row > * {\\n      flex: 1;\\n    }\\n\\n    .bk.row > :first-child {\\n      flex-basis: 20%;\\n    }\\n\\n    .bk.row > :nth-child(n+2) {\\n      flex-basis: 80%;\\n    }\\n\\n    .bk .side {\\n        flex: 1 1 0;\\n    }\\n\\n\\n    .bk .main {\\n        flex: 5 1 0;\\n    }\\n    .bk .card-button{\\n        color: transparent;\\n    }\\n    .bk.bk-clearfix{\\n        font-weight: normal;\\n        text-align: left;\\n        font-size: 16px !important;\\n        background: transparent;\\n    }\\n    .bk.accordion button.bk.accordion-header{\\n        background: white;\\n        \\n    }\\n    .bk.accordion{\\n        border: 0px;\\n    }\\n    \");\n    },    function(Bokeh) {\n      inject_raw_css(\"\\n    .bk.row {\\n      display: flex !;\\n      \\n    }\\n\\n    .bk.row > * {\\n      flex: 1;\\n    }\\n\\n    .bk.row > :first-child {\\n      flex-basis: 20%;\\n    }\\n\\n    .bk.row > :nth-child(n+2) {\\n      flex-basis: 80%;\\n    }\\n\\n    .bk .side {\\n        flex: 1 1 0;\\n    }\\n\\n\\n    .bk .main {\\n        flex: 5 1 0;\\n    }\\n    .bk .card-button{\\n        color: transparent;\\n    }\\n    .bk.bk-clearfix{\\n        font-weight: normal;\\n        text-align: left;\\n        font-size: 16px !important;\\n        background: transparent;\\n    }\\n    .bk.accordion button.bk.accordion-header{\\n        background: white;\\n        \\n    }\\n    .bk.accordion{\\n        border: 0px;\\n    }\\n    \");\n    },    function(Bokeh) {\n      inject_raw_css(\"\\n    .bk.row {\\n      display: flex !;\\n      \\n    }\\n\\n    .bk.row > * {\\n      flex: 1;\\n    }\\n\\n    .bk.row > :first-child {\\n      flex-basis: 20%;\\n    }\\n\\n    .bk.row > :nth-child(n+2) {\\n      flex-basis: 80%;\\n    }\\n\\n    .bk .side {\\n        flex: 1 1 0;\\n    }\\n\\n\\n    .bk .main {\\n        flex: 5 1 0;\\n    }\\n    .bk .card-button{\\n        color: transparent;\\n    }\\n    .bk.bk-clearfix{\\n        font-weight: normal;\\n        text-align: left;\\n        font-size: 16px !important;\\n        background: transparent;\\n    }\\n    .bk.accordion button.bk.accordion-header{\\n        background: white;\\n        \\n    }\\n    .bk.accordion{\\n        border: 0px;\\n    }\\n    \");\n    },    function(Bokeh) {\n      inject_raw_css(\"\\n    .bk.row {\\n      display: flex !;\\n      \\n    }\\n\\n    .bk.row > * {\\n      flex: 1;\\n    }\\n\\n    .bk.row > :first-child {\\n      flex-basis: 20%;\\n    }\\n\\n    .bk.row > :nth-child(n+2) {\\n      flex-basis: 80%;\\n    }\\n\\n    .bk .side {\\n        flex: 1 1 0;\\n    }\\n\\n\\n    .bk .main {\\n        flex: 5 1 0;\\n    }\\n    .bk .card-button{\\n        color: transparent;\\n    }\\n    .bk.bk-clearfix{\\n        font-weight: normal;\\n        text-align: left;\\n        font-size: 16px !important;\\n        background: transparent;\\n    }\\n    .bk.accordion button.bk.accordion-header{\\n        background: white;\\n        \\n    }\\n    .bk.accordion{\\n        border: 0px;\\n    }\\n    \");\n    },    function(Bokeh) {\n      Bokeh.set_log_level(\"info\");\n    },\nfunction(Bokeh) {} // ensure no trailing comma for IE\n  ];\n\n  function run_inline_js() {\n    if ((root.Bokeh !== undefined) || (force === true)) {\n      for (var i = 0; i < inline_js.length; i++) {\n        inline_js[i].call(root, root.Bokeh);\n      }} else if (Date.now() < root._bokeh_timeout) {\n      setTimeout(run_inline_js, 100);\n    } else if (!root._bokeh_failed_load) {\n      console.log(\"Bokeh: BokehJS failed to load within specified timeout.\");\n      root._bokeh_failed_load = true;\n    }\n  }\n\n  if (root._bokeh_is_loading === 0) {\n    console.debug(\"Bokeh: BokehJS loaded, going straight to plotting\");\n    run_inline_js();\n  } else {\n    load_libs(css_urls, js_urls, js_modules, function() {\n      console.debug(\"Bokeh: BokehJS plotting callback run at\", now());\n      run_inline_js();\n    });\n  }\n}(window));"
     },
     "metadata": {},
     "output_type": "display_data"
    },
    {
     "data": {
      "application/javascript": [
       "\n",
       "if ((window.PyViz === undefined) || (window.PyViz instanceof HTMLElement)) {\n",
       "  window.PyViz = {comms: {}, comm_status:{}, kernels:{}, receivers: {}, plot_index: []}\n",
       "}\n",
       "\n",
       "\n",
       "    function JupyterCommManager() {\n",
       "    }\n",
       "\n",
       "    JupyterCommManager.prototype.register_target = function(plot_id, comm_id, msg_handler) {\n",
       "      if (window.comm_manager || ((window.Jupyter !== undefined) && (Jupyter.notebook.kernel != null))) {\n",
       "        var comm_manager = window.comm_manager || Jupyter.notebook.kernel.comm_manager;\n",
       "        comm_manager.register_target(comm_id, function(comm) {\n",
       "          comm.on_msg(msg_handler);\n",
       "        });\n",
       "      } else if ((plot_id in window.PyViz.kernels) && (window.PyViz.kernels[plot_id])) {\n",
       "        window.PyViz.kernels[plot_id].registerCommTarget(comm_id, function(comm) {\n",
       "          comm.onMsg = msg_handler;\n",
       "        });\n",
       "      } else if (typeof google != 'undefined' && google.colab.kernel != null) {\n",
       "        google.colab.kernel.comms.registerTarget(comm_id, (comm) => {\n",
       "          var messages = comm.messages[Symbol.asyncIterator]();\n",
       "          function processIteratorResult(result) {\n",
       "            var message = result.value;\n",
       "            console.log(message)\n",
       "            var content = {data: message.data, comm_id};\n",
       "            var buffers = []\n",
       "            for (var buffer of message.buffers || []) {\n",
       "              buffers.push(new DataView(buffer))\n",
       "            }\n",
       "            var metadata = message.metadata || {};\n",
       "            var msg = {content, buffers, metadata}\n",
       "            msg_handler(msg);\n",
       "            return messages.next().then(processIteratorResult);\n",
       "          }\n",
       "          return messages.next().then(processIteratorResult);\n",
       "        })\n",
       "      }\n",
       "    }\n",
       "\n",
       "    JupyterCommManager.prototype.get_client_comm = function(plot_id, comm_id, msg_handler) {\n",
       "      if (comm_id in window.PyViz.comms) {\n",
       "        return window.PyViz.comms[comm_id];\n",
       "      } else if (window.comm_manager || ((window.Jupyter !== undefined) && (Jupyter.notebook.kernel != null))) {\n",
       "        var comm_manager = window.comm_manager || Jupyter.notebook.kernel.comm_manager;\n",
       "        var comm = comm_manager.new_comm(comm_id, {}, {}, {}, comm_id);\n",
       "        if (msg_handler) {\n",
       "          comm.on_msg(msg_handler);\n",
       "        }\n",
       "      } else if ((plot_id in window.PyViz.kernels) && (window.PyViz.kernels[plot_id])) {\n",
       "        var comm = window.PyViz.kernels[plot_id].connectToComm(comm_id);\n",
       "        comm.open();\n",
       "        if (msg_handler) {\n",
       "          comm.onMsg = msg_handler;\n",
       "        }\n",
       "      } else if (typeof google != 'undefined' && google.colab.kernel != null) {\n",
       "        var comm_promise = google.colab.kernel.comms.open(comm_id)\n",
       "        comm_promise.then((comm) => {\n",
       "          window.PyViz.comms[comm_id] = comm;\n",
       "          if (msg_handler) {\n",
       "            var messages = comm.messages[Symbol.asyncIterator]();\n",
       "            function processIteratorResult(result) {\n",
       "              var message = result.value;\n",
       "              var content = {data: message.data};\n",
       "              var metadata = message.metadata || {comm_id};\n",
       "              var msg = {content, metadata}\n",
       "              msg_handler(msg);\n",
       "              return messages.next().then(processIteratorResult);\n",
       "            }\n",
       "            return messages.next().then(processIteratorResult);\n",
       "          }\n",
       "        }) \n",
       "        var sendClosure = (data, metadata, buffers, disposeOnDone) => {\n",
       "          return comm_promise.then((comm) => {\n",
       "            comm.send(data, metadata, buffers, disposeOnDone);\n",
       "          });\n",
       "        };\n",
       "        var comm = {\n",
       "          send: sendClosure\n",
       "        };\n",
       "      }\n",
       "      window.PyViz.comms[comm_id] = comm;\n",
       "      return comm;\n",
       "    }\n",
       "    window.PyViz.comm_manager = new JupyterCommManager();\n",
       "    \n",
       "\n",
       "\n",
       "var JS_MIME_TYPE = 'application/javascript';\n",
       "var HTML_MIME_TYPE = 'text/html';\n",
       "var EXEC_MIME_TYPE = 'application/vnd.holoviews_exec.v0+json';\n",
       "var CLASS_NAME = 'output';\n",
       "\n",
       "/**\n",
       " * Render data to the DOM node\n",
       " */\n",
       "function render(props, node) {\n",
       "  var div = document.createElement(\"div\");\n",
       "  var script = document.createElement(\"script\");\n",
       "  node.appendChild(div);\n",
       "  node.appendChild(script);\n",
       "}\n",
       "\n",
       "/**\n",
       " * Handle when a new output is added\n",
       " */\n",
       "function handle_add_output(event, handle) {\n",
       "  var output_area = handle.output_area;\n",
       "  var output = handle.output;\n",
       "  if ((output.data == undefined) || (!output.data.hasOwnProperty(EXEC_MIME_TYPE))) {\n",
       "    return\n",
       "  }\n",
       "  var id = output.metadata[EXEC_MIME_TYPE][\"id\"];\n",
       "  var toinsert = output_area.element.find(\".\" + CLASS_NAME.split(' ')[0]);\n",
       "  if (id !== undefined) {\n",
       "    var nchildren = toinsert.length;\n",
       "    var html_node = toinsert[nchildren-1].children[0];\n",
       "    html_node.innerHTML = output.data[HTML_MIME_TYPE];\n",
       "    var scripts = [];\n",
       "    var nodelist = html_node.querySelectorAll(\"script\");\n",
       "    for (var i in nodelist) {\n",
       "      if (nodelist.hasOwnProperty(i)) {\n",
       "        scripts.push(nodelist[i])\n",
       "      }\n",
       "    }\n",
       "\n",
       "    scripts.forEach( function (oldScript) {\n",
       "      var newScript = document.createElement(\"script\");\n",
       "      var attrs = [];\n",
       "      var nodemap = oldScript.attributes;\n",
       "      for (var j in nodemap) {\n",
       "        if (nodemap.hasOwnProperty(j)) {\n",
       "          attrs.push(nodemap[j])\n",
       "        }\n",
       "      }\n",
       "      attrs.forEach(function(attr) { newScript.setAttribute(attr.name, attr.value) });\n",
       "      newScript.appendChild(document.createTextNode(oldScript.innerHTML));\n",
       "      oldScript.parentNode.replaceChild(newScript, oldScript);\n",
       "    });\n",
       "    if (JS_MIME_TYPE in output.data) {\n",
       "      toinsert[nchildren-1].children[1].textContent = output.data[JS_MIME_TYPE];\n",
       "    }\n",
       "    output_area._hv_plot_id = id;\n",
       "    if ((window.Bokeh !== undefined) && (id in Bokeh.index)) {\n",
       "      window.PyViz.plot_index[id] = Bokeh.index[id];\n",
       "    } else {\n",
       "      window.PyViz.plot_index[id] = null;\n",
       "    }\n",
       "  } else if (output.metadata[EXEC_MIME_TYPE][\"server_id\"] !== undefined) {\n",
       "    var bk_div = document.createElement(\"div\");\n",
       "    bk_div.innerHTML = output.data[HTML_MIME_TYPE];\n",
       "    var script_attrs = bk_div.children[0].attributes;\n",
       "    for (var i = 0; i < script_attrs.length; i++) {\n",
       "      toinsert[toinsert.length - 1].childNodes[1].setAttribute(script_attrs[i].name, script_attrs[i].value);\n",
       "    }\n",
       "    // store reference to server id on output_area\n",
       "    output_area._bokeh_server_id = output.metadata[EXEC_MIME_TYPE][\"server_id\"];\n",
       "  }\n",
       "}\n",
       "\n",
       "/**\n",
       " * Handle when an output is cleared or removed\n",
       " */\n",
       "function handle_clear_output(event, handle) {\n",
       "  var id = handle.cell.output_area._hv_plot_id;\n",
       "  var server_id = handle.cell.output_area._bokeh_server_id;\n",
       "  if (((id === undefined) || !(id in PyViz.plot_index)) && (server_id !== undefined)) { return; }\n",
       "  var comm = window.PyViz.comm_manager.get_client_comm(\"hv-extension-comm\", \"hv-extension-comm\", function () {});\n",
       "  if (server_id !== null) {\n",
       "    comm.send({event_type: 'server_delete', 'id': server_id});\n",
       "    return;\n",
       "  } else if (comm !== null) {\n",
       "    comm.send({event_type: 'delete', 'id': id});\n",
       "  }\n",
       "  delete PyViz.plot_index[id];\n",
       "  if ((window.Bokeh !== undefined) & (id in window.Bokeh.index)) {\n",
       "    var doc = window.Bokeh.index[id].model.document\n",
       "    doc.clear();\n",
       "    const i = window.Bokeh.documents.indexOf(doc);\n",
       "    if (i > -1) {\n",
       "      window.Bokeh.documents.splice(i, 1);\n",
       "    }\n",
       "  }\n",
       "}\n",
       "\n",
       "/**\n",
       " * Handle kernel restart event\n",
       " */\n",
       "function handle_kernel_cleanup(event, handle) {\n",
       "  delete PyViz.comms[\"hv-extension-comm\"];\n",
       "  window.PyViz.plot_index = {}\n",
       "}\n",
       "\n",
       "/**\n",
       " * Handle update_display_data messages\n",
       " */\n",
       "function handle_update_output(event, handle) {\n",
       "  handle_clear_output(event, {cell: {output_area: handle.output_area}})\n",
       "  handle_add_output(event, handle)\n",
       "}\n",
       "\n",
       "function register_renderer(events, OutputArea) {\n",
       "  function append_mime(data, metadata, element) {\n",
       "    // create a DOM node to render to\n",
       "    var toinsert = this.create_output_subarea(\n",
       "    metadata,\n",
       "    CLASS_NAME,\n",
       "    EXEC_MIME_TYPE\n",
       "    );\n",
       "    this.keyboard_manager.register_events(toinsert);\n",
       "    // Render to node\n",
       "    var props = {data: data, metadata: metadata[EXEC_MIME_TYPE]};\n",
       "    render(props, toinsert[0]);\n",
       "    element.append(toinsert);\n",
       "    return toinsert\n",
       "  }\n",
       "\n",
       "  events.on('output_added.OutputArea', handle_add_output);\n",
       "  events.on('output_updated.OutputArea', handle_update_output);\n",
       "  events.on('clear_output.CodeCell', handle_clear_output);\n",
       "  events.on('delete.Cell', handle_clear_output);\n",
       "  events.on('kernel_ready.Kernel', handle_kernel_cleanup);\n",
       "\n",
       "  OutputArea.prototype.register_mime_type(EXEC_MIME_TYPE, append_mime, {\n",
       "    safe: true,\n",
       "    index: 0\n",
       "  });\n",
       "}\n",
       "\n",
       "if (window.Jupyter !== undefined) {\n",
       "  try {\n",
       "    var events = require('base/js/events');\n",
       "    var OutputArea = require('notebook/js/outputarea').OutputArea;\n",
       "    if (OutputArea.prototype.mime_types().indexOf(EXEC_MIME_TYPE) == -1) {\n",
       "      register_renderer(events, OutputArea);\n",
       "    }\n",
       "  } catch(err) {\n",
       "  }\n",
       "}\n"
      ],
      "application/vnd.holoviews_load.v0+json": "\nif ((window.PyViz === undefined) || (window.PyViz instanceof HTMLElement)) {\n  window.PyViz = {comms: {}, comm_status:{}, kernels:{}, receivers: {}, plot_index: []}\n}\n\n\n    function JupyterCommManager() {\n    }\n\n    JupyterCommManager.prototype.register_target = function(plot_id, comm_id, msg_handler) {\n      if (window.comm_manager || ((window.Jupyter !== undefined) && (Jupyter.notebook.kernel != null))) {\n        var comm_manager = window.comm_manager || Jupyter.notebook.kernel.comm_manager;\n        comm_manager.register_target(comm_id, function(comm) {\n          comm.on_msg(msg_handler);\n        });\n      } else if ((plot_id in window.PyViz.kernels) && (window.PyViz.kernels[plot_id])) {\n        window.PyViz.kernels[plot_id].registerCommTarget(comm_id, function(comm) {\n          comm.onMsg = msg_handler;\n        });\n      } else if (typeof google != 'undefined' && google.colab.kernel != null) {\n        google.colab.kernel.comms.registerTarget(comm_id, (comm) => {\n          var messages = comm.messages[Symbol.asyncIterator]();\n          function processIteratorResult(result) {\n            var message = result.value;\n            console.log(message)\n            var content = {data: message.data, comm_id};\n            var buffers = []\n            for (var buffer of message.buffers || []) {\n              buffers.push(new DataView(buffer))\n            }\n            var metadata = message.metadata || {};\n            var msg = {content, buffers, metadata}\n            msg_handler(msg);\n            return messages.next().then(processIteratorResult);\n          }\n          return messages.next().then(processIteratorResult);\n        })\n      }\n    }\n\n    JupyterCommManager.prototype.get_client_comm = function(plot_id, comm_id, msg_handler) {\n      if (comm_id in window.PyViz.comms) {\n        return window.PyViz.comms[comm_id];\n      } else if (window.comm_manager || ((window.Jupyter !== undefined) && (Jupyter.notebook.kernel != null))) {\n        var comm_manager = window.comm_manager || Jupyter.notebook.kernel.comm_manager;\n        var comm = comm_manager.new_comm(comm_id, {}, {}, {}, comm_id);\n        if (msg_handler) {\n          comm.on_msg(msg_handler);\n        }\n      } else if ((plot_id in window.PyViz.kernels) && (window.PyViz.kernels[plot_id])) {\n        var comm = window.PyViz.kernels[plot_id].connectToComm(comm_id);\n        comm.open();\n        if (msg_handler) {\n          comm.onMsg = msg_handler;\n        }\n      } else if (typeof google != 'undefined' && google.colab.kernel != null) {\n        var comm_promise = google.colab.kernel.comms.open(comm_id)\n        comm_promise.then((comm) => {\n          window.PyViz.comms[comm_id] = comm;\n          if (msg_handler) {\n            var messages = comm.messages[Symbol.asyncIterator]();\n            function processIteratorResult(result) {\n              var message = result.value;\n              var content = {data: message.data};\n              var metadata = message.metadata || {comm_id};\n              var msg = {content, metadata}\n              msg_handler(msg);\n              return messages.next().then(processIteratorResult);\n            }\n            return messages.next().then(processIteratorResult);\n          }\n        }) \n        var sendClosure = (data, metadata, buffers, disposeOnDone) => {\n          return comm_promise.then((comm) => {\n            comm.send(data, metadata, buffers, disposeOnDone);\n          });\n        };\n        var comm = {\n          send: sendClosure\n        };\n      }\n      window.PyViz.comms[comm_id] = comm;\n      return comm;\n    }\n    window.PyViz.comm_manager = new JupyterCommManager();\n    \n\n\nvar JS_MIME_TYPE = 'application/javascript';\nvar HTML_MIME_TYPE = 'text/html';\nvar EXEC_MIME_TYPE = 'application/vnd.holoviews_exec.v0+json';\nvar CLASS_NAME = 'output';\n\n/**\n * Render data to the DOM node\n */\nfunction render(props, node) {\n  var div = document.createElement(\"div\");\n  var script = document.createElement(\"script\");\n  node.appendChild(div);\n  node.appendChild(script);\n}\n\n/**\n * Handle when a new output is added\n */\nfunction handle_add_output(event, handle) {\n  var output_area = handle.output_area;\n  var output = handle.output;\n  if ((output.data == undefined) || (!output.data.hasOwnProperty(EXEC_MIME_TYPE))) {\n    return\n  }\n  var id = output.metadata[EXEC_MIME_TYPE][\"id\"];\n  var toinsert = output_area.element.find(\".\" + CLASS_NAME.split(' ')[0]);\n  if (id !== undefined) {\n    var nchildren = toinsert.length;\n    var html_node = toinsert[nchildren-1].children[0];\n    html_node.innerHTML = output.data[HTML_MIME_TYPE];\n    var scripts = [];\n    var nodelist = html_node.querySelectorAll(\"script\");\n    for (var i in nodelist) {\n      if (nodelist.hasOwnProperty(i)) {\n        scripts.push(nodelist[i])\n      }\n    }\n\n    scripts.forEach( function (oldScript) {\n      var newScript = document.createElement(\"script\");\n      var attrs = [];\n      var nodemap = oldScript.attributes;\n      for (var j in nodemap) {\n        if (nodemap.hasOwnProperty(j)) {\n          attrs.push(nodemap[j])\n        }\n      }\n      attrs.forEach(function(attr) { newScript.setAttribute(attr.name, attr.value) });\n      newScript.appendChild(document.createTextNode(oldScript.innerHTML));\n      oldScript.parentNode.replaceChild(newScript, oldScript);\n    });\n    if (JS_MIME_TYPE in output.data) {\n      toinsert[nchildren-1].children[1].textContent = output.data[JS_MIME_TYPE];\n    }\n    output_area._hv_plot_id = id;\n    if ((window.Bokeh !== undefined) && (id in Bokeh.index)) {\n      window.PyViz.plot_index[id] = Bokeh.index[id];\n    } else {\n      window.PyViz.plot_index[id] = null;\n    }\n  } else if (output.metadata[EXEC_MIME_TYPE][\"server_id\"] !== undefined) {\n    var bk_div = document.createElement(\"div\");\n    bk_div.innerHTML = output.data[HTML_MIME_TYPE];\n    var script_attrs = bk_div.children[0].attributes;\n    for (var i = 0; i < script_attrs.length; i++) {\n      toinsert[toinsert.length - 1].childNodes[1].setAttribute(script_attrs[i].name, script_attrs[i].value);\n    }\n    // store reference to server id on output_area\n    output_area._bokeh_server_id = output.metadata[EXEC_MIME_TYPE][\"server_id\"];\n  }\n}\n\n/**\n * Handle when an output is cleared or removed\n */\nfunction handle_clear_output(event, handle) {\n  var id = handle.cell.output_area._hv_plot_id;\n  var server_id = handle.cell.output_area._bokeh_server_id;\n  if (((id === undefined) || !(id in PyViz.plot_index)) && (server_id !== undefined)) { return; }\n  var comm = window.PyViz.comm_manager.get_client_comm(\"hv-extension-comm\", \"hv-extension-comm\", function () {});\n  if (server_id !== null) {\n    comm.send({event_type: 'server_delete', 'id': server_id});\n    return;\n  } else if (comm !== null) {\n    comm.send({event_type: 'delete', 'id': id});\n  }\n  delete PyViz.plot_index[id];\n  if ((window.Bokeh !== undefined) & (id in window.Bokeh.index)) {\n    var doc = window.Bokeh.index[id].model.document\n    doc.clear();\n    const i = window.Bokeh.documents.indexOf(doc);\n    if (i > -1) {\n      window.Bokeh.documents.splice(i, 1);\n    }\n  }\n}\n\n/**\n * Handle kernel restart event\n */\nfunction handle_kernel_cleanup(event, handle) {\n  delete PyViz.comms[\"hv-extension-comm\"];\n  window.PyViz.plot_index = {}\n}\n\n/**\n * Handle update_display_data messages\n */\nfunction handle_update_output(event, handle) {\n  handle_clear_output(event, {cell: {output_area: handle.output_area}})\n  handle_add_output(event, handle)\n}\n\nfunction register_renderer(events, OutputArea) {\n  function append_mime(data, metadata, element) {\n    // create a DOM node to render to\n    var toinsert = this.create_output_subarea(\n    metadata,\n    CLASS_NAME,\n    EXEC_MIME_TYPE\n    );\n    this.keyboard_manager.register_events(toinsert);\n    // Render to node\n    var props = {data: data, metadata: metadata[EXEC_MIME_TYPE]};\n    render(props, toinsert[0]);\n    element.append(toinsert);\n    return toinsert\n  }\n\n  events.on('output_added.OutputArea', handle_add_output);\n  events.on('output_updated.OutputArea', handle_update_output);\n  events.on('clear_output.CodeCell', handle_clear_output);\n  events.on('delete.Cell', handle_clear_output);\n  events.on('kernel_ready.Kernel', handle_kernel_cleanup);\n\n  OutputArea.prototype.register_mime_type(EXEC_MIME_TYPE, append_mime, {\n    safe: true,\n    index: 0\n  });\n}\n\nif (window.Jupyter !== undefined) {\n  try {\n    var events = require('base/js/events');\n    var OutputArea = require('notebook/js/outputarea').OutputArea;\n    if (OutputArea.prototype.mime_types().indexOf(EXEC_MIME_TYPE) == -1) {\n      register_renderer(events, OutputArea);\n    }\n  } catch(err) {\n  }\n}\n"
     },
     "metadata": {},
     "output_type": "display_data"
    },
    {
     "data": {
      "text/html": [
       "<style>.bk-root, .bk-root .bk:before, .bk-root .bk:after {\n",
       "  font-family: var(--jp-ui-font-size1);\n",
       "  font-size: var(--jp-ui-font-size1);\n",
       "  color: var(--jp-ui-font-color1);\n",
       "}\n",
       "</style>"
      ]
     },
     "metadata": {},
     "output_type": "display_data"
    },
    {
     "data": {},
     "metadata": {},
     "output_type": "display_data"
    },
    {
     "data": {
      "application/vnd.holoviews_exec.v0+json": "",
      "text/html": [
       "<div id='12828'>\n",
       "  <div class=\"bk-root\" id=\"7f541eee-5777-46ca-bb43-911a60577e28\" data-root-id=\"12828\"></div>\n",
       "</div>\n",
       "<script type=\"application/javascript\">(function(root) {\n",
       "  function embed_document(root) {\n",
       "    var docs_json = {\"ff89dd83-609f-4800-bfbb-d24946739cf1\":{\"defs\":[{\"extends\":null,\"module\":null,\"name\":\"ReactiveHTML1\",\"overrides\":[],\"properties\":[]},{\"extends\":null,\"module\":null,\"name\":\"FlexBox1\",\"overrides\":[],\"properties\":[{\"default\":\"flex-start\",\"kind\":null,\"name\":\"align_content\"},{\"default\":\"flex-start\",\"kind\":null,\"name\":\"align_items\"},{\"default\":\"row\",\"kind\":null,\"name\":\"flex_direction\"},{\"default\":\"wrap\",\"kind\":null,\"name\":\"flex_wrap\"},{\"default\":\"flex-start\",\"kind\":null,\"name\":\"justify_content\"}]},{\"extends\":null,\"module\":null,\"name\":\"GridStack1\",\"overrides\":[],\"properties\":[{\"default\":\"warn\",\"kind\":null,\"name\":\"mode\"},{\"default\":null,\"kind\":null,\"name\":\"ncols\"},{\"default\":null,\"kind\":null,\"name\":\"nrows\"},{\"default\":true,\"kind\":null,\"name\":\"allow_resize\"},{\"default\":true,\"kind\":null,\"name\":\"allow_drag\"},{\"default\":[],\"kind\":null,\"name\":\"state\"}]},{\"extends\":null,\"module\":null,\"name\":\"click1\",\"overrides\":[],\"properties\":[{\"default\":\"\",\"kind\":null,\"name\":\"terminal_output\"},{\"default\":\"\",\"kind\":null,\"name\":\"debug_name\"},{\"default\":0,\"kind\":null,\"name\":\"clears\"}]},{\"extends\":null,\"module\":null,\"name\":\"NotificationAreaBase1\",\"overrides\":[],\"properties\":[{\"default\":\"bottom-right\",\"kind\":null,\"name\":\"position\"},{\"default\":0,\"kind\":null,\"name\":\"_clear\"}]},{\"extends\":null,\"module\":null,\"name\":\"NotificationArea1\",\"overrides\":[],\"properties\":[{\"default\":[],\"kind\":null,\"name\":\"notifications\"},{\"default\":\"bottom-right\",\"kind\":null,\"name\":\"position\"},{\"default\":0,\"kind\":null,\"name\":\"_clear\"},{\"default\":[{\"background\":\"#ffc107\",\"icon\":{\"className\":\"fas fa-exclamation-triangle\",\"color\":\"white\",\"tagName\":\"i\"},\"type\":\"warning\"},{\"background\":\"#007bff\",\"icon\":{\"className\":\"fas fa-info-circle\",\"color\":\"white\",\"tagName\":\"i\"},\"type\":\"info\"}],\"kind\":null,\"name\":\"types\"}]},{\"extends\":null,\"module\":null,\"name\":\"Notification\",\"overrides\":[],\"properties\":[{\"default\":null,\"kind\":null,\"name\":\"background\"},{\"default\":3000,\"kind\":null,\"name\":\"duration\"},{\"default\":null,\"kind\":null,\"name\":\"icon\"},{\"default\":\"\",\"kind\":null,\"name\":\"message\"},{\"default\":null,\"kind\":null,\"name\":\"notification_type\"},{\"default\":false,\"kind\":null,\"name\":\"_destroyed\"}]},{\"extends\":null,\"module\":null,\"name\":\"TemplateActions1\",\"overrides\":[],\"properties\":[{\"default\":0,\"kind\":null,\"name\":\"open_modal\"},{\"default\":0,\"kind\":null,\"name\":\"close_modal\"}]},{\"extends\":null,\"module\":null,\"name\":\"MaterialTemplateActions1\",\"overrides\":[],\"properties\":[{\"default\":0,\"kind\":null,\"name\":\"open_modal\"},{\"default\":0,\"kind\":null,\"name\":\"close_modal\"}]}],\"roots\":{\"references\":[{\"attributes\":{},\"id\":\"12939\",\"type\":\"CheckboxEditor\"},{\"attributes\":{\"children\":[{\"id\":\"13040\"}],\"css_classes\":[\"card-header-row\"],\"margin\":[0,0,0,0],\"name\":\"Row01951\",\"sizing_mode\":\"stretch_width\"},\"id\":\"13039\",\"type\":\"Row\"},{\"attributes\":{},\"id\":\"12865\",\"type\":\"StringEditor\"},{\"attributes\":{\"editor\":{\"id\":\"12939\"},\"field\":\"key\",\"formatter\":{\"id\":\"12940\"},\"title\":\"key\",\"width\":0},\"id\":\"12941\",\"type\":\"TableColumn\"},{\"attributes\":{\"indices\":[]},\"id\":\"13042\",\"type\":\"Selection\"},{\"attributes\":{},\"id\":\"13084\",\"type\":\"UnionRenderers\"},{\"attributes\":{\"css_classes\":[\"card-title\"],\"margin\":[5,0,5,0],\"name\":\"HTML01953\",\"sizing_mode\":\"stretch_width\",\"text\":\"&lt;i class=&#x27;fa fa-table&#x27;&gt;&lt;/i&gt; Waiting sessions\"},\"id\":\"13040\",\"type\":\"panel.models.markup.HTML\"},{\"attributes\":{},\"id\":\"12864\",\"type\":\"StringFormatter\"},{\"attributes\":{},\"id\":\"12887\",\"type\":\"StringFormatter\"},{\"attributes\":{\"editor\":{\"id\":\"12865\"},\"field\":\"type\",\"formatter\":{\"id\":\"12864\"},\"title\":\"type\",\"width\":0},\"id\":\"12866\",\"type\":\"TableColumn\"},{\"attributes\":{},\"id\":\"12888\",\"type\":\"StringEditor\"},{\"attributes\":{\"children\":[{\"id\":\"12833\"}],\"css_classes\":[\"card-header-row\"],\"margin\":[0,0,0,0],\"name\":\"Row01915\",\"sizing_mode\":\"stretch_width\"},\"id\":\"12832\",\"type\":\"Row\"},{\"attributes\":{\"editor\":{\"id\":\"12888\"},\"field\":\"type\",\"formatter\":{\"id\":\"12887\"},\"title\":\"type\",\"width\":0},\"id\":\"12889\",\"type\":\"TableColumn\"},{\"attributes\":{\"buttons\":{\"Search\":\"<i class='fa fa-search'></i>\"},\"columns\":[{\"id\":\"13045\"},{\"id\":\"13050\"},{\"id\":\"13056\"}],\"configuration\":{\"columns\":[{\"field\":\"column\"},{\"field\":\"type\"},{\"field\":\"key\",\"sorter\":\"boolean\"}],\"dataTree\":false,\"selectable\":true},\"layout\":\"fit_data_table\",\"margin\":[5,10,5,10],\"name\":\"<i class='fa fa-table'></i> Waiting sessions\",\"page\":1,\"page_size\":20,\"select_mode\":true,\"selectable_rows\":null,\"sizing_mode\":\"stretch_width\",\"source\":{\"id\":\"13041\"},\"styles\":{\"data\":{},\"id\":\"487b0b82cda146d8b363c454875be455\"},\"subscribed_events\":[\"cell-click\",\"table-edit\"],\"theme_url\":\"https://cdn.jsdelivr.net/npm/@holoviz/panel@0.14.2/dist/bundled/datatabulator/tabulator-tables@5.3.2/dist/css/\"},\"id\":\"13059\",\"type\":\"panel.models.tabulator.DataTabulator\"},{\"attributes\":{\"editor\":{\"id\":\"12860\"},\"field\":\"column\",\"formatter\":{\"id\":\"12859\"},\"title\":\"column\",\"width\":0},\"id\":\"12861\",\"type\":\"TableColumn\"},{\"attributes\":{\"active_header_background\":\"#ccc\",\"button_css_classes\":[\"card-button\"],\"children\":[{\"id\":\"12993\"},{\"id\":\"13013\"}],\"css_classes\":[\"accordion\"],\"header_background\":\"\",\"header_color\":\"\",\"header_css_classes\":[\"accordion-header\"],\"margin\":[0,5,0,5],\"name\":\"Card01944\",\"sizing_mode\":\"stretch_width\"},\"id\":\"12992\",\"type\":\"panel.models.layout.Card\"},{\"attributes\":{\"data\":{\"column\":[\"Activity\",\"Client\"],\"index\":[0,1],\"key\":[false,false],\"type\":[\"integer\",\"integer\"]},\"selected\":{\"id\":\"13042\"},\"selection_policy\":{\"id\":\"13084\"}},\"id\":\"13041\",\"type\":\"ColumnDataSource\"},{\"attributes\":{\"css_classes\":[\"card-title\"],\"margin\":[5,0,5,0],\"name\":\"HTML01921\",\"sizing_mode\":\"stretch_width\",\"text\":\"&lt;i class=&#x27;fa fa-table&#x27;&gt;&lt;/i&gt; Active sessions\"},\"id\":\"12856\",\"type\":\"panel.models.markup.HTML\"},{\"attributes\":{\"icon\":\"check-circle-o\"},\"id\":\"12894\",\"type\":\"BooleanFormatter\"},{\"attributes\":{},\"id\":\"12893\",\"type\":\"CheckboxEditor\"},{\"attributes\":{\"children\":[{\"id\":\"12994\"}],\"css_classes\":[\"card-header-row\"],\"margin\":[0,0,0,0],\"name\":\"Row01943\",\"sizing_mode\":\"stretch_width\"},\"id\":\"12993\",\"type\":\"Row\"},{\"attributes\":{\"editor\":{\"id\":\"12893\"},\"field\":\"key\",\"formatter\":{\"id\":\"12894\"},\"title\":\"key\",\"width\":0},\"id\":\"12895\",\"type\":\"TableColumn\"},{\"attributes\":{},\"id\":\"13043\",\"type\":\"StringFormatter\"},{\"attributes\":{\"indices\":[]},\"id\":\"12996\",\"type\":\"Selection\"},{\"attributes\":{},\"id\":\"12882\",\"type\":\"StringFormatter\"},{\"attributes\":{},\"id\":\"13044\",\"type\":\"StringEditor\"},{\"attributes\":{\"css_classes\":[\"card-title\"],\"margin\":[5,0,5,0],\"name\":\"HTML01945\",\"sizing_mode\":\"stretch_width\",\"text\":\"&lt;i class=&#x27;fa fa-table&#x27;&gt;&lt;/i&gt; Query statistics\"},\"id\":\"12994\",\"type\":\"panel.models.markup.HTML\"},{\"attributes\":{\"editor\":{\"id\":\"13044\"},\"field\":\"column\",\"formatter\":{\"id\":\"13043\"},\"title\":\"column\",\"width\":0},\"id\":\"13045\",\"type\":\"TableColumn\"},{\"attributes\":{},\"id\":\"12883\",\"type\":\"StringEditor\"},{\"attributes\":{\"buttons\":{\"Search\":\"<i class='fa fa-search'></i>\"},\"columns\":[{\"id\":\"12999\"},{\"id\":\"13004\"},{\"id\":\"13010\"}],\"configuration\":{\"columns\":[{\"field\":\"column\"},{\"field\":\"type\"},{\"field\":\"key\",\"sorter\":\"boolean\"}],\"dataTree\":false,\"selectable\":true},\"layout\":\"fit_data_table\",\"margin\":[5,10,5,10],\"name\":\"<i class='fa fa-table'></i> Query statistics\",\"page\":1,\"page_size\":20,\"select_mode\":true,\"selectable_rows\":null,\"sizing_mode\":\"stretch_width\",\"source\":{\"id\":\"12995\"},\"styles\":{\"data\":{},\"id\":\"0777576b1d8149c889abf2fcadf104d9\"},\"subscribed_events\":[\"cell-click\",\"table-edit\"],\"theme_url\":\"https://cdn.jsdelivr.net/npm/@holoviz/panel@0.14.2/dist/bundled/datatabulator/tabulator-tables@5.3.2/dist/css/\"},\"id\":\"13013\",\"type\":\"panel.models.tabulator.DataTabulator\"},{\"attributes\":{\"active_header_background\":\"#ccc\",\"button_css_classes\":[\"card-button\"],\"children\":[{\"id\":\"12947\"},{\"id\":\"12967\"}],\"css_classes\":[\"accordion\"],\"header_background\":\"\",\"header_color\":\"\",\"header_css_classes\":[\"accordion-header\"],\"margin\":[0,5,0,5],\"name\":\"Card01936\",\"sizing_mode\":\"stretch_width\"},\"id\":\"12946\",\"type\":\"panel.models.layout.Card\"},{\"attributes\":{\"data\":{\"column\":[\"blk_read_time\",\"blk_write_time\",\"calls\",\"io\",\"latency\",\"local_blks_dirtied\",\"local_blks_hit\",\"local_blks_read\",\"local_blks_written\",\"query\",\"shared_blks_dirtied\",\"shared_blks_hit\",\"shared_blks_read\",\"shared_blks_written\",\"temp_blks_read\",\"temp_blks_written\",\"wait_time\",\"queryid\"],\"index\":[0,1,2,3,4,5,6,7,8,9,10,11,12,13,14,15,16,0],\"key\":[false,false,false,false,false,false,false,false,false,false,false,false,false,false,false,false,false,true],\"type\":[\"float\",\"float\",\"integer\",\"float\",\"float\",\"integer\",\"integer\",\"integer\",\"integer\",\"string\",\"integer\",\"integer\",\"integer\",\"integer\",\"integer\",\"integer\",\"float\",\"string\"]},\"selected\":{\"id\":\"12996\"},\"selection_policy\":{\"id\":\"13080\"}},\"id\":\"12995\",\"type\":\"ColumnDataSource\"},{\"attributes\":{},\"id\":\"13066\",\"type\":\"UnionRenderers\"},{\"attributes\":{},\"id\":\"13048\",\"type\":\"StringFormatter\"},{\"attributes\":{},\"id\":\"13049\",\"type\":\"StringEditor\"},{\"attributes\":{\"active_header_background\":\"#ccc\",\"button_css_classes\":[\"card-button\"],\"children\":[{\"id\":\"12832\"},{\"id\":\"12852\"}],\"css_classes\":[\"accordion\"],\"header_background\":\"\",\"header_color\":\"\",\"header_css_classes\":[\"accordion-header\"],\"margin\":[5,5,0,5],\"name\":\"Card01916\",\"sizing_mode\":\"stretch_width\"},\"id\":\"12831\",\"type\":\"panel.models.layout.Card\"},{\"attributes\":{\"editor\":{\"id\":\"13049\"},\"field\":\"type\",\"formatter\":{\"id\":\"13048\"},\"title\":\"type\",\"width\":0},\"id\":\"13050\",\"type\":\"TableColumn\"},{\"attributes\":{\"children\":[{\"id\":\"12948\"}],\"css_classes\":[\"card-header-row\"],\"margin\":[0,0,0,0],\"name\":\"Row01935\",\"sizing_mode\":\"stretch_width\"},\"id\":\"12947\",\"type\":\"Row\"},{\"attributes\":{},\"id\":\"12997\",\"type\":\"StringFormatter\"},{\"attributes\":{\"indices\":[]},\"id\":\"12950\",\"type\":\"Selection\"},{\"attributes\":{},\"id\":\"12998\",\"type\":\"StringEditor\"},{\"attributes\":{\"css_classes\":[\"card-title\"],\"margin\":[5,0,5,0],\"name\":\"HTML01937\",\"sizing_mode\":\"stretch_width\",\"text\":\"&lt;i class=&#x27;fa fa-table&#x27;&gt;&lt;/i&gt; Io\"},\"id\":\"12948\",\"type\":\"panel.models.markup.HTML\"},{\"attributes\":{},\"id\":\"12836\",\"type\":\"StringFormatter\"},{\"attributes\":{\"editor\":{\"id\":\"12998\"},\"field\":\"column\",\"formatter\":{\"id\":\"12997\"},\"title\":\"column\",\"width\":0},\"id\":\"12999\",\"type\":\"TableColumn\"},{\"attributes\":{\"icon\":\"check-circle-o\"},\"id\":\"13055\",\"type\":\"BooleanFormatter\"},{\"attributes\":{},\"id\":\"13054\",\"type\":\"CheckboxEditor\"},{\"attributes\":{\"editor\":{\"id\":\"12837\"},\"field\":\"column\",\"formatter\":{\"id\":\"12836\"},\"title\":\"column\",\"width\":0},\"id\":\"12838\",\"type\":\"TableColumn\"},{\"attributes\":{},\"id\":\"12837\",\"type\":\"StringEditor\"},{\"attributes\":{\"editor\":{\"id\":\"13054\"},\"field\":\"key\",\"formatter\":{\"id\":\"13055\"},\"title\":\"key\",\"width\":0},\"id\":\"13056\",\"type\":\"TableColumn\"},{\"attributes\":{\"buttons\":{\"Search\":\"<i class='fa fa-search'></i>\"},\"columns\":[{\"id\":\"12953\"},{\"id\":\"12958\"},{\"id\":\"12964\"}],\"configuration\":{\"columns\":[{\"field\":\"column\"},{\"field\":\"type\"},{\"field\":\"key\",\"sorter\":\"boolean\"}],\"dataTree\":false,\"selectable\":true},\"layout\":\"fit_data_table\",\"margin\":[5,10,5,10],\"name\":\"<i class='fa fa-table'></i> Io\",\"page\":1,\"page_size\":20,\"select_mode\":true,\"selectable_rows\":null,\"sizing_mode\":\"stretch_width\",\"source\":{\"id\":\"12949\"},\"styles\":{\"data\":{},\"id\":\"9fdda6b3716d4d1c957eb9d56632aae3\"},\"subscribed_events\":[\"cell-click\",\"table-edit\"],\"theme_url\":\"https://cdn.jsdelivr.net/npm/@holoviz/panel@0.14.2/dist/bundled/datatabulator/tabulator-tables@5.3.2/dist/css/\"},\"id\":\"12967\",\"type\":\"panel.models.tabulator.DataTabulator\"},{\"attributes\":{\"active_header_background\":\"#ccc\",\"button_css_classes\":[\"card-button\"],\"children\":[{\"id\":\"12901\"},{\"id\":\"12921\"}],\"css_classes\":[\"accordion\"],\"header_background\":\"\",\"header_color\":\"\",\"header_css_classes\":[\"accordion-header\"],\"margin\":[0,5,0,5],\"name\":\"Card01928\",\"sizing_mode\":\"stretch_width\"},\"id\":\"12900\",\"type\":\"panel.models.layout.Card\"},{\"attributes\":{},\"id\":\"13068\",\"type\":\"UnionRenderers\"},{\"attributes\":{\"data\":{\"column\":[\"heap_blks_hit\",\"heap_blks_read\",\"idx_blks_hit\",\"idx_blks_read\",\"tidx_blks_hit\",\"tidx_blks_read\",\"toast_blks_hit\",\"toast_blks_read\"],\"index\":[0,1,2,3,4,5,6,7],\"key\":[false,false,false,false,false,false,false,false],\"type\":[\"float\",\"float\",\"float\",\"float\",\"float\",\"float\",\"float\",\"float\"]},\"selected\":{\"id\":\"12950\"},\"selection_policy\":{\"id\":\"13076\"}},\"id\":\"12949\",\"type\":\"ColumnDataSource\"},{\"attributes\":{},\"id\":\"13002\",\"type\":\"StringFormatter\"},{\"attributes\":{},\"id\":\"13003\",\"type\":\"StringEditor\"},{\"attributes\":{\"data\":{\"column\":[\"analyze_count\",\"autoanalyze_count\",\"autovacuum_count\",\"idx_scan\",\"idx_tup_fetch\",\"idx_tup_read\",\"n_dead_tup\",\"n_live_tup\",\"n_mod_since_analyze\",\"n_tup_del\",\"n_tup_hot_upd\",\"n_tup_ins\",\"n_tup_upd\",\"seq_scan\",\"seq_tup_read\",\"vacuum_count\"],\"index\":[0,1,2,3,4,5,6,7,8,9,10,11,12,13,14,15],\"key\":[false,false,false,false,false,false,false,false,false,false,false,false,false,false,false,false],\"type\":[\"float\",\"float\",\"float\",\"float\",\"float\",\"float\",\"float\",\"float\",\"float\",\"float\",\"float\",\"float\",\"float\",\"float\",\"float\",\"float\"]},\"selected\":{\"id\":\"12835\"},\"selection_policy\":{\"id\":\"13066\"}},\"id\":\"12834\",\"type\":\"ColumnDataSource\"},{\"attributes\":{\"editor\":{\"id\":\"13003\"},\"field\":\"type\",\"formatter\":{\"id\":\"13002\"},\"title\":\"type\",\"width\":0},\"id\":\"13004\",\"type\":\"TableColumn\"},{\"attributes\":{\"children\":[{\"id\":\"12902\"}],\"css_classes\":[\"card-header-row\"],\"margin\":[0,0,0,0],\"name\":\"Row01927\",\"sizing_mode\":\"stretch_width\"},\"id\":\"12901\",\"type\":\"Row\"},{\"attributes\":{\"buttons\":{\"Search\":\"<i class='fa fa-search'></i>\"},\"columns\":[{\"id\":\"12838\"},{\"id\":\"12843\"},{\"id\":\"12849\"}],\"configuration\":{\"columns\":[{\"field\":\"column\"},{\"field\":\"type\"},{\"field\":\"key\",\"sorter\":\"boolean\"}],\"dataTree\":false,\"selectable\":true},\"layout\":\"fit_data_table\",\"margin\":[5,10,5,10],\"name\":\"<i class='fa fa-table'></i> Access\",\"page\":1,\"page_size\":20,\"select_mode\":true,\"selectable_rows\":null,\"sizing_mode\":\"stretch_width\",\"source\":{\"id\":\"12834\"},\"styles\":{\"data\":{},\"id\":\"945bbc0243a04470a59779948871997e\"},\"subscribed_events\":[\"cell-click\",\"table-edit\"],\"theme_url\":\"https://cdn.jsdelivr.net/npm/@holoviz/panel@0.14.2/dist/bundled/datatabulator/tabulator-tables@5.3.2/dist/css/\"},\"id\":\"12852\",\"type\":\"panel.models.tabulator.DataTabulator\"},{\"attributes\":{\"indices\":[]},\"id\":\"12904\",\"type\":\"Selection\"},{\"attributes\":{},\"id\":\"12951\",\"type\":\"StringFormatter\"},{\"attributes\":{\"css_classes\":[\"card-title\"],\"margin\":[5,0,5,0],\"name\":\"HTML01929\",\"sizing_mode\":\"stretch_width\",\"text\":\"&lt;i class=&#x27;fa fa-table&#x27;&gt;&lt;/i&gt; Conflicts\"},\"id\":\"12902\",\"type\":\"panel.models.markup.HTML\"},{\"attributes\":{},\"id\":\"12952\",\"type\":\"StringEditor\"},{\"attributes\":{\"height\":300,\"margin\":[5,5,5,5],\"name\":\"Spacer01904\",\"sizing_mode\":\"stretch_width\"},\"id\":\"13063\",\"type\":\"Spacer\"},{\"attributes\":{\"editor\":{\"id\":\"12952\"},\"field\":\"column\",\"formatter\":{\"id\":\"12951\"},\"title\":\"column\",\"width\":0},\"id\":\"12953\",\"type\":\"TableColumn\"},{\"attributes\":{\"indices\":[]},\"id\":\"12881\",\"type\":\"Selection\"},{\"attributes\":{\"icon\":\"check-circle-o\"},\"id\":\"13009\",\"type\":\"BooleanFormatter\"},{\"attributes\":{},\"id\":\"13008\",\"type\":\"CheckboxEditor\"},{\"attributes\":{\"children\":[{\"id\":\"12879\"}],\"css_classes\":[\"card-header-row\"],\"margin\":[0,0,0,0],\"name\":\"Row01923\",\"sizing_mode\":\"stretch_width\"},\"id\":\"12878\",\"type\":\"Row\"},{\"attributes\":{\"buttons\":{\"Search\":\"<i class='fa fa-search'></i>\"},\"columns\":[{\"id\":\"12907\"},{\"id\":\"12912\"},{\"id\":\"12918\"}],\"configuration\":{\"columns\":[{\"field\":\"column\"},{\"field\":\"type\"},{\"field\":\"key\",\"sorter\":\"boolean\"}],\"dataTree\":false,\"selectable\":true},\"layout\":\"fit_data_table\",\"margin\":[5,10,5,10],\"name\":\"<i class='fa fa-table'></i> Conflicts\",\"page\":1,\"page_size\":20,\"select_mode\":true,\"selectable_rows\":null,\"sizing_mode\":\"stretch_width\",\"source\":{\"id\":\"12903\"},\"styles\":{\"data\":{},\"id\":\"bc56e38f5e51423fb50b34377022f6ab\"},\"subscribed_events\":[\"cell-click\",\"table-edit\"],\"theme_url\":\"https://cdn.jsdelivr.net/npm/@holoviz/panel@0.14.2/dist/bundled/datatabulator/tabulator-tables@5.3.2/dist/css/\"},\"id\":\"12921\",\"type\":\"panel.models.tabulator.DataTabulator\"},{\"attributes\":{\"editor\":{\"id\":\"12883\"},\"field\":\"column\",\"formatter\":{\"id\":\"12882\"},\"title\":\"column\",\"width\":0},\"id\":\"12884\",\"type\":\"TableColumn\"},{\"attributes\":{\"editor\":{\"id\":\"13008\"},\"field\":\"key\",\"formatter\":{\"id\":\"13009\"},\"title\":\"key\",\"width\":0},\"id\":\"13010\",\"type\":\"TableColumn\"},{\"attributes\":{},\"id\":\"12841\",\"type\":\"StringFormatter\"},{\"attributes\":{\"buttons\":{\"Search\":\"<i class='fa fa-search'></i>\"},\"columns\":[{\"id\":\"12861\"},{\"id\":\"12866\"},{\"id\":\"12872\"}],\"configuration\":{\"columns\":[{\"field\":\"column\"},{\"field\":\"type\"},{\"field\":\"key\",\"sorter\":\"boolean\"}],\"dataTree\":false,\"selectable\":true},\"layout\":\"fit_data_table\",\"margin\":[5,10,5,10],\"name\":\"<i class='fa fa-table'></i> Active sessions\",\"page\":1,\"page_size\":20,\"select_mode\":true,\"selectable_rows\":null,\"sizing_mode\":\"stretch_width\",\"source\":{\"id\":\"12857\"},\"styles\":{\"data\":{},\"id\":\"1c0a28a90ab749b4aa78b292412c050c\"},\"subscribed_events\":[\"cell-click\",\"table-edit\"],\"theme_url\":\"https://cdn.jsdelivr.net/npm/@holoviz/panel@0.14.2/dist/bundled/datatabulator/tabulator-tables@5.3.2/dist/css/\"},\"id\":\"12875\",\"type\":\"panel.models.tabulator.DataTabulator\"},{\"attributes\":{},\"id\":\"13070\",\"type\":\"UnionRenderers\"},{\"attributes\":{\"data\":{\"column\":[\"confl_bufferpin\",\"confl_deadlock\",\"confl_lock\",\"confl_snapshot\",\"confl_tablespace\",\"datname\",\"datid\"],\"index\":[0,1,2,3,4,5,0],\"key\":[false,false,false,false,false,false,true],\"type\":[\"integer\",\"integer\",\"integer\",\"integer\",\"integer\",\"string\",\"string\"]},\"selected\":{\"id\":\"12904\"},\"selection_policy\":{\"id\":\"13072\"}},\"id\":\"12903\",\"type\":\"ColumnDataSource\"},{\"attributes\":{\"editor\":{\"id\":\"12870\"},\"field\":\"key\",\"formatter\":{\"id\":\"12871\"},\"title\":\"key\",\"width\":0},\"id\":\"12872\",\"type\":\"TableColumn\"},{\"attributes\":{},\"id\":\"12956\",\"type\":\"StringFormatter\"},{\"attributes\":{},\"id\":\"12957\",\"type\":\"StringEditor\"},{\"attributes\":{\"children\":[{\"id\":\"12829\"},{\"id\":\"13061\"}],\"css_classes\":[\"row\"],\"margin\":[0,0,0,0],\"name\":\"Row01912\",\"sizing_mode\":\"stretch_width\"},\"id\":\"12828\",\"type\":\"Row\"},{\"attributes\":{\"editor\":{\"id\":\"12957\"},\"field\":\"type\",\"formatter\":{\"id\":\"12956\"},\"title\":\"type\",\"width\":0},\"id\":\"12958\",\"type\":\"TableColumn\"},{\"attributes\":{\"reload\":false},\"id\":\"13187\",\"type\":\"panel.models.location.Location\"},{\"attributes\":{},\"id\":\"12905\",\"type\":\"StringFormatter\"},{\"attributes\":{},\"id\":\"12906\",\"type\":\"StringEditor\"},{\"attributes\":{\"editor\":{\"id\":\"12906\"},\"field\":\"column\",\"formatter\":{\"id\":\"12905\"},\"title\":\"column\",\"width\":0},\"id\":\"12907\",\"type\":\"TableColumn\"},{\"attributes\":{\"icon\":\"check-circle-o\"},\"id\":\"12963\",\"type\":\"BooleanFormatter\"},{\"attributes\":{\"css_classes\":[\"card-title\"],\"margin\":[5,0,5,0],\"name\":\"HTML01925\",\"sizing_mode\":\"stretch_width\",\"text\":\"&lt;i class=&#x27;fa fa-table&#x27;&gt;&lt;/i&gt; Bgwriter\"},\"id\":\"12879\",\"type\":\"panel.models.markup.HTML\"},{\"attributes\":{},\"id\":\"12962\",\"type\":\"CheckboxEditor\"},{\"attributes\":{},\"id\":\"13072\",\"type\":\"UnionRenderers\"},{\"attributes\":{\"editor\":{\"id\":\"12962\"},\"field\":\"key\",\"formatter\":{\"id\":\"12963\"},\"title\":\"key\",\"width\":0},\"id\":\"12964\",\"type\":\"TableColumn\"},{\"attributes\":{},\"id\":\"12910\",\"type\":\"StringFormatter\"},{\"attributes\":{\"editor\":{\"id\":\"12842\"},\"field\":\"type\",\"formatter\":{\"id\":\"12841\"},\"title\":\"type\",\"width\":0},\"id\":\"12843\",\"type\":\"TableColumn\"},{\"attributes\":{},\"id\":\"12911\",\"type\":\"StringEditor\"},{\"attributes\":{},\"id\":\"12859\",\"type\":\"StringFormatter\"},{\"attributes\":{\"editor\":{\"id\":\"12911\"},\"field\":\"type\",\"formatter\":{\"id\":\"12910\"},\"title\":\"type\",\"width\":0},\"id\":\"12912\",\"type\":\"TableColumn\"},{\"attributes\":{\"buttons\":{\"Search\":\"<i class='fa fa-search'></i>\"},\"columns\":[{\"id\":\"12884\"},{\"id\":\"12889\"},{\"id\":\"12895\"}],\"configuration\":{\"columns\":[{\"field\":\"column\"},{\"field\":\"type\"},{\"field\":\"key\",\"sorter\":\"boolean\"}],\"dataTree\":false,\"selectable\":true},\"layout\":\"fit_data_table\",\"margin\":[5,10,5,10],\"name\":\"<i class='fa fa-table'></i> Bgwriter\",\"page\":1,\"page_size\":20,\"select_mode\":true,\"selectable_rows\":null,\"sizing_mode\":\"stretch_width\",\"source\":{\"id\":\"12880\"},\"styles\":{\"data\":{},\"id\":\"61499a3b9a46410a8034c12cda2a0d40\"},\"subscribed_events\":[\"cell-click\",\"table-edit\"],\"theme_url\":\"https://cdn.jsdelivr.net/npm/@holoviz/panel@0.14.2/dist/bundled/datatabulator/tabulator-tables@5.3.2/dist/css/\"},\"id\":\"12898\",\"type\":\"panel.models.tabulator.DataTabulator\"},{\"attributes\":{\"active_header_background\":\"#ccc\",\"button_css_classes\":[\"card-button\"],\"children\":[{\"id\":\"13016\"},{\"id\":\"13036\"}],\"css_classes\":[\"accordion\"],\"header_background\":\"\",\"header_color\":\"\",\"header_css_classes\":[\"accordion-header\"],\"margin\":[0,5,0,5],\"name\":\"Card01948\",\"sizing_mode\":\"stretch_width\"},\"id\":\"13015\",\"type\":\"panel.models.layout.Card\"},{\"attributes\":{\"icon\":\"check-circle-o\"},\"id\":\"12871\",\"type\":\"BooleanFormatter\"},{\"attributes\":{\"active_header_background\":\"#ccc\",\"button_css_classes\":[\"card-button\"],\"children\":[{\"id\":\"12855\"},{\"id\":\"12875\"}],\"css_classes\":[\"accordion\"],\"header_background\":\"\",\"header_color\":\"\",\"header_css_classes\":[\"accordion-header\"],\"margin\":[0,5,0,5],\"name\":\"Card01920\",\"sizing_mode\":\"stretch_width\"},\"id\":\"12854\",\"type\":\"panel.models.layout.Card\"},{\"attributes\":{\"icon\":\"check-circle-o\"},\"id\":\"12917\",\"type\":\"BooleanFormatter\"},{\"attributes\":{},\"id\":\"12916\",\"type\":\"CheckboxEditor\"},{\"attributes\":{\"indices\":[]},\"id\":\"12835\",\"type\":\"Selection\"},{\"attributes\":{},\"id\":\"13074\",\"type\":\"UnionRenderers\"},{\"attributes\":{\"children\":[{\"id\":\"13017\"}],\"css_classes\":[\"card-header-row\"],\"margin\":[0,0,0,0],\"name\":\"Row01947\",\"sizing_mode\":\"stretch_width\"},\"id\":\"13016\",\"type\":\"Row\"},{\"attributes\":{\"children\":[{\"id\":\"12856\"}],\"css_classes\":[\"card-header-row\"],\"margin\":[0,0,0,0],\"name\":\"Row01919\",\"sizing_mode\":\"stretch_width\"},\"id\":\"12855\",\"type\":\"Row\"},{\"attributes\":{\"editor\":{\"id\":\"12916\"},\"field\":\"key\",\"formatter\":{\"id\":\"12917\"},\"title\":\"key\",\"width\":0},\"id\":\"12918\",\"type\":\"TableColumn\"},{\"attributes\":{},\"id\":\"12870\",\"type\":\"CheckboxEditor\"},{\"attributes\":{\"indices\":[]},\"id\":\"13019\",\"type\":\"Selection\"},{\"attributes\":{\"css_classes\":[\"card-title\"],\"margin\":[5,0,5,0],\"name\":\"HTML01949\",\"sizing_mode\":\"stretch_width\",\"text\":\"&lt;i class=&#x27;fa fa-table&#x27;&gt;&lt;/i&gt; Sessions\"},\"id\":\"13017\",\"type\":\"panel.models.markup.HTML\"},{\"attributes\":{},\"id\":\"12860\",\"type\":\"StringEditor\"},{\"attributes\":{\"active_header_background\":\"#ccc\",\"button_css_classes\":[\"card-button\"],\"children\":[{\"id\":\"12970\"},{\"id\":\"12990\"}],\"css_classes\":[\"accordion\"],\"header_background\":\"\",\"header_color\":\"\",\"header_css_classes\":[\"accordion-header\"],\"margin\":[0,5,0,5],\"name\":\"Card01940\",\"sizing_mode\":\"stretch_width\"},\"id\":\"12969\",\"type\":\"panel.models.layout.Card\"},{\"attributes\":{\"buttons\":{\"Search\":\"<i class='fa fa-search'></i>\"},\"columns\":[{\"id\":\"13022\"},{\"id\":\"13027\"},{\"id\":\"13033\"}],\"configuration\":{\"columns\":[{\"field\":\"column\"},{\"field\":\"type\"},{\"field\":\"key\",\"sorter\":\"boolean\"}],\"dataTree\":false,\"selectable\":true},\"layout\":\"fit_data_table\",\"margin\":[5,10,5,10],\"name\":\"<i class='fa fa-table'></i> Sessions\",\"page\":1,\"page_size\":20,\"select_mode\":true,\"selectable_rows\":null,\"sizing_mode\":\"stretch_width\",\"source\":{\"id\":\"13018\"},\"styles\":{\"data\":{},\"id\":\"8ee35cd719604e26b2c50de812036e8e\"},\"subscribed_events\":[\"cell-click\",\"table-edit\"],\"theme_url\":\"https://cdn.jsdelivr.net/npm/@holoviz/panel@0.14.2/dist/bundled/datatabulator/tabulator-tables@5.3.2/dist/css/\"},\"id\":\"13036\",\"type\":\"panel.models.tabulator.DataTabulator\"},{\"attributes\":{},\"id\":\"12842\",\"type\":\"StringEditor\"},{\"attributes\":{\"data\":{\"column\":[\"longest_query_time_sec\",\"longest_transaction_time_sec\",\"num_sessions\",\"num_wait_sessions\",\"oldest_backend_time_sec\"],\"index\":[0,1,2,3,4],\"key\":[false,false,false,false,false],\"type\":[\"integer\",\"integer\",\"integer\",\"integer\",\"integer\"]},\"selected\":{\"id\":\"13019\"},\"selection_policy\":{\"id\":\"13082\"}},\"id\":\"13018\",\"type\":\"ColumnDataSource\"},{\"attributes\":{\"data\":{\"column\":[\"buffers_alloc\",\"buffers_backend\",\"buffers_backend_fsync\",\"buffers_checkpoint\",\"buffers_clean\",\"checkpoint_sync_time\",\"checkpoint_write_time\",\"checkpoints_req\",\"checkpoints_timed\",\"maxwritten_clean\"],\"index\":[0,1,2,3,4,5,6,7,8,9],\"key\":[false,false,false,false,false,false,false,false,false,false],\"type\":[\"integer\",\"integer\",\"integer\",\"integer\",\"integer\",\"float\",\"float\",\"integer\",\"integer\",\"integer\"]},\"selected\":{\"id\":\"12881\"},\"selection_policy\":{\"id\":\"13070\"}},\"id\":\"12880\",\"type\":\"ColumnDataSource\"},{\"attributes\":{},\"id\":\"13076\",\"type\":\"UnionRenderers\"},{\"attributes\":{\"children\":[{\"id\":\"12971\"}],\"css_classes\":[\"card-header-row\"],\"margin\":[0,0,0,0],\"name\":\"Row01939\",\"sizing_mode\":\"stretch_width\"},\"id\":\"12970\",\"type\":\"Row\"},{\"attributes\":{\"children\":[{\"id\":\"12830\"}],\"css_classes\":[\"side\"],\"margin\":[0,0,0,0],\"min_width\":400,\"name\":\"Column01911\",\"width\":400},\"id\":\"12829\",\"type\":\"Column\"},{\"attributes\":{\"indices\":[]},\"id\":\"12973\",\"type\":\"Selection\"},{\"attributes\":{},\"id\":\"13020\",\"type\":\"StringFormatter\"},{\"attributes\":{\"css_classes\":[\"card-title\"],\"margin\":[5,0,5,0],\"name\":\"HTML01941\",\"sizing_mode\":\"stretch_width\",\"text\":\"&lt;i class=&#x27;fa fa-table&#x27;&gt;&lt;/i&gt; Os metric\"},\"id\":\"12971\",\"type\":\"panel.models.markup.HTML\"},{\"attributes\":{},\"id\":\"13021\",\"type\":\"StringEditor\"},{\"attributes\":{\"editor\":{\"id\":\"13021\"},\"field\":\"column\",\"formatter\":{\"id\":\"13020\"},\"title\":\"column\",\"width\":0},\"id\":\"13022\",\"type\":\"TableColumn\"},{\"attributes\":{\"active_header_background\":\"#ccc\",\"button_css_classes\":[\"card-button\"],\"children\":[{\"id\":\"12878\"},{\"id\":\"12898\"}],\"css_classes\":[\"accordion\"],\"header_background\":\"\",\"header_color\":\"\",\"header_css_classes\":[\"accordion-header\"],\"margin\":[0,5,0,5],\"name\":\"Card01924\",\"sizing_mode\":\"stretch_width\"},\"id\":\"12877\",\"type\":\"panel.models.layout.Card\"},{\"attributes\":{\"buttons\":{\"Search\":\"<i class='fa fa-search'></i>\"},\"columns\":[{\"id\":\"12976\"},{\"id\":\"12981\"},{\"id\":\"12987\"}],\"configuration\":{\"columns\":[{\"field\":\"column\"},{\"field\":\"type\"},{\"field\":\"key\",\"sorter\":\"boolean\"}],\"dataTree\":false,\"selectable\":true},\"layout\":\"fit_data_table\",\"margin\":[5,10,5,10],\"name\":\"<i class='fa fa-table'></i> Os metric\",\"page\":1,\"page_size\":20,\"select_mode\":true,\"selectable_rows\":null,\"sizing_mode\":\"stretch_width\",\"source\":{\"id\":\"12972\"},\"styles\":{\"data\":{},\"id\":\"ec28bda0cecf4a459d3b758ec4f3985d\"},\"subscribed_events\":[\"cell-click\",\"table-edit\"],\"theme_url\":\"https://cdn.jsdelivr.net/npm/@holoviz/panel@0.14.2/dist/bundled/datatabulator/tabulator-tables@5.3.2/dist/css/\"},\"id\":\"12990\",\"type\":\"panel.models.tabulator.DataTabulator\"},{\"attributes\":{\"active_header_background\":\"#ccc\",\"button_css_classes\":[\"card-button\"],\"children\":[{\"id\":\"12924\"},{\"id\":\"12944\"}],\"css_classes\":[\"accordion\"],\"header_background\":\"\",\"header_color\":\"\",\"header_css_classes\":[\"accordion-header\"],\"margin\":[0,5,0,5],\"name\":\"Card01932\",\"sizing_mode\":\"stretch_width\"},\"id\":\"12923\",\"type\":\"panel.models.layout.Card\"},{\"attributes\":{\"height\":300,\"margin\":[5,5,5,5],\"name\":\"Spacer01905\",\"sizing_mode\":\"stretch_width\"},\"id\":\"13065\",\"type\":\"Spacer\"},{\"attributes\":{\"data\":{\"column\":[\"cpu_percent\",\"disk_percent\",\"disk_read_bytes\",\"disk_read_count\",\"disk_write_bytes\",\"disk_write_count\",\"mem_active\",\"mem_available\",\"mem_buffers\",\"mem_cached\",\"mem_free\",\"mem_inactive\",\"mem_percent\",\"mem_shared\",\"mem_slab\",\"mem_total\",\"mem_used\"],\"index\":[0,1,2,3,4,5,6,7,8,9,10,11,12,13,14,15,16],\"key\":[false,false,false,false,false,false,false,false,false,false,false,false,false,false,false,false,false],\"type\":[\"float\",\"float\",\"integer\",\"integer\",\"integer\",\"integer\",\"integer\",\"integer\",\"integer\",\"integer\",\"integer\",\"integer\",\"float\",\"integer\",\"integer\",\"integer\",\"integer\"]},\"selected\":{\"id\":\"12973\"},\"selection_policy\":{\"id\":\"13078\"}},\"id\":\"12972\",\"type\":\"ColumnDataSource\"},{\"attributes\":{\"css_classes\":[\"markdown\"],\"margin\":[5,5,5,5],\"name\":\"Markdown01908\",\"sizing_mode\":\"stretch_width\",\"text\":\"&lt;h3&gt;Visualization part&lt;/h3&gt;\"},\"id\":\"13064\",\"type\":\"panel.models.markup.HTML\"},{\"attributes\":{},\"id\":\"13025\",\"type\":\"StringFormatter\"},{\"attributes\":{},\"id\":\"13026\",\"type\":\"StringEditor\"},{\"attributes\":{\"indices\":[]},\"id\":\"12858\",\"type\":\"Selection\"},{\"attributes\":{},\"id\":\"13078\",\"type\":\"UnionRenderers\"},{\"attributes\":{\"editor\":{\"id\":\"13026\"},\"field\":\"type\",\"formatter\":{\"id\":\"13025\"},\"title\":\"type\",\"width\":0},\"id\":\"13027\",\"type\":\"TableColumn\"},{\"attributes\":{\"children\":[{\"id\":\"12925\"}],\"css_classes\":[\"card-header-row\"],\"margin\":[0,0,0,0],\"name\":\"Row01931\",\"sizing_mode\":\"stretch_width\"},\"id\":\"12924\",\"type\":\"Row\"},{\"attributes\":{\"css_classes\":[\"card-title\"],\"margin\":[5,0,5,0],\"name\":\"HTML01917\",\"sizing_mode\":\"stretch_width\",\"text\":\"&lt;i class=&#x27;fa fa-table&#x27;&gt;&lt;/i&gt; Access\"},\"id\":\"12833\",\"type\":\"panel.models.markup.HTML\"},{\"attributes\":{},\"id\":\"12974\",\"type\":\"StringFormatter\"},{\"attributes\":{\"indices\":[]},\"id\":\"12927\",\"type\":\"Selection\"},{\"attributes\":{},\"id\":\"12975\",\"type\":\"StringEditor\"},{\"attributes\":{\"css_classes\":[\"card-title\"],\"margin\":[5,0,5,0],\"name\":\"HTML01933\",\"sizing_mode\":\"stretch_width\",\"text\":\"&lt;i class=&#x27;fa fa-table&#x27;&gt;&lt;/i&gt; Database statistics\"},\"id\":\"12925\",\"type\":\"panel.models.markup.HTML\"},{\"attributes\":{\"editor\":{\"id\":\"12975\"},\"field\":\"column\",\"formatter\":{\"id\":\"12974\"},\"title\":\"column\",\"width\":0},\"id\":\"12976\",\"type\":\"TableColumn\"},{\"attributes\":{\"icon\":\"check-circle-o\"},\"id\":\"13032\",\"type\":\"BooleanFormatter\"},{\"attributes\":{},\"id\":\"13031\",\"type\":\"CheckboxEditor\"},{\"attributes\":{\"buttons\":{\"Search\":\"<i class='fa fa-search'></i>\"},\"columns\":[{\"id\":\"12930\"},{\"id\":\"12935\"},{\"id\":\"12941\"}],\"configuration\":{\"columns\":[{\"field\":\"column\"},{\"field\":\"type\"},{\"field\":\"key\",\"sorter\":\"boolean\"}],\"dataTree\":false,\"selectable\":true},\"layout\":\"fit_data_table\",\"margin\":[5,10,5,10],\"name\":\"<i class='fa fa-table'></i> Database statistics\",\"page\":1,\"page_size\":20,\"select_mode\":true,\"selectable_rows\":null,\"sizing_mode\":\"stretch_width\",\"source\":{\"id\":\"12926\"},\"styles\":{\"data\":{},\"id\":\"e66e867ccbcc4cde8e640d6a33603994\"},\"subscribed_events\":[\"cell-click\",\"table-edit\"],\"theme_url\":\"https://cdn.jsdelivr.net/npm/@holoviz/panel@0.14.2/dist/bundled/datatabulator/tabulator-tables@5.3.2/dist/css/\"},\"id\":\"12944\",\"type\":\"panel.models.tabulator.DataTabulator\"},{\"attributes\":{\"editor\":{\"id\":\"13031\"},\"field\":\"key\",\"formatter\":{\"id\":\"13032\"},\"title\":\"key\",\"width\":0},\"id\":\"13033\",\"type\":\"TableColumn\"},{\"attributes\":{},\"id\":\"12847\",\"type\":\"CheckboxEditor\"},{\"attributes\":{\"data\":{\"column\":[\"active_time\",\"blk_read_time\",\"blk_write_time\",\"blks_hit\",\"blks_read\",\"conflicts\",\"datname\",\"deadlocks\",\"idle_in_transaction_time\",\"numbackends\",\"session_time\",\"sessions\",\"sessions_abandoned\",\"sessions_fatal\",\"sessions_killed\",\"temp_bytes\",\"temp_files\",\"tup_deleted\",\"tup_fetched\",\"tup_inserted\",\"tup_returned\",\"tup_updated\",\"xact_commit\",\"xact_rollback\",\"datid\"],\"index\":[0,1,2,3,4,5,6,7,8,9,10,11,12,13,14,15,16,17,18,19,20,21,22,23,0],\"key\":[false,false,false,false,false,false,false,false,false,false,false,false,false,false,false,false,false,false,false,false,false,false,false,false,true],\"type\":[\"float\",\"float\",\"float\",\"integer\",\"integer\",\"integer\",\"string\",\"integer\",\"float\",\"integer\",\"float\",\"integer\",\"integer\",\"integer\",\"integer\",\"integer\",\"integer\",\"integer\",\"integer\",\"integer\",\"integer\",\"integer\",\"integer\",\"integer\",\"string\"]},\"selected\":{\"id\":\"12927\"},\"selection_policy\":{\"id\":\"13074\"}},\"id\":\"12926\",\"type\":\"ColumnDataSource\"},{\"attributes\":{},\"id\":\"12979\",\"type\":\"StringFormatter\"},{\"attributes\":{},\"id\":\"12980\",\"type\":\"StringEditor\"},{\"attributes\":{},\"id\":\"13080\",\"type\":\"UnionRenderers\"},{\"attributes\":{\"editor\":{\"id\":\"12980\"},\"field\":\"type\",\"formatter\":{\"id\":\"12979\"},\"title\":\"type\",\"width\":0},\"id\":\"12981\",\"type\":\"TableColumn\"},{\"attributes\":{\"icon\":\"check-circle-o\"},\"id\":\"12848\",\"type\":\"BooleanFormatter\"},{\"attributes\":{},\"id\":\"12928\",\"type\":\"StringFormatter\"},{\"attributes\":{},\"id\":\"12929\",\"type\":\"StringEditor\"},{\"attributes\":{\"icon\":\"check-circle-o\"},\"id\":\"12986\",\"type\":\"BooleanFormatter\"},{\"attributes\":{\"editor\":{\"id\":\"12929\"},\"field\":\"column\",\"formatter\":{\"id\":\"12928\"},\"title\":\"column\",\"width\":0},\"id\":\"12930\",\"type\":\"TableColumn\"},{\"attributes\":{\"css_classes\":[\"markdown\"],\"margin\":[5,5,5,5],\"name\":\"Markdown01906\",\"sizing_mode\":\"stretch_width\",\"text\":\"&lt;h3&gt;Language generation part&lt;/h3&gt;\"},\"id\":\"13062\",\"type\":\"panel.models.markup.HTML\"},{\"attributes\":{},\"id\":\"12985\",\"type\":\"CheckboxEditor\"},{\"attributes\":{\"editor\":{\"id\":\"12985\"},\"field\":\"key\",\"formatter\":{\"id\":\"12986\"},\"title\":\"key\",\"width\":0},\"id\":\"12987\",\"type\":\"TableColumn\"},{\"attributes\":{},\"id\":\"13082\",\"type\":\"UnionRenderers\"},{\"attributes\":{},\"id\":\"12933\",\"type\":\"StringFormatter\"},{\"attributes\":{\"client_comm_id\":\"d8ecc153f12c4880be836276c579e0a4\",\"comm_id\":\"0106dc74f3344dd99d8080bda064332c\",\"plot_id\":\"12828\"},\"id\":\"13126\",\"type\":\"panel.models.comm_manager.CommManager\"},{\"attributes\":{\"children\":[{\"id\":\"12831\"},{\"id\":\"12854\"},{\"id\":\"12877\"},{\"id\":\"12900\"},{\"id\":\"12923\"},{\"id\":\"12946\"},{\"id\":\"12969\"},{\"id\":\"12992\"},{\"id\":\"13015\"},{\"id\":\"13038\"}],\"margin\":[0,0,0,0],\"name\":\"Accordion01903\",\"sizing_mode\":\"stretch_width\"},\"id\":\"12830\",\"type\":\"Column\"},{\"attributes\":{},\"id\":\"12934\",\"type\":\"StringEditor\"},{\"attributes\":{\"editor\":{\"id\":\"12934\"},\"field\":\"type\",\"formatter\":{\"id\":\"12933\"},\"title\":\"type\",\"width\":0},\"id\":\"12935\",\"type\":\"TableColumn\"},{\"attributes\":{\"background\":\"white\",\"children\":[{\"id\":\"13062\"},{\"id\":\"13063\"},{\"id\":\"13064\"},{\"id\":\"13065\"}],\"css_classes\":[\"main\"],\"margin\":[0,0,0,0],\"name\":\"Column01910\",\"sizing_mode\":\"stretch_width\"},\"id\":\"13061\",\"type\":\"Column\"},{\"attributes\":{\"active_header_background\":\"#ccc\",\"button_css_classes\":[\"card-button\"],\"children\":[{\"id\":\"13039\"},{\"id\":\"13059\"}],\"css_classes\":[\"accordion\"],\"header_background\":\"\",\"header_color\":\"\",\"header_css_classes\":[\"accordion-header\"],\"margin\":[0,5,5,5],\"name\":\"Card01952\",\"sizing_mode\":\"stretch_width\"},\"id\":\"13038\",\"type\":\"panel.models.layout.Card\"},{\"attributes\":{\"data\":{\"column\":[\"active\",\"idle\"],\"index\":[0,1],\"key\":[false,false],\"type\":[\"integer\",\"integer\"]},\"selected\":{\"id\":\"12858\"},\"selection_policy\":{\"id\":\"13068\"}},\"id\":\"12857\",\"type\":\"ColumnDataSource\"},{\"attributes\":{\"editor\":{\"id\":\"12847\"},\"field\":\"key\",\"formatter\":{\"id\":\"12848\"},\"title\":\"key\",\"width\":0},\"id\":\"12849\",\"type\":\"TableColumn\"},{\"attributes\":{\"icon\":\"check-circle-o\"},\"id\":\"12940\",\"type\":\"BooleanFormatter\"}],\"root_ids\":[\"12828\",\"13126\",\"13187\"]},\"title\":\"Bokeh Application\",\"version\":\"2.4.3\"}};\n",
       "    var render_items = [{\"docid\":\"ff89dd83-609f-4800-bfbb-d24946739cf1\",\"root_ids\":[\"12828\"],\"roots\":{\"12828\":\"7f541eee-5777-46ca-bb43-911a60577e28\"}}];\n",
       "    root.Bokeh.embed.embed_items_notebook(docs_json, render_items);\n",
       "    for (const render_item of render_items) {\n",
       "      for (const root_id of render_item.root_ids) {\n",
       "\tconst id_el = document.getElementById(root_id)\n",
       "\tif (id_el.children.length && (id_el.children[0].className === 'bk-root')) {\n",
       "\t  const root_el = id_el.children[0]\n",
       "\t  root_el.id = root_el.id + '-rendered'\n",
       "\t}\n",
       "      }\n",
       "    }\n",
       "  }\n",
       "  if (root.Bokeh !== undefined && root.Bokeh.Panel !== undefined && ( root['Tabulator'] !== undefined) && ( root['Tabulator'] !== undefined) && ( root['Tabulator'] !== undefined) && ( root['Tabulator'] !== undefined) && ( root['Tabulator'] !== undefined) && ( root['Tabulator'] !== undefined) && ( root['Tabulator'] !== undefined) && ( root['Tabulator'] !== undefined) && ( root['Tabulator'] !== undefined) && ( root['Tabulator'] !== undefined) && ( root['Tabulator'] !== undefined) && ( root['Tabulator'] !== undefined) && ( root['Tabulator'] !== undefined) && ( root['Tabulator'] !== undefined) && ( root['Tabulator'] !== undefined) && ( root['Tabulator'] !== undefined) && ( root['Tabulator'] !== undefined) && ( root['Tabulator'] !== undefined) && ( root['Tabulator'] !== undefined) && ( root['Tabulator'] !== undefined) && ( root['Tabulator'] !== undefined) && ( root['Tabulator'] !== undefined) && ( root['Tabulator'] !== undefined) && ( root['Tabulator'] !== undefined) && ( root['Tabulator'] !== undefined) && ( root['Tabulator'] !== undefined) && ( root['Tabulator'] !== undefined) && ( root['Tabulator'] !== undefined) && ( root['Tabulator'] !== undefined) && ( root['Tabulator'] !== undefined) && ( root['Tabulator'] !== undefined) && ( root['Tabulator'] !== undefined) && ( root['Tabulator'] !== undefined) && ( root['Tabulator'] !== undefined) && ( root['Tabulator'] !== undefined) && ( root['Tabulator'] !== undefined) && ( root['Tabulator'] !== undefined)) {\n",
       "    embed_document(root);\n",
       "  } else {\n",
       "    var attempts = 0;\n",
       "    var timer = setInterval(function(root) {\n",
       "      if (root.Bokeh !== undefined && root.Bokeh.Panel !== undefined && (root['Tabulator'] !== undefined) && (root['Tabulator'] !== undefined) && (root['Tabulator'] !== undefined) && (root['Tabulator'] !== undefined) && (root['Tabulator'] !== undefined) && (root['Tabulator'] !== undefined) && (root['Tabulator'] !== undefined) && (root['Tabulator'] !== undefined) && (root['Tabulator'] !== undefined) && (root['Tabulator'] !== undefined) && (root['Tabulator'] !== undefined) && (root['Tabulator'] !== undefined) && (root['Tabulator'] !== undefined) && (root['Tabulator'] !== undefined) && (root['Tabulator'] !== undefined) && (root['Tabulator'] !== undefined) && (root['Tabulator'] !== undefined) && (root['Tabulator'] !== undefined) && (root['Tabulator'] !== undefined) && (root['Tabulator'] !== undefined) && (root['Tabulator'] !== undefined) && (root['Tabulator'] !== undefined) && (root['Tabulator'] !== undefined) && (root['Tabulator'] !== undefined) && (root['Tabulator'] !== undefined) && (root['Tabulator'] !== undefined) && (root['Tabulator'] !== undefined) && (root['Tabulator'] !== undefined) && (root['Tabulator'] !== undefined) && (root['Tabulator'] !== undefined) && (root['Tabulator'] !== undefined) && (root['Tabulator'] !== undefined) && (root['Tabulator'] !== undefined) && (root['Tabulator'] !== undefined) && (root['Tabulator'] !== undefined) && (root['Tabulator'] !== undefined) && (root['Tabulator'] !== undefined)) {\n",
       "        clearInterval(timer);\n",
       "        embed_document(root);\n",
       "      } else if (document.readyState == \"complete\") {\n",
       "        attempts++;\n",
       "        if (attempts > 200) {\n",
       "          clearInterval(timer);\n",
       "          console.log(\"Bokeh: ERROR: Unable to run BokehJS code because BokehJS library is missing\");\n",
       "        }\n",
       "      }\n",
       "    }, 25, root)\n",
       "  }\n",
       "})(window);</script>"
      ],
      "text/plain": [
       "Row(css_classes=['row'], sizing_mode='stretch_width')\n",
       "    [0] Column(css_classes=['side'], width=400)\n",
       "        [0] Accordion(sizing_mode='stretch_width')\n",
       "            [0] Tabulator(buttons={'Search': \"<i c...}, formatters={'key': BooleanFormatter(i...}, name=\"<i class='fa f..., show_index=False, sizing_mode='stretch_width', value=              ...)\n",
       "            [1] Tabulator(buttons={'Search': \"<i c...}, formatters={'key': BooleanFormatter(i...}, name=\"<i class='fa f..., show_index=False, sizing_mode='stretch_width', value=   column     ...)\n",
       "            [2] Tabulator(buttons={'Search': \"<i c...}, formatters={'key': BooleanFormatter(i...}, name=\"<i class='fa f..., show_index=False, sizing_mode='stretch_width', value=              ...)\n",
       "            [3] Tabulator(buttons={'Search': \"<i c...}, formatters={'key': BooleanFormatter(i...}, name=\"<i class='fa f..., show_index=False, sizing_mode='stretch_width', value=             c...)\n",
       "            [4] Tabulator(buttons={'Search': \"<i c...}, formatters={'key': BooleanFormatter(i...}, name=\"<i class='fa f..., show_index=False, sizing_mode='stretch_width', value=              ...)\n",
       "            [5] Tabulator(buttons={'Search': \"<i c...}, formatters={'key': BooleanFormatter(i...}, name=\"<i class='fa f..., show_index=False, sizing_mode='stretch_width', value=            column  ...)\n",
       "            [6] Tabulator(buttons={'Search': \"<i c...}, formatters={'key': BooleanFormatter(i...}, name=\"<i class='fa f..., show_index=False, sizing_mode='stretch_width', value=              ...)\n",
       "            [7] Tabulator(buttons={'Search': \"<i c...}, formatters={'key': BooleanFormatter(i...}, name=\"<i class='fa f..., show_index=False, sizing_mode='stretch_width', value=              ...)\n",
       "            [8] Tabulator(buttons={'Search': \"<i c...}, formatters={'key': BooleanFormatter(i...}, name=\"<i class='fa f..., show_index=False, sizing_mode='stretch_width', value=              ...)\n",
       "            [9] Tabulator(buttons={'Search': \"<i c...}, formatters={'key': BooleanFormatter(i...}, name=\"<i class='fa f..., show_index=False, sizing_mode='stretch_width', value=     column   ...)\n",
       "    [1] Column(background='white', css_classes=['main'], sizing_mode='stretch_width')\n",
       "        [0] Markdown(str, sizing_mode='stretch_width')\n",
       "        [1] Spacer(height=300, sizing_mode='stretch_width')\n",
       "        [2] Markdown(str, sizing_mode='stretch_width')\n",
       "        [3] Spacer(height=300, sizing_mode='stretch_width')"
      ]
     },
     "execution_count": 80,
     "metadata": {
      "application/vnd.holoviews_exec.v0+json": {
       "id": "12828"
      }
     },
     "output_type": "execute_result"
    }
   ],
   "source": [
    "# from performance_analysis import *\n",
    "from influxdb import InfluxDBClient\n",
    "import pandas as pd\n",
    "import panel as pn\n",
    "from bokeh.models.widgets.tables import NumberFormatter, BooleanFormatter\n",
    "\n",
    "#pn.extension('plotly',sizing_mode = 'stretch_width', raw_css = [css], notifications = True)\n",
    "\n",
    "pn.extension('tabulator',sizing_mode = 'stretch_width', css_files=[pn.io.resources.CSS_URLS['font-awesome']], raw_css = [css])\n",
    "\n",
    "# schema, metrics = import_data_influx()\n",
    "client = InfluxDBClient(host='localhost', port=8086)\n",
    "\n",
    "# Switch to a specific database\n",
    "client.switch_database('eda')\n",
    "\n",
    "# Get all measurements\n",
    "result = client.get_list_measurements()\n",
    "measurements = [m['name'] for m in result]\n",
    "#print(measurements)\n",
    "schema = {}\n",
    "df_widgets = []\n",
    "\n",
    "bokeh_formatters = {\n",
    "    #'float': NumberFormatter(format='0.00000'),\n",
    "    'key': BooleanFormatter(icon = 'check-circle-o'),\n",
    "}\n",
    "\n",
    "for measurement in measurements:\n",
    "    schema[measurement] = {}\n",
    "    m = schema[measurement]\n",
    "    #query = f\"SHOW TAG KEYS from {measurement}\"#, TAG VALUES, FIELD KEYS'\n",
    "    query = f\"SHOW FIELD KEYS from {measurement}\"   \n",
    "    result = client.query(query)\n",
    "    res_field = pd.DataFrame(list(result.get_points()))\n",
    "    res_field.columns = ['column','type']\n",
    "    res_field['key'] = False\n",
    "    #print(res)\n",
    "    #for item in res:\n",
    "    #    m.append({'column':item['fieldKey'], 'type':item['fieldType'], 'key': False})\n",
    "    query = f\"SHOW TAG KEYS from {measurement}\"   \n",
    "    result = client.query(query)\n",
    "    res_tag = pd.DataFrame(list(result.get_points()))\n",
    "    if len(res_tag)>0:\n",
    "        res_tag.columns = ['column']\n",
    "        res_tag['type'] = 'string'\n",
    "        res_tag['key'] = True\n",
    "    df = pd.concat([res_field, res_tag], axis = 0)\n",
    "    df_widgets.append(pn.widgets.Tabulator(df,name = \"<i class='fa fa-table'></i> \"+ measurement.replace(\"_\",\" \").capitalize(),show_index=False, buttons={'Search': \"<i class='fa fa-search'></i>\"}, formatters = bokeh_formatters))\n",
    "    \n",
    "# for k,values in schema.items():\n",
    "#     print(k)\n",
    "#     print(v)\n",
    "#     df_widget = pn.widgets.Tabulator(df, buttons={'Print': \"<i class='fa fa-print'></i>\"})\n",
    "\n",
    "    \n",
    "accordion = pn.Accordion(*df_widgets, sizing_mode = 'stretch_width' )\n",
    "\n",
    "\n",
    "main = pn.Column(\"\"\"### Language generation part\"\"\",pn.Spacer(height = 300),\"\"\"### Visualization part\"\"\", pn.Spacer(height = 300), background = 'white', css_classes = ['main'])\n",
    "side = pn.Column(accordion, css_classes = ['side'], width = 400)\n",
    "pn.Row(side, main, css_classes = ['row'])\n"
   ]
  },
  {
   "cell_type": "code",
   "execution_count": 7,
   "metadata": {
    "tags": []
   },
   "outputs": [
    {
     "name": "stdout",
     "output_type": "stream",
     "text": [
      "start\n"
     ]
    },
    {
     "ename": "ConnectionError",
     "evalue": "HTTPConnectionPool(host='localhost', port=8086): Max retries exceeded with url: /query?q=SHOW+MEASUREMENTS&db=eda (Caused by NewConnectionError('<urllib3.connection.HTTPConnection object at 0x7f1922e091b0>: Failed to establish a new connection: [Errno 111] Connection refused'))",
     "output_type": "error",
     "traceback": [
      "\u001b[0;31m---------------------------------------------------------------------------\u001b[0m",
      "\u001b[0;31mConnectionRefusedError\u001b[0m                    Traceback (most recent call last)",
      "File \u001b[0;32m/usr/local/lib/python3.10/dist-packages/urllib3/connection.py:174\u001b[0m, in \u001b[0;36mHTTPConnection._new_conn\u001b[0;34m(self)\u001b[0m\n\u001b[1;32m    173\u001b[0m \u001b[38;5;28;01mtry\u001b[39;00m:\n\u001b[0;32m--> 174\u001b[0m     conn \u001b[38;5;241m=\u001b[39m \u001b[43mconnection\u001b[49m\u001b[38;5;241;43m.\u001b[39;49m\u001b[43mcreate_connection\u001b[49m\u001b[43m(\u001b[49m\n\u001b[1;32m    175\u001b[0m \u001b[43m        \u001b[49m\u001b[43m(\u001b[49m\u001b[38;5;28;43mself\u001b[39;49m\u001b[38;5;241;43m.\u001b[39;49m\u001b[43m_dns_host\u001b[49m\u001b[43m,\u001b[49m\u001b[43m \u001b[49m\u001b[38;5;28;43mself\u001b[39;49m\u001b[38;5;241;43m.\u001b[39;49m\u001b[43mport\u001b[49m\u001b[43m)\u001b[49m\u001b[43m,\u001b[49m\u001b[43m \u001b[49m\u001b[38;5;28;43mself\u001b[39;49m\u001b[38;5;241;43m.\u001b[39;49m\u001b[43mtimeout\u001b[49m\u001b[43m,\u001b[49m\u001b[43m \u001b[49m\u001b[38;5;241;43m*\u001b[39;49m\u001b[38;5;241;43m*\u001b[39;49m\u001b[43mextra_kw\u001b[49m\n\u001b[1;32m    176\u001b[0m \u001b[43m    \u001b[49m\u001b[43m)\u001b[49m\n\u001b[1;32m    178\u001b[0m \u001b[38;5;28;01mexcept\u001b[39;00m SocketTimeout:\n",
      "File \u001b[0;32m/usr/local/lib/python3.10/dist-packages/urllib3/util/connection.py:95\u001b[0m, in \u001b[0;36mcreate_connection\u001b[0;34m(address, timeout, source_address, socket_options)\u001b[0m\n\u001b[1;32m     94\u001b[0m \u001b[38;5;28;01mif\u001b[39;00m err \u001b[38;5;129;01mis\u001b[39;00m \u001b[38;5;129;01mnot\u001b[39;00m \u001b[38;5;28;01mNone\u001b[39;00m:\n\u001b[0;32m---> 95\u001b[0m     \u001b[38;5;28;01mraise\u001b[39;00m err\n\u001b[1;32m     97\u001b[0m \u001b[38;5;28;01mraise\u001b[39;00m socket\u001b[38;5;241m.\u001b[39merror(\u001b[38;5;124m\"\u001b[39m\u001b[38;5;124mgetaddrinfo returns an empty list\u001b[39m\u001b[38;5;124m\"\u001b[39m)\n",
      "File \u001b[0;32m/usr/local/lib/python3.10/dist-packages/urllib3/util/connection.py:85\u001b[0m, in \u001b[0;36mcreate_connection\u001b[0;34m(address, timeout, source_address, socket_options)\u001b[0m\n\u001b[1;32m     84\u001b[0m     sock\u001b[38;5;241m.\u001b[39mbind(source_address)\n\u001b[0;32m---> 85\u001b[0m \u001b[43msock\u001b[49m\u001b[38;5;241;43m.\u001b[39;49m\u001b[43mconnect\u001b[49m\u001b[43m(\u001b[49m\u001b[43msa\u001b[49m\u001b[43m)\u001b[49m\n\u001b[1;32m     86\u001b[0m \u001b[38;5;28;01mreturn\u001b[39;00m sock\n",
      "\u001b[0;31mConnectionRefusedError\u001b[0m: [Errno 111] Connection refused",
      "\nDuring handling of the above exception, another exception occurred:\n",
      "\u001b[0;31mNewConnectionError\u001b[0m                        Traceback (most recent call last)",
      "File \u001b[0;32m/usr/local/lib/python3.10/dist-packages/urllib3/connectionpool.py:703\u001b[0m, in \u001b[0;36mHTTPConnectionPool.urlopen\u001b[0;34m(self, method, url, body, headers, retries, redirect, assert_same_host, timeout, pool_timeout, release_conn, chunked, body_pos, **response_kw)\u001b[0m\n\u001b[1;32m    702\u001b[0m \u001b[38;5;66;03m# Make the request on the httplib connection object.\u001b[39;00m\n\u001b[0;32m--> 703\u001b[0m httplib_response \u001b[38;5;241m=\u001b[39m \u001b[38;5;28;43mself\u001b[39;49m\u001b[38;5;241;43m.\u001b[39;49m\u001b[43m_make_request\u001b[49m\u001b[43m(\u001b[49m\n\u001b[1;32m    704\u001b[0m \u001b[43m    \u001b[49m\u001b[43mconn\u001b[49m\u001b[43m,\u001b[49m\n\u001b[1;32m    705\u001b[0m \u001b[43m    \u001b[49m\u001b[43mmethod\u001b[49m\u001b[43m,\u001b[49m\n\u001b[1;32m    706\u001b[0m \u001b[43m    \u001b[49m\u001b[43murl\u001b[49m\u001b[43m,\u001b[49m\n\u001b[1;32m    707\u001b[0m \u001b[43m    \u001b[49m\u001b[43mtimeout\u001b[49m\u001b[38;5;241;43m=\u001b[39;49m\u001b[43mtimeout_obj\u001b[49m\u001b[43m,\u001b[49m\n\u001b[1;32m    708\u001b[0m \u001b[43m    \u001b[49m\u001b[43mbody\u001b[49m\u001b[38;5;241;43m=\u001b[39;49m\u001b[43mbody\u001b[49m\u001b[43m,\u001b[49m\n\u001b[1;32m    709\u001b[0m \u001b[43m    \u001b[49m\u001b[43mheaders\u001b[49m\u001b[38;5;241;43m=\u001b[39;49m\u001b[43mheaders\u001b[49m\u001b[43m,\u001b[49m\n\u001b[1;32m    710\u001b[0m \u001b[43m    \u001b[49m\u001b[43mchunked\u001b[49m\u001b[38;5;241;43m=\u001b[39;49m\u001b[43mchunked\u001b[49m\u001b[43m,\u001b[49m\n\u001b[1;32m    711\u001b[0m \u001b[43m\u001b[49m\u001b[43m)\u001b[49m\n\u001b[1;32m    713\u001b[0m \u001b[38;5;66;03m# If we're going to release the connection in ``finally:``, then\u001b[39;00m\n\u001b[1;32m    714\u001b[0m \u001b[38;5;66;03m# the response doesn't need to know about the connection. Otherwise\u001b[39;00m\n\u001b[1;32m    715\u001b[0m \u001b[38;5;66;03m# it will also try to release it and we'll have a double-release\u001b[39;00m\n\u001b[1;32m    716\u001b[0m \u001b[38;5;66;03m# mess.\u001b[39;00m\n",
      "File \u001b[0;32m/usr/local/lib/python3.10/dist-packages/urllib3/connectionpool.py:398\u001b[0m, in \u001b[0;36mHTTPConnectionPool._make_request\u001b[0;34m(self, conn, method, url, timeout, chunked, **httplib_request_kw)\u001b[0m\n\u001b[1;32m    397\u001b[0m     \u001b[38;5;28;01melse\u001b[39;00m:\n\u001b[0;32m--> 398\u001b[0m         \u001b[43mconn\u001b[49m\u001b[38;5;241;43m.\u001b[39;49m\u001b[43mrequest\u001b[49m\u001b[43m(\u001b[49m\u001b[43mmethod\u001b[49m\u001b[43m,\u001b[49m\u001b[43m \u001b[49m\u001b[43murl\u001b[49m\u001b[43m,\u001b[49m\u001b[43m \u001b[49m\u001b[38;5;241;43m*\u001b[39;49m\u001b[38;5;241;43m*\u001b[39;49m\u001b[43mhttplib_request_kw\u001b[49m\u001b[43m)\u001b[49m\n\u001b[1;32m    400\u001b[0m \u001b[38;5;66;03m# We are swallowing BrokenPipeError (errno.EPIPE) since the server is\u001b[39;00m\n\u001b[1;32m    401\u001b[0m \u001b[38;5;66;03m# legitimately able to close the connection after sending a valid response.\u001b[39;00m\n\u001b[1;32m    402\u001b[0m \u001b[38;5;66;03m# With this behaviour, the received response is still readable.\u001b[39;00m\n",
      "File \u001b[0;32m/usr/local/lib/python3.10/dist-packages/urllib3/connection.py:239\u001b[0m, in \u001b[0;36mHTTPConnection.request\u001b[0;34m(self, method, url, body, headers)\u001b[0m\n\u001b[1;32m    238\u001b[0m     headers[\u001b[38;5;124m\"\u001b[39m\u001b[38;5;124mUser-Agent\u001b[39m\u001b[38;5;124m\"\u001b[39m] \u001b[38;5;241m=\u001b[39m _get_default_user_agent()\n\u001b[0;32m--> 239\u001b[0m \u001b[38;5;28;43msuper\u001b[39;49m\u001b[43m(\u001b[49m\u001b[43mHTTPConnection\u001b[49m\u001b[43m,\u001b[49m\u001b[43m \u001b[49m\u001b[38;5;28;43mself\u001b[39;49m\u001b[43m)\u001b[49m\u001b[38;5;241;43m.\u001b[39;49m\u001b[43mrequest\u001b[49m\u001b[43m(\u001b[49m\u001b[43mmethod\u001b[49m\u001b[43m,\u001b[49m\u001b[43m \u001b[49m\u001b[43murl\u001b[49m\u001b[43m,\u001b[49m\u001b[43m \u001b[49m\u001b[43mbody\u001b[49m\u001b[38;5;241;43m=\u001b[39;49m\u001b[43mbody\u001b[49m\u001b[43m,\u001b[49m\u001b[43m \u001b[49m\u001b[43mheaders\u001b[49m\u001b[38;5;241;43m=\u001b[39;49m\u001b[43mheaders\u001b[49m\u001b[43m)\u001b[49m\n",
      "File \u001b[0;32m/usr/lib/python3.10/http/client.py:1282\u001b[0m, in \u001b[0;36mHTTPConnection.request\u001b[0;34m(self, method, url, body, headers, encode_chunked)\u001b[0m\n\u001b[1;32m   1281\u001b[0m \u001b[38;5;250m\u001b[39m\u001b[38;5;124;03m\"\"\"Send a complete request to the server.\"\"\"\u001b[39;00m\n\u001b[0;32m-> 1282\u001b[0m \u001b[38;5;28;43mself\u001b[39;49m\u001b[38;5;241;43m.\u001b[39;49m\u001b[43m_send_request\u001b[49m\u001b[43m(\u001b[49m\u001b[43mmethod\u001b[49m\u001b[43m,\u001b[49m\u001b[43m \u001b[49m\u001b[43murl\u001b[49m\u001b[43m,\u001b[49m\u001b[43m \u001b[49m\u001b[43mbody\u001b[49m\u001b[43m,\u001b[49m\u001b[43m \u001b[49m\u001b[43mheaders\u001b[49m\u001b[43m,\u001b[49m\u001b[43m \u001b[49m\u001b[43mencode_chunked\u001b[49m\u001b[43m)\u001b[49m\n",
      "File \u001b[0;32m/usr/lib/python3.10/http/client.py:1328\u001b[0m, in \u001b[0;36mHTTPConnection._send_request\u001b[0;34m(self, method, url, body, headers, encode_chunked)\u001b[0m\n\u001b[1;32m   1327\u001b[0m     body \u001b[38;5;241m=\u001b[39m _encode(body, \u001b[38;5;124m'\u001b[39m\u001b[38;5;124mbody\u001b[39m\u001b[38;5;124m'\u001b[39m)\n\u001b[0;32m-> 1328\u001b[0m \u001b[38;5;28;43mself\u001b[39;49m\u001b[38;5;241;43m.\u001b[39;49m\u001b[43mendheaders\u001b[49m\u001b[43m(\u001b[49m\u001b[43mbody\u001b[49m\u001b[43m,\u001b[49m\u001b[43m \u001b[49m\u001b[43mencode_chunked\u001b[49m\u001b[38;5;241;43m=\u001b[39;49m\u001b[43mencode_chunked\u001b[49m\u001b[43m)\u001b[49m\n",
      "File \u001b[0;32m/usr/lib/python3.10/http/client.py:1277\u001b[0m, in \u001b[0;36mHTTPConnection.endheaders\u001b[0;34m(self, message_body, encode_chunked)\u001b[0m\n\u001b[1;32m   1276\u001b[0m     \u001b[38;5;28;01mraise\u001b[39;00m CannotSendHeader()\n\u001b[0;32m-> 1277\u001b[0m \u001b[38;5;28;43mself\u001b[39;49m\u001b[38;5;241;43m.\u001b[39;49m\u001b[43m_send_output\u001b[49m\u001b[43m(\u001b[49m\u001b[43mmessage_body\u001b[49m\u001b[43m,\u001b[49m\u001b[43m \u001b[49m\u001b[43mencode_chunked\u001b[49m\u001b[38;5;241;43m=\u001b[39;49m\u001b[43mencode_chunked\u001b[49m\u001b[43m)\u001b[49m\n",
      "File \u001b[0;32m/usr/lib/python3.10/http/client.py:1037\u001b[0m, in \u001b[0;36mHTTPConnection._send_output\u001b[0;34m(self, message_body, encode_chunked)\u001b[0m\n\u001b[1;32m   1036\u001b[0m \u001b[38;5;28;01mdel\u001b[39;00m \u001b[38;5;28mself\u001b[39m\u001b[38;5;241m.\u001b[39m_buffer[:]\n\u001b[0;32m-> 1037\u001b[0m \u001b[38;5;28;43mself\u001b[39;49m\u001b[38;5;241;43m.\u001b[39;49m\u001b[43msend\u001b[49m\u001b[43m(\u001b[49m\u001b[43mmsg\u001b[49m\u001b[43m)\u001b[49m\n\u001b[1;32m   1039\u001b[0m \u001b[38;5;28;01mif\u001b[39;00m message_body \u001b[38;5;129;01mis\u001b[39;00m \u001b[38;5;129;01mnot\u001b[39;00m \u001b[38;5;28;01mNone\u001b[39;00m:\n\u001b[1;32m   1040\u001b[0m \n\u001b[1;32m   1041\u001b[0m     \u001b[38;5;66;03m# create a consistent interface to message_body\u001b[39;00m\n",
      "File \u001b[0;32m/usr/lib/python3.10/http/client.py:975\u001b[0m, in \u001b[0;36mHTTPConnection.send\u001b[0;34m(self, data)\u001b[0m\n\u001b[1;32m    974\u001b[0m \u001b[38;5;28;01mif\u001b[39;00m \u001b[38;5;28mself\u001b[39m\u001b[38;5;241m.\u001b[39mauto_open:\n\u001b[0;32m--> 975\u001b[0m     \u001b[38;5;28;43mself\u001b[39;49m\u001b[38;5;241;43m.\u001b[39;49m\u001b[43mconnect\u001b[49m\u001b[43m(\u001b[49m\u001b[43m)\u001b[49m\n\u001b[1;32m    976\u001b[0m \u001b[38;5;28;01melse\u001b[39;00m:\n",
      "File \u001b[0;32m/usr/local/lib/python3.10/dist-packages/urllib3/connection.py:205\u001b[0m, in \u001b[0;36mHTTPConnection.connect\u001b[0;34m(self)\u001b[0m\n\u001b[1;32m    204\u001b[0m \u001b[38;5;28;01mdef\u001b[39;00m \u001b[38;5;21mconnect\u001b[39m(\u001b[38;5;28mself\u001b[39m):\n\u001b[0;32m--> 205\u001b[0m     conn \u001b[38;5;241m=\u001b[39m \u001b[38;5;28;43mself\u001b[39;49m\u001b[38;5;241;43m.\u001b[39;49m\u001b[43m_new_conn\u001b[49m\u001b[43m(\u001b[49m\u001b[43m)\u001b[49m\n\u001b[1;32m    206\u001b[0m     \u001b[38;5;28mself\u001b[39m\u001b[38;5;241m.\u001b[39m_prepare_conn(conn)\n",
      "File \u001b[0;32m/usr/local/lib/python3.10/dist-packages/urllib3/connection.py:186\u001b[0m, in \u001b[0;36mHTTPConnection._new_conn\u001b[0;34m(self)\u001b[0m\n\u001b[1;32m    185\u001b[0m \u001b[38;5;28;01mexcept\u001b[39;00m SocketError \u001b[38;5;28;01mas\u001b[39;00m e:\n\u001b[0;32m--> 186\u001b[0m     \u001b[38;5;28;01mraise\u001b[39;00m NewConnectionError(\n\u001b[1;32m    187\u001b[0m         \u001b[38;5;28mself\u001b[39m, \u001b[38;5;124m\"\u001b[39m\u001b[38;5;124mFailed to establish a new connection: \u001b[39m\u001b[38;5;132;01m%s\u001b[39;00m\u001b[38;5;124m\"\u001b[39m \u001b[38;5;241m%\u001b[39m e\n\u001b[1;32m    188\u001b[0m     )\n\u001b[1;32m    190\u001b[0m \u001b[38;5;28;01mreturn\u001b[39;00m conn\n",
      "\u001b[0;31mNewConnectionError\u001b[0m: <urllib3.connection.HTTPConnection object at 0x7f1922e091b0>: Failed to establish a new connection: [Errno 111] Connection refused",
      "\nDuring handling of the above exception, another exception occurred:\n",
      "\u001b[0;31mMaxRetryError\u001b[0m                             Traceback (most recent call last)",
      "File \u001b[0;32m/usr/local/lib/python3.10/dist-packages/requests/adapters.py:489\u001b[0m, in \u001b[0;36mHTTPAdapter.send\u001b[0;34m(self, request, stream, timeout, verify, cert, proxies)\u001b[0m\n\u001b[1;32m    488\u001b[0m \u001b[38;5;28;01mif\u001b[39;00m \u001b[38;5;129;01mnot\u001b[39;00m chunked:\n\u001b[0;32m--> 489\u001b[0m     resp \u001b[38;5;241m=\u001b[39m \u001b[43mconn\u001b[49m\u001b[38;5;241;43m.\u001b[39;49m\u001b[43murlopen\u001b[49m\u001b[43m(\u001b[49m\n\u001b[1;32m    490\u001b[0m \u001b[43m        \u001b[49m\u001b[43mmethod\u001b[49m\u001b[38;5;241;43m=\u001b[39;49m\u001b[43mrequest\u001b[49m\u001b[38;5;241;43m.\u001b[39;49m\u001b[43mmethod\u001b[49m\u001b[43m,\u001b[49m\n\u001b[1;32m    491\u001b[0m \u001b[43m        \u001b[49m\u001b[43murl\u001b[49m\u001b[38;5;241;43m=\u001b[39;49m\u001b[43murl\u001b[49m\u001b[43m,\u001b[49m\n\u001b[1;32m    492\u001b[0m \u001b[43m        \u001b[49m\u001b[43mbody\u001b[49m\u001b[38;5;241;43m=\u001b[39;49m\u001b[43mrequest\u001b[49m\u001b[38;5;241;43m.\u001b[39;49m\u001b[43mbody\u001b[49m\u001b[43m,\u001b[49m\n\u001b[1;32m    493\u001b[0m \u001b[43m        \u001b[49m\u001b[43mheaders\u001b[49m\u001b[38;5;241;43m=\u001b[39;49m\u001b[43mrequest\u001b[49m\u001b[38;5;241;43m.\u001b[39;49m\u001b[43mheaders\u001b[49m\u001b[43m,\u001b[49m\n\u001b[1;32m    494\u001b[0m \u001b[43m        \u001b[49m\u001b[43mredirect\u001b[49m\u001b[38;5;241;43m=\u001b[39;49m\u001b[38;5;28;43;01mFalse\u001b[39;49;00m\u001b[43m,\u001b[49m\n\u001b[1;32m    495\u001b[0m \u001b[43m        \u001b[49m\u001b[43massert_same_host\u001b[49m\u001b[38;5;241;43m=\u001b[39;49m\u001b[38;5;28;43;01mFalse\u001b[39;49;00m\u001b[43m,\u001b[49m\n\u001b[1;32m    496\u001b[0m \u001b[43m        \u001b[49m\u001b[43mpreload_content\u001b[49m\u001b[38;5;241;43m=\u001b[39;49m\u001b[38;5;28;43;01mFalse\u001b[39;49;00m\u001b[43m,\u001b[49m\n\u001b[1;32m    497\u001b[0m \u001b[43m        \u001b[49m\u001b[43mdecode_content\u001b[49m\u001b[38;5;241;43m=\u001b[39;49m\u001b[38;5;28;43;01mFalse\u001b[39;49;00m\u001b[43m,\u001b[49m\n\u001b[1;32m    498\u001b[0m \u001b[43m        \u001b[49m\u001b[43mretries\u001b[49m\u001b[38;5;241;43m=\u001b[39;49m\u001b[38;5;28;43mself\u001b[39;49m\u001b[38;5;241;43m.\u001b[39;49m\u001b[43mmax_retries\u001b[49m\u001b[43m,\u001b[49m\n\u001b[1;32m    499\u001b[0m \u001b[43m        \u001b[49m\u001b[43mtimeout\u001b[49m\u001b[38;5;241;43m=\u001b[39;49m\u001b[43mtimeout\u001b[49m\u001b[43m,\u001b[49m\n\u001b[1;32m    500\u001b[0m \u001b[43m    \u001b[49m\u001b[43m)\u001b[49m\n\u001b[1;32m    502\u001b[0m \u001b[38;5;66;03m# Send the request.\u001b[39;00m\n\u001b[1;32m    503\u001b[0m \u001b[38;5;28;01melse\u001b[39;00m:\n",
      "File \u001b[0;32m/usr/local/lib/python3.10/dist-packages/urllib3/connectionpool.py:787\u001b[0m, in \u001b[0;36mHTTPConnectionPool.urlopen\u001b[0;34m(self, method, url, body, headers, retries, redirect, assert_same_host, timeout, pool_timeout, release_conn, chunked, body_pos, **response_kw)\u001b[0m\n\u001b[1;32m    785\u001b[0m     e \u001b[38;5;241m=\u001b[39m ProtocolError(\u001b[38;5;124m\"\u001b[39m\u001b[38;5;124mConnection aborted.\u001b[39m\u001b[38;5;124m\"\u001b[39m, e)\n\u001b[0;32m--> 787\u001b[0m retries \u001b[38;5;241m=\u001b[39m \u001b[43mretries\u001b[49m\u001b[38;5;241;43m.\u001b[39;49m\u001b[43mincrement\u001b[49m\u001b[43m(\u001b[49m\n\u001b[1;32m    788\u001b[0m \u001b[43m    \u001b[49m\u001b[43mmethod\u001b[49m\u001b[43m,\u001b[49m\u001b[43m \u001b[49m\u001b[43murl\u001b[49m\u001b[43m,\u001b[49m\u001b[43m \u001b[49m\u001b[43merror\u001b[49m\u001b[38;5;241;43m=\u001b[39;49m\u001b[43me\u001b[49m\u001b[43m,\u001b[49m\u001b[43m \u001b[49m\u001b[43m_pool\u001b[49m\u001b[38;5;241;43m=\u001b[39;49m\u001b[38;5;28;43mself\u001b[39;49m\u001b[43m,\u001b[49m\u001b[43m \u001b[49m\u001b[43m_stacktrace\u001b[49m\u001b[38;5;241;43m=\u001b[39;49m\u001b[43msys\u001b[49m\u001b[38;5;241;43m.\u001b[39;49m\u001b[43mexc_info\u001b[49m\u001b[43m(\u001b[49m\u001b[43m)\u001b[49m\u001b[43m[\u001b[49m\u001b[38;5;241;43m2\u001b[39;49m\u001b[43m]\u001b[49m\n\u001b[1;32m    789\u001b[0m \u001b[43m\u001b[49m\u001b[43m)\u001b[49m\n\u001b[1;32m    790\u001b[0m retries\u001b[38;5;241m.\u001b[39msleep()\n",
      "File \u001b[0;32m/usr/local/lib/python3.10/dist-packages/urllib3/util/retry.py:592\u001b[0m, in \u001b[0;36mRetry.increment\u001b[0;34m(self, method, url, response, error, _pool, _stacktrace)\u001b[0m\n\u001b[1;32m    591\u001b[0m \u001b[38;5;28;01mif\u001b[39;00m new_retry\u001b[38;5;241m.\u001b[39mis_exhausted():\n\u001b[0;32m--> 592\u001b[0m     \u001b[38;5;28;01mraise\u001b[39;00m MaxRetryError(_pool, url, error \u001b[38;5;129;01mor\u001b[39;00m ResponseError(cause))\n\u001b[1;32m    594\u001b[0m log\u001b[38;5;241m.\u001b[39mdebug(\u001b[38;5;124m\"\u001b[39m\u001b[38;5;124mIncremented Retry for (url=\u001b[39m\u001b[38;5;124m'\u001b[39m\u001b[38;5;132;01m%s\u001b[39;00m\u001b[38;5;124m'\u001b[39m\u001b[38;5;124m): \u001b[39m\u001b[38;5;132;01m%r\u001b[39;00m\u001b[38;5;124m\"\u001b[39m, url, new_retry)\n",
      "\u001b[0;31mMaxRetryError\u001b[0m: HTTPConnectionPool(host='localhost', port=8086): Max retries exceeded with url: /query?q=SHOW+MEASUREMENTS&db=eda (Caused by NewConnectionError('<urllib3.connection.HTTPConnection object at 0x7f1922e091b0>: Failed to establish a new connection: [Errno 111] Connection refused'))",
      "\nDuring handling of the above exception, another exception occurred:\n",
      "\u001b[0;31mConnectionError\u001b[0m                           Traceback (most recent call last)",
      "Cell \u001b[0;32mIn[7], line 3\u001b[0m\n\u001b[1;32m      1\u001b[0m \u001b[38;5;28;01mfrom\u001b[39;00m \u001b[38;5;21;01mvisualize_widgets\u001b[39;00m \u001b[38;5;28;01mimport\u001b[39;00m \u001b[38;5;241m*\u001b[39m\n\u001b[0;32m----> 3\u001b[0m \u001b[43mvisualize_panel\u001b[49m\u001b[43m(\u001b[49m\u001b[43m)\u001b[49m\n",
      "File \u001b[0;32m/home/eda_framework_visualization/visualize_widgets.py:36\u001b[0m, in \u001b[0;36mvisualize_panel\u001b[0;34m()\u001b[0m\n\u001b[1;32m     32\u001b[0m sys\u001b[38;5;241m.\u001b[39mstdout \u001b[38;5;241m=\u001b[39m stdout\n\u001b[1;32m     33\u001b[0m \u001b[38;5;66;03m#pc['update'] = pn.state.add_periodic_callback\u001b[39;00m\n\u001b[0;32m---> 36\u001b[0m \u001b[43mimport_data_influx\u001b[49m\u001b[43m(\u001b[49m\u001b[43m)\u001b[49m\n\u001b[1;32m     37\u001b[0m DAT_NAMES \u001b[38;5;241m=\u001b[39m get_dat_names()\n\u001b[1;32m     38\u001b[0m \u001b[38;5;66;03m#print(DAT_NAMES)\u001b[39;00m\n",
      "File \u001b[0;32m/home/eda_framework_visualization/performance_analysis.py:747\u001b[0m, in \u001b[0;36mimport_data_influx\u001b[0;34m()\u001b[0m\n\u001b[1;32m    744\u001b[0m client\u001b[38;5;241m.\u001b[39mswitch_database(\u001b[38;5;124m'\u001b[39m\u001b[38;5;124meda\u001b[39m\u001b[38;5;124m'\u001b[39m)\n\u001b[1;32m    746\u001b[0m \u001b[38;5;66;03m# Get all measurements\u001b[39;00m\n\u001b[0;32m--> 747\u001b[0m result \u001b[38;5;241m=\u001b[39m \u001b[43mclient\u001b[49m\u001b[38;5;241;43m.\u001b[39;49m\u001b[43mget_list_measurements\u001b[49m\u001b[43m(\u001b[49m\u001b[43m)\u001b[49m\n\u001b[1;32m    748\u001b[0m measurements \u001b[38;5;241m=\u001b[39m [m[\u001b[38;5;124m'\u001b[39m\u001b[38;5;124mname\u001b[39m\u001b[38;5;124m'\u001b[39m] \u001b[38;5;28;01mfor\u001b[39;00m m \u001b[38;5;129;01min\u001b[39;00m result]\n\u001b[1;32m    749\u001b[0m now \u001b[38;5;241m=\u001b[39m dt\u001b[38;5;241m.\u001b[39mdatetime\u001b[38;5;241m.\u001b[39mnow()\n",
      "File \u001b[0;32m/usr/local/lib/python3.10/dist-packages/influxdb/client.py:774\u001b[0m, in \u001b[0;36mInfluxDBClient.get_list_measurements\u001b[0;34m(self)\u001b[0m\n\u001b[1;32m    758\u001b[0m \u001b[38;5;28;01mdef\u001b[39;00m \u001b[38;5;21mget_list_measurements\u001b[39m(\u001b[38;5;28mself\u001b[39m):\n\u001b[1;32m    759\u001b[0m \u001b[38;5;250m    \u001b[39m\u001b[38;5;124;03m\"\"\"Get the list of measurements in InfluxDB.\u001b[39;00m\n\u001b[1;32m    760\u001b[0m \n\u001b[1;32m    761\u001b[0m \u001b[38;5;124;03m    :returns: all measurements in InfluxDB\u001b[39;00m\n\u001b[0;32m   (...)\u001b[0m\n\u001b[1;32m    772\u001b[0m \u001b[38;5;124;03m         {u'name': u'measurements3'}]\u001b[39;00m\n\u001b[1;32m    773\u001b[0m \u001b[38;5;124;03m    \"\"\"\u001b[39;00m\n\u001b[0;32m--> 774\u001b[0m     \u001b[38;5;28;01mreturn\u001b[39;00m \u001b[38;5;28mlist\u001b[39m(\u001b[38;5;28;43mself\u001b[39;49m\u001b[38;5;241;43m.\u001b[39;49m\u001b[43mquery\u001b[49m\u001b[43m(\u001b[49m\u001b[38;5;124;43m\"\u001b[39;49m\u001b[38;5;124;43mSHOW MEASUREMENTS\u001b[39;49m\u001b[38;5;124;43m\"\u001b[39;49m\u001b[43m)\u001b[49m\u001b[38;5;241m.\u001b[39mget_points())\n",
      "File \u001b[0;32m/usr/local/lib/python3.10/dist-packages/influxdb/client.py:521\u001b[0m, in \u001b[0;36mInfluxDBClient.query\u001b[0;34m(self, query, params, bind_params, epoch, expected_response_code, database, raise_errors, chunked, chunk_size, method)\u001b[0m\n\u001b[1;32m    518\u001b[0m \u001b[38;5;28;01mif\u001b[39;00m query\u001b[38;5;241m.\u001b[39mlower()\u001b[38;5;241m.\u001b[39mstartswith(\u001b[38;5;124m\"\u001b[39m\u001b[38;5;124mselect \u001b[39m\u001b[38;5;124m\"\u001b[39m) \u001b[38;5;129;01mand\u001b[39;00m \u001b[38;5;124m\"\u001b[39m\u001b[38;5;124m into \u001b[39m\u001b[38;5;124m\"\u001b[39m \u001b[38;5;129;01min\u001b[39;00m query\u001b[38;5;241m.\u001b[39mlower():\n\u001b[1;32m    519\u001b[0m     method \u001b[38;5;241m=\u001b[39m \u001b[38;5;124m\"\u001b[39m\u001b[38;5;124mPOST\u001b[39m\u001b[38;5;124m\"\u001b[39m\n\u001b[0;32m--> 521\u001b[0m response \u001b[38;5;241m=\u001b[39m \u001b[38;5;28;43mself\u001b[39;49m\u001b[38;5;241;43m.\u001b[39;49m\u001b[43mrequest\u001b[49m\u001b[43m(\u001b[49m\n\u001b[1;32m    522\u001b[0m \u001b[43m    \u001b[49m\u001b[43murl\u001b[49m\u001b[38;5;241;43m=\u001b[39;49m\u001b[38;5;124;43m\"\u001b[39;49m\u001b[38;5;124;43mquery\u001b[39;49m\u001b[38;5;124;43m\"\u001b[39;49m\u001b[43m,\u001b[49m\n\u001b[1;32m    523\u001b[0m \u001b[43m    \u001b[49m\u001b[43mmethod\u001b[49m\u001b[38;5;241;43m=\u001b[39;49m\u001b[43mmethod\u001b[49m\u001b[43m,\u001b[49m\n\u001b[1;32m    524\u001b[0m \u001b[43m    \u001b[49m\u001b[43mparams\u001b[49m\u001b[38;5;241;43m=\u001b[39;49m\u001b[43mparams\u001b[49m\u001b[43m,\u001b[49m\n\u001b[1;32m    525\u001b[0m \u001b[43m    \u001b[49m\u001b[43mdata\u001b[49m\u001b[38;5;241;43m=\u001b[39;49m\u001b[38;5;28;43;01mNone\u001b[39;49;00m\u001b[43m,\u001b[49m\n\u001b[1;32m    526\u001b[0m \u001b[43m    \u001b[49m\u001b[43mstream\u001b[49m\u001b[38;5;241;43m=\u001b[39;49m\u001b[43mchunked\u001b[49m\u001b[43m,\u001b[49m\n\u001b[1;32m    527\u001b[0m \u001b[43m    \u001b[49m\u001b[43mexpected_response_code\u001b[49m\u001b[38;5;241;43m=\u001b[39;49m\u001b[43mexpected_response_code\u001b[49m\n\u001b[1;32m    528\u001b[0m \u001b[43m\u001b[49m\u001b[43m)\u001b[49m\n\u001b[1;32m    530\u001b[0m data \u001b[38;5;241m=\u001b[39m response\u001b[38;5;241m.\u001b[39m_msgpack\n\u001b[1;32m    531\u001b[0m \u001b[38;5;28;01mif\u001b[39;00m \u001b[38;5;129;01mnot\u001b[39;00m data:\n",
      "File \u001b[0;32m/usr/local/lib/python3.10/dist-packages/influxdb/client.py:332\u001b[0m, in \u001b[0;36mInfluxDBClient.request\u001b[0;34m(self, url, method, params, data, stream, expected_response_code, headers)\u001b[0m\n\u001b[1;32m    330\u001b[0m \u001b[38;5;28;01mtry\u001b[39;00m:\n\u001b[1;32m    331\u001b[0m     auth \u001b[38;5;241m=\u001b[39m (\u001b[38;5;28mself\u001b[39m\u001b[38;5;241m.\u001b[39m_username, \u001b[38;5;28mself\u001b[39m\u001b[38;5;241m.\u001b[39m_password)\n\u001b[0;32m--> 332\u001b[0m     response \u001b[38;5;241m=\u001b[39m \u001b[38;5;28;43mself\u001b[39;49m\u001b[38;5;241;43m.\u001b[39;49m\u001b[43m_session\u001b[49m\u001b[38;5;241;43m.\u001b[39;49m\u001b[43mrequest\u001b[49m\u001b[43m(\u001b[49m\n\u001b[1;32m    333\u001b[0m \u001b[43m        \u001b[49m\u001b[43mmethod\u001b[49m\u001b[38;5;241;43m=\u001b[39;49m\u001b[43mmethod\u001b[49m\u001b[43m,\u001b[49m\n\u001b[1;32m    334\u001b[0m \u001b[43m        \u001b[49m\u001b[43murl\u001b[49m\u001b[38;5;241;43m=\u001b[39;49m\u001b[43murl\u001b[49m\u001b[43m,\u001b[49m\n\u001b[1;32m    335\u001b[0m \u001b[43m        \u001b[49m\u001b[43mauth\u001b[49m\u001b[38;5;241;43m=\u001b[39;49m\u001b[43mauth\u001b[49m\u001b[43m \u001b[49m\u001b[38;5;28;43;01mif\u001b[39;49;00m\u001b[43m \u001b[49m\u001b[38;5;28;43;01mNone\u001b[39;49;00m\u001b[43m \u001b[49m\u001b[38;5;129;43;01mnot\u001b[39;49;00m\u001b[43m \u001b[49m\u001b[38;5;129;43;01min\u001b[39;49;00m\u001b[43m \u001b[49m\u001b[43mauth\u001b[49m\u001b[43m \u001b[49m\u001b[38;5;28;43;01melse\u001b[39;49;00m\u001b[43m \u001b[49m\u001b[38;5;28;43;01mNone\u001b[39;49;00m\u001b[43m,\u001b[49m\n\u001b[1;32m    336\u001b[0m \u001b[43m        \u001b[49m\u001b[43mparams\u001b[49m\u001b[38;5;241;43m=\u001b[39;49m\u001b[43mparams\u001b[49m\u001b[43m,\u001b[49m\n\u001b[1;32m    337\u001b[0m \u001b[43m        \u001b[49m\u001b[43mdata\u001b[49m\u001b[38;5;241;43m=\u001b[39;49m\u001b[43mdata\u001b[49m\u001b[43m,\u001b[49m\n\u001b[1;32m    338\u001b[0m \u001b[43m        \u001b[49m\u001b[43mstream\u001b[49m\u001b[38;5;241;43m=\u001b[39;49m\u001b[43mstream\u001b[49m\u001b[43m,\u001b[49m\n\u001b[1;32m    339\u001b[0m \u001b[43m        \u001b[49m\u001b[43mheaders\u001b[49m\u001b[38;5;241;43m=\u001b[39;49m\u001b[43mheaders\u001b[49m\u001b[43m,\u001b[49m\n\u001b[1;32m    340\u001b[0m \u001b[43m        \u001b[49m\u001b[43mproxies\u001b[49m\u001b[38;5;241;43m=\u001b[39;49m\u001b[38;5;28;43mself\u001b[39;49m\u001b[38;5;241;43m.\u001b[39;49m\u001b[43m_proxies\u001b[49m\u001b[43m,\u001b[49m\n\u001b[1;32m    341\u001b[0m \u001b[43m        \u001b[49m\u001b[43mverify\u001b[49m\u001b[38;5;241;43m=\u001b[39;49m\u001b[38;5;28;43mself\u001b[39;49m\u001b[38;5;241;43m.\u001b[39;49m\u001b[43m_verify_ssl\u001b[49m\u001b[43m,\u001b[49m\n\u001b[1;32m    342\u001b[0m \u001b[43m        \u001b[49m\u001b[43mtimeout\u001b[49m\u001b[38;5;241;43m=\u001b[39;49m\u001b[38;5;28;43mself\u001b[39;49m\u001b[38;5;241;43m.\u001b[39;49m\u001b[43m_timeout\u001b[49m\n\u001b[1;32m    343\u001b[0m \u001b[43m    \u001b[49m\u001b[43m)\u001b[49m\n\u001b[1;32m    344\u001b[0m     \u001b[38;5;28;01mbreak\u001b[39;00m\n\u001b[1;32m    345\u001b[0m \u001b[38;5;28;01mexcept\u001b[39;00m (requests\u001b[38;5;241m.\u001b[39mexceptions\u001b[38;5;241m.\u001b[39mConnectionError,\n\u001b[1;32m    346\u001b[0m         requests\u001b[38;5;241m.\u001b[39mexceptions\u001b[38;5;241m.\u001b[39mHTTPError,\n\u001b[1;32m    347\u001b[0m         requests\u001b[38;5;241m.\u001b[39mexceptions\u001b[38;5;241m.\u001b[39mTimeout):\n",
      "File \u001b[0;32m/usr/local/lib/python3.10/dist-packages/requests/sessions.py:587\u001b[0m, in \u001b[0;36mSession.request\u001b[0;34m(self, method, url, params, data, headers, cookies, files, auth, timeout, allow_redirects, proxies, hooks, stream, verify, cert, json)\u001b[0m\n\u001b[1;32m    582\u001b[0m send_kwargs \u001b[38;5;241m=\u001b[39m {\n\u001b[1;32m    583\u001b[0m     \u001b[38;5;124m\"\u001b[39m\u001b[38;5;124mtimeout\u001b[39m\u001b[38;5;124m\"\u001b[39m: timeout,\n\u001b[1;32m    584\u001b[0m     \u001b[38;5;124m\"\u001b[39m\u001b[38;5;124mallow_redirects\u001b[39m\u001b[38;5;124m\"\u001b[39m: allow_redirects,\n\u001b[1;32m    585\u001b[0m }\n\u001b[1;32m    586\u001b[0m send_kwargs\u001b[38;5;241m.\u001b[39mupdate(settings)\n\u001b[0;32m--> 587\u001b[0m resp \u001b[38;5;241m=\u001b[39m \u001b[38;5;28;43mself\u001b[39;49m\u001b[38;5;241;43m.\u001b[39;49m\u001b[43msend\u001b[49m\u001b[43m(\u001b[49m\u001b[43mprep\u001b[49m\u001b[43m,\u001b[49m\u001b[43m \u001b[49m\u001b[38;5;241;43m*\u001b[39;49m\u001b[38;5;241;43m*\u001b[39;49m\u001b[43msend_kwargs\u001b[49m\u001b[43m)\u001b[49m\n\u001b[1;32m    589\u001b[0m \u001b[38;5;28;01mreturn\u001b[39;00m resp\n",
      "File \u001b[0;32m/usr/local/lib/python3.10/dist-packages/requests/sessions.py:701\u001b[0m, in \u001b[0;36mSession.send\u001b[0;34m(self, request, **kwargs)\u001b[0m\n\u001b[1;32m    698\u001b[0m start \u001b[38;5;241m=\u001b[39m preferred_clock()\n\u001b[1;32m    700\u001b[0m \u001b[38;5;66;03m# Send the request\u001b[39;00m\n\u001b[0;32m--> 701\u001b[0m r \u001b[38;5;241m=\u001b[39m \u001b[43madapter\u001b[49m\u001b[38;5;241;43m.\u001b[39;49m\u001b[43msend\u001b[49m\u001b[43m(\u001b[49m\u001b[43mrequest\u001b[49m\u001b[43m,\u001b[49m\u001b[43m \u001b[49m\u001b[38;5;241;43m*\u001b[39;49m\u001b[38;5;241;43m*\u001b[39;49m\u001b[43mkwargs\u001b[49m\u001b[43m)\u001b[49m\n\u001b[1;32m    703\u001b[0m \u001b[38;5;66;03m# Total elapsed time of the request (approximately)\u001b[39;00m\n\u001b[1;32m    704\u001b[0m elapsed \u001b[38;5;241m=\u001b[39m preferred_clock() \u001b[38;5;241m-\u001b[39m start\n",
      "File \u001b[0;32m/usr/local/lib/python3.10/dist-packages/requests/adapters.py:565\u001b[0m, in \u001b[0;36mHTTPAdapter.send\u001b[0;34m(self, request, stream, timeout, verify, cert, proxies)\u001b[0m\n\u001b[1;32m    561\u001b[0m     \u001b[38;5;28;01mif\u001b[39;00m \u001b[38;5;28misinstance\u001b[39m(e\u001b[38;5;241m.\u001b[39mreason, _SSLError):\n\u001b[1;32m    562\u001b[0m         \u001b[38;5;66;03m# This branch is for urllib3 v1.22 and later.\u001b[39;00m\n\u001b[1;32m    563\u001b[0m         \u001b[38;5;28;01mraise\u001b[39;00m SSLError(e, request\u001b[38;5;241m=\u001b[39mrequest)\n\u001b[0;32m--> 565\u001b[0m     \u001b[38;5;28;01mraise\u001b[39;00m \u001b[38;5;167;01mConnectionError\u001b[39;00m(e, request\u001b[38;5;241m=\u001b[39mrequest)\n\u001b[1;32m    567\u001b[0m \u001b[38;5;28;01mexcept\u001b[39;00m ClosedPoolError \u001b[38;5;28;01mas\u001b[39;00m e:\n\u001b[1;32m    568\u001b[0m     \u001b[38;5;28;01mraise\u001b[39;00m \u001b[38;5;167;01mConnectionError\u001b[39;00m(e, request\u001b[38;5;241m=\u001b[39mrequest)\n",
      "\u001b[0;31mConnectionError\u001b[0m: HTTPConnectionPool(host='localhost', port=8086): Max retries exceeded with url: /query?q=SHOW+MEASUREMENTS&db=eda (Caused by NewConnectionError('<urllib3.connection.HTTPConnection object at 0x7f1922e091b0>: Failed to establish a new connection: [Errno 111] Connection refused'))"
     ]
    }
   ],
   "source": [
    "from visualize_widgets import *\n",
    "\n",
    "visualize_panel()"
   ]
  },
  {
   "cell_type": "code",
   "execution_count": null,
   "metadata": {},
   "outputs": [],
   "source": [
    "db connect\n",
    "performance related schema browsing mechanism\n"
   ]
  },
  {
   "cell_type": "code",
   "execution_count": 5,
   "metadata": {
    "scrolled": true
   },
   "outputs": [
    {
     "name": "stdout",
     "output_type": "stream",
     "text": [
      "update complete\n",
      "time: 0:00:00.230303\n"
     ]
    },
    {
     "data": {
      "text/plain": [
       "dict_keys(['os_metric', 'pg_stat_activity', 'pg_stat_activity_state', 'pg_stat_activity_wait_event_type', 'pg_stat_archiver', 'pg_stat_bgwriter', 'pg_stat_database', 'pg_stat_database_conflicts', 'pg_stat_user_indexes', 'pg_stat_user_tables', 'pg_statio_user_indexes', 'pg_statio_user_tables'])"
      ]
     },
     "execution_count": 5,
     "metadata": {},
     "output_type": "execute_result"
    }
   ],
   "source": [
    "from performance_analysis import *\n",
    "m = import_data_influx()\n",
    "\n",
    "m.keys()"
   ]
  },
  {
   "cell_type": "code",
   "execution_count": null,
   "metadata": {},
   "outputs": [],
   "source": [
    "dir(modal)"
   ]
  },
  {
   "cell_type": "code",
   "execution_count": 2,
   "metadata": {},
   "outputs": [
    {
     "data": {
      "text/plain": [
       "'Greece'"
      ]
     },
     "execution_count": 2,
     "metadata": {},
     "output_type": "execute_result"
    }
   ],
   "source": [
    "select = pn.widgets.Select(name='Select', groups={'Europe': ['Greece', 'France'], 'Africa': ['Algeria', 'Congo']} )\n",
    "select.value"
   ]
  },
  {
   "cell_type": "code",
   "execution_count": 41,
   "metadata": {},
   "outputs": [
    {
     "name": "stdout",
     "output_type": "stream",
     "text": [
      "139885316652720\n"
     ]
    },
    {
     "data": {
      "text/plain": [
       "'HETE'"
      ]
     },
     "execution_count": 41,
     "metadata": {},
     "output_type": "execute_result"
    }
   ],
   "source": [
    "class happy():\n",
    "    def __init__(self,t):\n",
    "        self.a = t\n",
    "    def get(self):\n",
    "        return self\n",
    "\n",
    "a = happy(\"HETE\")\n",
    "print(id(a))\n",
    "a.get().a"
   ]
  },
  {
   "cell_type": "code",
   "execution_count": 5,
   "metadata": {},
   "outputs": [
    {
     "data": {
      "application/javascript": [
       "(function(root) {\n",
       "  function now() {\n",
       "    return new Date();\n",
       "  }\n",
       "\n",
       "  var force = true;\n",
       "\n",
       "  if (typeof root._bokeh_onload_callbacks === \"undefined\" || force === true) {\n",
       "    root._bokeh_onload_callbacks = [];\n",
       "    root._bokeh_is_loading = undefined;\n",
       "  }\n",
       "\n",
       "  if (typeof (root._bokeh_timeout) === \"undefined\" || force === true) {\n",
       "    root._bokeh_timeout = Date.now() + 5000;\n",
       "    root._bokeh_failed_load = false;\n",
       "  }\n",
       "\n",
       "  function run_callbacks() {\n",
       "    try {\n",
       "      root._bokeh_onload_callbacks.forEach(function(callback) {\n",
       "        if (callback != null)\n",
       "          callback();\n",
       "      });\n",
       "    } finally {\n",
       "      delete root._bokeh_onload_callbacks\n",
       "    }\n",
       "    console.debug(\"Bokeh: all callbacks have finished\");\n",
       "  }\n",
       "\n",
       "  function load_libs(css_urls, js_urls, js_modules, callback) {\n",
       "    if (css_urls == null) css_urls = [];\n",
       "    if (js_urls == null) js_urls = [];\n",
       "    if (js_modules == null) js_modules = [];\n",
       "\n",
       "    root._bokeh_onload_callbacks.push(callback);\n",
       "    if (root._bokeh_is_loading > 0) {\n",
       "      console.debug(\"Bokeh: BokehJS is being loaded, scheduling callback at\", now());\n",
       "      return null;\n",
       "    }\n",
       "    if (js_urls.length === 0 && js_modules.length === 0) {\n",
       "      run_callbacks();\n",
       "      return null;\n",
       "    }\n",
       "    console.debug(\"Bokeh: BokehJS not loaded, scheduling load and callback at\", now());\n",
       "\n",
       "    function on_load() {\n",
       "      root._bokeh_is_loading--;\n",
       "      if (root._bokeh_is_loading === 0) {\n",
       "        console.debug(\"Bokeh: all BokehJS libraries/stylesheets loaded\");\n",
       "        run_callbacks()\n",
       "      }\n",
       "    }\n",
       "\n",
       "    function on_error() {\n",
       "      console.error(\"failed to load \" + url);\n",
       "    }\n",
       "\n",
       "    for (var i = 0; i < css_urls.length; i++) {\n",
       "      var url = css_urls[i];\n",
       "      const element = document.createElement(\"link\");\n",
       "      element.onload = on_load;\n",
       "      element.onerror = on_error;\n",
       "      element.rel = \"stylesheet\";\n",
       "      element.type = \"text/css\";\n",
       "      element.href = url;\n",
       "      console.debug(\"Bokeh: injecting link tag for BokehJS stylesheet: \", url);\n",
       "      document.body.appendChild(element);\n",
       "    }\n",
       "\n",
       "    var skip = [];\n",
       "    if (window.requirejs) {\n",
       "      window.requirejs.config({'packages': {}, 'paths': {'vega-embed': 'https://cdn.jsdelivr.net/npm/vega-embed@6/build/vega-embed.min', 'vega-lite': 'https://cdn.jsdelivr.net/npm/vega-lite@5/build/vega-lite.min', 'vega': 'https://cdn.jsdelivr.net/npm/vega@5/build/vega.min', 'gridstack': 'https://cdn.jsdelivr.net/npm/gridstack@4.2.5/dist/gridstack-h5', 'notyf': 'https://cdn.jsdelivr.net/npm/notyf@3/notyf.min', '121cf5990e': 'https://kit.fontawesome.com/121cf5990e'}, 'shim': {'gridstack': {'exports': 'GridStack'}}});\n",
       "      require([\"vega-embed\"], function(vegaEmbed) {\n",
       "\twindow.vegaEmbed = vegaEmbed\n",
       "\ton_load()\n",
       "      })\n",
       "      require([\"vega-lite\"], function(vl) {\n",
       "\twindow.vl = vl\n",
       "\ton_load()\n",
       "      })\n",
       "      require([\"vega\"], function(vega) {\n",
       "\twindow.vega = vega\n",
       "\ton_load()\n",
       "      })\n",
       "      require([\"gridstack\"], function(GridStack) {\n",
       "\twindow.GridStack = GridStack\n",
       "\ton_load()\n",
       "      })\n",
       "      require([\"notyf\"], function() {\n",
       "\ton_load()\n",
       "      })\n",
       "      require([\"121cf5990e\"], function(fontawesome) {\n",
       "\twindow.fontawesome = fontawesome\n",
       "\ton_load()\n",
       "      })\n",
       "      root._bokeh_is_loading = css_urls.length + 6;\n",
       "    } else {\n",
       "      root._bokeh_is_loading = css_urls.length + js_urls.length + js_modules.length;\n",
       "    }    if (((window['vega'] !== undefined) && (!(window['vega'] instanceof HTMLElement))) || window.requirejs) {\n",
       "      var urls = ['https://cdn.holoviz.org/panel/0.14.2/dist/bundled/vegaplot/vega@5'];\n",
       "      for (var i = 0; i < urls.length; i++) {\n",
       "        skip.push(urls[i])\n",
       "      }\n",
       "    }    if (((window['vegaLite'] !== undefined) && (!(window['vegaLite'] instanceof HTMLElement))) || window.requirejs) {\n",
       "      var urls = ['https://cdn.holoviz.org/panel/0.14.2/dist/bundled/vegaplot/vega-lite@5'];\n",
       "      for (var i = 0; i < urls.length; i++) {\n",
       "        skip.push(urls[i])\n",
       "      }\n",
       "    }    if (((window['vegaEmbed'] !== undefined) && (!(window['vegaEmbed'] instanceof HTMLElement))) || window.requirejs) {\n",
       "      var urls = ['https://cdn.holoviz.org/panel/0.14.2/dist/bundled/vegaplot/vega-embed@6'];\n",
       "      for (var i = 0; i < urls.length; i++) {\n",
       "        skip.push(urls[i])\n",
       "      }\n",
       "    }    if (((window['GridStack'] !== undefined) && (!(window['GridStack'] instanceof HTMLElement))) || window.requirejs) {\n",
       "      var urls = ['https://cdn.holoviz.org/panel/0.14.2/dist/bundled/gridstack/gridstack@4.2.5/dist/gridstack-h5.js'];\n",
       "      for (var i = 0; i < urls.length; i++) {\n",
       "        skip.push(urls[i])\n",
       "      }\n",
       "    }    if (((window['Notyf'] !== undefined) && (!(window['Notyf'] instanceof HTMLElement))) || window.requirejs) {\n",
       "      var urls = ['https://cdn.holoviz.org/panel/0.14.2/dist/bundled/notificationarea/notyf@3/notyf.min.js'];\n",
       "      for (var i = 0; i < urls.length; i++) {\n",
       "        skip.push(urls[i])\n",
       "      }\n",
       "    }    for (var i = 0; i < js_urls.length; i++) {\n",
       "      var url = js_urls[i];\n",
       "      if (skip.indexOf(url) >= 0) {\n",
       "\tif (!window.requirejs) {\n",
       "\t  on_load();\n",
       "\t}\n",
       "\tcontinue;\n",
       "      }\n",
       "      var element = document.createElement('script');\n",
       "      element.onload = on_load;\n",
       "      element.onerror = on_error;\n",
       "      element.async = false;\n",
       "      element.src = url;\n",
       "      console.debug(\"Bokeh: injecting script tag for BokehJS library: \", url);\n",
       "      document.head.appendChild(element);\n",
       "    }\n",
       "    for (var i = 0; i < js_modules.length; i++) {\n",
       "      var url = js_modules[i];\n",
       "      if (skip.indexOf(url) >= 0) {\n",
       "\tif (!window.requirejs) {\n",
       "\t  on_load();\n",
       "\t}\n",
       "\tcontinue;\n",
       "      }\n",
       "      var element = document.createElement('script');\n",
       "      element.onload = on_load;\n",
       "      element.onerror = on_error;\n",
       "      element.async = false;\n",
       "      element.src = url;\n",
       "      element.type = \"module\";\n",
       "      console.debug(\"Bokeh: injecting script tag for BokehJS library: \", url);\n",
       "      document.head.appendChild(element);\n",
       "    }\n",
       "    if (!js_urls.length && !js_modules.length) {\n",
       "      on_load()\n",
       "    }\n",
       "  };\n",
       "\n",
       "  function inject_raw_css(css) {\n",
       "    const element = document.createElement(\"style\");\n",
       "    element.appendChild(document.createTextNode(css));\n",
       "    document.body.appendChild(element);\n",
       "  }\n",
       "\n",
       "  var js_urls = [\"https://cdn.holoviz.org/panel/0.14.2/dist/bundled/vegaplot/vega@5\", \"https://cdn.holoviz.org/panel/0.14.2/dist/bundled/vegaplot/vega-lite@5\", \"https://cdn.holoviz.org/panel/0.14.2/dist/bundled/vegaplot/vega-embed@6\", \"https://cdn.bokeh.org/bokeh/release/bokeh-2.4.3.min.js\", \"https://cdn.bokeh.org/bokeh/release/bokeh-gl-2.4.3.min.js\", \"https://cdn.bokeh.org/bokeh/release/bokeh-widgets-2.4.3.min.js\", \"https://cdn.bokeh.org/bokeh/release/bokeh-tables-2.4.3.min.js\", \"https://cdn.bokeh.org/bokeh/release/bokeh-mathjax-2.4.3.min.js\", \"https://cdn.holoviz.org/panel/0.14.2/dist/bundled/gridstack/gridstack@4.2.5/dist/gridstack-h5.js\", \"https://cdn.jsdelivr.net/npm/a11y-dialog@7/dist/a11y-dialog.min.js\", \"https://kit.fontawesome.com/121cf5990e.js\", \"https://unpkg.com/@holoviz/panel@0.14.2/dist/panel.min.js\"];\n",
       "  var js_modules = [];\n",
       "  var css_urls = [\"https://cdn.holoviz.org/panel/0.14.2/dist/bundled/gridstack/gridstack@4.2.5/dist/gridstack.min.css\", \"https://cdn.holoviz.org/panel/0.14.2/dist/bundled/gridstack/gridstack@4.2.5/dist/gridstack-extra.min.css\", \"https://cdn.holoviz.org/panel/0.14.2/dist/css/dataframe.css\", \"https://cdn.holoviz.org/panel/0.14.2/dist/css/json.css\", \"https://cdn.holoviz.org/panel/0.14.2/dist/css/loading.css\", \"https://cdn.holoviz.org/panel/0.14.2/dist/css/markdown.css\", \"https://cdn.holoviz.org/panel/0.14.2/dist/css/widgets.css\", \"https://cdn.holoviz.org/panel/0.14.2/dist/css/debugger.css\", \"https://cdn.holoviz.org/panel/0.14.2/dist/css/alerts.css\", \"https://cdn.holoviz.org/panel/0.14.2/dist/css/card.css\"];\n",
       "  var inline_js = [    function(Bokeh) {\n",
       "      inject_raw_css(\"\\n    .bk.pn-loading.arc:before {\\n      background-image: url(\\\"data:image/svg+xml;base64,PHN2ZyB4bWxucz0iaHR0cDovL3d3dy53My5vcmcvMjAwMC9zdmciIHN0eWxlPSJtYXJnaW46IGF1dG87IGJhY2tncm91bmQ6IG5vbmU7IGRpc3BsYXk6IGJsb2NrOyBzaGFwZS1yZW5kZXJpbmc6IGF1dG87IiB2aWV3Qm94PSIwIDAgMTAwIDEwMCIgcHJlc2VydmVBc3BlY3RSYXRpbz0ieE1pZFlNaWQiPiAgPGNpcmNsZSBjeD0iNTAiIGN5PSI1MCIgZmlsbD0ibm9uZSIgc3Ryb2tlPSIjYzNjM2MzIiBzdHJva2Utd2lkdGg9IjEwIiByPSIzNSIgc3Ryb2tlLWRhc2hhcnJheT0iMTY0LjkzMzYxNDMxMzQ2NDE1IDU2Ljk3Nzg3MTQzNzgyMTM4Ij4gICAgPGFuaW1hdGVUcmFuc2Zvcm0gYXR0cmlidXRlTmFtZT0idHJhbnNmb3JtIiB0eXBlPSJyb3RhdGUiIHJlcGVhdENvdW50PSJpbmRlZmluaXRlIiBkdXI9IjFzIiB2YWx1ZXM9IjAgNTAgNTA7MzYwIDUwIDUwIiBrZXlUaW1lcz0iMDsxIj48L2FuaW1hdGVUcmFuc2Zvcm0+ICA8L2NpcmNsZT48L3N2Zz4=\\\");\\n      background-size: auto calc(min(50%, 400px));\\n    }\\n    \");\n",
       "    },    function(Bokeh) {\n",
       "      inject_raw_css(\"\\n@-ms-keyframes spin {\\n    from {\\n        -ms-transform: rotate(0deg);\\n    }\\n    to {\\n        -ms-transform: rotate(360deg);\\n    }\\n}\\n@-moz-keyframes spin {\\n    from {\\n        -moz-transform: rotate(0deg);\\n    }\\n    to {\\n        -moz-transform: rotate(360deg);\\n    }\\n}\\n@-webkit-keyframes spin {\\n    from {\\n        -webkit-transform: rotate(0deg);\\n    }\\n    to {\\n        -webkit-transform: rotate(360deg);\\n    }\\n}\\n@keyframes spin {\\n    from {\\n        transform: rotate(0deg);\\n    }\\n    to {\\n        transform: rotate(360deg);\\n    }\\n}\\n    \");\n",
       "    },    function(Bokeh) {\n",
       "      inject_raw_css(\"\\n.bk-btn-light .bk-btn-default {\\n    border-width: 0px;\\n}\\n\\n.bk-btn-light .bk-btn-default:hover, .bk-btn-light .bk-btn-default:focus {\\n            border-width: 1px;\\n            color: #212529;\\n            background-color: #e2e6ea;\\n            border-color: #dae0e5;\\n}\\n\\n.bk-btn-light .bk-btn-default:active, .bk-btn-light .bk-btn-default.bk-active  {\\n            border-width: 1px;\\n            color: #212529;\\n            background-color: #dae0e5;\\n            border-color: #d3d9df;\\n            box-shadow: none;\\n}\\n\");\n",
       "    },    function(Bokeh) {\n",
       "      inject_raw_css(\"\\n    .none {\\n        display: none;\\n    }\\n    .small-btn .bk-btn-group button {\\n        border: 0px;\\n        background-color: transparent;\\n        border-radius: 10px;\\n        height: 20px;\\n        width: 20px;\\n        font-size: 100%;\\n    }\\n    .btn .bk-btn-group button, .btn_focus .bk-btn-group button:hover, .btn_focus .bk-btn-group button:focus {\\n\\n        border: 0px;\\n        background-color: transparent;\\n        border-radius: 10px;\\n        height: 30px;\\n        width: 100px;\\n        box-shadow: inset 0px 0px 0px ;\\n        font-size: 100%;\\n        text-align: left; \\n    }\\n    .btn_focus .bk-btn-group button {\\n\\n        border: 0px;\\n        background-color: rgba(255, 0, 0, 0.2);\\n        border-radius: 10px;\\n        height: 30px;\\n        width: 100px;\\n\\n        font-size: 100%;\\n        text-align: left; \\n    }\\n    .small-btn .bk-btn-group button:hover {\\n        background-color: transparent;\\n    }\\n    .small-btn .bk-btn-group button:focus {\\n        background-color: transparent;\\n        box-shadow: inset 0px 0px 0px ;\\n    }\\n    .btn .bk-btn-group button {\\n\\n        border: 0px;\\n        background-color: transparent;\\n        border-radius: 10px;\\n        height: 30px;\\n        width: 100px;\\n\\n        font-size: 100%;\\n        text-align: left; \\n    }\\n    .btn .bk-btn-group button:hover {\\n        background-color: transparent;\\n    }\\n    .btn .bk-btn-group button:focus {\\n        background-color: transparent;\\n        box-shadow: inset 0px 0px 0px ;\\n    }\\n    .btn .bk-btn-group button:disabled {\\n        background-color: transparent;\\n        box-shadow: inset 0px 0px 0px ;\\n    }\\n    .btn_round .bk-btn-group button {\\n        border: 1px royalblue solid;\\n        background-color: white;\\n        border-radius: 15px;\\n        height: 30px;\\n        font-size: 100%;\\n        text-align: center; \\n\\n\\n    }\\n    .btn_round .bk-btn-group button:hover {\\n        background-color: white;\\n        border: 1px royalblue solid;\\n\\n    }\\n    .bk.bk-btn.bk-btn-default{\\n        display: inline-block;\\n        background-color: transparent;\\n        border: 0px;\\n        text-align: start;\\n        vertical-align: middle;\\n        white-space: nowrap;\\n        padding: 6px 12px;\\n        font-size: 15px;\\n        border: 0px;\\n        border-radius: 0px;\\n        outline: 0;\\n        box-shadow: none;\\n    }\\n    .bk.bk-btn.bk-btn-default.bk-active{\\n        display: inline-block;\\n        background-color: lightgray;\\n        border: 0px;\\n        text-align: start;\\n        vertical-align: middle;\\n        white-space: nowrap;\\n        padding: 6px 12px;\\n        font-size: 15px;\\n        border: 0px;\\n        border-radius: 0px;\\n        outline: 0;\\n        box-shadow: none;\\n    }\\n    .bk.bk-radio.bk-btn-default.bk-active{\\n        display: inline-block;\\n        background-color: lightgray;\\n        border: 0px;\\n        text-align: start;\\n        vertical-align: middle;\\n        white-space: nowrap;\\n        padding: 6px 12px;\\n        font-size: 15px;\\n        border: 0px;\\n        border-radius: 0px;\\n        outline: 0;\\n        box-shadow: none;\\n    }\\n    .bk.center-box {\\n        display: flex;\\n        justify-content: center;\\n        border: 0px;\\n        \\n        }\\n    .bk.box {\\n        background: WhiteSmoke;\\n        border-radius: 10px;\\n        border: 0px;\\n        height: 40px;\\n        }\\n    .bk.float_box {\\n        display: flex;\\n        align-items: center;\\n        justify-content: center;\\n        align: center;\\n        align-self: start;\\n        background: white;\\n        border-radius: 15px;\\n        border: 1px royalblue solid;\\n        height: 40px;\\n        margin-right: 30px;\\n        margin-bottom: 10px;\\n        margin-top: -10px;\\n        \\n        }\\n    .bk.float_box_invisible {\\n        display: none;\\n        }\\n\\n    .picker {\\n        width: 300px;\\n    }\\n    \\n    .bk-root .bk-btn-group:not(.bk-vertical) > .bk-btn:first-child:not(:last-child), .bk-root .bk-btn-group:not(.bk-vertical) > .bk-btn:not(:first-child):last-child {\\n        border-radius: 15px;\\n        margin: 10px;\\n    }\\n    .bk-root .bk-btn-success, .bk-root .bk-btn-success.bk-active, .bk-root .bk-btn-success:hover{\\n        background-color: transparent;\\n        border: 0px;\\n        border-color: transparent;\\n        color: black;\\n        font-size: 14px;\\n        text-align: start;\\n        box-shadow: none;\\n    }\\n    .title .bk-input, .title .bk-input:focus{\\n        border: 0px;\\n        border-radious: 0px;\\n        font-size: 16px;\\n        font-weight : bold;\\n        outline: none;\\n        box-shadow: none;\\n    }\\n    .title .bk-input:hover{\\n        text-decoration : underline;\\n    }\\n    .dialog-content{\\n        margin: 0px;\\n        z-index: 100002;\\n        background-color: WhiteSmoke;\\n        padding: 0px;\\n        padding-bottom: 0px;\\n    \\n        position: fixed;\\n        top: 9%;\\n        left: 80%;\\n        bottom: 100%;\\n        right: 100%;\\n        \\n    }\\n    .dialog-overlay{\\n        background-color: transparent !important;\\n\\n    }\\n    .bk .tile-box{\\n        background-color: transparent !important;\\n        border-color: rgba(0,0,0,.12);\\n        cursor: move;\\n\\n    }\\n    \");\n",
       "    },    function(Bokeh) {\n",
       "      Bokeh.set_log_level(\"info\");\n",
       "    },\n",
       "    function(Bokeh) {\n",
       "      /* BEGIN awesome_panel_extensions.js */\n",
       "      /*!\n",
       "       * Copyright (c) 2012 - 2022, Anaconda, Inc., and Bokeh Contributors\n",
       "       * All rights reserved.\n",
       "       * \n",
       "       * Redistribution and use in source and binary forms, with or without modification,\n",
       "       * are permitted provided that the following conditions are met:\n",
       "       * \n",
       "       * Redistributions of source code must retain the above copyright notice,\n",
       "       * this list of conditions and the following disclaimer.\n",
       "       * \n",
       "       * Redistributions in binary form must reproduce the above copyright notice,\n",
       "       * this list of conditions and the following disclaimer in the documentation\n",
       "       * and/or other materials provided with the distribution.\n",
       "       * \n",
       "       * Neither the name of Anaconda nor the names of any contributors\n",
       "       * may be used to endorse or promote products derived from this software\n",
       "       * without specific prior written permission.\n",
       "       * \n",
       "       * THIS SOFTWARE IS PROVIDED BY THE COPYRIGHT HOLDERS AND CONTRIBUTORS \"AS IS\"\n",
       "       * AND ANY EXPRESS OR IMPLIED WARRANTIES, INCLUDING, BUT NOT LIMITED TO, THE\n",
       "       * IMPLIED WARRANTIES OF MERCHANTABILITY AND FITNESS FOR A PARTICULAR PURPOSE\n",
       "       * ARE DISCLAIMED. IN NO EVENT SHALL THE COPYRIGHT OWNER OR CONTRIBUTORS BE\n",
       "       * LIABLE FOR ANY DIRECT, INDIRECT, INCIDENTAL, SPECIAL, EXEMPLARY, OR\n",
       "       * CONSEQUENTIAL DAMAGES (INCLUDING, BUT NOT LIMITED TO, PROCUREMENT OF\n",
       "       * SUBSTITUTE GOODS OR SERVICES; LOSS OF USE, DATA, OR PROFITS; OR BUSINESS\n",
       "       * INTERRUPTION) HOWEVER CAUSED AND ON ANY THEORY OF LIABILITY, WHETHER IN\n",
       "       * CONTRACT, STRICT LIABILITY, OR TORT (INCLUDING NEGLIGENCE OR OTHERWISE)\n",
       "       * ARISING IN ANY WAY OUT OF THE USE OF THIS SOFTWARE, EVEN IF ADVISED OF\n",
       "       * THE POSSIBILITY OF SUCH DAMAGE.\n",
       "       */\n",
       "      (function(root, factory) {\n",
       "        factory(root[\"Bokeh\"], undefined);\n",
       "      })(this, function(Bokeh, version) {\n",
       "        let define;\n",
       "        return (function(modules, entry, aliases, externals) {\n",
       "          const bokeh = typeof Bokeh !== \"undefined\" && (version != null ? Bokeh[version] : Bokeh);\n",
       "          if (bokeh != null) {\n",
       "            return bokeh.register_plugin(modules, entry, aliases);\n",
       "          } else {\n",
       "            throw new Error(\"Cannot find Bokeh \" + version + \". You have to load it prior to loading plugins.\");\n",
       "          }\n",
       "        })\n",
       "      ({\n",
       "      \"67f4331514\": /* index.js */ function _(require, module, exports, __esModule, __esExport) {\n",
       "          __esModule();\n",
       "          const tslib_1 = require(\"tslib\");\n",
       "          const AwesomePanelExtensions = (0, tslib_1.__importStar)(require(\"27c14fc46f\") /* ./bokeh_extensions */);\n",
       "          exports.AwesomePanelExtensions = AwesomePanelExtensions;\n",
       "          const base_1 = require(\"@bokehjs/base\");\n",
       "          (0, base_1.register_models)(AwesomePanelExtensions);\n",
       "      },\n",
       "      \"27c14fc46f\": /* bokeh_extensions/index.js */ function _(require, module, exports, __esModule, __esExport) {\n",
       "          __esModule();\n",
       "          var fast_anchor_1 = require(\"d8ad891f6b\") /* ./fast/fast_anchor */;\n",
       "          __esExport(\"FastAnchor\", fast_anchor_1.FastAnchor);\n",
       "          var fast_button_1 = require(\"2a6cfb6670\") /* ./fast/fast_button */;\n",
       "          __esExport(\"FastButton\", fast_button_1.FastButton);\n",
       "          var fast_checkbox_group_1 = require(\"bd6aa043dd\") /* ./fast/fast_checkbox_group */;\n",
       "          __esExport(\"FastCheckboxGroup\", fast_checkbox_group_1.FastCheckboxGroup);\n",
       "          var fast_switch_group_1 = require(\"fd1c589b07\") /* ./fast/fast_switch_group */;\n",
       "          __esExport(\"FastSwitchGroup\", fast_switch_group_1.FastSwitchGroup);\n",
       "          var fast_textarea_input_1 = require(\"f9509d26e7\") /* ./fast/fast_textarea_input */;\n",
       "          __esExport(\"FastTextAreaInput\", fast_textarea_input_1.FastTextAreaInput);\n",
       "          var fast_text_input_1 = require(\"7910955c89\") /* ./fast/fast_text_input */;\n",
       "          __esExport(\"FastTextInput\", fast_text_input_1.FastTextInput);\n",
       "          var pivot_table_1 = require(\"f7bb529305\") /* ./pivot_table */;\n",
       "          __esExport(\"PivotTable\", pivot_table_1.PivotTable);\n",
       "          var icon_1 = require(\"814c7e898b\") /* ./icon */;\n",
       "          __esExport(\"Icon\", icon_1.Icon);\n",
       "          var web_component_1 = require(\"d260eb7abe\") /* ./web_component */;\n",
       "          __esExport(\"WebComponent\", web_component_1.WebComponent);\n",
       "      },\n",
       "      \"d8ad891f6b\": /* bokeh_extensions/fast/fast_anchor.js */ function _(require, module, exports, __esModule, __esExport) {\n",
       "          __esModule();\n",
       "          const html_box_1 = require(\"@bokehjs/models/layouts/html_box\");\n",
       "          class FastAnchorView extends html_box_1.HTMLBoxView {\n",
       "              setAttr(attribute, value) {\n",
       "                  const anchor_el = this.anchor_el;\n",
       "                  if (value === null) {\n",
       "                      anchor_el.setAttribute(attribute, false);\n",
       "                  }\n",
       "                  else {\n",
       "                      anchor_el.setAttribute(attribute, value);\n",
       "                  }\n",
       "              }\n",
       "              connect_signals() {\n",
       "                  super.connect_signals();\n",
       "                  this.connect(this.model.properties.name.change, () => {\n",
       "                      if (this.model.name === null) {\n",
       "                          this.anchor_el.innerHTML = \"\";\n",
       "                      }\n",
       "                      else {\n",
       "                          this.anchor_el.innerHTML = this.model.name;\n",
       "                      }\n",
       "                  });\n",
       "                  this.connect(this.model.properties.appearance.change, () => {\n",
       "                      this.setAttr(\"appearance\", this.model.appearance);\n",
       "                  });\n",
       "                  this.connect(this.model.properties.href.change, () => {\n",
       "                      this.setAttr(\"href\", this.model.href);\n",
       "                  });\n",
       "                  this.connect(this.model.properties.hreflang.change, () => {\n",
       "                      this.setAttr(\"hreflang\", this.model.hreflang);\n",
       "                  });\n",
       "                  this.connect(this.model.properties.ping.change, () => {\n",
       "                      this.setAttr(\"ping\", this.model.ping);\n",
       "                  });\n",
       "                  this.connect(this.model.properties.href.change, () => {\n",
       "                      this.setAttr(\"referrerpolicy\", this.model.referrerpolicy);\n",
       "                  });\n",
       "                  this.connect(this.model.properties.download.change, () => {\n",
       "                      this.setAttr(\"download\", this.model.download);\n",
       "                  });\n",
       "                  this.connect(this.model.properties.referrer.change, () => {\n",
       "                      this.setAttr(\"referrer\", this.model.referrer);\n",
       "                  });\n",
       "                  this.connect(this.model.properties.rel.change, () => {\n",
       "                      this.setAttr(\"rel\", this.model.rel);\n",
       "                  });\n",
       "                  this.connect(this.model.properties.target.change, () => {\n",
       "                      this.setAttr(\"mimetype\", this.model.mimetype);\n",
       "                  });\n",
       "              }\n",
       "              render() {\n",
       "                  super.render();\n",
       "                  const anchor_el = document.createElement(\"fast-anchor\");\n",
       "                  this.anchor_el = anchor_el;\n",
       "                  this.anchor_el.style.width = \"100%\";\n",
       "                  this.el.appendChild(this.anchor_el);\n",
       "                  if (this.model.name !== null) {\n",
       "                      this.anchor_el.innerHTML = this.model.name;\n",
       "                  }\n",
       "                  if (this.model.appearance !== null) {\n",
       "                      anchor_el.appearance = this.model.appearance;\n",
       "                  }\n",
       "                  if (this.model.href !== null) {\n",
       "                      anchor_el.href = this.model.href;\n",
       "                  }\n",
       "                  if (this.model.hreflang !== null) {\n",
       "                      anchor_el.hreflang = this.model.hreflang;\n",
       "                  }\n",
       "                  if (this.model.ping !== null) {\n",
       "                      anchor_el.ping = this.model.ping;\n",
       "                  }\n",
       "                  if (this.model.referrerpolicy !== null) {\n",
       "                      anchor_el.referrerpolicy = this.model.referrerpolicy;\n",
       "                  }\n",
       "                  if (this.model.download !== null) {\n",
       "                      anchor_el.download = this.model.download;\n",
       "                  }\n",
       "                  if (this.model.referrer !== null) {\n",
       "                      anchor_el.ref = this.model.referrer;\n",
       "                  }\n",
       "                  if (this.model.rel !== null) {\n",
       "                      anchor_el.rel = this.model.rel;\n",
       "                  }\n",
       "                  if (this.model.target !== null) {\n",
       "                      anchor_el.target = this.model.target;\n",
       "                  }\n",
       "                  if (this.model.mimetype !== null) {\n",
       "                      anchor_el.mimetype = this.model.mimetype;\n",
       "                  }\n",
       "              }\n",
       "          }\n",
       "          exports.FastAnchorView = FastAnchorView;\n",
       "          FastAnchorView.__name__ = \"FastAnchorView\";\n",
       "          class FastAnchor extends html_box_1.HTMLBox {\n",
       "              constructor(attrs) {\n",
       "                  super(attrs);\n",
       "              }\n",
       "              static init_FastAnchor() {\n",
       "                  this.prototype.default_view = FastAnchorView;\n",
       "                  this.define(({ String }) => ({\n",
       "                      appearance: [String,],\n",
       "                      download: [String,],\n",
       "                      href: [String,],\n",
       "                      hreflang: [String,],\n",
       "                      ping: [String,],\n",
       "                      referrerpolicy: [String,],\n",
       "                      referrer: [String,],\n",
       "                      rel: [String,],\n",
       "                      target: [String,],\n",
       "                      mimetype: [String,],\n",
       "                  }));\n",
       "              }\n",
       "          }\n",
       "          exports.FastAnchor = FastAnchor;\n",
       "          FastAnchor.__name__ = \"FastAnchor\";\n",
       "          FastAnchor.__module__ = \"awesome_panel_extensions.bokeh_extensions.fast.fast_anchor\";\n",
       "          FastAnchor.init_FastAnchor();\n",
       "      },\n",
       "      \"2a6cfb6670\": /* bokeh_extensions/fast/fast_button.js */ function _(require, module, exports, __esModule, __esExport) {\n",
       "          __esModule();\n",
       "          const button_1 = require(\"@bokehjs/models/widgets/button\");\n",
       "          // Browse the fast-button api here  https://explore.fast.design/components/fast-button\n",
       "          class FastButtonView extends button_1.ButtonView {\n",
       "              _render_button(..._) {\n",
       "                  const button = document.createElement(\"fast-button\");\n",
       "                  button.innerText = this.model.label;\n",
       "                  button.disabled = this.model.disabled;\n",
       "                  button.appearance = this.model.appearance;\n",
       "                  button.autofocus = this.model.autofocus;\n",
       "                  button.style.width = \"100%\";\n",
       "                  button.style.height = \"100%\";\n",
       "                  return button;\n",
       "              }\n",
       "          }\n",
       "          exports.FastButtonView = FastButtonView;\n",
       "          FastButtonView.__name__ = \"FastButtonView\";\n",
       "          class FastButton extends button_1.Button {\n",
       "              // __view_type__: FastButtonView\n",
       "              constructor(attrs) {\n",
       "                  super(attrs);\n",
       "              }\n",
       "              static init_FastButton() {\n",
       "                  this.prototype.default_view = FastButtonView;\n",
       "                  this.define(({ Boolean, String }) => ({\n",
       "                      appearance: [String, \"neutral\"],\n",
       "                      autofocus: [Boolean, false],\n",
       "                  }));\n",
       "              }\n",
       "          }\n",
       "          exports.FastButton = FastButton;\n",
       "          FastButton.__name__ = \"FastButton\";\n",
       "          FastButton.__module__ = \"awesome_panel_extensions.bokeh_extensions.fast.fast_button\";\n",
       "          FastButton.init_FastButton();\n",
       "      },\n",
       "      \"bd6aa043dd\": /* bokeh_extensions/fast/fast_checkbox_group.js */ function _(require, module, exports, __esModule, __esExport) {\n",
       "          __esModule();\n",
       "          const tslib_1 = require(\"tslib\");\n",
       "          const checkbox_group_1 = require(\"@bokehjs/models/widgets/checkbox_group\");\n",
       "          const inputs = (0, tslib_1.__importStar)(require(\"@bokehjs/styles/widgets/inputs.css\"));\n",
       "          const dom_1 = require(\"@bokehjs/core/dom\");\n",
       "          const array_1 = require(\"@bokehjs/core/util/array\");\n",
       "          // Browse the fast-button api here  https://explore.fast.design/components/fast-button\n",
       "          class FastCheckboxGroupView extends checkbox_group_1.CheckboxGroupView {\n",
       "              render() {\n",
       "                  // Cannot call super.render() as this will add the group twice\n",
       "                  // super.render()\n",
       "                  const group = (0, dom_1.div)({ class: [inputs.input_group, this.model.inline ? inputs.inline : null] });\n",
       "                  this.el.innerHTML = \"\";\n",
       "                  this.el.appendChild(group);\n",
       "                  const { active, labels } = this.model;\n",
       "                  this._inputs = [];\n",
       "                  for (let i = 0; i < labels.length; i++) {\n",
       "                      let fastCheckBox = document.createElement(\"fast-checkbox\");\n",
       "                      if (this.model.readonly)\n",
       "                          // Setting the property did not work for me. Thus I set the attribute\n",
       "                          fastCheckBox.setAttribute(\"readonly\", true);\n",
       "                      fastCheckBox.innerHTML = labels[i];\n",
       "                      const checkbox = fastCheckBox;\n",
       "                      checkbox.value = `${i}`;\n",
       "                      // const checkbox = input({type: `checkbox`, value: `${i}`})\n",
       "                      checkbox.addEventListener(\"change\", () => this.change_active(i));\n",
       "                      this._inputs.push(checkbox);\n",
       "                      if (this.model.disabled)\n",
       "                          checkbox.disabled = true;\n",
       "                      if ((0, array_1.includes)(active, i))\n",
       "                          checkbox.checked = true;\n",
       "                      // const label_el = label({}, checkbox, span({}, labels[i]))\n",
       "                      group.appendChild(checkbox);\n",
       "                  }\n",
       "              }\n",
       "          }\n",
       "          exports.FastCheckboxGroupView = FastCheckboxGroupView;\n",
       "          FastCheckboxGroupView.__name__ = \"FastCheckboxGroupView\";\n",
       "          class FastCheckboxGroup extends checkbox_group_1.CheckboxGroup {\n",
       "              constructor(attrs) {\n",
       "                  super(attrs);\n",
       "              }\n",
       "              static init_FastCheckboxGroup() {\n",
       "                  this.prototype.default_view = FastCheckboxGroupView;\n",
       "                  this.define(({ Boolean }) => ({\n",
       "                      readonly: [Boolean,],\n",
       "                  }));\n",
       "              }\n",
       "          }\n",
       "          exports.FastCheckboxGroup = FastCheckboxGroup;\n",
       "          FastCheckboxGroup.__name__ = \"FastCheckboxGroup\";\n",
       "          FastCheckboxGroup.__module__ = \"awesome_panel_extensions.bokeh_extensions.fast.fast_checkbox_group\";\n",
       "          FastCheckboxGroup.init_FastCheckboxGroup();\n",
       "      },\n",
       "      \"fd1c589b07\": /* bokeh_extensions/fast/fast_switch_group.js */ function _(require, module, exports, __esModule, __esExport) {\n",
       "          __esModule();\n",
       "          const tslib_1 = require(\"tslib\");\n",
       "          const checkbox_group_1 = require(\"@bokehjs/models/widgets/checkbox_group\");\n",
       "          const inputs = (0, tslib_1.__importStar)(require(\"@bokehjs/styles/widgets/inputs.css\"));\n",
       "          const dom_1 = require(\"@bokehjs/core/dom\");\n",
       "          const array_1 = require(\"@bokehjs/core/util/array\");\n",
       "          // Browse the fast-switch api here https://explore.fast.design/components/fast-switch\n",
       "          class FastSwitchGroupView extends checkbox_group_1.CheckboxGroupView {\n",
       "              render() {\n",
       "                  // Cannot call super.render() as this will add the group twice\n",
       "                  // super.render()\n",
       "                  const group = (0, dom_1.div)({ class: [inputs.input_group, this.model.inline ? inputs.inline : null] });\n",
       "                  this.el.innerHTML = \"\";\n",
       "                  this.el.appendChild(group);\n",
       "                  const { active, labels } = this.model;\n",
       "                  this._inputs = [];\n",
       "                  for (let i = 0; i < labels.length; i++) {\n",
       "                      let FastSwitch = document.createElement(\"fast-switch\");\n",
       "                      if (this.model.readonly)\n",
       "                          // Setting the property did not work for me. Thus I set the attribute\n",
       "                          FastSwitch.setAttribute(\"readonly\", true);\n",
       "                      FastSwitch.innerHTML = labels[i];\n",
       "                      FastSwitch.innerHTML = labels[i];\n",
       "                      const fastSwitch = FastSwitch;\n",
       "                      fastSwitch.value = `${i}`;\n",
       "                      // const checkbox = input({type: `checkbox`, value: `${i}`})\n",
       "                      fastSwitch.addEventListener(\"change\", () => this.change_active(i));\n",
       "                      this._inputs.push(fastSwitch);\n",
       "                      if (this.model.disabled)\n",
       "                          fastSwitch.disabled = true;\n",
       "                      if ((0, array_1.includes)(active, i))\n",
       "                          fastSwitch.checked = true;\n",
       "                      const checked_message = document.createElement(\"span\");\n",
       "                      checked_message.setAttribute(\"slot\", \"checked-message\");\n",
       "                      checked_message.innerHTML = this.model.checked_message;\n",
       "                      fastSwitch.appendChild(checked_message);\n",
       "                      const unchecked_message = document.createElement(\"span\");\n",
       "                      unchecked_message.setAttribute(\"slot\", \"unchecked-message\");\n",
       "                      unchecked_message.innerHTML = this.model.unchecked_message;\n",
       "                      fastSwitch.appendChild(unchecked_message);\n",
       "                      // const label_el = label({}, checkbox, span({}, labels[i]))\n",
       "                      group.appendChild(fastSwitch);\n",
       "                  }\n",
       "              }\n",
       "          }\n",
       "          exports.FastSwitchGroupView = FastSwitchGroupView;\n",
       "          FastSwitchGroupView.__name__ = \"FastSwitchGroupView\";\n",
       "          class FastSwitchGroup extends checkbox_group_1.CheckboxGroup {\n",
       "              constructor(attrs) {\n",
       "                  super(attrs);\n",
       "              }\n",
       "              static init_FastSwitchGroup() {\n",
       "                  this.prototype.default_view = FastSwitchGroupView;\n",
       "                  this.define(({ Boolean, String }) => ({\n",
       "                      readonly: [Boolean,],\n",
       "                      checked_message: [String,],\n",
       "                      unchecked_message: [String,],\n",
       "                  }));\n",
       "              }\n",
       "          }\n",
       "          exports.FastSwitchGroup = FastSwitchGroup;\n",
       "          FastSwitchGroup.__name__ = \"FastSwitchGroup\";\n",
       "          FastSwitchGroup.__module__ = \"awesome_panel_extensions.bokeh_extensions.fast.fast_switch_group\";\n",
       "          FastSwitchGroup.init_FastSwitchGroup();\n",
       "      },\n",
       "      \"f9509d26e7\": /* bokeh_extensions/fast/fast_textarea_input.js */ function _(require, module, exports, __esModule, __esExport) {\n",
       "          __esModule();\n",
       "          const textarea_input_1 = require(\"@bokehjs/models/widgets/textarea_input\");\n",
       "          const input_widget_1 = require(\"@bokehjs/models/widgets/input_widget\");\n",
       "          // I tried to inherit from TextAreaInputView but I could not\n",
       "          // get it working. It created two textareainputs.\n",
       "          class FastTextAreaInputView extends input_widget_1.InputWidgetView {\n",
       "              get input_el_any() {\n",
       "                  return this.input_el;\n",
       "              }\n",
       "              connect_signals() {\n",
       "                  super.connect_signals();\n",
       "                  this.connect(this.model.properties.name.change, () => { var _a; return this.input_el.name = (_a = this.model.name) !== null && _a !== void 0 ? _a : \"\"; });\n",
       "                  this.connect(this.model.properties.value.change, () => { this.input_el.value = this.model.value; });\n",
       "                  this.connect(this.model.properties.disabled.change, () => this.input_el.disabled = this.model.disabled);\n",
       "                  this.connect(this.model.properties.placeholder.change, () => this.input_el.placeholder = this.model.placeholder);\n",
       "                  this.connect(this.model.properties.rows.change, () => this.input_el.rows = this.model.rows);\n",
       "                  this.connect(this.model.properties.cols.change, () => this.input_el.cols = this.model.cols);\n",
       "                  this.connect(this.model.properties.max_length.change, () => this.input_el_any.setAttribute(\"maxlength\", this.model.max_length));\n",
       "                  this.connect(this.model.properties.appearance.change, () => this.input_el_any.appearance = this.model.appearance);\n",
       "                  this.connect(this.model.properties.autofocus.change, () => this.input_el_any.autofocus = this.model.autofocus);\n",
       "                  this.connect(this.model.properties.resize.change, () => this.input_el_any.resize = this.model.resize);\n",
       "                  this.connect(this.model.properties.spellcheck.change, () => this.input_el_any.spellcheck = this.model.spellcheck);\n",
       "                  this.connect(this.model.properties.min_length.change, () => this.input_el_any.setAttribute(\"minlength\", this.model.min_length));\n",
       "                  this.connect(this.model.properties.required.change, () => this.input_el_any.required = this.model.required);\n",
       "                  // Could not get readonly working as a property.\n",
       "                  // https://github.com/microsoft/fast/issues/3852\n",
       "                  this.connect(this.model.properties.readonly.change, () => {\n",
       "                      if (this.model.readonly === true) {\n",
       "                          this.input_el_any.setAttribute(\"readonly\", \"\");\n",
       "                      }\n",
       "                      else {\n",
       "                          this.input_el_any.removeAttribute(\"readonly\");\n",
       "                      }\n",
       "                  });\n",
       "              }\n",
       "              render() {\n",
       "                  super.render();\n",
       "                  const fastTextArea = document.createElement(\"fast-text-area\");\n",
       "                  this.input_el = fastTextArea;\n",
       "                  this.input_el.className = \"bk-fast-input\";\n",
       "                  this.input_el.addEventListener(\"change\", () => this.change_input());\n",
       "                  this.group_el.appendChild(this.input_el);\n",
       "                  // For some unknown reason we need to set these properties after the above\n",
       "                  // Otherwise for example the value is reset to \"\"\n",
       "                  fastTextArea.name = this.model.name;\n",
       "                  fastTextArea.value = this.model.value;\n",
       "                  fastTextArea.disabled = this.model.disabled;\n",
       "                  fastTextArea.placeholder = this.model.placeholder;\n",
       "                  fastTextArea.cols = this.model.cols;\n",
       "                  fastTextArea.rows = this.model.rows;\n",
       "                  if (this.model.max_length != null)\n",
       "                      fastTextArea.setAttribute(\"maxlength\", this.model.max_length);\n",
       "                  fastTextArea.appearance = this.model.appearance;\n",
       "                  fastTextArea.autofocus = this.model.autofocus;\n",
       "                  fastTextArea.resize = this.model.resize;\n",
       "                  fastTextArea.spellcheck = this.model.spellcheck;\n",
       "                  if (this.model.min_length != null)\n",
       "                      fastTextArea.setAttribute(\"minlength\", this.model.min_length);\n",
       "                  fastTextArea.required = this.model.required;\n",
       "                  if (this.model.readonly === true)\n",
       "                      fastTextArea.setAttribute(\"readonly\", \"\");\n",
       "              }\n",
       "              change_input() {\n",
       "                  this.model.value = this.input_el.value;\n",
       "                  super.change_input();\n",
       "              }\n",
       "          }\n",
       "          exports.FastTextAreaInputView = FastTextAreaInputView;\n",
       "          FastTextAreaInputView.__name__ = \"FastTextAreaInputView\";\n",
       "          class FastTextAreaInput extends textarea_input_1.TextAreaInput {\n",
       "              constructor(attrs) {\n",
       "                  super(attrs);\n",
       "              }\n",
       "              static init_FastTextAreaInput() {\n",
       "                  this.prototype.default_view = FastTextAreaInputView;\n",
       "                  this.define(({ Boolean, Number, String }) => ({\n",
       "                      // name inherited\n",
       "                      // value inherited\n",
       "                      // placeholder inherited\n",
       "                      // max_length inherited\n",
       "                      // disabled inherited\n",
       "                      // cols inherited\n",
       "                      // rows inherited\n",
       "                      appearance: [String,],\n",
       "                      autofocus: [Boolean,],\n",
       "                      resize: [String,],\n",
       "                      spellcheck: [Boolean,],\n",
       "                      min_length: [Number,],\n",
       "                      required: [Boolean,],\n",
       "                      readonly: [Boolean,],\n",
       "                  }));\n",
       "              }\n",
       "          }\n",
       "          exports.FastTextAreaInput = FastTextAreaInput;\n",
       "          FastTextAreaInput.__name__ = \"FastTextAreaInput\";\n",
       "          FastTextAreaInput.__module__ = \"awesome_panel_extensions.bokeh_extensions.fast.fast_textarea_input\";\n",
       "          FastTextAreaInput.init_FastTextAreaInput();\n",
       "      },\n",
       "      \"7910955c89\": /* bokeh_extensions/fast/fast_text_input.js */ function _(require, module, exports, __esModule, __esExport) {\n",
       "          __esModule();\n",
       "          const text_input_1 = require(\"@bokehjs/models/widgets/text_input\");\n",
       "          const input_widget_1 = require(\"@bokehjs/models/widgets/input_widget\");\n",
       "          // I tried to inherit from TextInputView but I could not\n",
       "          // get it working. It created two textinputs.\n",
       "          class FastTextInputView extends input_widget_1.InputWidgetView {\n",
       "              connect_signals() {\n",
       "                  super.connect_signals();\n",
       "                  this.connect(this.model.properties.name.change, () => { var _a; return this.input_el.name = (_a = this.model.name) !== null && _a !== void 0 ? _a : \"\"; });\n",
       "                  this.connect(this.model.properties.value.change, () => { this.input_el.value = this.model.value; console.log(\"value\"); });\n",
       "                  this.connect(this.model.properties.value_input.change, () => this.input_el.value = this.model.value_input);\n",
       "                  this.connect(this.model.properties.disabled.change, () => this.input_el.disabled = this.model.disabled);\n",
       "                  this.connect(this.model.properties.placeholder.change, () => this.input_el.placeholder = this.model.placeholder);\n",
       "                  this.connect(this.model.properties.appearance.change, () => this.input_el_any.appearance = this.model.appearance);\n",
       "                  this.connect(this.model.properties.autofocus.change, () => this.input_el_any.autofocus = this.model.autofocus);\n",
       "                  this.connect(this.model.properties.type_of_text.change, () => this.input_el_any.type = this.model.type_of_text);\n",
       "                  this.connect(this.model.properties.max_length.change, () => this.input_el_any.setAttribute(\"maxlength\", this.model.max_length));\n",
       "                  this.connect(this.model.properties.min_length.change, () => this.input_el_any.setAttribute(\"minlength\", this.model.min_length));\n",
       "                  this.connect(this.model.properties.pattern.change, () => this.input_el_any.pattern = this.model.pattern);\n",
       "                  // Could not get size working. It raises an error\n",
       "                  // this.connect(this.model.properties.size.change, () => this.input_el_any.size = this.model.size)\n",
       "                  this.connect(this.model.properties.spellcheck.change, () => this.input_el_any.spellcheck = this.model.spellcheck);\n",
       "                  this.connect(this.model.properties.required.change, () => this.input_el_any.required = this.model.required);\n",
       "                  // Could not get readonly working as a property.\n",
       "                  // https://github.com/microsoft/fast/issues/3852\n",
       "                  this.connect(this.model.properties.readonly.change, () => this.input_el_any.setAttribute(\"readonly\", this.model.readonly));\n",
       "              }\n",
       "              get input_el_any() {\n",
       "                  return this.input_el;\n",
       "              }\n",
       "              render() {\n",
       "                  super.render();\n",
       "                  const fastTextField = document.createElement(\"fast-text-field\");\n",
       "                  this.input_el = fastTextField;\n",
       "                  this.input_el.className = \"bk-fast-input\";\n",
       "                  this.input_el.addEventListener(\"change\", () => this.change_input());\n",
       "                  this.input_el.addEventListener(\"input\", () => this.change_input_oninput());\n",
       "                  this.group_el.appendChild(this.input_el);\n",
       "                  // For some unknown reason we need to set these properties after the above\n",
       "                  // Otherwise for example the value is reset to \"\"\n",
       "                  fastTextField.name = this.model.name;\n",
       "                  fastTextField.value = this.model.value;\n",
       "                  fastTextField.appearance = this.model.appearance;\n",
       "                  fastTextField.autofocus = this.model.autofocus;\n",
       "                  fastTextField.placeholder = this.model.placeholder;\n",
       "                  fastTextField.disabled = this.model.disabled;\n",
       "                  fastTextField.type = this.model.type_of_text;\n",
       "                  fastTextField.setAttribute(\"maxlength\", this.model.max_length);\n",
       "                  fastTextField.setAttribute(\"minlength\", this.model.min_length);\n",
       "                  fastTextField.pattern = this.model.pattern;\n",
       "                  // Could not get size working. It raises an error.\n",
       "                  // fastTextField.size = this.model.size;\n",
       "                  fastTextField.spellcheck = this.model.spellcheck;\n",
       "                  fastTextField.required = this.model.required;\n",
       "                  fastTextField.disabled = this.model.disabled;\n",
       "                  fastTextField.setAttribute(\"readonly\", this.model.readonly);\n",
       "              }\n",
       "              change_input() {\n",
       "                  this.model.value = this.input_el.value;\n",
       "                  super.change_input();\n",
       "              }\n",
       "              change_input_oninput() {\n",
       "                  this.model.value_input = this.input_el.value;\n",
       "                  super.change_input();\n",
       "              }\n",
       "          }\n",
       "          exports.FastTextInputView = FastTextInputView;\n",
       "          FastTextInputView.__name__ = \"FastTextInputView\";\n",
       "          class FastTextInput extends text_input_1.TextInput {\n",
       "              constructor(attrs) {\n",
       "                  super(attrs);\n",
       "              }\n",
       "              static init_FastTextInput() {\n",
       "                  this.prototype.default_view = FastTextInputView;\n",
       "                  this.define(({ Any, Boolean, Number, String }) => ({\n",
       "                      // name inherited\n",
       "                      // value inherited\n",
       "                      appearance: [String,],\n",
       "                      autofocus: [Boolean,],\n",
       "                      // placeholder inherited\n",
       "                      type_of_text: [String,],\n",
       "                      // max_length: [Number, ],\n",
       "                      min_length: [Number,],\n",
       "                      pattern: [String,],\n",
       "                      size: [Any,],\n",
       "                      spellcheck: [Boolean,],\n",
       "                      required: [Boolean,],\n",
       "                      // disabled inherited\n",
       "                      readonly: [Boolean, false],\n",
       "                  }));\n",
       "              }\n",
       "          }\n",
       "          exports.FastTextInput = FastTextInput;\n",
       "          FastTextInput.__name__ = \"FastTextInput\";\n",
       "          FastTextInput.__module__ = \"awesome_panel_extensions.bokeh_extensions.fast.fast_text_input\";\n",
       "          FastTextInput.init_FastTextInput();\n",
       "      },\n",
       "      \"f7bb529305\": /* bokeh_extensions/pivot_table.js */ function _(require, module, exports, __esModule, __esExport) {\n",
       "          __esModule();\n",
       "          // Bokeh model for perspective-viewer\n",
       "          // See https://github.com/finos/perspective/tree/main/packages/perspective-viewer\n",
       "          // See https://docs.bokeh.org/en/latest/docs/reference/models/layouts.html\n",
       "          const html_box_1 = require(\"@bokehjs/models/layouts/html_box\");\n",
       "          const dom_1 = require(\"@bokehjs/core/dom\");\n",
       "          const shared_1 = require(\"210d708e84\") /* ./shared */;\n",
       "          // The view of the Bokeh extension/ HTML element\n",
       "          // Here you can define how to render the model as well as react to model changes or View events.\n",
       "          class PivotTableView extends html_box_1.HTMLBoxView {\n",
       "              connect_signals() {\n",
       "                  super.connect_signals();\n",
       "                  this.connect(this.model.source.properties.data.change, this.setData);\n",
       "              }\n",
       "              render() {\n",
       "                  super.render();\n",
       "                  this.container = (0, dom_1.div)({ class: \"pnx-pivot-table\" });\n",
       "                  (0, shared_1.set_size)(this.container, this.model);\n",
       "                  this.el.appendChild(this.container);\n",
       "                  this.setData();\n",
       "              }\n",
       "              setData() {\n",
       "                  console.log(\"setData\");\n",
       "                  console.log(this.model.source.data);\n",
       "                  let data = (0, shared_1.transform_cds_to_records)(this.model.source);\n",
       "                  this.pivot_table_element = $(this.container);\n",
       "                  console.log(data);\n",
       "                  this.pivot_table_element.pivotUI(data, {});\n",
       "              }\n",
       "          }\n",
       "          exports.PivotTableView = PivotTableView;\n",
       "          PivotTableView.__name__ = \"PivotTableView\";\n",
       "          // The Bokeh .ts model corresponding to the Bokeh .py model\n",
       "          class PivotTable extends html_box_1.HTMLBox {\n",
       "              constructor(attrs) {\n",
       "                  super(attrs);\n",
       "              }\n",
       "              static init_PivotTable() {\n",
       "                  this.prototype.default_view = PivotTableView;\n",
       "                  this.define(({ Any }) => ({\n",
       "                      source: [Any,],\n",
       "                      source_stream: [Any,],\n",
       "                      source_patch: [Any,],\n",
       "                  }));\n",
       "              }\n",
       "          }\n",
       "          exports.PivotTable = PivotTable;\n",
       "          PivotTable.__name__ = \"PivotTable\";\n",
       "          PivotTable.__module__ = \"awesome_panel_extensions.bokeh_extensions.pivot_table\";\n",
       "          PivotTable.init_PivotTable();\n",
       "      },\n",
       "      \"210d708e84\": /* bokeh_extensions/shared.js */ function _(require, module, exports, __esModule, __esExport) {\n",
       "          __esModule();\n",
       "          /** Function copied from the panel\\models\\layout.ts file of Panel\n",
       "           * It is used for some models like deckgl, progress and vtlklayout\n",
       "           * I have not yet understood why\n",
       "           * @param el\n",
       "           * @param model\n",
       "           */\n",
       "          function set_size(el, model) {\n",
       "              let width_policy = model.width != null ? \"fixed\" : \"fit\";\n",
       "              let height_policy = model.height != null ? \"fixed\" : \"fit\";\n",
       "              const { sizing_mode } = model;\n",
       "              if (sizing_mode != null) {\n",
       "                  if (sizing_mode == \"fixed\")\n",
       "                      width_policy = height_policy = \"fixed\";\n",
       "                  else if (sizing_mode == \"stretch_both\")\n",
       "                      width_policy = height_policy = \"max\";\n",
       "                  else if (sizing_mode == \"stretch_width\")\n",
       "                      width_policy = \"max\";\n",
       "                  else if (sizing_mode == \"stretch_height\")\n",
       "                      height_policy = \"max\";\n",
       "                  else {\n",
       "                      switch (sizing_mode) {\n",
       "                          case \"scale_width\":\n",
       "                              width_policy = \"max\";\n",
       "                              height_policy = \"min\";\n",
       "                              break;\n",
       "                          case \"scale_height\":\n",
       "                              width_policy = \"min\";\n",
       "                              height_policy = \"max\";\n",
       "                              break;\n",
       "                          case \"scale_both\":\n",
       "                              width_policy = \"max\";\n",
       "                              height_policy = \"max\";\n",
       "                              break;\n",
       "                          default:\n",
       "                              throw new Error(\"unreachable\");\n",
       "                      }\n",
       "                  }\n",
       "              }\n",
       "              if (width_policy == \"fixed\" && model.width)\n",
       "                  el.style.width = model.width + \"px\";\n",
       "              else if (width_policy == \"max\")\n",
       "                  el.style.width = \"100%\";\n",
       "              if (height_policy == \"fixed\" && model.height)\n",
       "                  el.style.height = model.height + \"px\";\n",
       "              else if (height_policy == \"max\")\n",
       "                  el.style.height = \"100%\";\n",
       "          }\n",
       "          exports.set_size = set_size;\n",
       "          /** Transform the data of the cds to 'records' format, i.e. a list of objects\n",
       "           *\n",
       "           *  For example transforms to [{\"x\": 1, \"y\": 2}, {\"x\": 3, \"y\": 4}]\n",
       "           *\n",
       "           *  Some js libraries like perspective-viewer uses this format to load data.\n",
       "           *\n",
       "           * @param cds\n",
       "           */\n",
       "          function transform_cds_to_records(cds) {\n",
       "              const data = [];\n",
       "              const columns = cds.columns();\n",
       "              const cdsLength = cds.get_length();\n",
       "              if (columns.length === 0 || cdsLength === null) {\n",
       "                  return [];\n",
       "              }\n",
       "              for (let i = 0; i < cdsLength; i++) {\n",
       "                  const item = {};\n",
       "                  for (const column of columns) {\n",
       "                      let array = cds.get_array(column);\n",
       "                      const shape = array[0].shape == null ? null : array[0].shape;\n",
       "                      if ((shape != null) && (shape.length > 1) && (typeof shape[0] == \"number\"))\n",
       "                          item[column] = array.slice(i * shape[1], i * shape[1] + shape[1]);\n",
       "                      else\n",
       "                          item[column] = array[i];\n",
       "                  }\n",
       "                  data.push(item);\n",
       "              }\n",
       "              return data;\n",
       "          }\n",
       "          exports.transform_cds_to_records = transform_cds_to_records;\n",
       "          /** Helper function used to incrementally build a html element string\n",
       "           *\n",
       "           *  For example toAttribute(\"columns\", ['x','y']) returns ' columns=\"['x','y']\"\n",
       "           *  For example toAttribute(\"columns\", null) returns \"\"\n",
       "           *\n",
       "           * @param attribute\n",
       "           * @param value\n",
       "           */\n",
       "          function toAttribute(attribute, value) {\n",
       "              if (value === null) {\n",
       "                  return \"\";\n",
       "              }\n",
       "              if (typeof value !== \"string\") {\n",
       "                  value = JSON.stringify(value);\n",
       "              }\n",
       "              return \" \" + attribute + \"='\" + value + \"'\";\n",
       "          }\n",
       "          exports.toAttribute = toAttribute;\n",
       "      },\n",
       "      \"814c7e898b\": /* bokeh_extensions/icon.js */ function _(require, module, exports, __esModule, __esExport) {\n",
       "          __esModule();\n",
       "          const abstract_icon_1 = require(\"@bokehjs/models/widgets/abstract_icon\");\n",
       "          // See https://stackoverflow.com/questions/494143/creating-a-new-dom-element-from-an-html-string-using-built-in-dom-methods-or-pro\n",
       "          /**\n",
       "           * @param {String} HTML representing a single element\n",
       "           * @return {Element}\n",
       "           */\n",
       "          function htmlToElement(html) {\n",
       "              var template = document.createElement('template');\n",
       "              html = html.trim(); // Never return a text node of whitespace as the result\n",
       "              template.innerHTML = html;\n",
       "              return template.content.firstChild;\n",
       "          }\n",
       "          class IconView extends abstract_icon_1.AbstractIconView {\n",
       "              connect_signals() {\n",
       "                  super.connect_signals();\n",
       "                  this.connect(this.model.change, () => this.render());\n",
       "              }\n",
       "              render() {\n",
       "                  super.render();\n",
       "                  if (this.model.text === null && this.model.text === \"\") {\n",
       "                      return;\n",
       "                  }\n",
       "                  this.el.innerHTML = \"\";\n",
       "                  const iconEl = htmlToElement(this.model.text);\n",
       "                  this.el.appendChild(iconEl);\n",
       "                  this.el.style.display = \"inline\";\n",
       "                  this.el.style.height = `${this.model.size}em`;\n",
       "                  this.el.style.width = `${this.model.size}em`;\n",
       "                  iconEl.style.verticalAlign = \"middle\";\n",
       "                  iconEl.style.height = `${this.model.size}em`;\n",
       "                  iconEl.style.width = `${this.model.size}em`;\n",
       "                  iconEl.style.fill = this.model.fill_color;\n",
       "                  if (this.model.spin_duration > 0) {\n",
       "                      // See https://codepen.io/eveness/pen/BjLaoa\n",
       "                      const animationDuration = `${this.model.spin_duration}ms`;\n",
       "                      iconEl.style.setProperty(\"-webkit-animation-name\", \"spin\");\n",
       "                      iconEl.style.setProperty(\"-webkit-animation-duration\", animationDuration);\n",
       "                      iconEl.style.setProperty(\"-webkit-animation-iteration-count\", \"infinite\");\n",
       "                      iconEl.style.setProperty(\"-webkit-animation-timing-function\", \"linear\");\n",
       "                      iconEl.style.setProperty(\"-moz-animation-name\", \"spin\");\n",
       "                      iconEl.style.setProperty(\"-moz-animation-duration\", animationDuration);\n",
       "                      iconEl.style.setProperty(\"-moz-animation-iteration-count\", \"infinite\");\n",
       "                      iconEl.style.setProperty(\"-moz-animation-timing-function\", \"linear\");\n",
       "                      iconEl.style.setProperty(\"-ms-animation-name\", \"spin\");\n",
       "                      iconEl.style.setProperty(\"-ms-animation-duration\", animationDuration);\n",
       "                      iconEl.style.setProperty(\"-ms-animation-iteration-count\", \"infinite\");\n",
       "                      iconEl.style.setProperty(\"-ms-animation-timing-function\", \"linear\");\n",
       "                      iconEl.style.setProperty(\"animation-name\", \"spin\");\n",
       "                      iconEl.style.setProperty(\"animation-duration\", animationDuration);\n",
       "                      iconEl.style.setProperty(\"animation-iteration-count\", \"infinite\");\n",
       "                      iconEl.style.setProperty(\"animation-timing-function\", \"linear\");\n",
       "                  }\n",
       "                  iconEl.classList.add(\"icon\");\n",
       "                  if (this.model.label != null && this.model.label !== \"\") {\n",
       "                      const label = this.model.label.toLowerCase().replace(\" \", \"\");\n",
       "                      iconEl.classList.add(`icon-${label}`);\n",
       "                  }\n",
       "              }\n",
       "          }\n",
       "          exports.IconView = IconView;\n",
       "          IconView.__name__ = \"IconView\";\n",
       "          class Icon extends abstract_icon_1.AbstractIcon {\n",
       "              constructor(attrs) {\n",
       "                  super(attrs);\n",
       "              }\n",
       "              static init_Icon() {\n",
       "                  this.prototype.default_view = IconView;\n",
       "                  this.define(({ String, Number, Int }) => ({\n",
       "                      label: [String,],\n",
       "                      text: [String,],\n",
       "                      size: [Number, 1.0],\n",
       "                      fill_color: [String, \"currentColor\"],\n",
       "                      spin_duration: [Int, 0],\n",
       "                  }));\n",
       "              }\n",
       "          }\n",
       "          exports.Icon = Icon;\n",
       "          Icon.__name__ = \"Icon\";\n",
       "          Icon.__module__ = \"awesome_panel_extensions.bokeh_extensions.icon\";\n",
       "          Icon.init_Icon();\n",
       "      },\n",
       "      \"d260eb7abe\": /* bokeh_extensions/web_component.js */ function _(require, module, exports, __esModule, __esExport) {\n",
       "          __esModule();\n",
       "          const tslib_1 = require(\"tslib\");\n",
       "          const dom_1 = require(\"@bokehjs/core/dom\");\n",
       "          const html_box_1 = require(\"@bokehjs/models/layouts/html_box\");\n",
       "          const inputs = (0, tslib_1.__importStar)(require(\"@bokehjs/styles/widgets/inputs.css\"));\n",
       "          function htmlDecode(input) {\n",
       "              var doc = new DOMParser().parseFromString(input, \"text/html\");\n",
       "              return doc.documentElement.textContent;\n",
       "          }\n",
       "          class WebComponentView extends html_box_1.HTMLBoxView {\n",
       "              connect_signals() {\n",
       "                  super.connect_signals();\n",
       "                  this.connect(this.model.properties.name.change, () => this.handleNameChange());\n",
       "                  this.connect(this.model.properties.innerHTML.change, () => this.render());\n",
       "                  this.connect(this.model.properties.attributesLastChange.change, () => this.handleAttributesLastChangeChange());\n",
       "                  this.connect(this.model.properties.propertiesLastChange.change, () => this.handlePropertiesLastChangeChange());\n",
       "                  this.connect(this.model.properties.columnDataSource.change, () => this.handleColumnDataSourceChange());\n",
       "              }\n",
       "              handleNameChange() {\n",
       "                  if (this.label_el)\n",
       "                      this.label_el.textContent = this.model.name;\n",
       "              }\n",
       "              render() {\n",
       "                  super.render();\n",
       "                  if (this.el.innerHTML !== this.model.innerHTML)\n",
       "                      this.createOrUpdateWebComponentElement();\n",
       "              }\n",
       "              after_layout() {\n",
       "                  if (\"after_layout\" in this.webComponentElement)\n",
       "                      this.webComponentElement.after_layout();\n",
       "              }\n",
       "              createOrUpdateWebComponentElement() {\n",
       "                  if (this.webComponentElement)\n",
       "                      this.webComponentElement.onchange = null;\n",
       "                  // @Philippfr: How do we make sure the component is automatically sized according to the\n",
       "                  // parameters of the WebComponent like width, height, sizing_mode etc?\n",
       "                  // Should we set height and width to 100% or similar?\n",
       "                  // For now I've set min_height as a part of .py __init__ for some of the Wired components?\n",
       "                  const title = this.model.name;\n",
       "                  if (this.model.componentType === \"inputgroup\" && title) {\n",
       "                      this.group_el = (0, dom_1.div)({ class: inputs.input_group }, this.label_el);\n",
       "                      this.group_el.innerHTML = htmlDecode(this.model.innerHTML);\n",
       "                      this.webComponentElement = this.group_el.firstElementChild;\n",
       "                      this.label_el = (0, dom_1.label)({ style: { display: title.length == 0 ? \"none\" : \"\" } }, title);\n",
       "                      this.group_el.insertBefore(this.label_el, this.webComponentElement);\n",
       "                      this.el.appendChild(this.group_el);\n",
       "                  }\n",
       "                  else {\n",
       "                      this.el.innerHTML = htmlDecode(this.model.innerHTML);\n",
       "                      this.webComponentElement = this.el.firstElementChild;\n",
       "                  }\n",
       "                  this.activate_scripts(this.webComponentElement.parentNode);\n",
       "                  // Initialize properties\n",
       "                  this.initPropertyValues();\n",
       "                  this.handlePropertiesLastChangeChange();\n",
       "                  this.handleColumnDataSourceChange();\n",
       "                  // Subscribe to events\n",
       "                  this.webComponentElement.onchange = (ev) => this.handlePropertiesChange(ev);\n",
       "                  this.addEventListeners();\n",
       "                  this.addAttributesMutationObserver();\n",
       "              }\n",
       "              addAttributesMutationObserver() {\n",
       "                  if (!this.model.attributesToWatch)\n",
       "                      return;\n",
       "                  let options = {\n",
       "                      childList: false,\n",
       "                      attributes: true,\n",
       "                      characterData: false,\n",
       "                      subtree: false,\n",
       "                      attributeFilter: Object.keys(this.model.attributesToWatch),\n",
       "                      attributeOldValue: false,\n",
       "                      characterDataOldValue: false\n",
       "                  };\n",
       "                  const handleAttributesChange = (_) => {\n",
       "                      let attributesLastChange = new Object();\n",
       "                      for (let attribute in this.model.attributesToWatch) {\n",
       "                          const value = this.webComponentElement.getAttribute(attribute);\n",
       "                          attributesLastChange[attribute] = value;\n",
       "                      }\n",
       "                      if (this.model.attributesLastChange !== attributesLastChange)\n",
       "                          this.model.attributesLastChange = attributesLastChange;\n",
       "                  };\n",
       "                  let observer = new MutationObserver(handleAttributesChange);\n",
       "                  observer.observe(this.webComponentElement, options);\n",
       "              }\n",
       "              addEventListeners() {\n",
       "                  this.eventsCount = {};\n",
       "                  for (let event in this.model.eventsToWatch) {\n",
       "                      this.eventsCount[event] = 0;\n",
       "                      this.webComponentElement.addEventListener(event, (ev) => this.eventHandler(ev), false);\n",
       "                  }\n",
       "              }\n",
       "              transform_cds_to_records(cds) {\n",
       "                  const data = [];\n",
       "                  const columns = cds.columns();\n",
       "                  const cdsLength = cds.get_length();\n",
       "                  if (columns.length === 0 || cdsLength === null) {\n",
       "                      return [];\n",
       "                  }\n",
       "                  for (let i = 0; i < cdsLength; i++) {\n",
       "                      const item = {};\n",
       "                      for (const column of columns) {\n",
       "                          let array = cds.get_array(column);\n",
       "                          const shape = array[0].shape == null ? null : array[0].shape;\n",
       "                          if ((shape != null) && (shape.length > 1) && (typeof shape[0] == \"number\"))\n",
       "                              item[column] = array.slice(i * shape[1], i * shape[1] + shape[1]);\n",
       "                          else\n",
       "                              item[column] = array[i];\n",
       "                      }\n",
       "                      data.push(item);\n",
       "                  }\n",
       "                  return data;\n",
       "              }\n",
       "              // https://stackoverflow.com/questions/5999998/check-if-a-variable-is-of-function-type\n",
       "              isFunction(functionToCheck) {\n",
       "                  if (functionToCheck) {\n",
       "                      const stringName = {}.toString.call(functionToCheck);\n",
       "                      return stringName === '[object Function]' || stringName === '[object AsyncFunction]';\n",
       "                  }\n",
       "                  else {\n",
       "                      return false;\n",
       "                  }\n",
       "              }\n",
       "              /**\n",
       "               * Handles changes to `this.model.columnDataSource`\n",
       "               * by\n",
       "               * updating the data source of `this.webComponentElement`\n",
       "               * using the function or property specifed in `this.model.columnDataSourceLoadFunction`\n",
       "               */\n",
       "              handleColumnDataSourceChange() {\n",
       "                  // @Philippfr: Right now we just reload all the data\n",
       "                  // For example Perspective has an `update` function to append data\n",
       "                  // Is this something we could/ should support?\n",
       "                  if (this.model.columnDataSource) {\n",
       "                      let data; // list\n",
       "                      const columnDataSourceOrient = this.model.columnDataSourceOrient;\n",
       "                      if (columnDataSourceOrient === \"records\")\n",
       "                          data = this.transform_cds_to_records(this.model.columnDataSource);\n",
       "                      else\n",
       "                          data = this.model.columnDataSource.data; // @ts-ignore\n",
       "                      if (this.model.columnDataSourceLoadFunction === null) {\n",
       "                          return;\n",
       "                      }\n",
       "                      const loadFunctionName = this.model.columnDataSourceLoadFunction.toString();\n",
       "                      const loadFunction = this.webComponentElement[loadFunctionName];\n",
       "                      if (this.isFunction(loadFunction))\n",
       "                          this.webComponentElement[loadFunctionName](data);\n",
       "                      else\n",
       "                          this.webComponentElement[loadFunctionName] = data;\n",
       "                  }\n",
       "                  // Todo: handle situation where this.model.columnDataSource is null\n",
       "              }\n",
       "              activate_scripts(el) {\n",
       "                  Array.from(el.querySelectorAll(\"script\")).forEach((oldScript) => {\n",
       "                      const newScript = document.createElement(\"script\");\n",
       "                      Array.from(oldScript.attributes)\n",
       "                          .forEach(attr => newScript.setAttribute(attr.name, attr.value));\n",
       "                      newScript.appendChild(document.createTextNode(oldScript.innerHTML));\n",
       "                      if (oldScript.parentNode)\n",
       "                          oldScript.parentNode.replaceChild(newScript, oldScript);\n",
       "                  });\n",
       "              }\n",
       "              // See https://stackoverflow.com/questions/6491463/accessing-nested-javascript-objects-with-string-key\n",
       "              /**\n",
       "               * Example:\n",
       "               *\n",
       "               * `get_nested_property(element, \"textInput.value\")` returns `element.textInput.value`\n",
       "               *\n",
       "               * @param element\n",
       "               * @param property_\n",
       "               */\n",
       "              get_nested_property(element, property_) {\n",
       "                  property_ = property_.replace(/\\[(\\w+)\\]/g, '.$1'); // convert indexes to properties\n",
       "                  property_ = property_.replace(/^\\./, ''); // strip a leading dot\n",
       "                  let a = property_.split('.');\n",
       "                  for (let i = 0, n = a.length; i < n; ++i) {\n",
       "                      let k = a[i];\n",
       "                      if (k in element)\n",
       "                          element = element[k];\n",
       "                      else\n",
       "                          return \"\";\n",
       "                  }\n",
       "                  return element;\n",
       "              }\n",
       "              set_nested_property(element, property_, value) {\n",
       "                  // @Phillipfr: I need your help to understand and solve this\n",
       "                  // hack: Setting the value of the WIRED-SLIDER before its ready\n",
       "                  // will destroy the setter.\n",
       "                  // I don't yet understand this.\n",
       "                  // if ([\"WIRED-SLIDER\"].indexOf(element.tagName)>=0){\n",
       "                  //   const setter = element.__lookupSetter__(property_);\n",
       "                  //   if (!setter){return}\n",
       "                  // }\n",
       "                  const pList = property_.split('.');\n",
       "                  if (pList.length === 1)\n",
       "                      element[property_] = value;\n",
       "                  else {\n",
       "                      const len = pList.length;\n",
       "                      for (let i = 0; i < len - 1; i++) {\n",
       "                          const elem = pList[i];\n",
       "                          if (!element[elem])\n",
       "                              element[elem] = {};\n",
       "                          element = element[elem];\n",
       "                      }\n",
       "                      element[pList[len - 1]] = value;\n",
       "                  }\n",
       "              }\n",
       "              /**\n",
       "               * Handles events from `eventsToWatch` by\n",
       "               *\n",
       "               * - Incrementing the count of the event\n",
       "               * - Checking if any properties have changed\n",
       "               *\n",
       "               * @param ev The Event Fired\n",
       "               */\n",
       "              eventHandler(ev) {\n",
       "                  let event = ev.type;\n",
       "                  this.eventsCount[event] += 1;\n",
       "                  let eventsCountLastChanged = {};\n",
       "                  eventsCountLastChanged[event] = this.eventsCount[event];\n",
       "                  this.model.eventsCountLastChange = eventsCountLastChanged;\n",
       "                  this.checkIfPropertiesChanged();\n",
       "              }\n",
       "              /** Checks if any properties have changed. In case this is communicated to the server.\n",
       "               *\n",
       "               * For example the Wired `DropDown` does not run the `onchange` event handler when the selection changes.\n",
       "               * Insted the `select` event is fired. Thus we can subscribe to this event and manually check for property changes.\n",
       "               */\n",
       "              checkIfPropertiesChanged() {\n",
       "                  const propertiesChange = {};\n",
       "                  for (const property in this.model.propertiesToWatch) {\n",
       "                      const oldValue = this.propertyValues[property];\n",
       "                      const newValue = this.get_nested_property(this.webComponentElement, property);\n",
       "                      if (oldValue != newValue) {\n",
       "                          propertiesChange[property] = newValue;\n",
       "                          this.propertyValues[property] = newValue;\n",
       "                      }\n",
       "                  }\n",
       "                  if (Object.keys(propertiesChange).length)\n",
       "                      this.model.propertiesLastChange = propertiesChange;\n",
       "              }\n",
       "              /** Handles the `WebComponentElement` `(on)change` event\n",
       "               *\n",
       "               * Communicates any changed properties in `propertiesToWatch` to the server\n",
       "               * by updating `this.model.propertiesLastChange`.\n",
       "               * @param ev\n",
       "               */\n",
       "              handlePropertiesChange(ev) {\n",
       "                  const properties_change = new Object();\n",
       "                  for (const property in this.model.propertiesToWatch) {\n",
       "                      if (ev.detail && property in ev.detail) {\n",
       "                          properties_change[property] = ev.detail[property];\n",
       "                          this.propertyValues[property] = ev.detail[property];\n",
       "                      }\n",
       "                      else if (ev.target && property in ev.target) {\n",
       "                          properties_change[property] = ev.target[property];\n",
       "                          this.propertyValues[property] = ev.target[property];\n",
       "                      }\n",
       "                  }\n",
       "                  if (Object.keys(properties_change).length)\n",
       "                      this.model.propertiesLastChange = properties_change;\n",
       "              }\n",
       "              initPropertyValues() {\n",
       "                  this.propertyValues = new Object();\n",
       "                  if (!this.webComponentElement) {\n",
       "                      return;\n",
       "                  }\n",
       "                  for (let property in this.model.propertiesToWatch) {\n",
       "                      let old_value = this.propertyValues[property];\n",
       "                      let new_value = this.get_nested_property(this.webComponentElement, property);\n",
       "                      if (new_value !== old_value) {\n",
       "                          this.propertyValues[property] = new_value;\n",
       "                      }\n",
       "                  }\n",
       "              }\n",
       "              /**\n",
       "               * Handles changes to `this.model.attributesLastChange`\n",
       "               * by\n",
       "               * updating the attributes of `this.webComponentElement` accordingly\n",
       "               */\n",
       "              handleAttributesLastChangeChange() {\n",
       "                  if (!this.webComponentElement)\n",
       "                      return;\n",
       "                  let attributesLastChange = this.model.attributesLastChange;\n",
       "                  for (let attribute in this.model.attributesLastChange) {\n",
       "                      if (attribute in this.model.attributesToWatch) {\n",
       "                          let old_value = this.webComponentElement.getAttribute(attribute);\n",
       "                          let new_value = attributesLastChange[attribute];\n",
       "                          if (old_value !== new_value) {\n",
       "                              if (new_value === null)\n",
       "                                  this.webComponentElement.removeAttribute(attribute);\n",
       "                              else\n",
       "                                  this.webComponentElement.setAttribute(attribute, new_value);\n",
       "                          }\n",
       "                      }\n",
       "                  }\n",
       "              }\n",
       "              /**\n",
       "              * Handles changes to `this.model.propertiesLastChange`\n",
       "              * by\n",
       "              * updating the properties of `this.webComponentElement` accordingly\n",
       "              */\n",
       "              handlePropertiesLastChangeChange() {\n",
       "                  if (!this.webComponentElement) {\n",
       "                      return;\n",
       "                  }\n",
       "                  let propertiesLastChange = this.model.propertiesLastChange;\n",
       "                  for (let property in this.model.propertiesLastChange) {\n",
       "                      if (property in this.model.propertiesToWatch) {\n",
       "                          let value = propertiesLastChange[property];\n",
       "                          this.set_nested_property(this.webComponentElement, property, value);\n",
       "                      }\n",
       "                  }\n",
       "              }\n",
       "          }\n",
       "          exports.WebComponentView = WebComponentView;\n",
       "          WebComponentView.__name__ = \"WebComponentView\";\n",
       "          class WebComponent extends html_box_1.HTMLBox {\n",
       "              constructor(attrs) {\n",
       "                  super(attrs);\n",
       "              }\n",
       "              static init_WebComponent() {\n",
       "                  this.prototype.default_view = WebComponentView;\n",
       "                  this.define(({ Any, String }) => ({\n",
       "                      componentType: [String, 'htmlbox'],\n",
       "                      innerHTML: [String, ''],\n",
       "                      attributesToWatch: [Any],\n",
       "                      attributesLastChange: [Any],\n",
       "                      propertiesToWatch: [Any],\n",
       "                      propertiesLastChange: [Any],\n",
       "                      eventsToWatch: [Any],\n",
       "                      eventsCountLastChange: [Any],\n",
       "                      columnDataSource: [Any],\n",
       "                      columnDataSourceOrient: [Any],\n",
       "                      columnDataSourceLoadFunction: [Any], // A string\n",
       "                  }));\n",
       "              }\n",
       "          }\n",
       "          exports.WebComponent = WebComponent;\n",
       "          WebComponent.__name__ = \"WebComponent\";\n",
       "          WebComponent.__module__ = \"awesome_panel_extensions.bokeh_extensions.web_component\";\n",
       "          WebComponent.init_WebComponent();\n",
       "      },\n",
       "      }, \"67f4331514\", {\"index\":\"67f4331514\",\"bokeh_extensions/index\":\"27c14fc46f\",\"bokeh_extensions/fast/fast_anchor\":\"d8ad891f6b\",\"bokeh_extensions/fast/fast_button\":\"2a6cfb6670\",\"bokeh_extensions/fast/fast_checkbox_group\":\"bd6aa043dd\",\"bokeh_extensions/fast/fast_switch_group\":\"fd1c589b07\",\"bokeh_extensions/fast/fast_textarea_input\":\"f9509d26e7\",\"bokeh_extensions/fast/fast_text_input\":\"7910955c89\",\"bokeh_extensions/pivot_table\":\"f7bb529305\",\"bokeh_extensions/shared\":\"210d708e84\",\"bokeh_extensions/icon\":\"814c7e898b\",\"bokeh_extensions/web_component\":\"d260eb7abe\"}, {});});\n",
       "      //# sourceMappingURL=awesome_panel_extensions.js.map\n",
       "\n",
       "      /* END awesome_panel_extensions.js */\n",
       "    },\n",
       "function(Bokeh) {} // ensure no trailing comma for IE\n",
       "  ];\n",
       "\n",
       "  function run_inline_js() {\n",
       "    if ((root.Bokeh !== undefined) || (force === true)) {\n",
       "      for (var i = 0; i < inline_js.length; i++) {\n",
       "        inline_js[i].call(root, root.Bokeh);\n",
       "      }} else if (Date.now() < root._bokeh_timeout) {\n",
       "      setTimeout(run_inline_js, 100);\n",
       "    } else if (!root._bokeh_failed_load) {\n",
       "      console.log(\"Bokeh: BokehJS failed to load within specified timeout.\");\n",
       "      root._bokeh_failed_load = true;\n",
       "    }\n",
       "  }\n",
       "\n",
       "  if (root._bokeh_is_loading === 0) {\n",
       "    console.debug(\"Bokeh: BokehJS loaded, going straight to plotting\");\n",
       "    run_inline_js();\n",
       "  } else {\n",
       "    load_libs(css_urls, js_urls, js_modules, function() {\n",
       "      console.debug(\"Bokeh: BokehJS plotting callback run at\", now());\n",
       "      run_inline_js();\n",
       "    });\n",
       "  }\n",
       "}(window));"
      ],
      "application/vnd.holoviews_load.v0+json": "(function(root) {\n  function now() {\n    return new Date();\n  }\n\n  var force = true;\n\n  if (typeof root._bokeh_onload_callbacks === \"undefined\" || force === true) {\n    root._bokeh_onload_callbacks = [];\n    root._bokeh_is_loading = undefined;\n  }\n\n  if (typeof (root._bokeh_timeout) === \"undefined\" || force === true) {\n    root._bokeh_timeout = Date.now() + 5000;\n    root._bokeh_failed_load = false;\n  }\n\n  function run_callbacks() {\n    try {\n      root._bokeh_onload_callbacks.forEach(function(callback) {\n        if (callback != null)\n          callback();\n      });\n    } finally {\n      delete root._bokeh_onload_callbacks\n    }\n    console.debug(\"Bokeh: all callbacks have finished\");\n  }\n\n  function load_libs(css_urls, js_urls, js_modules, callback) {\n    if (css_urls == null) css_urls = [];\n    if (js_urls == null) js_urls = [];\n    if (js_modules == null) js_modules = [];\n\n    root._bokeh_onload_callbacks.push(callback);\n    if (root._bokeh_is_loading > 0) {\n      console.debug(\"Bokeh: BokehJS is being loaded, scheduling callback at\", now());\n      return null;\n    }\n    if (js_urls.length === 0 && js_modules.length === 0) {\n      run_callbacks();\n      return null;\n    }\n    console.debug(\"Bokeh: BokehJS not loaded, scheduling load and callback at\", now());\n\n    function on_load() {\n      root._bokeh_is_loading--;\n      if (root._bokeh_is_loading === 0) {\n        console.debug(\"Bokeh: all BokehJS libraries/stylesheets loaded\");\n        run_callbacks()\n      }\n    }\n\n    function on_error() {\n      console.error(\"failed to load \" + url);\n    }\n\n    for (var i = 0; i < css_urls.length; i++) {\n      var url = css_urls[i];\n      const element = document.createElement(\"link\");\n      element.onload = on_load;\n      element.onerror = on_error;\n      element.rel = \"stylesheet\";\n      element.type = \"text/css\";\n      element.href = url;\n      console.debug(\"Bokeh: injecting link tag for BokehJS stylesheet: \", url);\n      document.body.appendChild(element);\n    }\n\n    var skip = [];\n    if (window.requirejs) {\n      window.requirejs.config({'packages': {}, 'paths': {'vega-embed': 'https://cdn.jsdelivr.net/npm/vega-embed@6/build/vega-embed.min', 'vega-lite': 'https://cdn.jsdelivr.net/npm/vega-lite@5/build/vega-lite.min', 'vega': 'https://cdn.jsdelivr.net/npm/vega@5/build/vega.min', 'gridstack': 'https://cdn.jsdelivr.net/npm/gridstack@4.2.5/dist/gridstack-h5', 'notyf': 'https://cdn.jsdelivr.net/npm/notyf@3/notyf.min', '121cf5990e': 'https://kit.fontawesome.com/121cf5990e'}, 'shim': {'gridstack': {'exports': 'GridStack'}}});\n      require([\"vega-embed\"], function(vegaEmbed) {\n\twindow.vegaEmbed = vegaEmbed\n\ton_load()\n      })\n      require([\"vega-lite\"], function(vl) {\n\twindow.vl = vl\n\ton_load()\n      })\n      require([\"vega\"], function(vega) {\n\twindow.vega = vega\n\ton_load()\n      })\n      require([\"gridstack\"], function(GridStack) {\n\twindow.GridStack = GridStack\n\ton_load()\n      })\n      require([\"notyf\"], function() {\n\ton_load()\n      })\n      require([\"121cf5990e\"], function(fontawesome) {\n\twindow.fontawesome = fontawesome\n\ton_load()\n      })\n      root._bokeh_is_loading = css_urls.length + 6;\n    } else {\n      root._bokeh_is_loading = css_urls.length + js_urls.length + js_modules.length;\n    }    if (((window['vega'] !== undefined) && (!(window['vega'] instanceof HTMLElement))) || window.requirejs) {\n      var urls = ['https://cdn.holoviz.org/panel/0.14.2/dist/bundled/vegaplot/vega@5'];\n      for (var i = 0; i < urls.length; i++) {\n        skip.push(urls[i])\n      }\n    }    if (((window['vegaLite'] !== undefined) && (!(window['vegaLite'] instanceof HTMLElement))) || window.requirejs) {\n      var urls = ['https://cdn.holoviz.org/panel/0.14.2/dist/bundled/vegaplot/vega-lite@5'];\n      for (var i = 0; i < urls.length; i++) {\n        skip.push(urls[i])\n      }\n    }    if (((window['vegaEmbed'] !== undefined) && (!(window['vegaEmbed'] instanceof HTMLElement))) || window.requirejs) {\n      var urls = ['https://cdn.holoviz.org/panel/0.14.2/dist/bundled/vegaplot/vega-embed@6'];\n      for (var i = 0; i < urls.length; i++) {\n        skip.push(urls[i])\n      }\n    }    if (((window['GridStack'] !== undefined) && (!(window['GridStack'] instanceof HTMLElement))) || window.requirejs) {\n      var urls = ['https://cdn.holoviz.org/panel/0.14.2/dist/bundled/gridstack/gridstack@4.2.5/dist/gridstack-h5.js'];\n      for (var i = 0; i < urls.length; i++) {\n        skip.push(urls[i])\n      }\n    }    if (((window['Notyf'] !== undefined) && (!(window['Notyf'] instanceof HTMLElement))) || window.requirejs) {\n      var urls = ['https://cdn.holoviz.org/panel/0.14.2/dist/bundled/notificationarea/notyf@3/notyf.min.js'];\n      for (var i = 0; i < urls.length; i++) {\n        skip.push(urls[i])\n      }\n    }    for (var i = 0; i < js_urls.length; i++) {\n      var url = js_urls[i];\n      if (skip.indexOf(url) >= 0) {\n\tif (!window.requirejs) {\n\t  on_load();\n\t}\n\tcontinue;\n      }\n      var element = document.createElement('script');\n      element.onload = on_load;\n      element.onerror = on_error;\n      element.async = false;\n      element.src = url;\n      console.debug(\"Bokeh: injecting script tag for BokehJS library: \", url);\n      document.head.appendChild(element);\n    }\n    for (var i = 0; i < js_modules.length; i++) {\n      var url = js_modules[i];\n      if (skip.indexOf(url) >= 0) {\n\tif (!window.requirejs) {\n\t  on_load();\n\t}\n\tcontinue;\n      }\n      var element = document.createElement('script');\n      element.onload = on_load;\n      element.onerror = on_error;\n      element.async = false;\n      element.src = url;\n      element.type = \"module\";\n      console.debug(\"Bokeh: injecting script tag for BokehJS library: \", url);\n      document.head.appendChild(element);\n    }\n    if (!js_urls.length && !js_modules.length) {\n      on_load()\n    }\n  };\n\n  function inject_raw_css(css) {\n    const element = document.createElement(\"style\");\n    element.appendChild(document.createTextNode(css));\n    document.body.appendChild(element);\n  }\n\n  var js_urls = [\"https://cdn.holoviz.org/panel/0.14.2/dist/bundled/vegaplot/vega@5\", \"https://cdn.holoviz.org/panel/0.14.2/dist/bundled/vegaplot/vega-lite@5\", \"https://cdn.holoviz.org/panel/0.14.2/dist/bundled/vegaplot/vega-embed@6\", \"https://cdn.bokeh.org/bokeh/release/bokeh-2.4.3.min.js\", \"https://cdn.bokeh.org/bokeh/release/bokeh-gl-2.4.3.min.js\", \"https://cdn.bokeh.org/bokeh/release/bokeh-widgets-2.4.3.min.js\", \"https://cdn.bokeh.org/bokeh/release/bokeh-tables-2.4.3.min.js\", \"https://cdn.bokeh.org/bokeh/release/bokeh-mathjax-2.4.3.min.js\", \"https://cdn.holoviz.org/panel/0.14.2/dist/bundled/gridstack/gridstack@4.2.5/dist/gridstack-h5.js\", \"https://cdn.jsdelivr.net/npm/a11y-dialog@7/dist/a11y-dialog.min.js\", \"https://kit.fontawesome.com/121cf5990e.js\", \"https://unpkg.com/@holoviz/panel@0.14.2/dist/panel.min.js\"];\n  var js_modules = [];\n  var css_urls = [\"https://cdn.holoviz.org/panel/0.14.2/dist/bundled/gridstack/gridstack@4.2.5/dist/gridstack.min.css\", \"https://cdn.holoviz.org/panel/0.14.2/dist/bundled/gridstack/gridstack@4.2.5/dist/gridstack-extra.min.css\", \"https://cdn.holoviz.org/panel/0.14.2/dist/css/dataframe.css\", \"https://cdn.holoviz.org/panel/0.14.2/dist/css/json.css\", \"https://cdn.holoviz.org/panel/0.14.2/dist/css/loading.css\", \"https://cdn.holoviz.org/panel/0.14.2/dist/css/markdown.css\", \"https://cdn.holoviz.org/panel/0.14.2/dist/css/widgets.css\", \"https://cdn.holoviz.org/panel/0.14.2/dist/css/debugger.css\", \"https://cdn.holoviz.org/panel/0.14.2/dist/css/alerts.css\", \"https://cdn.holoviz.org/panel/0.14.2/dist/css/card.css\"];\n  var inline_js = [    function(Bokeh) {\n      inject_raw_css(\"\\n    .bk.pn-loading.arc:before {\\n      background-image: url(\\\"data:image/svg+xml;base64,PHN2ZyB4bWxucz0iaHR0cDovL3d3dy53My5vcmcvMjAwMC9zdmciIHN0eWxlPSJtYXJnaW46IGF1dG87IGJhY2tncm91bmQ6IG5vbmU7IGRpc3BsYXk6IGJsb2NrOyBzaGFwZS1yZW5kZXJpbmc6IGF1dG87IiB2aWV3Qm94PSIwIDAgMTAwIDEwMCIgcHJlc2VydmVBc3BlY3RSYXRpbz0ieE1pZFlNaWQiPiAgPGNpcmNsZSBjeD0iNTAiIGN5PSI1MCIgZmlsbD0ibm9uZSIgc3Ryb2tlPSIjYzNjM2MzIiBzdHJva2Utd2lkdGg9IjEwIiByPSIzNSIgc3Ryb2tlLWRhc2hhcnJheT0iMTY0LjkzMzYxNDMxMzQ2NDE1IDU2Ljk3Nzg3MTQzNzgyMTM4Ij4gICAgPGFuaW1hdGVUcmFuc2Zvcm0gYXR0cmlidXRlTmFtZT0idHJhbnNmb3JtIiB0eXBlPSJyb3RhdGUiIHJlcGVhdENvdW50PSJpbmRlZmluaXRlIiBkdXI9IjFzIiB2YWx1ZXM9IjAgNTAgNTA7MzYwIDUwIDUwIiBrZXlUaW1lcz0iMDsxIj48L2FuaW1hdGVUcmFuc2Zvcm0+ICA8L2NpcmNsZT48L3N2Zz4=\\\");\\n      background-size: auto calc(min(50%, 400px));\\n    }\\n    \");\n    },    function(Bokeh) {\n      inject_raw_css(\"\\n@-ms-keyframes spin {\\n    from {\\n        -ms-transform: rotate(0deg);\\n    }\\n    to {\\n        -ms-transform: rotate(360deg);\\n    }\\n}\\n@-moz-keyframes spin {\\n    from {\\n        -moz-transform: rotate(0deg);\\n    }\\n    to {\\n        -moz-transform: rotate(360deg);\\n    }\\n}\\n@-webkit-keyframes spin {\\n    from {\\n        -webkit-transform: rotate(0deg);\\n    }\\n    to {\\n        -webkit-transform: rotate(360deg);\\n    }\\n}\\n@keyframes spin {\\n    from {\\n        transform: rotate(0deg);\\n    }\\n    to {\\n        transform: rotate(360deg);\\n    }\\n}\\n    \");\n    },    function(Bokeh) {\n      inject_raw_css(\"\\n.bk-btn-light .bk-btn-default {\\n    border-width: 0px;\\n}\\n\\n.bk-btn-light .bk-btn-default:hover, .bk-btn-light .bk-btn-default:focus {\\n            border-width: 1px;\\n            color: #212529;\\n            background-color: #e2e6ea;\\n            border-color: #dae0e5;\\n}\\n\\n.bk-btn-light .bk-btn-default:active, .bk-btn-light .bk-btn-default.bk-active  {\\n            border-width: 1px;\\n            color: #212529;\\n            background-color: #dae0e5;\\n            border-color: #d3d9df;\\n            box-shadow: none;\\n}\\n\");\n    },    function(Bokeh) {\n      inject_raw_css(\"\\n    .none {\\n        display: none;\\n    }\\n    .small-btn .bk-btn-group button {\\n        border: 0px;\\n        background-color: transparent;\\n        border-radius: 10px;\\n        height: 20px;\\n        width: 20px;\\n        font-size: 100%;\\n    }\\n    .btn .bk-btn-group button, .btn_focus .bk-btn-group button:hover, .btn_focus .bk-btn-group button:focus {\\n\\n        border: 0px;\\n        background-color: transparent;\\n        border-radius: 10px;\\n        height: 30px;\\n        width: 100px;\\n        box-shadow: inset 0px 0px 0px ;\\n        font-size: 100%;\\n        text-align: left; \\n    }\\n    .btn_focus .bk-btn-group button {\\n\\n        border: 0px;\\n        background-color: rgba(255, 0, 0, 0.2);\\n        border-radius: 10px;\\n        height: 30px;\\n        width: 100px;\\n\\n        font-size: 100%;\\n        text-align: left; \\n    }\\n    .small-btn .bk-btn-group button:hover {\\n        background-color: transparent;\\n    }\\n    .small-btn .bk-btn-group button:focus {\\n        background-color: transparent;\\n        box-shadow: inset 0px 0px 0px ;\\n    }\\n    .btn .bk-btn-group button {\\n\\n        border: 0px;\\n        background-color: transparent;\\n        border-radius: 10px;\\n        height: 30px;\\n        width: 100px;\\n\\n        font-size: 100%;\\n        text-align: left; \\n    }\\n    .btn .bk-btn-group button:hover {\\n        background-color: transparent;\\n    }\\n    .btn .bk-btn-group button:focus {\\n        background-color: transparent;\\n        box-shadow: inset 0px 0px 0px ;\\n    }\\n    .btn .bk-btn-group button:disabled {\\n        background-color: transparent;\\n        box-shadow: inset 0px 0px 0px ;\\n    }\\n    .btn_round .bk-btn-group button {\\n        border: 1px royalblue solid;\\n        background-color: white;\\n        border-radius: 15px;\\n        height: 30px;\\n        font-size: 100%;\\n        text-align: center; \\n\\n\\n    }\\n    .btn_round .bk-btn-group button:hover {\\n        background-color: white;\\n        border: 1px royalblue solid;\\n\\n    }\\n    .bk.bk-btn.bk-btn-default{\\n        display: inline-block;\\n        background-color: transparent;\\n        border: 0px;\\n        text-align: start;\\n        vertical-align: middle;\\n        white-space: nowrap;\\n        padding: 6px 12px;\\n        font-size: 15px;\\n        border: 0px;\\n        border-radius: 0px;\\n        outline: 0;\\n        box-shadow: none;\\n    }\\n    .bk.bk-btn.bk-btn-default.bk-active{\\n        display: inline-block;\\n        background-color: lightgray;\\n        border: 0px;\\n        text-align: start;\\n        vertical-align: middle;\\n        white-space: nowrap;\\n        padding: 6px 12px;\\n        font-size: 15px;\\n        border: 0px;\\n        border-radius: 0px;\\n        outline: 0;\\n        box-shadow: none;\\n    }\\n    .bk.bk-radio.bk-btn-default.bk-active{\\n        display: inline-block;\\n        background-color: lightgray;\\n        border: 0px;\\n        text-align: start;\\n        vertical-align: middle;\\n        white-space: nowrap;\\n        padding: 6px 12px;\\n        font-size: 15px;\\n        border: 0px;\\n        border-radius: 0px;\\n        outline: 0;\\n        box-shadow: none;\\n    }\\n    .bk.center-box {\\n        display: flex;\\n        justify-content: center;\\n        border: 0px;\\n        \\n        }\\n    .bk.box {\\n        background: WhiteSmoke;\\n        border-radius: 10px;\\n        border: 0px;\\n        height: 40px;\\n        }\\n    .bk.float_box {\\n        display: flex;\\n        align-items: center;\\n        justify-content: center;\\n        align: center;\\n        align-self: start;\\n        background: white;\\n        border-radius: 15px;\\n        border: 1px royalblue solid;\\n        height: 40px;\\n        margin-right: 30px;\\n        margin-bottom: 10px;\\n        margin-top: -10px;\\n        \\n        }\\n    .bk.float_box_invisible {\\n        display: none;\\n        }\\n\\n    .picker {\\n        width: 300px;\\n    }\\n    \\n    .bk-root .bk-btn-group:not(.bk-vertical) > .bk-btn:first-child:not(:last-child), .bk-root .bk-btn-group:not(.bk-vertical) > .bk-btn:not(:first-child):last-child {\\n        border-radius: 15px;\\n        margin: 10px;\\n    }\\n    .bk-root .bk-btn-success, .bk-root .bk-btn-success.bk-active, .bk-root .bk-btn-success:hover{\\n        background-color: transparent;\\n        border: 0px;\\n        border-color: transparent;\\n        color: black;\\n        font-size: 14px;\\n        text-align: start;\\n        box-shadow: none;\\n    }\\n    .title .bk-input, .title .bk-input:focus{\\n        border: 0px;\\n        border-radious: 0px;\\n        font-size: 16px;\\n        font-weight : bold;\\n        outline: none;\\n        box-shadow: none;\\n    }\\n    .title .bk-input:hover{\\n        text-decoration : underline;\\n    }\\n    .dialog-content{\\n        margin: 0px;\\n        z-index: 100002;\\n        background-color: WhiteSmoke;\\n        padding: 0px;\\n        padding-bottom: 0px;\\n    \\n        position: fixed;\\n        top: 9%;\\n        left: 80%;\\n        bottom: 100%;\\n        right: 100%;\\n        \\n    }\\n    .dialog-overlay{\\n        background-color: transparent !important;\\n\\n    }\\n    .bk .tile-box{\\n        background-color: transparent !important;\\n        border-color: rgba(0,0,0,.12);\\n        cursor: move;\\n\\n    }\\n    \");\n    },    function(Bokeh) {\n      Bokeh.set_log_level(\"info\");\n    },\n    function(Bokeh) {\n      /* BEGIN awesome_panel_extensions.js */\n      /*!\n       * Copyright (c) 2012 - 2022, Anaconda, Inc., and Bokeh Contributors\n       * All rights reserved.\n       * \n       * Redistribution and use in source and binary forms, with or without modification,\n       * are permitted provided that the following conditions are met:\n       * \n       * Redistributions of source code must retain the above copyright notice,\n       * this list of conditions and the following disclaimer.\n       * \n       * Redistributions in binary form must reproduce the above copyright notice,\n       * this list of conditions and the following disclaimer in the documentation\n       * and/or other materials provided with the distribution.\n       * \n       * Neither the name of Anaconda nor the names of any contributors\n       * may be used to endorse or promote products derived from this software\n       * without specific prior written permission.\n       * \n       * THIS SOFTWARE IS PROVIDED BY THE COPYRIGHT HOLDERS AND CONTRIBUTORS \"AS IS\"\n       * AND ANY EXPRESS OR IMPLIED WARRANTIES, INCLUDING, BUT NOT LIMITED TO, THE\n       * IMPLIED WARRANTIES OF MERCHANTABILITY AND FITNESS FOR A PARTICULAR PURPOSE\n       * ARE DISCLAIMED. IN NO EVENT SHALL THE COPYRIGHT OWNER OR CONTRIBUTORS BE\n       * LIABLE FOR ANY DIRECT, INDIRECT, INCIDENTAL, SPECIAL, EXEMPLARY, OR\n       * CONSEQUENTIAL DAMAGES (INCLUDING, BUT NOT LIMITED TO, PROCUREMENT OF\n       * SUBSTITUTE GOODS OR SERVICES; LOSS OF USE, DATA, OR PROFITS; OR BUSINESS\n       * INTERRUPTION) HOWEVER CAUSED AND ON ANY THEORY OF LIABILITY, WHETHER IN\n       * CONTRACT, STRICT LIABILITY, OR TORT (INCLUDING NEGLIGENCE OR OTHERWISE)\n       * ARISING IN ANY WAY OUT OF THE USE OF THIS SOFTWARE, EVEN IF ADVISED OF\n       * THE POSSIBILITY OF SUCH DAMAGE.\n       */\n      (function(root, factory) {\n        factory(root[\"Bokeh\"], undefined);\n      })(this, function(Bokeh, version) {\n        let define;\n        return (function(modules, entry, aliases, externals) {\n          const bokeh = typeof Bokeh !== \"undefined\" && (version != null ? Bokeh[version] : Bokeh);\n          if (bokeh != null) {\n            return bokeh.register_plugin(modules, entry, aliases);\n          } else {\n            throw new Error(\"Cannot find Bokeh \" + version + \". You have to load it prior to loading plugins.\");\n          }\n        })\n      ({\n      \"67f4331514\": /* index.js */ function _(require, module, exports, __esModule, __esExport) {\n          __esModule();\n          const tslib_1 = require(\"tslib\");\n          const AwesomePanelExtensions = (0, tslib_1.__importStar)(require(\"27c14fc46f\") /* ./bokeh_extensions */);\n          exports.AwesomePanelExtensions = AwesomePanelExtensions;\n          const base_1 = require(\"@bokehjs/base\");\n          (0, base_1.register_models)(AwesomePanelExtensions);\n      },\n      \"27c14fc46f\": /* bokeh_extensions/index.js */ function _(require, module, exports, __esModule, __esExport) {\n          __esModule();\n          var fast_anchor_1 = require(\"d8ad891f6b\") /* ./fast/fast_anchor */;\n          __esExport(\"FastAnchor\", fast_anchor_1.FastAnchor);\n          var fast_button_1 = require(\"2a6cfb6670\") /* ./fast/fast_button */;\n          __esExport(\"FastButton\", fast_button_1.FastButton);\n          var fast_checkbox_group_1 = require(\"bd6aa043dd\") /* ./fast/fast_checkbox_group */;\n          __esExport(\"FastCheckboxGroup\", fast_checkbox_group_1.FastCheckboxGroup);\n          var fast_switch_group_1 = require(\"fd1c589b07\") /* ./fast/fast_switch_group */;\n          __esExport(\"FastSwitchGroup\", fast_switch_group_1.FastSwitchGroup);\n          var fast_textarea_input_1 = require(\"f9509d26e7\") /* ./fast/fast_textarea_input */;\n          __esExport(\"FastTextAreaInput\", fast_textarea_input_1.FastTextAreaInput);\n          var fast_text_input_1 = require(\"7910955c89\") /* ./fast/fast_text_input */;\n          __esExport(\"FastTextInput\", fast_text_input_1.FastTextInput);\n          var pivot_table_1 = require(\"f7bb529305\") /* ./pivot_table */;\n          __esExport(\"PivotTable\", pivot_table_1.PivotTable);\n          var icon_1 = require(\"814c7e898b\") /* ./icon */;\n          __esExport(\"Icon\", icon_1.Icon);\n          var web_component_1 = require(\"d260eb7abe\") /* ./web_component */;\n          __esExport(\"WebComponent\", web_component_1.WebComponent);\n      },\n      \"d8ad891f6b\": /* bokeh_extensions/fast/fast_anchor.js */ function _(require, module, exports, __esModule, __esExport) {\n          __esModule();\n          const html_box_1 = require(\"@bokehjs/models/layouts/html_box\");\n          class FastAnchorView extends html_box_1.HTMLBoxView {\n              setAttr(attribute, value) {\n                  const anchor_el = this.anchor_el;\n                  if (value === null) {\n                      anchor_el.setAttribute(attribute, false);\n                  }\n                  else {\n                      anchor_el.setAttribute(attribute, value);\n                  }\n              }\n              connect_signals() {\n                  super.connect_signals();\n                  this.connect(this.model.properties.name.change, () => {\n                      if (this.model.name === null) {\n                          this.anchor_el.innerHTML = \"\";\n                      }\n                      else {\n                          this.anchor_el.innerHTML = this.model.name;\n                      }\n                  });\n                  this.connect(this.model.properties.appearance.change, () => {\n                      this.setAttr(\"appearance\", this.model.appearance);\n                  });\n                  this.connect(this.model.properties.href.change, () => {\n                      this.setAttr(\"href\", this.model.href);\n                  });\n                  this.connect(this.model.properties.hreflang.change, () => {\n                      this.setAttr(\"hreflang\", this.model.hreflang);\n                  });\n                  this.connect(this.model.properties.ping.change, () => {\n                      this.setAttr(\"ping\", this.model.ping);\n                  });\n                  this.connect(this.model.properties.href.change, () => {\n                      this.setAttr(\"referrerpolicy\", this.model.referrerpolicy);\n                  });\n                  this.connect(this.model.properties.download.change, () => {\n                      this.setAttr(\"download\", this.model.download);\n                  });\n                  this.connect(this.model.properties.referrer.change, () => {\n                      this.setAttr(\"referrer\", this.model.referrer);\n                  });\n                  this.connect(this.model.properties.rel.change, () => {\n                      this.setAttr(\"rel\", this.model.rel);\n                  });\n                  this.connect(this.model.properties.target.change, () => {\n                      this.setAttr(\"mimetype\", this.model.mimetype);\n                  });\n              }\n              render() {\n                  super.render();\n                  const anchor_el = document.createElement(\"fast-anchor\");\n                  this.anchor_el = anchor_el;\n                  this.anchor_el.style.width = \"100%\";\n                  this.el.appendChild(this.anchor_el);\n                  if (this.model.name !== null) {\n                      this.anchor_el.innerHTML = this.model.name;\n                  }\n                  if (this.model.appearance !== null) {\n                      anchor_el.appearance = this.model.appearance;\n                  }\n                  if (this.model.href !== null) {\n                      anchor_el.href = this.model.href;\n                  }\n                  if (this.model.hreflang !== null) {\n                      anchor_el.hreflang = this.model.hreflang;\n                  }\n                  if (this.model.ping !== null) {\n                      anchor_el.ping = this.model.ping;\n                  }\n                  if (this.model.referrerpolicy !== null) {\n                      anchor_el.referrerpolicy = this.model.referrerpolicy;\n                  }\n                  if (this.model.download !== null) {\n                      anchor_el.download = this.model.download;\n                  }\n                  if (this.model.referrer !== null) {\n                      anchor_el.ref = this.model.referrer;\n                  }\n                  if (this.model.rel !== null) {\n                      anchor_el.rel = this.model.rel;\n                  }\n                  if (this.model.target !== null) {\n                      anchor_el.target = this.model.target;\n                  }\n                  if (this.model.mimetype !== null) {\n                      anchor_el.mimetype = this.model.mimetype;\n                  }\n              }\n          }\n          exports.FastAnchorView = FastAnchorView;\n          FastAnchorView.__name__ = \"FastAnchorView\";\n          class FastAnchor extends html_box_1.HTMLBox {\n              constructor(attrs) {\n                  super(attrs);\n              }\n              static init_FastAnchor() {\n                  this.prototype.default_view = FastAnchorView;\n                  this.define(({ String }) => ({\n                      appearance: [String,],\n                      download: [String,],\n                      href: [String,],\n                      hreflang: [String,],\n                      ping: [String,],\n                      referrerpolicy: [String,],\n                      referrer: [String,],\n                      rel: [String,],\n                      target: [String,],\n                      mimetype: [String,],\n                  }));\n              }\n          }\n          exports.FastAnchor = FastAnchor;\n          FastAnchor.__name__ = \"FastAnchor\";\n          FastAnchor.__module__ = \"awesome_panel_extensions.bokeh_extensions.fast.fast_anchor\";\n          FastAnchor.init_FastAnchor();\n      },\n      \"2a6cfb6670\": /* bokeh_extensions/fast/fast_button.js */ function _(require, module, exports, __esModule, __esExport) {\n          __esModule();\n          const button_1 = require(\"@bokehjs/models/widgets/button\");\n          // Browse the fast-button api here  https://explore.fast.design/components/fast-button\n          class FastButtonView extends button_1.ButtonView {\n              _render_button(..._) {\n                  const button = document.createElement(\"fast-button\");\n                  button.innerText = this.model.label;\n                  button.disabled = this.model.disabled;\n                  button.appearance = this.model.appearance;\n                  button.autofocus = this.model.autofocus;\n                  button.style.width = \"100%\";\n                  button.style.height = \"100%\";\n                  return button;\n              }\n          }\n          exports.FastButtonView = FastButtonView;\n          FastButtonView.__name__ = \"FastButtonView\";\n          class FastButton extends button_1.Button {\n              // __view_type__: FastButtonView\n              constructor(attrs) {\n                  super(attrs);\n              }\n              static init_FastButton() {\n                  this.prototype.default_view = FastButtonView;\n                  this.define(({ Boolean, String }) => ({\n                      appearance: [String, \"neutral\"],\n                      autofocus: [Boolean, false],\n                  }));\n              }\n          }\n          exports.FastButton = FastButton;\n          FastButton.__name__ = \"FastButton\";\n          FastButton.__module__ = \"awesome_panel_extensions.bokeh_extensions.fast.fast_button\";\n          FastButton.init_FastButton();\n      },\n      \"bd6aa043dd\": /* bokeh_extensions/fast/fast_checkbox_group.js */ function _(require, module, exports, __esModule, __esExport) {\n          __esModule();\n          const tslib_1 = require(\"tslib\");\n          const checkbox_group_1 = require(\"@bokehjs/models/widgets/checkbox_group\");\n          const inputs = (0, tslib_1.__importStar)(require(\"@bokehjs/styles/widgets/inputs.css\"));\n          const dom_1 = require(\"@bokehjs/core/dom\");\n          const array_1 = require(\"@bokehjs/core/util/array\");\n          // Browse the fast-button api here  https://explore.fast.design/components/fast-button\n          class FastCheckboxGroupView extends checkbox_group_1.CheckboxGroupView {\n              render() {\n                  // Cannot call super.render() as this will add the group twice\n                  // super.render()\n                  const group = (0, dom_1.div)({ class: [inputs.input_group, this.model.inline ? inputs.inline : null] });\n                  this.el.innerHTML = \"\";\n                  this.el.appendChild(group);\n                  const { active, labels } = this.model;\n                  this._inputs = [];\n                  for (let i = 0; i < labels.length; i++) {\n                      let fastCheckBox = document.createElement(\"fast-checkbox\");\n                      if (this.model.readonly)\n                          // Setting the property did not work for me. Thus I set the attribute\n                          fastCheckBox.setAttribute(\"readonly\", true);\n                      fastCheckBox.innerHTML = labels[i];\n                      const checkbox = fastCheckBox;\n                      checkbox.value = `${i}`;\n                      // const checkbox = input({type: `checkbox`, value: `${i}`})\n                      checkbox.addEventListener(\"change\", () => this.change_active(i));\n                      this._inputs.push(checkbox);\n                      if (this.model.disabled)\n                          checkbox.disabled = true;\n                      if ((0, array_1.includes)(active, i))\n                          checkbox.checked = true;\n                      // const label_el = label({}, checkbox, span({}, labels[i]))\n                      group.appendChild(checkbox);\n                  }\n              }\n          }\n          exports.FastCheckboxGroupView = FastCheckboxGroupView;\n          FastCheckboxGroupView.__name__ = \"FastCheckboxGroupView\";\n          class FastCheckboxGroup extends checkbox_group_1.CheckboxGroup {\n              constructor(attrs) {\n                  super(attrs);\n              }\n              static init_FastCheckboxGroup() {\n                  this.prototype.default_view = FastCheckboxGroupView;\n                  this.define(({ Boolean }) => ({\n                      readonly: [Boolean,],\n                  }));\n              }\n          }\n          exports.FastCheckboxGroup = FastCheckboxGroup;\n          FastCheckboxGroup.__name__ = \"FastCheckboxGroup\";\n          FastCheckboxGroup.__module__ = \"awesome_panel_extensions.bokeh_extensions.fast.fast_checkbox_group\";\n          FastCheckboxGroup.init_FastCheckboxGroup();\n      },\n      \"fd1c589b07\": /* bokeh_extensions/fast/fast_switch_group.js */ function _(require, module, exports, __esModule, __esExport) {\n          __esModule();\n          const tslib_1 = require(\"tslib\");\n          const checkbox_group_1 = require(\"@bokehjs/models/widgets/checkbox_group\");\n          const inputs = (0, tslib_1.__importStar)(require(\"@bokehjs/styles/widgets/inputs.css\"));\n          const dom_1 = require(\"@bokehjs/core/dom\");\n          const array_1 = require(\"@bokehjs/core/util/array\");\n          // Browse the fast-switch api here https://explore.fast.design/components/fast-switch\n          class FastSwitchGroupView extends checkbox_group_1.CheckboxGroupView {\n              render() {\n                  // Cannot call super.render() as this will add the group twice\n                  // super.render()\n                  const group = (0, dom_1.div)({ class: [inputs.input_group, this.model.inline ? inputs.inline : null] });\n                  this.el.innerHTML = \"\";\n                  this.el.appendChild(group);\n                  const { active, labels } = this.model;\n                  this._inputs = [];\n                  for (let i = 0; i < labels.length; i++) {\n                      let FastSwitch = document.createElement(\"fast-switch\");\n                      if (this.model.readonly)\n                          // Setting the property did not work for me. Thus I set the attribute\n                          FastSwitch.setAttribute(\"readonly\", true);\n                      FastSwitch.innerHTML = labels[i];\n                      FastSwitch.innerHTML = labels[i];\n                      const fastSwitch = FastSwitch;\n                      fastSwitch.value = `${i}`;\n                      // const checkbox = input({type: `checkbox`, value: `${i}`})\n                      fastSwitch.addEventListener(\"change\", () => this.change_active(i));\n                      this._inputs.push(fastSwitch);\n                      if (this.model.disabled)\n                          fastSwitch.disabled = true;\n                      if ((0, array_1.includes)(active, i))\n                          fastSwitch.checked = true;\n                      const checked_message = document.createElement(\"span\");\n                      checked_message.setAttribute(\"slot\", \"checked-message\");\n                      checked_message.innerHTML = this.model.checked_message;\n                      fastSwitch.appendChild(checked_message);\n                      const unchecked_message = document.createElement(\"span\");\n                      unchecked_message.setAttribute(\"slot\", \"unchecked-message\");\n                      unchecked_message.innerHTML = this.model.unchecked_message;\n                      fastSwitch.appendChild(unchecked_message);\n                      // const label_el = label({}, checkbox, span({}, labels[i]))\n                      group.appendChild(fastSwitch);\n                  }\n              }\n          }\n          exports.FastSwitchGroupView = FastSwitchGroupView;\n          FastSwitchGroupView.__name__ = \"FastSwitchGroupView\";\n          class FastSwitchGroup extends checkbox_group_1.CheckboxGroup {\n              constructor(attrs) {\n                  super(attrs);\n              }\n              static init_FastSwitchGroup() {\n                  this.prototype.default_view = FastSwitchGroupView;\n                  this.define(({ Boolean, String }) => ({\n                      readonly: [Boolean,],\n                      checked_message: [String,],\n                      unchecked_message: [String,],\n                  }));\n              }\n          }\n          exports.FastSwitchGroup = FastSwitchGroup;\n          FastSwitchGroup.__name__ = \"FastSwitchGroup\";\n          FastSwitchGroup.__module__ = \"awesome_panel_extensions.bokeh_extensions.fast.fast_switch_group\";\n          FastSwitchGroup.init_FastSwitchGroup();\n      },\n      \"f9509d26e7\": /* bokeh_extensions/fast/fast_textarea_input.js */ function _(require, module, exports, __esModule, __esExport) {\n          __esModule();\n          const textarea_input_1 = require(\"@bokehjs/models/widgets/textarea_input\");\n          const input_widget_1 = require(\"@bokehjs/models/widgets/input_widget\");\n          // I tried to inherit from TextAreaInputView but I could not\n          // get it working. It created two textareainputs.\n          class FastTextAreaInputView extends input_widget_1.InputWidgetView {\n              get input_el_any() {\n                  return this.input_el;\n              }\n              connect_signals() {\n                  super.connect_signals();\n                  this.connect(this.model.properties.name.change, () => { var _a; return this.input_el.name = (_a = this.model.name) !== null && _a !== void 0 ? _a : \"\"; });\n                  this.connect(this.model.properties.value.change, () => { this.input_el.value = this.model.value; });\n                  this.connect(this.model.properties.disabled.change, () => this.input_el.disabled = this.model.disabled);\n                  this.connect(this.model.properties.placeholder.change, () => this.input_el.placeholder = this.model.placeholder);\n                  this.connect(this.model.properties.rows.change, () => this.input_el.rows = this.model.rows);\n                  this.connect(this.model.properties.cols.change, () => this.input_el.cols = this.model.cols);\n                  this.connect(this.model.properties.max_length.change, () => this.input_el_any.setAttribute(\"maxlength\", this.model.max_length));\n                  this.connect(this.model.properties.appearance.change, () => this.input_el_any.appearance = this.model.appearance);\n                  this.connect(this.model.properties.autofocus.change, () => this.input_el_any.autofocus = this.model.autofocus);\n                  this.connect(this.model.properties.resize.change, () => this.input_el_any.resize = this.model.resize);\n                  this.connect(this.model.properties.spellcheck.change, () => this.input_el_any.spellcheck = this.model.spellcheck);\n                  this.connect(this.model.properties.min_length.change, () => this.input_el_any.setAttribute(\"minlength\", this.model.min_length));\n                  this.connect(this.model.properties.required.change, () => this.input_el_any.required = this.model.required);\n                  // Could not get readonly working as a property.\n                  // https://github.com/microsoft/fast/issues/3852\n                  this.connect(this.model.properties.readonly.change, () => {\n                      if (this.model.readonly === true) {\n                          this.input_el_any.setAttribute(\"readonly\", \"\");\n                      }\n                      else {\n                          this.input_el_any.removeAttribute(\"readonly\");\n                      }\n                  });\n              }\n              render() {\n                  super.render();\n                  const fastTextArea = document.createElement(\"fast-text-area\");\n                  this.input_el = fastTextArea;\n                  this.input_el.className = \"bk-fast-input\";\n                  this.input_el.addEventListener(\"change\", () => this.change_input());\n                  this.group_el.appendChild(this.input_el);\n                  // For some unknown reason we need to set these properties after the above\n                  // Otherwise for example the value is reset to \"\"\n                  fastTextArea.name = this.model.name;\n                  fastTextArea.value = this.model.value;\n                  fastTextArea.disabled = this.model.disabled;\n                  fastTextArea.placeholder = this.model.placeholder;\n                  fastTextArea.cols = this.model.cols;\n                  fastTextArea.rows = this.model.rows;\n                  if (this.model.max_length != null)\n                      fastTextArea.setAttribute(\"maxlength\", this.model.max_length);\n                  fastTextArea.appearance = this.model.appearance;\n                  fastTextArea.autofocus = this.model.autofocus;\n                  fastTextArea.resize = this.model.resize;\n                  fastTextArea.spellcheck = this.model.spellcheck;\n                  if (this.model.min_length != null)\n                      fastTextArea.setAttribute(\"minlength\", this.model.min_length);\n                  fastTextArea.required = this.model.required;\n                  if (this.model.readonly === true)\n                      fastTextArea.setAttribute(\"readonly\", \"\");\n              }\n              change_input() {\n                  this.model.value = this.input_el.value;\n                  super.change_input();\n              }\n          }\n          exports.FastTextAreaInputView = FastTextAreaInputView;\n          FastTextAreaInputView.__name__ = \"FastTextAreaInputView\";\n          class FastTextAreaInput extends textarea_input_1.TextAreaInput {\n              constructor(attrs) {\n                  super(attrs);\n              }\n              static init_FastTextAreaInput() {\n                  this.prototype.default_view = FastTextAreaInputView;\n                  this.define(({ Boolean, Number, String }) => ({\n                      // name inherited\n                      // value inherited\n                      // placeholder inherited\n                      // max_length inherited\n                      // disabled inherited\n                      // cols inherited\n                      // rows inherited\n                      appearance: [String,],\n                      autofocus: [Boolean,],\n                      resize: [String,],\n                      spellcheck: [Boolean,],\n                      min_length: [Number,],\n                      required: [Boolean,],\n                      readonly: [Boolean,],\n                  }));\n              }\n          }\n          exports.FastTextAreaInput = FastTextAreaInput;\n          FastTextAreaInput.__name__ = \"FastTextAreaInput\";\n          FastTextAreaInput.__module__ = \"awesome_panel_extensions.bokeh_extensions.fast.fast_textarea_input\";\n          FastTextAreaInput.init_FastTextAreaInput();\n      },\n      \"7910955c89\": /* bokeh_extensions/fast/fast_text_input.js */ function _(require, module, exports, __esModule, __esExport) {\n          __esModule();\n          const text_input_1 = require(\"@bokehjs/models/widgets/text_input\");\n          const input_widget_1 = require(\"@bokehjs/models/widgets/input_widget\");\n          // I tried to inherit from TextInputView but I could not\n          // get it working. It created two textinputs.\n          class FastTextInputView extends input_widget_1.InputWidgetView {\n              connect_signals() {\n                  super.connect_signals();\n                  this.connect(this.model.properties.name.change, () => { var _a; return this.input_el.name = (_a = this.model.name) !== null && _a !== void 0 ? _a : \"\"; });\n                  this.connect(this.model.properties.value.change, () => { this.input_el.value = this.model.value; console.log(\"value\"); });\n                  this.connect(this.model.properties.value_input.change, () => this.input_el.value = this.model.value_input);\n                  this.connect(this.model.properties.disabled.change, () => this.input_el.disabled = this.model.disabled);\n                  this.connect(this.model.properties.placeholder.change, () => this.input_el.placeholder = this.model.placeholder);\n                  this.connect(this.model.properties.appearance.change, () => this.input_el_any.appearance = this.model.appearance);\n                  this.connect(this.model.properties.autofocus.change, () => this.input_el_any.autofocus = this.model.autofocus);\n                  this.connect(this.model.properties.type_of_text.change, () => this.input_el_any.type = this.model.type_of_text);\n                  this.connect(this.model.properties.max_length.change, () => this.input_el_any.setAttribute(\"maxlength\", this.model.max_length));\n                  this.connect(this.model.properties.min_length.change, () => this.input_el_any.setAttribute(\"minlength\", this.model.min_length));\n                  this.connect(this.model.properties.pattern.change, () => this.input_el_any.pattern = this.model.pattern);\n                  // Could not get size working. It raises an error\n                  // this.connect(this.model.properties.size.change, () => this.input_el_any.size = this.model.size)\n                  this.connect(this.model.properties.spellcheck.change, () => this.input_el_any.spellcheck = this.model.spellcheck);\n                  this.connect(this.model.properties.required.change, () => this.input_el_any.required = this.model.required);\n                  // Could not get readonly working as a property.\n                  // https://github.com/microsoft/fast/issues/3852\n                  this.connect(this.model.properties.readonly.change, () => this.input_el_any.setAttribute(\"readonly\", this.model.readonly));\n              }\n              get input_el_any() {\n                  return this.input_el;\n              }\n              render() {\n                  super.render();\n                  const fastTextField = document.createElement(\"fast-text-field\");\n                  this.input_el = fastTextField;\n                  this.input_el.className = \"bk-fast-input\";\n                  this.input_el.addEventListener(\"change\", () => this.change_input());\n                  this.input_el.addEventListener(\"input\", () => this.change_input_oninput());\n                  this.group_el.appendChild(this.input_el);\n                  // For some unknown reason we need to set these properties after the above\n                  // Otherwise for example the value is reset to \"\"\n                  fastTextField.name = this.model.name;\n                  fastTextField.value = this.model.value;\n                  fastTextField.appearance = this.model.appearance;\n                  fastTextField.autofocus = this.model.autofocus;\n                  fastTextField.placeholder = this.model.placeholder;\n                  fastTextField.disabled = this.model.disabled;\n                  fastTextField.type = this.model.type_of_text;\n                  fastTextField.setAttribute(\"maxlength\", this.model.max_length);\n                  fastTextField.setAttribute(\"minlength\", this.model.min_length);\n                  fastTextField.pattern = this.model.pattern;\n                  // Could not get size working. It raises an error.\n                  // fastTextField.size = this.model.size;\n                  fastTextField.spellcheck = this.model.spellcheck;\n                  fastTextField.required = this.model.required;\n                  fastTextField.disabled = this.model.disabled;\n                  fastTextField.setAttribute(\"readonly\", this.model.readonly);\n              }\n              change_input() {\n                  this.model.value = this.input_el.value;\n                  super.change_input();\n              }\n              change_input_oninput() {\n                  this.model.value_input = this.input_el.value;\n                  super.change_input();\n              }\n          }\n          exports.FastTextInputView = FastTextInputView;\n          FastTextInputView.__name__ = \"FastTextInputView\";\n          class FastTextInput extends text_input_1.TextInput {\n              constructor(attrs) {\n                  super(attrs);\n              }\n              static init_FastTextInput() {\n                  this.prototype.default_view = FastTextInputView;\n                  this.define(({ Any, Boolean, Number, String }) => ({\n                      // name inherited\n                      // value inherited\n                      appearance: [String,],\n                      autofocus: [Boolean,],\n                      // placeholder inherited\n                      type_of_text: [String,],\n                      // max_length: [Number, ],\n                      min_length: [Number,],\n                      pattern: [String,],\n                      size: [Any,],\n                      spellcheck: [Boolean,],\n                      required: [Boolean,],\n                      // disabled inherited\n                      readonly: [Boolean, false],\n                  }));\n              }\n          }\n          exports.FastTextInput = FastTextInput;\n          FastTextInput.__name__ = \"FastTextInput\";\n          FastTextInput.__module__ = \"awesome_panel_extensions.bokeh_extensions.fast.fast_text_input\";\n          FastTextInput.init_FastTextInput();\n      },\n      \"f7bb529305\": /* bokeh_extensions/pivot_table.js */ function _(require, module, exports, __esModule, __esExport) {\n          __esModule();\n          // Bokeh model for perspective-viewer\n          // See https://github.com/finos/perspective/tree/main/packages/perspective-viewer\n          // See https://docs.bokeh.org/en/latest/docs/reference/models/layouts.html\n          const html_box_1 = require(\"@bokehjs/models/layouts/html_box\");\n          const dom_1 = require(\"@bokehjs/core/dom\");\n          const shared_1 = require(\"210d708e84\") /* ./shared */;\n          // The view of the Bokeh extension/ HTML element\n          // Here you can define how to render the model as well as react to model changes or View events.\n          class PivotTableView extends html_box_1.HTMLBoxView {\n              connect_signals() {\n                  super.connect_signals();\n                  this.connect(this.model.source.properties.data.change, this.setData);\n              }\n              render() {\n                  super.render();\n                  this.container = (0, dom_1.div)({ class: \"pnx-pivot-table\" });\n                  (0, shared_1.set_size)(this.container, this.model);\n                  this.el.appendChild(this.container);\n                  this.setData();\n              }\n              setData() {\n                  console.log(\"setData\");\n                  console.log(this.model.source.data);\n                  let data = (0, shared_1.transform_cds_to_records)(this.model.source);\n                  this.pivot_table_element = $(this.container);\n                  console.log(data);\n                  this.pivot_table_element.pivotUI(data, {});\n              }\n          }\n          exports.PivotTableView = PivotTableView;\n          PivotTableView.__name__ = \"PivotTableView\";\n          // The Bokeh .ts model corresponding to the Bokeh .py model\n          class PivotTable extends html_box_1.HTMLBox {\n              constructor(attrs) {\n                  super(attrs);\n              }\n              static init_PivotTable() {\n                  this.prototype.default_view = PivotTableView;\n                  this.define(({ Any }) => ({\n                      source: [Any,],\n                      source_stream: [Any,],\n                      source_patch: [Any,],\n                  }));\n              }\n          }\n          exports.PivotTable = PivotTable;\n          PivotTable.__name__ = \"PivotTable\";\n          PivotTable.__module__ = \"awesome_panel_extensions.bokeh_extensions.pivot_table\";\n          PivotTable.init_PivotTable();\n      },\n      \"210d708e84\": /* bokeh_extensions/shared.js */ function _(require, module, exports, __esModule, __esExport) {\n          __esModule();\n          /** Function copied from the panel\\models\\layout.ts file of Panel\n           * It is used for some models like deckgl, progress and vtlklayout\n           * I have not yet understood why\n           * @param el\n           * @param model\n           */\n          function set_size(el, model) {\n              let width_policy = model.width != null ? \"fixed\" : \"fit\";\n              let height_policy = model.height != null ? \"fixed\" : \"fit\";\n              const { sizing_mode } = model;\n              if (sizing_mode != null) {\n                  if (sizing_mode == \"fixed\")\n                      width_policy = height_policy = \"fixed\";\n                  else if (sizing_mode == \"stretch_both\")\n                      width_policy = height_policy = \"max\";\n                  else if (sizing_mode == \"stretch_width\")\n                      width_policy = \"max\";\n                  else if (sizing_mode == \"stretch_height\")\n                      height_policy = \"max\";\n                  else {\n                      switch (sizing_mode) {\n                          case \"scale_width\":\n                              width_policy = \"max\";\n                              height_policy = \"min\";\n                              break;\n                          case \"scale_height\":\n                              width_policy = \"min\";\n                              height_policy = \"max\";\n                              break;\n                          case \"scale_both\":\n                              width_policy = \"max\";\n                              height_policy = \"max\";\n                              break;\n                          default:\n                              throw new Error(\"unreachable\");\n                      }\n                  }\n              }\n              if (width_policy == \"fixed\" && model.width)\n                  el.style.width = model.width + \"px\";\n              else if (width_policy == \"max\")\n                  el.style.width = \"100%\";\n              if (height_policy == \"fixed\" && model.height)\n                  el.style.height = model.height + \"px\";\n              else if (height_policy == \"max\")\n                  el.style.height = \"100%\";\n          }\n          exports.set_size = set_size;\n          /** Transform the data of the cds to 'records' format, i.e. a list of objects\n           *\n           *  For example transforms to [{\"x\": 1, \"y\": 2}, {\"x\": 3, \"y\": 4}]\n           *\n           *  Some js libraries like perspective-viewer uses this format to load data.\n           *\n           * @param cds\n           */\n          function transform_cds_to_records(cds) {\n              const data = [];\n              const columns = cds.columns();\n              const cdsLength = cds.get_length();\n              if (columns.length === 0 || cdsLength === null) {\n                  return [];\n              }\n              for (let i = 0; i < cdsLength; i++) {\n                  const item = {};\n                  for (const column of columns) {\n                      let array = cds.get_array(column);\n                      const shape = array[0].shape == null ? null : array[0].shape;\n                      if ((shape != null) && (shape.length > 1) && (typeof shape[0] == \"number\"))\n                          item[column] = array.slice(i * shape[1], i * shape[1] + shape[1]);\n                      else\n                          item[column] = array[i];\n                  }\n                  data.push(item);\n              }\n              return data;\n          }\n          exports.transform_cds_to_records = transform_cds_to_records;\n          /** Helper function used to incrementally build a html element string\n           *\n           *  For example toAttribute(\"columns\", ['x','y']) returns ' columns=\"['x','y']\"\n           *  For example toAttribute(\"columns\", null) returns \"\"\n           *\n           * @param attribute\n           * @param value\n           */\n          function toAttribute(attribute, value) {\n              if (value === null) {\n                  return \"\";\n              }\n              if (typeof value !== \"string\") {\n                  value = JSON.stringify(value);\n              }\n              return \" \" + attribute + \"='\" + value + \"'\";\n          }\n          exports.toAttribute = toAttribute;\n      },\n      \"814c7e898b\": /* bokeh_extensions/icon.js */ function _(require, module, exports, __esModule, __esExport) {\n          __esModule();\n          const abstract_icon_1 = require(\"@bokehjs/models/widgets/abstract_icon\");\n          // See https://stackoverflow.com/questions/494143/creating-a-new-dom-element-from-an-html-string-using-built-in-dom-methods-or-pro\n          /**\n           * @param {String} HTML representing a single element\n           * @return {Element}\n           */\n          function htmlToElement(html) {\n              var template = document.createElement('template');\n              html = html.trim(); // Never return a text node of whitespace as the result\n              template.innerHTML = html;\n              return template.content.firstChild;\n          }\n          class IconView extends abstract_icon_1.AbstractIconView {\n              connect_signals() {\n                  super.connect_signals();\n                  this.connect(this.model.change, () => this.render());\n              }\n              render() {\n                  super.render();\n                  if (this.model.text === null && this.model.text === \"\") {\n                      return;\n                  }\n                  this.el.innerHTML = \"\";\n                  const iconEl = htmlToElement(this.model.text);\n                  this.el.appendChild(iconEl);\n                  this.el.style.display = \"inline\";\n                  this.el.style.height = `${this.model.size}em`;\n                  this.el.style.width = `${this.model.size}em`;\n                  iconEl.style.verticalAlign = \"middle\";\n                  iconEl.style.height = `${this.model.size}em`;\n                  iconEl.style.width = `${this.model.size}em`;\n                  iconEl.style.fill = this.model.fill_color;\n                  if (this.model.spin_duration > 0) {\n                      // See https://codepen.io/eveness/pen/BjLaoa\n                      const animationDuration = `${this.model.spin_duration}ms`;\n                      iconEl.style.setProperty(\"-webkit-animation-name\", \"spin\");\n                      iconEl.style.setProperty(\"-webkit-animation-duration\", animationDuration);\n                      iconEl.style.setProperty(\"-webkit-animation-iteration-count\", \"infinite\");\n                      iconEl.style.setProperty(\"-webkit-animation-timing-function\", \"linear\");\n                      iconEl.style.setProperty(\"-moz-animation-name\", \"spin\");\n                      iconEl.style.setProperty(\"-moz-animation-duration\", animationDuration);\n                      iconEl.style.setProperty(\"-moz-animation-iteration-count\", \"infinite\");\n                      iconEl.style.setProperty(\"-moz-animation-timing-function\", \"linear\");\n                      iconEl.style.setProperty(\"-ms-animation-name\", \"spin\");\n                      iconEl.style.setProperty(\"-ms-animation-duration\", animationDuration);\n                      iconEl.style.setProperty(\"-ms-animation-iteration-count\", \"infinite\");\n                      iconEl.style.setProperty(\"-ms-animation-timing-function\", \"linear\");\n                      iconEl.style.setProperty(\"animation-name\", \"spin\");\n                      iconEl.style.setProperty(\"animation-duration\", animationDuration);\n                      iconEl.style.setProperty(\"animation-iteration-count\", \"infinite\");\n                      iconEl.style.setProperty(\"animation-timing-function\", \"linear\");\n                  }\n                  iconEl.classList.add(\"icon\");\n                  if (this.model.label != null && this.model.label !== \"\") {\n                      const label = this.model.label.toLowerCase().replace(\" \", \"\");\n                      iconEl.classList.add(`icon-${label}`);\n                  }\n              }\n          }\n          exports.IconView = IconView;\n          IconView.__name__ = \"IconView\";\n          class Icon extends abstract_icon_1.AbstractIcon {\n              constructor(attrs) {\n                  super(attrs);\n              }\n              static init_Icon() {\n                  this.prototype.default_view = IconView;\n                  this.define(({ String, Number, Int }) => ({\n                      label: [String,],\n                      text: [String,],\n                      size: [Number, 1.0],\n                      fill_color: [String, \"currentColor\"],\n                      spin_duration: [Int, 0],\n                  }));\n              }\n          }\n          exports.Icon = Icon;\n          Icon.__name__ = \"Icon\";\n          Icon.__module__ = \"awesome_panel_extensions.bokeh_extensions.icon\";\n          Icon.init_Icon();\n      },\n      \"d260eb7abe\": /* bokeh_extensions/web_component.js */ function _(require, module, exports, __esModule, __esExport) {\n          __esModule();\n          const tslib_1 = require(\"tslib\");\n          const dom_1 = require(\"@bokehjs/core/dom\");\n          const html_box_1 = require(\"@bokehjs/models/layouts/html_box\");\n          const inputs = (0, tslib_1.__importStar)(require(\"@bokehjs/styles/widgets/inputs.css\"));\n          function htmlDecode(input) {\n              var doc = new DOMParser().parseFromString(input, \"text/html\");\n              return doc.documentElement.textContent;\n          }\n          class WebComponentView extends html_box_1.HTMLBoxView {\n              connect_signals() {\n                  super.connect_signals();\n                  this.connect(this.model.properties.name.change, () => this.handleNameChange());\n                  this.connect(this.model.properties.innerHTML.change, () => this.render());\n                  this.connect(this.model.properties.attributesLastChange.change, () => this.handleAttributesLastChangeChange());\n                  this.connect(this.model.properties.propertiesLastChange.change, () => this.handlePropertiesLastChangeChange());\n                  this.connect(this.model.properties.columnDataSource.change, () => this.handleColumnDataSourceChange());\n              }\n              handleNameChange() {\n                  if (this.label_el)\n                      this.label_el.textContent = this.model.name;\n              }\n              render() {\n                  super.render();\n                  if (this.el.innerHTML !== this.model.innerHTML)\n                      this.createOrUpdateWebComponentElement();\n              }\n              after_layout() {\n                  if (\"after_layout\" in this.webComponentElement)\n                      this.webComponentElement.after_layout();\n              }\n              createOrUpdateWebComponentElement() {\n                  if (this.webComponentElement)\n                      this.webComponentElement.onchange = null;\n                  // @Philippfr: How do we make sure the component is automatically sized according to the\n                  // parameters of the WebComponent like width, height, sizing_mode etc?\n                  // Should we set height and width to 100% or similar?\n                  // For now I've set min_height as a part of .py __init__ for some of the Wired components?\n                  const title = this.model.name;\n                  if (this.model.componentType === \"inputgroup\" && title) {\n                      this.group_el = (0, dom_1.div)({ class: inputs.input_group }, this.label_el);\n                      this.group_el.innerHTML = htmlDecode(this.model.innerHTML);\n                      this.webComponentElement = this.group_el.firstElementChild;\n                      this.label_el = (0, dom_1.label)({ style: { display: title.length == 0 ? \"none\" : \"\" } }, title);\n                      this.group_el.insertBefore(this.label_el, this.webComponentElement);\n                      this.el.appendChild(this.group_el);\n                  }\n                  else {\n                      this.el.innerHTML = htmlDecode(this.model.innerHTML);\n                      this.webComponentElement = this.el.firstElementChild;\n                  }\n                  this.activate_scripts(this.webComponentElement.parentNode);\n                  // Initialize properties\n                  this.initPropertyValues();\n                  this.handlePropertiesLastChangeChange();\n                  this.handleColumnDataSourceChange();\n                  // Subscribe to events\n                  this.webComponentElement.onchange = (ev) => this.handlePropertiesChange(ev);\n                  this.addEventListeners();\n                  this.addAttributesMutationObserver();\n              }\n              addAttributesMutationObserver() {\n                  if (!this.model.attributesToWatch)\n                      return;\n                  let options = {\n                      childList: false,\n                      attributes: true,\n                      characterData: false,\n                      subtree: false,\n                      attributeFilter: Object.keys(this.model.attributesToWatch),\n                      attributeOldValue: false,\n                      characterDataOldValue: false\n                  };\n                  const handleAttributesChange = (_) => {\n                      let attributesLastChange = new Object();\n                      for (let attribute in this.model.attributesToWatch) {\n                          const value = this.webComponentElement.getAttribute(attribute);\n                          attributesLastChange[attribute] = value;\n                      }\n                      if (this.model.attributesLastChange !== attributesLastChange)\n                          this.model.attributesLastChange = attributesLastChange;\n                  };\n                  let observer = new MutationObserver(handleAttributesChange);\n                  observer.observe(this.webComponentElement, options);\n              }\n              addEventListeners() {\n                  this.eventsCount = {};\n                  for (let event in this.model.eventsToWatch) {\n                      this.eventsCount[event] = 0;\n                      this.webComponentElement.addEventListener(event, (ev) => this.eventHandler(ev), false);\n                  }\n              }\n              transform_cds_to_records(cds) {\n                  const data = [];\n                  const columns = cds.columns();\n                  const cdsLength = cds.get_length();\n                  if (columns.length === 0 || cdsLength === null) {\n                      return [];\n                  }\n                  for (let i = 0; i < cdsLength; i++) {\n                      const item = {};\n                      for (const column of columns) {\n                          let array = cds.get_array(column);\n                          const shape = array[0].shape == null ? null : array[0].shape;\n                          if ((shape != null) && (shape.length > 1) && (typeof shape[0] == \"number\"))\n                              item[column] = array.slice(i * shape[1], i * shape[1] + shape[1]);\n                          else\n                              item[column] = array[i];\n                      }\n                      data.push(item);\n                  }\n                  return data;\n              }\n              // https://stackoverflow.com/questions/5999998/check-if-a-variable-is-of-function-type\n              isFunction(functionToCheck) {\n                  if (functionToCheck) {\n                      const stringName = {}.toString.call(functionToCheck);\n                      return stringName === '[object Function]' || stringName === '[object AsyncFunction]';\n                  }\n                  else {\n                      return false;\n                  }\n              }\n              /**\n               * Handles changes to `this.model.columnDataSource`\n               * by\n               * updating the data source of `this.webComponentElement`\n               * using the function or property specifed in `this.model.columnDataSourceLoadFunction`\n               */\n              handleColumnDataSourceChange() {\n                  // @Philippfr: Right now we just reload all the data\n                  // For example Perspective has an `update` function to append data\n                  // Is this something we could/ should support?\n                  if (this.model.columnDataSource) {\n                      let data; // list\n                      const columnDataSourceOrient = this.model.columnDataSourceOrient;\n                      if (columnDataSourceOrient === \"records\")\n                          data = this.transform_cds_to_records(this.model.columnDataSource);\n                      else\n                          data = this.model.columnDataSource.data; // @ts-ignore\n                      if (this.model.columnDataSourceLoadFunction === null) {\n                          return;\n                      }\n                      const loadFunctionName = this.model.columnDataSourceLoadFunction.toString();\n                      const loadFunction = this.webComponentElement[loadFunctionName];\n                      if (this.isFunction(loadFunction))\n                          this.webComponentElement[loadFunctionName](data);\n                      else\n                          this.webComponentElement[loadFunctionName] = data;\n                  }\n                  // Todo: handle situation where this.model.columnDataSource is null\n              }\n              activate_scripts(el) {\n                  Array.from(el.querySelectorAll(\"script\")).forEach((oldScript) => {\n                      const newScript = document.createElement(\"script\");\n                      Array.from(oldScript.attributes)\n                          .forEach(attr => newScript.setAttribute(attr.name, attr.value));\n                      newScript.appendChild(document.createTextNode(oldScript.innerHTML));\n                      if (oldScript.parentNode)\n                          oldScript.parentNode.replaceChild(newScript, oldScript);\n                  });\n              }\n              // See https://stackoverflow.com/questions/6491463/accessing-nested-javascript-objects-with-string-key\n              /**\n               * Example:\n               *\n               * `get_nested_property(element, \"textInput.value\")` returns `element.textInput.value`\n               *\n               * @param element\n               * @param property_\n               */\n              get_nested_property(element, property_) {\n                  property_ = property_.replace(/\\[(\\w+)\\]/g, '.$1'); // convert indexes to properties\n                  property_ = property_.replace(/^\\./, ''); // strip a leading dot\n                  let a = property_.split('.');\n                  for (let i = 0, n = a.length; i < n; ++i) {\n                      let k = a[i];\n                      if (k in element)\n                          element = element[k];\n                      else\n                          return \"\";\n                  }\n                  return element;\n              }\n              set_nested_property(element, property_, value) {\n                  // @Phillipfr: I need your help to understand and solve this\n                  // hack: Setting the value of the WIRED-SLIDER before its ready\n                  // will destroy the setter.\n                  // I don't yet understand this.\n                  // if ([\"WIRED-SLIDER\"].indexOf(element.tagName)>=0){\n                  //   const setter = element.__lookupSetter__(property_);\n                  //   if (!setter){return}\n                  // }\n                  const pList = property_.split('.');\n                  if (pList.length === 1)\n                      element[property_] = value;\n                  else {\n                      const len = pList.length;\n                      for (let i = 0; i < len - 1; i++) {\n                          const elem = pList[i];\n                          if (!element[elem])\n                              element[elem] = {};\n                          element = element[elem];\n                      }\n                      element[pList[len - 1]] = value;\n                  }\n              }\n              /**\n               * Handles events from `eventsToWatch` by\n               *\n               * - Incrementing the count of the event\n               * - Checking if any properties have changed\n               *\n               * @param ev The Event Fired\n               */\n              eventHandler(ev) {\n                  let event = ev.type;\n                  this.eventsCount[event] += 1;\n                  let eventsCountLastChanged = {};\n                  eventsCountLastChanged[event] = this.eventsCount[event];\n                  this.model.eventsCountLastChange = eventsCountLastChanged;\n                  this.checkIfPropertiesChanged();\n              }\n              /** Checks if any properties have changed. In case this is communicated to the server.\n               *\n               * For example the Wired `DropDown` does not run the `onchange` event handler when the selection changes.\n               * Insted the `select` event is fired. Thus we can subscribe to this event and manually check for property changes.\n               */\n              checkIfPropertiesChanged() {\n                  const propertiesChange = {};\n                  for (const property in this.model.propertiesToWatch) {\n                      const oldValue = this.propertyValues[property];\n                      const newValue = this.get_nested_property(this.webComponentElement, property);\n                      if (oldValue != newValue) {\n                          propertiesChange[property] = newValue;\n                          this.propertyValues[property] = newValue;\n                      }\n                  }\n                  if (Object.keys(propertiesChange).length)\n                      this.model.propertiesLastChange = propertiesChange;\n              }\n              /** Handles the `WebComponentElement` `(on)change` event\n               *\n               * Communicates any changed properties in `propertiesToWatch` to the server\n               * by updating `this.model.propertiesLastChange`.\n               * @param ev\n               */\n              handlePropertiesChange(ev) {\n                  const properties_change = new Object();\n                  for (const property in this.model.propertiesToWatch) {\n                      if (ev.detail && property in ev.detail) {\n                          properties_change[property] = ev.detail[property];\n                          this.propertyValues[property] = ev.detail[property];\n                      }\n                      else if (ev.target && property in ev.target) {\n                          properties_change[property] = ev.target[property];\n                          this.propertyValues[property] = ev.target[property];\n                      }\n                  }\n                  if (Object.keys(properties_change).length)\n                      this.model.propertiesLastChange = properties_change;\n              }\n              initPropertyValues() {\n                  this.propertyValues = new Object();\n                  if (!this.webComponentElement) {\n                      return;\n                  }\n                  for (let property in this.model.propertiesToWatch) {\n                      let old_value = this.propertyValues[property];\n                      let new_value = this.get_nested_property(this.webComponentElement, property);\n                      if (new_value !== old_value) {\n                          this.propertyValues[property] = new_value;\n                      }\n                  }\n              }\n              /**\n               * Handles changes to `this.model.attributesLastChange`\n               * by\n               * updating the attributes of `this.webComponentElement` accordingly\n               */\n              handleAttributesLastChangeChange() {\n                  if (!this.webComponentElement)\n                      return;\n                  let attributesLastChange = this.model.attributesLastChange;\n                  for (let attribute in this.model.attributesLastChange) {\n                      if (attribute in this.model.attributesToWatch) {\n                          let old_value = this.webComponentElement.getAttribute(attribute);\n                          let new_value = attributesLastChange[attribute];\n                          if (old_value !== new_value) {\n                              if (new_value === null)\n                                  this.webComponentElement.removeAttribute(attribute);\n                              else\n                                  this.webComponentElement.setAttribute(attribute, new_value);\n                          }\n                      }\n                  }\n              }\n              /**\n              * Handles changes to `this.model.propertiesLastChange`\n              * by\n              * updating the properties of `this.webComponentElement` accordingly\n              */\n              handlePropertiesLastChangeChange() {\n                  if (!this.webComponentElement) {\n                      return;\n                  }\n                  let propertiesLastChange = this.model.propertiesLastChange;\n                  for (let property in this.model.propertiesLastChange) {\n                      if (property in this.model.propertiesToWatch) {\n                          let value = propertiesLastChange[property];\n                          this.set_nested_property(this.webComponentElement, property, value);\n                      }\n                  }\n              }\n          }\n          exports.WebComponentView = WebComponentView;\n          WebComponentView.__name__ = \"WebComponentView\";\n          class WebComponent extends html_box_1.HTMLBox {\n              constructor(attrs) {\n                  super(attrs);\n              }\n              static init_WebComponent() {\n                  this.prototype.default_view = WebComponentView;\n                  this.define(({ Any, String }) => ({\n                      componentType: [String, 'htmlbox'],\n                      innerHTML: [String, ''],\n                      attributesToWatch: [Any],\n                      attributesLastChange: [Any],\n                      propertiesToWatch: [Any],\n                      propertiesLastChange: [Any],\n                      eventsToWatch: [Any],\n                      eventsCountLastChange: [Any],\n                      columnDataSource: [Any],\n                      columnDataSourceOrient: [Any],\n                      columnDataSourceLoadFunction: [Any], // A string\n                  }));\n              }\n          }\n          exports.WebComponent = WebComponent;\n          WebComponent.__name__ = \"WebComponent\";\n          WebComponent.__module__ = \"awesome_panel_extensions.bokeh_extensions.web_component\";\n          WebComponent.init_WebComponent();\n      },\n      }, \"67f4331514\", {\"index\":\"67f4331514\",\"bokeh_extensions/index\":\"27c14fc46f\",\"bokeh_extensions/fast/fast_anchor\":\"d8ad891f6b\",\"bokeh_extensions/fast/fast_button\":\"2a6cfb6670\",\"bokeh_extensions/fast/fast_checkbox_group\":\"bd6aa043dd\",\"bokeh_extensions/fast/fast_switch_group\":\"fd1c589b07\",\"bokeh_extensions/fast/fast_textarea_input\":\"f9509d26e7\",\"bokeh_extensions/fast/fast_text_input\":\"7910955c89\",\"bokeh_extensions/pivot_table\":\"f7bb529305\",\"bokeh_extensions/shared\":\"210d708e84\",\"bokeh_extensions/icon\":\"814c7e898b\",\"bokeh_extensions/web_component\":\"d260eb7abe\"}, {});});\n      //# sourceMappingURL=awesome_panel_extensions.js.map\n\n      /* END awesome_panel_extensions.js */\n    },\nfunction(Bokeh) {} // ensure no trailing comma for IE\n  ];\n\n  function run_inline_js() {\n    if ((root.Bokeh !== undefined) || (force === true)) {\n      for (var i = 0; i < inline_js.length; i++) {\n        inline_js[i].call(root, root.Bokeh);\n      }} else if (Date.now() < root._bokeh_timeout) {\n      setTimeout(run_inline_js, 100);\n    } else if (!root._bokeh_failed_load) {\n      console.log(\"Bokeh: BokehJS failed to load within specified timeout.\");\n      root._bokeh_failed_load = true;\n    }\n  }\n\n  if (root._bokeh_is_loading === 0) {\n    console.debug(\"Bokeh: BokehJS loaded, going straight to plotting\");\n    run_inline_js();\n  } else {\n    load_libs(css_urls, js_urls, js_modules, function() {\n      console.debug(\"Bokeh: BokehJS plotting callback run at\", now());\n      run_inline_js();\n    });\n  }\n}(window));"
     },
     "metadata": {},
     "output_type": "display_data"
    },
    {
     "data": {
      "application/javascript": [
       "\n",
       "if ((window.PyViz === undefined) || (window.PyViz instanceof HTMLElement)) {\n",
       "  window.PyViz = {comms: {}, comm_status:{}, kernels:{}, receivers: {}, plot_index: []}\n",
       "}\n",
       "\n",
       "\n",
       "    function JupyterCommManager() {\n",
       "    }\n",
       "\n",
       "    JupyterCommManager.prototype.register_target = function(plot_id, comm_id, msg_handler) {\n",
       "      if (window.comm_manager || ((window.Jupyter !== undefined) && (Jupyter.notebook.kernel != null))) {\n",
       "        var comm_manager = window.comm_manager || Jupyter.notebook.kernel.comm_manager;\n",
       "        comm_manager.register_target(comm_id, function(comm) {\n",
       "          comm.on_msg(msg_handler);\n",
       "        });\n",
       "      } else if ((plot_id in window.PyViz.kernels) && (window.PyViz.kernels[plot_id])) {\n",
       "        window.PyViz.kernels[plot_id].registerCommTarget(comm_id, function(comm) {\n",
       "          comm.onMsg = msg_handler;\n",
       "        });\n",
       "      } else if (typeof google != 'undefined' && google.colab.kernel != null) {\n",
       "        google.colab.kernel.comms.registerTarget(comm_id, (comm) => {\n",
       "          var messages = comm.messages[Symbol.asyncIterator]();\n",
       "          function processIteratorResult(result) {\n",
       "            var message = result.value;\n",
       "            console.log(message)\n",
       "            var content = {data: message.data, comm_id};\n",
       "            var buffers = []\n",
       "            for (var buffer of message.buffers || []) {\n",
       "              buffers.push(new DataView(buffer))\n",
       "            }\n",
       "            var metadata = message.metadata || {};\n",
       "            var msg = {content, buffers, metadata}\n",
       "            msg_handler(msg);\n",
       "            return messages.next().then(processIteratorResult);\n",
       "          }\n",
       "          return messages.next().then(processIteratorResult);\n",
       "        })\n",
       "      }\n",
       "    }\n",
       "\n",
       "    JupyterCommManager.prototype.get_client_comm = function(plot_id, comm_id, msg_handler) {\n",
       "      if (comm_id in window.PyViz.comms) {\n",
       "        return window.PyViz.comms[comm_id];\n",
       "      } else if (window.comm_manager || ((window.Jupyter !== undefined) && (Jupyter.notebook.kernel != null))) {\n",
       "        var comm_manager = window.comm_manager || Jupyter.notebook.kernel.comm_manager;\n",
       "        var comm = comm_manager.new_comm(comm_id, {}, {}, {}, comm_id);\n",
       "        if (msg_handler) {\n",
       "          comm.on_msg(msg_handler);\n",
       "        }\n",
       "      } else if ((plot_id in window.PyViz.kernels) && (window.PyViz.kernels[plot_id])) {\n",
       "        var comm = window.PyViz.kernels[plot_id].connectToComm(comm_id);\n",
       "        comm.open();\n",
       "        if (msg_handler) {\n",
       "          comm.onMsg = msg_handler;\n",
       "        }\n",
       "      } else if (typeof google != 'undefined' && google.colab.kernel != null) {\n",
       "        var comm_promise = google.colab.kernel.comms.open(comm_id)\n",
       "        comm_promise.then((comm) => {\n",
       "          window.PyViz.comms[comm_id] = comm;\n",
       "          if (msg_handler) {\n",
       "            var messages = comm.messages[Symbol.asyncIterator]();\n",
       "            function processIteratorResult(result) {\n",
       "              var message = result.value;\n",
       "              var content = {data: message.data};\n",
       "              var metadata = message.metadata || {comm_id};\n",
       "              var msg = {content, metadata}\n",
       "              msg_handler(msg);\n",
       "              return messages.next().then(processIteratorResult);\n",
       "            }\n",
       "            return messages.next().then(processIteratorResult);\n",
       "          }\n",
       "        }) \n",
       "        var sendClosure = (data, metadata, buffers, disposeOnDone) => {\n",
       "          return comm_promise.then((comm) => {\n",
       "            comm.send(data, metadata, buffers, disposeOnDone);\n",
       "          });\n",
       "        };\n",
       "        var comm = {\n",
       "          send: sendClosure\n",
       "        };\n",
       "      }\n",
       "      window.PyViz.comms[comm_id] = comm;\n",
       "      return comm;\n",
       "    }\n",
       "    window.PyViz.comm_manager = new JupyterCommManager();\n",
       "    \n",
       "\n",
       "\n",
       "var JS_MIME_TYPE = 'application/javascript';\n",
       "var HTML_MIME_TYPE = 'text/html';\n",
       "var EXEC_MIME_TYPE = 'application/vnd.holoviews_exec.v0+json';\n",
       "var CLASS_NAME = 'output';\n",
       "\n",
       "/**\n",
       " * Render data to the DOM node\n",
       " */\n",
       "function render(props, node) {\n",
       "  var div = document.createElement(\"div\");\n",
       "  var script = document.createElement(\"script\");\n",
       "  node.appendChild(div);\n",
       "  node.appendChild(script);\n",
       "}\n",
       "\n",
       "/**\n",
       " * Handle when a new output is added\n",
       " */\n",
       "function handle_add_output(event, handle) {\n",
       "  var output_area = handle.output_area;\n",
       "  var output = handle.output;\n",
       "  if ((output.data == undefined) || (!output.data.hasOwnProperty(EXEC_MIME_TYPE))) {\n",
       "    return\n",
       "  }\n",
       "  var id = output.metadata[EXEC_MIME_TYPE][\"id\"];\n",
       "  var toinsert = output_area.element.find(\".\" + CLASS_NAME.split(' ')[0]);\n",
       "  if (id !== undefined) {\n",
       "    var nchildren = toinsert.length;\n",
       "    var html_node = toinsert[nchildren-1].children[0];\n",
       "    html_node.innerHTML = output.data[HTML_MIME_TYPE];\n",
       "    var scripts = [];\n",
       "    var nodelist = html_node.querySelectorAll(\"script\");\n",
       "    for (var i in nodelist) {\n",
       "      if (nodelist.hasOwnProperty(i)) {\n",
       "        scripts.push(nodelist[i])\n",
       "      }\n",
       "    }\n",
       "\n",
       "    scripts.forEach( function (oldScript) {\n",
       "      var newScript = document.createElement(\"script\");\n",
       "      var attrs = [];\n",
       "      var nodemap = oldScript.attributes;\n",
       "      for (var j in nodemap) {\n",
       "        if (nodemap.hasOwnProperty(j)) {\n",
       "          attrs.push(nodemap[j])\n",
       "        }\n",
       "      }\n",
       "      attrs.forEach(function(attr) { newScript.setAttribute(attr.name, attr.value) });\n",
       "      newScript.appendChild(document.createTextNode(oldScript.innerHTML));\n",
       "      oldScript.parentNode.replaceChild(newScript, oldScript);\n",
       "    });\n",
       "    if (JS_MIME_TYPE in output.data) {\n",
       "      toinsert[nchildren-1].children[1].textContent = output.data[JS_MIME_TYPE];\n",
       "    }\n",
       "    output_area._hv_plot_id = id;\n",
       "    if ((window.Bokeh !== undefined) && (id in Bokeh.index)) {\n",
       "      window.PyViz.plot_index[id] = Bokeh.index[id];\n",
       "    } else {\n",
       "      window.PyViz.plot_index[id] = null;\n",
       "    }\n",
       "  } else if (output.metadata[EXEC_MIME_TYPE][\"server_id\"] !== undefined) {\n",
       "    var bk_div = document.createElement(\"div\");\n",
       "    bk_div.innerHTML = output.data[HTML_MIME_TYPE];\n",
       "    var script_attrs = bk_div.children[0].attributes;\n",
       "    for (var i = 0; i < script_attrs.length; i++) {\n",
       "      toinsert[toinsert.length - 1].childNodes[1].setAttribute(script_attrs[i].name, script_attrs[i].value);\n",
       "    }\n",
       "    // store reference to server id on output_area\n",
       "    output_area._bokeh_server_id = output.metadata[EXEC_MIME_TYPE][\"server_id\"];\n",
       "  }\n",
       "}\n",
       "\n",
       "/**\n",
       " * Handle when an output is cleared or removed\n",
       " */\n",
       "function handle_clear_output(event, handle) {\n",
       "  var id = handle.cell.output_area._hv_plot_id;\n",
       "  var server_id = handle.cell.output_area._bokeh_server_id;\n",
       "  if (((id === undefined) || !(id in PyViz.plot_index)) && (server_id !== undefined)) { return; }\n",
       "  var comm = window.PyViz.comm_manager.get_client_comm(\"hv-extension-comm\", \"hv-extension-comm\", function () {});\n",
       "  if (server_id !== null) {\n",
       "    comm.send({event_type: 'server_delete', 'id': server_id});\n",
       "    return;\n",
       "  } else if (comm !== null) {\n",
       "    comm.send({event_type: 'delete', 'id': id});\n",
       "  }\n",
       "  delete PyViz.plot_index[id];\n",
       "  if ((window.Bokeh !== undefined) & (id in window.Bokeh.index)) {\n",
       "    var doc = window.Bokeh.index[id].model.document\n",
       "    doc.clear();\n",
       "    const i = window.Bokeh.documents.indexOf(doc);\n",
       "    if (i > -1) {\n",
       "      window.Bokeh.documents.splice(i, 1);\n",
       "    }\n",
       "  }\n",
       "}\n",
       "\n",
       "/**\n",
       " * Handle kernel restart event\n",
       " */\n",
       "function handle_kernel_cleanup(event, handle) {\n",
       "  delete PyViz.comms[\"hv-extension-comm\"];\n",
       "  window.PyViz.plot_index = {}\n",
       "}\n",
       "\n",
       "/**\n",
       " * Handle update_display_data messages\n",
       " */\n",
       "function handle_update_output(event, handle) {\n",
       "  handle_clear_output(event, {cell: {output_area: handle.output_area}})\n",
       "  handle_add_output(event, handle)\n",
       "}\n",
       "\n",
       "function register_renderer(events, OutputArea) {\n",
       "  function append_mime(data, metadata, element) {\n",
       "    // create a DOM node to render to\n",
       "    var toinsert = this.create_output_subarea(\n",
       "    metadata,\n",
       "    CLASS_NAME,\n",
       "    EXEC_MIME_TYPE\n",
       "    );\n",
       "    this.keyboard_manager.register_events(toinsert);\n",
       "    // Render to node\n",
       "    var props = {data: data, metadata: metadata[EXEC_MIME_TYPE]};\n",
       "    render(props, toinsert[0]);\n",
       "    element.append(toinsert);\n",
       "    return toinsert\n",
       "  }\n",
       "\n",
       "  events.on('output_added.OutputArea', handle_add_output);\n",
       "  events.on('output_updated.OutputArea', handle_update_output);\n",
       "  events.on('clear_output.CodeCell', handle_clear_output);\n",
       "  events.on('delete.Cell', handle_clear_output);\n",
       "  events.on('kernel_ready.Kernel', handle_kernel_cleanup);\n",
       "\n",
       "  OutputArea.prototype.register_mime_type(EXEC_MIME_TYPE, append_mime, {\n",
       "    safe: true,\n",
       "    index: 0\n",
       "  });\n",
       "}\n",
       "\n",
       "if (window.Jupyter !== undefined) {\n",
       "  try {\n",
       "    var events = require('base/js/events');\n",
       "    var OutputArea = require('notebook/js/outputarea').OutputArea;\n",
       "    if (OutputArea.prototype.mime_types().indexOf(EXEC_MIME_TYPE) == -1) {\n",
       "      register_renderer(events, OutputArea);\n",
       "    }\n",
       "  } catch(err) {\n",
       "  }\n",
       "}\n"
      ],
      "application/vnd.holoviews_load.v0+json": "\nif ((window.PyViz === undefined) || (window.PyViz instanceof HTMLElement)) {\n  window.PyViz = {comms: {}, comm_status:{}, kernels:{}, receivers: {}, plot_index: []}\n}\n\n\n    function JupyterCommManager() {\n    }\n\n    JupyterCommManager.prototype.register_target = function(plot_id, comm_id, msg_handler) {\n      if (window.comm_manager || ((window.Jupyter !== undefined) && (Jupyter.notebook.kernel != null))) {\n        var comm_manager = window.comm_manager || Jupyter.notebook.kernel.comm_manager;\n        comm_manager.register_target(comm_id, function(comm) {\n          comm.on_msg(msg_handler);\n        });\n      } else if ((plot_id in window.PyViz.kernels) && (window.PyViz.kernels[plot_id])) {\n        window.PyViz.kernels[plot_id].registerCommTarget(comm_id, function(comm) {\n          comm.onMsg = msg_handler;\n        });\n      } else if (typeof google != 'undefined' && google.colab.kernel != null) {\n        google.colab.kernel.comms.registerTarget(comm_id, (comm) => {\n          var messages = comm.messages[Symbol.asyncIterator]();\n          function processIteratorResult(result) {\n            var message = result.value;\n            console.log(message)\n            var content = {data: message.data, comm_id};\n            var buffers = []\n            for (var buffer of message.buffers || []) {\n              buffers.push(new DataView(buffer))\n            }\n            var metadata = message.metadata || {};\n            var msg = {content, buffers, metadata}\n            msg_handler(msg);\n            return messages.next().then(processIteratorResult);\n          }\n          return messages.next().then(processIteratorResult);\n        })\n      }\n    }\n\n    JupyterCommManager.prototype.get_client_comm = function(plot_id, comm_id, msg_handler) {\n      if (comm_id in window.PyViz.comms) {\n        return window.PyViz.comms[comm_id];\n      } else if (window.comm_manager || ((window.Jupyter !== undefined) && (Jupyter.notebook.kernel != null))) {\n        var comm_manager = window.comm_manager || Jupyter.notebook.kernel.comm_manager;\n        var comm = comm_manager.new_comm(comm_id, {}, {}, {}, comm_id);\n        if (msg_handler) {\n          comm.on_msg(msg_handler);\n        }\n      } else if ((plot_id in window.PyViz.kernels) && (window.PyViz.kernels[plot_id])) {\n        var comm = window.PyViz.kernels[plot_id].connectToComm(comm_id);\n        comm.open();\n        if (msg_handler) {\n          comm.onMsg = msg_handler;\n        }\n      } else if (typeof google != 'undefined' && google.colab.kernel != null) {\n        var comm_promise = google.colab.kernel.comms.open(comm_id)\n        comm_promise.then((comm) => {\n          window.PyViz.comms[comm_id] = comm;\n          if (msg_handler) {\n            var messages = comm.messages[Symbol.asyncIterator]();\n            function processIteratorResult(result) {\n              var message = result.value;\n              var content = {data: message.data};\n              var metadata = message.metadata || {comm_id};\n              var msg = {content, metadata}\n              msg_handler(msg);\n              return messages.next().then(processIteratorResult);\n            }\n            return messages.next().then(processIteratorResult);\n          }\n        }) \n        var sendClosure = (data, metadata, buffers, disposeOnDone) => {\n          return comm_promise.then((comm) => {\n            comm.send(data, metadata, buffers, disposeOnDone);\n          });\n        };\n        var comm = {\n          send: sendClosure\n        };\n      }\n      window.PyViz.comms[comm_id] = comm;\n      return comm;\n    }\n    window.PyViz.comm_manager = new JupyterCommManager();\n    \n\n\nvar JS_MIME_TYPE = 'application/javascript';\nvar HTML_MIME_TYPE = 'text/html';\nvar EXEC_MIME_TYPE = 'application/vnd.holoviews_exec.v0+json';\nvar CLASS_NAME = 'output';\n\n/**\n * Render data to the DOM node\n */\nfunction render(props, node) {\n  var div = document.createElement(\"div\");\n  var script = document.createElement(\"script\");\n  node.appendChild(div);\n  node.appendChild(script);\n}\n\n/**\n * Handle when a new output is added\n */\nfunction handle_add_output(event, handle) {\n  var output_area = handle.output_area;\n  var output = handle.output;\n  if ((output.data == undefined) || (!output.data.hasOwnProperty(EXEC_MIME_TYPE))) {\n    return\n  }\n  var id = output.metadata[EXEC_MIME_TYPE][\"id\"];\n  var toinsert = output_area.element.find(\".\" + CLASS_NAME.split(' ')[0]);\n  if (id !== undefined) {\n    var nchildren = toinsert.length;\n    var html_node = toinsert[nchildren-1].children[0];\n    html_node.innerHTML = output.data[HTML_MIME_TYPE];\n    var scripts = [];\n    var nodelist = html_node.querySelectorAll(\"script\");\n    for (var i in nodelist) {\n      if (nodelist.hasOwnProperty(i)) {\n        scripts.push(nodelist[i])\n      }\n    }\n\n    scripts.forEach( function (oldScript) {\n      var newScript = document.createElement(\"script\");\n      var attrs = [];\n      var nodemap = oldScript.attributes;\n      for (var j in nodemap) {\n        if (nodemap.hasOwnProperty(j)) {\n          attrs.push(nodemap[j])\n        }\n      }\n      attrs.forEach(function(attr) { newScript.setAttribute(attr.name, attr.value) });\n      newScript.appendChild(document.createTextNode(oldScript.innerHTML));\n      oldScript.parentNode.replaceChild(newScript, oldScript);\n    });\n    if (JS_MIME_TYPE in output.data) {\n      toinsert[nchildren-1].children[1].textContent = output.data[JS_MIME_TYPE];\n    }\n    output_area._hv_plot_id = id;\n    if ((window.Bokeh !== undefined) && (id in Bokeh.index)) {\n      window.PyViz.plot_index[id] = Bokeh.index[id];\n    } else {\n      window.PyViz.plot_index[id] = null;\n    }\n  } else if (output.metadata[EXEC_MIME_TYPE][\"server_id\"] !== undefined) {\n    var bk_div = document.createElement(\"div\");\n    bk_div.innerHTML = output.data[HTML_MIME_TYPE];\n    var script_attrs = bk_div.children[0].attributes;\n    for (var i = 0; i < script_attrs.length; i++) {\n      toinsert[toinsert.length - 1].childNodes[1].setAttribute(script_attrs[i].name, script_attrs[i].value);\n    }\n    // store reference to server id on output_area\n    output_area._bokeh_server_id = output.metadata[EXEC_MIME_TYPE][\"server_id\"];\n  }\n}\n\n/**\n * Handle when an output is cleared or removed\n */\nfunction handle_clear_output(event, handle) {\n  var id = handle.cell.output_area._hv_plot_id;\n  var server_id = handle.cell.output_area._bokeh_server_id;\n  if (((id === undefined) || !(id in PyViz.plot_index)) && (server_id !== undefined)) { return; }\n  var comm = window.PyViz.comm_manager.get_client_comm(\"hv-extension-comm\", \"hv-extension-comm\", function () {});\n  if (server_id !== null) {\n    comm.send({event_type: 'server_delete', 'id': server_id});\n    return;\n  } else if (comm !== null) {\n    comm.send({event_type: 'delete', 'id': id});\n  }\n  delete PyViz.plot_index[id];\n  if ((window.Bokeh !== undefined) & (id in window.Bokeh.index)) {\n    var doc = window.Bokeh.index[id].model.document\n    doc.clear();\n    const i = window.Bokeh.documents.indexOf(doc);\n    if (i > -1) {\n      window.Bokeh.documents.splice(i, 1);\n    }\n  }\n}\n\n/**\n * Handle kernel restart event\n */\nfunction handle_kernel_cleanup(event, handle) {\n  delete PyViz.comms[\"hv-extension-comm\"];\n  window.PyViz.plot_index = {}\n}\n\n/**\n * Handle update_display_data messages\n */\nfunction handle_update_output(event, handle) {\n  handle_clear_output(event, {cell: {output_area: handle.output_area}})\n  handle_add_output(event, handle)\n}\n\nfunction register_renderer(events, OutputArea) {\n  function append_mime(data, metadata, element) {\n    // create a DOM node to render to\n    var toinsert = this.create_output_subarea(\n    metadata,\n    CLASS_NAME,\n    EXEC_MIME_TYPE\n    );\n    this.keyboard_manager.register_events(toinsert);\n    // Render to node\n    var props = {data: data, metadata: metadata[EXEC_MIME_TYPE]};\n    render(props, toinsert[0]);\n    element.append(toinsert);\n    return toinsert\n  }\n\n  events.on('output_added.OutputArea', handle_add_output);\n  events.on('output_updated.OutputArea', handle_update_output);\n  events.on('clear_output.CodeCell', handle_clear_output);\n  events.on('delete.Cell', handle_clear_output);\n  events.on('kernel_ready.Kernel', handle_kernel_cleanup);\n\n  OutputArea.prototype.register_mime_type(EXEC_MIME_TYPE, append_mime, {\n    safe: true,\n    index: 0\n  });\n}\n\nif (window.Jupyter !== undefined) {\n  try {\n    var events = require('base/js/events');\n    var OutputArea = require('notebook/js/outputarea').OutputArea;\n    if (OutputArea.prototype.mime_types().indexOf(EXEC_MIME_TYPE) == -1) {\n      register_renderer(events, OutputArea);\n    }\n  } catch(err) {\n  }\n}\n"
     },
     "metadata": {},
     "output_type": "display_data"
    },
    {
     "data": {
      "text/html": [
       "<style>.bk-root, .bk-root .bk:before, .bk-root .bk:after {\n",
       "  font-family: var(--jp-ui-font-size1);\n",
       "  font-size: var(--jp-ui-font-size1);\n",
       "  color: var(--jp-ui-font-color1);\n",
       "}\n",
       "</style>"
      ]
     },
     "metadata": {},
     "output_type": "display_data"
    },
    {
     "name": "stdout",
     "output_type": "stream",
     "text": [
      "Launching server at http://localhost:44109\n"
     ]
    },
    {
     "data": {
      "text/plain": [
       "<panel.io.server.Server at 0x7f9c6833cd00>"
      ]
     },
     "execution_count": 5,
     "metadata": {},
     "output_type": "execute_result"
    }
   ],
   "source": [
    "import panel as pn\n",
    "import numpy as np\n",
    "import holoviews as hv\n",
    "\n",
    "pn.extension(sizing_mode = 'stretch_width')\n",
    "\n",
    "material = pn.template.MaterialTemplate(title='Material Template')\n",
    "\n",
    "xs = np.linspace(0, np.pi)\n",
    "freq = pn.widgets.FloatSlider(name=\"Frequency\", start=0, end=10, value=2)\n",
    "phase = pn.widgets.FloatSlider(name=\"Phase\", start=0, end=np.pi)\n",
    "\n",
    "@pn.depends(freq=freq, phase=phase)\n",
    "def sine(freq, phase):\n",
    "    return hv.Curve((xs, np.sin(xs*freq+phase))).opts(\n",
    "        responsive=True, min_height=400)\n",
    "\n",
    "@pn.depends(freq=freq, phase=phase)\n",
    "def cosine(freq, phase):\n",
    "    return hv.Curve((xs, np.cos(xs*freq+phase))).opts(\n",
    "        responsive=True, min_height=400)\n",
    "\n",
    "material.sidebar.append(freq)\n",
    "material.sidebar.append(phase)\n",
    "\n",
    "material.main.append(\n",
    "    pn.Row(\n",
    "        pn.Card(hv.DynamicMap(sine), title='Sine'),\n",
    "        pn.Card(hv.DynamicMap(cosine), title='Cosine')\n",
    "    )\n",
    ")\n",
    "material.header_background = 'transparent'\n",
    "\n",
    "material.show()"
   ]
  },
  {
   "cell_type": "code",
   "execution_count": 2,
   "metadata": {
    "tags": []
   },
   "outputs": [
    {
     "data": {
      "application/vnd.jupyter.widget-view+json": {
       "model_id": "ace585db0ca14c4c867958231b45bb22",
       "version_major": 2,
       "version_minor": 0
      },
      "text/plain": [
       "Button(description='Restart', style=ButtonStyle())"
      ]
     },
     "metadata": {},
     "output_type": "display_data"
    }
   ],
   "source": [
    "from ipywidgets import widgets\n",
    "from IPython.display import display\n",
    "\n",
    "def but1(b):\n",
    "    get_ipython().set_next_input('print(\"Happy\")',replace=True)\n",
    "\n",
    "Button1 = widgets.Button(description='Restart')\n",
    "Button1.on_click(but1)\n",
    "display(Button1)"
   ]
  },
  {
   "cell_type": "code",
   "execution_count": 4,
   "metadata": {
    "tags": []
   },
   "outputs": [],
   "source": [
    "name = \"Alice\"\n",
    "get_ipython().set_next_input(f'print(\"Hello, {name}!\")')\n"
   ]
  },
  {
   "cell_type": "code",
   "execution_count": null,
   "metadata": {},
   "outputs": [],
   "source": [
    "print(\"Hello, Alice!\")"
   ]
  },
  {
   "cell_type": "code",
   "execution_count": null,
   "metadata": {},
   "outputs": [],
   "source": [
    "print(\"Hello, Alice!\")"
   ]
  },
  {
   "cell_type": "code",
   "execution_count": 19,
   "metadata": {
    "tags": []
   },
   "outputs": [
    {
     "ename": "SyntaxError",
     "evalue": "invalid syntax (1683702079.py, line 10)",
     "output_type": "error",
     "traceback": [
      "\u001b[0;36m  Cell \u001b[0;32mIn[19], line 10\u001b[0;36m\u001b[0m\n\u001b[0;31m    const data = {\u001b[0m\n\u001b[0m          ^\u001b[0m\n\u001b[0;31mSyntaxError\u001b[0m\u001b[0;31m:\u001b[0m invalid syntax\n"
     ]
    }
   ],
   "source": [
    "%load_ext ipython_magic\n",
    "%%javascript\n",
    "require.config({\n",
    "  paths: {\n",
    "    'chartjs': 'https://cdnjs.cloudflare.com/ajax/libs/Chart.js/3.6.0/chart.min'\n",
    "  }\n",
    "});\n",
    "\n",
    "\n",
    "const data = {\n",
    "  labels: ['Red', 'Blue', 'Yellow', 'Green', 'Purple', 'Orange'],\n",
    "  datasets: [{\n",
    "    label: 'My First Dataset',\n",
    "    data: [12, 19, 3, 5, 2, 3],\n",
    "    backgroundColor: [\n",
    "      'rgba(255, 99, 132, 0.2)',\n",
    "      'rgba(54, 162, 235, 0.2)',\n",
    "      'rgba(255, 206, 86, 0.2)',\n",
    "      'rgba(75, 192, 192, 0.2)',\n",
    "      'rgba(153, 102, 255, 0.2)',\n",
    "      'rgba(255, 159, 64, 0.2)'\n",
    "    ],\n",
    "    borderColor: [\n",
    "      'rgba(255, 99, 132, 1)',\n",
    "      'rgba(54, 162, 235, 1)',\n",
    "      'rgba(255, 206, 86, 1)',\n",
    "      'rgba(75, 192, 192, 1)',\n",
    "      'rgba(153, 102, 255, 1)',\n",
    "      'rgba(255, 159, 64, 1)'\n",
    "    ],\n",
    "    borderWidth: 1\n",
    "  }]\n",
    "};\n",
    "\n",
    "const options = {\n",
    "  scales: {\n",
    "    y: {\n",
    "      beginAtZero: true\n",
    "    }\n",
    "  }\n",
    "};\n",
    "\n",
    "\n",
    "from IPython.display import Javascript, display\n",
    "\n",
    "display(Javascript(\"\"\"\n",
    "require(['chartjs'], function(Chart) {\n",
    "  const ctx = document.createElement('canvas').getContext('2d');\n",
    "  const chart = new Chart(ctx, {\n",
    "    type: 'bar',\n",
    "    data: data,\n",
    "    options: options\n",
    "  });\n",
    "  document.body.appendChild(ctx.canvas);\n",
    "});\n",
    "\"\"\"))\n"
   ]
  },
  {
   "cell_type": "code",
   "execution_count": 6,
   "metadata": {
    "tags": []
   },
   "outputs": [
    {
     "data": {
      "application/javascript": [
       "(function(root) {\n",
       "  function now() {\n",
       "    return new Date();\n",
       "  }\n",
       "\n",
       "  var force = true;\n",
       "\n",
       "  if (typeof root._bokeh_onload_callbacks === \"undefined\" || force === true) {\n",
       "    root._bokeh_onload_callbacks = [];\n",
       "    root._bokeh_is_loading = undefined;\n",
       "  }\n",
       "\n",
       "  if (typeof (root._bokeh_timeout) === \"undefined\" || force === true) {\n",
       "    root._bokeh_timeout = Date.now() + 5000;\n",
       "    root._bokeh_failed_load = false;\n",
       "  }\n",
       "\n",
       "  function run_callbacks() {\n",
       "    try {\n",
       "      root._bokeh_onload_callbacks.forEach(function(callback) {\n",
       "        if (callback != null)\n",
       "          callback();\n",
       "      });\n",
       "    } finally {\n",
       "      delete root._bokeh_onload_callbacks\n",
       "    }\n",
       "    console.debug(\"Bokeh: all callbacks have finished\");\n",
       "  }\n",
       "\n",
       "  function load_libs(css_urls, js_urls, js_modules, callback) {\n",
       "    if (css_urls == null) css_urls = [];\n",
       "    if (js_urls == null) js_urls = [];\n",
       "    if (js_modules == null) js_modules = [];\n",
       "\n",
       "    root._bokeh_onload_callbacks.push(callback);\n",
       "    if (root._bokeh_is_loading > 0) {\n",
       "      console.debug(\"Bokeh: BokehJS is being loaded, scheduling callback at\", now());\n",
       "      return null;\n",
       "    }\n",
       "    if (js_urls.length === 0 && js_modules.length === 0) {\n",
       "      run_callbacks();\n",
       "      return null;\n",
       "    }\n",
       "    console.debug(\"Bokeh: BokehJS not loaded, scheduling load and callback at\", now());\n",
       "\n",
       "    function on_load() {\n",
       "      root._bokeh_is_loading--;\n",
       "      if (root._bokeh_is_loading === 0) {\n",
       "        console.debug(\"Bokeh: all BokehJS libraries/stylesheets loaded\");\n",
       "        run_callbacks()\n",
       "      }\n",
       "    }\n",
       "\n",
       "    function on_error() {\n",
       "      console.error(\"failed to load \" + url);\n",
       "    }\n",
       "\n",
       "    for (var i = 0; i < css_urls.length; i++) {\n",
       "      var url = css_urls[i];\n",
       "      const element = document.createElement(\"link\");\n",
       "      element.onload = on_load;\n",
       "      element.onerror = on_error;\n",
       "      element.rel = \"stylesheet\";\n",
       "      element.type = \"text/css\";\n",
       "      element.href = url;\n",
       "      console.debug(\"Bokeh: injecting link tag for BokehJS stylesheet: \", url);\n",
       "      document.body.appendChild(element);\n",
       "    }\n",
       "\n",
       "    var skip = [];\n",
       "    if (window.requirejs) {\n",
       "      window.requirejs.config({'packages': {}, 'paths': {'gridstack': 'https://cdn.jsdelivr.net/npm/gridstack@4.2.5/dist/gridstack-h5', 'notyf': 'https://cdn.jsdelivr.net/npm/notyf@3/notyf.min'}, 'shim': {'gridstack': {'exports': 'GridStack'}}});\n",
       "      require([\"gridstack\"], function(GridStack) {\n",
       "\twindow.GridStack = GridStack\n",
       "\ton_load()\n",
       "      })\n",
       "      require([\"notyf\"], function() {\n",
       "\ton_load()\n",
       "      })\n",
       "      root._bokeh_is_loading = css_urls.length + 2;\n",
       "    } else {\n",
       "      root._bokeh_is_loading = css_urls.length + js_urls.length + js_modules.length;\n",
       "    }    if (((window['GridStack'] !== undefined) && (!(window['GridStack'] instanceof HTMLElement))) || window.requirejs) {\n",
       "      var urls = ['https://cdn.holoviz.org/panel/0.14.2/dist/bundled/gridstack/gridstack@4.2.5/dist/gridstack-h5.js'];\n",
       "      for (var i = 0; i < urls.length; i++) {\n",
       "        skip.push(urls[i])\n",
       "      }\n",
       "    }    if (((window['Notyf'] !== undefined) && (!(window['Notyf'] instanceof HTMLElement))) || window.requirejs) {\n",
       "      var urls = ['https://cdn.holoviz.org/panel/0.14.2/dist/bundled/notificationarea/notyf@3/notyf.min.js'];\n",
       "      for (var i = 0; i < urls.length; i++) {\n",
       "        skip.push(urls[i])\n",
       "      }\n",
       "    }    for (var i = 0; i < js_urls.length; i++) {\n",
       "      var url = js_urls[i];\n",
       "      if (skip.indexOf(url) >= 0) {\n",
       "\tif (!window.requirejs) {\n",
       "\t  on_load();\n",
       "\t}\n",
       "\tcontinue;\n",
       "      }\n",
       "      var element = document.createElement('script');\n",
       "      element.onload = on_load;\n",
       "      element.onerror = on_error;\n",
       "      element.async = false;\n",
       "      element.src = url;\n",
       "      console.debug(\"Bokeh: injecting script tag for BokehJS library: \", url);\n",
       "      document.head.appendChild(element);\n",
       "    }\n",
       "    for (var i = 0; i < js_modules.length; i++) {\n",
       "      var url = js_modules[i];\n",
       "      if (skip.indexOf(url) >= 0) {\n",
       "\tif (!window.requirejs) {\n",
       "\t  on_load();\n",
       "\t}\n",
       "\tcontinue;\n",
       "      }\n",
       "      var element = document.createElement('script');\n",
       "      element.onload = on_load;\n",
       "      element.onerror = on_error;\n",
       "      element.async = false;\n",
       "      element.src = url;\n",
       "      element.type = \"module\";\n",
       "      console.debug(\"Bokeh: injecting script tag for BokehJS library: \", url);\n",
       "      document.head.appendChild(element);\n",
       "    }\n",
       "    if (!js_urls.length && !js_modules.length) {\n",
       "      on_load()\n",
       "    }\n",
       "  };\n",
       "\n",
       "  function inject_raw_css(css) {\n",
       "    const element = document.createElement(\"style\");\n",
       "    element.appendChild(document.createTextNode(css));\n",
       "    document.body.appendChild(element);\n",
       "  }\n",
       "\n",
       "  var js_urls = [\"https://cdn.bokeh.org/bokeh/release/bokeh-2.4.3.min.js\", \"https://cdn.bokeh.org/bokeh/release/bokeh-gl-2.4.3.min.js\", \"https://cdn.bokeh.org/bokeh/release/bokeh-widgets-2.4.3.min.js\", \"https://cdn.bokeh.org/bokeh/release/bokeh-tables-2.4.3.min.js\", \"https://cdn.bokeh.org/bokeh/release/bokeh-mathjax-2.4.3.min.js\", \"https://unpkg.com/@holoviz/panel@0.14.2/dist/panel.min.js\"];\n",
       "  var js_modules = [];\n",
       "  var css_urls = [\"https://cdn.holoviz.org/panel/0.14.2/dist/css/dataframe.css\", \"https://cdn.holoviz.org/panel/0.14.2/dist/css/json.css\", \"https://cdn.holoviz.org/panel/0.14.2/dist/css/loading.css\", \"https://cdn.holoviz.org/panel/0.14.2/dist/css/markdown.css\", \"https://cdn.holoviz.org/panel/0.14.2/dist/css/widgets.css\", \"https://cdn.holoviz.org/panel/0.14.2/dist/css/debugger.css\", \"https://cdn.holoviz.org/panel/0.14.2/dist/css/alerts.css\", \"https://cdn.holoviz.org/panel/0.14.2/dist/css/card.css\"];\n",
       "  var inline_js = [    function(Bokeh) {\n",
       "      inject_raw_css(\"\\n    .bk.pn-loading.arc:before {\\n      background-image: url(\\\"data:image/svg+xml;base64,PHN2ZyB4bWxucz0iaHR0cDovL3d3dy53My5vcmcvMjAwMC9zdmciIHN0eWxlPSJtYXJnaW46IGF1dG87IGJhY2tncm91bmQ6IG5vbmU7IGRpc3BsYXk6IGJsb2NrOyBzaGFwZS1yZW5kZXJpbmc6IGF1dG87IiB2aWV3Qm94PSIwIDAgMTAwIDEwMCIgcHJlc2VydmVBc3BlY3RSYXRpbz0ieE1pZFlNaWQiPiAgPGNpcmNsZSBjeD0iNTAiIGN5PSI1MCIgZmlsbD0ibm9uZSIgc3Ryb2tlPSIjYzNjM2MzIiBzdHJva2Utd2lkdGg9IjEwIiByPSIzNSIgc3Ryb2tlLWRhc2hhcnJheT0iMTY0LjkzMzYxNDMxMzQ2NDE1IDU2Ljk3Nzg3MTQzNzgyMTM4Ij4gICAgPGFuaW1hdGVUcmFuc2Zvcm0gYXR0cmlidXRlTmFtZT0idHJhbnNmb3JtIiB0eXBlPSJyb3RhdGUiIHJlcGVhdENvdW50PSJpbmRlZmluaXRlIiBkdXI9IjFzIiB2YWx1ZXM9IjAgNTAgNTA7MzYwIDUwIDUwIiBrZXlUaW1lcz0iMDsxIj48L2FuaW1hdGVUcmFuc2Zvcm0+ICA8L2NpcmNsZT48L3N2Zz4=\\\");\\n      background-size: auto calc(min(50%, 400px));\\n    }\\n    \");\n",
       "    },    function(Bokeh) {\n",
       "      inject_raw_css(\"css1 {\\n  border: 0.5rem outset pink;\\n  outline: 0.5rem solid khaki;\\n  box-shadow: 0 0 0 2rem skyblue;\\n  border-radius: 12px;\\n  font: bold 1rem sans-serif;\\n  margin: 2rem;\\n  padding: 1rem;\\n  outline-offset: 0.5rem;\\n}\\n\");\n",
       "    },    function(Bokeh) {\n",
       "      inject_raw_css(\"css1 {\\n  border: 0.5rem outset pink;\\n  outline: 0.5rem solid khaki;\\n  box-shadow: 0 0 0 2rem skyblue;\\n  border-radius: 12px;\\n  font: bold 1rem sans-serif;\\n  margin: 2rem;\\n  padding: 1rem;\\n  outline-offset: 0.5rem;\\n}\\n\");\n",
       "    },    function(Bokeh) {\n",
       "      inject_raw_css(\"css1 {\\n  border: 0.5rem outset pink;\\n  outline: 0.5rem solid khaki;\\n  box-shadow: 0 0 0 2rem skyblue;\\n  border-radius: 12px;\\n  font: bold 1rem sans-serif;\\n  margin: 2rem;\\n  padding: 1rem;\\n  outline-offset: 0.5rem;\\n  width: stretch;\\n}\\n\");\n",
       "    },    function(Bokeh) {\n",
       "      inject_raw_css(\"css1 {\\n  border: 0.5rem outset pink;\\n  outline: 0.5rem solid khaki;\\n  box-shadow: 0 0 0 2rem skyblue;\\n  border-radius: 12px;\\n  font: bold 1rem sans-serif;\\n  margin: 2rem;\\n  padding: 1rem;\\n  outline-offset: 0.5rem;\\n  width: stretch_width;\\n}\\n\");\n",
       "    },    function(Bokeh) {\n",
       "      inject_raw_css(\"css1 {\\n  border: 0.5rem outset pink;\\n  outline: 0.5rem solid khaki;\\n  box-shadow: 0 0 0 2rem skyblue;\\n  border-radius: 12px;\\n  font: bold 1rem sans-serif;\\n  margin: 2rem;\\n  padding: 1rem;\\n  outline-offset: 0.5rem;\\n  width: stretch_width;\\n}\\n\");\n",
       "    },    function(Bokeh) {\n",
       "      Bokeh.set_log_level(\"info\");\n",
       "    },\n",
       "function(Bokeh) {} // ensure no trailing comma for IE\n",
       "  ];\n",
       "\n",
       "  function run_inline_js() {\n",
       "    if ((root.Bokeh !== undefined) || (force === true)) {\n",
       "      for (var i = 0; i < inline_js.length; i++) {\n",
       "        inline_js[i].call(root, root.Bokeh);\n",
       "      }} else if (Date.now() < root._bokeh_timeout) {\n",
       "      setTimeout(run_inline_js, 100);\n",
       "    } else if (!root._bokeh_failed_load) {\n",
       "      console.log(\"Bokeh: BokehJS failed to load within specified timeout.\");\n",
       "      root._bokeh_failed_load = true;\n",
       "    }\n",
       "  }\n",
       "\n",
       "  if (root._bokeh_is_loading === 0) {\n",
       "    console.debug(\"Bokeh: BokehJS loaded, going straight to plotting\");\n",
       "    run_inline_js();\n",
       "  } else {\n",
       "    load_libs(css_urls, js_urls, js_modules, function() {\n",
       "      console.debug(\"Bokeh: BokehJS plotting callback run at\", now());\n",
       "      run_inline_js();\n",
       "    });\n",
       "  }\n",
       "}(window));"
      ],
      "application/vnd.holoviews_load.v0+json": ""
     },
     "metadata": {},
     "output_type": "display_data"
    },
    {
     "data": {
      "application/javascript": [
       "\n",
       "if ((window.PyViz === undefined) || (window.PyViz instanceof HTMLElement)) {\n",
       "  window.PyViz = {comms: {}, comm_status:{}, kernels:{}, receivers: {}, plot_index: []}\n",
       "}\n",
       "\n",
       "\n",
       "    function JupyterCommManager() {\n",
       "    }\n",
       "\n",
       "    JupyterCommManager.prototype.register_target = function(plot_id, comm_id, msg_handler) {\n",
       "      if (window.comm_manager || ((window.Jupyter !== undefined) && (Jupyter.notebook.kernel != null))) {\n",
       "        var comm_manager = window.comm_manager || Jupyter.notebook.kernel.comm_manager;\n",
       "        comm_manager.register_target(comm_id, function(comm) {\n",
       "          comm.on_msg(msg_handler);\n",
       "        });\n",
       "      } else if ((plot_id in window.PyViz.kernels) && (window.PyViz.kernels[plot_id])) {\n",
       "        window.PyViz.kernels[plot_id].registerCommTarget(comm_id, function(comm) {\n",
       "          comm.onMsg = msg_handler;\n",
       "        });\n",
       "      } else if (typeof google != 'undefined' && google.colab.kernel != null) {\n",
       "        google.colab.kernel.comms.registerTarget(comm_id, (comm) => {\n",
       "          var messages = comm.messages[Symbol.asyncIterator]();\n",
       "          function processIteratorResult(result) {\n",
       "            var message = result.value;\n",
       "            console.log(message)\n",
       "            var content = {data: message.data, comm_id};\n",
       "            var buffers = []\n",
       "            for (var buffer of message.buffers || []) {\n",
       "              buffers.push(new DataView(buffer))\n",
       "            }\n",
       "            var metadata = message.metadata || {};\n",
       "            var msg = {content, buffers, metadata}\n",
       "            msg_handler(msg);\n",
       "            return messages.next().then(processIteratorResult);\n",
       "          }\n",
       "          return messages.next().then(processIteratorResult);\n",
       "        })\n",
       "      }\n",
       "    }\n",
       "\n",
       "    JupyterCommManager.prototype.get_client_comm = function(plot_id, comm_id, msg_handler) {\n",
       "      if (comm_id in window.PyViz.comms) {\n",
       "        return window.PyViz.comms[comm_id];\n",
       "      } else if (window.comm_manager || ((window.Jupyter !== undefined) && (Jupyter.notebook.kernel != null))) {\n",
       "        var comm_manager = window.comm_manager || Jupyter.notebook.kernel.comm_manager;\n",
       "        var comm = comm_manager.new_comm(comm_id, {}, {}, {}, comm_id);\n",
       "        if (msg_handler) {\n",
       "          comm.on_msg(msg_handler);\n",
       "        }\n",
       "      } else if ((plot_id in window.PyViz.kernels) && (window.PyViz.kernels[plot_id])) {\n",
       "        var comm = window.PyViz.kernels[plot_id].connectToComm(comm_id);\n",
       "        comm.open();\n",
       "        if (msg_handler) {\n",
       "          comm.onMsg = msg_handler;\n",
       "        }\n",
       "      } else if (typeof google != 'undefined' && google.colab.kernel != null) {\n",
       "        var comm_promise = google.colab.kernel.comms.open(comm_id)\n",
       "        comm_promise.then((comm) => {\n",
       "          window.PyViz.comms[comm_id] = comm;\n",
       "          if (msg_handler) {\n",
       "            var messages = comm.messages[Symbol.asyncIterator]();\n",
       "            function processIteratorResult(result) {\n",
       "              var message = result.value;\n",
       "              var content = {data: message.data};\n",
       "              var metadata = message.metadata || {comm_id};\n",
       "              var msg = {content, metadata}\n",
       "              msg_handler(msg);\n",
       "              return messages.next().then(processIteratorResult);\n",
       "            }\n",
       "            return messages.next().then(processIteratorResult);\n",
       "          }\n",
       "        }) \n",
       "        var sendClosure = (data, metadata, buffers, disposeOnDone) => {\n",
       "          return comm_promise.then((comm) => {\n",
       "            comm.send(data, metadata, buffers, disposeOnDone);\n",
       "          });\n",
       "        };\n",
       "        var comm = {\n",
       "          send: sendClosure\n",
       "        };\n",
       "      }\n",
       "      window.PyViz.comms[comm_id] = comm;\n",
       "      return comm;\n",
       "    }\n",
       "    window.PyViz.comm_manager = new JupyterCommManager();\n",
       "    \n",
       "\n",
       "\n",
       "var JS_MIME_TYPE = 'application/javascript';\n",
       "var HTML_MIME_TYPE = 'text/html';\n",
       "var EXEC_MIME_TYPE = 'application/vnd.holoviews_exec.v0+json';\n",
       "var CLASS_NAME = 'output';\n",
       "\n",
       "/**\n",
       " * Render data to the DOM node\n",
       " */\n",
       "function render(props, node) {\n",
       "  var div = document.createElement(\"div\");\n",
       "  var script = document.createElement(\"script\");\n",
       "  node.appendChild(div);\n",
       "  node.appendChild(script);\n",
       "}\n",
       "\n",
       "/**\n",
       " * Handle when a new output is added\n",
       " */\n",
       "function handle_add_output(event, handle) {\n",
       "  var output_area = handle.output_area;\n",
       "  var output = handle.output;\n",
       "  if ((output.data == undefined) || (!output.data.hasOwnProperty(EXEC_MIME_TYPE))) {\n",
       "    return\n",
       "  }\n",
       "  var id = output.metadata[EXEC_MIME_TYPE][\"id\"];\n",
       "  var toinsert = output_area.element.find(\".\" + CLASS_NAME.split(' ')[0]);\n",
       "  if (id !== undefined) {\n",
       "    var nchildren = toinsert.length;\n",
       "    var html_node = toinsert[nchildren-1].children[0];\n",
       "    html_node.innerHTML = output.data[HTML_MIME_TYPE];\n",
       "    var scripts = [];\n",
       "    var nodelist = html_node.querySelectorAll(\"script\");\n",
       "    for (var i in nodelist) {\n",
       "      if (nodelist.hasOwnProperty(i)) {\n",
       "        scripts.push(nodelist[i])\n",
       "      }\n",
       "    }\n",
       "\n",
       "    scripts.forEach( function (oldScript) {\n",
       "      var newScript = document.createElement(\"script\");\n",
       "      var attrs = [];\n",
       "      var nodemap = oldScript.attributes;\n",
       "      for (var j in nodemap) {\n",
       "        if (nodemap.hasOwnProperty(j)) {\n",
       "          attrs.push(nodemap[j])\n",
       "        }\n",
       "      }\n",
       "      attrs.forEach(function(attr) { newScript.setAttribute(attr.name, attr.value) });\n",
       "      newScript.appendChild(document.createTextNode(oldScript.innerHTML));\n",
       "      oldScript.parentNode.replaceChild(newScript, oldScript);\n",
       "    });\n",
       "    if (JS_MIME_TYPE in output.data) {\n",
       "      toinsert[nchildren-1].children[1].textContent = output.data[JS_MIME_TYPE];\n",
       "    }\n",
       "    output_area._hv_plot_id = id;\n",
       "    if ((window.Bokeh !== undefined) && (id in Bokeh.index)) {\n",
       "      window.PyViz.plot_index[id] = Bokeh.index[id];\n",
       "    } else {\n",
       "      window.PyViz.plot_index[id] = null;\n",
       "    }\n",
       "  } else if (output.metadata[EXEC_MIME_TYPE][\"server_id\"] !== undefined) {\n",
       "    var bk_div = document.createElement(\"div\");\n",
       "    bk_div.innerHTML = output.data[HTML_MIME_TYPE];\n",
       "    var script_attrs = bk_div.children[0].attributes;\n",
       "    for (var i = 0; i < script_attrs.length; i++) {\n",
       "      toinsert[toinsert.length - 1].childNodes[1].setAttribute(script_attrs[i].name, script_attrs[i].value);\n",
       "    }\n",
       "    // store reference to server id on output_area\n",
       "    output_area._bokeh_server_id = output.metadata[EXEC_MIME_TYPE][\"server_id\"];\n",
       "  }\n",
       "}\n",
       "\n",
       "/**\n",
       " * Handle when an output is cleared or removed\n",
       " */\n",
       "function handle_clear_output(event, handle) {\n",
       "  var id = handle.cell.output_area._hv_plot_id;\n",
       "  var server_id = handle.cell.output_area._bokeh_server_id;\n",
       "  if (((id === undefined) || !(id in PyViz.plot_index)) && (server_id !== undefined)) { return; }\n",
       "  var comm = window.PyViz.comm_manager.get_client_comm(\"hv-extension-comm\", \"hv-extension-comm\", function () {});\n",
       "  if (server_id !== null) {\n",
       "    comm.send({event_type: 'server_delete', 'id': server_id});\n",
       "    return;\n",
       "  } else if (comm !== null) {\n",
       "    comm.send({event_type: 'delete', 'id': id});\n",
       "  }\n",
       "  delete PyViz.plot_index[id];\n",
       "  if ((window.Bokeh !== undefined) & (id in window.Bokeh.index)) {\n",
       "    var doc = window.Bokeh.index[id].model.document\n",
       "    doc.clear();\n",
       "    const i = window.Bokeh.documents.indexOf(doc);\n",
       "    if (i > -1) {\n",
       "      window.Bokeh.documents.splice(i, 1);\n",
       "    }\n",
       "  }\n",
       "}\n",
       "\n",
       "/**\n",
       " * Handle kernel restart event\n",
       " */\n",
       "function handle_kernel_cleanup(event, handle) {\n",
       "  delete PyViz.comms[\"hv-extension-comm\"];\n",
       "  window.PyViz.plot_index = {}\n",
       "}\n",
       "\n",
       "/**\n",
       " * Handle update_display_data messages\n",
       " */\n",
       "function handle_update_output(event, handle) {\n",
       "  handle_clear_output(event, {cell: {output_area: handle.output_area}})\n",
       "  handle_add_output(event, handle)\n",
       "}\n",
       "\n",
       "function register_renderer(events, OutputArea) {\n",
       "  function append_mime(data, metadata, element) {\n",
       "    // create a DOM node to render to\n",
       "    var toinsert = this.create_output_subarea(\n",
       "    metadata,\n",
       "    CLASS_NAME,\n",
       "    EXEC_MIME_TYPE\n",
       "    );\n",
       "    this.keyboard_manager.register_events(toinsert);\n",
       "    // Render to node\n",
       "    var props = {data: data, metadata: metadata[EXEC_MIME_TYPE]};\n",
       "    render(props, toinsert[0]);\n",
       "    element.append(toinsert);\n",
       "    return toinsert\n",
       "  }\n",
       "\n",
       "  events.on('output_added.OutputArea', handle_add_output);\n",
       "  events.on('output_updated.OutputArea', handle_update_output);\n",
       "  events.on('clear_output.CodeCell', handle_clear_output);\n",
       "  events.on('delete.Cell', handle_clear_output);\n",
       "  events.on('kernel_ready.Kernel', handle_kernel_cleanup);\n",
       "\n",
       "  OutputArea.prototype.register_mime_type(EXEC_MIME_TYPE, append_mime, {\n",
       "    safe: true,\n",
       "    index: 0\n",
       "  });\n",
       "}\n",
       "\n",
       "if (window.Jupyter !== undefined) {\n",
       "  try {\n",
       "    var events = require('base/js/events');\n",
       "    var OutputArea = require('notebook/js/outputarea').OutputArea;\n",
       "    if (OutputArea.prototype.mime_types().indexOf(EXEC_MIME_TYPE) == -1) {\n",
       "      register_renderer(events, OutputArea);\n",
       "    }\n",
       "  } catch(err) {\n",
       "  }\n",
       "}\n"
      ],
      "application/vnd.holoviews_load.v0+json": ""
     },
     "metadata": {},
     "output_type": "display_data"
    },
    {
     "data": {
      "text/html": [
       "<style>.bk-root, .bk-root .bk:before, .bk-root .bk:after {\n",
       "  font-family: var(--jp-ui-font-size1);\n",
       "  font-size: var(--jp-ui-font-size1);\n",
       "  color: var(--jp-ui-font-color1);\n",
       "}\n",
       "</style>"
      ]
     },
     "metadata": {},
     "output_type": "display_data"
    },
    {
     "data": {},
     "metadata": {},
     "output_type": "display_data"
    },
    {
     "data": {
      "application/vnd.holoviews_exec.v0+json": "",
      "text/html": [
       "<div id='1033'>\n",
       "  <div class=\"bk-root\" id=\"ab510751-0230-410c-a36f-098ed52d50b6\" data-root-id=\"1033\"></div>\n",
       "</div>\n",
       "<script type=\"application/javascript\">(function(root) {\n",
       "  function embed_document(root) {\n",
       "    var docs_json = {\"9746fe99-a379-4bc1-a192-463da4eed877\":{\"defs\":[{\"extends\":null,\"module\":null,\"name\":\"ReactiveHTML1\",\"overrides\":[],\"properties\":[]},{\"extends\":null,\"module\":null,\"name\":\"FlexBox1\",\"overrides\":[],\"properties\":[{\"default\":\"flex-start\",\"kind\":null,\"name\":\"align_content\"},{\"default\":\"flex-start\",\"kind\":null,\"name\":\"align_items\"},{\"default\":\"row\",\"kind\":null,\"name\":\"flex_direction\"},{\"default\":\"wrap\",\"kind\":null,\"name\":\"flex_wrap\"},{\"default\":\"flex-start\",\"kind\":null,\"name\":\"justify_content\"}]},{\"extends\":null,\"module\":null,\"name\":\"GridStack1\",\"overrides\":[],\"properties\":[{\"default\":\"warn\",\"kind\":null,\"name\":\"mode\"},{\"default\":null,\"kind\":null,\"name\":\"ncols\"},{\"default\":null,\"kind\":null,\"name\":\"nrows\"},{\"default\":true,\"kind\":null,\"name\":\"allow_resize\"},{\"default\":true,\"kind\":null,\"name\":\"allow_drag\"},{\"default\":[],\"kind\":null,\"name\":\"state\"}]},{\"extends\":null,\"module\":null,\"name\":\"click1\",\"overrides\":[],\"properties\":[{\"default\":\"\",\"kind\":null,\"name\":\"terminal_output\"},{\"default\":\"\",\"kind\":null,\"name\":\"debug_name\"},{\"default\":0,\"kind\":null,\"name\":\"clears\"}]},{\"extends\":null,\"module\":null,\"name\":\"NotificationAreaBase1\",\"overrides\":[],\"properties\":[{\"default\":\"bottom-right\",\"kind\":null,\"name\":\"position\"},{\"default\":0,\"kind\":null,\"name\":\"_clear\"}]},{\"extends\":null,\"module\":null,\"name\":\"NotificationArea1\",\"overrides\":[],\"properties\":[{\"default\":[],\"kind\":null,\"name\":\"notifications\"},{\"default\":\"bottom-right\",\"kind\":null,\"name\":\"position\"},{\"default\":0,\"kind\":null,\"name\":\"_clear\"},{\"default\":[{\"background\":\"#ffc107\",\"icon\":{\"className\":\"fas fa-exclamation-triangle\",\"color\":\"white\",\"tagName\":\"i\"},\"type\":\"warning\"},{\"background\":\"#007bff\",\"icon\":{\"className\":\"fas fa-info-circle\",\"color\":\"white\",\"tagName\":\"i\"},\"type\":\"info\"}],\"kind\":null,\"name\":\"types\"}]},{\"extends\":null,\"module\":null,\"name\":\"Notification\",\"overrides\":[],\"properties\":[{\"default\":null,\"kind\":null,\"name\":\"background\"},{\"default\":3000,\"kind\":null,\"name\":\"duration\"},{\"default\":null,\"kind\":null,\"name\":\"icon\"},{\"default\":\"\",\"kind\":null,\"name\":\"message\"},{\"default\":null,\"kind\":null,\"name\":\"notification_type\"},{\"default\":false,\"kind\":null,\"name\":\"_destroyed\"}]},{\"extends\":null,\"module\":null,\"name\":\"TemplateActions1\",\"overrides\":[],\"properties\":[{\"default\":0,\"kind\":null,\"name\":\"open_modal\"},{\"default\":0,\"kind\":null,\"name\":\"close_modal\"}]},{\"extends\":null,\"module\":null,\"name\":\"MaterialTemplateActions1\",\"overrides\":[],\"properties\":[{\"default\":0,\"kind\":null,\"name\":\"open_modal\"},{\"default\":0,\"kind\":null,\"name\":\"close_modal\"}]}],\"roots\":{\"references\":[{\"attributes\":{\"margin\":[5,5,5,5],\"name\":\"HTML00132\",\"sizing_mode\":\"stretch_width\",\"text\":\"\\ud14c\\ub450\\ub9ac\\uc640 \\uc678\\uacfd\\uc120\\uc5d0 \\ub354\\ud574 \\uadf8\\ub9bc\\uc790\\uae4c\\uc9c0, \\uc815\\ub9d0 \\uba4b\\uc9c0\\uc9c0 \\uc54a\\ub098\\uc694?\"},\"id\":\"1037\",\"type\":\"panel.models.markup.HTML\"},{\"attributes\":{\"margin\":[5,5,5,5],\"name\":\"HTML00132\",\"sizing_mode\":\"stretch_width\",\"text\":\"\\ud14c\\ub450\\ub9ac\\uc640 \\uc678\\uacfd\\uc120\\uc5d0 \\ub354\\ud574 \\uadf8\\ub9bc\\uc790\\uae4c\\uc9c0, \\uc815\\ub9d0 \\uba4b\\uc9c0\\uc9c0 \\uc54a\\ub098\\uc694?\"},\"id\":\"1035\",\"type\":\"panel.models.markup.HTML\"},{\"attributes\":{\"margin\":[5,5,5,5],\"name\":\"HTML00132\",\"sizing_mode\":\"stretch_width\",\"text\":\"\\ud14c\\ub450\\ub9ac\\uc640 \\uc678\\uacfd\\uc120\\uc5d0 \\ub354\\ud574 \\uadf8\\ub9bc\\uc790\\uae4c\\uc9c0, \\uc815\\ub9d0 \\uba4b\\uc9c0\\uc9c0 \\uc54a\\ub098\\uc694?\"},\"id\":\"1034\",\"type\":\"panel.models.markup.HTML\"},{\"attributes\":{\"client_comm_id\":\"4b25b3a0cbb64b78baaa5e9782fd7d65\",\"comm_id\":\"ea7b785470104bb4aadf6e43b772e89f\",\"plot_id\":\"1033\"},\"id\":\"1038\",\"type\":\"panel.models.comm_manager.CommManager\"},{\"attributes\":{\"children\":[{\"id\":\"1034\"},{\"id\":\"1035\"},{\"id\":\"1036\"},{\"id\":\"1037\"}],\"margin\":[0,0,0,0],\"name\":\"Column00134\",\"sizing_mode\":\"stretch_width\"},\"id\":\"1033\",\"type\":\"Column\"},{\"attributes\":{\"margin\":[5,5,5,5],\"name\":\"HTML00132\",\"sizing_mode\":\"stretch_width\",\"text\":\"\\ud14c\\ub450\\ub9ac\\uc640 \\uc678\\uacfd\\uc120\\uc5d0 \\ub354\\ud574 \\uadf8\\ub9bc\\uc790\\uae4c\\uc9c0, \\uc815\\ub9d0 \\uba4b\\uc9c0\\uc9c0 \\uc54a\\ub098\\uc694?\"},\"id\":\"1036\",\"type\":\"panel.models.markup.HTML\"}],\"root_ids\":[\"1033\",\"1038\"]},\"title\":\"Bokeh Application\",\"version\":\"2.4.3\"}};\n",
       "    var render_items = [{\"docid\":\"9746fe99-a379-4bc1-a192-463da4eed877\",\"root_ids\":[\"1033\"],\"roots\":{\"1033\":\"ab510751-0230-410c-a36f-098ed52d50b6\"}}];\n",
       "    root.Bokeh.embed.embed_items_notebook(docs_json, render_items);\n",
       "    for (const render_item of render_items) {\n",
       "      for (const root_id of render_item.root_ids) {\n",
       "\tconst id_el = document.getElementById(root_id)\n",
       "\tif (id_el.children.length && (id_el.children[0].className === 'bk-root')) {\n",
       "\t  const root_el = id_el.children[0]\n",
       "\t  root_el.id = root_el.id + '-rendered'\n",
       "\t}\n",
       "      }\n",
       "    }\n",
       "  }\n",
       "  if (root.Bokeh !== undefined && root.Bokeh.Panel !== undefined) {\n",
       "    embed_document(root);\n",
       "  } else {\n",
       "    var attempts = 0;\n",
       "    var timer = setInterval(function(root) {\n",
       "      if (root.Bokeh !== undefined && root.Bokeh.Panel !== undefined) {\n",
       "        clearInterval(timer);\n",
       "        embed_document(root);\n",
       "      } else if (document.readyState == \"complete\") {\n",
       "        attempts++;\n",
       "        if (attempts > 200) {\n",
       "          clearInterval(timer);\n",
       "          console.log(\"Bokeh: ERROR: Unable to run BokehJS code because BokehJS library is missing\");\n",
       "        }\n",
       "      }\n",
       "    }, 25, root)\n",
       "  }\n",
       "})(window);</script>"
      ],
      "text/plain": [
       "Column(sizing_mode='stretch_width')\n",
       "    [0] HTML(str, sizing_mode='stretch_width')\n",
       "    [1] HTML(str, sizing_mode='stretch_width')\n",
       "    [2] HTML(str, sizing_mode='stretch_width')\n",
       "    [3] HTML(str, sizing_mode='stretch_width')"
      ]
     },
     "execution_count": 6,
     "metadata": {
      "application/vnd.holoviews_exec.v0+json": {
       "id": "1033"
      }
     },
     "output_type": "execute_result"
    }
   ],
   "source": [
    "import panel as pn\n",
    "from panel import widgets as w\n",
    "\n",
    "import random\n",
    "\n",
    "css = \"\"\"css1 {\n",
    "  border: 0.5rem outset pink;\n",
    "  outline: 0.5rem solid khaki;\n",
    "  box-shadow: 0 0 0 2rem skyblue;\n",
    "  border-radius: 12px;\n",
    "  font: bold 1rem sans-serif;\n",
    "  margin: 2rem;\n",
    "  padding: 1rem;\n",
    "  outline-offset: 0.5rem;\n",
    "  width: stretch_width;\n",
    "}\n",
    "\"\"\"\n",
    "pn.extension(sizing_mode = 'stretch_width', raw_css = [css])\n",
    "\n",
    "rcolor = lambda: \"#%06x\" % random.randint(0, 0xFFFFFF)\n",
    "\n",
    "r = pn.pane.HTML('테두리와 외곽선에 더해 그림자까지, 정말 멋지지 않나요?')\n",
    "\n",
    "#r = pn.Row(pn.pane.HTML(background=rcolor()))\n",
    "pn.Column(r,r,r,r)"
   ]
  },
  {
   "cell_type": "code",
   "execution_count": null,
   "metadata": {},
   "outputs": [],
   "source": []
  }
 ],
 "metadata": {
  "interpreter": {
   "hash": "31f2aee4e71d21fbe5cf8b01ff0e069b9275f58929596ceb00d14d90e3e16cd6"
  },
  "kernelspec": {
   "display_name": "Python 3 (ipykernel)",
   "language": "python",
   "name": "python3"
  },
  "language_info": {
   "codemirror_mode": {
    "name": "ipython",
    "version": 3
   },
   "file_extension": ".py",
   "mimetype": "text/x-python",
   "name": "python",
   "nbconvert_exporter": "python",
   "pygments_lexer": "ipython3",
   "version": "3.10.6"
  }
 },
 "nbformat": 4,
 "nbformat_minor": 4
}

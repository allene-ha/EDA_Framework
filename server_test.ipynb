{
 "cells": [
  {
   "cell_type": "code",
   "execution_count": 5,
   "metadata": {},
   "outputs": [],
   "source": [
    "import pandas as pd\n",
    "from sklearn.model_selection import train_test_split\n",
    "import numpy as np\n",
    "\n",
    "# 2022년 5월 1일 0시부터 24시까지 1초 간격으로 timestamp 생성\n",
    "timestamp = pd.date_range(start='2022-05-01', end='2022-05-02', freq='S')[:-1]\n",
    "\n",
    "# 0부터 1까지의 랜덤한 값을 생성하여 value로 설정\n",
    "value = np.random.rand(len(timestamp))\n",
    "\n",
    "# 간헐적으로 발생하는 anomaly 추가\n",
    "for i in range(0, len(timestamp), 500):\n",
    "    value[i:i+50] += np.random.normal(loc=2, scale=0.5, size=50)\n",
    "    \n",
    "# timestamp와 value로 이루어진 데이터프레임 생성\n",
    "df = pd.DataFrame({'timestamp': timestamp, 'value': value})\n",
    "\n",
    "# 데이터셋을 train과 test 데이터셋으로 나눔 (train : test = 7 : 3)\n",
    "train_data, test_data = train_test_split(df, test_size=0.3, random_state=42)\n"
   ]
  },
  {
   "cell_type": "code",
   "execution_count": 2,
   "metadata": {},
   "outputs": [],
   "source": [
    "hyperparameters = {'keras.Sequential.LSTMTimeSeriesRegressor#1': {'epochs': 1}}\n",
    "                   \n",
    "orion = Orion(\n",
    "     pipeline='lstm_dynamic_threshold',\n",
    "     hyperparameters=hyperparameters)"
   ]
  },
  {
   "cell_type": "code",
   "execution_count": 3,
   "metadata": {},
   "outputs": [],
   "source": [
    "master_url_root = \"https://raw.githubusercontent.com/numenta/NAB/master/data/\"\n",
    "\n",
    "df_small_noise_url_suffix = \"artificialNoAnomaly/art_daily_small_noise.csv\"\n",
    "df_small_noise_url = master_url_root + df_small_noise_url_suffix\n",
    "df_small_noise = pd.read_csv(\n",
    "    df_small_noise_url, parse_dates=True, index_col=\"timestamp\"\n",
    ")\n",
    "\n",
    "df_daily_jumpsup_url_suffix = \"artificialWithAnomaly/art_daily_jumpsup.csv\"\n",
    "df_daily_jumpsup_url = master_url_root + df_daily_jumpsup_url_suffix\n",
    "df_daily_jumpsup = pd.read_csv(\n",
    "    df_daily_jumpsup_url, parse_dates=True, index_col=\"timestamp\"\n",
    ")"
   ]
  },
  {
   "cell_type": "code",
   "execution_count": 4,
   "metadata": {},
   "outputs": [
    {
     "name": "stdout",
     "output_type": "stream",
     "text": [
      "                         value\n",
      "timestamp                     \n",
      "2014-04-01 00:00:00  18.324919\n",
      "2014-04-01 00:05:00  21.970327\n",
      "2014-04-01 00:10:00  18.624806\n",
      "2014-04-01 00:15:00  21.953684\n",
      "2014-04-01 00:20:00  21.909120\n",
      "                         value\n",
      "timestamp                     \n",
      "2014-04-01 00:00:00  19.761252\n",
      "2014-04-01 00:05:00  20.500833\n",
      "2014-04-01 00:10:00  19.961641\n",
      "2014-04-01 00:15:00  21.490266\n",
      "2014-04-01 00:20:00  20.187739\n"
     ]
    }
   ],
   "source": [
    "print(df_small_noise.head())\n",
    "\n",
    "print(df_daily_jumpsup.head())"
   ]
  },
  {
   "cell_type": "code",
   "execution_count": 5,
   "metadata": {},
   "outputs": [
    {
     "name": "stdout",
     "output_type": "stream",
     "text": [
      "Number of training samples: 4032\n"
     ]
    }
   ],
   "source": [
    "training_mean = df_small_noise.mean()\n",
    "training_std = df_small_noise.std()\n",
    "df_training_value = (df_small_noise - training_mean) / training_std\n",
    "print(\"Number of training samples:\", len(df_training_value))"
   ]
  },
  {
   "cell_type": "code",
   "execution_count": 6,
   "metadata": {},
   "outputs": [
    {
     "name": "stdout",
     "output_type": "stream",
     "text": [
      "Training input shape:  (3745, 288, 1)\n"
     ]
    }
   ],
   "source": []
  },
  {
   "cell_type": "code",
   "execution_count": 1,
   "metadata": {},
   "outputs": [
    {
     "name": "stderr",
     "output_type": "stream",
     "text": [
      "2023-05-12 01:25:14.592805: I tensorflow/stream_executor/platform/default/dso_loader.cc:48] Successfully opened dynamic library libcudart.so.10.1\n"
     ]
    }
   ],
   "source": [
    "from typing import List, Union\n",
    "\n",
    "import pandas as pd\n",
    "from sklearn.model_selection import train_test_split\n",
    "import numpy as np\n",
    "\n",
    "from orion import Orion\n",
    "\n",
    "hyperparameters = {\n",
    "    'keras.Sequential.LSTMTimeSeriesRegressor#1': {\n",
    "        'epochs': 1,\n",
    "        'verbose': True\n",
    "    }\n",
    "}\n",
    "\n",
    "orion = Orion(\n",
    "    pipeline='lstm_dynamic_threshold',\n",
    "    hyperparameters=hyperparameters\n",
    ")\n",
    "\n",
    "# 2022년 5월 1일 0시부터 24시까지 1초 간격으로 timestamp 생성\n",
    "timestamp = pd.date_range(start='2022-05-01', end='2022-05-02', freq='S')[:-1]\n",
    "\n",
    "# 0부터 1까지의 랜덤한 값을 생성하여 value로 설정\n",
    "value = np.random.rand(len(timestamp))\n",
    "\n",
    "# 간헐적으로 발생하는 anomaly 추가\n",
    "for i in range(0, len(timestamp), 500):\n",
    "    value[i:i+50] += np.random.normal(loc=2, scale=0.5, size=50)\n",
    "    \n",
    "# timestamp와 value로 이루어진 데이터프레임 생성\n",
    "df = pd.DataFrame({'timestamp': timestamp, 'value': value})\n",
    "\n",
    "# 데이터셋을 train과 test 데이터셋으로 나눔 (train : test = 7 : 3)\n",
    "train_data, test_data = train_test_split(df, test_size=0.3, random_state=42)\n"
   ]
  },
  {
   "cell_type": "code",
   "execution_count": null,
   "metadata": {},
   "outputs": [],
   "source": [
    "orion.fit(train_data)"
   ]
  },
  {
   "cell_type": "code",
   "execution_count": null,
   "metadata": {},
   "outputs": [],
   "source": [
    "anomalies = orion.detect(test_data)"
   ]
  },
  {
   "cell_type": "code",
   "execution_count": 18,
   "metadata": {},
   "outputs": [
    {
     "data": {
      "text/html": [
       "<div>\n",
       "<style scoped>\n",
       "    .dataframe tbody tr th:only-of-type {\n",
       "        vertical-align: middle;\n",
       "    }\n",
       "\n",
       "    .dataframe tbody tr th {\n",
       "        vertical-align: top;\n",
       "    }\n",
       "\n",
       "    .dataframe thead th {\n",
       "        text-align: right;\n",
       "    }\n",
       "</style>\n",
       "<table border=\"1\" class=\"dataframe\">\n",
       "  <thead>\n",
       "    <tr style=\"text-align: right;\">\n",
       "      <th></th>\n",
       "      <th>timestamp</th>\n",
       "      <th>cpu_percent</th>\n",
       "    </tr>\n",
       "  </thead>\n",
       "  <tbody>\n",
       "    <tr>\n",
       "      <th>0</th>\n",
       "      <td>2023-05-15 13:57:14.959774</td>\n",
       "      <td>3.1</td>\n",
       "    </tr>\n",
       "    <tr>\n",
       "      <th>1</th>\n",
       "      <td>2023-05-15 13:57:24.959774</td>\n",
       "      <td>5.9</td>\n",
       "    </tr>\n",
       "    <tr>\n",
       "      <th>2</th>\n",
       "      <td>2023-05-15 13:57:34.959774</td>\n",
       "      <td>6.6</td>\n",
       "    </tr>\n",
       "    <tr>\n",
       "      <th>3</th>\n",
       "      <td>2023-05-15 13:57:44.959774</td>\n",
       "      <td>6.3</td>\n",
       "    </tr>\n",
       "    <tr>\n",
       "      <th>4</th>\n",
       "      <td>2023-05-15 13:57:54.959774</td>\n",
       "      <td>4.8</td>\n",
       "    </tr>\n",
       "    <tr>\n",
       "      <th>...</th>\n",
       "      <td>...</td>\n",
       "      <td>...</td>\n",
       "    </tr>\n",
       "    <tr>\n",
       "      <th>89</th>\n",
       "      <td>2023-05-15 14:12:04.959774</td>\n",
       "      <td>5.8</td>\n",
       "    </tr>\n",
       "    <tr>\n",
       "      <th>90</th>\n",
       "      <td>2023-05-15 14:12:14.959774</td>\n",
       "      <td>4.8</td>\n",
       "    </tr>\n",
       "    <tr>\n",
       "      <th>91</th>\n",
       "      <td>2023-05-15 14:12:24.959774</td>\n",
       "      <td>5.2</td>\n",
       "    </tr>\n",
       "    <tr>\n",
       "      <th>92</th>\n",
       "      <td>2023-05-15 14:12:34.959774</td>\n",
       "      <td>6.2</td>\n",
       "    </tr>\n",
       "    <tr>\n",
       "      <th>93</th>\n",
       "      <td>2023-05-15 14:12:44.959774</td>\n",
       "      <td>6.3</td>\n",
       "    </tr>\n",
       "  </tbody>\n",
       "</table>\n",
       "<p>94 rows × 2 columns</p>\n",
       "</div>"
      ],
      "text/plain": [
       "                    timestamp  cpu_percent\n",
       "0  2023-05-15 13:57:14.959774          3.1\n",
       "1  2023-05-15 13:57:24.959774          5.9\n",
       "2  2023-05-15 13:57:34.959774          6.6\n",
       "3  2023-05-15 13:57:44.959774          6.3\n",
       "4  2023-05-15 13:57:54.959774          4.8\n",
       "..                        ...          ...\n",
       "89 2023-05-15 14:12:04.959774          5.8\n",
       "90 2023-05-15 14:12:14.959774          4.8\n",
       "91 2023-05-15 14:12:24.959774          5.2\n",
       "92 2023-05-15 14:12:34.959774          6.2\n",
       "93 2023-05-15 14:12:44.959774          6.3\n",
       "\n",
       "[94 rows x 2 columns]"
      ]
     },
     "execution_count": 18,
     "metadata": {},
     "output_type": "execute_result"
    }
   ],
   "source": [
    "df = pd.read_csv('data.csv')\n",
    "\n",
    "start_time = pd.Timestamp.now()  # 현재 시간을 시작 시간으로 설정\n",
    "\n",
    "df['timestamp'] = pd.date_range(start=start_time, periods=179, freq='10S')\n",
    "\n",
    "separate = '2023-05-15 14:12:52.811248'\n",
    "train_df = df[df['timestamp']< separate]\n",
    "test_df = df[df['timestamp']>= separate]\n",
    "\n",
    "train_df"
   ]
  },
  {
   "cell_type": "code",
   "execution_count": 3,
   "metadata": {},
   "outputs": [
    {
     "ename": "ImportError",
     "evalue": "cannot import name 'TimeSeries' from 'darts' (/home/eda_framework_visualization/darts.py)",
     "output_type": "error",
     "traceback": [
      "\u001b[0;31m---------------------------------------------------------------------------\u001b[0m",
      "\u001b[0;31mImportError\u001b[0m                               Traceback (most recent call last)",
      "Cell \u001b[0;32mIn[3], line 1\u001b[0m\n\u001b[0;32m----> 1\u001b[0m \u001b[38;5;28;01mfrom\u001b[39;00m \u001b[38;5;21;01mdarts\u001b[39;00m \u001b[38;5;28;01mimport\u001b[39;00m TimeSeries\n\u001b[1;32m      4\u001b[0m \u001b[38;5;66;03m# Create a TimeSeries, specifying the time and value columns\u001b[39;00m\n\u001b[1;32m      5\u001b[0m train_series \u001b[38;5;241m=\u001b[39m TimeSeries\u001b[38;5;241m.\u001b[39mfrom_dataframe(train_df, \u001b[38;5;124m\"\u001b[39m\u001b[38;5;124mtimestamp\u001b[39m\u001b[38;5;124m\"\u001b[39m, \u001b[38;5;124m\"\u001b[39m\u001b[38;5;124mcpu_percent\u001b[39m\u001b[38;5;124m\"\u001b[39m)\n",
      "\u001b[0;31mImportError\u001b[0m: cannot import name 'TimeSeries' from 'darts' (/home/eda_framework_visualization/darts.py)"
     ]
    }
   ],
   "source": [
    "from darts import TimeSeries\n",
    "\n",
    "\n",
    "# Create a TimeSeries, specifying the time and value columns\n",
    "train_series = TimeSeries.from_dataframe(train_df, \"timestamp\", \"cpu_percent\")\n",
    "test_series = TimeSeries.from_dataframe(test_df, \"timestamp\", \"cpu_percent\")\n"
   ]
  },
  {
   "cell_type": "code",
   "execution_count": 4,
   "metadata": {},
   "outputs": [
    {
     "ename": "ModuleNotFoundError",
     "evalue": "No module named 'darts.ad'; 'darts' is not a package",
     "output_type": "error",
     "traceback": [
      "\u001b[0;31m---------------------------------------------------------------------------\u001b[0m",
      "\u001b[0;31mModuleNotFoundError\u001b[0m                       Traceback (most recent call last)",
      "Cell \u001b[0;32mIn[4], line 1\u001b[0m\n\u001b[0;32m----> 1\u001b[0m \u001b[38;5;28;01mfrom\u001b[39;00m \u001b[38;5;21;01mdarts\u001b[39;00m\u001b[38;5;21;01m.\u001b[39;00m\u001b[38;5;21;01mad\u001b[39;00m\u001b[38;5;21;01m.\u001b[39;00m\u001b[38;5;21;01mscorers\u001b[39;00m \u001b[38;5;28;01mimport\u001b[39;00m kmeans_scorer\n\u001b[1;32m      3\u001b[0m model \u001b[38;5;241m=\u001b[39m kmeans_scorer\u001b[38;5;241m.\u001b[39mKMeansScorer()\n",
      "\u001b[0;31mModuleNotFoundError\u001b[0m: No module named 'darts.ad'; 'darts' is not a package"
     ]
    }
   ],
   "source": [
    "from darts.ad.scorers import kmeans_scorer\n",
    "\n",
    "model = kmeans_scorer.KMeansScorer()\n"
   ]
  },
  {
   "cell_type": "code",
   "execution_count": 24,
   "metadata": {},
   "outputs": [],
   "source": [
    "model.fit(train_series)"
   ]
  },
  {
   "cell_type": "code",
   "execution_count": 2,
   "metadata": {},
   "outputs": [
    {
     "ename": "NameError",
     "evalue": "name 'model' is not defined",
     "output_type": "error",
     "traceback": [
      "\u001b[0;31m---------------------------------------------------------------------------\u001b[0m",
      "\u001b[0;31mNameError\u001b[0m                                 Traceback (most recent call last)",
      "Cell \u001b[0;32mIn[2], line 1\u001b[0m\n\u001b[0;32m----> 1\u001b[0m anom_score \u001b[38;5;241m=\u001b[39m \u001b[43mmodel\u001b[49m\u001b[38;5;241m.\u001b[39mscore(test_series)\n",
      "\u001b[0;31mNameError\u001b[0m: name 'model' is not defined"
     ]
    }
   ],
   "source": [
    "anom_score = model.score(test_series)"
   ]
  },
  {
   "cell_type": "code",
   "execution_count": 1,
   "metadata": {},
   "outputs": [
    {
     "ename": "NameError",
     "evalue": "name 'anom_score' is not defined",
     "output_type": "error",
     "traceback": [
      "\u001b[0;31m---------------------------------------------------------------------------\u001b[0m",
      "\u001b[0;31mNameError\u001b[0m                                 Traceback (most recent call last)",
      "Cell \u001b[0;32mIn[1], line 1\u001b[0m\n\u001b[0;32m----> 1\u001b[0m \u001b[43manom_score\u001b[49m\u001b[38;5;241m.\u001b[39mplot()\n\u001b[1;32m      2\u001b[0m anom_df \u001b[38;5;241m=\u001b[39m anom_score\u001b[38;5;241m.\u001b[39mpd_dataframe(columns \u001b[38;5;241m=\u001b[39m [\u001b[38;5;124m'\u001b[39m\u001b[38;5;124mtimestamp\u001b[39m\u001b[38;5;124m'\u001b[39m, \u001b[38;5;124m'\u001b[39m\u001b[38;5;124mcpu\u001b[39m\u001b[38;5;124m'\u001b[39m]) \n\u001b[1;32m      3\u001b[0m df\n",
      "\u001b[0;31mNameError\u001b[0m: name 'anom_score' is not defined"
     ]
    }
   ],
   "source": [
    "anom_score.plot()\n",
    "anom_df = anom_score.pd_dataframe(columns = ['timestamp', 'cpu']) \n",
    "df"
   ]
  },
  {
   "cell_type": "code",
   "execution_count": null,
   "metadata": {},
   "outputs": [],
   "source": []
  }
 ],
 "metadata": {
  "interpreter": {
   "hash": "1fda7279c5879c9cede7966f3af2be53cb94aa59c9e30027dd05fdae59ea7e5a"
  },
  "kernelspec": {
   "display_name": "Python 3.10.9 ('darts')",
   "language": "python",
   "name": "python3"
  },
  "language_info": {
   "codemirror_mode": {
    "name": "ipython",
    "version": 3
   },
   "file_extension": ".py",
   "mimetype": "text/x-python",
   "name": "python",
   "nbconvert_exporter": "python",
   "pygments_lexer": "ipython3",
   "version": "3.10.9"
  }
 },
 "nbformat": 4,
 "nbformat_minor": 4
}

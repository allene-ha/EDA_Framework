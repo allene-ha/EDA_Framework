{
 "cells": [
  {
   "cell_type": "code",
   "execution_count": 5,
   "metadata": {},
   "outputs": [
    {
     "name": "stdout",
     "output_type": "stream",
     "text": [
      " * Serving Flask app '__main__'\n",
      " * Debug mode: off\n"
     ]
    },
    {
     "name": "stderr",
     "output_type": "stream",
     "text": [
      "\u001b[31m\u001b[1mWARNING: This is a development server. Do not use it in a production deployment. Use a production WSGI server instead.\u001b[0m\n",
      " * Running on http://eda:80\n",
      "\u001b[33mPress CTRL+C to quit\u001b[0m\n",
      "172.180.9.2 - - [25/Apr/2023 17:46:30] \"GET /data HTTP/1.1\" 200 -\n"
     ]
    }
   ],
   "source": [
    "import psycopg2\n",
    "from flask import Flask\n",
    "\n",
    "app = Flask(__name__)\n",
    "\n",
    "@app.route('/data')\n",
    "def get_data():\n",
    "    # 클라이언트의 DB에 접속합니다.\n",
    "    conn = psycopg2.connect(\n",
    "        host=\"eda-client\",\n",
    "        database=\"test_cli\",\n",
    "        user=\"postgres\",\n",
    "        password=\"postgres\",\n",
    "        port=\"5432\"\n",
    "    )\n",
    "\n",
    "    # 데이터를 수집합니다.\n",
    "    cur = conn.cursor()\n",
    "    cur.execute(\"SELECT * FROM users\")\n",
    "    data = cur.fetchall()\n",
    "\n",
    "    # 응답을 생성합니다.\n",
    "    response = \"\\n\".join(str(row) for row in data)\n",
    "    return response\n",
    "\n",
    "if __name__ == '__main__':\n",
    "    app.run(host=\"eda\", port=80)\n"
   ]
  },
  {
   "cell_type": "code",
   "execution_count": 21,
   "metadata": {},
   "outputs": [
    {
     "name": "stdout",
     "output_type": "stream",
     "text": [
      " * Serving Flask app '__main__'\n",
      " * Debug mode: off\n"
     ]
    },
    {
     "name": "stderr",
     "output_type": "stream",
     "text": [
      "\u001b[31m\u001b[1mWARNING: This is a development server. Do not use it in a production deployment. Use a production WSGI server instead.\u001b[0m\n",
      " * Running on all addresses (0.0.0.0)\n",
      " * Running on http://127.0.0.1:80\n",
      " * Running on http://172.180.9.3:80\n",
      "\u001b[33mPress CTRL+C to quit\u001b[0m\n",
      "172.180.9.2 - - [26/Apr/2023 14:33:34] \"POST /config HTTP/1.1\" 200 -\n"
     ]
    },
    {
     "name": "stdout",
     "output_type": "stream",
     "text": [
      "{'db_type': 'postgres', 'db_host': 'eda-client', 'db_name': 'test_cli', 'db_user': 'postgres', 'db_password': 'postgres', 'db_port': '5432', 'interval': 10}\n",
      "34c48061-022a-4224-9ce7-8a3917ed40d5 postgres eda-client 5432 test_cli postgres postgres\n"
     ]
    }
   ],
   "source": [
    "import os\n",
    "import psycopg2\n",
    "from flask import Flask, request\n",
    "from apscheduler.schedulers.background import BackgroundScheduler\n",
    "import uuid\n",
    "\n",
    "app = Flask(__name__)\n",
    "scheduler = BackgroundScheduler()\n",
    "\n",
    "@app.route('/config', methods=['POST'])\n",
    "def get_config():\n",
    "    # Get database configuration data from the client request\n",
    "    data = request.get_json()\n",
    "    db_type = data['db_type']\n",
    "    db_host = data['db_host']\n",
    "    db_port = data['db_port']\n",
    "    db_name = data['db_name']\n",
    "    db_user = data['db_user']\n",
    "    db_password = data['db_password']\n",
    "    \n",
    "    server_conn = psycopg2.connect(\n",
    "        host='localhost',\n",
    "        database='eda',\n",
    "        user='postgres',\n",
    "        password='postgres'\n",
    "    )\n",
    "    \n",
    "    # Add collect_metrics function to the scheduler\n",
    "    # Check if the input DB configuration already exists in the database\n",
    "    cur = server_conn.cursor()\n",
    "    cur.execute(\"\"\"\n",
    "        SELECT id\n",
    "        FROM db_config\n",
    "        WHERE db_type = %s AND db_host = %s AND db_port = %s AND db_name = %s AND db_user = %s;\n",
    "    \"\"\", (db_type, db_host, db_port, db_name, db_user))\n",
    "    result = cur.fetchone()\n",
    "\n",
    "    if result:\n",
    "        # If the input DB configuration already exists in the database, use the existing ID\n",
    "        db_id = result[0]\n",
    "    else:\n",
    "        # If the input DB configuration does not exist in the database, generate a new ID\n",
    "        db_id = str(uuid.uuid4())\n",
    "        print(db_id, db_type, db_host, db_port, db_name, db_user, db_password)\n",
    "        # Store the new DB ID and configuration in the database\n",
    "        cur.execute(\"\"\"\n",
    "            INSERT INTO db_config (id, db_type, db_host, db_port, db_name, db_user, db_password)\n",
    "            VALUES (%s, %s, %s, %s, %s, %s, %s);\n",
    "        \"\"\", (db_id, db_type, db_host, db_port, db_name, db_user, db_password))\n",
    "        server_conn.commit()\n",
    "\n",
    "    # Return the DB ID to the client\n",
    "    # scheduler.add_job(collect_metrics, 'interval', minutes=1)\n",
    "    # scheduler.start()\n",
    "\n",
    "    # Return a success response\n",
    "    return f\"{db_id}Database configuration data received successfully!\"\n",
    "\n",
    "def collect_metrics():\n",
    "    # Get database configuration from environment variables\n",
    "    db_host = os.environ.get('DB_HOST')\n",
    "    db_port = os.environ.get('DB_PORT')\n",
    "    db_name = os.environ.get('DB_NAME')\n",
    "    db_user = os.environ.get('DB_USER')\n",
    "    db_password = os.environ.get('DB_PASSWORD')\n",
    "\n",
    "    # Connect to the client database and collect metrics\n",
    "    conn = psycopg2.connect(\n",
    "        host=db_host,\n",
    "        port=db_port,\n",
    "        database=db_name,\n",
    "        user=db_user,\n",
    "        password=db_password\n",
    "    )\n",
    "    \n",
    "    # Run queries to collect metrics and store them in a file or database\n",
    "\n",
    "if __name__ == '__main__':\n",
    "    app.run(host=\"0.0.0.0\", port=80)"
   ]
  },
  {
   "cell_type": "code",
   "execution_count": null,
   "metadata": {},
   "outputs": [],
   "source": []
  }
 ],
 "metadata": {
  "interpreter": {
   "hash": "31f2aee4e71d21fbe5cf8b01ff0e069b9275f58929596ceb00d14d90e3e16cd6"
  },
  "kernelspec": {
   "display_name": "Python 3.8.10 64-bit",
   "language": "python",
   "name": "python3"
  },
  "language_info": {
   "codemirror_mode": {
    "name": "ipython",
    "version": 3
   },
   "file_extension": ".py",
   "mimetype": "text/x-python",
   "name": "python",
   "nbconvert_exporter": "python",
   "pygments_lexer": "ipython3",
   "version": "3.8.10"
  },
  "orig_nbformat": 4
 },
 "nbformat": 4,
 "nbformat_minor": 2
}
